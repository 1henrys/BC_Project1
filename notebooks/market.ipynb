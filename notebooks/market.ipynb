{
 "cells": [
  {
   "cell_type": "code",
   "execution_count": 1,
   "metadata": {},
   "outputs": [],
   "source": [
    "import pandas as pd\n",
    "import requests\n",
    "import dotenv\n",
    "import os\n",
    "import json\n",
    "from pathlib import Path\n",
    "import numpy\n",
    "from datetime import datetime\n",
    "import dateutil.parser"
   ]
  },
  {
   "cell_type": "code",
   "execution_count": 2,
   "metadata": {},
   "outputs": [
    {
     "data": {
      "text/plain": [
       "True"
      ]
     },
     "execution_count": 2,
     "metadata": {},
     "output_type": "execute_result"
    }
   ],
   "source": [
    "dotenv.load_dotenv()"
   ]
  },
  {
   "cell_type": "code",
   "execution_count": 23,
   "metadata": {},
   "outputs": [],
   "source": [
    "ms_api_key = os.getenv(\"MARKETSTACK_API_KEY\")\n",
    "symbols = 'GSPC.INDX'\n",
    "ms_api_options = {'symbols': symbols, 'access_key': ms_api_key, 'limit': '3000'}"
   ]
  },
  {
   "cell_type": "code",
   "execution_count": 24,
   "metadata": {},
   "outputs": [],
   "source": [
    "#ms_request_url = \"https://api.marketstack.com/v1/exchanges/INDX/tickers?\"\n",
    "ms_request_url = \"https://api.marketstack.com/v1/eod\"\n",
    "#ms_request_url = ms_request_url + ms_api_key_string + \"&limit=3000\" &sort=DESC&date_from=YYYY-MM-DD&date_to=YYYY-MM-DD&offset=0"
   ]
  },
  {
   "cell_type": "code",
<<<<<<< HEAD
   "execution_count": null,
   "metadata": {},
   "outputs": [],
   "source": [
    "date_from = pd.Timestamp(\"2010-11-04\", tz=\"America/New_York\").isoformat()\n",
    "date_to = pd.Timestamp(\"2020-11-04\", tz=\"America/New_York\").isoformat()\n",
    "\n",
    "params = {\n",
    "  'access_key': ms_api_key,\n",
    "  'symbols' = symbols,\n",
    "  'exchange' = exchange,\n",
    "  'interval' = '24h',\n",
    "  'date_from' = date_from,\n",
    "  'date-to' = date_to\n",
    "}\n",
    "api_result = requests.get('https://api.marketstack.com/v1/tickers/aapl/eod', params)"
   ]
  },
  {
   "cell_type": "code",
   "execution_count": 116,
=======
   "execution_count": 25,
>>>>>>> bd45c09e4e48f0029ad2d0dda30889e9f7c769ed
   "metadata": {},
   "outputs": [],
   "source": [
    "# Execute get request\n",
    "ms_response_data = requests.get(ms_request_url, ms_api_options)\n",
    "ms_data = ms_response_data.json()\n",
    "#print(json.dumps(data, indent=4))\n",
    "ms_list = ms_data[\"data\"]"
   ]
  },
  {
   "cell_type": "code",
   "execution_count": 26,
   "metadata": {},
   "outputs": [
    {
     "name": "stdout",
     "output_type": "stream",
     "text": [
      "            sp500_adj_closing\n",
      "date                         \n",
      "2020-11-04          3443.4399\n",
      "2020-11-03          3369.1599\n",
      "2020-11-02          3310.2400\n",
      "2020-10-30          3269.9600\n",
      "2020-10-29          3310.1101\n",
      "...                       ...\n",
      "2010-11-11          1213.5400\n",
      "2010-11-10          1218.7100\n",
      "2010-11-09          1213.4000\n",
      "2010-11-08          1223.2500\n",
      "2010-11-05          1225.8500\n",
      "\n",
      "[2516 rows x 1 columns]\n"
     ]
    }
   ],
   "source": [
    "column_list = ['date', 'sp500_adj_closing']\n",
    "sp500_df = pd.DataFrame(columns=column_list)\n",
    "\n",
    "for dict in ms_list: \n",
    "    for list in dict: \n",
    "        if list == \"date\":\n",
    "            temp_date = str(dateutil.parser.parse(dict[list]).date())\n",
    "            temp_date = datetime.strptime(temp_date, '%Y-%m-%d')\n",
    "            #print(temp_date)\n",
    "        elif list == \"adj_close\":\n",
    "            temp_close = dict[list] \n",
    "            \n",
    "    new_row = {'date':temp_date, 'sp500_adj_closing':temp_close}\n",
    "    sp500_df = sp500_df.append(new_row, ignore_index=True)                 \n",
    "    \n",
    "sp500_df = sp500_df.set_index(['date'])  \n",
    "print(sp500_df)"
   ]
  },
  {
   "cell_type": "code",
   "execution_count": null,
   "metadata": {},
   "outputs": [],
   "source": []
  }
 ],
 "metadata": {
  "kernelspec": {
   "display_name": "Python 3",
   "language": "python",
   "name": "python3"
  },
  "language_info": {
   "codemirror_mode": {
    "name": "ipython",
    "version": 3
   },
   "file_extension": ".py",
   "mimetype": "text/x-python",
   "name": "python",
   "nbconvert_exporter": "python",
   "pygments_lexer": "ipython3",
   "version": "3.8.3"
  }
 },
 "nbformat": 4,
 "nbformat_minor": 4
}
