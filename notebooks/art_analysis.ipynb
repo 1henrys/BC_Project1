{
 "cells": [
  {
   "cell_type": "code",
   "execution_count": 91,
   "metadata": {},
   "outputs": [],
   "source": [
    "import pandas as pd\n",
    "from pathlib import Path\n",
    "import matplotlib\n",
    "import hvplot.pandas\n",
    "import plotly.express as px\n",
    "\n",
    "%matplotlib inline"
   ]
  },
  {
   "cell_type": "code",
   "execution_count": 84,
   "metadata": {},
   "outputs": [],
   "source": [
    "# Data source & Art Prices:\n",
    "# Copyright © Artprice.com\n",
    "# Indexes are calculated based on all Fine Art auction results (paintings, sculptures, drawings, photographs, prints, watercolors, etc.) recorded by Artprice.com, apart from antiques and furniture. \n",
    "# Auction results are converted in USD, if no other specification.\n",
    "\n",
    "file_path = Path(\"../data_imports/Artprice_Indexes_Quarterly_data_Base100_January1998.csv\")"
   ]
  },
  {
   "cell_type": "code",
   "execution_count": 85,
   "metadata": {},
   "outputs": [
    {
     "data": {
      "text/html": [
       "<div>\n",
       "<style scoped>\n",
       "    .dataframe tbody tr th:only-of-type {\n",
       "        vertical-align: middle;\n",
       "    }\n",
       "\n",
       "    .dataframe tbody tr th {\n",
       "        vertical-align: top;\n",
       "    }\n",
       "\n",
       "    .dataframe thead th {\n",
       "        text-align: right;\n",
       "    }\n",
       "</style>\n",
       "<table border=\"1\" class=\"dataframe\">\n",
       "  <thead>\n",
       "    <tr style=\"text-align: right;\">\n",
       "      <th></th>\n",
       "      <th>Unnamed: 0</th>\n",
       "      <th>Global Index (USD)</th>\n",
       "      <th>Global Index (EUR)</th>\n",
       "      <th>Painting</th>\n",
       "      <th>Sculpture</th>\n",
       "      <th>Photography</th>\n",
       "      <th>Drawing</th>\n",
       "      <th>Print</th>\n",
       "      <th>19th Century</th>\n",
       "      <th>Modern Art</th>\n",
       "      <th>Post-War</th>\n",
       "      <th>Contemporary</th>\n",
       "      <th>USA (USD)</th>\n",
       "      <th>UK (GBP)</th>\n",
       "      <th>France (EUR)</th>\n",
       "    </tr>\n",
       "  </thead>\n",
       "  <tbody>\n",
       "    <tr>\n",
       "      <th>0</th>\n",
       "      <td>1/1/1998</td>\n",
       "      <td>100</td>\n",
       "      <td>100</td>\n",
       "      <td>100</td>\n",
       "      <td>100</td>\n",
       "      <td>100</td>\n",
       "      <td>100</td>\n",
       "      <td>100</td>\n",
       "      <td>100</td>\n",
       "      <td>100</td>\n",
       "      <td>100</td>\n",
       "      <td>100</td>\n",
       "      <td>105</td>\n",
       "      <td>100</td>\n",
       "      <td>100</td>\n",
       "    </tr>\n",
       "    <tr>\n",
       "      <th>1</th>\n",
       "      <td>4/1/1998</td>\n",
       "      <td>107</td>\n",
       "      <td>110</td>\n",
       "      <td>109</td>\n",
       "      <td>139</td>\n",
       "      <td>96</td>\n",
       "      <td>104</td>\n",
       "      <td>114</td>\n",
       "      <td>110</td>\n",
       "      <td>98</td>\n",
       "      <td>114</td>\n",
       "      <td>101</td>\n",
       "      <td>104</td>\n",
       "      <td>98</td>\n",
       "      <td>107</td>\n",
       "    </tr>\n",
       "    <tr>\n",
       "      <th>2</th>\n",
       "      <td>7/1/1998</td>\n",
       "      <td>106</td>\n",
       "      <td>106</td>\n",
       "      <td>107</td>\n",
       "      <td>133</td>\n",
       "      <td>94</td>\n",
       "      <td>106</td>\n",
       "      <td>127</td>\n",
       "      <td>118</td>\n",
       "      <td>97</td>\n",
       "      <td>112</td>\n",
       "      <td>109</td>\n",
       "      <td>100</td>\n",
       "      <td>95</td>\n",
       "      <td>105</td>\n",
       "    </tr>\n",
       "    <tr>\n",
       "      <th>3</th>\n",
       "      <td>10/1/1998</td>\n",
       "      <td>96</td>\n",
       "      <td>96</td>\n",
       "      <td>103</td>\n",
       "      <td>128</td>\n",
       "      <td>85</td>\n",
       "      <td>109</td>\n",
       "      <td>123</td>\n",
       "      <td>122</td>\n",
       "      <td>94</td>\n",
       "      <td>102</td>\n",
       "      <td>114</td>\n",
       "      <td>102</td>\n",
       "      <td>97</td>\n",
       "      <td>100</td>\n",
       "    </tr>\n",
       "    <tr>\n",
       "      <th>4</th>\n",
       "      <td>1/1/1999</td>\n",
       "      <td>104</td>\n",
       "      <td>100</td>\n",
       "      <td>107</td>\n",
       "      <td>132</td>\n",
       "      <td>84</td>\n",
       "      <td>108</td>\n",
       "      <td>109</td>\n",
       "      <td>119</td>\n",
       "      <td>87</td>\n",
       "      <td>108</td>\n",
       "      <td>112</td>\n",
       "      <td>104</td>\n",
       "      <td>100</td>\n",
       "      <td>100</td>\n",
       "    </tr>\n",
       "    <tr>\n",
       "      <th>5</th>\n",
       "      <td>4/1/1999</td>\n",
       "      <td>103</td>\n",
       "      <td>104</td>\n",
       "      <td>114</td>\n",
       "      <td>134</td>\n",
       "      <td>85</td>\n",
       "      <td>103</td>\n",
       "      <td>109</td>\n",
       "      <td>113</td>\n",
       "      <td>81</td>\n",
       "      <td>122</td>\n",
       "      <td>106</td>\n",
       "      <td>104</td>\n",
       "      <td>101</td>\n",
       "      <td>105</td>\n",
       "    </tr>\n",
       "    <tr>\n",
       "      <th>6</th>\n",
       "      <td>7/1/1999</td>\n",
       "      <td>104</td>\n",
       "      <td>112</td>\n",
       "      <td>115</td>\n",
       "      <td>134</td>\n",
       "      <td>85</td>\n",
       "      <td>102</td>\n",
       "      <td>123</td>\n",
       "      <td>112</td>\n",
       "      <td>81</td>\n",
       "      <td>130</td>\n",
       "      <td>101</td>\n",
       "      <td>107</td>\n",
       "      <td>104</td>\n",
       "      <td>110</td>\n",
       "    </tr>\n",
       "    <tr>\n",
       "      <th>7</th>\n",
       "      <td>10/1/1999</td>\n",
       "      <td>104</td>\n",
       "      <td>113</td>\n",
       "      <td>115</td>\n",
       "      <td>140</td>\n",
       "      <td>92</td>\n",
       "      <td>103</td>\n",
       "      <td>130</td>\n",
       "      <td>111</td>\n",
       "      <td>87</td>\n",
       "      <td>135</td>\n",
       "      <td>109</td>\n",
       "      <td>112</td>\n",
       "      <td>109</td>\n",
       "      <td>115</td>\n",
       "    </tr>\n",
       "    <tr>\n",
       "      <th>8</th>\n",
       "      <td>1/1/2000</td>\n",
       "      <td>113</td>\n",
       "      <td>123</td>\n",
       "      <td>117</td>\n",
       "      <td>140</td>\n",
       "      <td>126</td>\n",
       "      <td>109</td>\n",
       "      <td>123</td>\n",
       "      <td>109</td>\n",
       "      <td>99</td>\n",
       "      <td>140</td>\n",
       "      <td>132</td>\n",
       "      <td>115</td>\n",
       "      <td>113</td>\n",
       "      <td>123</td>\n",
       "    </tr>\n",
       "    <tr>\n",
       "      <th>9</th>\n",
       "      <td>4/1/2000</td>\n",
       "      <td>116</td>\n",
       "      <td>133</td>\n",
       "      <td>118</td>\n",
       "      <td>137</td>\n",
       "      <td>156</td>\n",
       "      <td>114</td>\n",
       "      <td>123</td>\n",
       "      <td>106</td>\n",
       "      <td>109</td>\n",
       "      <td>141</td>\n",
       "      <td>145</td>\n",
       "      <td>114</td>\n",
       "      <td>117</td>\n",
       "      <td>131</td>\n",
       "    </tr>\n",
       "  </tbody>\n",
       "</table>\n",
       "</div>"
      ],
      "text/plain": [
       "  Unnamed: 0  Global Index (USD)  Global Index (EUR)  Painting  Sculpture  \\\n",
       "0   1/1/1998                 100                 100       100        100   \n",
       "1   4/1/1998                 107                 110       109        139   \n",
       "2   7/1/1998                 106                 106       107        133   \n",
       "3  10/1/1998                  96                  96       103        128   \n",
       "4   1/1/1999                 104                 100       107        132   \n",
       "5   4/1/1999                 103                 104       114        134   \n",
       "6   7/1/1999                 104                 112       115        134   \n",
       "7  10/1/1999                 104                 113       115        140   \n",
       "8   1/1/2000                 113                 123       117        140   \n",
       "9   4/1/2000                 116                 133       118        137   \n",
       "\n",
       "   Photography  Drawing  Print  19th Century  Modern Art  Post-War  \\\n",
       "0          100      100    100           100         100       100   \n",
       "1           96      104    114           110          98       114   \n",
       "2           94      106    127           118          97       112   \n",
       "3           85      109    123           122          94       102   \n",
       "4           84      108    109           119          87       108   \n",
       "5           85      103    109           113          81       122   \n",
       "6           85      102    123           112          81       130   \n",
       "7           92      103    130           111          87       135   \n",
       "8          126      109    123           109          99       140   \n",
       "9          156      114    123           106         109       141   \n",
       "\n",
       "   Contemporary  USA (USD)  UK (GBP)  France (EUR)  \n",
       "0           100        105       100           100  \n",
       "1           101        104        98           107  \n",
       "2           109        100        95           105  \n",
       "3           114        102        97           100  \n",
       "4           112        104       100           100  \n",
       "5           106        104       101           105  \n",
       "6           101        107       104           110  \n",
       "7           109        112       109           115  \n",
       "8           132        115       113           123  \n",
       "9           145        114       117           131  "
      ]
     },
     "execution_count": 85,
     "metadata": {},
     "output_type": "execute_result"
    }
   ],
   "source": [
    "art_index = pd.read_csv(file_path, encoding='utf-8')\n",
    "\n",
    "art_index.head(10)"
   ]
  },
  {
   "cell_type": "code",
   "execution_count": 86,
   "metadata": {},
   "outputs": [
    {
     "data": {
      "text/html": [
       "<div>\n",
       "<style scoped>\n",
       "    .dataframe tbody tr th:only-of-type {\n",
       "        vertical-align: middle;\n",
       "    }\n",
       "\n",
       "    .dataframe tbody tr th {\n",
       "        vertical-align: top;\n",
       "    }\n",
       "\n",
       "    .dataframe thead th {\n",
       "        text-align: right;\n",
       "    }\n",
       "</style>\n",
       "<table border=\"1\" class=\"dataframe\">\n",
       "  <thead>\n",
       "    <tr style=\"text-align: right;\">\n",
       "      <th></th>\n",
       "      <th>Date</th>\n",
       "      <th>Global Index (USD)</th>\n",
       "      <th>Global Index (EUR)</th>\n",
       "      <th>Painting</th>\n",
       "      <th>Sculpture</th>\n",
       "      <th>Photography</th>\n",
       "      <th>Drawing</th>\n",
       "      <th>Print</th>\n",
       "      <th>19th Century</th>\n",
       "      <th>Modern Art</th>\n",
       "      <th>Post-War</th>\n",
       "      <th>Contemporary</th>\n",
       "      <th>USA (USD)</th>\n",
       "      <th>UK (GBP)</th>\n",
       "      <th>France (EUR)</th>\n",
       "    </tr>\n",
       "  </thead>\n",
       "  <tbody>\n",
       "    <tr>\n",
       "      <th>0</th>\n",
       "      <td>1/1/1998</td>\n",
       "      <td>100</td>\n",
       "      <td>100</td>\n",
       "      <td>100</td>\n",
       "      <td>100</td>\n",
       "      <td>100</td>\n",
       "      <td>100</td>\n",
       "      <td>100</td>\n",
       "      <td>100</td>\n",
       "      <td>100</td>\n",
       "      <td>100</td>\n",
       "      <td>100</td>\n",
       "      <td>105</td>\n",
       "      <td>100</td>\n",
       "      <td>100</td>\n",
       "    </tr>\n",
       "    <tr>\n",
       "      <th>1</th>\n",
       "      <td>4/1/1998</td>\n",
       "      <td>107</td>\n",
       "      <td>110</td>\n",
       "      <td>109</td>\n",
       "      <td>139</td>\n",
       "      <td>96</td>\n",
       "      <td>104</td>\n",
       "      <td>114</td>\n",
       "      <td>110</td>\n",
       "      <td>98</td>\n",
       "      <td>114</td>\n",
       "      <td>101</td>\n",
       "      <td>104</td>\n",
       "      <td>98</td>\n",
       "      <td>107</td>\n",
       "    </tr>\n",
       "    <tr>\n",
       "      <th>2</th>\n",
       "      <td>7/1/1998</td>\n",
       "      <td>106</td>\n",
       "      <td>106</td>\n",
       "      <td>107</td>\n",
       "      <td>133</td>\n",
       "      <td>94</td>\n",
       "      <td>106</td>\n",
       "      <td>127</td>\n",
       "      <td>118</td>\n",
       "      <td>97</td>\n",
       "      <td>112</td>\n",
       "      <td>109</td>\n",
       "      <td>100</td>\n",
       "      <td>95</td>\n",
       "      <td>105</td>\n",
       "    </tr>\n",
       "    <tr>\n",
       "      <th>3</th>\n",
       "      <td>10/1/1998</td>\n",
       "      <td>96</td>\n",
       "      <td>96</td>\n",
       "      <td>103</td>\n",
       "      <td>128</td>\n",
       "      <td>85</td>\n",
       "      <td>109</td>\n",
       "      <td>123</td>\n",
       "      <td>122</td>\n",
       "      <td>94</td>\n",
       "      <td>102</td>\n",
       "      <td>114</td>\n",
       "      <td>102</td>\n",
       "      <td>97</td>\n",
       "      <td>100</td>\n",
       "    </tr>\n",
       "    <tr>\n",
       "      <th>4</th>\n",
       "      <td>1/1/1999</td>\n",
       "      <td>104</td>\n",
       "      <td>100</td>\n",
       "      <td>107</td>\n",
       "      <td>132</td>\n",
       "      <td>84</td>\n",
       "      <td>108</td>\n",
       "      <td>109</td>\n",
       "      <td>119</td>\n",
       "      <td>87</td>\n",
       "      <td>108</td>\n",
       "      <td>112</td>\n",
       "      <td>104</td>\n",
       "      <td>100</td>\n",
       "      <td>100</td>\n",
       "    </tr>\n",
       "  </tbody>\n",
       "</table>\n",
       "</div>"
      ],
      "text/plain": [
       "        Date  Global Index (USD)  Global Index (EUR)  Painting  Sculpture  \\\n",
       "0   1/1/1998                 100                 100       100        100   \n",
       "1   4/1/1998                 107                 110       109        139   \n",
       "2   7/1/1998                 106                 106       107        133   \n",
       "3  10/1/1998                  96                  96       103        128   \n",
       "4   1/1/1999                 104                 100       107        132   \n",
       "\n",
       "   Photography  Drawing  Print  19th Century  Modern Art  Post-War  \\\n",
       "0          100      100    100           100         100       100   \n",
       "1           96      104    114           110          98       114   \n",
       "2           94      106    127           118          97       112   \n",
       "3           85      109    123           122          94       102   \n",
       "4           84      108    109           119          87       108   \n",
       "\n",
       "   Contemporary  USA (USD)  UK (GBP)  France (EUR)  \n",
       "0           100        105       100           100  \n",
       "1           101        104        98           107  \n",
       "2           109        100        95           105  \n",
       "3           114        102        97           100  \n",
       "4           112        104       100           100  "
      ]
     },
     "execution_count": 86,
     "metadata": {},
     "output_type": "execute_result"
    }
   ],
   "source": [
    "art_index.rename(columns=({\"Unnamed: 0\" : \"Date\"}), inplace=True)\n",
    "art_index.dropna()\n",
    "\n",
    "art_index.head()"
   ]
  },
  {
   "cell_type": "code",
   "execution_count": 87,
   "metadata": {},
   "outputs": [
    {
     "data": {
      "text/html": [
       "<div>\n",
       "<style scoped>\n",
       "    .dataframe tbody tr th:only-of-type {\n",
       "        vertical-align: middle;\n",
       "    }\n",
       "\n",
       "    .dataframe tbody tr th {\n",
       "        vertical-align: top;\n",
       "    }\n",
       "\n",
       "    .dataframe thead th {\n",
       "        text-align: right;\n",
       "    }\n",
       "</style>\n",
       "<table border=\"1\" class=\"dataframe\">\n",
       "  <thead>\n",
       "    <tr style=\"text-align: right;\">\n",
       "      <th></th>\n",
       "      <th>Global Index (USD)</th>\n",
       "      <th>Global Index (EUR)</th>\n",
       "      <th>Painting</th>\n",
       "      <th>Sculpture</th>\n",
       "      <th>Photography</th>\n",
       "      <th>Drawing</th>\n",
       "      <th>Print</th>\n",
       "      <th>19th Century</th>\n",
       "      <th>Modern Art</th>\n",
       "      <th>Post-War</th>\n",
       "      <th>Contemporary</th>\n",
       "      <th>USA (USD)</th>\n",
       "      <th>UK (GBP)</th>\n",
       "      <th>France (EUR)</th>\n",
       "    </tr>\n",
       "    <tr>\n",
       "      <th>Date</th>\n",
       "      <th></th>\n",
       "      <th></th>\n",
       "      <th></th>\n",
       "      <th></th>\n",
       "      <th></th>\n",
       "      <th></th>\n",
       "      <th></th>\n",
       "      <th></th>\n",
       "      <th></th>\n",
       "      <th></th>\n",
       "      <th></th>\n",
       "      <th></th>\n",
       "      <th></th>\n",
       "      <th></th>\n",
       "    </tr>\n",
       "  </thead>\n",
       "  <tbody>\n",
       "    <tr>\n",
       "      <th>1/1/1998</th>\n",
       "      <td>100</td>\n",
       "      <td>100</td>\n",
       "      <td>100</td>\n",
       "      <td>100</td>\n",
       "      <td>100</td>\n",
       "      <td>100</td>\n",
       "      <td>100</td>\n",
       "      <td>100</td>\n",
       "      <td>100</td>\n",
       "      <td>100</td>\n",
       "      <td>100</td>\n",
       "      <td>105</td>\n",
       "      <td>100</td>\n",
       "      <td>100</td>\n",
       "    </tr>\n",
       "    <tr>\n",
       "      <th>4/1/1998</th>\n",
       "      <td>107</td>\n",
       "      <td>110</td>\n",
       "      <td>109</td>\n",
       "      <td>139</td>\n",
       "      <td>96</td>\n",
       "      <td>104</td>\n",
       "      <td>114</td>\n",
       "      <td>110</td>\n",
       "      <td>98</td>\n",
       "      <td>114</td>\n",
       "      <td>101</td>\n",
       "      <td>104</td>\n",
       "      <td>98</td>\n",
       "      <td>107</td>\n",
       "    </tr>\n",
       "    <tr>\n",
       "      <th>7/1/1998</th>\n",
       "      <td>106</td>\n",
       "      <td>106</td>\n",
       "      <td>107</td>\n",
       "      <td>133</td>\n",
       "      <td>94</td>\n",
       "      <td>106</td>\n",
       "      <td>127</td>\n",
       "      <td>118</td>\n",
       "      <td>97</td>\n",
       "      <td>112</td>\n",
       "      <td>109</td>\n",
       "      <td>100</td>\n",
       "      <td>95</td>\n",
       "      <td>105</td>\n",
       "    </tr>\n",
       "    <tr>\n",
       "      <th>10/1/1998</th>\n",
       "      <td>96</td>\n",
       "      <td>96</td>\n",
       "      <td>103</td>\n",
       "      <td>128</td>\n",
       "      <td>85</td>\n",
       "      <td>109</td>\n",
       "      <td>123</td>\n",
       "      <td>122</td>\n",
       "      <td>94</td>\n",
       "      <td>102</td>\n",
       "      <td>114</td>\n",
       "      <td>102</td>\n",
       "      <td>97</td>\n",
       "      <td>100</td>\n",
       "    </tr>\n",
       "    <tr>\n",
       "      <th>1/1/1999</th>\n",
       "      <td>104</td>\n",
       "      <td>100</td>\n",
       "      <td>107</td>\n",
       "      <td>132</td>\n",
       "      <td>84</td>\n",
       "      <td>108</td>\n",
       "      <td>109</td>\n",
       "      <td>119</td>\n",
       "      <td>87</td>\n",
       "      <td>108</td>\n",
       "      <td>112</td>\n",
       "      <td>104</td>\n",
       "      <td>100</td>\n",
       "      <td>100</td>\n",
       "    </tr>\n",
       "  </tbody>\n",
       "</table>\n",
       "</div>"
      ],
      "text/plain": [
       "           Global Index (USD)  Global Index (EUR)  Painting  Sculpture  \\\n",
       "Date                                                                     \n",
       "1/1/1998                  100                 100       100        100   \n",
       "4/1/1998                  107                 110       109        139   \n",
       "7/1/1998                  106                 106       107        133   \n",
       "10/1/1998                  96                  96       103        128   \n",
       "1/1/1999                  104                 100       107        132   \n",
       "\n",
       "           Photography  Drawing  Print  19th Century  Modern Art  Post-War  \\\n",
       "Date                                                                         \n",
       "1/1/1998           100      100    100           100         100       100   \n",
       "4/1/1998            96      104    114           110          98       114   \n",
       "7/1/1998            94      106    127           118          97       112   \n",
       "10/1/1998           85      109    123           122          94       102   \n",
       "1/1/1999            84      108    109           119          87       108   \n",
       "\n",
       "           Contemporary  USA (USD)  UK (GBP)  France (EUR)  \n",
       "Date                                                        \n",
       "1/1/1998            100        105       100           100  \n",
       "4/1/1998            101        104        98           107  \n",
       "7/1/1998            109        100        95           105  \n",
       "10/1/1998           114        102        97           100  \n",
       "1/1/1999            112        104       100           100  "
      ]
     },
     "execution_count": 87,
     "metadata": {},
     "output_type": "execute_result"
    }
   ],
   "source": [
    "art_index.set_index(\"Date\", drop=True, inplace=True)\n",
    "art_index.head()\n"
   ]
  },
  {
   "cell_type": "code",
   "execution_count": 88,
   "metadata": {},
   "outputs": [
    {
     "data": {
      "application/vnd.holoviews_exec.v0+json": "",
      "text/html": [
       "<div id='15252'>\n",
       "\n",
       "\n",
       "\n",
       "\n",
       "\n",
       "  <div class=\"bk-root\" id=\"800be326-f14c-4641-aead-46c8b1e77000\" data-root-id=\"15252\"></div>\n",
       "</div>\n",
       "<script type=\"application/javascript\">(function(root) {\n",
       "  function embed_document(root) {\n",
       "  var docs_json = {\"bdcb3838-a8c7-4a3b-bab0-1bc88bd22c9a\":{\"roots\":{\"references\":[{\"attributes\":{\"label\":{\"value\":\"Sculpture\"},\"renderers\":[{\"id\":\"15367\"}]},\"id\":\"15383\",\"type\":\"LegendItem\"},{\"attributes\":{\"line_color\":\"#9367bc\",\"line_width\":2,\"x\":{\"field\":\"Date\"},\"y\":{\"field\":\"value\"}},\"id\":\"15387\",\"type\":\"Line\"},{\"attributes\":{\"source\":{\"id\":\"15529\"}},\"id\":\"15536\",\"type\":\"CDSView\"},{\"attributes\":{\"data_source\":{\"id\":\"15529\"},\"glyph\":{\"id\":\"15532\"},\"hover_glyph\":null,\"muted_glyph\":{\"id\":\"15534\"},\"nonselection_glyph\":{\"id\":\"15533\"},\"selection_glyph\":null,\"view\":{\"id\":\"15536\"}},\"id\":\"15535\",\"type\":\"GlyphRenderer\"},{\"attributes\":{},\"id\":\"15358\",\"type\":\"UnionRenderers\"},{\"attributes\":{\"margin\":[5,5,5,5],\"name\":\"HSpacer37939\",\"sizing_mode\":\"stretch_width\"},\"id\":\"15253\",\"type\":\"Spacer\"},{\"attributes\":{},\"id\":\"15602\",\"type\":\"Selection\"},{\"attributes\":{\"label\":{\"value\":\"Global Index (EUR)\"},\"renderers\":[{\"id\":\"15327\"}]},\"id\":\"15339\",\"type\":\"LegendItem\"},{\"attributes\":{},\"id\":\"15304\",\"type\":\"Selection\"},{\"attributes\":{},\"id\":\"15337\",\"type\":\"UnionRenderers\"},{\"attributes\":{\"line_color\":\"#0fffa8\",\"line_width\":2,\"x\":{\"field\":\"Date\"},\"y\":{\"field\":\"value\"}},\"id\":\"15643\",\"type\":\"Line\"},{\"attributes\":{\"data\":{\"Date\":[\"1/1/1998\",\"4/1/1998\",\"7/1/1998\",\"10/1/1998\",\"1/1/1999\",\"4/1/1999\",\"7/1/1999\",\"10/1/1999\",\"1/1/2000\",\"4/1/2000\",\"7/1/2000\",\"10/1/2000\",\"1/1/2001\",\"4/1/2001\",\"7/1/2001\",\"10/1/2001\",\"1/1/2002\",\"4/1/2002\",\"7/1/2002\",\"10/1/2002\",\"1/1/2003\",\"4/1/2003\",\"7/1/2003\",\"10/1/2003\",\"1/1/2004\",\"4/1/2004\",\"7/1/2004\",\"10/1/2004\",\"1/1/2005\",\"4/1/2005\",\"7/1/2005\",\"10/1/2005\",\"1/1/2006\",\"4/1/2006\",\"7/1/2006\",\"10/1/2006\",\"1/1/2007\",\"4/1/2007\",\"7/1/2007\",\"10/1/2007\",\"1/1/2008\",\"4/1/2008\",\"7/1/2008\",\"10/1/2008\",\"1/1/2009\",\"4/1/2009\",\"7/1/2009\",\"10/1/2009\",\"1/1/2010\",\"4/1/2010\",\"7/1/2010\",\"10/1/2010\",\"1/1/2011\",\"4/1/2011\",\"7/1/2011\",\"10/1/2011\",\"1/1/2012\",\"4/1/2012\",\"7/1/2012\",\"10/1/2012\",\"1/1/2013\",\"4/1/2013\",\"7/1/2013\",\"10/1/2013\",\"1/1/2014\",\"4/1/2014\",\"7/1/2014\",\"10/1/2014\",\"1/1/2015\",\"4/1/2015\",\"7/1/2015\",\"10/1/2015\",\"1/1/2016\",\"4/1/2016\",\"7/1/2016\",\"10/1/2016\",\"1/1/2017\",\"4/1/2017\",\"7/1/2017\",\"10/1/2017\",\"1/1/2018\",\"4/1/2018\",\"7/1/2018\",\"10/1/2018\",\"1/1/2019\",\"4/1/2019\",\"7/1/2019\",\"10/1/2019\",\"1/1/2020\",\"4/1/2020\",\"7/1/2020\"],\"Variable\":[\"Global Index (EUR)\",\"Global Index (EUR)\",\"Global Index (EUR)\",\"Global Index (EUR)\",\"Global Index (EUR)\",\"Global Index (EUR)\",\"Global Index (EUR)\",\"Global Index (EUR)\",\"Global Index (EUR)\",\"Global Index (EUR)\",\"Global Index (EUR)\",\"Global Index (EUR)\",\"Global Index (EUR)\",\"Global Index (EUR)\",\"Global Index (EUR)\",\"Global Index (EUR)\",\"Global Index (EUR)\",\"Global Index (EUR)\",\"Global Index (EUR)\",\"Global Index (EUR)\",\"Global Index (EUR)\",\"Global Index (EUR)\",\"Global Index (EUR)\",\"Global Index (EUR)\",\"Global Index (EUR)\",\"Global Index (EUR)\",\"Global Index (EUR)\",\"Global Index (EUR)\",\"Global Index (EUR)\",\"Global Index (EUR)\",\"Global Index (EUR)\",\"Global Index (EUR)\",\"Global Index (EUR)\",\"Global Index (EUR)\",\"Global Index (EUR)\",\"Global Index (EUR)\",\"Global Index (EUR)\",\"Global Index (EUR)\",\"Global Index (EUR)\",\"Global Index (EUR)\",\"Global Index (EUR)\",\"Global Index (EUR)\",\"Global Index (EUR)\",\"Global Index (EUR)\",\"Global Index (EUR)\",\"Global Index (EUR)\",\"Global Index (EUR)\",\"Global Index (EUR)\",\"Global Index (EUR)\",\"Global Index (EUR)\",\"Global Index (EUR)\",\"Global Index (EUR)\",\"Global Index (EUR)\",\"Global Index (EUR)\",\"Global Index (EUR)\",\"Global Index (EUR)\",\"Global Index (EUR)\",\"Global Index (EUR)\",\"Global Index (EUR)\",\"Global Index (EUR)\",\"Global Index (EUR)\",\"Global Index (EUR)\",\"Global Index (EUR)\",\"Global Index (EUR)\",\"Global Index (EUR)\",\"Global Index (EUR)\",\"Global Index (EUR)\",\"Global Index (EUR)\",\"Global Index (EUR)\",\"Global Index (EUR)\",\"Global Index (EUR)\",\"Global Index (EUR)\",\"Global Index (EUR)\",\"Global Index (EUR)\",\"Global Index (EUR)\",\"Global Index (EUR)\",\"Global Index (EUR)\",\"Global Index (EUR)\",\"Global Index (EUR)\",\"Global Index (EUR)\",\"Global Index (EUR)\",\"Global Index (EUR)\",\"Global Index (EUR)\",\"Global Index (EUR)\",\"Global Index (EUR)\",\"Global Index (EUR)\",\"Global Index (EUR)\",\"Global Index (EUR)\",\"Global Index (EUR)\",\"Global Index (EUR)\",\"Global Index (EUR)\"],\"value\":[100,110,106,96,100,104,112,113,123,133,135,141,137,147,137,135,133,141,132,127,142,146,137,122,135,140,142,142,140,159,156,146,171,165,172,147,169,194,194,162,185,169,172,145,149,124,142,113,144,146,154,131,172,153,190,169,169,113,167,136,173,160,173,160,159,144,169,187,210,179,172,153,168,151,151,133,177,140,156,129,156,123,144,117,140,123,137,114,138,119,126]},\"selected\":{\"id\":\"15322\"},\"selection_policy\":{\"id\":\"15337\"}},\"id\":\"15321\",\"type\":\"ColumnDataSource\"},{\"attributes\":{\"children\":[{\"id\":\"15253\"},{\"id\":\"15270\"},{\"id\":\"16030\"}],\"margin\":[0,0,0,0],\"name\":\"Row37935\",\"tags\":[\"embedded\"]},\"id\":\"15252\",\"type\":\"Row\"},{\"attributes\":{\"label\":{\"value\":\"Post-War\"},\"renderers\":[{\"id\":\"15535\"}]},\"id\":\"15563\",\"type\":\"LegendItem\"},{\"attributes\":{\"line_alpha\":0.1,\"line_color\":\"#8c564b\",\"line_width\":2,\"x\":{\"field\":\"Date\"},\"y\":{\"field\":\"value\"}},\"id\":\"15413\",\"type\":\"Line\"},{\"attributes\":{\"line_color\":\"#1f77b3\",\"line_width\":2,\"x\":{\"field\":\"Date\"},\"y\":{\"field\":\"value\"}},\"id\":\"15306\",\"type\":\"Line\"},{\"attributes\":{\"line_color\":\"#004201\",\"line_width\":2,\"x\":{\"field\":\"Date\"},\"y\":{\"field\":\"value\"}},\"id\":\"15604\",\"type\":\"Line\"},{\"attributes\":{\"source\":{\"id\":\"15384\"}},\"id\":\"15391\",\"type\":\"CDSView\"},{\"attributes\":{\"source\":{\"id\":\"15601\"}},\"id\":\"15608\",\"type\":\"CDSView\"},{\"attributes\":{\"data_source\":{\"id\":\"15640\"},\"glyph\":{\"id\":\"15643\"},\"hover_glyph\":null,\"muted_glyph\":{\"id\":\"15645\"},\"nonselection_glyph\":{\"id\":\"15644\"},\"selection_glyph\":null,\"view\":{\"id\":\"15647\"}},\"id\":\"15646\",\"type\":\"GlyphRenderer\"},{\"attributes\":{},\"id\":\"15721\",\"type\":\"UnionRenderers\"},{\"attributes\":{},\"id\":\"15275\",\"type\":\"CategoricalScale\"},{\"attributes\":{\"label\":{\"value\":\"Modern Art\"},\"renderers\":[{\"id\":\"15502\"}]},\"id\":\"15528\",\"type\":\"LegendItem\"},{\"attributes\":{\"source\":{\"id\":\"15303\"}},\"id\":\"15310\",\"type\":\"CDSView\"},{\"attributes\":{},\"id\":\"15385\",\"type\":\"Selection\"},{\"attributes\":{},\"id\":\"15641\",\"type\":\"Selection\"},{\"attributes\":{\"line_alpha\":0.2,\"line_color\":\"#9367bc\",\"line_width\":2,\"x\":{\"field\":\"Date\"},\"y\":{\"field\":\"value\"}},\"id\":\"15389\",\"type\":\"Line\"},{\"attributes\":{\"source\":{\"id\":\"15640\"}},\"id\":\"15647\",\"type\":\"CDSView\"},{\"attributes\":{\"label\":{\"value\":\"France (EUR)\"},\"renderers\":[{\"id\":\"15687\"}]},\"id\":\"15723\",\"type\":\"LegendItem\"},{\"attributes\":{},\"id\":\"15322\",\"type\":\"Selection\"},{\"attributes\":{\"source\":{\"id\":\"15681\"}},\"id\":\"15688\",\"type\":\"CDSView\"},{\"attributes\":{},\"id\":\"15678\",\"type\":\"UnionRenderers\"},{\"attributes\":{\"source\":{\"id\":\"15340\"}},\"id\":\"15347\",\"type\":\"CDSView\"},{\"attributes\":{\"data\":{\"Date\":[\"1/1/1998\",\"4/1/1998\",\"7/1/1998\",\"10/1/1998\",\"1/1/1999\",\"4/1/1999\",\"7/1/1999\",\"10/1/1999\",\"1/1/2000\",\"4/1/2000\",\"7/1/2000\",\"10/1/2000\",\"1/1/2001\",\"4/1/2001\",\"7/1/2001\",\"10/1/2001\",\"1/1/2002\",\"4/1/2002\",\"7/1/2002\",\"10/1/2002\",\"1/1/2003\",\"4/1/2003\",\"7/1/2003\",\"10/1/2003\",\"1/1/2004\",\"4/1/2004\",\"7/1/2004\",\"10/1/2004\",\"1/1/2005\",\"4/1/2005\",\"7/1/2005\",\"10/1/2005\",\"1/1/2006\",\"4/1/2006\",\"7/1/2006\",\"10/1/2006\",\"1/1/2007\",\"4/1/2007\",\"7/1/2007\",\"10/1/2007\",\"1/1/2008\",\"4/1/2008\",\"7/1/2008\",\"10/1/2008\",\"1/1/2009\",\"4/1/2009\",\"7/1/2009\",\"10/1/2009\",\"1/1/2010\",\"4/1/2010\",\"7/1/2010\",\"10/1/2010\",\"1/1/2011\",\"4/1/2011\",\"7/1/2011\",\"10/1/2011\",\"1/1/2012\",\"4/1/2012\",\"7/1/2012\",\"10/1/2012\",\"1/1/2013\",\"4/1/2013\",\"7/1/2013\",\"10/1/2013\",\"1/1/2014\",\"4/1/2014\",\"7/1/2014\",\"10/1/2014\",\"1/1/2015\",\"4/1/2015\",\"7/1/2015\",\"10/1/2015\",\"1/1/2016\",\"4/1/2016\",\"7/1/2016\",\"10/1/2016\",\"1/1/2017\",\"4/1/2017\",\"7/1/2017\",\"10/1/2017\",\"1/1/2018\",\"4/1/2018\",\"7/1/2018\",\"10/1/2018\",\"1/1/2019\",\"4/1/2019\",\"7/1/2019\",\"10/1/2019\",\"1/1/2020\",\"4/1/2020\",\"7/1/2020\"],\"Variable\":[\"Contemporary\",\"Contemporary\",\"Contemporary\",\"Contemporary\",\"Contemporary\",\"Contemporary\",\"Contemporary\",\"Contemporary\",\"Contemporary\",\"Contemporary\",\"Contemporary\",\"Contemporary\",\"Contemporary\",\"Contemporary\",\"Contemporary\",\"Contemporary\",\"Contemporary\",\"Contemporary\",\"Contemporary\",\"Contemporary\",\"Contemporary\",\"Contemporary\",\"Contemporary\",\"Contemporary\",\"Contemporary\",\"Contemporary\",\"Contemporary\",\"Contemporary\",\"Contemporary\",\"Contemporary\",\"Contemporary\",\"Contemporary\",\"Contemporary\",\"Contemporary\",\"Contemporary\",\"Contemporary\",\"Contemporary\",\"Contemporary\",\"Contemporary\",\"Contemporary\",\"Contemporary\",\"Contemporary\",\"Contemporary\",\"Contemporary\",\"Contemporary\",\"Contemporary\",\"Contemporary\",\"Contemporary\",\"Contemporary\",\"Contemporary\",\"Contemporary\",\"Contemporary\",\"Contemporary\",\"Contemporary\",\"Contemporary\",\"Contemporary\",\"Contemporary\",\"Contemporary\",\"Contemporary\",\"Contemporary\",\"Contemporary\",\"Contemporary\",\"Contemporary\",\"Contemporary\",\"Contemporary\",\"Contemporary\",\"Contemporary\",\"Contemporary\",\"Contemporary\",\"Contemporary\",\"Contemporary\",\"Contemporary\",\"Contemporary\",\"Contemporary\",\"Contemporary\",\"Contemporary\",\"Contemporary\",\"Contemporary\",\"Contemporary\",\"Contemporary\",\"Contemporary\",\"Contemporary\",\"Contemporary\",\"Contemporary\",\"Contemporary\",\"Contemporary\",\"Contemporary\",\"Contemporary\",\"Contemporary\",\"Contemporary\",\"Contemporary\"],\"value\":[100,101,109,114,112,106,101,109,132,145,152,159,146,126,117,108,113,134,147,152,152,163,169,153,171,203,221,236,232,230,228,226,256,288,271,249,274,308,304,284,290,295,290,269,237,228,236,248,269,284,250,214,238,271,288,296,293,291,284,268,258,258,251,250,258,256,263,267,237,200,184,177,180,200,225,234,233,239,237,228,246,272,272,259,248,238,235,233,237,241,267]},\"selected\":{\"id\":\"15565\"},\"selection_policy\":{\"id\":\"15598\"}},\"id\":\"15564\",\"type\":\"ColumnDataSource\"},{\"attributes\":{\"data_source\":{\"id\":\"15340\"},\"glyph\":{\"id\":\"15343\"},\"hover_glyph\":null,\"muted_glyph\":{\"id\":\"15345\"},\"nonselection_glyph\":{\"id\":\"15344\"},\"selection_glyph\":null,\"view\":{\"id\":\"15347\"}},\"id\":\"15346\",\"type\":\"GlyphRenderer\"},{\"attributes\":{\"data\":{\"Date\":[\"1/1/1998\",\"4/1/1998\",\"7/1/1998\",\"10/1/1998\",\"1/1/1999\",\"4/1/1999\",\"7/1/1999\",\"10/1/1999\",\"1/1/2000\",\"4/1/2000\",\"7/1/2000\",\"10/1/2000\",\"1/1/2001\",\"4/1/2001\",\"7/1/2001\",\"10/1/2001\",\"1/1/2002\",\"4/1/2002\",\"7/1/2002\",\"10/1/2002\",\"1/1/2003\",\"4/1/2003\",\"7/1/2003\",\"10/1/2003\",\"1/1/2004\",\"4/1/2004\",\"7/1/2004\",\"10/1/2004\",\"1/1/2005\",\"4/1/2005\",\"7/1/2005\",\"10/1/2005\",\"1/1/2006\",\"4/1/2006\",\"7/1/2006\",\"10/1/2006\",\"1/1/2007\",\"4/1/2007\",\"7/1/2007\",\"10/1/2007\",\"1/1/2008\",\"4/1/2008\",\"7/1/2008\",\"10/1/2008\",\"1/1/2009\",\"4/1/2009\",\"7/1/2009\",\"10/1/2009\",\"1/1/2010\",\"4/1/2010\",\"7/1/2010\",\"10/1/2010\",\"1/1/2011\",\"4/1/2011\",\"7/1/2011\",\"10/1/2011\",\"1/1/2012\",\"4/1/2012\",\"7/1/2012\",\"10/1/2012\",\"1/1/2013\",\"4/1/2013\",\"7/1/2013\",\"10/1/2013\",\"1/1/2014\",\"4/1/2014\",\"7/1/2014\",\"10/1/2014\",\"1/1/2015\",\"4/1/2015\",\"7/1/2015\",\"10/1/2015\",\"1/1/2016\",\"4/1/2016\",\"7/1/2016\",\"10/1/2016\",\"1/1/2017\",\"4/1/2017\",\"7/1/2017\",\"10/1/2017\",\"1/1/2018\",\"4/1/2018\",\"7/1/2018\",\"10/1/2018\",\"1/1/2019\",\"4/1/2019\",\"7/1/2019\",\"10/1/2019\",\"1/1/2020\",\"4/1/2020\",\"7/1/2020\"],\"Variable\":[\"UK (GBP)\",\"UK (GBP)\",\"UK (GBP)\",\"UK (GBP)\",\"UK (GBP)\",\"UK (GBP)\",\"UK (GBP)\",\"UK (GBP)\",\"UK (GBP)\",\"UK (GBP)\",\"UK (GBP)\",\"UK (GBP)\",\"UK (GBP)\",\"UK (GBP)\",\"UK (GBP)\",\"UK (GBP)\",\"UK (GBP)\",\"UK (GBP)\",\"UK (GBP)\",\"UK (GBP)\",\"UK (GBP)\",\"UK (GBP)\",\"UK (GBP)\",\"UK (GBP)\",\"UK (GBP)\",\"UK (GBP)\",\"UK (GBP)\",\"UK (GBP)\",\"UK (GBP)\",\"UK (GBP)\",\"UK (GBP)\",\"UK (GBP)\",\"UK (GBP)\",\"UK (GBP)\",\"UK (GBP)\",\"UK (GBP)\",\"UK (GBP)\",\"UK (GBP)\",\"UK (GBP)\",\"UK (GBP)\",\"UK (GBP)\",\"UK (GBP)\",\"UK (GBP)\",\"UK (GBP)\",\"UK (GBP)\",\"UK (GBP)\",\"UK (GBP)\",\"UK (GBP)\",\"UK (GBP)\",\"UK (GBP)\",\"UK (GBP)\",\"UK (GBP)\",\"UK (GBP)\",\"UK (GBP)\",\"UK (GBP)\",\"UK (GBP)\",\"UK (GBP)\",\"UK (GBP)\",\"UK (GBP)\",\"UK (GBP)\",\"UK (GBP)\",\"UK (GBP)\",\"UK (GBP)\",\"UK (GBP)\",\"UK (GBP)\",\"UK (GBP)\",\"UK (GBP)\",\"UK (GBP)\",\"UK (GBP)\",\"UK (GBP)\",\"UK (GBP)\",\"UK (GBP)\",\"UK (GBP)\",\"UK (GBP)\",\"UK (GBP)\",\"UK (GBP)\",\"UK (GBP)\",\"UK (GBP)\",\"UK (GBP)\",\"UK (GBP)\",\"UK (GBP)\",\"UK (GBP)\",\"UK (GBP)\",\"UK (GBP)\",\"UK (GBP)\",\"UK (GBP)\",\"UK (GBP)\",\"UK (GBP)\",\"UK (GBP)\",\"UK (GBP)\",\"UK (GBP)\"],\"value\":[100,98,95,97,100,101,104,109,113,117,119,122,124,121,118,119,121,119,119,128,136,133,127,130,134,136,137,143,151,151,150,158,163,160,153,163,179,179,171,178,186,183,174,169,169,164,160,173,185,178,176,190,205,218,217,190,166,167,174,186,198,200,196,185,181,193,213,217,197,174,164,166,168,167,177,191,187,179,179,177,171,165,163,163,162,159,157,157,155,160,145]},\"selected\":{\"id\":\"15641\"},\"selection_policy\":{\"id\":\"15678\"}},\"id\":\"15640\",\"type\":\"ColumnDataSource\"},{\"attributes\":{\"line_alpha\":0.1,\"line_color\":\"#3a0182\",\"line_width\":2,\"x\":{\"field\":\"Date\"},\"y\":{\"field\":\"value\"}},\"id\":\"15568\",\"type\":\"Line\"},{\"attributes\":{},\"id\":\"15381\",\"type\":\"UnionRenderers\"},{\"attributes\":{\"data\":{\"Date\":[\"1/1/1998\",\"4/1/1998\",\"7/1/1998\",\"10/1/1998\",\"1/1/1999\",\"4/1/1999\",\"7/1/1999\",\"10/1/1999\",\"1/1/2000\",\"4/1/2000\",\"7/1/2000\",\"10/1/2000\",\"1/1/2001\",\"4/1/2001\",\"7/1/2001\",\"10/1/2001\",\"1/1/2002\",\"4/1/2002\",\"7/1/2002\",\"10/1/2002\",\"1/1/2003\",\"4/1/2003\",\"7/1/2003\",\"10/1/2003\",\"1/1/2004\",\"4/1/2004\",\"7/1/2004\",\"10/1/2004\",\"1/1/2005\",\"4/1/2005\",\"7/1/2005\",\"10/1/2005\",\"1/1/2006\",\"4/1/2006\",\"7/1/2006\",\"10/1/2006\",\"1/1/2007\",\"4/1/2007\",\"7/1/2007\",\"10/1/2007\",\"1/1/2008\",\"4/1/2008\",\"7/1/2008\",\"10/1/2008\",\"1/1/2009\",\"4/1/2009\",\"7/1/2009\",\"10/1/2009\",\"1/1/2010\",\"4/1/2010\",\"7/1/2010\",\"10/1/2010\",\"1/1/2011\",\"4/1/2011\",\"7/1/2011\",\"10/1/2011\",\"1/1/2012\",\"4/1/2012\",\"7/1/2012\",\"10/1/2012\",\"1/1/2013\",\"4/1/2013\",\"7/1/2013\",\"10/1/2013\",\"1/1/2014\",\"4/1/2014\",\"7/1/2014\",\"10/1/2014\",\"1/1/2015\",\"4/1/2015\",\"7/1/2015\",\"10/1/2015\",\"1/1/2016\",\"4/1/2016\",\"7/1/2016\",\"10/1/2016\",\"1/1/2017\",\"4/1/2017\",\"7/1/2017\",\"10/1/2017\",\"1/1/2018\",\"4/1/2018\",\"7/1/2018\",\"10/1/2018\",\"1/1/2019\",\"4/1/2019\",\"7/1/2019\",\"10/1/2019\",\"1/1/2020\",\"4/1/2020\",\"7/1/2020\"],\"Variable\":[\"Photography\",\"Photography\",\"Photography\",\"Photography\",\"Photography\",\"Photography\",\"Photography\",\"Photography\",\"Photography\",\"Photography\",\"Photography\",\"Photography\",\"Photography\",\"Photography\",\"Photography\",\"Photography\",\"Photography\",\"Photography\",\"Photography\",\"Photography\",\"Photography\",\"Photography\",\"Photography\",\"Photography\",\"Photography\",\"Photography\",\"Photography\",\"Photography\",\"Photography\",\"Photography\",\"Photography\",\"Photography\",\"Photography\",\"Photography\",\"Photography\",\"Photography\",\"Photography\",\"Photography\",\"Photography\",\"Photography\",\"Photography\",\"Photography\",\"Photography\",\"Photography\",\"Photography\",\"Photography\",\"Photography\",\"Photography\",\"Photography\",\"Photography\",\"Photography\",\"Photography\",\"Photography\",\"Photography\",\"Photography\",\"Photography\",\"Photography\",\"Photography\",\"Photography\",\"Photography\",\"Photography\",\"Photography\",\"Photography\",\"Photography\",\"Photography\",\"Photography\",\"Photography\",\"Photography\",\"Photography\",\"Photography\",\"Photography\",\"Photography\",\"Photography\",\"Photography\",\"Photography\",\"Photography\",\"Photography\",\"Photography\",\"Photography\",\"Photography\",\"Photography\",\"Photography\",\"Photography\",\"Photography\",\"Photography\",\"Photography\",\"Photography\",\"Photography\",\"Photography\",\"Photography\",\"Photography\"],\"value\":[100,96,94,85,84,85,85,92,126,156,140,118,129,148,135,119,121,124,130,137,152,164,155,143,143,165,189,191,193,196,186,187,209,220,207,197,216,247,249,244,249,252,246,210,190,194,184,177,198,214,187,168,197,231,229,210,197,187,179,183,193,193,193,195,195,200,208,210,206,206,195,185,190,189,187,184,166,163,181,195,201,193,166,147,155,162,159,160,163,161,165]},\"selected\":{\"id\":\"15385\"},\"selection_policy\":{\"id\":\"15406\"}},\"id\":\"15384\",\"type\":\"ColumnDataSource\"},{\"attributes\":{\"line_alpha\":0.1,\"line_color\":\"#16bdcf\",\"line_width\":2,\"x\":{\"field\":\"Date\"},\"y\":{\"field\":\"value\"}},\"id\":\"15533\",\"type\":\"Line\"},{\"attributes\":{\"line_alpha\":0.1,\"line_color\":\"#004201\",\"line_width\":2,\"x\":{\"field\":\"Date\"},\"y\":{\"field\":\"value\"}},\"id\":\"15605\",\"type\":\"Line\"},{\"attributes\":{\"bottom_units\":\"screen\",\"fill_alpha\":0.5,\"fill_color\":\"lightgrey\",\"left_units\":\"screen\",\"level\":\"overlay\",\"line_alpha\":1.0,\"line_color\":\"black\",\"line_dash\":[4,4],\"line_width\":2,\"right_units\":\"screen\",\"top_units\":\"screen\"},\"id\":\"15291\",\"type\":\"BoxAnnotation\"},{\"attributes\":{},\"id\":\"15565\",\"type\":\"Selection\"},{\"attributes\":{\"line_alpha\":0.2,\"line_color\":\"#7e7e7e\",\"line_width\":2,\"x\":{\"field\":\"Date\"},\"y\":{\"field\":\"value\"}},\"id\":\"15470\",\"type\":\"Line\"},{\"attributes\":{\"data_source\":{\"id\":\"15465\"},\"glyph\":{\"id\":\"15468\"},\"hover_glyph\":null,\"muted_glyph\":{\"id\":\"15470\"},\"nonselection_glyph\":{\"id\":\"15469\"},\"selection_glyph\":null,\"view\":{\"id\":\"15472\"}},\"id\":\"15471\",\"type\":\"GlyphRenderer\"},{\"attributes\":{\"line_alpha\":0.2,\"line_color\":\"#2ba02b\",\"line_width\":2,\"x\":{\"field\":\"Date\"},\"y\":{\"field\":\"value\"}},\"id\":\"15345\",\"type\":\"Line\"},{\"attributes\":{\"click_policy\":\"mute\",\"items\":[{\"id\":\"15320\"},{\"id\":\"15339\"},{\"id\":\"15360\"},{\"id\":\"15383\"},{\"id\":\"15408\"},{\"id\":\"15435\"},{\"id\":\"15464\"},{\"id\":\"15495\"},{\"id\":\"15528\"},{\"id\":\"15563\"},{\"id\":\"15600\"},{\"id\":\"15639\"},{\"id\":\"15680\"},{\"id\":\"15723\"}],\"location\":[0,0],\"title\":\"Variable\"},\"id\":\"15319\",\"type\":\"Legend\"},{\"attributes\":{\"line_alpha\":0.1,\"line_color\":\"#0fffa8\",\"line_width\":2,\"x\":{\"field\":\"Date\"},\"y\":{\"field\":\"value\"}},\"id\":\"15644\",\"type\":\"Line\"},{\"attributes\":{\"line_alpha\":0.1,\"line_color\":\"#5d003f\",\"line_width\":2,\"x\":{\"field\":\"Date\"},\"y\":{\"field\":\"value\"}},\"id\":\"15685\",\"type\":\"Line\"},{\"attributes\":{},\"id\":\"15406\",\"type\":\"UnionRenderers\"},{\"attributes\":{\"line_color\":\"#3a0182\",\"line_width\":2,\"x\":{\"field\":\"Date\"},\"y\":{\"field\":\"value\"}},\"id\":\"15567\",\"type\":\"Line\"},{\"attributes\":{\"data\":{\"Date\":[\"1/1/1998\",\"4/1/1998\",\"7/1/1998\",\"10/1/1998\",\"1/1/1999\",\"4/1/1999\",\"7/1/1999\",\"10/1/1999\",\"1/1/2000\",\"4/1/2000\",\"7/1/2000\",\"10/1/2000\",\"1/1/2001\",\"4/1/2001\",\"7/1/2001\",\"10/1/2001\",\"1/1/2002\",\"4/1/2002\",\"7/1/2002\",\"10/1/2002\",\"1/1/2003\",\"4/1/2003\",\"7/1/2003\",\"10/1/2003\",\"1/1/2004\",\"4/1/2004\",\"7/1/2004\",\"10/1/2004\",\"1/1/2005\",\"4/1/2005\",\"7/1/2005\",\"10/1/2005\",\"1/1/2006\",\"4/1/2006\",\"7/1/2006\",\"10/1/2006\",\"1/1/2007\",\"4/1/2007\",\"7/1/2007\",\"10/1/2007\",\"1/1/2008\",\"4/1/2008\",\"7/1/2008\",\"10/1/2008\",\"1/1/2009\",\"4/1/2009\",\"7/1/2009\",\"10/1/2009\",\"1/1/2010\",\"4/1/2010\",\"7/1/2010\",\"10/1/2010\",\"1/1/2011\",\"4/1/2011\",\"7/1/2011\",\"10/1/2011\",\"1/1/2012\",\"4/1/2012\",\"7/1/2012\",\"10/1/2012\",\"1/1/2013\",\"4/1/2013\",\"7/1/2013\",\"10/1/2013\",\"1/1/2014\",\"4/1/2014\",\"7/1/2014\",\"10/1/2014\",\"1/1/2015\",\"4/1/2015\",\"7/1/2015\",\"10/1/2015\",\"1/1/2016\",\"4/1/2016\",\"7/1/2016\",\"10/1/2016\",\"1/1/2017\",\"4/1/2017\",\"7/1/2017\",\"10/1/2017\",\"1/1/2018\",\"4/1/2018\",\"7/1/2018\",\"10/1/2018\",\"1/1/2019\",\"4/1/2019\",\"7/1/2019\",\"10/1/2019\",\"1/1/2020\",\"4/1/2020\",\"7/1/2020\"],\"Variable\":[\"Global Index (USD)\",\"Global Index (USD)\",\"Global Index (USD)\",\"Global Index (USD)\",\"Global Index (USD)\",\"Global Index (USD)\",\"Global Index (USD)\",\"Global Index (USD)\",\"Global Index (USD)\",\"Global Index (USD)\",\"Global Index (USD)\",\"Global Index (USD)\",\"Global Index (USD)\",\"Global Index (USD)\",\"Global Index (USD)\",\"Global Index (USD)\",\"Global Index (USD)\",\"Global Index (USD)\",\"Global Index (USD)\",\"Global Index (USD)\",\"Global Index (USD)\",\"Global Index (USD)\",\"Global Index (USD)\",\"Global Index (USD)\",\"Global Index (USD)\",\"Global Index (USD)\",\"Global Index (USD)\",\"Global Index (USD)\",\"Global Index (USD)\",\"Global Index (USD)\",\"Global Index (USD)\",\"Global Index (USD)\",\"Global Index (USD)\",\"Global Index (USD)\",\"Global Index (USD)\",\"Global Index (USD)\",\"Global Index (USD)\",\"Global Index (USD)\",\"Global Index (USD)\",\"Global Index (USD)\",\"Global Index (USD)\",\"Global Index (USD)\",\"Global Index (USD)\",\"Global Index (USD)\",\"Global Index (USD)\",\"Global Index (USD)\",\"Global Index (USD)\",\"Global Index (USD)\",\"Global Index (USD)\",\"Global Index (USD)\",\"Global Index (USD)\",\"Global Index (USD)\",\"Global Index (USD)\",\"Global Index (USD)\",\"Global Index (USD)\",\"Global Index (USD)\",\"Global Index (USD)\",\"Global Index (USD)\",\"Global Index (USD)\",\"Global Index (USD)\",\"Global Index (USD)\",\"Global Index (USD)\",\"Global Index (USD)\",\"Global Index (USD)\",\"Global Index (USD)\",\"Global Index (USD)\",\"Global Index (USD)\",\"Global Index (USD)\",\"Global Index (USD)\",\"Global Index (USD)\",\"Global Index (USD)\",\"Global Index (USD)\",\"Global Index (USD)\",\"Global Index (USD)\",\"Global Index (USD)\",\"Global Index (USD)\",\"Global Index (USD)\",\"Global Index (USD)\",\"Global Index (USD)\",\"Global Index (USD)\",\"Global Index (USD)\",\"Global Index (USD)\",\"Global Index (USD)\",\"Global Index (USD)\",\"Global Index (USD)\",\"Global Index (USD)\",\"Global Index (USD)\",\"Global Index (USD)\",\"Global Index (USD)\",\"Global Index (USD)\",\"Global Index (USD)\"],\"value\":[100,107,106,96,104,103,104,104,113,116,112,115,104,122,107,107,107,110,110,112,127,140,140,122,142,155,154,155,163,187,176,160,181,178,194,167,196,227,233,199,240,227,240,196,175,145,175,145,190,179,173,151,207,187,243,212,204,131,190,154,200,188,201,190,194,176,207,221,233,181,170,152,163,149,152,134,170,133,155,136,164,136,152,122,142,124,137,113,137,118,124]},\"selected\":{\"id\":\"15304\"},\"selection_policy\":{\"id\":\"15317\"}},\"id\":\"15303\",\"type\":\"ColumnDataSource\"},{\"attributes\":{\"data\":{\"Date\":[\"1/1/1998\",\"4/1/1998\",\"7/1/1998\",\"10/1/1998\",\"1/1/1999\",\"4/1/1999\",\"7/1/1999\",\"10/1/1999\",\"1/1/2000\",\"4/1/2000\",\"7/1/2000\",\"10/1/2000\",\"1/1/2001\",\"4/1/2001\",\"7/1/2001\",\"10/1/2001\",\"1/1/2002\",\"4/1/2002\",\"7/1/2002\",\"10/1/2002\",\"1/1/2003\",\"4/1/2003\",\"7/1/2003\",\"10/1/2003\",\"1/1/2004\",\"4/1/2004\",\"7/1/2004\",\"10/1/2004\",\"1/1/2005\",\"4/1/2005\",\"7/1/2005\",\"10/1/2005\",\"1/1/2006\",\"4/1/2006\",\"7/1/2006\",\"10/1/2006\",\"1/1/2007\",\"4/1/2007\",\"7/1/2007\",\"10/1/2007\",\"1/1/2008\",\"4/1/2008\",\"7/1/2008\",\"10/1/2008\",\"1/1/2009\",\"4/1/2009\",\"7/1/2009\",\"10/1/2009\",\"1/1/2010\",\"4/1/2010\",\"7/1/2010\",\"10/1/2010\",\"1/1/2011\",\"4/1/2011\",\"7/1/2011\",\"10/1/2011\",\"1/1/2012\",\"4/1/2012\",\"7/1/2012\",\"10/1/2012\",\"1/1/2013\",\"4/1/2013\",\"7/1/2013\",\"10/1/2013\",\"1/1/2014\",\"4/1/2014\",\"7/1/2014\",\"10/1/2014\",\"1/1/2015\",\"4/1/2015\",\"7/1/2015\",\"10/1/2015\",\"1/1/2016\",\"4/1/2016\",\"7/1/2016\",\"10/1/2016\",\"1/1/2017\",\"4/1/2017\",\"7/1/2017\",\"10/1/2017\",\"1/1/2018\",\"4/1/2018\",\"7/1/2018\",\"10/1/2018\",\"1/1/2019\",\"4/1/2019\",\"7/1/2019\",\"10/1/2019\",\"1/1/2020\",\"4/1/2020\",\"7/1/2020\"],\"Variable\":[\"Post-War\",\"Post-War\",\"Post-War\",\"Post-War\",\"Post-War\",\"Post-War\",\"Post-War\",\"Post-War\",\"Post-War\",\"Post-War\",\"Post-War\",\"Post-War\",\"Post-War\",\"Post-War\",\"Post-War\",\"Post-War\",\"Post-War\",\"Post-War\",\"Post-War\",\"Post-War\",\"Post-War\",\"Post-War\",\"Post-War\",\"Post-War\",\"Post-War\",\"Post-War\",\"Post-War\",\"Post-War\",\"Post-War\",\"Post-War\",\"Post-War\",\"Post-War\",\"Post-War\",\"Post-War\",\"Post-War\",\"Post-War\",\"Post-War\",\"Post-War\",\"Post-War\",\"Post-War\",\"Post-War\",\"Post-War\",\"Post-War\",\"Post-War\",\"Post-War\",\"Post-War\",\"Post-War\",\"Post-War\",\"Post-War\",\"Post-War\",\"Post-War\",\"Post-War\",\"Post-War\",\"Post-War\",\"Post-War\",\"Post-War\",\"Post-War\",\"Post-War\",\"Post-War\",\"Post-War\",\"Post-War\",\"Post-War\",\"Post-War\",\"Post-War\",\"Post-War\",\"Post-War\",\"Post-War\",\"Post-War\",\"Post-War\",\"Post-War\",\"Post-War\",\"Post-War\",\"Post-War\",\"Post-War\",\"Post-War\",\"Post-War\",\"Post-War\",\"Post-War\",\"Post-War\",\"Post-War\",\"Post-War\",\"Post-War\",\"Post-War\",\"Post-War\",\"Post-War\",\"Post-War\",\"Post-War\",\"Post-War\",\"Post-War\",\"Post-War\",\"Post-War\"],\"value\":[100,114,112,102,108,122,130,135,140,141,141,142,142,146,146,141,141,151,155,156,179,195,182,175,192,211,214,218,234,246,248,258,259,261,285,311,334,361,391,398,411,436,418,359,309,298,293,281,301,322,300,291,336,375,360,338,332,332,326,329,349,344,313,293,310,350,361,351,352,356,354,349,345,336,323,314,300,288,291,302,307,307,295,283,286,293,282,266,270,277,277]},\"selected\":{\"id\":\"15530\"},\"selection_policy\":{\"id\":\"15561\"}},\"id\":\"15529\",\"type\":\"ColumnDataSource\"},{\"attributes\":{},\"id\":\"15288\",\"type\":\"WheelZoomTool\"},{\"attributes\":{\"line_alpha\":0.2,\"line_color\":\"#3a0182\",\"line_width\":2,\"x\":{\"field\":\"Date\"},\"y\":{\"field\":\"value\"}},\"id\":\"15569\",\"type\":\"Line\"},{\"attributes\":{\"data_source\":{\"id\":\"15384\"},\"glyph\":{\"id\":\"15387\"},\"hover_glyph\":null,\"muted_glyph\":{\"id\":\"15389\"},\"nonselection_glyph\":{\"id\":\"15388\"},\"selection_glyph\":null,\"view\":{\"id\":\"15391\"}},\"id\":\"15390\",\"type\":\"GlyphRenderer\"},{\"attributes\":{\"line_alpha\":0.2,\"line_color\":\"#5d003f\",\"line_width\":2,\"x\":{\"field\":\"Date\"},\"y\":{\"field\":\"value\"}},\"id\":\"15686\",\"type\":\"Line\"},{\"attributes\":{\"label\":{\"value\":\"Photography\"},\"renderers\":[{\"id\":\"15390\"}]},\"id\":\"15408\",\"type\":\"LegendItem\"},{\"attributes\":{\"line_alpha\":0.1,\"line_color\":\"#9367bc\",\"line_width\":2,\"x\":{\"field\":\"Date\"},\"y\":{\"field\":\"value\"}},\"id\":\"15388\",\"type\":\"Line\"},{\"attributes\":{\"data_source\":{\"id\":\"15681\"},\"glyph\":{\"id\":\"15684\"},\"hover_glyph\":null,\"muted_glyph\":{\"id\":\"15686\"},\"nonselection_glyph\":{\"id\":\"15685\"},\"selection_glyph\":null,\"view\":{\"id\":\"15688\"}},\"id\":\"15687\",\"type\":\"GlyphRenderer\"},{\"attributes\":{\"line_alpha\":0.2,\"line_color\":\"#0fffa8\",\"line_width\":2,\"x\":{\"field\":\"Date\"},\"y\":{\"field\":\"value\"}},\"id\":\"15645\",\"type\":\"Line\"},{\"attributes\":{\"line_alpha\":0.1,\"line_color\":\"#7e7e7e\",\"line_width\":2,\"x\":{\"field\":\"Date\"},\"y\":{\"field\":\"value\"}},\"id\":\"15469\",\"type\":\"Line\"},{\"attributes\":{\"data\":{\"Date\":[\"1/1/1998\",\"4/1/1998\",\"7/1/1998\",\"10/1/1998\",\"1/1/1999\",\"4/1/1999\",\"7/1/1999\",\"10/1/1999\",\"1/1/2000\",\"4/1/2000\",\"7/1/2000\",\"10/1/2000\",\"1/1/2001\",\"4/1/2001\",\"7/1/2001\",\"10/1/2001\",\"1/1/2002\",\"4/1/2002\",\"7/1/2002\",\"10/1/2002\",\"1/1/2003\",\"4/1/2003\",\"7/1/2003\",\"10/1/2003\",\"1/1/2004\",\"4/1/2004\",\"7/1/2004\",\"10/1/2004\",\"1/1/2005\",\"4/1/2005\",\"7/1/2005\",\"10/1/2005\",\"1/1/2006\",\"4/1/2006\",\"7/1/2006\",\"10/1/2006\",\"1/1/2007\",\"4/1/2007\",\"7/1/2007\",\"10/1/2007\",\"1/1/2008\",\"4/1/2008\",\"7/1/2008\",\"10/1/2008\",\"1/1/2009\",\"4/1/2009\",\"7/1/2009\",\"10/1/2009\",\"1/1/2010\",\"4/1/2010\",\"7/1/2010\",\"10/1/2010\",\"1/1/2011\",\"4/1/2011\",\"7/1/2011\",\"10/1/2011\",\"1/1/2012\",\"4/1/2012\",\"7/1/2012\",\"10/1/2012\",\"1/1/2013\",\"4/1/2013\",\"7/1/2013\",\"10/1/2013\",\"1/1/2014\",\"4/1/2014\",\"7/1/2014\",\"10/1/2014\",\"1/1/2015\",\"4/1/2015\",\"7/1/2015\",\"10/1/2015\",\"1/1/2016\",\"4/1/2016\",\"7/1/2016\",\"10/1/2016\",\"1/1/2017\",\"4/1/2017\",\"7/1/2017\",\"10/1/2017\",\"1/1/2018\",\"4/1/2018\",\"7/1/2018\",\"10/1/2018\",\"1/1/2019\",\"4/1/2019\",\"7/1/2019\",\"10/1/2019\",\"1/1/2020\",\"4/1/2020\",\"7/1/2020\"],\"Variable\":[\"USA (USD)\",\"USA (USD)\",\"USA (USD)\",\"USA (USD)\",\"USA (USD)\",\"USA (USD)\",\"USA (USD)\",\"USA (USD)\",\"USA (USD)\",\"USA (USD)\",\"USA (USD)\",\"USA (USD)\",\"USA (USD)\",\"USA (USD)\",\"USA (USD)\",\"USA (USD)\",\"USA (USD)\",\"USA (USD)\",\"USA (USD)\",\"USA (USD)\",\"USA (USD)\",\"USA (USD)\",\"USA (USD)\",\"USA (USD)\",\"USA (USD)\",\"USA (USD)\",\"USA (USD)\",\"USA (USD)\",\"USA (USD)\",\"USA (USD)\",\"USA (USD)\",\"USA (USD)\",\"USA (USD)\",\"USA (USD)\",\"USA (USD)\",\"USA (USD)\",\"USA (USD)\",\"USA (USD)\",\"USA (USD)\",\"USA (USD)\",\"USA (USD)\",\"USA (USD)\",\"USA (USD)\",\"USA (USD)\",\"USA (USD)\",\"USA (USD)\",\"USA (USD)\",\"USA (USD)\",\"USA (USD)\",\"USA (USD)\",\"USA (USD)\",\"USA (USD)\",\"USA (USD)\",\"USA (USD)\",\"USA (USD)\",\"USA (USD)\",\"USA (USD)\",\"USA (USD)\",\"USA (USD)\",\"USA (USD)\",\"USA (USD)\",\"USA (USD)\",\"USA (USD)\",\"USA (USD)\",\"USA (USD)\",\"USA (USD)\",\"USA (USD)\",\"USA (USD)\",\"USA (USD)\",\"USA (USD)\",\"USA (USD)\",\"USA (USD)\",\"USA (USD)\",\"USA (USD)\",\"USA (USD)\",\"USA (USD)\",\"USA (USD)\",\"USA (USD)\",\"USA (USD)\",\"USA (USD)\",\"USA (USD)\",\"USA (USD)\",\"USA (USD)\",\"USA (USD)\",\"USA (USD)\",\"USA (USD)\",\"USA (USD)\",\"USA (USD)\",\"USA (USD)\",\"USA (USD)\",\"USA (USD)\"],\"value\":[105,104,100,102,104,104,107,112,115,114,112,112,114,111,107,108,110,111,115,126,137,136,132,140,151,154,157,167,178,175,169,175,182,183,181,196,221,223,218,226,234,226,201,172,160,160,163,176,180,169,171,188,206,221,218,188,164,166,174,185,194,195,194,188,188,203,221,217,191,168,159,157,153,147,148,152,148,145,148,150,147,141,135,132,132,128,125,126,124,126,120]},\"selected\":{\"id\":\"15602\"},\"selection_policy\":{\"id\":\"15637\"}},\"id\":\"15601\",\"type\":\"ColumnDataSource\"},{\"attributes\":{\"data_source\":{\"id\":\"15564\"},\"glyph\":{\"id\":\"15567\"},\"hover_glyph\":null,\"muted_glyph\":{\"id\":\"15569\"},\"nonselection_glyph\":{\"id\":\"15568\"},\"selection_glyph\":null,\"view\":{\"id\":\"15571\"}},\"id\":\"15570\",\"type\":\"GlyphRenderer\"},{\"attributes\":{},\"id\":\"15526\",\"type\":\"UnionRenderers\"},{\"attributes\":{\"data_source\":{\"id\":\"15436\"},\"glyph\":{\"id\":\"15439\"},\"hover_glyph\":null,\"muted_glyph\":{\"id\":\"15441\"},\"nonselection_glyph\":{\"id\":\"15440\"},\"selection_glyph\":null,\"view\":{\"id\":\"15443\"}},\"id\":\"15442\",\"type\":\"GlyphRenderer\"},{\"attributes\":{},\"id\":\"15637\",\"type\":\"UnionRenderers\"},{\"attributes\":{\"axis_label\":\"Price - Base 100\",\"bounds\":\"auto\",\"formatter\":{\"id\":\"15301\"},\"major_label_orientation\":\"horizontal\",\"ticker\":{\"id\":\"15283\"}},\"id\":\"15282\",\"type\":\"LinearAxis\"},{\"attributes\":{\"margin\":[5,5,5,5],\"name\":\"HSpacer37940\",\"sizing_mode\":\"stretch_width\"},\"id\":\"16030\",\"type\":\"Spacer\"},{\"attributes\":{},\"id\":\"15287\",\"type\":\"PanTool\"},{\"attributes\":{},\"id\":\"15466\",\"type\":\"Selection\"},{\"attributes\":{\"callback\":null,\"renderers\":[{\"id\":\"15309\"},{\"id\":\"15327\"},{\"id\":\"15346\"},{\"id\":\"15367\"},{\"id\":\"15390\"},{\"id\":\"15415\"},{\"id\":\"15442\"},{\"id\":\"15471\"},{\"id\":\"15502\"},{\"id\":\"15535\"},{\"id\":\"15570\"},{\"id\":\"15607\"},{\"id\":\"15646\"},{\"id\":\"15687\"}],\"tags\":[\"hv_created\"],\"tooltips\":[[\"Variable\",\"@{Variable}\"],[\"Date\",\"@{Date}\"],[\"value\",\"@{value}\"]]},\"id\":\"15256\",\"type\":\"HoverTool\"},{\"attributes\":{},\"id\":\"15299\",\"type\":\"CategoricalTickFormatter\"},{\"attributes\":{\"line_color\":\"#ff7e0e\",\"line_width\":2,\"x\":{\"field\":\"Date\"},\"y\":{\"field\":\"value\"}},\"id\":\"15324\",\"type\":\"Line\"},{\"attributes\":{\"source\":{\"id\":\"15361\"}},\"id\":\"15368\",\"type\":\"CDSView\"},{\"attributes\":{\"overlay\":{\"id\":\"15291\"}},\"id\":\"15289\",\"type\":\"BoxZoomTool\"},{\"attributes\":{\"line_color\":\"#2ba02b\",\"line_width\":2,\"x\":{\"field\":\"Date\"},\"y\":{\"field\":\"value\"}},\"id\":\"15343\",\"type\":\"Line\"},{\"attributes\":{\"line_color\":\"#5d003f\",\"line_width\":2,\"x\":{\"field\":\"Date\"},\"y\":{\"field\":\"value\"}},\"id\":\"15684\",\"type\":\"Line\"},{\"attributes\":{},\"id\":\"15433\",\"type\":\"UnionRenderers\"},{\"attributes\":{\"factors\":[\"1/1/1998\",\"4/1/1998\",\"7/1/1998\",\"10/1/1998\",\"1/1/1999\",\"4/1/1999\",\"7/1/1999\",\"10/1/1999\",\"1/1/2000\",\"4/1/2000\",\"7/1/2000\",\"10/1/2000\",\"1/1/2001\",\"4/1/2001\",\"7/1/2001\",\"10/1/2001\",\"1/1/2002\",\"4/1/2002\",\"7/1/2002\",\"10/1/2002\",\"1/1/2003\",\"4/1/2003\",\"7/1/2003\",\"10/1/2003\",\"1/1/2004\",\"4/1/2004\",\"7/1/2004\",\"10/1/2004\",\"1/1/2005\",\"4/1/2005\",\"7/1/2005\",\"10/1/2005\",\"1/1/2006\",\"4/1/2006\",\"7/1/2006\",\"10/1/2006\",\"1/1/2007\",\"4/1/2007\",\"7/1/2007\",\"10/1/2007\",\"1/1/2008\",\"4/1/2008\",\"7/1/2008\",\"10/1/2008\",\"1/1/2009\",\"4/1/2009\",\"7/1/2009\",\"10/1/2009\",\"1/1/2010\",\"4/1/2010\",\"7/1/2010\",\"10/1/2010\",\"1/1/2011\",\"4/1/2011\",\"7/1/2011\",\"10/1/2011\",\"1/1/2012\",\"4/1/2012\",\"7/1/2012\",\"10/1/2012\",\"1/1/2013\",\"4/1/2013\",\"7/1/2013\",\"10/1/2013\",\"1/1/2014\",\"4/1/2014\",\"7/1/2014\",\"10/1/2014\",\"1/1/2015\",\"4/1/2015\",\"7/1/2015\",\"10/1/2015\",\"1/1/2016\",\"4/1/2016\",\"7/1/2016\",\"10/1/2016\",\"1/1/2017\",\"4/1/2017\",\"7/1/2017\",\"10/1/2017\",\"1/1/2018\",\"4/1/2018\",\"7/1/2018\",\"10/1/2018\",\"1/1/2019\",\"4/1/2019\",\"7/1/2019\",\"10/1/2019\",\"1/1/2020\",\"4/1/2020\",\"7/1/2020\"],\"tags\":[[[\"Date\",\"Date\",null]]]},\"id\":\"15254\",\"type\":\"FactorRange\"},{\"attributes\":{\"line_alpha\":0.2,\"line_color\":\"#ff7e0e\",\"line_width\":2,\"x\":{\"field\":\"Date\"},\"y\":{\"field\":\"value\"}},\"id\":\"15326\",\"type\":\"Line\"},{\"attributes\":{\"align\":null,\"below\":[{\"id\":\"15279\"}],\"center\":[{\"id\":\"15281\"},{\"id\":\"15285\"}],\"frame_height\":500,\"frame_width\":1500,\"left\":[{\"id\":\"15282\"}],\"margin\":null,\"min_border_bottom\":10,\"min_border_left\":10,\"min_border_right\":10,\"min_border_top\":10,\"plot_height\":null,\"plot_width\":null,\"renderers\":[{\"id\":\"15309\"},{\"id\":\"15327\"},{\"id\":\"15346\"},{\"id\":\"15367\"},{\"id\":\"15390\"},{\"id\":\"15415\"},{\"id\":\"15442\"},{\"id\":\"15471\"},{\"id\":\"15502\"},{\"id\":\"15535\"},{\"id\":\"15570\"},{\"id\":\"15607\"},{\"id\":\"15646\"},{\"id\":\"15687\"}],\"right\":[{\"id\":\"15319\"}],\"sizing_mode\":\"fixed\",\"title\":{\"id\":\"15271\"},\"toolbar\":{\"id\":\"15292\"},\"x_range\":{\"id\":\"15254\"},\"x_scale\":{\"id\":\"15275\"},\"y_range\":{\"id\":\"15255\"},\"y_scale\":{\"id\":\"15277\"}},\"id\":\"15270\",\"subtype\":\"Figure\",\"type\":\"Plot\"},{\"attributes\":{\"source\":{\"id\":\"15465\"}},\"id\":\"15472\",\"type\":\"CDSView\"},{\"attributes\":{\"line_color\":\"#8c564b\",\"line_width\":2,\"x\":{\"field\":\"Date\"},\"y\":{\"field\":\"value\"}},\"id\":\"15412\",\"type\":\"Line\"},{\"attributes\":{\"line_alpha\":0.1,\"line_color\":\"#2ba02b\",\"line_width\":2,\"x\":{\"field\":\"Date\"},\"y\":{\"field\":\"value\"}},\"id\":\"15344\",\"type\":\"Line\"},{\"attributes\":{\"label\":{\"value\":\"Drawing\"},\"renderers\":[{\"id\":\"15415\"}]},\"id\":\"15435\",\"type\":\"LegendItem\"},{\"attributes\":{},\"id\":\"15410\",\"type\":\"Selection\"},{\"attributes\":{\"data\":{\"Date\":[\"1/1/1998\",\"4/1/1998\",\"7/1/1998\",\"10/1/1998\",\"1/1/1999\",\"4/1/1999\",\"7/1/1999\",\"10/1/1999\",\"1/1/2000\",\"4/1/2000\",\"7/1/2000\",\"10/1/2000\",\"1/1/2001\",\"4/1/2001\",\"7/1/2001\",\"10/1/2001\",\"1/1/2002\",\"4/1/2002\",\"7/1/2002\",\"10/1/2002\",\"1/1/2003\",\"4/1/2003\",\"7/1/2003\",\"10/1/2003\",\"1/1/2004\",\"4/1/2004\",\"7/1/2004\",\"10/1/2004\",\"1/1/2005\",\"4/1/2005\",\"7/1/2005\",\"10/1/2005\",\"1/1/2006\",\"4/1/2006\",\"7/1/2006\",\"10/1/2006\",\"1/1/2007\",\"4/1/2007\",\"7/1/2007\",\"10/1/2007\",\"1/1/2008\",\"4/1/2008\",\"7/1/2008\",\"10/1/2008\",\"1/1/2009\",\"4/1/2009\",\"7/1/2009\",\"10/1/2009\",\"1/1/2010\",\"4/1/2010\",\"7/1/2010\",\"10/1/2010\",\"1/1/2011\",\"4/1/2011\",\"7/1/2011\",\"10/1/2011\",\"1/1/2012\",\"4/1/2012\",\"7/1/2012\",\"10/1/2012\",\"1/1/2013\",\"4/1/2013\",\"7/1/2013\",\"10/1/2013\",\"1/1/2014\",\"4/1/2014\",\"7/1/2014\",\"10/1/2014\",\"1/1/2015\",\"4/1/2015\",\"7/1/2015\",\"10/1/2015\",\"1/1/2016\",\"4/1/2016\",\"7/1/2016\",\"10/1/2016\",\"1/1/2017\",\"4/1/2017\",\"7/1/2017\",\"10/1/2017\",\"1/1/2018\",\"4/1/2018\",\"7/1/2018\",\"10/1/2018\",\"1/1/2019\",\"4/1/2019\",\"7/1/2019\",\"10/1/2019\",\"1/1/2020\",\"4/1/2020\",\"7/1/2020\"],\"Variable\":[\"Drawing\",\"Drawing\",\"Drawing\",\"Drawing\",\"Drawing\",\"Drawing\",\"Drawing\",\"Drawing\",\"Drawing\",\"Drawing\",\"Drawing\",\"Drawing\",\"Drawing\",\"Drawing\",\"Drawing\",\"Drawing\",\"Drawing\",\"Drawing\",\"Drawing\",\"Drawing\",\"Drawing\",\"Drawing\",\"Drawing\",\"Drawing\",\"Drawing\",\"Drawing\",\"Drawing\",\"Drawing\",\"Drawing\",\"Drawing\",\"Drawing\",\"Drawing\",\"Drawing\",\"Drawing\",\"Drawing\",\"Drawing\",\"Drawing\",\"Drawing\",\"Drawing\",\"Drawing\",\"Drawing\",\"Drawing\",\"Drawing\",\"Drawing\",\"Drawing\",\"Drawing\",\"Drawing\",\"Drawing\",\"Drawing\",\"Drawing\",\"Drawing\",\"Drawing\",\"Drawing\",\"Drawing\",\"Drawing\",\"Drawing\",\"Drawing\",\"Drawing\",\"Drawing\",\"Drawing\",\"Drawing\",\"Drawing\",\"Drawing\",\"Drawing\",\"Drawing\",\"Drawing\",\"Drawing\",\"Drawing\",\"Drawing\",\"Drawing\",\"Drawing\",\"Drawing\",\"Drawing\",\"Drawing\",\"Drawing\",\"Drawing\",\"Drawing\",\"Drawing\",\"Drawing\",\"Drawing\",\"Drawing\",\"Drawing\",\"Drawing\",\"Drawing\",\"Drawing\",\"Drawing\",\"Drawing\",\"Drawing\",\"Drawing\",\"Drawing\",\"Drawing\"],\"value\":[100,104,106,109,108,103,102,103,109,114,114,113,114,113,110,110,110,109,105,113,134,149,142,123,130,153,161,166,174,179,174,170,186,202,198,186,190,203,185,167,181,193,186,166,135,114,112,125,152,171,169,183,210,239,280,278,221,179,186,206,226,239,240,240,228,225,249,281,297,276,231,207,206,197,179,190,213,199,184,193,199,186,176,171,164,157,150,147,150,138,134]},\"selected\":{\"id\":\"15410\"},\"selection_policy\":{\"id\":\"15433\"}},\"id\":\"15409\",\"type\":\"ColumnDataSource\"},{\"attributes\":{\"line_alpha\":0.1,\"line_color\":\"#bcbc21\",\"line_width\":2,\"x\":{\"field\":\"Date\"},\"y\":{\"field\":\"value\"}},\"id\":\"15500\",\"type\":\"Line\"},{\"attributes\":{},\"id\":\"15530\",\"type\":\"Selection\"},{\"attributes\":{\"source\":{\"id\":\"15321\"}},\"id\":\"15328\",\"type\":\"CDSView\"},{\"attributes\":{\"line_color\":\"#d62628\",\"line_width\":2,\"x\":{\"field\":\"Date\"},\"y\":{\"field\":\"value\"}},\"id\":\"15364\",\"type\":\"Line\"},{\"attributes\":{\"data_source\":{\"id\":\"15321\"},\"glyph\":{\"id\":\"15324\"},\"hover_glyph\":null,\"muted_glyph\":{\"id\":\"15326\"},\"nonselection_glyph\":{\"id\":\"15325\"},\"selection_glyph\":null,\"view\":{\"id\":\"15328\"}},\"id\":\"15327\",\"type\":\"GlyphRenderer\"},{\"attributes\":{\"data\":{\"Date\":[\"1/1/1998\",\"4/1/1998\",\"7/1/1998\",\"10/1/1998\",\"1/1/1999\",\"4/1/1999\",\"7/1/1999\",\"10/1/1999\",\"1/1/2000\",\"4/1/2000\",\"7/1/2000\",\"10/1/2000\",\"1/1/2001\",\"4/1/2001\",\"7/1/2001\",\"10/1/2001\",\"1/1/2002\",\"4/1/2002\",\"7/1/2002\",\"10/1/2002\",\"1/1/2003\",\"4/1/2003\",\"7/1/2003\",\"10/1/2003\",\"1/1/2004\",\"4/1/2004\",\"7/1/2004\",\"10/1/2004\",\"1/1/2005\",\"4/1/2005\",\"7/1/2005\",\"10/1/2005\",\"1/1/2006\",\"4/1/2006\",\"7/1/2006\",\"10/1/2006\",\"1/1/2007\",\"4/1/2007\",\"7/1/2007\",\"10/1/2007\",\"1/1/2008\",\"4/1/2008\",\"7/1/2008\",\"10/1/2008\",\"1/1/2009\",\"4/1/2009\",\"7/1/2009\",\"10/1/2009\",\"1/1/2010\",\"4/1/2010\",\"7/1/2010\",\"10/1/2010\",\"1/1/2011\",\"4/1/2011\",\"7/1/2011\",\"10/1/2011\",\"1/1/2012\",\"4/1/2012\",\"7/1/2012\",\"10/1/2012\",\"1/1/2013\",\"4/1/2013\",\"7/1/2013\",\"10/1/2013\",\"1/1/2014\",\"4/1/2014\",\"7/1/2014\",\"10/1/2014\",\"1/1/2015\",\"4/1/2015\",\"7/1/2015\",\"10/1/2015\",\"1/1/2016\",\"4/1/2016\",\"7/1/2016\",\"10/1/2016\",\"1/1/2017\",\"4/1/2017\",\"7/1/2017\",\"10/1/2017\",\"1/1/2018\",\"4/1/2018\",\"7/1/2018\",\"10/1/2018\",\"1/1/2019\",\"4/1/2019\",\"7/1/2019\",\"10/1/2019\",\"1/1/2020\",\"4/1/2020\",\"7/1/2020\"],\"Variable\":[\"Painting\",\"Painting\",\"Painting\",\"Painting\",\"Painting\",\"Painting\",\"Painting\",\"Painting\",\"Painting\",\"Painting\",\"Painting\",\"Painting\",\"Painting\",\"Painting\",\"Painting\",\"Painting\",\"Painting\",\"Painting\",\"Painting\",\"Painting\",\"Painting\",\"Painting\",\"Painting\",\"Painting\",\"Painting\",\"Painting\",\"Painting\",\"Painting\",\"Painting\",\"Painting\",\"Painting\",\"Painting\",\"Painting\",\"Painting\",\"Painting\",\"Painting\",\"Painting\",\"Painting\",\"Painting\",\"Painting\",\"Painting\",\"Painting\",\"Painting\",\"Painting\",\"Painting\",\"Painting\",\"Painting\",\"Painting\",\"Painting\",\"Painting\",\"Painting\",\"Painting\",\"Painting\",\"Painting\",\"Painting\",\"Painting\",\"Painting\",\"Painting\",\"Painting\",\"Painting\",\"Painting\",\"Painting\",\"Painting\",\"Painting\",\"Painting\",\"Painting\",\"Painting\",\"Painting\",\"Painting\",\"Painting\",\"Painting\",\"Painting\",\"Painting\",\"Painting\",\"Painting\",\"Painting\",\"Painting\",\"Painting\",\"Painting\",\"Painting\",\"Painting\",\"Painting\",\"Painting\",\"Painting\",\"Painting\",\"Painting\",\"Painting\",\"Painting\",\"Painting\",\"Painting\",\"Painting\"],\"value\":[100,109,107,103,107,114,115,115,117,118,119,117,111,111,112,111,114,117,120,123,132,141,137,138,154,168,170,172,182,191,187,181,183,193,197,199,218,241,249,249,257,266,256,230,207,199,196,193,203,209,196,188,201,213,208,198,190,184,176,170,170,173,174,173,175,178,178,175,168,159,155,153,149,146,141,134,134,136,134,132,133,136,133,126,126,126,121,116,116,117,120]},\"selected\":{\"id\":\"15341\"},\"selection_policy\":{\"id\":\"15358\"}},\"id\":\"15340\",\"type\":\"ColumnDataSource\"},{\"attributes\":{\"line_alpha\":0.2,\"line_color\":\"#d62628\",\"line_width\":2,\"x\":{\"field\":\"Date\"},\"y\":{\"field\":\"value\"}},\"id\":\"15366\",\"type\":\"Line\"},{\"attributes\":{\"label\":{\"value\":\"UK (GBP)\"},\"renderers\":[{\"id\":\"15646\"}]},\"id\":\"15680\",\"type\":\"LegendItem\"},{\"attributes\":{\"data_source\":{\"id\":\"15361\"},\"glyph\":{\"id\":\"15364\"},\"hover_glyph\":null,\"muted_glyph\":{\"id\":\"15366\"},\"nonselection_glyph\":{\"id\":\"15365\"},\"selection_glyph\":null,\"view\":{\"id\":\"15368\"}},\"id\":\"15367\",\"type\":\"GlyphRenderer\"},{\"attributes\":{},\"id\":\"15301\",\"type\":\"BasicTickFormatter\"},{\"attributes\":{\"line_alpha\":0.1,\"line_color\":\"#1f77b3\",\"line_width\":2,\"x\":{\"field\":\"Date\"},\"y\":{\"field\":\"value\"}},\"id\":\"15307\",\"type\":\"Line\"},{\"attributes\":{\"data\":{\"Date\":[\"1/1/1998\",\"4/1/1998\",\"7/1/1998\",\"10/1/1998\",\"1/1/1999\",\"4/1/1999\",\"7/1/1999\",\"10/1/1999\",\"1/1/2000\",\"4/1/2000\",\"7/1/2000\",\"10/1/2000\",\"1/1/2001\",\"4/1/2001\",\"7/1/2001\",\"10/1/2001\",\"1/1/2002\",\"4/1/2002\",\"7/1/2002\",\"10/1/2002\",\"1/1/2003\",\"4/1/2003\",\"7/1/2003\",\"10/1/2003\",\"1/1/2004\",\"4/1/2004\",\"7/1/2004\",\"10/1/2004\",\"1/1/2005\",\"4/1/2005\",\"7/1/2005\",\"10/1/2005\",\"1/1/2006\",\"4/1/2006\",\"7/1/2006\",\"10/1/2006\",\"1/1/2007\",\"4/1/2007\",\"7/1/2007\",\"10/1/2007\",\"1/1/2008\",\"4/1/2008\",\"7/1/2008\",\"10/1/2008\",\"1/1/2009\",\"4/1/2009\",\"7/1/2009\",\"10/1/2009\",\"1/1/2010\",\"4/1/2010\",\"7/1/2010\",\"10/1/2010\",\"1/1/2011\",\"4/1/2011\",\"7/1/2011\",\"10/1/2011\",\"1/1/2012\",\"4/1/2012\",\"7/1/2012\",\"10/1/2012\",\"1/1/2013\",\"4/1/2013\",\"7/1/2013\",\"10/1/2013\",\"1/1/2014\",\"4/1/2014\",\"7/1/2014\",\"10/1/2014\",\"1/1/2015\",\"4/1/2015\",\"7/1/2015\",\"10/1/2015\",\"1/1/2016\",\"4/1/2016\",\"7/1/2016\",\"10/1/2016\",\"1/1/2017\",\"4/1/2017\",\"7/1/2017\",\"10/1/2017\",\"1/1/2018\",\"4/1/2018\",\"7/1/2018\",\"10/1/2018\",\"1/1/2019\",\"4/1/2019\",\"7/1/2019\",\"10/1/2019\",\"1/1/2020\",\"4/1/2020\",\"7/1/2020\"],\"Variable\":[\"Sculpture\",\"Sculpture\",\"Sculpture\",\"Sculpture\",\"Sculpture\",\"Sculpture\",\"Sculpture\",\"Sculpture\",\"Sculpture\",\"Sculpture\",\"Sculpture\",\"Sculpture\",\"Sculpture\",\"Sculpture\",\"Sculpture\",\"Sculpture\",\"Sculpture\",\"Sculpture\",\"Sculpture\",\"Sculpture\",\"Sculpture\",\"Sculpture\",\"Sculpture\",\"Sculpture\",\"Sculpture\",\"Sculpture\",\"Sculpture\",\"Sculpture\",\"Sculpture\",\"Sculpture\",\"Sculpture\",\"Sculpture\",\"Sculpture\",\"Sculpture\",\"Sculpture\",\"Sculpture\",\"Sculpture\",\"Sculpture\",\"Sculpture\",\"Sculpture\",\"Sculpture\",\"Sculpture\",\"Sculpture\",\"Sculpture\",\"Sculpture\",\"Sculpture\",\"Sculpture\",\"Sculpture\",\"Sculpture\",\"Sculpture\",\"Sculpture\",\"Sculpture\",\"Sculpture\",\"Sculpture\",\"Sculpture\",\"Sculpture\",\"Sculpture\",\"Sculpture\",\"Sculpture\",\"Sculpture\",\"Sculpture\",\"Sculpture\",\"Sculpture\",\"Sculpture\",\"Sculpture\",\"Sculpture\",\"Sculpture\",\"Sculpture\",\"Sculpture\",\"Sculpture\",\"Sculpture\",\"Sculpture\",\"Sculpture\",\"Sculpture\",\"Sculpture\",\"Sculpture\",\"Sculpture\",\"Sculpture\",\"Sculpture\",\"Sculpture\",\"Sculpture\",\"Sculpture\",\"Sculpture\",\"Sculpture\",\"Sculpture\",\"Sculpture\",\"Sculpture\",\"Sculpture\",\"Sculpture\",\"Sculpture\",\"Sculpture\"],\"value\":[100,139,133,128,132,134,134,140,140,137,136,134,140,147,136,126,128,132,133,136,143,154,163,167,171,173,172,172,181,191,182,173,176,182,190,192,208,237,250,251,260,268,260,234,195,182,189,192,199,197,185,187,205,221,221,219,215,207,199,191,192,197,186,174,186,198,195,184,174,171,168,161,154,152,152,151,147,146,151,155,155,153,148,143,140,143,144,143,143,144,152]},\"selected\":{\"id\":\"15362\"},\"selection_policy\":{\"id\":\"15381\"}},\"id\":\"15361\",\"type\":\"ColumnDataSource\"},{\"attributes\":{\"label\":{\"value\":\"USA (USD)\"},\"renderers\":[{\"id\":\"15607\"}]},\"id\":\"15639\",\"type\":\"LegendItem\"},{\"attributes\":{\"source\":{\"id\":\"15436\"}},\"id\":\"15443\",\"type\":\"CDSView\"},{\"attributes\":{\"label\":{\"value\":\"Painting\"},\"renderers\":[{\"id\":\"15346\"}]},\"id\":\"15360\",\"type\":\"LegendItem\"},{\"attributes\":{\"axis\":{\"id\":\"15279\"},\"grid_line_color\":null,\"ticker\":null},\"id\":\"15281\",\"type\":\"Grid\"},{\"attributes\":{\"line_alpha\":0.1,\"line_color\":\"#d62628\",\"line_width\":2,\"x\":{\"field\":\"Date\"},\"y\":{\"field\":\"value\"}},\"id\":\"15365\",\"type\":\"Line\"},{\"attributes\":{},\"id\":\"15362\",\"type\":\"Selection\"},{\"attributes\":{},\"id\":\"15283\",\"type\":\"BasicTicker\"},{\"attributes\":{},\"id\":\"15437\",\"type\":\"Selection\"},{\"attributes\":{\"source\":{\"id\":\"15564\"}},\"id\":\"15571\",\"type\":\"CDSView\"},{\"attributes\":{},\"id\":\"15280\",\"type\":\"CategoricalTicker\"},{\"attributes\":{\"line_alpha\":0.2,\"line_color\":\"#8c564b\",\"line_width\":2,\"x\":{\"field\":\"Date\"},\"y\":{\"field\":\"value\"}},\"id\":\"15414\",\"type\":\"Line\"},{\"attributes\":{\"label\":{\"value\":\"Contemporary\"},\"renderers\":[{\"id\":\"15570\"}]},\"id\":\"15600\",\"type\":\"LegendItem\"},{\"attributes\":{},\"id\":\"15493\",\"type\":\"UnionRenderers\"},{\"attributes\":{\"line_color\":\"#16bdcf\",\"line_width\":2,\"x\":{\"field\":\"Date\"},\"y\":{\"field\":\"value\"}},\"id\":\"15532\",\"type\":\"Line\"},{\"attributes\":{\"label\":{\"value\":\"19th Century\"},\"renderers\":[{\"id\":\"15471\"}]},\"id\":\"15495\",\"type\":\"LegendItem\"},{\"attributes\":{\"data_source\":{\"id\":\"15496\"},\"glyph\":{\"id\":\"15499\"},\"hover_glyph\":null,\"muted_glyph\":{\"id\":\"15501\"},\"nonselection_glyph\":{\"id\":\"15500\"},\"selection_glyph\":null,\"view\":{\"id\":\"15503\"}},\"id\":\"15502\",\"type\":\"GlyphRenderer\"},{\"attributes\":{\"line_alpha\":0.1,\"line_color\":\"#e277c1\",\"line_width\":2,\"x\":{\"field\":\"Date\"},\"y\":{\"field\":\"value\"}},\"id\":\"15440\",\"type\":\"Line\"},{\"attributes\":{\"text\":\"Art Price Index - Quarterly Price in Base 100\",\"text_color\":{\"value\":\"black\"},\"text_font_size\":{\"value\":\"12pt\"}},\"id\":\"15271\",\"type\":\"Title\"},{\"attributes\":{\"data_source\":{\"id\":\"15409\"},\"glyph\":{\"id\":\"15412\"},\"hover_glyph\":null,\"muted_glyph\":{\"id\":\"15414\"},\"nonselection_glyph\":{\"id\":\"15413\"},\"selection_glyph\":null,\"view\":{\"id\":\"15416\"}},\"id\":\"15415\",\"type\":\"GlyphRenderer\"},{\"attributes\":{},\"id\":\"15277\",\"type\":\"LinearScale\"},{\"attributes\":{\"axis\":{\"id\":\"15282\"},\"dimension\":1,\"grid_line_color\":null,\"ticker\":null},\"id\":\"15285\",\"type\":\"Grid\"},{\"attributes\":{\"line_alpha\":0.2,\"line_color\":\"#bcbc21\",\"line_width\":2,\"x\":{\"field\":\"Date\"},\"y\":{\"field\":\"value\"}},\"id\":\"15501\",\"type\":\"Line\"},{\"attributes\":{\"line_alpha\":0.2,\"line_color\":\"#004201\",\"line_width\":2,\"x\":{\"field\":\"Date\"},\"y\":{\"field\":\"value\"}},\"id\":\"15606\",\"type\":\"Line\"},{\"attributes\":{\"data\":{\"Date\":[\"1/1/1998\",\"4/1/1998\",\"7/1/1998\",\"10/1/1998\",\"1/1/1999\",\"4/1/1999\",\"7/1/1999\",\"10/1/1999\",\"1/1/2000\",\"4/1/2000\",\"7/1/2000\",\"10/1/2000\",\"1/1/2001\",\"4/1/2001\",\"7/1/2001\",\"10/1/2001\",\"1/1/2002\",\"4/1/2002\",\"7/1/2002\",\"10/1/2002\",\"1/1/2003\",\"4/1/2003\",\"7/1/2003\",\"10/1/2003\",\"1/1/2004\",\"4/1/2004\",\"7/1/2004\",\"10/1/2004\",\"1/1/2005\",\"4/1/2005\",\"7/1/2005\",\"10/1/2005\",\"1/1/2006\",\"4/1/2006\",\"7/1/2006\",\"10/1/2006\",\"1/1/2007\",\"4/1/2007\",\"7/1/2007\",\"10/1/2007\",\"1/1/2008\",\"4/1/2008\",\"7/1/2008\",\"10/1/2008\",\"1/1/2009\",\"4/1/2009\",\"7/1/2009\",\"10/1/2009\",\"1/1/2010\",\"4/1/2010\",\"7/1/2010\",\"10/1/2010\",\"1/1/2011\",\"4/1/2011\",\"7/1/2011\",\"10/1/2011\",\"1/1/2012\",\"4/1/2012\",\"7/1/2012\",\"10/1/2012\",\"1/1/2013\",\"4/1/2013\",\"7/1/2013\",\"10/1/2013\",\"1/1/2014\",\"4/1/2014\",\"7/1/2014\",\"10/1/2014\",\"1/1/2015\",\"4/1/2015\",\"7/1/2015\",\"10/1/2015\",\"1/1/2016\",\"4/1/2016\",\"7/1/2016\",\"10/1/2016\",\"1/1/2017\",\"4/1/2017\",\"7/1/2017\",\"10/1/2017\",\"1/1/2018\",\"4/1/2018\",\"7/1/2018\",\"10/1/2018\",\"1/1/2019\",\"4/1/2019\",\"7/1/2019\",\"10/1/2019\",\"1/1/2020\",\"4/1/2020\",\"7/1/2020\"],\"Variable\":[\"France (EUR)\",\"France (EUR)\",\"France (EUR)\",\"France (EUR)\",\"France (EUR)\",\"France (EUR)\",\"France (EUR)\",\"France (EUR)\",\"France (EUR)\",\"France (EUR)\",\"France (EUR)\",\"France (EUR)\",\"France (EUR)\",\"France (EUR)\",\"France (EUR)\",\"France (EUR)\",\"France (EUR)\",\"France (EUR)\",\"France (EUR)\",\"France (EUR)\",\"France (EUR)\",\"France (EUR)\",\"France (EUR)\",\"France (EUR)\",\"France (EUR)\",\"France (EUR)\",\"France (EUR)\",\"France (EUR)\",\"France (EUR)\",\"France (EUR)\",\"France (EUR)\",\"France (EUR)\",\"France (EUR)\",\"France (EUR)\",\"France (EUR)\",\"France (EUR)\",\"France (EUR)\",\"France (EUR)\",\"France (EUR)\",\"France (EUR)\",\"France (EUR)\",\"France (EUR)\",\"France (EUR)\",\"France (EUR)\",\"France (EUR)\",\"France (EUR)\",\"France (EUR)\",\"France (EUR)\",\"France (EUR)\",\"France (EUR)\",\"France (EUR)\",\"France (EUR)\",\"France (EUR)\",\"France (EUR)\",\"France (EUR)\",\"France (EUR)\",\"France (EUR)\",\"France (EUR)\",\"France (EUR)\",\"France (EUR)\",\"France (EUR)\",\"France (EUR)\",\"France (EUR)\",\"France (EUR)\",\"France (EUR)\",\"France (EUR)\",\"France (EUR)\",\"France (EUR)\",\"France (EUR)\",\"France (EUR)\",\"France (EUR)\",\"France (EUR)\",\"France (EUR)\",\"France (EUR)\",\"France (EUR)\",\"France (EUR)\",\"France (EUR)\",\"France (EUR)\",\"France (EUR)\",\"France (EUR)\",\"France (EUR)\",\"France (EUR)\",\"France (EUR)\",\"France (EUR)\",\"France (EUR)\",\"France (EUR)\",\"France (EUR)\",\"France (EUR)\",\"France (EUR)\",\"France (EUR)\",\"France (EUR)\"],\"value\":[100,107,105,100,100,105,110,115,123,131,136,138,141,142,139,135,136,137,133,132,139,143,136,129,133,139,142,142,145,154,154,155,163,168,164,159,170,188,186,175,175,174,164,153,142,135,130,128,137,147,146,147,157,167,175,174,155,140,146,153,161,167,167,163,155,154,167,188,197,185,169,161,160,155,147,149,157,153,146,143,141,137,132,129,130,131,128,126,128,126,126]},\"selected\":{\"id\":\"15682\"},\"selection_policy\":{\"id\":\"15721\"}},\"id\":\"15681\",\"type\":\"ColumnDataSource\"},{\"attributes\":{\"data\":{\"Date\":[\"1/1/1998\",\"4/1/1998\",\"7/1/1998\",\"10/1/1998\",\"1/1/1999\",\"4/1/1999\",\"7/1/1999\",\"10/1/1999\",\"1/1/2000\",\"4/1/2000\",\"7/1/2000\",\"10/1/2000\",\"1/1/2001\",\"4/1/2001\",\"7/1/2001\",\"10/1/2001\",\"1/1/2002\",\"4/1/2002\",\"7/1/2002\",\"10/1/2002\",\"1/1/2003\",\"4/1/2003\",\"7/1/2003\",\"10/1/2003\",\"1/1/2004\",\"4/1/2004\",\"7/1/2004\",\"10/1/2004\",\"1/1/2005\",\"4/1/2005\",\"7/1/2005\",\"10/1/2005\",\"1/1/2006\",\"4/1/2006\",\"7/1/2006\",\"10/1/2006\",\"1/1/2007\",\"4/1/2007\",\"7/1/2007\",\"10/1/2007\",\"1/1/2008\",\"4/1/2008\",\"7/1/2008\",\"10/1/2008\",\"1/1/2009\",\"4/1/2009\",\"7/1/2009\",\"10/1/2009\",\"1/1/2010\",\"4/1/2010\",\"7/1/2010\",\"10/1/2010\",\"1/1/2011\",\"4/1/2011\",\"7/1/2011\",\"10/1/2011\",\"1/1/2012\",\"4/1/2012\",\"7/1/2012\",\"10/1/2012\",\"1/1/2013\",\"4/1/2013\",\"7/1/2013\",\"10/1/2013\",\"1/1/2014\",\"4/1/2014\",\"7/1/2014\",\"10/1/2014\",\"1/1/2015\",\"4/1/2015\",\"7/1/2015\",\"10/1/2015\",\"1/1/2016\",\"4/1/2016\",\"7/1/2016\",\"10/1/2016\",\"1/1/2017\",\"4/1/2017\",\"7/1/2017\",\"10/1/2017\",\"1/1/2018\",\"4/1/2018\",\"7/1/2018\",\"10/1/2018\",\"1/1/2019\",\"4/1/2019\",\"7/1/2019\",\"10/1/2019\",\"1/1/2020\",\"4/1/2020\",\"7/1/2020\"],\"Variable\":[\"Print\",\"Print\",\"Print\",\"Print\",\"Print\",\"Print\",\"Print\",\"Print\",\"Print\",\"Print\",\"Print\",\"Print\",\"Print\",\"Print\",\"Print\",\"Print\",\"Print\",\"Print\",\"Print\",\"Print\",\"Print\",\"Print\",\"Print\",\"Print\",\"Print\",\"Print\",\"Print\",\"Print\",\"Print\",\"Print\",\"Print\",\"Print\",\"Print\",\"Print\",\"Print\",\"Print\",\"Print\",\"Print\",\"Print\",\"Print\",\"Print\",\"Print\",\"Print\",\"Print\",\"Print\",\"Print\",\"Print\",\"Print\",\"Print\",\"Print\",\"Print\",\"Print\",\"Print\",\"Print\",\"Print\",\"Print\",\"Print\",\"Print\",\"Print\",\"Print\",\"Print\",\"Print\",\"Print\",\"Print\",\"Print\",\"Print\",\"Print\",\"Print\",\"Print\",\"Print\",\"Print\",\"Print\",\"Print\",\"Print\",\"Print\",\"Print\",\"Print\",\"Print\",\"Print\",\"Print\",\"Print\",\"Print\",\"Print\",\"Print\",\"Print\",\"Print\",\"Print\",\"Print\",\"Print\",\"Print\",\"Print\"],\"value\":[100,114,127,123,109,109,123,130,123,123,134,139,136,141,134,120,127,141,139,130,134,150,164,159,155,168,170,170,193,216,218,207,205,209,205,209,230,259,302,345,359,336,291,245,220,200,191,207,220,220,214,207,216,234,232,218,209,207,214,220,223,220,218,216,230,252,257,257,248,227,216,211,214,218,218,218,216,216,216,214,220,230,232,230,220,214,214,216,218,216,225]},\"selected\":{\"id\":\"15437\"},\"selection_policy\":{\"id\":\"15462\"}},\"id\":\"15436\",\"type\":\"ColumnDataSource\"},{\"attributes\":{\"data\":{\"Date\":[\"1/1/1998\",\"4/1/1998\",\"7/1/1998\",\"10/1/1998\",\"1/1/1999\",\"4/1/1999\",\"7/1/1999\",\"10/1/1999\",\"1/1/2000\",\"4/1/2000\",\"7/1/2000\",\"10/1/2000\",\"1/1/2001\",\"4/1/2001\",\"7/1/2001\",\"10/1/2001\",\"1/1/2002\",\"4/1/2002\",\"7/1/2002\",\"10/1/2002\",\"1/1/2003\",\"4/1/2003\",\"7/1/2003\",\"10/1/2003\",\"1/1/2004\",\"4/1/2004\",\"7/1/2004\",\"10/1/2004\",\"1/1/2005\",\"4/1/2005\",\"7/1/2005\",\"10/1/2005\",\"1/1/2006\",\"4/1/2006\",\"7/1/2006\",\"10/1/2006\",\"1/1/2007\",\"4/1/2007\",\"7/1/2007\",\"10/1/2007\",\"1/1/2008\",\"4/1/2008\",\"7/1/2008\",\"10/1/2008\",\"1/1/2009\",\"4/1/2009\",\"7/1/2009\",\"10/1/2009\",\"1/1/2010\",\"4/1/2010\",\"7/1/2010\",\"10/1/2010\",\"1/1/2011\",\"4/1/2011\",\"7/1/2011\",\"10/1/2011\",\"1/1/2012\",\"4/1/2012\",\"7/1/2012\",\"10/1/2012\",\"1/1/2013\",\"4/1/2013\",\"7/1/2013\",\"10/1/2013\",\"1/1/2014\",\"4/1/2014\",\"7/1/2014\",\"10/1/2014\",\"1/1/2015\",\"4/1/2015\",\"7/1/2015\",\"10/1/2015\",\"1/1/2016\",\"4/1/2016\",\"7/1/2016\",\"10/1/2016\",\"1/1/2017\",\"4/1/2017\",\"7/1/2017\",\"10/1/2017\",\"1/1/2018\",\"4/1/2018\",\"7/1/2018\",\"10/1/2018\",\"1/1/2019\",\"4/1/2019\",\"7/1/2019\",\"10/1/2019\",\"1/1/2020\",\"4/1/2020\",\"7/1/2020\"],\"Variable\":[\"Modern Art\",\"Modern Art\",\"Modern Art\",\"Modern Art\",\"Modern Art\",\"Modern Art\",\"Modern Art\",\"Modern Art\",\"Modern Art\",\"Modern Art\",\"Modern Art\",\"Modern Art\",\"Modern Art\",\"Modern Art\",\"Modern Art\",\"Modern Art\",\"Modern Art\",\"Modern Art\",\"Modern Art\",\"Modern Art\",\"Modern Art\",\"Modern Art\",\"Modern Art\",\"Modern Art\",\"Modern Art\",\"Modern Art\",\"Modern Art\",\"Modern Art\",\"Modern Art\",\"Modern Art\",\"Modern Art\",\"Modern Art\",\"Modern Art\",\"Modern Art\",\"Modern Art\",\"Modern Art\",\"Modern Art\",\"Modern Art\",\"Modern Art\",\"Modern Art\",\"Modern Art\",\"Modern Art\",\"Modern Art\",\"Modern Art\",\"Modern Art\",\"Modern Art\",\"Modern Art\",\"Modern Art\",\"Modern Art\",\"Modern Art\",\"Modern Art\",\"Modern Art\",\"Modern Art\",\"Modern Art\",\"Modern Art\",\"Modern Art\",\"Modern Art\",\"Modern Art\",\"Modern Art\",\"Modern Art\",\"Modern Art\",\"Modern Art\",\"Modern Art\",\"Modern Art\",\"Modern Art\",\"Modern Art\",\"Modern Art\",\"Modern Art\",\"Modern Art\",\"Modern Art\",\"Modern Art\",\"Modern Art\",\"Modern Art\",\"Modern Art\",\"Modern Art\",\"Modern Art\",\"Modern Art\",\"Modern Art\",\"Modern Art\",\"Modern Art\",\"Modern Art\",\"Modern Art\",\"Modern Art\",\"Modern Art\",\"Modern Art\",\"Modern Art\",\"Modern Art\",\"Modern Art\",\"Modern Art\",\"Modern Art\",\"Modern Art\"],\"value\":[100,98,97,94,87,81,81,87,99,109,113,114,109,106,105,106,106,101,97,103,119,132,126,117,121,130,129,126,145,167,166,161,170,181,171,158,177,204,205,204,211,212,198,167,146,142,140,139,153,163,158,161,173,192,223,230,195,159,145,145,159,177,185,180,174,186,204,211,205,182,155,144,149,148,134,134,146,147,142,145,145,128,114,114,118,118,111,106,113,115,118]},\"selected\":{\"id\":\"15497\"},\"selection_policy\":{\"id\":\"15526\"}},\"id\":\"15496\",\"type\":\"ColumnDataSource\"},{\"attributes\":{},\"id\":\"15290\",\"type\":\"ResetTool\"},{\"attributes\":{\"line_color\":\"#e277c1\",\"line_width\":2,\"x\":{\"field\":\"Date\"},\"y\":{\"field\":\"value\"}},\"id\":\"15439\",\"type\":\"Line\"},{\"attributes\":{\"end\":473.6,\"reset_end\":473.6,\"reset_start\":22.4,\"start\":22.4,\"tags\":[[[\"value\",\"value\",null]]]},\"id\":\"15255\",\"type\":\"Range1d\"},{\"attributes\":{\"source\":{\"id\":\"15409\"}},\"id\":\"15416\",\"type\":\"CDSView\"},{\"attributes\":{\"line_alpha\":0.2,\"line_color\":\"#e277c1\",\"line_width\":2,\"x\":{\"field\":\"Date\"},\"y\":{\"field\":\"value\"}},\"id\":\"15441\",\"type\":\"Line\"},{\"attributes\":{\"data_source\":{\"id\":\"15601\"},\"glyph\":{\"id\":\"15604\"},\"hover_glyph\":null,\"muted_glyph\":{\"id\":\"15606\"},\"nonselection_glyph\":{\"id\":\"15605\"},\"selection_glyph\":null,\"view\":{\"id\":\"15608\"}},\"id\":\"15607\",\"type\":\"GlyphRenderer\"},{\"attributes\":{},\"id\":\"15462\",\"type\":\"UnionRenderers\"},{\"attributes\":{\"line_alpha\":0.2,\"line_color\":\"#16bdcf\",\"line_width\":2,\"x\":{\"field\":\"Date\"},\"y\":{\"field\":\"value\"}},\"id\":\"15534\",\"type\":\"Line\"},{\"attributes\":{\"active_drag\":\"auto\",\"active_inspect\":\"auto\",\"active_multi\":null,\"active_scroll\":\"auto\",\"active_tap\":\"auto\",\"tools\":[{\"id\":\"15256\"},{\"id\":\"15286\"},{\"id\":\"15287\"},{\"id\":\"15288\"},{\"id\":\"15289\"},{\"id\":\"15290\"}]},\"id\":\"15292\",\"type\":\"Toolbar\"},{\"attributes\":{\"line_color\":\"#bcbc21\",\"line_width\":2,\"x\":{\"field\":\"Date\"},\"y\":{\"field\":\"value\"}},\"id\":\"15499\",\"type\":\"Line\"},{\"attributes\":{\"line_color\":\"#7e7e7e\",\"line_width\":2,\"x\":{\"field\":\"Date\"},\"y\":{\"field\":\"value\"}},\"id\":\"15468\",\"type\":\"Line\"},{\"attributes\":{},\"id\":\"15561\",\"type\":\"UnionRenderers\"},{\"attributes\":{},\"id\":\"15341\",\"type\":\"Selection\"},{\"attributes\":{},\"id\":\"15598\",\"type\":\"UnionRenderers\"},{\"attributes\":{},\"id\":\"15286\",\"type\":\"SaveTool\"},{\"attributes\":{\"data\":{\"Date\":[\"1/1/1998\",\"4/1/1998\",\"7/1/1998\",\"10/1/1998\",\"1/1/1999\",\"4/1/1999\",\"7/1/1999\",\"10/1/1999\",\"1/1/2000\",\"4/1/2000\",\"7/1/2000\",\"10/1/2000\",\"1/1/2001\",\"4/1/2001\",\"7/1/2001\",\"10/1/2001\",\"1/1/2002\",\"4/1/2002\",\"7/1/2002\",\"10/1/2002\",\"1/1/2003\",\"4/1/2003\",\"7/1/2003\",\"10/1/2003\",\"1/1/2004\",\"4/1/2004\",\"7/1/2004\",\"10/1/2004\",\"1/1/2005\",\"4/1/2005\",\"7/1/2005\",\"10/1/2005\",\"1/1/2006\",\"4/1/2006\",\"7/1/2006\",\"10/1/2006\",\"1/1/2007\",\"4/1/2007\",\"7/1/2007\",\"10/1/2007\",\"1/1/2008\",\"4/1/2008\",\"7/1/2008\",\"10/1/2008\",\"1/1/2009\",\"4/1/2009\",\"7/1/2009\",\"10/1/2009\",\"1/1/2010\",\"4/1/2010\",\"7/1/2010\",\"10/1/2010\",\"1/1/2011\",\"4/1/2011\",\"7/1/2011\",\"10/1/2011\",\"1/1/2012\",\"4/1/2012\",\"7/1/2012\",\"10/1/2012\",\"1/1/2013\",\"4/1/2013\",\"7/1/2013\",\"10/1/2013\",\"1/1/2014\",\"4/1/2014\",\"7/1/2014\",\"10/1/2014\",\"1/1/2015\",\"4/1/2015\",\"7/1/2015\",\"10/1/2015\",\"1/1/2016\",\"4/1/2016\",\"7/1/2016\",\"10/1/2016\",\"1/1/2017\",\"4/1/2017\",\"7/1/2017\",\"10/1/2017\",\"1/1/2018\",\"4/1/2018\",\"7/1/2018\",\"10/1/2018\",\"1/1/2019\",\"4/1/2019\",\"7/1/2019\",\"10/1/2019\",\"1/1/2020\",\"4/1/2020\",\"7/1/2020\"],\"Variable\":[\"19th Century\",\"19th Century\",\"19th Century\",\"19th Century\",\"19th Century\",\"19th Century\",\"19th Century\",\"19th Century\",\"19th Century\",\"19th Century\",\"19th Century\",\"19th Century\",\"19th Century\",\"19th Century\",\"19th Century\",\"19th Century\",\"19th Century\",\"19th Century\",\"19th Century\",\"19th Century\",\"19th Century\",\"19th Century\",\"19th Century\",\"19th Century\",\"19th Century\",\"19th Century\",\"19th Century\",\"19th Century\",\"19th Century\",\"19th Century\",\"19th Century\",\"19th Century\",\"19th Century\",\"19th Century\",\"19th Century\",\"19th Century\",\"19th Century\",\"19th Century\",\"19th Century\",\"19th Century\",\"19th Century\",\"19th Century\",\"19th Century\",\"19th Century\",\"19th Century\",\"19th Century\",\"19th Century\",\"19th Century\",\"19th Century\",\"19th Century\",\"19th Century\",\"19th Century\",\"19th Century\",\"19th Century\",\"19th Century\",\"19th Century\",\"19th Century\",\"19th Century\",\"19th Century\",\"19th Century\",\"19th Century\",\"19th Century\",\"19th Century\",\"19th Century\",\"19th Century\",\"19th Century\",\"19th Century\",\"19th Century\",\"19th Century\",\"19th Century\",\"19th Century\",\"19th Century\",\"19th Century\",\"19th Century\",\"19th Century\",\"19th Century\",\"19th Century\",\"19th Century\",\"19th Century\",\"19th Century\",\"19th Century\",\"19th Century\",\"19th Century\",\"19th Century\",\"19th Century\",\"19th Century\",\"19th Century\",\"19th Century\",\"19th Century\",\"19th Century\",\"19th Century\"],\"value\":[100,110,118,122,119,113,112,111,109,106,108,111,110,116,120,110,103,103,106,109,111,123,130,124,119,120,139,155,147,138,127,121,129,139,147,151,167,192,185,176,169,152,153,149,132,129,133,130,122,119,134,147,136,130,140,146,130,109,111,119,113,110,115,122,124,119,108,99,102,98,84,78,82,87,88,81,75,76,77,78,76,68,64,60,60,63,62,66,70,68,64]},\"selected\":{\"id\":\"15466\"},\"selection_policy\":{\"id\":\"15493\"}},\"id\":\"15465\",\"type\":\"ColumnDataSource\"},{\"attributes\":{\"label\":{\"value\":\"Global Index (USD)\"},\"renderers\":[{\"id\":\"15309\"}]},\"id\":\"15320\",\"type\":\"LegendItem\"},{\"attributes\":{\"label\":{\"value\":\"Print\"},\"renderers\":[{\"id\":\"15442\"}]},\"id\":\"15464\",\"type\":\"LegendItem\"},{\"attributes\":{},\"id\":\"15682\",\"type\":\"Selection\"},{\"attributes\":{\"axis_label\":\"Date\",\"bounds\":\"auto\",\"formatter\":{\"id\":\"15299\"},\"major_label_orientation\":1.5707963267948966,\"ticker\":{\"id\":\"15280\"}},\"id\":\"15279\",\"type\":\"CategoricalAxis\"},{\"attributes\":{},\"id\":\"15317\",\"type\":\"UnionRenderers\"},{\"attributes\":{\"line_alpha\":0.2,\"line_color\":\"#1f77b3\",\"line_width\":2,\"x\":{\"field\":\"Date\"},\"y\":{\"field\":\"value\"}},\"id\":\"15308\",\"type\":\"Line\"},{\"attributes\":{\"line_alpha\":0.1,\"line_color\":\"#ff7e0e\",\"line_width\":2,\"x\":{\"field\":\"Date\"},\"y\":{\"field\":\"value\"}},\"id\":\"15325\",\"type\":\"Line\"},{\"attributes\":{\"source\":{\"id\":\"15496\"}},\"id\":\"15503\",\"type\":\"CDSView\"},{\"attributes\":{},\"id\":\"15497\",\"type\":\"Selection\"},{\"attributes\":{\"data_source\":{\"id\":\"15303\"},\"glyph\":{\"id\":\"15306\"},\"hover_glyph\":null,\"muted_glyph\":{\"id\":\"15308\"},\"nonselection_glyph\":{\"id\":\"15307\"},\"selection_glyph\":null,\"view\":{\"id\":\"15310\"}},\"id\":\"15309\",\"type\":\"GlyphRenderer\"}],\"root_ids\":[\"15252\"]},\"title\":\"Bokeh Application\",\"version\":\"2.1.1\"}};\n",
       "  var render_items = [{\"docid\":\"bdcb3838-a8c7-4a3b-bab0-1bc88bd22c9a\",\"root_ids\":[\"15252\"],\"roots\":{\"15252\":\"800be326-f14c-4641-aead-46c8b1e77000\"}}];\n",
       "  root.Bokeh.embed.embed_items_notebook(docs_json, render_items);\n",
       "  }\n",
       "if (root.Bokeh !== undefined) {\n",
       "    embed_document(root);\n",
       "  } else {\n",
       "    var attempts = 0;\n",
       "    var timer = setInterval(function(root) {\n",
       "      if (root.Bokeh !== undefined) {\n",
       "        clearInterval(timer);\n",
       "        embed_document(root);\n",
       "      } else if (document.readyState == \"complete\") {\n",
       "        attempts++;\n",
       "        if (attempts > 100) {\n",
       "          clearInterval(timer);\n",
       "          console.log(\"Bokeh: ERROR: Unable to run BokehJS code because BokehJS library is missing\");\n",
       "        }\n",
       "      }\n",
       "    }, 10, root)\n",
       "  }\n",
       "})(window);</script>"
      ],
      "text/plain": [
       ":NdOverlay   [Variable]\n",
       "   :Curve   [Date]   (value)"
      ]
     },
     "execution_count": 88,
     "metadata": {
      "application/vnd.holoviews_exec.v0+json": {
       "id": "15252"
      }
     },
     "output_type": "execute_result"
    }
   ],
   "source": [
    "art_index_plot = art_index.hvplot(title=\"Art Price Index - Quarterly Price in Base 100\", ylabel=\"Price - Base 100\", frame_width=1500, frame_height=500, rot=90)\n",
    "\n",
    "art_index_plot"
   ]
  },
  {
   "cell_type": "code",
   "execution_count": 99,
   "metadata": {},
   "outputs": [
    {
     "data": {
      "text/html": [
       "<div>\n",
       "<style scoped>\n",
       "    .dataframe tbody tr th:only-of-type {\n",
       "        vertical-align: middle;\n",
       "    }\n",
       "\n",
       "    .dataframe tbody tr th {\n",
       "        vertical-align: top;\n",
       "    }\n",
       "\n",
       "    .dataframe thead th {\n",
       "        text-align: right;\n",
       "    }\n",
       "</style>\n",
       "<table border=\"1\" class=\"dataframe\">\n",
       "  <thead>\n",
       "    <tr style=\"text-align: right;\">\n",
       "      <th></th>\n",
       "      <th>Global Index (USD)</th>\n",
       "      <th>Global Index (EUR)</th>\n",
       "      <th>Painting</th>\n",
       "      <th>Sculpture</th>\n",
       "      <th>Photography</th>\n",
       "      <th>Drawing</th>\n",
       "      <th>Print</th>\n",
       "      <th>19th Century</th>\n",
       "      <th>Modern Art</th>\n",
       "      <th>Post-War</th>\n",
       "      <th>Contemporary</th>\n",
       "      <th>USA (USD)</th>\n",
       "      <th>UK (GBP)</th>\n",
       "      <th>France (EUR)</th>\n",
       "    </tr>\n",
       "    <tr>\n",
       "      <th>Date</th>\n",
       "      <th></th>\n",
       "      <th></th>\n",
       "      <th></th>\n",
       "      <th></th>\n",
       "      <th></th>\n",
       "      <th></th>\n",
       "      <th></th>\n",
       "      <th></th>\n",
       "      <th></th>\n",
       "      <th></th>\n",
       "      <th></th>\n",
       "      <th></th>\n",
       "      <th></th>\n",
       "      <th></th>\n",
       "    </tr>\n",
       "  </thead>\n",
       "  <tbody>\n",
       "    <tr>\n",
       "      <th>4/1/1998</th>\n",
       "      <td>0.070000</td>\n",
       "      <td>0.100000</td>\n",
       "      <td>0.090000</td>\n",
       "      <td>0.390000</td>\n",
       "      <td>-0.040000</td>\n",
       "      <td>0.040000</td>\n",
       "      <td>0.140000</td>\n",
       "      <td>0.100000</td>\n",
       "      <td>-0.020000</td>\n",
       "      <td>0.140000</td>\n",
       "      <td>0.010000</td>\n",
       "      <td>-0.009524</td>\n",
       "      <td>-0.020000</td>\n",
       "      <td>0.070000</td>\n",
       "    </tr>\n",
       "    <tr>\n",
       "      <th>7/1/1998</th>\n",
       "      <td>-0.009346</td>\n",
       "      <td>-0.036364</td>\n",
       "      <td>-0.018349</td>\n",
       "      <td>-0.043165</td>\n",
       "      <td>-0.020833</td>\n",
       "      <td>0.019231</td>\n",
       "      <td>0.114035</td>\n",
       "      <td>0.072727</td>\n",
       "      <td>-0.010204</td>\n",
       "      <td>-0.017544</td>\n",
       "      <td>0.079208</td>\n",
       "      <td>-0.038462</td>\n",
       "      <td>-0.030612</td>\n",
       "      <td>-0.018692</td>\n",
       "    </tr>\n",
       "    <tr>\n",
       "      <th>10/1/1998</th>\n",
       "      <td>-0.094340</td>\n",
       "      <td>-0.094340</td>\n",
       "      <td>-0.037383</td>\n",
       "      <td>-0.037594</td>\n",
       "      <td>-0.095745</td>\n",
       "      <td>0.028302</td>\n",
       "      <td>-0.031496</td>\n",
       "      <td>0.033898</td>\n",
       "      <td>-0.030928</td>\n",
       "      <td>-0.089286</td>\n",
       "      <td>0.045872</td>\n",
       "      <td>0.020000</td>\n",
       "      <td>0.021053</td>\n",
       "      <td>-0.047619</td>\n",
       "    </tr>\n",
       "    <tr>\n",
       "      <th>1/1/1999</th>\n",
       "      <td>0.083333</td>\n",
       "      <td>0.041667</td>\n",
       "      <td>0.038835</td>\n",
       "      <td>0.031250</td>\n",
       "      <td>-0.011765</td>\n",
       "      <td>-0.009174</td>\n",
       "      <td>-0.113821</td>\n",
       "      <td>-0.024590</td>\n",
       "      <td>-0.074468</td>\n",
       "      <td>0.058824</td>\n",
       "      <td>-0.017544</td>\n",
       "      <td>0.019608</td>\n",
       "      <td>0.030928</td>\n",
       "      <td>0.000000</td>\n",
       "    </tr>\n",
       "    <tr>\n",
       "      <th>4/1/1999</th>\n",
       "      <td>-0.009615</td>\n",
       "      <td>0.040000</td>\n",
       "      <td>0.065421</td>\n",
       "      <td>0.015152</td>\n",
       "      <td>0.011905</td>\n",
       "      <td>-0.046296</td>\n",
       "      <td>0.000000</td>\n",
       "      <td>-0.050420</td>\n",
       "      <td>-0.068966</td>\n",
       "      <td>0.129630</td>\n",
       "      <td>-0.053571</td>\n",
       "      <td>0.000000</td>\n",
       "      <td>0.010000</td>\n",
       "      <td>0.050000</td>\n",
       "    </tr>\n",
       "  </tbody>\n",
       "</table>\n",
       "</div>"
      ],
      "text/plain": [
       "           Global Index (USD)  Global Index (EUR)  Painting  Sculpture  \\\n",
       "Date                                                                     \n",
       "4/1/1998             0.070000            0.100000  0.090000   0.390000   \n",
       "7/1/1998            -0.009346           -0.036364 -0.018349  -0.043165   \n",
       "10/1/1998           -0.094340           -0.094340 -0.037383  -0.037594   \n",
       "1/1/1999             0.083333            0.041667  0.038835   0.031250   \n",
       "4/1/1999            -0.009615            0.040000  0.065421   0.015152   \n",
       "\n",
       "           Photography   Drawing     Print  19th Century  Modern Art  \\\n",
       "Date                                                                   \n",
       "4/1/1998     -0.040000  0.040000  0.140000      0.100000   -0.020000   \n",
       "7/1/1998     -0.020833  0.019231  0.114035      0.072727   -0.010204   \n",
       "10/1/1998    -0.095745  0.028302 -0.031496      0.033898   -0.030928   \n",
       "1/1/1999     -0.011765 -0.009174 -0.113821     -0.024590   -0.074468   \n",
       "4/1/1999      0.011905 -0.046296  0.000000     -0.050420   -0.068966   \n",
       "\n",
       "           Post-War  Contemporary  USA (USD)  UK (GBP)  France (EUR)  \n",
       "Date                                                                  \n",
       "4/1/1998   0.140000      0.010000  -0.009524 -0.020000      0.070000  \n",
       "7/1/1998  -0.017544      0.079208  -0.038462 -0.030612     -0.018692  \n",
       "10/1/1998 -0.089286      0.045872   0.020000  0.021053     -0.047619  \n",
       "1/1/1999   0.058824     -0.017544   0.019608  0.030928      0.000000  \n",
       "4/1/1999   0.129630     -0.053571   0.000000  0.010000      0.050000  "
      ]
     },
     "execution_count": 99,
     "metadata": {},
     "output_type": "execute_result"
    }
   ],
   "source": [
    "art_index_quarterly_returns = art_index.pct_change().dropna()\n",
    "art_index_quarterly_returns.head()"
   ]
  },
  {
   "cell_type": "code",
   "execution_count": 123,
   "metadata": {},
   "outputs": [
    {
     "data": {
      "application/vnd.holoviews_exec.v0+json": "",
      "text/html": [
       "<div id='19130'>\n",
       "\n",
       "\n",
       "\n",
       "\n",
       "\n",
       "  <div class=\"bk-root\" id=\"796b7bca-114a-43c6-92be-d69c18bc7091\" data-root-id=\"19130\"></div>\n",
       "</div>\n",
       "<script type=\"application/javascript\">(function(root) {\n",
       "  function embed_document(root) {\n",
       "  var docs_json = {\"fc69a5ad-2bf5-424d-8d2b-453ef4cf35f8\":{\"roots\":{\"references\":[{\"attributes\":{\"data\":{\"Date\":[\"4/1/1998\",\"7/1/1998\",\"10/1/1998\",\"1/1/1999\",\"4/1/1999\",\"7/1/1999\",\"10/1/1999\",\"1/1/2000\",\"4/1/2000\",\"7/1/2000\",\"10/1/2000\",\"1/1/2001\",\"4/1/2001\",\"7/1/2001\",\"10/1/2001\",\"1/1/2002\",\"4/1/2002\",\"7/1/2002\",\"10/1/2002\",\"1/1/2003\",\"4/1/2003\",\"7/1/2003\",\"10/1/2003\",\"1/1/2004\",\"4/1/2004\",\"7/1/2004\",\"10/1/2004\",\"1/1/2005\",\"4/1/2005\",\"7/1/2005\",\"10/1/2005\",\"1/1/2006\",\"4/1/2006\",\"7/1/2006\",\"10/1/2006\",\"1/1/2007\",\"4/1/2007\",\"7/1/2007\",\"10/1/2007\",\"1/1/2008\",\"4/1/2008\",\"7/1/2008\",\"10/1/2008\",\"1/1/2009\",\"4/1/2009\",\"7/1/2009\",\"10/1/2009\",\"1/1/2010\",\"4/1/2010\",\"7/1/2010\",\"10/1/2010\",\"1/1/2011\",\"4/1/2011\",\"7/1/2011\",\"10/1/2011\",\"1/1/2012\",\"4/1/2012\",\"7/1/2012\",\"10/1/2012\",\"1/1/2013\",\"4/1/2013\",\"7/1/2013\",\"10/1/2013\",\"1/1/2014\",\"4/1/2014\",\"7/1/2014\",\"10/1/2014\",\"1/1/2015\",\"4/1/2015\",\"7/1/2015\",\"10/1/2015\",\"1/1/2016\",\"4/1/2016\",\"7/1/2016\",\"10/1/2016\",\"1/1/2017\",\"4/1/2017\",\"7/1/2017\",\"10/1/2017\",\"1/1/2018\",\"4/1/2018\",\"7/1/2018\",\"10/1/2018\",\"1/1/2019\",\"4/1/2019\",\"7/1/2019\",\"10/1/2019\",\"1/1/2020\",\"4/1/2020\",\"7/1/2020\"],\"Variable\":[\"France (EUR)\",\"France (EUR)\",\"France (EUR)\",\"France (EUR)\",\"France (EUR)\",\"France (EUR)\",\"France (EUR)\",\"France (EUR)\",\"France (EUR)\",\"France (EUR)\",\"France (EUR)\",\"France (EUR)\",\"France (EUR)\",\"France (EUR)\",\"France (EUR)\",\"France (EUR)\",\"France (EUR)\",\"France (EUR)\",\"France (EUR)\",\"France (EUR)\",\"France (EUR)\",\"France (EUR)\",\"France (EUR)\",\"France (EUR)\",\"France (EUR)\",\"France (EUR)\",\"France (EUR)\",\"France (EUR)\",\"France (EUR)\",\"France (EUR)\",\"France (EUR)\",\"France (EUR)\",\"France (EUR)\",\"France (EUR)\",\"France (EUR)\",\"France (EUR)\",\"France (EUR)\",\"France (EUR)\",\"France (EUR)\",\"France (EUR)\",\"France (EUR)\",\"France (EUR)\",\"France (EUR)\",\"France (EUR)\",\"France (EUR)\",\"France (EUR)\",\"France (EUR)\",\"France (EUR)\",\"France (EUR)\",\"France (EUR)\",\"France (EUR)\",\"France (EUR)\",\"France (EUR)\",\"France (EUR)\",\"France (EUR)\",\"France (EUR)\",\"France (EUR)\",\"France (EUR)\",\"France (EUR)\",\"France (EUR)\",\"France (EUR)\",\"France (EUR)\",\"France (EUR)\",\"France (EUR)\",\"France (EUR)\",\"France (EUR)\",\"France (EUR)\",\"France (EUR)\",\"France (EUR)\",\"France (EUR)\",\"France (EUR)\",\"France (EUR)\",\"France (EUR)\",\"France (EUR)\",\"France (EUR)\",\"France (EUR)\",\"France (EUR)\",\"France (EUR)\",\"France (EUR)\",\"France (EUR)\",\"France (EUR)\",\"France (EUR)\",\"France (EUR)\",\"France (EUR)\",\"France (EUR)\",\"France (EUR)\",\"France (EUR)\",\"France (EUR)\",\"France (EUR)\",\"France (EUR)\"],\"value\":{\"__ndarray__\":\"8FG4HoXrsT/AECtK4yOTvyCGYRiGYai/AAAAAAAAAACgmZmZmZmpPyCGYRiGYag/QBdddNFFpz8ggaKtBs+xP6AQaAqBprA/gGnugr+Koz8AHh4eHh6OP4AhC1nIQpY/AMBuj7UMfT9AtMLmQKKVv0AsuFS2d52/AOUByTpXfj8AHh4eHh5+P4CG+OPW5Z2/AO0BswfMfr8gm2yyySarP0AsuFS2d50/YAWzpBwQqb9gWlpaWlqqvwAI/AF/wJ8/oHFBxgUZpz9AIYq/yBmWPwAAAAAAAAAAQLTC5kCilT8AePzhgMevPwAAAAAAAAAAAGRqYO+Yej9gGtCmAW2qP8AaRRw6aZ8/IIZhGIZhmL9AH4PzMTifv7AuPebvtbE/IBsbGxsbuz9AEJMriMmFv0AeeeSRR66/AAAAAAAAAACAqTTk3Gd3vwDO1qHfbK2/KFG7ErUrsb8QvWcSvWeyv7An47dLPam/cC+hvYT2or8A+IEf+IGPvwAAAAAAALI/EFR7Tqavsj8AB5SJK917vwDBgQMHDnw/YIT8NTtqsT/gbux7RE6wP0Cwq/Dlhqg/gKk05Nxnd7+wQ7/ZOvS7v8gYY4wxxri/IF/xFV/xpT/AiBEjRoyoPyBwxRpwxao/YIoJuqsUoz8AAAAAAAAAAECwq/Dlhpi/MOLQSfsgqb+AGtCmAW16vxBxVn5CnLU/sKvw5YYYwD9gcgUxuYKoPyCHuMoUMK+/QGIBd/ojtr/gvrJ6lzyov4C4DPjkcHm/AAAAAAAAoL9wGtCmAW2qvwAHlIkr3Ys/gDPaPWx9qz8AS3r50xaavxDCbBfCbKe/oFChQoUKlb+A4V4Fs6SMv4DAbo+1DJ2/EFR7Tqavor9AF1100UWXvwAI/AF/wH8/APiBH/iBfz/gsbc2THOXvwAAAAAAAJC/AARBEARBkD8AAAAAAACQvwAAAAAAAAAA\",\"dtype\":\"float64\",\"order\":\"little\",\"shape\":[90]}},\"selected\":{\"id\":\"19560\"},\"selection_policy\":{\"id\":\"19599\"}},\"id\":\"19559\",\"type\":\"ColumnDataSource\"},{\"attributes\":{\"label\":{\"value\":\"Photography\"},\"renderers\":[{\"id\":\"19268\"}]},\"id\":\"19286\",\"type\":\"LegendItem\"},{\"attributes\":{\"source\":{\"id\":\"19262\"}},\"id\":\"19269\",\"type\":\"CDSView\"},{\"attributes\":{},\"id\":\"19560\",\"type\":\"Selection\"},{\"attributes\":{\"line_color\":\"#5d003f\",\"line_width\":2,\"x\":{\"field\":\"Date\"},\"y\":{\"field\":\"value\"}},\"id\":\"19562\",\"type\":\"Line\"},{\"attributes\":{\"data_source\":{\"id\":\"19314\"},\"glyph\":{\"id\":\"19317\"},\"hover_glyph\":null,\"muted_glyph\":{\"id\":\"19319\"},\"nonselection_glyph\":{\"id\":\"19318\"},\"selection_glyph\":null,\"view\":{\"id\":\"19321\"}},\"id\":\"19320\",\"type\":\"GlyphRenderer\"},{\"attributes\":{\"source\":{\"id\":\"19218\"}},\"id\":\"19225\",\"type\":\"CDSView\"},{\"attributes\":{\"label\":{\"value\":\"Painting\"},\"renderers\":[{\"id\":\"19224\"}]},\"id\":\"19238\",\"type\":\"LegendItem\"},{\"attributes\":{\"children\":[{\"id\":\"19131\"},{\"id\":\"19148\"},{\"id\":\"19908\"}],\"margin\":[0,0,0,0],\"name\":\"Row46733\",\"tags\":[\"embedded\"]},\"id\":\"19130\",\"type\":\"Row\"},{\"attributes\":{\"source\":{\"id\":\"19287\"}},\"id\":\"19294\",\"type\":\"CDSView\"},{\"attributes\":{},\"id\":\"19263\",\"type\":\"Selection\"},{\"attributes\":{\"source\":{\"id\":\"19559\"}},\"id\":\"19566\",\"type\":\"CDSView\"},{\"attributes\":{\"data_source\":{\"id\":\"19559\"},\"glyph\":{\"id\":\"19562\"},\"hover_glyph\":null,\"muted_glyph\":{\"id\":\"19564\"},\"nonselection_glyph\":{\"id\":\"19563\"},\"selection_glyph\":null,\"view\":{\"id\":\"19566\"}},\"id\":\"19565\",\"type\":\"GlyphRenderer\"},{\"attributes\":{\"line_alpha\":0.2,\"line_color\":\"#9367bc\",\"line_width\":2,\"x\":{\"field\":\"Date\"},\"y\":{\"field\":\"value\"}},\"id\":\"19267\",\"type\":\"Line\"},{\"attributes\":{\"text\":\"Art Price Index - Quarterly Returns\",\"text_color\":{\"value\":\"black\"},\"text_font_size\":{\"value\":\"12pt\"}},\"id\":\"19149\",\"type\":\"Title\"},{\"attributes\":{\"line_alpha\":0.1,\"line_color\":\"#5d003f\",\"line_width\":2,\"x\":{\"field\":\"Date\"},\"y\":{\"field\":\"value\"}},\"id\":\"19563\",\"type\":\"Line\"},{\"attributes\":{\"margin\":[5,5,5,5],\"name\":\"HSpacer46738\",\"sizing_mode\":\"stretch_width\"},\"id\":\"19908\",\"type\":\"Spacer\"},{\"attributes\":{\"line_color\":\"#8c564b\",\"line_width\":2,\"x\":{\"field\":\"Date\"},\"y\":{\"field\":\"value\"}},\"id\":\"19290\",\"type\":\"Line\"},{\"attributes\":{\"source\":{\"id\":\"19314\"}},\"id\":\"19321\",\"type\":\"CDSView\"},{\"attributes\":{\"line_alpha\":0.2,\"line_color\":\"#5d003f\",\"line_width\":2,\"x\":{\"field\":\"Date\"},\"y\":{\"field\":\"value\"}},\"id\":\"19564\",\"type\":\"Line\"},{\"attributes\":{},\"id\":\"19284\",\"type\":\"UnionRenderers\"},{\"attributes\":{},\"id\":\"19519\",\"type\":\"Selection\"},{\"attributes\":{\"line_alpha\":0.2,\"line_color\":\"#d62628\",\"line_width\":2,\"x\":{\"field\":\"Date\"},\"y\":{\"field\":\"value\"}},\"id\":\"19244\",\"type\":\"Line\"},{\"attributes\":{\"label\":{\"value\":\"Print\"},\"renderers\":[{\"id\":\"19320\"}]},\"id\":\"19342\",\"type\":\"LegendItem\"},{\"attributes\":{},\"id\":\"19240\",\"type\":\"Selection\"},{\"attributes\":{\"data\":{\"Date\":[\"4/1/1998\",\"7/1/1998\",\"10/1/1998\",\"1/1/1999\",\"4/1/1999\",\"7/1/1999\",\"10/1/1999\",\"1/1/2000\",\"4/1/2000\",\"7/1/2000\",\"10/1/2000\",\"1/1/2001\",\"4/1/2001\",\"7/1/2001\",\"10/1/2001\",\"1/1/2002\",\"4/1/2002\",\"7/1/2002\",\"10/1/2002\",\"1/1/2003\",\"4/1/2003\",\"7/1/2003\",\"10/1/2003\",\"1/1/2004\",\"4/1/2004\",\"7/1/2004\",\"10/1/2004\",\"1/1/2005\",\"4/1/2005\",\"7/1/2005\",\"10/1/2005\",\"1/1/2006\",\"4/1/2006\",\"7/1/2006\",\"10/1/2006\",\"1/1/2007\",\"4/1/2007\",\"7/1/2007\",\"10/1/2007\",\"1/1/2008\",\"4/1/2008\",\"7/1/2008\",\"10/1/2008\",\"1/1/2009\",\"4/1/2009\",\"7/1/2009\",\"10/1/2009\",\"1/1/2010\",\"4/1/2010\",\"7/1/2010\",\"10/1/2010\",\"1/1/2011\",\"4/1/2011\",\"7/1/2011\",\"10/1/2011\",\"1/1/2012\",\"4/1/2012\",\"7/1/2012\",\"10/1/2012\",\"1/1/2013\",\"4/1/2013\",\"7/1/2013\",\"10/1/2013\",\"1/1/2014\",\"4/1/2014\",\"7/1/2014\",\"10/1/2014\",\"1/1/2015\",\"4/1/2015\",\"7/1/2015\",\"10/1/2015\",\"1/1/2016\",\"4/1/2016\",\"7/1/2016\",\"10/1/2016\",\"1/1/2017\",\"4/1/2017\",\"7/1/2017\",\"10/1/2017\",\"1/1/2018\",\"4/1/2018\",\"7/1/2018\",\"10/1/2018\",\"1/1/2019\",\"4/1/2019\",\"7/1/2019\",\"10/1/2019\",\"1/1/2020\",\"4/1/2020\",\"7/1/2020\"],\"Variable\":[\"Print\",\"Print\",\"Print\",\"Print\",\"Print\",\"Print\",\"Print\",\"Print\",\"Print\",\"Print\",\"Print\",\"Print\",\"Print\",\"Print\",\"Print\",\"Print\",\"Print\",\"Print\",\"Print\",\"Print\",\"Print\",\"Print\",\"Print\",\"Print\",\"Print\",\"Print\",\"Print\",\"Print\",\"Print\",\"Print\",\"Print\",\"Print\",\"Print\",\"Print\",\"Print\",\"Print\",\"Print\",\"Print\",\"Print\",\"Print\",\"Print\",\"Print\",\"Print\",\"Print\",\"Print\",\"Print\",\"Print\",\"Print\",\"Print\",\"Print\",\"Print\",\"Print\",\"Print\",\"Print\",\"Print\",\"Print\",\"Print\",\"Print\",\"Print\",\"Print\",\"Print\",\"Print\",\"Print\",\"Print\",\"Print\",\"Print\",\"Print\",\"Print\",\"Print\",\"Print\",\"Print\",\"Print\",\"Print\",\"Print\",\"Print\",\"Print\",\"Print\",\"Print\",\"Print\",\"Print\",\"Print\",\"Print\",\"Print\",\"Print\",\"Print\",\"Print\",\"Print\",\"Print\",\"Print\",\"Print\"],\"value\":{\"__ndarray__\":\"6FG4HoXrwT8Q01lMZzG9PxAEAoFAIKC/IB020mEjvb8AAAAAAAAAAAgH0eO7cMA/IB020mEjrT8guZEbuZGrvwAAAAAAAAAA4BZPbvHktj+gcnYLvxqjPyAhir/IGZa/4NLS0tLSoj9g6IDdHmupv3igcnYLv7q/4N3d3d3drT8Qh8PhcDi8P4DAbo+1DI2/4Jinj1aTsL8A+IEf+IGfP2C38Ksxkb4/4BdLfrHktz9AH4PzMTifvwCh5E7Rwpm/gBWJV5F4tT8AhmEYhmGIPwAAAAAAAAAAUFFRUVFRwT/g1t5Y/YG+P4Avob2E9oI/YJ2RirnVqb8ArHuklcmDvwAUsD8B+5M/YH8YLByZk78AFLA/AfuTPzAn4Pn0uLk/AEVbDZ4jwD8AVDlCP0DFP5DmSHOkOcI/QEHoH93GpD8ISK1rr2awv0iSJEmSJMG/FIMZQdI7xL+IxvrQWB+6v0gXXXTRRbe/ENejcD0Kp79Aa1A87XG1P7B7pJXJE7A/AAAAAAAAAADgG9a+Ye2bv6Cu5eBmv6C/YCELWchCpj9QVVVVVVW1PwAYgREYgYG/QFjuaYTlrr8wUjG3OiOlv4B/GCwcmYO/YDbs72JQoT8AmUDv1LWcPwAc1r5h7Ys/gNzAqDONi7+AEuQpQZ6Cv4AsgU37yYK/gAntJbSXsD+Acb8uqXy4PwBFURRFUZQ/AAAAAAAAAAAQ7hHuEe6hv7C11lprrbW/MKkOsYHPqL9AewntJbSXvwALze1UHo0/wBArSuMjkz8AAAAAAAAAAAAAAAAAAAAAgCyBTfvJgr8AAAAAAAAAAAAAAAAAAAAAgC+hvYT2gr8AmUDv1LWcP0AXXXTRRac/AIGirQbPgT+AexphuaeBv2AhC1nIQqa/4BvWvmHtm78AAAAAAAAAAIAQK0rjI4M/gC+hvYT2gj+ALIFN+8mCv2BVVVVVVaU/\",\"dtype\":\"float64\",\"order\":\"little\",\"shape\":[90]}},\"selected\":{\"id\":\"19315\"},\"selection_policy\":{\"id\":\"19340\"}},\"id\":\"19314\",\"type\":\"ColumnDataSource\"},{\"attributes\":{},\"id\":\"19259\",\"type\":\"UnionRenderers\"},{\"attributes\":{\"line_alpha\":0.1,\"line_color\":\"#d62628\",\"line_width\":2,\"x\":{\"field\":\"Date\"},\"y\":{\"field\":\"value\"}},\"id\":\"19243\",\"type\":\"Line\"},{\"attributes\":{\"line_alpha\":0.1,\"line_color\":\"#8c564b\",\"line_width\":2,\"x\":{\"field\":\"Date\"},\"y\":{\"field\":\"value\"}},\"id\":\"19291\",\"type\":\"Line\"},{\"attributes\":{\"data\":{\"Date\":[\"4/1/1998\",\"7/1/1998\",\"10/1/1998\",\"1/1/1999\",\"4/1/1999\",\"7/1/1999\",\"10/1/1999\",\"1/1/2000\",\"4/1/2000\",\"7/1/2000\",\"10/1/2000\",\"1/1/2001\",\"4/1/2001\",\"7/1/2001\",\"10/1/2001\",\"1/1/2002\",\"4/1/2002\",\"7/1/2002\",\"10/1/2002\",\"1/1/2003\",\"4/1/2003\",\"7/1/2003\",\"10/1/2003\",\"1/1/2004\",\"4/1/2004\",\"7/1/2004\",\"10/1/2004\",\"1/1/2005\",\"4/1/2005\",\"7/1/2005\",\"10/1/2005\",\"1/1/2006\",\"4/1/2006\",\"7/1/2006\",\"10/1/2006\",\"1/1/2007\",\"4/1/2007\",\"7/1/2007\",\"10/1/2007\",\"1/1/2008\",\"4/1/2008\",\"7/1/2008\",\"10/1/2008\",\"1/1/2009\",\"4/1/2009\",\"7/1/2009\",\"10/1/2009\",\"1/1/2010\",\"4/1/2010\",\"7/1/2010\",\"10/1/2010\",\"1/1/2011\",\"4/1/2011\",\"7/1/2011\",\"10/1/2011\",\"1/1/2012\",\"4/1/2012\",\"7/1/2012\",\"10/1/2012\",\"1/1/2013\",\"4/1/2013\",\"7/1/2013\",\"10/1/2013\",\"1/1/2014\",\"4/1/2014\",\"7/1/2014\",\"10/1/2014\",\"1/1/2015\",\"4/1/2015\",\"7/1/2015\",\"10/1/2015\",\"1/1/2016\",\"4/1/2016\",\"7/1/2016\",\"10/1/2016\",\"1/1/2017\",\"4/1/2017\",\"7/1/2017\",\"10/1/2017\",\"1/1/2018\",\"4/1/2018\",\"7/1/2018\",\"10/1/2018\",\"1/1/2019\",\"4/1/2019\",\"7/1/2019\",\"10/1/2019\",\"1/1/2020\",\"4/1/2020\",\"7/1/2020\"],\"Variable\":[\"Drawing\",\"Drawing\",\"Drawing\",\"Drawing\",\"Drawing\",\"Drawing\",\"Drawing\",\"Drawing\",\"Drawing\",\"Drawing\",\"Drawing\",\"Drawing\",\"Drawing\",\"Drawing\",\"Drawing\",\"Drawing\",\"Drawing\",\"Drawing\",\"Drawing\",\"Drawing\",\"Drawing\",\"Drawing\",\"Drawing\",\"Drawing\",\"Drawing\",\"Drawing\",\"Drawing\",\"Drawing\",\"Drawing\",\"Drawing\",\"Drawing\",\"Drawing\",\"Drawing\",\"Drawing\",\"Drawing\",\"Drawing\",\"Drawing\",\"Drawing\",\"Drawing\",\"Drawing\",\"Drawing\",\"Drawing\",\"Drawing\",\"Drawing\",\"Drawing\",\"Drawing\",\"Drawing\",\"Drawing\",\"Drawing\",\"Drawing\",\"Drawing\",\"Drawing\",\"Drawing\",\"Drawing\",\"Drawing\",\"Drawing\",\"Drawing\",\"Drawing\",\"Drawing\",\"Drawing\",\"Drawing\",\"Drawing\",\"Drawing\",\"Drawing\",\"Drawing\",\"Drawing\",\"Drawing\",\"Drawing\",\"Drawing\",\"Drawing\",\"Drawing\",\"Drawing\",\"Drawing\",\"Drawing\",\"Drawing\",\"Drawing\",\"Drawing\",\"Drawing\",\"Drawing\",\"Drawing\",\"Drawing\",\"Drawing\",\"Drawing\",\"Drawing\",\"Drawing\",\"Drawing\",\"Drawing\",\"Drawing\",\"Drawing\",\"Drawing\"],\"value\":{\"__ndarray__\":\"gBSuR+F6pD8AO7ETO7GTP0A1wXgr+5w/gCyBTfvJgr9AewntJbSnvwCp5Lws4oO/ABQUFBQUhD+A/VYbQ9OtP8B34SB6fKc/AAAAAAAAAACAH8F9BPeBv4D7IYG3H4I/gB/BfQT3gb9A+bJBky+bvwAAAAAAAAAAAAAAAAAAAACAEuQpQZ6Cv6AsgU37yaK/EDiBEziBsz8QmnzZoMnHP/CrMZEeqLw/IO0etr4NqL8QJFphcyDBvyAdNtJhI60/WGqlVmqlxj8gcMUacMWqP4DmDzYezZ8/oPNrD7msqD8Aztah32ydP8AFFEZ1mpy/wKR4gUyKl78gGBgYGBi4PwAWWGCBBbY/ANpiZfhGlL8AH3zwwQevvwAWWGCBBZY/QBhpxwqEsT94w4/qErO2v4iO4cV56Li/QDqWMgl2tT/wlf6c7fiwP/CN1R/okaK/iBtuuOGGu78MlPBGU+fHv5Q+6ZM+6cO/gB/BfQT3kb9w27Zt27a9P9jO91Pjpcs/AAAAAAAAwD9AfwH9BfSHvwBnXIsENbU/gHW0eZ/iwj/QGq3RGq3BP8Blb+hJ9cU/ANRBHdRBfb9cB3Rjnj7KvxhnUxhnU8i/wNDafbgFpD+AG2644Ya7P0DTHey32rg/oDjXMYpzrT8AMF3nWCNxPwAAAAAAAAAAoJmZmZmZqb9Ar6G8hvKKv1Ab6LSBTrs/yPdHCiZzwD8gW/yjLCetP3BnSMzbGbK/TG9605vexL/AY2pg75i6vwCse6SVyXO/ID6BVHJepr9gZQqYD2S3v8BsfDO0dq8/0O+5JU79vj8YxezPh9Owv2Cjd0XmS7O/oIUsZCELqT8AGG7tjdWfP1BJAQk/ubC/gBtuuOGGq78gXXTRRRedv2BPYT2F9aS/4JWoXYnapb+gAUt6+dOmv4AUrkfhepS/QAUvp+DllD94FK5H4Xq0v+CBuXZgrp2/\",\"dtype\":\"float64\",\"order\":\"little\",\"shape\":[90]}},\"selected\":{\"id\":\"19288\"},\"selection_policy\":{\"id\":\"19311\"}},\"id\":\"19287\",\"type\":\"ColumnDataSource\"},{\"attributes\":{\"data_source\":{\"id\":\"19262\"},\"glyph\":{\"id\":\"19265\"},\"hover_glyph\":null,\"muted_glyph\":{\"id\":\"19267\"},\"nonselection_glyph\":{\"id\":\"19266\"},\"selection_glyph\":null,\"view\":{\"id\":\"19269\"}},\"id\":\"19268\",\"type\":\"GlyphRenderer\"},{\"attributes\":{},\"id\":\"19164\",\"type\":\"SaveTool\"},{\"attributes\":{\"data_source\":{\"id\":\"19239\"},\"glyph\":{\"id\":\"19242\"},\"hover_glyph\":null,\"muted_glyph\":{\"id\":\"19244\"},\"nonselection_glyph\":{\"id\":\"19243\"},\"selection_glyph\":null,\"view\":{\"id\":\"19246\"}},\"id\":\"19245\",\"type\":\"GlyphRenderer\"},{\"attributes\":{\"label\":{\"value\":\"Sculpture\"},\"renderers\":[{\"id\":\"19245\"}]},\"id\":\"19261\",\"type\":\"LegendItem\"},{\"attributes\":{\"line_alpha\":0.1,\"line_color\":\"#e277c1\",\"line_width\":2,\"x\":{\"field\":\"Date\"},\"y\":{\"field\":\"value\"}},\"id\":\"19318\",\"type\":\"Line\"},{\"attributes\":{},\"id\":\"19315\",\"type\":\"Selection\"},{\"attributes\":{\"data\":{\"Date\":[\"4/1/1998\",\"7/1/1998\",\"10/1/1998\",\"1/1/1999\",\"4/1/1999\",\"7/1/1999\",\"10/1/1999\",\"1/1/2000\",\"4/1/2000\",\"7/1/2000\",\"10/1/2000\",\"1/1/2001\",\"4/1/2001\",\"7/1/2001\",\"10/1/2001\",\"1/1/2002\",\"4/1/2002\",\"7/1/2002\",\"10/1/2002\",\"1/1/2003\",\"4/1/2003\",\"7/1/2003\",\"10/1/2003\",\"1/1/2004\",\"4/1/2004\",\"7/1/2004\",\"10/1/2004\",\"1/1/2005\",\"4/1/2005\",\"7/1/2005\",\"10/1/2005\",\"1/1/2006\",\"4/1/2006\",\"7/1/2006\",\"10/1/2006\",\"1/1/2007\",\"4/1/2007\",\"7/1/2007\",\"10/1/2007\",\"1/1/2008\",\"4/1/2008\",\"7/1/2008\",\"10/1/2008\",\"1/1/2009\",\"4/1/2009\",\"7/1/2009\",\"10/1/2009\",\"1/1/2010\",\"4/1/2010\",\"7/1/2010\",\"10/1/2010\",\"1/1/2011\",\"4/1/2011\",\"7/1/2011\",\"10/1/2011\",\"1/1/2012\",\"4/1/2012\",\"7/1/2012\",\"10/1/2012\",\"1/1/2013\",\"4/1/2013\",\"7/1/2013\",\"10/1/2013\",\"1/1/2014\",\"4/1/2014\",\"7/1/2014\",\"10/1/2014\",\"1/1/2015\",\"4/1/2015\",\"7/1/2015\",\"10/1/2015\",\"1/1/2016\",\"4/1/2016\",\"7/1/2016\",\"10/1/2016\",\"1/1/2017\",\"4/1/2017\",\"7/1/2017\",\"10/1/2017\",\"1/1/2018\",\"4/1/2018\",\"7/1/2018\",\"10/1/2018\",\"1/1/2019\",\"4/1/2019\",\"7/1/2019\",\"10/1/2019\",\"1/1/2020\",\"4/1/2020\",\"7/1/2020\"],\"Variable\":[\"19th Century\",\"19th Century\",\"19th Century\",\"19th Century\",\"19th Century\",\"19th Century\",\"19th Century\",\"19th Century\",\"19th Century\",\"19th Century\",\"19th Century\",\"19th Century\",\"19th Century\",\"19th Century\",\"19th Century\",\"19th Century\",\"19th Century\",\"19th Century\",\"19th Century\",\"19th Century\",\"19th Century\",\"19th Century\",\"19th Century\",\"19th Century\",\"19th Century\",\"19th Century\",\"19th Century\",\"19th Century\",\"19th Century\",\"19th Century\",\"19th Century\",\"19th Century\",\"19th Century\",\"19th Century\",\"19th Century\",\"19th Century\",\"19th Century\",\"19th Century\",\"19th Century\",\"19th Century\",\"19th Century\",\"19th Century\",\"19th Century\",\"19th Century\",\"19th Century\",\"19th Century\",\"19th Century\",\"19th Century\",\"19th Century\",\"19th Century\",\"19th Century\",\"19th Century\",\"19th Century\",\"19th Century\",\"19th Century\",\"19th Century\",\"19th Century\",\"19th Century\",\"19th Century\",\"19th Century\",\"19th Century\",\"19th Century\",\"19th Century\",\"19th Century\",\"19th Century\",\"19th Century\",\"19th Century\",\"19th Century\",\"19th Century\",\"19th Century\",\"19th Century\",\"19th Century\",\"19th Century\",\"19th Century\",\"19th Century\",\"19th Century\",\"19th Century\",\"19th Century\",\"19th Century\",\"19th Century\",\"19th Century\",\"19th Century\",\"19th Century\",\"19th Century\",\"19th Century\",\"19th Century\",\"19th Century\",\"19th Century\",\"19th Century\",\"19th Century\"],\"value\":{\"__ndarray__\":\"oJmZmZmZuT+gEuQpQZ6yPwAndV8eW6E/YEeb9ykumb8grNAZrNCpv4D7IYG3H4K/gCRJkiRJgr9AJ4G4UHOSv+DCQfT4Lpy/wHgr+xxSkz8Ax3Ecx3GcP0AngbhQc4K/4BvWvmHtqz+gexphuaehP1hVVVVVVbW/SJCnBHlKsL8AAAAAAAAAAID9VhtD050/QDXBeCv7nD+ALIFN+8mSP9C6wRT5rLs/IB020mEjrT8QeqEXeqGnv6CUUkoppaS/AMg1Ecg1gT9IRERERETEPzAsuFS2d70/cBrQpgFtqr/Qh8b60Fivv0iJn1HiZ7S/EAaDwWAwqL+QnOZr9eywP/CEPWFP2LM/QCy4VLZ3rT8AB5SJK92bP+CAbEA2ILs/uCEGpGMpwz+wqqqqqqqiv4CO4cV56Ki/YHTRRRddpL/I6l3yYMC5vwCvobyG8no/IHDFGnDFmr/A1rcBQzW9v0AXXXTRRZe/AAj8AX/Anz+gcUHGBRmXvyD4gR/4ga+/YEeb9ykumb+QayKQayLAPwCVs1v41bg/yMSV7g0os7+QlpaWlpamvxA7sRM7sbM/IF/xFV/xpT/gwIEDBw68v9RKrdRKrcS/gCyBTfvJkj8wJ4G4UHOyPyCs0Bms0Km/QPmyQZMvm79AF1100UWnPwBi3K9LKq8/QNq8T3HJkD+glFJKKaWkvxjzqRfzqbe/WFVVVVVVtb8AH3zwwQefPxAUFBQUFKS/lCRJkiRJwr+QJEmSJEmyvyCkQRqkQao/QB+D8zE4rz8ApXiBTIqHP2B00UUXXbS/aC+hvYT2sr+AG+i0gU6LPwCvobyG8oo/gGNqYO+Yij8gpEEapEGavyivobyG8rq/IB4eHh4err8AAAAAAACwvwAAAAAAAAAAoJmZmZmZqT8gBEEQBEGQv4AQQgghhLA/AB988MEHrz8g1EEd1EGdvyAeHh4eHq6/\",\"dtype\":\"float64\",\"order\":\"little\",\"shape\":[90]}},\"selected\":{\"id\":\"19344\"},\"selection_policy\":{\"id\":\"19371\"}},\"id\":\"19343\",\"type\":\"ColumnDataSource\"},{\"attributes\":{\"bottom_units\":\"screen\",\"fill_alpha\":0.5,\"fill_color\":\"lightgrey\",\"left_units\":\"screen\",\"level\":\"overlay\",\"line_alpha\":1.0,\"line_color\":\"black\",\"line_dash\":[4,4],\"line_width\":2,\"right_units\":\"screen\",\"top_units\":\"screen\"},\"id\":\"19169\",\"type\":\"BoxAnnotation\"},{\"attributes\":{\"line_color\":\"#d62628\",\"line_width\":2,\"x\":{\"field\":\"Date\"},\"y\":{\"field\":\"value\"}},\"id\":\"19242\",\"type\":\"Line\"},{\"attributes\":{\"label\":{\"value\":\"Drawing\"},\"renderers\":[{\"id\":\"19293\"}]},\"id\":\"19313\",\"type\":\"LegendItem\"},{\"attributes\":{\"line_alpha\":0.2,\"line_color\":\"#e277c1\",\"line_width\":2,\"x\":{\"field\":\"Date\"},\"y\":{\"field\":\"value\"}},\"id\":\"19319\",\"type\":\"Line\"},{\"attributes\":{\"line_color\":\"#e277c1\",\"line_width\":2,\"x\":{\"field\":\"Date\"},\"y\":{\"field\":\"value\"}},\"id\":\"19317\",\"type\":\"Line\"},{\"attributes\":{},\"id\":\"19340\",\"type\":\"UnionRenderers\"},{\"attributes\":{\"data\":{\"Date\":[\"4/1/1998\",\"7/1/1998\",\"10/1/1998\",\"1/1/1999\",\"4/1/1999\",\"7/1/1999\",\"10/1/1999\",\"1/1/2000\",\"4/1/2000\",\"7/1/2000\",\"10/1/2000\",\"1/1/2001\",\"4/1/2001\",\"7/1/2001\",\"10/1/2001\",\"1/1/2002\",\"4/1/2002\",\"7/1/2002\",\"10/1/2002\",\"1/1/2003\",\"4/1/2003\",\"7/1/2003\",\"10/1/2003\",\"1/1/2004\",\"4/1/2004\",\"7/1/2004\",\"10/1/2004\",\"1/1/2005\",\"4/1/2005\",\"7/1/2005\",\"10/1/2005\",\"1/1/2006\",\"4/1/2006\",\"7/1/2006\",\"10/1/2006\",\"1/1/2007\",\"4/1/2007\",\"7/1/2007\",\"10/1/2007\",\"1/1/2008\",\"4/1/2008\",\"7/1/2008\",\"10/1/2008\",\"1/1/2009\",\"4/1/2009\",\"7/1/2009\",\"10/1/2009\",\"1/1/2010\",\"4/1/2010\",\"7/1/2010\",\"10/1/2010\",\"1/1/2011\",\"4/1/2011\",\"7/1/2011\",\"10/1/2011\",\"1/1/2012\",\"4/1/2012\",\"7/1/2012\",\"10/1/2012\",\"1/1/2013\",\"4/1/2013\",\"7/1/2013\",\"10/1/2013\",\"1/1/2014\",\"4/1/2014\",\"7/1/2014\",\"10/1/2014\",\"1/1/2015\",\"4/1/2015\",\"7/1/2015\",\"10/1/2015\",\"1/1/2016\",\"4/1/2016\",\"7/1/2016\",\"10/1/2016\",\"1/1/2017\",\"4/1/2017\",\"7/1/2017\",\"10/1/2017\",\"1/1/2018\",\"4/1/2018\",\"7/1/2018\",\"10/1/2018\",\"1/1/2019\",\"4/1/2019\",\"7/1/2019\",\"10/1/2019\",\"1/1/2020\",\"4/1/2020\",\"7/1/2020\"],\"Variable\":[\"Sculpture\",\"Sculpture\",\"Sculpture\",\"Sculpture\",\"Sculpture\",\"Sculpture\",\"Sculpture\",\"Sculpture\",\"Sculpture\",\"Sculpture\",\"Sculpture\",\"Sculpture\",\"Sculpture\",\"Sculpture\",\"Sculpture\",\"Sculpture\",\"Sculpture\",\"Sculpture\",\"Sculpture\",\"Sculpture\",\"Sculpture\",\"Sculpture\",\"Sculpture\",\"Sculpture\",\"Sculpture\",\"Sculpture\",\"Sculpture\",\"Sculpture\",\"Sculpture\",\"Sculpture\",\"Sculpture\",\"Sculpture\",\"Sculpture\",\"Sculpture\",\"Sculpture\",\"Sculpture\",\"Sculpture\",\"Sculpture\",\"Sculpture\",\"Sculpture\",\"Sculpture\",\"Sculpture\",\"Sculpture\",\"Sculpture\",\"Sculpture\",\"Sculpture\",\"Sculpture\",\"Sculpture\",\"Sculpture\",\"Sculpture\",\"Sculpture\",\"Sculpture\",\"Sculpture\",\"Sculpture\",\"Sculpture\",\"Sculpture\",\"Sculpture\",\"Sculpture\",\"Sculpture\",\"Sculpture\",\"Sculpture\",\"Sculpture\",\"Sculpture\",\"Sculpture\",\"Sculpture\",\"Sculpture\",\"Sculpture\",\"Sculpture\",\"Sculpture\",\"Sculpture\",\"Sculpture\",\"Sculpture\",\"Sculpture\",\"Sculpture\",\"Sculpture\",\"Sculpture\",\"Sculpture\",\"Sculpture\",\"Sculpture\",\"Sculpture\",\"Sculpture\",\"Sculpture\",\"Sculpture\",\"Sculpture\",\"Sculpture\",\"Sculpture\",\"Sculpture\",\"Sculpture\",\"Sculpture\",\"Sculpture\"],\"value\":{\"__ndarray__\":\"9Chcj8L12D8gIYq/yBmmvwA04c+EP6O/AAAAAAAAoD8AH3zwwQePPwAAAAAAAAAAgIn0QOXspj8AAAAAAAAAACBf8RVf8ZW/gIb449blfb8AHh4eHh6Ov4CJ9EDl7KY/oJmZmZmZqT/IxJXuDSizv9DS0tLS0rK/AARBEARBkD8AAAAAAACgPwAffPDBB38/gHFBxgUZlz9gWlpaWlqqPxA7sRM7sbM/QLB3TA3srT9A4tBJ+yCZP0Cwq/Dlhpg/gH8B/QX0hz8A7eAIIq13vwAAAAAAAAAAwKasKWvKqj9AT6gFjEmsP6B42uMqIKi/IJVRGZVRqb+AsaiG2cGRP4DRRRdddKE/IGiBFmiBpj8AWYEw0o6FP1BVVVVVVbU/iJ3YiZ3YwT+AjdF2mhWsPwCq8dJNYnA/gBrS9spboj8A+IEf+IGfP2C38KsxkZ6/mJmZmZmZub9UVVVVVVXFvxAREREREbG/IDuxEzuxoz8ABEEQBEGQP6CqqqqqqqI/gNCy4zmVhL8gh7jKFDCvvwBiAXf6I4Y/oBjqL0ekuD8AFLA/AfuzPwAAAAAAAAAAALCIErCIgr9AKwGtBLSSv5DRMAEZDaO/4Kt7pJXJo79g0LLjOZWkvwBrUDztcXU/wKqqqqqqmj8w0dO5vZasv4gQQgghhLC/kHsaYbmnsT+AEEIIIYSwPwAffPDBB4+/IM7hHM7hrL/A6U1vetOrv6B7GmG5p5G/gB/BfQT3kb9QVVVVVVWlv2AhC1nIQqa/wGNqYO+Yir8AAAAAAAAAAACvobyG8nq/4IBsQDYgm78AB5SJK917v4AYMWLEiKE/wIBsQDYgmz8AAAAAAAAAAIAa0KYBbYq/EGa7EGa7oL/AFPmsG0yhvyApB0SGe5W/AF/xFV/xlT8A4l4Fs6R8PwDHcRzHcXy/AAAAAAAAAAAA4l4Fs6R8PyDHcRzHcaw/\",\"dtype\":\"float64\",\"order\":\"little\",\"shape\":[90]}},\"selected\":{\"id\":\"19240\"},\"selection_policy\":{\"id\":\"19259\"}},\"id\":\"19239\",\"type\":\"ColumnDataSource\"},{\"attributes\":{\"label\":{\"value\":\"Modern Art\"},\"renderers\":[{\"id\":\"19380\"}]},\"id\":\"19406\",\"type\":\"LegendItem\"},{\"attributes\":{\"align\":null,\"below\":[{\"id\":\"19157\"}],\"center\":[{\"id\":\"19159\"},{\"id\":\"19163\"}],\"frame_height\":500,\"frame_width\":1500,\"left\":[{\"id\":\"19160\"}],\"margin\":null,\"min_border_bottom\":10,\"min_border_left\":10,\"min_border_right\":10,\"min_border_top\":10,\"plot_height\":null,\"plot_width\":null,\"renderers\":[{\"id\":\"19187\"},{\"id\":\"19205\"},{\"id\":\"19224\"},{\"id\":\"19245\"},{\"id\":\"19268\"},{\"id\":\"19293\"},{\"id\":\"19320\"},{\"id\":\"19349\"},{\"id\":\"19380\"},{\"id\":\"19413\"},{\"id\":\"19448\"},{\"id\":\"19485\"},{\"id\":\"19524\"},{\"id\":\"19565\"}],\"right\":[{\"id\":\"19197\"}],\"sizing_mode\":\"fixed\",\"title\":{\"id\":\"19149\"},\"toolbar\":{\"id\":\"19170\"},\"x_range\":{\"id\":\"19132\"},\"x_scale\":{\"id\":\"19153\"},\"y_range\":{\"id\":\"19133\"},\"y_scale\":{\"id\":\"19155\"}},\"id\":\"19148\",\"subtype\":\"Figure\",\"type\":\"Plot\"},{\"attributes\":{\"line_color\":\"#9367bc\",\"line_width\":2,\"x\":{\"field\":\"Date\"},\"y\":{\"field\":\"value\"}},\"id\":\"19265\",\"type\":\"Line\"},{\"attributes\":{\"line_alpha\":0.1,\"line_color\":\"#9367bc\",\"line_width\":2,\"x\":{\"field\":\"Date\"},\"y\":{\"field\":\"value\"}},\"id\":\"19266\",\"type\":\"Line\"},{\"attributes\":{\"line_alpha\":0.2,\"line_color\":\"#8c564b\",\"line_width\":2,\"x\":{\"field\":\"Date\"},\"y\":{\"field\":\"value\"}},\"id\":\"19292\",\"type\":\"Line\"},{\"attributes\":{\"source\":{\"id\":\"19239\"}},\"id\":\"19246\",\"type\":\"CDSView\"},{\"attributes\":{\"line_color\":\"#0fffa8\",\"line_width\":2,\"x\":{\"field\":\"Date\"},\"y\":{\"field\":\"value\"}},\"id\":\"19521\",\"type\":\"Line\"},{\"attributes\":{},\"id\":\"19236\",\"type\":\"UnionRenderers\"},{\"attributes\":{},\"id\":\"19408\",\"type\":\"Selection\"},{\"attributes\":{\"data\":{\"Date\":[\"4/1/1998\",\"7/1/1998\",\"10/1/1998\",\"1/1/1999\",\"4/1/1999\",\"7/1/1999\",\"10/1/1999\",\"1/1/2000\",\"4/1/2000\",\"7/1/2000\",\"10/1/2000\",\"1/1/2001\",\"4/1/2001\",\"7/1/2001\",\"10/1/2001\",\"1/1/2002\",\"4/1/2002\",\"7/1/2002\",\"10/1/2002\",\"1/1/2003\",\"4/1/2003\",\"7/1/2003\",\"10/1/2003\",\"1/1/2004\",\"4/1/2004\",\"7/1/2004\",\"10/1/2004\",\"1/1/2005\",\"4/1/2005\",\"7/1/2005\",\"10/1/2005\",\"1/1/2006\",\"4/1/2006\",\"7/1/2006\",\"10/1/2006\",\"1/1/2007\",\"4/1/2007\",\"7/1/2007\",\"10/1/2007\",\"1/1/2008\",\"4/1/2008\",\"7/1/2008\",\"10/1/2008\",\"1/1/2009\",\"4/1/2009\",\"7/1/2009\",\"10/1/2009\",\"1/1/2010\",\"4/1/2010\",\"7/1/2010\",\"10/1/2010\",\"1/1/2011\",\"4/1/2011\",\"7/1/2011\",\"10/1/2011\",\"1/1/2012\",\"4/1/2012\",\"7/1/2012\",\"10/1/2012\",\"1/1/2013\",\"4/1/2013\",\"7/1/2013\",\"10/1/2013\",\"1/1/2014\",\"4/1/2014\",\"7/1/2014\",\"10/1/2014\",\"1/1/2015\",\"4/1/2015\",\"7/1/2015\",\"10/1/2015\",\"1/1/2016\",\"4/1/2016\",\"7/1/2016\",\"10/1/2016\",\"1/1/2017\",\"4/1/2017\",\"7/1/2017\",\"10/1/2017\",\"1/1/2018\",\"4/1/2018\",\"7/1/2018\",\"10/1/2018\",\"1/1/2019\",\"4/1/2019\",\"7/1/2019\",\"10/1/2019\",\"1/1/2020\",\"4/1/2020\",\"7/1/2020\"],\"Variable\":[\"Photography\",\"Photography\",\"Photography\",\"Photography\",\"Photography\",\"Photography\",\"Photography\",\"Photography\",\"Photography\",\"Photography\",\"Photography\",\"Photography\",\"Photography\",\"Photography\",\"Photography\",\"Photography\",\"Photography\",\"Photography\",\"Photography\",\"Photography\",\"Photography\",\"Photography\",\"Photography\",\"Photography\",\"Photography\",\"Photography\",\"Photography\",\"Photography\",\"Photography\",\"Photography\",\"Photography\",\"Photography\",\"Photography\",\"Photography\",\"Photography\",\"Photography\",\"Photography\",\"Photography\",\"Photography\",\"Photography\",\"Photography\",\"Photography\",\"Photography\",\"Photography\",\"Photography\",\"Photography\",\"Photography\",\"Photography\",\"Photography\",\"Photography\",\"Photography\",\"Photography\",\"Photography\",\"Photography\",\"Photography\",\"Photography\",\"Photography\",\"Photography\",\"Photography\",\"Photography\",\"Photography\",\"Photography\",\"Photography\",\"Photography\",\"Photography\",\"Photography\",\"Photography\",\"Photography\",\"Photography\",\"Photography\",\"Photography\",\"Photography\",\"Photography\",\"Photography\",\"Photography\",\"Photography\",\"Photography\",\"Photography\",\"Photography\",\"Photography\",\"Photography\",\"Photography\",\"Photography\",\"Photography\",\"Photography\",\"Photography\",\"Photography\",\"Photography\",\"Photography\",\"Photography\"],\"value\":{\"__ndarray__\":\"gBSuR+F6pL9gVVVVVVWVv2ByBTG5gri/ABgYGBgYiL8AhmEYhmGIPwAAAAAAAAAAEBUVFRUVtT9805ve9KbXP6DneZ7nec4/GKRBGqRBur/UQR3UQR3Ev7AVQcNJ3bc/uKQtaUvawj/IZ91giny2v3DlAck6V76/AMg1Ecg1kT/A6tkhcGOZP8AYY4wxxqg/ILmRG7mRqz8g/rh1eQe8P2BDeQ3lNbQ/IJyPwfkYrL/QExw9wdGzvwAAAAAAAAAAEDuxEzuxwz+gEuQpQZ7CPwBbAWsFrIU/AGtQPO1xhT8AGG7tjdWPP4DG+tBYH6q/ABZYYIEFdj8gHh4eHh6+PyCvobyG8qo/QJ4S5ClBrr/glpoN+7uov1DAfCC7sLg/8CW0l9Bewj+ACQE5P5WAP8D12Yzvj5S/wBCso837lD+A82sPuayIPyCGYRiGYZi/vBK1K1G7wr8YhmEYhmG4vwBZgTDSjpU/ILab5Ulkqr8wvelNb3qjv1AEDSd1X74/YL9SoNavtD8gVpTGRybAvwAad+u8Arq/iGEYhmEYxj9oCpgPZBfGP0DtRkBKu4G/CKtbFnw9tb8g+7Ef+7Gvv1Ab76hm/am/4BXQuFvnpb/AN0Nr9+GWP8Br5YRn+qs/AAAAAAAAAAAAAAAAAAAAAAAQ9EgJOYU/AAAAAAAAAAAApEEapEGaP4AUrkfheqQ/ADuxEzuxgz8gOIETOIGTvwAAAAAAAAAAYGi6g/1Wq78gpEEapEGqv8C6wRT5rJs/AFmBMNKOdb/AWgFrBayFv2AQnMqEbZC/kIUsZCELub/A9pDLioGSv3D+CrMaRbw/QAQpNxXNsz8A+IEf+IGfP6DP9cfLYKS/cO2N1R/owb9YMVDCG029vwAHlIkr3as/IBf2cWEfpz9gL6G9hPaSvwCh5E7Rwnk/QDMzMzMzkz9A4tBJ+yCJv4C4DPjkcJk/\",\"dtype\":\"float64\",\"order\":\"little\",\"shape\":[90]}},\"selected\":{\"id\":\"19263\"},\"selection_policy\":{\"id\":\"19284\"}},\"id\":\"19262\",\"type\":\"ColumnDataSource\"},{\"attributes\":{},\"id\":\"19179\",\"type\":\"BasicTickFormatter\"},{\"attributes\":{\"source\":{\"id\":\"19518\"}},\"id\":\"19525\",\"type\":\"CDSView\"},{\"attributes\":{},\"id\":\"19215\",\"type\":\"UnionRenderers\"},{\"attributes\":{\"label\":{\"value\":\"Global Index (EUR)\"},\"renderers\":[{\"id\":\"19205\"}]},\"id\":\"19217\",\"type\":\"LegendItem\"},{\"attributes\":{\"margin\":[5,5,5,5],\"name\":\"HSpacer46737\",\"sizing_mode\":\"stretch_width\"},\"id\":\"19131\",\"type\":\"Spacer\"},{\"attributes\":{\"data_source\":{\"id\":\"19287\"},\"glyph\":{\"id\":\"19290\"},\"hover_glyph\":null,\"muted_glyph\":{\"id\":\"19292\"},\"nonselection_glyph\":{\"id\":\"19291\"},\"selection_glyph\":null,\"view\":{\"id\":\"19294\"}},\"id\":\"19293\",\"type\":\"GlyphRenderer\"},{\"attributes\":{\"data\":{\"Date\":[\"4/1/1998\",\"7/1/1998\",\"10/1/1998\",\"1/1/1999\",\"4/1/1999\",\"7/1/1999\",\"10/1/1999\",\"1/1/2000\",\"4/1/2000\",\"7/1/2000\",\"10/1/2000\",\"1/1/2001\",\"4/1/2001\",\"7/1/2001\",\"10/1/2001\",\"1/1/2002\",\"4/1/2002\",\"7/1/2002\",\"10/1/2002\",\"1/1/2003\",\"4/1/2003\",\"7/1/2003\",\"10/1/2003\",\"1/1/2004\",\"4/1/2004\",\"7/1/2004\",\"10/1/2004\",\"1/1/2005\",\"4/1/2005\",\"7/1/2005\",\"10/1/2005\",\"1/1/2006\",\"4/1/2006\",\"7/1/2006\",\"10/1/2006\",\"1/1/2007\",\"4/1/2007\",\"7/1/2007\",\"10/1/2007\",\"1/1/2008\",\"4/1/2008\",\"7/1/2008\",\"10/1/2008\",\"1/1/2009\",\"4/1/2009\",\"7/1/2009\",\"10/1/2009\",\"1/1/2010\",\"4/1/2010\",\"7/1/2010\",\"10/1/2010\",\"1/1/2011\",\"4/1/2011\",\"7/1/2011\",\"10/1/2011\",\"1/1/2012\",\"4/1/2012\",\"7/1/2012\",\"10/1/2012\",\"1/1/2013\",\"4/1/2013\",\"7/1/2013\",\"10/1/2013\",\"1/1/2014\",\"4/1/2014\",\"7/1/2014\",\"10/1/2014\",\"1/1/2015\",\"4/1/2015\",\"7/1/2015\",\"10/1/2015\",\"1/1/2016\",\"4/1/2016\",\"7/1/2016\",\"10/1/2016\",\"1/1/2017\",\"4/1/2017\",\"7/1/2017\",\"10/1/2017\",\"1/1/2018\",\"4/1/2018\",\"7/1/2018\",\"10/1/2018\",\"1/1/2019\",\"4/1/2019\",\"7/1/2019\",\"10/1/2019\",\"1/1/2020\",\"4/1/2020\",\"7/1/2020\"],\"Variable\":[\"Global Index (USD)\",\"Global Index (USD)\",\"Global Index (USD)\",\"Global Index (USD)\",\"Global Index (USD)\",\"Global Index (USD)\",\"Global Index (USD)\",\"Global Index (USD)\",\"Global Index (USD)\",\"Global Index (USD)\",\"Global Index (USD)\",\"Global Index (USD)\",\"Global Index (USD)\",\"Global Index (USD)\",\"Global Index (USD)\",\"Global Index (USD)\",\"Global Index (USD)\",\"Global Index (USD)\",\"Global Index (USD)\",\"Global Index (USD)\",\"Global Index (USD)\",\"Global Index (USD)\",\"Global Index (USD)\",\"Global Index (USD)\",\"Global Index (USD)\",\"Global Index (USD)\",\"Global Index (USD)\",\"Global Index (USD)\",\"Global Index (USD)\",\"Global Index (USD)\",\"Global Index (USD)\",\"Global Index (USD)\",\"Global Index (USD)\",\"Global Index (USD)\",\"Global Index (USD)\",\"Global Index (USD)\",\"Global Index (USD)\",\"Global Index (USD)\",\"Global Index (USD)\",\"Global Index (USD)\",\"Global Index (USD)\",\"Global Index (USD)\",\"Global Index (USD)\",\"Global Index (USD)\",\"Global Index (USD)\",\"Global Index (USD)\",\"Global Index (USD)\",\"Global Index (USD)\",\"Global Index (USD)\",\"Global Index (USD)\",\"Global Index (USD)\",\"Global Index (USD)\",\"Global Index (USD)\",\"Global Index (USD)\",\"Global Index (USD)\",\"Global Index (USD)\",\"Global Index (USD)\",\"Global Index (USD)\",\"Global Index (USD)\",\"Global Index (USD)\",\"Global Index (USD)\",\"Global Index (USD)\",\"Global Index (USD)\",\"Global Index (USD)\",\"Global Index (USD)\",\"Global Index (USD)\",\"Global Index (USD)\",\"Global Index (USD)\",\"Global Index (USD)\",\"Global Index (USD)\",\"Global Index (USD)\",\"Global Index (USD)\",\"Global Index (USD)\",\"Global Index (USD)\",\"Global Index (USD)\",\"Global Index (USD)\",\"Global Index (USD)\",\"Global Index (USD)\",\"Global Index (USD)\",\"Global Index (USD)\",\"Global Index (USD)\",\"Global Index (USD)\",\"Global Index (USD)\",\"Global Index (USD)\",\"Global Index (USD)\",\"Global Index (USD)\",\"Global Index (USD)\",\"Global Index (USD)\",\"Global Index (USD)\",\"Global Index (USD)\"],\"value\":{\"__ndarray__\":\"8FG4HoXrsT/AECtK4yODv/BW9jmkJri/UFVVVVVVtT8AO7ETO7GDvwCp5Lws4oM/AAAAAAAAAABwYid2Yie2P0D5skGTL5s/kHsaYbmnob/Atm3btm2bP4hxvy6pfLi/eGIndmInxj8wGYJ1tHm/vwAAAAAAAAAAAAAAAAAAAAAAmUDv1LWcPwAAAAAAAAAAgBLkKUGekj9IkiRJkiTBP5BGo9FoNLo/AAAAAAAAAABQB3VQB3XAv8gQrKPN+8Q/AO5ST8Zvtz+AGtCmAW16vwBkamDvmHo/YBrQpgFtqj+gqVx3vNjCPyAeHh4eHq6/SBdddNFFt7/QzMzMzMzAP+CV/pzt+JC/cIELXOACtz9QgS+uftDBv8CXG2JAOsY/EI31obE+xD9AoZuS6hCbP8RslbiYrcK/ABu9KzJfyj/Au7u7u7urv2CZKHRTUq0/eHd3d3d3x7/Ytm3btm27vxRf8RVf8cW/YLmnEZZ7yj8UX/EVX/HFvwjLPY2w3NM/QNqxAmGkrb/QaXKQeSmhv8iiGmYHR8C/vPBeeC+81z/glpoN+7u4vywTtkFwKtM/YMxKo0dUwL/AeCv7HFKjv+bm5ubm5ta/QHXsrQ3T3D8MhJF2rEDIv7B3TA3sHdM/wB6F61G4rr9AfWejvrOxP3D98TIYBay/AFmBMNKOlT8YVz/oqMC3v4guuuiii8Y/cDbs72JQsT8gCM0bCM2rPzyI5LAHkcy/gL3Sn7Mdr78YGxsbGxu7v3Aor6G8hrI/4MWW4Nv8tb/ApmMuEZ6UPxDlNZTXUL6/LGe38Ksx0T/c29vb29vLv8hSEUtFLMU/YB8X9nFhv79YWlpaWlrKP9yVqF2J2sW/IB4eHh4evj80lNdQXkPJv8gQrKPN+8Q/OAcSrbA5wL/QWmuttda6P+hk+iphbMa/OPmyQZMvyz/kj1uXd8DBv6C6L4+tCKo/\",\"dtype\":\"float64\",\"order\":\"little\",\"shape\":[90]}},\"selected\":{\"id\":\"19182\"},\"selection_policy\":{\"id\":\"19195\"}},\"id\":\"19181\",\"type\":\"ColumnDataSource\"},{\"attributes\":{\"end\":0.5614480305396495,\"reset_end\":0.5614480305396495,\"reset_start\":-0.44141506159986116,\"start\":-0.44141506159986116,\"tags\":[[[\"value\",\"value\",null]]]},\"id\":\"19133\",\"type\":\"Range1d\"},{\"attributes\":{\"data\":{\"Date\":[\"4/1/1998\",\"7/1/1998\",\"10/1/1998\",\"1/1/1999\",\"4/1/1999\",\"7/1/1999\",\"10/1/1999\",\"1/1/2000\",\"4/1/2000\",\"7/1/2000\",\"10/1/2000\",\"1/1/2001\",\"4/1/2001\",\"7/1/2001\",\"10/1/2001\",\"1/1/2002\",\"4/1/2002\",\"7/1/2002\",\"10/1/2002\",\"1/1/2003\",\"4/1/2003\",\"7/1/2003\",\"10/1/2003\",\"1/1/2004\",\"4/1/2004\",\"7/1/2004\",\"10/1/2004\",\"1/1/2005\",\"4/1/2005\",\"7/1/2005\",\"10/1/2005\",\"1/1/2006\",\"4/1/2006\",\"7/1/2006\",\"10/1/2006\",\"1/1/2007\",\"4/1/2007\",\"7/1/2007\",\"10/1/2007\",\"1/1/2008\",\"4/1/2008\",\"7/1/2008\",\"10/1/2008\",\"1/1/2009\",\"4/1/2009\",\"7/1/2009\",\"10/1/2009\",\"1/1/2010\",\"4/1/2010\",\"7/1/2010\",\"10/1/2010\",\"1/1/2011\",\"4/1/2011\",\"7/1/2011\",\"10/1/2011\",\"1/1/2012\",\"4/1/2012\",\"7/1/2012\",\"10/1/2012\",\"1/1/2013\",\"4/1/2013\",\"7/1/2013\",\"10/1/2013\",\"1/1/2014\",\"4/1/2014\",\"7/1/2014\",\"10/1/2014\",\"1/1/2015\",\"4/1/2015\",\"7/1/2015\",\"10/1/2015\",\"1/1/2016\",\"4/1/2016\",\"7/1/2016\",\"10/1/2016\",\"1/1/2017\",\"4/1/2017\",\"7/1/2017\",\"10/1/2017\",\"1/1/2018\",\"4/1/2018\",\"7/1/2018\",\"10/1/2018\",\"1/1/2019\",\"4/1/2019\",\"7/1/2019\",\"10/1/2019\",\"1/1/2020\",\"4/1/2020\",\"7/1/2020\"],\"Variable\":[\"Painting\",\"Painting\",\"Painting\",\"Painting\",\"Painting\",\"Painting\",\"Painting\",\"Painting\",\"Painting\",\"Painting\",\"Painting\",\"Painting\",\"Painting\",\"Painting\",\"Painting\",\"Painting\",\"Painting\",\"Painting\",\"Painting\",\"Painting\",\"Painting\",\"Painting\",\"Painting\",\"Painting\",\"Painting\",\"Painting\",\"Painting\",\"Painting\",\"Painting\",\"Painting\",\"Painting\",\"Painting\",\"Painting\",\"Painting\",\"Painting\",\"Painting\",\"Painting\",\"Painting\",\"Painting\",\"Painting\",\"Painting\",\"Painting\",\"Painting\",\"Painting\",\"Painting\",\"Painting\",\"Painting\",\"Painting\",\"Painting\",\"Painting\",\"Painting\",\"Painting\",\"Painting\",\"Painting\",\"Painting\",\"Painting\",\"Painting\",\"Painting\",\"Painting\",\"Painting\",\"Painting\",\"Painting\",\"Painting\",\"Painting\",\"Painting\",\"Painting\",\"Painting\",\"Painting\",\"Painting\",\"Painting\",\"Painting\",\"Painting\",\"Painting\",\"Painting\",\"Painting\",\"Painting\",\"Painting\",\"Painting\",\"Painting\",\"Painting\",\"Painting\",\"Painting\",\"Painting\",\"Painting\",\"Painting\",\"Painting\",\"Painting\",\"Painting\",\"Painting\",\"Painting\"],\"value\":{\"__ndarray__\":\"ENejcD0Ktz+gLIFN+8mSv8AQK0rjI6O/AKnkvCzioz+gruXgZr+wP4AfwX0E94E/AAAAAAAAAAAAgaKtBs+RPwAYgREYgYE/ACd1Xx5bgT8gyDURyDWRvyCkQRqkQaq/AAAAAAAAAAAAJ4G4UHOCP4AkSZIkSYK/wLrBFPmsmz9Ar6G8hvKaPwCkQRqkQZo/gJmZmZmZmT/AErUrUbuyP3DRRRdddLE/gMBuj7UMnb8Ah/jj1uV9P+CBuXZgrr0/QBdddNFFtz8AhmEYhmGIPwAYGBgYGIg/gEfcEXfErT8glVEZlVGpP0BrUDztcZW/cBCcyoRtoL+AclPRPKGGP8Br5YRn+qs/ABD0SAk5lT+AryWHuMqEP4BXZL40cbg/ILBpP1kCuz8g8P4Q8P6gPwAAAAAAAAAAwPdHCiZzoD8g7hHuEe6hPwA04c+EP6O/AAAAAAAAur+YmZmZmZm5v+Cre6SVyaO/gDiM1dbfjr/Ah8b60FiPv+ATMZtLh6o/QK+/OBlEnj8Az6fHzdivv0AFL6fg5aS/QH1no76zsT9gt/CrMZGuP+CrLXKdCZi/4Imd2ImdqL9gv1Kg1q+kv7ACYaQdK6C/YCELWchCpr9w0UUXXXShvwAAAAAAAAAAABISEhISkj8A7eAIIq13PwCleIFMine/AO3gCCKthz9Afyer5Y2RPwAAAAAAAAAAIKEIRShCkb+AFK5H4Xqkv+C2bdu2bau/AKHkTtHCmb+AGtCmAW2KvyBwxRpwxZq/oKZjLhGelL+QGDFixIihv2DogN0ea6m/AAAAAAAAAACAt/CrMZGOPwAeHh4eHo6/gLfwqzGRjr8AH3zwwQd/P4BxQcYFGZc/oJaWlpaWlr8wr6G8hvKqvwAAAAAAAAAAAAAAAAAAAAAQRVEURVGkv7BD4MYyKKW/AAAAAAAAAACAexphuaeBPwCkQRqkQZo/\",\"dtype\":\"float64\",\"order\":\"little\",\"shape\":[90]}},\"selected\":{\"id\":\"19219\"},\"selection_policy\":{\"id\":\"19236\"}},\"id\":\"19218\",\"type\":\"ColumnDataSource\"},{\"attributes\":{},\"id\":\"19476\",\"type\":\"UnionRenderers\"},{\"attributes\":{\"source\":{\"id\":\"19442\"}},\"id\":\"19449\",\"type\":\"CDSView\"},{\"attributes\":{},\"id\":\"19182\",\"type\":\"Selection\"},{\"attributes\":{\"line_color\":\"#1f77b3\",\"line_width\":2,\"x\":{\"field\":\"Date\"},\"y\":{\"field\":\"value\"}},\"id\":\"19184\",\"type\":\"Line\"},{\"attributes\":{\"line_alpha\":0.2,\"line_color\":\"#ff7e0e\",\"line_width\":2,\"x\":{\"field\":\"Date\"},\"y\":{\"field\":\"value\"}},\"id\":\"19204\",\"type\":\"Line\"},{\"attributes\":{\"line_alpha\":0.2,\"line_color\":\"#2ba02b\",\"line_width\":2,\"x\":{\"field\":\"Date\"},\"y\":{\"field\":\"value\"}},\"id\":\"19223\",\"type\":\"Line\"},{\"attributes\":{\"data_source\":{\"id\":\"19199\"},\"glyph\":{\"id\":\"19202\"},\"hover_glyph\":null,\"muted_glyph\":{\"id\":\"19204\"},\"nonselection_glyph\":{\"id\":\"19203\"},\"selection_glyph\":null,\"view\":{\"id\":\"19206\"}},\"id\":\"19205\",\"type\":\"GlyphRenderer\"},{\"attributes\":{\"click_policy\":\"mute\",\"items\":[{\"id\":\"19198\"},{\"id\":\"19217\"},{\"id\":\"19238\"},{\"id\":\"19261\"},{\"id\":\"19286\"},{\"id\":\"19313\"},{\"id\":\"19342\"},{\"id\":\"19373\"},{\"id\":\"19406\"},{\"id\":\"19441\"},{\"id\":\"19478\"},{\"id\":\"19517\"},{\"id\":\"19558\"},{\"id\":\"19601\"}],\"location\":[0,0],\"title\":\"Variable\"},\"id\":\"19197\",\"type\":\"Legend\"},{\"attributes\":{\"axis\":{\"id\":\"19157\"},\"grid_line_color\":null,\"ticker\":null},\"id\":\"19159\",\"type\":\"Grid\"},{\"attributes\":{},\"id\":\"19166\",\"type\":\"WheelZoomTool\"},{\"attributes\":{\"source\":{\"id\":\"19199\"}},\"id\":\"19206\",\"type\":\"CDSView\"},{\"attributes\":{\"data_source\":{\"id\":\"19518\"},\"glyph\":{\"id\":\"19521\"},\"hover_glyph\":null,\"muted_glyph\":{\"id\":\"19523\"},\"nonselection_glyph\":{\"id\":\"19522\"},\"selection_glyph\":null,\"view\":{\"id\":\"19525\"}},\"id\":\"19524\",\"type\":\"GlyphRenderer\"},{\"attributes\":{\"data\":{\"Date\":[\"4/1/1998\",\"7/1/1998\",\"10/1/1998\",\"1/1/1999\",\"4/1/1999\",\"7/1/1999\",\"10/1/1999\",\"1/1/2000\",\"4/1/2000\",\"7/1/2000\",\"10/1/2000\",\"1/1/2001\",\"4/1/2001\",\"7/1/2001\",\"10/1/2001\",\"1/1/2002\",\"4/1/2002\",\"7/1/2002\",\"10/1/2002\",\"1/1/2003\",\"4/1/2003\",\"7/1/2003\",\"10/1/2003\",\"1/1/2004\",\"4/1/2004\",\"7/1/2004\",\"10/1/2004\",\"1/1/2005\",\"4/1/2005\",\"7/1/2005\",\"10/1/2005\",\"1/1/2006\",\"4/1/2006\",\"7/1/2006\",\"10/1/2006\",\"1/1/2007\",\"4/1/2007\",\"7/1/2007\",\"10/1/2007\",\"1/1/2008\",\"4/1/2008\",\"7/1/2008\",\"10/1/2008\",\"1/1/2009\",\"4/1/2009\",\"7/1/2009\",\"10/1/2009\",\"1/1/2010\",\"4/1/2010\",\"7/1/2010\",\"10/1/2010\",\"1/1/2011\",\"4/1/2011\",\"7/1/2011\",\"10/1/2011\",\"1/1/2012\",\"4/1/2012\",\"7/1/2012\",\"10/1/2012\",\"1/1/2013\",\"4/1/2013\",\"7/1/2013\",\"10/1/2013\",\"1/1/2014\",\"4/1/2014\",\"7/1/2014\",\"10/1/2014\",\"1/1/2015\",\"4/1/2015\",\"7/1/2015\",\"10/1/2015\",\"1/1/2016\",\"4/1/2016\",\"7/1/2016\",\"10/1/2016\",\"1/1/2017\",\"4/1/2017\",\"7/1/2017\",\"10/1/2017\",\"1/1/2018\",\"4/1/2018\",\"7/1/2018\",\"10/1/2018\",\"1/1/2019\",\"4/1/2019\",\"7/1/2019\",\"10/1/2019\",\"1/1/2020\",\"4/1/2020\",\"7/1/2020\"],\"Variable\":[\"Contemporary\",\"Contemporary\",\"Contemporary\",\"Contemporary\",\"Contemporary\",\"Contemporary\",\"Contemporary\",\"Contemporary\",\"Contemporary\",\"Contemporary\",\"Contemporary\",\"Contemporary\",\"Contemporary\",\"Contemporary\",\"Contemporary\",\"Contemporary\",\"Contemporary\",\"Contemporary\",\"Contemporary\",\"Contemporary\",\"Contemporary\",\"Contemporary\",\"Contemporary\",\"Contemporary\",\"Contemporary\",\"Contemporary\",\"Contemporary\",\"Contemporary\",\"Contemporary\",\"Contemporary\",\"Contemporary\",\"Contemporary\",\"Contemporary\",\"Contemporary\",\"Contemporary\",\"Contemporary\",\"Contemporary\",\"Contemporary\",\"Contemporary\",\"Contemporary\",\"Contemporary\",\"Contemporary\",\"Contemporary\",\"Contemporary\",\"Contemporary\",\"Contemporary\",\"Contemporary\",\"Contemporary\",\"Contemporary\",\"Contemporary\",\"Contemporary\",\"Contemporary\",\"Contemporary\",\"Contemporary\",\"Contemporary\",\"Contemporary\",\"Contemporary\",\"Contemporary\",\"Contemporary\",\"Contemporary\",\"Contemporary\",\"Contemporary\",\"Contemporary\",\"Contemporary\",\"Contemporary\",\"Contemporary\",\"Contemporary\",\"Contemporary\",\"Contemporary\",\"Contemporary\",\"Contemporary\",\"Contemporary\",\"Contemporary\",\"Contemporary\",\"Contemporary\",\"Contemporary\",\"Contemporary\",\"Contemporary\",\"Contemporary\",\"Contemporary\",\"Contemporary\",\"Contemporary\",\"Contemporary\",\"Contemporary\",\"Contemporary\",\"Contemporary\",\"Contemporary\",\"Contemporary\",\"Contemporary\",\"Contemporary\"],\"value\":{\"__ndarray__\":\"gBSuR+F6hD8A2mJl+Ea0P8B34SB6fKc/gB/BfQT3kb/gtm3btm2rv/BW9jmkJqi/ANpiZfhGtD8osGk/WQLLPzDZZJNNNrk/4HmLIZ23qD9AeQ3lNZSnP9DCGRBK7rS/jBgxYsSIwb+QJEmSJEmyvxA7sRM7sbO/QHsJ7SW0pz8QmnzZoMnHPwCVs1v41bg/YIT8NTtqoT8AAAAAAAAAAHAor6G8hrI/oKlcd7zYoj/gvrJ6lzy4vyAeHh4eHr4/QH8B/QX0xz9ww4/qErO2PxAlYBElYLE/ACd1Xx5bkb+AexphuaeBvwCBoq0Gz4G/gB/BfQT3gb/A2w8JvP3APwAAAAAAAMA/kOM4juM4rr8wUscDRMi0vyBzEHDrs7k/8A44UjTEvz/AY2pg75iKv3gN5TWU17C/QLTC5kCilT+AexphuaeRPwAndV8eW5G/YJso2bWJsr/oUJelGnS+v+AmzO9qcaO/gB/BfQT3oT+gui+PrQiqP7C11lprrbU/4Ns9+9iMrD+41JPx26W+vzzfT42XbsK/IJlA79S1vD9Qdr9Rdr/BPxDuvEgdD7A/AMdxHMdxnD8ATJHPusGEv4CNhu6D9Xu/IMwIkt6hmL8QmwOJVtisv6Bydgu/GqO/AAAAAAAAAAAAh7whb8ibvwA01/eXUXC/AKrx0k1ioD8ACPwBf8B/vwAAAAAAAJw/gAojRPYljz/QYQ5zmMO8v0x9POit+8O/eBSuR+F6tL8wvelNb3qjvwAndV8eW5E/IMdxHMdxvD8AAAAAAADAP4AUrkfheqQ/ABiBERiBcb8A9NJAfV6aP0AwXedYI4G/4CbM72pxo79gQ3kN5TW0PxAb6bCRDrs/AAAAAAAAAACAeHh4eHiov/Bb4bTDvqW/oJRSSimlpL8ArNAZrNCJv4BzQokGboG/gKKMgFOUkT9AzQoOX0iRPyBGnhtGnrs/\",\"dtype\":\"float64\",\"order\":\"little\",\"shape\":[90]}},\"selected\":{\"id\":\"19443\"},\"selection_policy\":{\"id\":\"19476\"}},\"id\":\"19442\",\"type\":\"ColumnDataSource\"},{\"attributes\":{\"data\":{\"Date\":[\"4/1/1998\",\"7/1/1998\",\"10/1/1998\",\"1/1/1999\",\"4/1/1999\",\"7/1/1999\",\"10/1/1999\",\"1/1/2000\",\"4/1/2000\",\"7/1/2000\",\"10/1/2000\",\"1/1/2001\",\"4/1/2001\",\"7/1/2001\",\"10/1/2001\",\"1/1/2002\",\"4/1/2002\",\"7/1/2002\",\"10/1/2002\",\"1/1/2003\",\"4/1/2003\",\"7/1/2003\",\"10/1/2003\",\"1/1/2004\",\"4/1/2004\",\"7/1/2004\",\"10/1/2004\",\"1/1/2005\",\"4/1/2005\",\"7/1/2005\",\"10/1/2005\",\"1/1/2006\",\"4/1/2006\",\"7/1/2006\",\"10/1/2006\",\"1/1/2007\",\"4/1/2007\",\"7/1/2007\",\"10/1/2007\",\"1/1/2008\",\"4/1/2008\",\"7/1/2008\",\"10/1/2008\",\"1/1/2009\",\"4/1/2009\",\"7/1/2009\",\"10/1/2009\",\"1/1/2010\",\"4/1/2010\",\"7/1/2010\",\"10/1/2010\",\"1/1/2011\",\"4/1/2011\",\"7/1/2011\",\"10/1/2011\",\"1/1/2012\",\"4/1/2012\",\"7/1/2012\",\"10/1/2012\",\"1/1/2013\",\"4/1/2013\",\"7/1/2013\",\"10/1/2013\",\"1/1/2014\",\"4/1/2014\",\"7/1/2014\",\"10/1/2014\",\"1/1/2015\",\"4/1/2015\",\"7/1/2015\",\"10/1/2015\",\"1/1/2016\",\"4/1/2016\",\"7/1/2016\",\"10/1/2016\",\"1/1/2017\",\"4/1/2017\",\"7/1/2017\",\"10/1/2017\",\"1/1/2018\",\"4/1/2018\",\"7/1/2018\",\"10/1/2018\",\"1/1/2019\",\"4/1/2019\",\"7/1/2019\",\"10/1/2019\",\"1/1/2020\",\"4/1/2020\",\"7/1/2020\"],\"Variable\":[\"Global Index (EUR)\",\"Global Index (EUR)\",\"Global Index (EUR)\",\"Global Index (EUR)\",\"Global Index (EUR)\",\"Global Index (EUR)\",\"Global Index (EUR)\",\"Global Index (EUR)\",\"Global Index (EUR)\",\"Global Index (EUR)\",\"Global Index (EUR)\",\"Global Index (EUR)\",\"Global Index (EUR)\",\"Global Index (EUR)\",\"Global Index (EUR)\",\"Global Index (EUR)\",\"Global Index (EUR)\",\"Global Index (EUR)\",\"Global Index (EUR)\",\"Global Index (EUR)\",\"Global Index (EUR)\",\"Global Index (EUR)\",\"Global Index (EUR)\",\"Global Index (EUR)\",\"Global Index (EUR)\",\"Global Index (EUR)\",\"Global Index (EUR)\",\"Global Index (EUR)\",\"Global Index (EUR)\",\"Global Index (EUR)\",\"Global Index (EUR)\",\"Global Index (EUR)\",\"Global Index (EUR)\",\"Global Index (EUR)\",\"Global Index (EUR)\",\"Global Index (EUR)\",\"Global Index (EUR)\",\"Global Index (EUR)\",\"Global Index (EUR)\",\"Global Index (EUR)\",\"Global Index (EUR)\",\"Global Index (EUR)\",\"Global Index (EUR)\",\"Global Index (EUR)\",\"Global Index (EUR)\",\"Global Index (EUR)\",\"Global Index (EUR)\",\"Global Index (EUR)\",\"Global Index (EUR)\",\"Global Index (EUR)\",\"Global Index (EUR)\",\"Global Index (EUR)\",\"Global Index (EUR)\",\"Global Index (EUR)\",\"Global Index (EUR)\",\"Global Index (EUR)\",\"Global Index (EUR)\",\"Global Index (EUR)\",\"Global Index (EUR)\",\"Global Index (EUR)\",\"Global Index (EUR)\",\"Global Index (EUR)\",\"Global Index (EUR)\",\"Global Index (EUR)\",\"Global Index (EUR)\",\"Global Index (EUR)\",\"Global Index (EUR)\",\"Global Index (EUR)\",\"Global Index (EUR)\",\"Global Index (EUR)\",\"Global Index (EUR)\",\"Global Index (EUR)\",\"Global Index (EUR)\",\"Global Index (EUR)\",\"Global Index (EUR)\",\"Global Index (EUR)\",\"Global Index (EUR)\",\"Global Index (EUR)\",\"Global Index (EUR)\",\"Global Index (EUR)\",\"Global Index (EUR)\",\"Global Index (EUR)\",\"Global Index (EUR)\",\"Global Index (EUR)\",\"Global Index (EUR)\",\"Global Index (EUR)\",\"Global Index (EUR)\",\"Global Index (EUR)\",\"Global Index (EUR)\",\"Global Index (EUR)\"],\"value\":{\"__ndarray__\":\"oJmZmZmZuT+gEuQpQZ6iv/BW9jmkJri/YFVVVVVVpT+AFK5H4XqkPxA7sRM7sbM/gCRJkiRJgj9Qemphpae2P9AUAk0h0LQ/AO0BswfMjj8gbMEWbMGmP4DAbo+1DJ2/EFR7Tqavsj9YhPw1O2qxv4CG+OPW5Y2/gOUByTpXjr/A7AGzB8yuP0BMriAmV7C/YJNNNtlko7+Qx+PxeDy+PwCbA4lW2Jw/APnx48ePr78g/rh1eQe8v6DikiFYR7s/YC+hvYT2oj8A1EEd1EGNPwAAAAAAAAAAAJsDiVbYjL/wFV/xFV/BP8B4K/scUpO/kAZpkAZpsL+wXr169erFP3AfwX0E96G/wBWKW6G4pT+orClryprCv8jEle4NKMM/IKXbV1bvwj8AAAAAAAAAABT44uoHHcW/GHi6NT8swj9AYgF3+iO2v0APBpxxLZI/BH1BX9AXxL8A+cMBjz+cP0R4UpD8ecW/mFJKKaWUwj+ARCtsDiTKv5zrGMW5jtE/AMdxHMdxjD/gwIEDBw6sP7B3TA3sHcO/kJJnGdEH1D8Qd8QdcUe8v6BJ9J5J9M4/uMSp33NLvL8AAAAAAAAAAAJnXIsENdW/XFjpqYWV3j/IUibBrsLHv2hpaWlpadE/YMA2p6s8s7/QzMzMzMy0P2DANqerPLO/gJmZmZmZeb/wVvY5pCa4v5DjOI7jOMY/wBYJaipEuz+AH6vZk3y/P1Qu5VIu5cK/0NDafbgFpL8Qd8QdcUe8vyAZGRkZGbk/eJ7neZ7nub8AAAAAAAAAAPgQegg9hL6/xFIRS0Us1T+I8SnTzsHKvyDUQR3UQb0/eGIndmInxr+wpqwpa8rKPzyxEzuxE8u/2JWoXYnaxT8AAAAAAADIv5iSKZmSKck/YPEVX/EVv78gHTbSYSO9P7Sg2nMyfcW/KK+hvIbyyj8YJX5GiZ/BvyAeHh4eHq4/\",\"dtype\":\"float64\",\"order\":\"little\",\"shape\":[90]}},\"selected\":{\"id\":\"19200\"},\"selection_policy\":{\"id\":\"19215\"}},\"id\":\"19199\",\"type\":\"ColumnDataSource\"},{\"attributes\":{\"line_color\":\"#3a0182\",\"line_width\":2,\"x\":{\"field\":\"Date\"},\"y\":{\"field\":\"value\"}},\"id\":\"19445\",\"type\":\"Line\"},{\"attributes\":{\"label\":{\"value\":\"USA (USD)\"},\"renderers\":[{\"id\":\"19485\"}]},\"id\":\"19517\",\"type\":\"LegendItem\"},{\"attributes\":{\"source\":{\"id\":\"19181\"}},\"id\":\"19188\",\"type\":\"CDSView\"},{\"attributes\":{},\"id\":\"19311\",\"type\":\"UnionRenderers\"},{\"attributes\":{\"data_source\":{\"id\":\"19181\"},\"glyph\":{\"id\":\"19184\"},\"hover_glyph\":null,\"muted_glyph\":{\"id\":\"19186\"},\"nonselection_glyph\":{\"id\":\"19185\"},\"selection_glyph\":null,\"view\":{\"id\":\"19188\"}},\"id\":\"19187\",\"type\":\"GlyphRenderer\"},{\"attributes\":{\"label\":{\"value\":\"Contemporary\"},\"renderers\":[{\"id\":\"19448\"}]},\"id\":\"19478\",\"type\":\"LegendItem\"},{\"attributes\":{\"line_alpha\":0.1,\"line_color\":\"#1f77b3\",\"line_width\":2,\"x\":{\"field\":\"Date\"},\"y\":{\"field\":\"value\"}},\"id\":\"19185\",\"type\":\"Line\"},{\"attributes\":{\"data_source\":{\"id\":\"19218\"},\"glyph\":{\"id\":\"19221\"},\"hover_glyph\":null,\"muted_glyph\":{\"id\":\"19223\"},\"nonselection_glyph\":{\"id\":\"19222\"},\"selection_glyph\":null,\"view\":{\"id\":\"19225\"}},\"id\":\"19224\",\"type\":\"GlyphRenderer\"},{\"attributes\":{},\"id\":\"19288\",\"type\":\"Selection\"},{\"attributes\":{\"line_alpha\":0.2,\"line_color\":\"#1f77b3\",\"line_width\":2,\"x\":{\"field\":\"Date\"},\"y\":{\"field\":\"value\"}},\"id\":\"19186\",\"type\":\"Line\"},{\"attributes\":{},\"id\":\"19195\",\"type\":\"UnionRenderers\"},{\"attributes\":{},\"id\":\"19443\",\"type\":\"Selection\"},{\"attributes\":{\"data\":{\"Date\":[\"4/1/1998\",\"7/1/1998\",\"10/1/1998\",\"1/1/1999\",\"4/1/1999\",\"7/1/1999\",\"10/1/1999\",\"1/1/2000\",\"4/1/2000\",\"7/1/2000\",\"10/1/2000\",\"1/1/2001\",\"4/1/2001\",\"7/1/2001\",\"10/1/2001\",\"1/1/2002\",\"4/1/2002\",\"7/1/2002\",\"10/1/2002\",\"1/1/2003\",\"4/1/2003\",\"7/1/2003\",\"10/1/2003\",\"1/1/2004\",\"4/1/2004\",\"7/1/2004\",\"10/1/2004\",\"1/1/2005\",\"4/1/2005\",\"7/1/2005\",\"10/1/2005\",\"1/1/2006\",\"4/1/2006\",\"7/1/2006\",\"10/1/2006\",\"1/1/2007\",\"4/1/2007\",\"7/1/2007\",\"10/1/2007\",\"1/1/2008\",\"4/1/2008\",\"7/1/2008\",\"10/1/2008\",\"1/1/2009\",\"4/1/2009\",\"7/1/2009\",\"10/1/2009\",\"1/1/2010\",\"4/1/2010\",\"7/1/2010\",\"10/1/2010\",\"1/1/2011\",\"4/1/2011\",\"7/1/2011\",\"10/1/2011\",\"1/1/2012\",\"4/1/2012\",\"7/1/2012\",\"10/1/2012\",\"1/1/2013\",\"4/1/2013\",\"7/1/2013\",\"10/1/2013\",\"1/1/2014\",\"4/1/2014\",\"7/1/2014\",\"10/1/2014\",\"1/1/2015\",\"4/1/2015\",\"7/1/2015\",\"10/1/2015\",\"1/1/2016\",\"4/1/2016\",\"7/1/2016\",\"10/1/2016\",\"1/1/2017\",\"4/1/2017\",\"7/1/2017\",\"10/1/2017\",\"1/1/2018\",\"4/1/2018\",\"7/1/2018\",\"10/1/2018\",\"1/1/2019\",\"4/1/2019\",\"7/1/2019\",\"10/1/2019\",\"1/1/2020\",\"4/1/2020\",\"7/1/2020\"],\"Variable\":[\"Post-War\",\"Post-War\",\"Post-War\",\"Post-War\",\"Post-War\",\"Post-War\",\"Post-War\",\"Post-War\",\"Post-War\",\"Post-War\",\"Post-War\",\"Post-War\",\"Post-War\",\"Post-War\",\"Post-War\",\"Post-War\",\"Post-War\",\"Post-War\",\"Post-War\",\"Post-War\",\"Post-War\",\"Post-War\",\"Post-War\",\"Post-War\",\"Post-War\",\"Post-War\",\"Post-War\",\"Post-War\",\"Post-War\",\"Post-War\",\"Post-War\",\"Post-War\",\"Post-War\",\"Post-War\",\"Post-War\",\"Post-War\",\"Post-War\",\"Post-War\",\"Post-War\",\"Post-War\",\"Post-War\",\"Post-War\",\"Post-War\",\"Post-War\",\"Post-War\",\"Post-War\",\"Post-War\",\"Post-War\",\"Post-War\",\"Post-War\",\"Post-War\",\"Post-War\",\"Post-War\",\"Post-War\",\"Post-War\",\"Post-War\",\"Post-War\",\"Post-War\",\"Post-War\",\"Post-War\",\"Post-War\",\"Post-War\",\"Post-War\",\"Post-War\",\"Post-War\",\"Post-War\",\"Post-War\",\"Post-War\",\"Post-War\",\"Post-War\",\"Post-War\",\"Post-War\",\"Post-War\",\"Post-War\",\"Post-War\",\"Post-War\",\"Post-War\",\"Post-War\",\"Post-War\",\"Post-War\",\"Post-War\",\"Post-War\",\"Post-War\",\"Post-War\",\"Post-War\",\"Post-War\",\"Post-War\",\"Post-War\",\"Post-War\",\"Post-War\"],\"value\":{\"__ndarray__\":\"6FG4HoXrwT+AH8F9BPeRv7ht27Zt27a/IB4eHh4erj94Ce0ltJfAP0DavE9xybA/IDuxEzuxoz9gL6G9hPaiPwDUQR3UQX0/AAAAAAAAAAAAwG6PtQx9PwAAAAAAAAAAAJsDiVbYnD8AAAAAAAAAAJAYMWLEiKG/AAAAAAAAAABQOKV58SeyP8CAbEA2IJs/ABrQpgFtej/wLd/yLd/CP8A3Q2v34bY/EBERERERsb8QO7ETO7Gjv1D0d7Ja3rg/UFVVVVVVuT8AC83tVB6NP8AQK0rjI5M/oCyBTfvJsj8gpEEapEGqP4AQaAqBpoA/oJRSSimlpD8ACPwBf8BvPwD6AaocoX8/0KR4gUyKtz+wdeEJuVq3P2AjU7227rI/wNwQA9KxtD+g6Ph5NEa1PwCjgXYdVZI/YEkBCT+5oD+A4SLYvySvPzBSMbc6I6W/cJWm+CURwr+MZBXOydPBv/Ca0Vf+OaK/QGCopmMukb8w6uTyIvikv/C4feZ7OLI/cMQdcUfcsT/QvohqnX2xv8AehetRuJ6/kMg0bDfLwz9w27Zt27a9P4AUrkfheqS/oPRJn/RJr78gDwaccS2SvwAAAAAAAAAAwPaQy4qBkr+AqVx3vNiCPwCFrRnnH68/gHcBFkpXjb/IHXFH3BG3v+gx25SaW7C/YPZuLdy0rT+IEEIIIYTAP6A05NxnF6A/wOBLTZtdnL8AdgHCylZnP4AXXXTRRYc/gIELXOACd7+AlhifMu2MvwDGmhEIeYe/oMFzBIq2mr/wPM/zPM+jv6DmX21SiJy/oAFLevnTpr+AFK5H4Xqkv4BVVVVVVYU/IA5Ql5xaoz+A0EPoIfSQPwAAAAAAAAAAAPGl41UDpL/gLiYMvtOkvwCQM8XStYU/QAWzpBwQmT9Qgfyzyjijv3DAbo+1DK2/AO0BswfMjj/AqOFvU4yaPwAAAAAAAAAA\",\"dtype\":\"float64\",\"order\":\"little\",\"shape\":[90]}},\"selected\":{\"id\":\"19408\"},\"selection_policy\":{\"id\":\"19439\"}},\"id\":\"19407\",\"type\":\"ColumnDataSource\"},{\"attributes\":{},\"id\":\"19219\",\"type\":\"Selection\"},{\"attributes\":{\"line_alpha\":0.2,\"line_color\":\"#0fffa8\",\"line_width\":2,\"x\":{\"field\":\"Date\"},\"y\":{\"field\":\"value\"}},\"id\":\"19523\",\"type\":\"Line\"},{\"attributes\":{\"data\":{\"Date\":[\"4/1/1998\",\"7/1/1998\",\"10/1/1998\",\"1/1/1999\",\"4/1/1999\",\"7/1/1999\",\"10/1/1999\",\"1/1/2000\",\"4/1/2000\",\"7/1/2000\",\"10/1/2000\",\"1/1/2001\",\"4/1/2001\",\"7/1/2001\",\"10/1/2001\",\"1/1/2002\",\"4/1/2002\",\"7/1/2002\",\"10/1/2002\",\"1/1/2003\",\"4/1/2003\",\"7/1/2003\",\"10/1/2003\",\"1/1/2004\",\"4/1/2004\",\"7/1/2004\",\"10/1/2004\",\"1/1/2005\",\"4/1/2005\",\"7/1/2005\",\"10/1/2005\",\"1/1/2006\",\"4/1/2006\",\"7/1/2006\",\"10/1/2006\",\"1/1/2007\",\"4/1/2007\",\"7/1/2007\",\"10/1/2007\",\"1/1/2008\",\"4/1/2008\",\"7/1/2008\",\"10/1/2008\",\"1/1/2009\",\"4/1/2009\",\"7/1/2009\",\"10/1/2009\",\"1/1/2010\",\"4/1/2010\",\"7/1/2010\",\"10/1/2010\",\"1/1/2011\",\"4/1/2011\",\"7/1/2011\",\"10/1/2011\",\"1/1/2012\",\"4/1/2012\",\"7/1/2012\",\"10/1/2012\",\"1/1/2013\",\"4/1/2013\",\"7/1/2013\",\"10/1/2013\",\"1/1/2014\",\"4/1/2014\",\"7/1/2014\",\"10/1/2014\",\"1/1/2015\",\"4/1/2015\",\"7/1/2015\",\"10/1/2015\",\"1/1/2016\",\"4/1/2016\",\"7/1/2016\",\"10/1/2016\",\"1/1/2017\",\"4/1/2017\",\"7/1/2017\",\"10/1/2017\",\"1/1/2018\",\"4/1/2018\",\"7/1/2018\",\"10/1/2018\",\"1/1/2019\",\"4/1/2019\",\"7/1/2019\",\"10/1/2019\",\"1/1/2020\",\"4/1/2020\",\"7/1/2020\"],\"Variable\":[\"UK (GBP)\",\"UK (GBP)\",\"UK (GBP)\",\"UK (GBP)\",\"UK (GBP)\",\"UK (GBP)\",\"UK (GBP)\",\"UK (GBP)\",\"UK (GBP)\",\"UK (GBP)\",\"UK (GBP)\",\"UK (GBP)\",\"UK (GBP)\",\"UK (GBP)\",\"UK (GBP)\",\"UK (GBP)\",\"UK (GBP)\",\"UK (GBP)\",\"UK (GBP)\",\"UK (GBP)\",\"UK (GBP)\",\"UK (GBP)\",\"UK (GBP)\",\"UK (GBP)\",\"UK (GBP)\",\"UK (GBP)\",\"UK (GBP)\",\"UK (GBP)\",\"UK (GBP)\",\"UK (GBP)\",\"UK (GBP)\",\"UK (GBP)\",\"UK (GBP)\",\"UK (GBP)\",\"UK (GBP)\",\"UK (GBP)\",\"UK (GBP)\",\"UK (GBP)\",\"UK (GBP)\",\"UK (GBP)\",\"UK (GBP)\",\"UK (GBP)\",\"UK (GBP)\",\"UK (GBP)\",\"UK (GBP)\",\"UK (GBP)\",\"UK (GBP)\",\"UK (GBP)\",\"UK (GBP)\",\"UK (GBP)\",\"UK (GBP)\",\"UK (GBP)\",\"UK (GBP)\",\"UK (GBP)\",\"UK (GBP)\",\"UK (GBP)\",\"UK (GBP)\",\"UK (GBP)\",\"UK (GBP)\",\"UK (GBP)\",\"UK (GBP)\",\"UK (GBP)\",\"UK (GBP)\",\"UK (GBP)\",\"UK (GBP)\",\"UK (GBP)\",\"UK (GBP)\",\"UK (GBP)\",\"UK (GBP)\",\"UK (GBP)\",\"UK (GBP)\",\"UK (GBP)\",\"UK (GBP)\",\"UK (GBP)\",\"UK (GBP)\",\"UK (GBP)\",\"UK (GBP)\",\"UK (GBP)\",\"UK (GBP)\",\"UK (GBP)\",\"UK (GBP)\",\"UK (GBP)\",\"UK (GBP)\",\"UK (GBP)\",\"UK (GBP)\",\"UK (GBP)\",\"UK (GBP)\",\"UK (GBP)\",\"UK (GBP)\",\"UK (GBP)\"],\"value\":{\"__ndarray__\":\"gBSuR+F6lL/gh8b60FifvwBZgTDSjpU/AHRU4Iurnz+AFK5H4XqEPwBHFJh0ap4/4Imd2ImdqD+gLIFN+8miP4D7IYG3H6I/ABiBERiBkT8ArNAZrNCZP0DavE9xyZA/wBhjjDHGmL/g6tkhcGOZvwAndV8eW4E/AMg1Ecg1kT+AnOZr9eyQvwAAAAAAAAAAEIFcE4Fcsz8AAAAAAACwP6CWlpaWlpa/kHFBxgUZp78ABoPBYDCYPwD4gR/4gZ8/gLfwqzGRjj8AHh4eHh5+P+Bk+iphbKY/oOFeBbOkrD8AAAAAAAAAAACBbEA2IHu/QBvotIFOqz9gICod2TOgP6CpXHe82JK/YGZmZmZmpr8QZrsQZruwPzDi0En7ILk/AAAAAAAAAADAN0Nr9+Gmv2BPYT2F9aQ/gIELXOACpz+AEEIIIYSQv2BHm/cpLqm/AM7Wod9snb8AAAAAAAAAAKBuX1m9S56/ABmcj8H5mL/QzMzMzMy0P5CxqIbZwbE/8DUhKHtfo7+AgQtc4AKHv2B00UUXXbQ/YEN5DeU1tD9AEL8D8TuwP4AsgU37yXK/AGl/tD/av7+wAmGkHSvAvwD0aw+5rHg/QDqWMgl2pT+QexphuaexP4AQQgghhLA/gL9SoNavhD+AFK5H4XqUvzCn4OUUvKy/QGIBd/ojlr/wlf6c7fiwP+ATMZtLh7o/wLxXW+Q6kz/AYF4wL5i3vzAsRkJp472/AM7Wod9srb8AGZyPwfmIP4Dzaw+5rIg/AIZhGIZheL9gnNZsn6iuP+ACXm+jP7Q/QGtQPO1xlb/gFdC4W+elvwAAAAAAAAAAwDdDa/fhhr8QJ3VfHluhv3AfwX0E96G/wBgwjQHTiL8AAAAAAAAAAADi0En7IHm/YC+hvYT2kr8AoeRO0cKJvwAAAAAAAAAAAEt6+dMWir+AEEIIIYSgPwAAAAAAALi/\",\"dtype\":\"float64\",\"order\":\"little\",\"shape\":[90]}},\"selected\":{\"id\":\"19519\"},\"selection_policy\":{\"id\":\"19556\"}},\"id\":\"19518\",\"type\":\"ColumnDataSource\"},{\"attributes\":{\"line_alpha\":0.1,\"line_color\":\"#ff7e0e\",\"line_width\":2,\"x\":{\"field\":\"Date\"},\"y\":{\"field\":\"value\"}},\"id\":\"19203\",\"type\":\"Line\"},{\"attributes\":{\"line_color\":\"#7e7e7e\",\"line_width\":2,\"x\":{\"field\":\"Date\"},\"y\":{\"field\":\"value\"}},\"id\":\"19346\",\"type\":\"Line\"},{\"attributes\":{},\"id\":\"19161\",\"type\":\"BasicTicker\"},{\"attributes\":{},\"id\":\"19158\",\"type\":\"CategoricalTicker\"},{\"attributes\":{\"label\":{\"value\":\"Global Index (USD)\"},\"renderers\":[{\"id\":\"19187\"}]},\"id\":\"19198\",\"type\":\"LegendItem\"},{\"attributes\":{},\"id\":\"19155\",\"type\":\"LinearScale\"},{\"attributes\":{\"line_color\":\"#ff7e0e\",\"line_width\":2,\"x\":{\"field\":\"Date\"},\"y\":{\"field\":\"value\"}},\"id\":\"19202\",\"type\":\"Line\"},{\"attributes\":{\"line_color\":\"#16bdcf\",\"line_width\":2,\"x\":{\"field\":\"Date\"},\"y\":{\"field\":\"value\"}},\"id\":\"19410\",\"type\":\"Line\"},{\"attributes\":{\"data_source\":{\"id\":\"19442\"},\"glyph\":{\"id\":\"19445\"},\"hover_glyph\":null,\"muted_glyph\":{\"id\":\"19447\"},\"nonselection_glyph\":{\"id\":\"19446\"},\"selection_glyph\":null,\"view\":{\"id\":\"19449\"}},\"id\":\"19448\",\"type\":\"GlyphRenderer\"},{\"attributes\":{\"label\":{\"value\":\"Post-War\"},\"renderers\":[{\"id\":\"19413\"}]},\"id\":\"19441\",\"type\":\"LegendItem\"},{\"attributes\":{},\"id\":\"19153\",\"type\":\"CategoricalScale\"},{\"attributes\":{\"line_alpha\":0.1,\"line_color\":\"#3a0182\",\"line_width\":2,\"x\":{\"field\":\"Date\"},\"y\":{\"field\":\"value\"}},\"id\":\"19446\",\"type\":\"Line\"},{\"attributes\":{\"line_alpha\":0.1,\"line_color\":\"#0fffa8\",\"line_width\":2,\"x\":{\"field\":\"Date\"},\"y\":{\"field\":\"value\"}},\"id\":\"19522\",\"type\":\"Line\"},{\"attributes\":{},\"id\":\"19515\",\"type\":\"UnionRenderers\"},{\"attributes\":{\"line_alpha\":0.1,\"line_color\":\"#7e7e7e\",\"line_width\":2,\"x\":{\"field\":\"Date\"},\"y\":{\"field\":\"value\"}},\"id\":\"19347\",\"type\":\"Line\"},{\"attributes\":{\"axis_label\":\"Date\",\"bounds\":\"auto\",\"formatter\":{\"id\":\"19177\"},\"major_label_orientation\":1.5707963267948966,\"ticker\":{\"id\":\"19158\"}},\"id\":\"19157\",\"type\":\"CategoricalAxis\"},{\"attributes\":{\"line_alpha\":0.2,\"line_color\":\"#3a0182\",\"line_width\":2,\"x\":{\"field\":\"Date\"},\"y\":{\"field\":\"value\"}},\"id\":\"19447\",\"type\":\"Line\"},{\"attributes\":{},\"id\":\"19168\",\"type\":\"ResetTool\"},{\"attributes\":{\"label\":{\"value\":\"19th Century\"},\"renderers\":[{\"id\":\"19349\"}]},\"id\":\"19373\",\"type\":\"LegendItem\"},{\"attributes\":{\"label\":{\"value\":\"France (EUR)\"},\"renderers\":[{\"id\":\"19565\"}]},\"id\":\"19601\",\"type\":\"LegendItem\"},{\"attributes\":{\"data_source\":{\"id\":\"19343\"},\"glyph\":{\"id\":\"19346\"},\"hover_glyph\":null,\"muted_glyph\":{\"id\":\"19348\"},\"nonselection_glyph\":{\"id\":\"19347\"},\"selection_glyph\":null,\"view\":{\"id\":\"19350\"}},\"id\":\"19349\",\"type\":\"GlyphRenderer\"},{\"attributes\":{\"data\":{\"Date\":[\"4/1/1998\",\"7/1/1998\",\"10/1/1998\",\"1/1/1999\",\"4/1/1999\",\"7/1/1999\",\"10/1/1999\",\"1/1/2000\",\"4/1/2000\",\"7/1/2000\",\"10/1/2000\",\"1/1/2001\",\"4/1/2001\",\"7/1/2001\",\"10/1/2001\",\"1/1/2002\",\"4/1/2002\",\"7/1/2002\",\"10/1/2002\",\"1/1/2003\",\"4/1/2003\",\"7/1/2003\",\"10/1/2003\",\"1/1/2004\",\"4/1/2004\",\"7/1/2004\",\"10/1/2004\",\"1/1/2005\",\"4/1/2005\",\"7/1/2005\",\"10/1/2005\",\"1/1/2006\",\"4/1/2006\",\"7/1/2006\",\"10/1/2006\",\"1/1/2007\",\"4/1/2007\",\"7/1/2007\",\"10/1/2007\",\"1/1/2008\",\"4/1/2008\",\"7/1/2008\",\"10/1/2008\",\"1/1/2009\",\"4/1/2009\",\"7/1/2009\",\"10/1/2009\",\"1/1/2010\",\"4/1/2010\",\"7/1/2010\",\"10/1/2010\",\"1/1/2011\",\"4/1/2011\",\"7/1/2011\",\"10/1/2011\",\"1/1/2012\",\"4/1/2012\",\"7/1/2012\",\"10/1/2012\",\"1/1/2013\",\"4/1/2013\",\"7/1/2013\",\"10/1/2013\",\"1/1/2014\",\"4/1/2014\",\"7/1/2014\",\"10/1/2014\",\"1/1/2015\",\"4/1/2015\",\"7/1/2015\",\"10/1/2015\",\"1/1/2016\",\"4/1/2016\",\"7/1/2016\",\"10/1/2016\",\"1/1/2017\",\"4/1/2017\",\"7/1/2017\",\"10/1/2017\",\"1/1/2018\",\"4/1/2018\",\"7/1/2018\",\"10/1/2018\",\"1/1/2019\",\"4/1/2019\",\"7/1/2019\",\"10/1/2019\",\"1/1/2020\",\"4/1/2020\",\"7/1/2020\"],\"Variable\":[\"Modern Art\",\"Modern Art\",\"Modern Art\",\"Modern Art\",\"Modern Art\",\"Modern Art\",\"Modern Art\",\"Modern Art\",\"Modern Art\",\"Modern Art\",\"Modern Art\",\"Modern Art\",\"Modern Art\",\"Modern Art\",\"Modern Art\",\"Modern Art\",\"Modern Art\",\"Modern Art\",\"Modern Art\",\"Modern Art\",\"Modern Art\",\"Modern Art\",\"Modern Art\",\"Modern Art\",\"Modern Art\",\"Modern Art\",\"Modern Art\",\"Modern Art\",\"Modern Art\",\"Modern Art\",\"Modern Art\",\"Modern Art\",\"Modern Art\",\"Modern Art\",\"Modern Art\",\"Modern Art\",\"Modern Art\",\"Modern Art\",\"Modern Art\",\"Modern Art\",\"Modern Art\",\"Modern Art\",\"Modern Art\",\"Modern Art\",\"Modern Art\",\"Modern Art\",\"Modern Art\",\"Modern Art\",\"Modern Art\",\"Modern Art\",\"Modern Art\",\"Modern Art\",\"Modern Art\",\"Modern Art\",\"Modern Art\",\"Modern Art\",\"Modern Art\",\"Modern Art\",\"Modern Art\",\"Modern Art\",\"Modern Art\",\"Modern Art\",\"Modern Art\",\"Modern Art\",\"Modern Art\",\"Modern Art\",\"Modern Art\",\"Modern Art\",\"Modern Art\",\"Modern Art\",\"Modern Art\",\"Modern Art\",\"Modern Art\",\"Modern Art\",\"Modern Art\",\"Modern Art\",\"Modern Art\",\"Modern Art\",\"Modern Art\",\"Modern Art\",\"Modern Art\",\"Modern Art\",\"Modern Art\",\"Modern Art\",\"Modern Art\",\"Modern Art\",\"Modern Art\",\"Modern Art\",\"Modern Art\",\"Modern Art\"],\"value\":{\"__ndarray__\":\"gBSuR+F6lL9ABS+n4OWEvyB0VOCLq5+/UK4gJlcQs7+YexphuaexvwAAAAAAAAAAcC+hvYT2sj+YexphuafBPzBvZ0jM27k/oCyBTfvJoj+A+yGBtx+CP1BnMZ3FdKa/4MJB9PgunL/AeCv7HFKDvwA4gRM4gYM/AAAAAAAAAADwVvY5pCaovwDaYmX4RqS/IHRU4Iurrz8AqeS8LOLDPyBl9xtl97s/QBdddNFFp7+QJEmSJEmyvyAYgREYgaE/IHBjGZQKsz8A+IEf+IF/vwAGfUFf0Je/0DRN0zRNwz8ouzZRsmvDP4Cwq/Dlhni/oPBGU+fXnr+ATw6XAZ+sP5CQkJCQkLA/ME+oBYxJrL9oN5HdRHazv5A9A1HpyL4/8MtjK4KGwz8AFBQUFBR0PwAUsD8B+3O/oJGRkZGRoT8AB97zjWlzP6gJxlvZ57C/YClQ61cKxL+wq/DlhhjAv+DAgQMHDpy/AJsDiVbYjL8A1EEd1EF9v7AmIYq/yLk/EGa7EGa7sD/AGkUcOmmfvwAnzO9qcZM/UIoJuqsUsz8gGYtqmB28P6iqqqqqqsQ/oIBwIl4SoD84velNb3rDvxh6oRd6oce/4AwIJXeKtr8AAAAAAAAAANB5iyGdt7g/IDXBeCv7vD/A3kZ/KCSnP8C6wRT5rJu/EBERERERob+QexphuaexP8AYY4wxxrg/oJGRkZGRoT/gCs3tVB6dv7gcjcvRuLy/1C/90i/9wr8oEq8i8Sqyv4Acx3Ecx6E/gDPaPWx9e794gynyWTe4vwAAAAAAAAAAkIn0QOXstj8AwYEDBw58P2CE/DU7aqG/QLTC5kCilT8AAAAAAAAAAIA44PGHA76/AAAAAAAAvL8AAAAAAAAAAIAfwX0E96E/AAAAAAAAAABQBA0ndV+uvwBxoeYkEKe/sAnGW9nnsD+A+yGBtx+SP8DBcwSKtpo/\",\"dtype\":\"float64\",\"order\":\"little\",\"shape\":[90]}},\"selected\":{\"id\":\"19375\"},\"selection_policy\":{\"id\":\"19404\"}},\"id\":\"19374\",\"type\":\"ColumnDataSource\"},{\"attributes\":{\"source\":{\"id\":\"19479\"}},\"id\":\"19486\",\"type\":\"CDSView\"},{\"attributes\":{\"factors\":[\"4/1/1998\",\"7/1/1998\",\"10/1/1998\",\"1/1/1999\",\"4/1/1999\",\"7/1/1999\",\"10/1/1999\",\"1/1/2000\",\"4/1/2000\",\"7/1/2000\",\"10/1/2000\",\"1/1/2001\",\"4/1/2001\",\"7/1/2001\",\"10/1/2001\",\"1/1/2002\",\"4/1/2002\",\"7/1/2002\",\"10/1/2002\",\"1/1/2003\",\"4/1/2003\",\"7/1/2003\",\"10/1/2003\",\"1/1/2004\",\"4/1/2004\",\"7/1/2004\",\"10/1/2004\",\"1/1/2005\",\"4/1/2005\",\"7/1/2005\",\"10/1/2005\",\"1/1/2006\",\"4/1/2006\",\"7/1/2006\",\"10/1/2006\",\"1/1/2007\",\"4/1/2007\",\"7/1/2007\",\"10/1/2007\",\"1/1/2008\",\"4/1/2008\",\"7/1/2008\",\"10/1/2008\",\"1/1/2009\",\"4/1/2009\",\"7/1/2009\",\"10/1/2009\",\"1/1/2010\",\"4/1/2010\",\"7/1/2010\",\"10/1/2010\",\"1/1/2011\",\"4/1/2011\",\"7/1/2011\",\"10/1/2011\",\"1/1/2012\",\"4/1/2012\",\"7/1/2012\",\"10/1/2012\",\"1/1/2013\",\"4/1/2013\",\"7/1/2013\",\"10/1/2013\",\"1/1/2014\",\"4/1/2014\",\"7/1/2014\",\"10/1/2014\",\"1/1/2015\",\"4/1/2015\",\"7/1/2015\",\"10/1/2015\",\"1/1/2016\",\"4/1/2016\",\"7/1/2016\",\"10/1/2016\",\"1/1/2017\",\"4/1/2017\",\"7/1/2017\",\"10/1/2017\",\"1/1/2018\",\"4/1/2018\",\"7/1/2018\",\"10/1/2018\",\"1/1/2019\",\"4/1/2019\",\"7/1/2019\",\"10/1/2019\",\"1/1/2020\",\"4/1/2020\",\"7/1/2020\"],\"tags\":[[[\"Date\",\"Date\",null]]]},\"id\":\"19132\",\"type\":\"FactorRange\"},{\"attributes\":{},\"id\":\"19165\",\"type\":\"PanTool\"},{\"attributes\":{\"line_alpha\":0.1,\"line_color\":\"#004201\",\"line_width\":2,\"x\":{\"field\":\"Date\"},\"y\":{\"field\":\"value\"}},\"id\":\"19483\",\"type\":\"Line\"},{\"attributes\":{},\"id\":\"19375\",\"type\":\"Selection\"},{\"attributes\":{\"data_source\":{\"id\":\"19479\"},\"glyph\":{\"id\":\"19482\"},\"hover_glyph\":null,\"muted_glyph\":{\"id\":\"19484\"},\"nonselection_glyph\":{\"id\":\"19483\"},\"selection_glyph\":null,\"view\":{\"id\":\"19486\"}},\"id\":\"19485\",\"type\":\"GlyphRenderer\"},{\"attributes\":{\"overlay\":{\"id\":\"19169\"}},\"id\":\"19167\",\"type\":\"BoxZoomTool\"},{\"attributes\":{\"line_alpha\":0.2,\"line_color\":\"#7e7e7e\",\"line_width\":2,\"x\":{\"field\":\"Date\"},\"y\":{\"field\":\"value\"}},\"id\":\"19348\",\"type\":\"Line\"},{\"attributes\":{\"line_color\":\"#bcbc21\",\"line_width\":2,\"x\":{\"field\":\"Date\"},\"y\":{\"field\":\"value\"}},\"id\":\"19377\",\"type\":\"Line\"},{\"attributes\":{\"line_alpha\":0.1,\"line_color\":\"#16bdcf\",\"line_width\":2,\"x\":{\"field\":\"Date\"},\"y\":{\"field\":\"value\"}},\"id\":\"19411\",\"type\":\"Line\"},{\"attributes\":{\"active_drag\":\"auto\",\"active_inspect\":\"auto\",\"active_multi\":null,\"active_scroll\":\"auto\",\"active_tap\":\"auto\",\"tools\":[{\"id\":\"19134\"},{\"id\":\"19164\"},{\"id\":\"19165\"},{\"id\":\"19166\"},{\"id\":\"19167\"},{\"id\":\"19168\"}]},\"id\":\"19170\",\"type\":\"Toolbar\"},{\"attributes\":{},\"id\":\"19177\",\"type\":\"CategoricalTickFormatter\"},{\"attributes\":{\"line_alpha\":0.2,\"line_color\":\"#004201\",\"line_width\":2,\"x\":{\"field\":\"Date\"},\"y\":{\"field\":\"value\"}},\"id\":\"19484\",\"type\":\"Line\"},{\"attributes\":{\"data_source\":{\"id\":\"19407\"},\"glyph\":{\"id\":\"19410\"},\"hover_glyph\":null,\"muted_glyph\":{\"id\":\"19412\"},\"nonselection_glyph\":{\"id\":\"19411\"},\"selection_glyph\":null,\"view\":{\"id\":\"19414\"}},\"id\":\"19413\",\"type\":\"GlyphRenderer\"},{\"attributes\":{},\"id\":\"19200\",\"type\":\"Selection\"},{\"attributes\":{\"line_alpha\":0.1,\"line_color\":\"#2ba02b\",\"line_width\":2,\"x\":{\"field\":\"Date\"},\"y\":{\"field\":\"value\"}},\"id\":\"19222\",\"type\":\"Line\"},{\"attributes\":{},\"id\":\"19344\",\"type\":\"Selection\"},{\"attributes\":{\"source\":{\"id\":\"19374\"}},\"id\":\"19381\",\"type\":\"CDSView\"},{\"attributes\":{\"data_source\":{\"id\":\"19374\"},\"glyph\":{\"id\":\"19377\"},\"hover_glyph\":null,\"muted_glyph\":{\"id\":\"19379\"},\"nonselection_glyph\":{\"id\":\"19378\"},\"selection_glyph\":null,\"view\":{\"id\":\"19381\"}},\"id\":\"19380\",\"type\":\"GlyphRenderer\"},{\"attributes\":{\"axis\":{\"id\":\"19160\"},\"dimension\":1,\"grid_line_color\":null,\"ticker\":null},\"id\":\"19163\",\"type\":\"Grid\"},{\"attributes\":{},\"id\":\"19556\",\"type\":\"UnionRenderers\"},{\"attributes\":{\"source\":{\"id\":\"19343\"}},\"id\":\"19350\",\"type\":\"CDSView\"},{\"attributes\":{\"line_alpha\":0.1,\"line_color\":\"#bcbc21\",\"line_width\":2,\"x\":{\"field\":\"Date\"},\"y\":{\"field\":\"value\"}},\"id\":\"19378\",\"type\":\"Line\"},{\"attributes\":{\"line_alpha\":0.2,\"line_color\":\"#bcbc21\",\"line_width\":2,\"x\":{\"field\":\"Date\"},\"y\":{\"field\":\"value\"}},\"id\":\"19379\",\"type\":\"Line\"},{\"attributes\":{},\"id\":\"19371\",\"type\":\"UnionRenderers\"},{\"attributes\":{\"line_color\":\"#2ba02b\",\"line_width\":2,\"x\":{\"field\":\"Date\"},\"y\":{\"field\":\"value\"}},\"id\":\"19221\",\"type\":\"Line\"},{\"attributes\":{\"source\":{\"id\":\"19407\"}},\"id\":\"19414\",\"type\":\"CDSView\"},{\"attributes\":{\"label\":{\"value\":\"UK (GBP)\"},\"renderers\":[{\"id\":\"19524\"}]},\"id\":\"19558\",\"type\":\"LegendItem\"},{\"attributes\":{},\"id\":\"19404\",\"type\":\"UnionRenderers\"},{\"attributes\":{\"callback\":null,\"renderers\":[{\"id\":\"19187\"},{\"id\":\"19205\"},{\"id\":\"19224\"},{\"id\":\"19245\"},{\"id\":\"19268\"},{\"id\":\"19293\"},{\"id\":\"19320\"},{\"id\":\"19349\"},{\"id\":\"19380\"},{\"id\":\"19413\"},{\"id\":\"19448\"},{\"id\":\"19485\"},{\"id\":\"19524\"},{\"id\":\"19565\"}],\"tags\":[\"hv_created\"],\"tooltips\":[[\"Variable\",\"@{Variable}\"],[\"Date\",\"@{Date}\"],[\"value\",\"@{value}\"]]},\"id\":\"19134\",\"type\":\"HoverTool\"},{\"attributes\":{\"line_alpha\":0.2,\"line_color\":\"#16bdcf\",\"line_width\":2,\"x\":{\"field\":\"Date\"},\"y\":{\"field\":\"value\"}},\"id\":\"19412\",\"type\":\"Line\"},{\"attributes\":{\"data\":{\"Date\":[\"4/1/1998\",\"7/1/1998\",\"10/1/1998\",\"1/1/1999\",\"4/1/1999\",\"7/1/1999\",\"10/1/1999\",\"1/1/2000\",\"4/1/2000\",\"7/1/2000\",\"10/1/2000\",\"1/1/2001\",\"4/1/2001\",\"7/1/2001\",\"10/1/2001\",\"1/1/2002\",\"4/1/2002\",\"7/1/2002\",\"10/1/2002\",\"1/1/2003\",\"4/1/2003\",\"7/1/2003\",\"10/1/2003\",\"1/1/2004\",\"4/1/2004\",\"7/1/2004\",\"10/1/2004\",\"1/1/2005\",\"4/1/2005\",\"7/1/2005\",\"10/1/2005\",\"1/1/2006\",\"4/1/2006\",\"7/1/2006\",\"10/1/2006\",\"1/1/2007\",\"4/1/2007\",\"7/1/2007\",\"10/1/2007\",\"1/1/2008\",\"4/1/2008\",\"7/1/2008\",\"10/1/2008\",\"1/1/2009\",\"4/1/2009\",\"7/1/2009\",\"10/1/2009\",\"1/1/2010\",\"4/1/2010\",\"7/1/2010\",\"10/1/2010\",\"1/1/2011\",\"4/1/2011\",\"7/1/2011\",\"10/1/2011\",\"1/1/2012\",\"4/1/2012\",\"7/1/2012\",\"10/1/2012\",\"1/1/2013\",\"4/1/2013\",\"7/1/2013\",\"10/1/2013\",\"1/1/2014\",\"4/1/2014\",\"7/1/2014\",\"10/1/2014\",\"1/1/2015\",\"4/1/2015\",\"7/1/2015\",\"10/1/2015\",\"1/1/2016\",\"4/1/2016\",\"7/1/2016\",\"10/1/2016\",\"1/1/2017\",\"4/1/2017\",\"7/1/2017\",\"10/1/2017\",\"1/1/2018\",\"4/1/2018\",\"7/1/2018\",\"10/1/2018\",\"1/1/2019\",\"4/1/2019\",\"7/1/2019\",\"10/1/2019\",\"1/1/2020\",\"4/1/2020\",\"7/1/2020\"],\"Variable\":[\"USA (USD)\",\"USA (USD)\",\"USA (USD)\",\"USA (USD)\",\"USA (USD)\",\"USA (USD)\",\"USA (USD)\",\"USA (USD)\",\"USA (USD)\",\"USA (USD)\",\"USA (USD)\",\"USA (USD)\",\"USA (USD)\",\"USA (USD)\",\"USA (USD)\",\"USA (USD)\",\"USA (USD)\",\"USA (USD)\",\"USA (USD)\",\"USA (USD)\",\"USA (USD)\",\"USA (USD)\",\"USA (USD)\",\"USA (USD)\",\"USA (USD)\",\"USA (USD)\",\"USA (USD)\",\"USA (USD)\",\"USA (USD)\",\"USA (USD)\",\"USA (USD)\",\"USA (USD)\",\"USA (USD)\",\"USA (USD)\",\"USA (USD)\",\"USA (USD)\",\"USA (USD)\",\"USA (USD)\",\"USA (USD)\",\"USA (USD)\",\"USA (USD)\",\"USA (USD)\",\"USA (USD)\",\"USA (USD)\",\"USA (USD)\",\"USA (USD)\",\"USA (USD)\",\"USA (USD)\",\"USA (USD)\",\"USA (USD)\",\"USA (USD)\",\"USA (USD)\",\"USA (USD)\",\"USA (USD)\",\"USA (USD)\",\"USA (USD)\",\"USA (USD)\",\"USA (USD)\",\"USA (USD)\",\"USA (USD)\",\"USA (USD)\",\"USA (USD)\",\"USA (USD)\",\"USA (USD)\",\"USA (USD)\",\"USA (USD)\",\"USA (USD)\",\"USA (USD)\",\"USA (USD)\",\"USA (USD)\",\"USA (USD)\",\"USA (USD)\",\"USA (USD)\",\"USA (USD)\",\"USA (USD)\",\"USA (USD)\",\"USA (USD)\",\"USA (USD)\",\"USA (USD)\",\"USA (USD)\",\"USA (USD)\",\"USA (USD)\",\"USA (USD)\",\"USA (USD)\",\"USA (USD)\",\"USA (USD)\",\"USA (USD)\",\"USA (USD)\",\"USA (USD)\",\"USA (USD)\"],\"value\":{\"__ndarray__\":\"ADiBEziBg78QO7ETO7Gjv4AUrkfhepQ/ABQUFBQUlD8AAAAAAAAAAIDYiZ3YiZ0/4NS1HNzspz/Atm3btm2bPwCBoq0Gz4G/gB/BfQT3kb8AAAAAAAAAAIAkSZIkSZI/IK+hvIbymr8wJ4G4UHOiv4AQK0rjI4M/gC+hvYT2kj+AEuQpQZ6CP0AngbhQc6I/gHG/Lql8uD+QZVmWZVm2P4CG+OPW5X2/IB4eHh4enr8AH3zwwQevP9BBHdRBHbQ/wGBRsChYlD/Ayk+Is/KTP+Bu7HtETrA/MAl2Fb7csD8goQhFKEKRv0B/J6vljaG/IA8GnHEtoj+AFK5H4XqkPwBogRZogXY/ACNRauxhhr9gOz4EKTe1Pxi8nIKXU8A/ALCIErCIgj+gt6AMq/WWv6AsgU37yaI/gPshgbcfoj8QGIERGIGhv+gYxbmOUby/JMQ2rbh3wr94xB1xR9yxvwAAAAAAAAAAQDMzMzMzkz/At/krzGq0P0AXXXTRRZc/oPRJn/RJr78Av7J6lzyIPzCX0VxGc7k/YHIFMbmCuD9wXhbxCaSyPwAIzRsIzYu/1BmpmFudwb9ATK4gJlfAvwAZnI/B+Yg/oPNrD7msqD9Q8QKZFC+wP4CO4cV56Kg/APji6gcddT8AUAEVUAF1vyB0VOCLq5+/AAAAAAAAAABQ39mo72y0P3DDj+oSs7Y/ILCIErCIkr/4sHpYPay+vyCaswbF076/4LZt27Ztq78AoeRO0cKJvwBLevnTFpq/EBQUFBQUpL8AB5SJK917P8C6wRT5rJs/IK+hvIbymr8gTJHPusGUv8D6UkGrL5U/ALvBFPmsiz+AFK5H4XqUv0AFL6fg5aS/UBCTK4jJpb8gbMEWbMGWvwAAAAAAAAAAAB988MEHn78AAAAAAACYvwCq8dJNYoA/IARBEARBkL+AEEIIIYSQPyCGYRiGYai/\",\"dtype\":\"float64\",\"order\":\"little\",\"shape\":[90]}},\"selected\":{\"id\":\"19480\"},\"selection_policy\":{\"id\":\"19515\"}},\"id\":\"19479\",\"type\":\"ColumnDataSource\"},{\"attributes\":{},\"id\":\"19439\",\"type\":\"UnionRenderers\"},{\"attributes\":{},\"id\":\"19480\",\"type\":\"Selection\"},{\"attributes\":{},\"id\":\"19599\",\"type\":\"UnionRenderers\"},{\"attributes\":{\"line_color\":\"#004201\",\"line_width\":2,\"x\":{\"field\":\"Date\"},\"y\":{\"field\":\"value\"}},\"id\":\"19482\",\"type\":\"Line\"},{\"attributes\":{\"axis_label\":\"Price - Base 100\",\"bounds\":\"auto\",\"formatter\":{\"id\":\"19179\"},\"major_label_orientation\":\"horizontal\",\"ticker\":{\"id\":\"19161\"}},\"id\":\"19160\",\"type\":\"LinearAxis\"}],\"root_ids\":[\"19130\"]},\"title\":\"Bokeh Application\",\"version\":\"2.1.1\"}};\n",
       "  var render_items = [{\"docid\":\"fc69a5ad-2bf5-424d-8d2b-453ef4cf35f8\",\"root_ids\":[\"19130\"],\"roots\":{\"19130\":\"796b7bca-114a-43c6-92be-d69c18bc7091\"}}];\n",
       "  root.Bokeh.embed.embed_items_notebook(docs_json, render_items);\n",
       "  }\n",
       "if (root.Bokeh !== undefined) {\n",
       "    embed_document(root);\n",
       "  } else {\n",
       "    var attempts = 0;\n",
       "    var timer = setInterval(function(root) {\n",
       "      if (root.Bokeh !== undefined) {\n",
       "        clearInterval(timer);\n",
       "        embed_document(root);\n",
       "      } else if (document.readyState == \"complete\") {\n",
       "        attempts++;\n",
       "        if (attempts > 100) {\n",
       "          clearInterval(timer);\n",
       "          console.log(\"Bokeh: ERROR: Unable to run BokehJS code because BokehJS library is missing\");\n",
       "        }\n",
       "      }\n",
       "    }, 10, root)\n",
       "  }\n",
       "})(window);</script>"
      ],
      "text/plain": [
       ":NdOverlay   [Variable]\n",
       "   :Curve   [Date]   (value)"
      ]
     },
     "execution_count": 123,
     "metadata": {
      "application/vnd.holoviews_exec.v0+json": {
       "id": "19130"
      }
     },
     "output_type": "execute_result"
    }
   ],
   "source": [
    "art_index_quarterly_returns_plot = art_index_quarterly_returns.hvplot(title=\"Art Price Index - Quarterly Returns\", ylabel=\"Price - Base 100\", frame_width=1500, frame_height=500, rot=90)\n",
    "\n",
    "art_index_quarterly_returns_plot"
   ]
  },
  {
   "cell_type": "code",
   "execution_count": 111,
   "metadata": {},
   "outputs": [
    {
     "data": {
      "text/plain": [
       "19th Century   -0.252225\n",
       "Painting        0.260582\n",
       "USA (USD)       0.264261\n",
       "France (EUR)    0.326898\n",
       "Modern Art      0.426065\n",
       "dtype: float64"
      ]
     },
     "execution_count": 111,
     "metadata": {},
     "output_type": "execute_result"
    }
   ],
   "source": [
    "art_index_cum_returns = art_index_quarterly_returns.sum().sort_values()\n",
    "art_index_cum_returns.head()"
   ]
  },
  {
   "cell_type": "code",
   "execution_count": 125,
   "metadata": {},
   "outputs": [
    {
     "data": {
      "application/vnd.holoviews_exec.v0+json": "",
      "text/html": [
       "<div id='20180'>\n",
       "\n",
       "\n",
       "\n",
       "\n",
       "\n",
       "  <div class=\"bk-root\" id=\"9c13d8bd-18c0-46ee-ac42-e24e3d874a10\" data-root-id=\"20180\"></div>\n",
       "</div>\n",
       "<script type=\"application/javascript\">(function(root) {\n",
       "  function embed_document(root) {\n",
       "  var docs_json = {\"ace31605-dba3-4a66-a886-98d30f131fcc\":{\"roots\":{\"references\":[{\"attributes\":{\"factors\":[\"19th Century\",\"Painting\",\"USA (USD)\",\"France (EUR)\",\"Modern Art\",\"UK (GBP)\",\"Sculpture\",\"Drawing\",\"Photography\",\"Print\",\"Global Index (EUR)\",\"Global Index (USD)\",\"Post-War\",\"Contemporary\"],\"tags\":[[[\"index\",\"index\",null]]]},\"id\":\"20182\",\"type\":\"FactorRange\"},{\"attributes\":{\"active_drag\":\"auto\",\"active_inspect\":\"auto\",\"active_multi\":null,\"active_scroll\":\"auto\",\"active_tap\":\"auto\",\"tools\":[{\"id\":\"20184\"},{\"id\":\"20201\"},{\"id\":\"20202\"},{\"id\":\"20203\"},{\"id\":\"20204\"},{\"id\":\"20205\"}]},\"id\":\"20207\",\"type\":\"Toolbar\"},{\"attributes\":{\"axis\":{\"id\":\"20194\"},\"grid_line_color\":null,\"ticker\":null},\"id\":\"20196\",\"type\":\"Grid\"},{\"attributes\":{\"fill_alpha\":{\"value\":0.2},\"fill_color\":{\"value\":\"#1f77b3\"},\"line_alpha\":{\"value\":0.2},\"top\":{\"field\":\"A_0\"},\"width\":{\"value\":0.8},\"x\":{\"field\":\"index\"}},\"id\":\"20219\",\"type\":\"VBar\"},{\"attributes\":{\"callback\":null,\"renderers\":[{\"id\":\"20220\"}],\"tags\":[\"hv_created\"],\"tooltips\":[[\"index\",\"@{index}\"],[\"0\",\"@{A_0}\"]]},\"id\":\"20184\",\"type\":\"HoverTool\"},{\"attributes\":{},\"id\":\"20201\",\"type\":\"SaveTool\"},{\"attributes\":{\"data_source\":{\"id\":\"20214\"},\"glyph\":{\"id\":\"20217\"},\"hover_glyph\":null,\"muted_glyph\":{\"id\":\"20219\"},\"nonselection_glyph\":{\"id\":\"20218\"},\"selection_glyph\":null,\"view\":{\"id\":\"20221\"}},\"id\":\"20220\",\"type\":\"GlyphRenderer\"},{\"attributes\":{},\"id\":\"20202\",\"type\":\"PanTool\"},{\"attributes\":{\"margin\":[5,5,5,5],\"name\":\"HSpacer49046\",\"sizing_mode\":\"stretch_width\"},\"id\":\"20181\",\"type\":\"Spacer\"},{\"attributes\":{\"align\":null,\"below\":[{\"id\":\"20194\"}],\"center\":[{\"id\":\"20196\"},{\"id\":\"20200\"}],\"frame_height\":500,\"frame_width\":1500,\"left\":[{\"id\":\"20197\"}],\"margin\":null,\"min_border_bottom\":10,\"min_border_left\":10,\"min_border_right\":10,\"min_border_top\":10,\"plot_height\":null,\"plot_width\":null,\"renderers\":[{\"id\":\"20220\"}],\"sizing_mode\":\"fixed\",\"title\":{\"id\":\"20186\"},\"toolbar\":{\"id\":\"20207\"},\"x_range\":{\"id\":\"20182\"},\"x_scale\":{\"id\":\"20190\"},\"y_range\":{\"id\":\"20183\"},\"y_scale\":{\"id\":\"20192\"}},\"id\":\"20185\",\"subtype\":\"Figure\",\"type\":\"Plot\"},{\"attributes\":{},\"id\":\"20203\",\"type\":\"WheelZoomTool\"},{\"attributes\":{\"text\":\"Art Cumulative Returns 1998-2020\",\"text_color\":{\"value\":\"black\"},\"text_font_size\":{\"value\":\"12pt\"}},\"id\":\"20186\",\"type\":\"Title\"},{\"attributes\":{\"axis_label\":\"\",\"bounds\":\"auto\",\"formatter\":{\"id\":\"20223\"},\"major_label_orientation\":0.7853981633974483,\"ticker\":{\"id\":\"20195\"}},\"id\":\"20194\",\"type\":\"CategoricalAxis\"},{\"attributes\":{\"overlay\":{\"id\":\"20206\"}},\"id\":\"20204\",\"type\":\"BoxZoomTool\"},{\"attributes\":{\"fill_alpha\":{\"value\":0.1},\"fill_color\":{\"value\":\"#1f77b3\"},\"line_alpha\":{\"value\":0.1},\"top\":{\"field\":\"A_0\"},\"width\":{\"value\":0.8},\"x\":{\"field\":\"index\"}},\"id\":\"20218\",\"type\":\"VBar\"},{\"attributes\":{\"children\":[{\"id\":\"20181\"},{\"id\":\"20185\"},{\"id\":\"20243\"}],\"margin\":[0,0,0,0],\"name\":\"Row49042\",\"tags\":[\"embedded\"]},\"id\":\"20180\",\"type\":\"Row\"},{\"attributes\":{\"format\":\"%.0f%%\"},\"id\":\"20222\",\"type\":\"PrintfTickFormatter\"},{\"attributes\":{\"source\":{\"id\":\"20214\"}},\"id\":\"20221\",\"type\":\"CDSView\"},{\"attributes\":{},\"id\":\"20215\",\"type\":\"Selection\"},{\"attributes\":{},\"id\":\"20205\",\"type\":\"ResetTool\"},{\"attributes\":{\"axis\":{\"id\":\"20197\"},\"dimension\":1,\"grid_line_color\":null,\"ticker\":null},\"id\":\"20200\",\"type\":\"Grid\"},{\"attributes\":{},\"id\":\"20223\",\"type\":\"CategoricalTickFormatter\"},{\"attributes\":{},\"id\":\"20192\",\"type\":\"LinearScale\"},{\"attributes\":{\"data\":{\"A_0\":{\"__ndarray__\":\"Xo/E2JAtBMCymiQRutgEQAh9Q1sOJAVAuI6bRN4mCkCJJ/r+6AoRQKDjWkaH9RJAqnKV2cQFF0DoTHqICsIYQKHhxBnhXyBARILvodcFJEDUQW7rnfIlQDnMglaHASdAOI1m/j6UJ0DUrztAGOkoQA==\",\"dtype\":\"float64\",\"order\":\"little\",\"shape\":[14]},\"index\":[\"19th Century\",\"Painting\",\"USA (USD)\",\"France (EUR)\",\"Modern Art\",\"UK (GBP)\",\"Sculpture\",\"Drawing\",\"Photography\",\"Print\",\"Global Index (EUR)\",\"Global Index (USD)\",\"Post-War\",\"Contemporary\"]},\"selected\":{\"id\":\"20215\"},\"selection_policy\":{\"id\":\"20234\"}},\"id\":\"20214\",\"type\":\"ColumnDataSource\"},{\"attributes\":{},\"id\":\"20234\",\"type\":\"UnionRenderers\"},{\"attributes\":{},\"id\":\"20195\",\"type\":\"CategoricalTicker\"},{\"attributes\":{},\"id\":\"20190\",\"type\":\"CategoricalScale\"},{\"attributes\":{},\"id\":\"20198\",\"type\":\"BasicTicker\"},{\"attributes\":{\"axis_label\":\"\",\"bounds\":\"auto\",\"formatter\":{\"id\":\"20222\"},\"major_label_orientation\":\"horizontal\",\"ticker\":{\"id\":\"20198\"}},\"id\":\"20197\",\"type\":\"LinearAxis\"},{\"attributes\":{\"margin\":[5,5,5,5],\"name\":\"HSpacer49047\",\"sizing_mode\":\"stretch_width\"},\"id\":\"20243\",\"type\":\"Spacer\"},{\"attributes\":{\"end\":13.953014352192348,\"reset_end\":13.953014352192348,\"reset_start\":-4.020000136925686,\"start\":-4.020000136925686,\"tags\":[[[\"0\",\"0\",null]]]},\"id\":\"20183\",\"type\":\"Range1d\"},{\"attributes\":{\"bottom_units\":\"screen\",\"fill_alpha\":0.5,\"fill_color\":\"lightgrey\",\"left_units\":\"screen\",\"level\":\"overlay\",\"line_alpha\":1.0,\"line_color\":\"black\",\"line_dash\":[4,4],\"line_width\":2,\"right_units\":\"screen\",\"top_units\":\"screen\"},\"id\":\"20206\",\"type\":\"BoxAnnotation\"},{\"attributes\":{\"fill_color\":{\"value\":\"#1f77b3\"},\"top\":{\"field\":\"A_0\"},\"width\":{\"value\":0.8},\"x\":{\"field\":\"index\"}},\"id\":\"20217\",\"type\":\"VBar\"}],\"root_ids\":[\"20180\"]},\"title\":\"Bokeh Application\",\"version\":\"2.1.1\"}};\n",
       "  var render_items = [{\"docid\":\"ace31605-dba3-4a66-a886-98d30f131fcc\",\"root_ids\":[\"20180\"],\"roots\":{\"20180\":\"9c13d8bd-18c0-46ee-ac42-e24e3d874a10\"}}];\n",
       "  root.Bokeh.embed.embed_items_notebook(docs_json, render_items);\n",
       "  }\n",
       "if (root.Bokeh !== undefined) {\n",
       "    embed_document(root);\n",
       "  } else {\n",
       "    var attempts = 0;\n",
       "    var timer = setInterval(function(root) {\n",
       "      if (root.Bokeh !== undefined) {\n",
       "        clearInterval(timer);\n",
       "        embed_document(root);\n",
       "      } else if (document.readyState == \"complete\") {\n",
       "        attempts++;\n",
       "        if (attempts > 100) {\n",
       "          clearInterval(timer);\n",
       "          console.log(\"Bokeh: ERROR: Unable to run BokehJS code because BokehJS library is missing\");\n",
       "        }\n",
       "      }\n",
       "    }, 10, root)\n",
       "  }\n",
       "})(window);</script>"
      ],
      "text/plain": [
       ":Bars   [index]   (0)"
      ]
     },
     "execution_count": 125,
     "metadata": {
      "application/vnd.holoviews_exec.v0+json": {
       "id": "20180"
      }
     },
     "output_type": "execute_result"
    }
   ],
   "source": [
    "(art_index_cum_returns*10).hvplot(kind=\"bar\", title=\"Art Cumulative Returns 1998-2020\", frame_width=1500, frame_height=500, rot=45).opts(yformatter=\"%.0f%%\")"
   ]
  },
  {
   "cell_type": "code",
   "execution_count": 121,
   "metadata": {},
   "outputs": [
    {
     "data": {
      "text/plain": [
       "Painting              0.042109\n",
       "France (EUR)          0.046412\n",
       "UK (GBP)              0.047550\n",
       "USA (USD)             0.053729\n",
       "Post-War              0.059306\n",
       "Sculpture             0.061725\n",
       "Print                 0.065150\n",
       "19th Century          0.065815\n",
       "Modern Art            0.076383\n",
       "Contemporary          0.076740\n",
       "Drawing               0.085314\n",
       "Photography           0.086507\n",
       "Global Index (EUR)    0.141442\n",
       "Global Index (USD)    0.146929\n",
       "dtype: float64"
      ]
     },
     "execution_count": 121,
     "metadata": {},
     "output_type": "execute_result"
    }
   ],
   "source": [
    "art_index_std = art_index_quarterly_returns.std().sort_values()\n",
    "art_index_std"
   ]
  },
  {
   "cell_type": "code",
   "execution_count": 127,
   "metadata": {},
   "outputs": [
    {
     "data": {
      "application/vnd.plotly.v1+json": {
       "config": {
        "plotlyServerURL": "https://plot.ly"
       },
       "data": [
        {
         "alignmentgroup": "True",
         "hovertemplate": "variable=0<br>index=%{x}<br>value=%{y}<extra></extra>",
         "legendgroup": "0",
         "marker": {
          "color": "#636efa"
         },
         "name": "0",
         "offsetgroup": "0",
         "orientation": "v",
         "showlegend": true,
         "textposition": "auto",
         "type": "bar",
         "x": [
          "Painting",
          "France (EUR)",
          "UK (GBP)",
          "USA (USD)",
          "Post-War",
          "Sculpture",
          "Print",
          "19th Century",
          "Modern Art",
          "Contemporary",
          "Drawing",
          "Photography",
          "Global Index (EUR)",
          "Global Index (USD)"
         ],
         "xaxis": "x",
         "y": [
          0.04210893803507958,
          0.04641240745946848,
          0.04755036360804882,
          0.05372860510622909,
          0.059306024939345475,
          0.06172461277330152,
          0.0651503761957847,
          0.0658154185709653,
          0.07638349947502003,
          0.07673980607551599,
          0.08531422555160138,
          0.08650655651146948,
          0.14144164042458005,
          0.14692864680658102
         ],
         "yaxis": "y"
        }
       ],
       "layout": {
        "autosize": true,
        "barmode": "relative",
        "legend": {
         "title": {
          "text": "variable"
         },
         "tracegroupgap": 0
        },
        "template": {
         "data": {
          "bar": [
           {
            "error_x": {
             "color": "#2a3f5f"
            },
            "error_y": {
             "color": "#2a3f5f"
            },
            "marker": {
             "line": {
              "color": "#E5ECF6",
              "width": 0.5
             }
            },
            "type": "bar"
           }
          ],
          "barpolar": [
           {
            "marker": {
             "line": {
              "color": "#E5ECF6",
              "width": 0.5
             }
            },
            "type": "barpolar"
           }
          ],
          "carpet": [
           {
            "aaxis": {
             "endlinecolor": "#2a3f5f",
             "gridcolor": "white",
             "linecolor": "white",
             "minorgridcolor": "white",
             "startlinecolor": "#2a3f5f"
            },
            "baxis": {
             "endlinecolor": "#2a3f5f",
             "gridcolor": "white",
             "linecolor": "white",
             "minorgridcolor": "white",
             "startlinecolor": "#2a3f5f"
            },
            "type": "carpet"
           }
          ],
          "choropleth": [
           {
            "colorbar": {
             "outlinewidth": 0,
             "ticks": ""
            },
            "type": "choropleth"
           }
          ],
          "contour": [
           {
            "colorbar": {
             "outlinewidth": 0,
             "ticks": ""
            },
            "colorscale": [
             [
              0,
              "#0d0887"
             ],
             [
              0.1111111111111111,
              "#46039f"
             ],
             [
              0.2222222222222222,
              "#7201a8"
             ],
             [
              0.3333333333333333,
              "#9c179e"
             ],
             [
              0.4444444444444444,
              "#bd3786"
             ],
             [
              0.5555555555555556,
              "#d8576b"
             ],
             [
              0.6666666666666666,
              "#ed7953"
             ],
             [
              0.7777777777777778,
              "#fb9f3a"
             ],
             [
              0.8888888888888888,
              "#fdca26"
             ],
             [
              1,
              "#f0f921"
             ]
            ],
            "type": "contour"
           }
          ],
          "contourcarpet": [
           {
            "colorbar": {
             "outlinewidth": 0,
             "ticks": ""
            },
            "type": "contourcarpet"
           }
          ],
          "heatmap": [
           {
            "colorbar": {
             "outlinewidth": 0,
             "ticks": ""
            },
            "colorscale": [
             [
              0,
              "#0d0887"
             ],
             [
              0.1111111111111111,
              "#46039f"
             ],
             [
              0.2222222222222222,
              "#7201a8"
             ],
             [
              0.3333333333333333,
              "#9c179e"
             ],
             [
              0.4444444444444444,
              "#bd3786"
             ],
             [
              0.5555555555555556,
              "#d8576b"
             ],
             [
              0.6666666666666666,
              "#ed7953"
             ],
             [
              0.7777777777777778,
              "#fb9f3a"
             ],
             [
              0.8888888888888888,
              "#fdca26"
             ],
             [
              1,
              "#f0f921"
             ]
            ],
            "type": "heatmap"
           }
          ],
          "heatmapgl": [
           {
            "colorbar": {
             "outlinewidth": 0,
             "ticks": ""
            },
            "colorscale": [
             [
              0,
              "#0d0887"
             ],
             [
              0.1111111111111111,
              "#46039f"
             ],
             [
              0.2222222222222222,
              "#7201a8"
             ],
             [
              0.3333333333333333,
              "#9c179e"
             ],
             [
              0.4444444444444444,
              "#bd3786"
             ],
             [
              0.5555555555555556,
              "#d8576b"
             ],
             [
              0.6666666666666666,
              "#ed7953"
             ],
             [
              0.7777777777777778,
              "#fb9f3a"
             ],
             [
              0.8888888888888888,
              "#fdca26"
             ],
             [
              1,
              "#f0f921"
             ]
            ],
            "type": "heatmapgl"
           }
          ],
          "histogram": [
           {
            "marker": {
             "colorbar": {
              "outlinewidth": 0,
              "ticks": ""
             }
            },
            "type": "histogram"
           }
          ],
          "histogram2d": [
           {
            "colorbar": {
             "outlinewidth": 0,
             "ticks": ""
            },
            "colorscale": [
             [
              0,
              "#0d0887"
             ],
             [
              0.1111111111111111,
              "#46039f"
             ],
             [
              0.2222222222222222,
              "#7201a8"
             ],
             [
              0.3333333333333333,
              "#9c179e"
             ],
             [
              0.4444444444444444,
              "#bd3786"
             ],
             [
              0.5555555555555556,
              "#d8576b"
             ],
             [
              0.6666666666666666,
              "#ed7953"
             ],
             [
              0.7777777777777778,
              "#fb9f3a"
             ],
             [
              0.8888888888888888,
              "#fdca26"
             ],
             [
              1,
              "#f0f921"
             ]
            ],
            "type": "histogram2d"
           }
          ],
          "histogram2dcontour": [
           {
            "colorbar": {
             "outlinewidth": 0,
             "ticks": ""
            },
            "colorscale": [
             [
              0,
              "#0d0887"
             ],
             [
              0.1111111111111111,
              "#46039f"
             ],
             [
              0.2222222222222222,
              "#7201a8"
             ],
             [
              0.3333333333333333,
              "#9c179e"
             ],
             [
              0.4444444444444444,
              "#bd3786"
             ],
             [
              0.5555555555555556,
              "#d8576b"
             ],
             [
              0.6666666666666666,
              "#ed7953"
             ],
             [
              0.7777777777777778,
              "#fb9f3a"
             ],
             [
              0.8888888888888888,
              "#fdca26"
             ],
             [
              1,
              "#f0f921"
             ]
            ],
            "type": "histogram2dcontour"
           }
          ],
          "mesh3d": [
           {
            "colorbar": {
             "outlinewidth": 0,
             "ticks": ""
            },
            "type": "mesh3d"
           }
          ],
          "parcoords": [
           {
            "line": {
             "colorbar": {
              "outlinewidth": 0,
              "ticks": ""
             }
            },
            "type": "parcoords"
           }
          ],
          "pie": [
           {
            "automargin": true,
            "type": "pie"
           }
          ],
          "scatter": [
           {
            "marker": {
             "colorbar": {
              "outlinewidth": 0,
              "ticks": ""
             }
            },
            "type": "scatter"
           }
          ],
          "scatter3d": [
           {
            "line": {
             "colorbar": {
              "outlinewidth": 0,
              "ticks": ""
             }
            },
            "marker": {
             "colorbar": {
              "outlinewidth": 0,
              "ticks": ""
             }
            },
            "type": "scatter3d"
           }
          ],
          "scattercarpet": [
           {
            "marker": {
             "colorbar": {
              "outlinewidth": 0,
              "ticks": ""
             }
            },
            "type": "scattercarpet"
           }
          ],
          "scattergeo": [
           {
            "marker": {
             "colorbar": {
              "outlinewidth": 0,
              "ticks": ""
             }
            },
            "type": "scattergeo"
           }
          ],
          "scattergl": [
           {
            "marker": {
             "colorbar": {
              "outlinewidth": 0,
              "ticks": ""
             }
            },
            "type": "scattergl"
           }
          ],
          "scattermapbox": [
           {
            "marker": {
             "colorbar": {
              "outlinewidth": 0,
              "ticks": ""
             }
            },
            "type": "scattermapbox"
           }
          ],
          "scatterpolar": [
           {
            "marker": {
             "colorbar": {
              "outlinewidth": 0,
              "ticks": ""
             }
            },
            "type": "scatterpolar"
           }
          ],
          "scatterpolargl": [
           {
            "marker": {
             "colorbar": {
              "outlinewidth": 0,
              "ticks": ""
             }
            },
            "type": "scatterpolargl"
           }
          ],
          "scatterternary": [
           {
            "marker": {
             "colorbar": {
              "outlinewidth": 0,
              "ticks": ""
             }
            },
            "type": "scatterternary"
           }
          ],
          "surface": [
           {
            "colorbar": {
             "outlinewidth": 0,
             "ticks": ""
            },
            "colorscale": [
             [
              0,
              "#0d0887"
             ],
             [
              0.1111111111111111,
              "#46039f"
             ],
             [
              0.2222222222222222,
              "#7201a8"
             ],
             [
              0.3333333333333333,
              "#9c179e"
             ],
             [
              0.4444444444444444,
              "#bd3786"
             ],
             [
              0.5555555555555556,
              "#d8576b"
             ],
             [
              0.6666666666666666,
              "#ed7953"
             ],
             [
              0.7777777777777778,
              "#fb9f3a"
             ],
             [
              0.8888888888888888,
              "#fdca26"
             ],
             [
              1,
              "#f0f921"
             ]
            ],
            "type": "surface"
           }
          ],
          "table": [
           {
            "cells": {
             "fill": {
              "color": "#EBF0F8"
             },
             "line": {
              "color": "white"
             }
            },
            "header": {
             "fill": {
              "color": "#C8D4E3"
             },
             "line": {
              "color": "white"
             }
            },
            "type": "table"
           }
          ]
         },
         "layout": {
          "annotationdefaults": {
           "arrowcolor": "#2a3f5f",
           "arrowhead": 0,
           "arrowwidth": 1
          },
          "coloraxis": {
           "colorbar": {
            "outlinewidth": 0,
            "ticks": ""
           }
          },
          "colorscale": {
           "diverging": [
            [
             0,
             "#8e0152"
            ],
            [
             0.1,
             "#c51b7d"
            ],
            [
             0.2,
             "#de77ae"
            ],
            [
             0.3,
             "#f1b6da"
            ],
            [
             0.4,
             "#fde0ef"
            ],
            [
             0.5,
             "#f7f7f7"
            ],
            [
             0.6,
             "#e6f5d0"
            ],
            [
             0.7,
             "#b8e186"
            ],
            [
             0.8,
             "#7fbc41"
            ],
            [
             0.9,
             "#4d9221"
            ],
            [
             1,
             "#276419"
            ]
           ],
           "sequential": [
            [
             0,
             "#0d0887"
            ],
            [
             0.1111111111111111,
             "#46039f"
            ],
            [
             0.2222222222222222,
             "#7201a8"
            ],
            [
             0.3333333333333333,
             "#9c179e"
            ],
            [
             0.4444444444444444,
             "#bd3786"
            ],
            [
             0.5555555555555556,
             "#d8576b"
            ],
            [
             0.6666666666666666,
             "#ed7953"
            ],
            [
             0.7777777777777778,
             "#fb9f3a"
            ],
            [
             0.8888888888888888,
             "#fdca26"
            ],
            [
             1,
             "#f0f921"
            ]
           ],
           "sequentialminus": [
            [
             0,
             "#0d0887"
            ],
            [
             0.1111111111111111,
             "#46039f"
            ],
            [
             0.2222222222222222,
             "#7201a8"
            ],
            [
             0.3333333333333333,
             "#9c179e"
            ],
            [
             0.4444444444444444,
             "#bd3786"
            ],
            [
             0.5555555555555556,
             "#d8576b"
            ],
            [
             0.6666666666666666,
             "#ed7953"
            ],
            [
             0.7777777777777778,
             "#fb9f3a"
            ],
            [
             0.8888888888888888,
             "#fdca26"
            ],
            [
             1,
             "#f0f921"
            ]
           ]
          },
          "colorway": [
           "#636efa",
           "#EF553B",
           "#00cc96",
           "#ab63fa",
           "#FFA15A",
           "#19d3f3",
           "#FF6692",
           "#B6E880",
           "#FF97FF",
           "#FECB52"
          ],
          "font": {
           "color": "#2a3f5f"
          },
          "geo": {
           "bgcolor": "white",
           "lakecolor": "white",
           "landcolor": "#E5ECF6",
           "showlakes": true,
           "showland": true,
           "subunitcolor": "white"
          },
          "hoverlabel": {
           "align": "left"
          },
          "hovermode": "closest",
          "mapbox": {
           "style": "light"
          },
          "paper_bgcolor": "white",
          "plot_bgcolor": "#E5ECF6",
          "polar": {
           "angularaxis": {
            "gridcolor": "white",
            "linecolor": "white",
            "ticks": ""
           },
           "bgcolor": "#E5ECF6",
           "radialaxis": {
            "gridcolor": "white",
            "linecolor": "white",
            "ticks": ""
           }
          },
          "scene": {
           "xaxis": {
            "backgroundcolor": "#E5ECF6",
            "gridcolor": "white",
            "gridwidth": 2,
            "linecolor": "white",
            "showbackground": true,
            "ticks": "",
            "zerolinecolor": "white"
           },
           "yaxis": {
            "backgroundcolor": "#E5ECF6",
            "gridcolor": "white",
            "gridwidth": 2,
            "linecolor": "white",
            "showbackground": true,
            "ticks": "",
            "zerolinecolor": "white"
           },
           "zaxis": {
            "backgroundcolor": "#E5ECF6",
            "gridcolor": "white",
            "gridwidth": 2,
            "linecolor": "white",
            "showbackground": true,
            "ticks": "",
            "zerolinecolor": "white"
           }
          },
          "shapedefaults": {
           "line": {
            "color": "#2a3f5f"
           }
          },
          "ternary": {
           "aaxis": {
            "gridcolor": "white",
            "linecolor": "white",
            "ticks": ""
           },
           "baxis": {
            "gridcolor": "white",
            "linecolor": "white",
            "ticks": ""
           },
           "bgcolor": "#E5ECF6",
           "caxis": {
            "gridcolor": "white",
            "linecolor": "white",
            "ticks": ""
           }
          },
          "title": {
           "x": 0.05
          },
          "xaxis": {
           "automargin": true,
           "gridcolor": "white",
           "linecolor": "white",
           "ticks": "",
           "title": {
            "standoff": 15
           },
           "zerolinecolor": "white",
           "zerolinewidth": 2
          },
          "yaxis": {
           "automargin": true,
           "gridcolor": "white",
           "linecolor": "white",
           "ticks": "",
           "title": {
            "standoff": 15
           },
           "zerolinecolor": "white",
           "zerolinewidth": 2
          }
         }
        },
        "title": {
         "text": "Art Price STD 1998-2020"
        },
        "xaxis": {
         "anchor": "y",
         "autorange": true,
         "domain": [
          0,
          1
         ],
         "range": [
          -0.5,
          13.5
         ],
         "title": {
          "text": "index"
         },
         "type": "category"
        },
        "yaxis": {
         "anchor": "x",
         "autorange": true,
         "domain": [
          0,
          1
         ],
         "range": [
          0,
          0.1546617334806116
         ],
         "title": {
          "text": "value"
         },
         "type": "linear"
        }
       }
      },
      "image/png": "[encoded data removed]",
      "text/html": [
       "<div>                            <div id=\"099fddd3-63fd-4dfd-8023-21391aae16ff\" class=\"plotly-graph-div\" style=\"height:525px; width:100%;\"></div>            <script type=\"text/javascript\">                require([\"plotly\"], function(Plotly) {                    window.PLOTLYENV=window.PLOTLYENV || {};                                    if (document.getElementById(\"099fddd3-63fd-4dfd-8023-21391aae16ff\")) {                    Plotly.newPlot(                        \"099fddd3-63fd-4dfd-8023-21391aae16ff\",                        [{\"alignmentgroup\": \"True\", \"hovertemplate\": \"variable=0<br>index=%{x}<br>value=%{y}<extra></extra>\", \"legendgroup\": \"0\", \"marker\": {\"color\": \"#636efa\"}, \"name\": \"0\", \"offsetgroup\": \"0\", \"orientation\": \"v\", \"showlegend\": true, \"textposition\": \"auto\", \"type\": \"bar\", \"x\": [\"Painting\", \"France (EUR)\", \"UK (GBP)\", \"USA (USD)\", \"Post-War\", \"Sculpture\", \"Print\", \"19th Century\", \"Modern Art\", \"Contemporary\", \"Drawing\", \"Photography\", \"Global Index (EUR)\", \"Global Index (USD)\"], \"xaxis\": \"x\", \"y\": [0.04210893803507958, 0.04641240745946848, 0.04755036360804882, 0.05372860510622909, 0.059306024939345475, 0.06172461277330152, 0.0651503761957847, 0.0658154185709653, 0.07638349947502003, 0.07673980607551599, 0.08531422555160138, 0.08650655651146948, 0.14144164042458005, 0.14692864680658102], \"yaxis\": \"y\"}],                        {\"barmode\": \"relative\", \"legend\": {\"title\": {\"text\": \"variable\"}, \"tracegroupgap\": 0}, \"template\": {\"data\": {\"bar\": [{\"error_x\": {\"color\": \"#2a3f5f\"}, \"error_y\": {\"color\": \"#2a3f5f\"}, \"marker\": {\"line\": {\"color\": \"#E5ECF6\", \"width\": 0.5}}, \"type\": \"bar\"}], \"barpolar\": [{\"marker\": {\"line\": {\"color\": \"#E5ECF6\", \"width\": 0.5}}, \"type\": \"barpolar\"}], \"carpet\": [{\"aaxis\": {\"endlinecolor\": \"#2a3f5f\", \"gridcolor\": \"white\", \"linecolor\": \"white\", \"minorgridcolor\": \"white\", \"startlinecolor\": \"#2a3f5f\"}, \"baxis\": {\"endlinecolor\": \"#2a3f5f\", \"gridcolor\": \"white\", \"linecolor\": \"white\", \"minorgridcolor\": \"white\", \"startlinecolor\": \"#2a3f5f\"}, \"type\": \"carpet\"}], \"choropleth\": [{\"colorbar\": {\"outlinewidth\": 0, \"ticks\": \"\"}, \"type\": \"choropleth\"}], \"contour\": [{\"colorbar\": {\"outlinewidth\": 0, \"ticks\": \"\"}, \"colorscale\": [[0.0, \"#0d0887\"], [0.1111111111111111, \"#46039f\"], [0.2222222222222222, \"#7201a8\"], [0.3333333333333333, \"#9c179e\"], [0.4444444444444444, \"#bd3786\"], [0.5555555555555556, \"#d8576b\"], [0.6666666666666666, \"#ed7953\"], [0.7777777777777778, \"#fb9f3a\"], [0.8888888888888888, \"#fdca26\"], [1.0, \"#f0f921\"]], \"type\": \"contour\"}], \"contourcarpet\": [{\"colorbar\": {\"outlinewidth\": 0, \"ticks\": \"\"}, \"type\": \"contourcarpet\"}], \"heatmap\": [{\"colorbar\": {\"outlinewidth\": 0, \"ticks\": \"\"}, \"colorscale\": [[0.0, \"#0d0887\"], [0.1111111111111111, \"#46039f\"], [0.2222222222222222, \"#7201a8\"], [0.3333333333333333, \"#9c179e\"], [0.4444444444444444, \"#bd3786\"], [0.5555555555555556, \"#d8576b\"], [0.6666666666666666, \"#ed7953\"], [0.7777777777777778, \"#fb9f3a\"], [0.8888888888888888, \"#fdca26\"], [1.0, \"#f0f921\"]], \"type\": \"heatmap\"}], \"heatmapgl\": [{\"colorbar\": {\"outlinewidth\": 0, \"ticks\": \"\"}, \"colorscale\": [[0.0, \"#0d0887\"], [0.1111111111111111, \"#46039f\"], [0.2222222222222222, \"#7201a8\"], [0.3333333333333333, \"#9c179e\"], [0.4444444444444444, \"#bd3786\"], [0.5555555555555556, \"#d8576b\"], [0.6666666666666666, \"#ed7953\"], [0.7777777777777778, \"#fb9f3a\"], [0.8888888888888888, \"#fdca26\"], [1.0, \"#f0f921\"]], \"type\": \"heatmapgl\"}], \"histogram\": [{\"marker\": {\"colorbar\": {\"outlinewidth\": 0, \"ticks\": \"\"}}, \"type\": \"histogram\"}], \"histogram2d\": [{\"colorbar\": {\"outlinewidth\": 0, \"ticks\": \"\"}, \"colorscale\": [[0.0, \"#0d0887\"], [0.1111111111111111, \"#46039f\"], [0.2222222222222222, \"#7201a8\"], [0.3333333333333333, \"#9c179e\"], [0.4444444444444444, \"#bd3786\"], [0.5555555555555556, \"#d8576b\"], [0.6666666666666666, \"#ed7953\"], [0.7777777777777778, \"#fb9f3a\"], [0.8888888888888888, \"#fdca26\"], [1.0, \"#f0f921\"]], \"type\": \"histogram2d\"}], \"histogram2dcontour\": [{\"colorbar\": {\"outlinewidth\": 0, \"ticks\": \"\"}, \"colorscale\": [[0.0, \"#0d0887\"], [0.1111111111111111, \"#46039f\"], [0.2222222222222222, \"#7201a8\"], [0.3333333333333333, \"#9c179e\"], [0.4444444444444444, \"#bd3786\"], [0.5555555555555556, \"#d8576b\"], [0.6666666666666666, \"#ed7953\"], [0.7777777777777778, \"#fb9f3a\"], [0.8888888888888888, \"#fdca26\"], [1.0, \"#f0f921\"]], \"type\": \"histogram2dcontour\"}], \"mesh3d\": [{\"colorbar\": {\"outlinewidth\": 0, \"ticks\": \"\"}, \"type\": \"mesh3d\"}], \"parcoords\": [{\"line\": {\"colorbar\": {\"outlinewidth\": 0, \"ticks\": \"\"}}, \"type\": \"parcoords\"}], \"pie\": [{\"automargin\": true, \"type\": \"pie\"}], \"scatter\": [{\"marker\": {\"colorbar\": {\"outlinewidth\": 0, \"ticks\": \"\"}}, \"type\": \"scatter\"}], \"scatter3d\": [{\"line\": {\"colorbar\": {\"outlinewidth\": 0, \"ticks\": \"\"}}, \"marker\": {\"colorbar\": {\"outlinewidth\": 0, \"ticks\": \"\"}}, \"type\": \"scatter3d\"}], \"scattercarpet\": [{\"marker\": {\"colorbar\": {\"outlinewidth\": 0, \"ticks\": \"\"}}, \"type\": \"scattercarpet\"}], \"scattergeo\": [{\"marker\": {\"colorbar\": {\"outlinewidth\": 0, \"ticks\": \"\"}}, \"type\": \"scattergeo\"}], \"scattergl\": [{\"marker\": {\"colorbar\": {\"outlinewidth\": 0, \"ticks\": \"\"}}, \"type\": \"scattergl\"}], \"scattermapbox\": [{\"marker\": {\"colorbar\": {\"outlinewidth\": 0, \"ticks\": \"\"}}, \"type\": \"scattermapbox\"}], \"scatterpolar\": [{\"marker\": {\"colorbar\": {\"outlinewidth\": 0, \"ticks\": \"\"}}, \"type\": \"scatterpolar\"}], \"scatterpolargl\": [{\"marker\": {\"colorbar\": {\"outlinewidth\": 0, \"ticks\": \"\"}}, \"type\": \"scatterpolargl\"}], \"scatterternary\": [{\"marker\": {\"colorbar\": {\"outlinewidth\": 0, \"ticks\": \"\"}}, \"type\": \"scatterternary\"}], \"surface\": [{\"colorbar\": {\"outlinewidth\": 0, \"ticks\": \"\"}, \"colorscale\": [[0.0, \"#0d0887\"], [0.1111111111111111, \"#46039f\"], [0.2222222222222222, \"#7201a8\"], [0.3333333333333333, \"#9c179e\"], [0.4444444444444444, \"#bd3786\"], [0.5555555555555556, \"#d8576b\"], [0.6666666666666666, \"#ed7953\"], [0.7777777777777778, \"#fb9f3a\"], [0.8888888888888888, \"#fdca26\"], [1.0, \"#f0f921\"]], \"type\": \"surface\"}], \"table\": [{\"cells\": {\"fill\": {\"color\": \"#EBF0F8\"}, \"line\": {\"color\": \"white\"}}, \"header\": {\"fill\": {\"color\": \"#C8D4E3\"}, \"line\": {\"color\": \"white\"}}, \"type\": \"table\"}]}, \"layout\": {\"annotationdefaults\": {\"arrowcolor\": \"#2a3f5f\", \"arrowhead\": 0, \"arrowwidth\": 1}, \"coloraxis\": {\"colorbar\": {\"outlinewidth\": 0, \"ticks\": \"\"}}, \"colorscale\": {\"diverging\": [[0, \"#8e0152\"], [0.1, \"#c51b7d\"], [0.2, \"#de77ae\"], [0.3, \"#f1b6da\"], [0.4, \"#fde0ef\"], [0.5, \"#f7f7f7\"], [0.6, \"#e6f5d0\"], [0.7, \"#b8e186\"], [0.8, \"#7fbc41\"], [0.9, \"#4d9221\"], [1, \"#276419\"]], \"sequential\": [[0.0, \"#0d0887\"], [0.1111111111111111, \"#46039f\"], [0.2222222222222222, \"#7201a8\"], [0.3333333333333333, \"#9c179e\"], [0.4444444444444444, \"#bd3786\"], [0.5555555555555556, \"#d8576b\"], [0.6666666666666666, \"#ed7953\"], [0.7777777777777778, \"#fb9f3a\"], [0.8888888888888888, \"#fdca26\"], [1.0, \"#f0f921\"]], \"sequentialminus\": [[0.0, \"#0d0887\"], [0.1111111111111111, \"#46039f\"], [0.2222222222222222, \"#7201a8\"], [0.3333333333333333, \"#9c179e\"], [0.4444444444444444, \"#bd3786\"], [0.5555555555555556, \"#d8576b\"], [0.6666666666666666, \"#ed7953\"], [0.7777777777777778, \"#fb9f3a\"], [0.8888888888888888, \"#fdca26\"], [1.0, \"#f0f921\"]]}, \"colorway\": [\"#636efa\", \"#EF553B\", \"#00cc96\", \"#ab63fa\", \"#FFA15A\", \"#19d3f3\", \"#FF6692\", \"#B6E880\", \"#FF97FF\", \"#FECB52\"], \"font\": {\"color\": \"#2a3f5f\"}, \"geo\": {\"bgcolor\": \"white\", \"lakecolor\": \"white\", \"landcolor\": \"#E5ECF6\", \"showlakes\": true, \"showland\": true, \"subunitcolor\": \"white\"}, \"hoverlabel\": {\"align\": \"left\"}, \"hovermode\": \"closest\", \"mapbox\": {\"style\": \"light\"}, \"paper_bgcolor\": \"white\", \"plot_bgcolor\": \"#E5ECF6\", \"polar\": {\"angularaxis\": {\"gridcolor\": \"white\", \"linecolor\": \"white\", \"ticks\": \"\"}, \"bgcolor\": \"#E5ECF6\", \"radialaxis\": {\"gridcolor\": \"white\", \"linecolor\": \"white\", \"ticks\": \"\"}}, \"scene\": {\"xaxis\": {\"backgroundcolor\": \"#E5ECF6\", \"gridcolor\": \"white\", \"gridwidth\": 2, \"linecolor\": \"white\", \"showbackground\": true, \"ticks\": \"\", \"zerolinecolor\": \"white\"}, \"yaxis\": {\"backgroundcolor\": \"#E5ECF6\", \"gridcolor\": \"white\", \"gridwidth\": 2, \"linecolor\": \"white\", \"showbackground\": true, \"ticks\": \"\", \"zerolinecolor\": \"white\"}, \"zaxis\": {\"backgroundcolor\": \"#E5ECF6\", \"gridcolor\": \"white\", \"gridwidth\": 2, \"linecolor\": \"white\", \"showbackground\": true, \"ticks\": \"\", \"zerolinecolor\": \"white\"}}, \"shapedefaults\": {\"line\": {\"color\": \"#2a3f5f\"}}, \"ternary\": {\"aaxis\": {\"gridcolor\": \"white\", \"linecolor\": \"white\", \"ticks\": \"\"}, \"baxis\": {\"gridcolor\": \"white\", \"linecolor\": \"white\", \"ticks\": \"\"}, \"bgcolor\": \"#E5ECF6\", \"caxis\": {\"gridcolor\": \"white\", \"linecolor\": \"white\", \"ticks\": \"\"}}, \"title\": {\"x\": 0.05}, \"xaxis\": {\"automargin\": true, \"gridcolor\": \"white\", \"linecolor\": \"white\", \"ticks\": \"\", \"title\": {\"standoff\": 15}, \"zerolinecolor\": \"white\", \"zerolinewidth\": 2}, \"yaxis\": {\"automargin\": true, \"gridcolor\": \"white\", \"linecolor\": \"white\", \"ticks\": \"\", \"title\": {\"standoff\": 15}, \"zerolinecolor\": \"white\", \"zerolinewidth\": 2}}}, \"title\": {\"text\": \"Art Price STD 1998-2020\"}, \"xaxis\": {\"anchor\": \"y\", \"domain\": [0.0, 1.0], \"title\": {\"text\": \"index\"}}, \"yaxis\": {\"anchor\": \"x\", \"domain\": [0.0, 1.0], \"title\": {\"text\": \"value\"}}},                        {\"responsive\": true}                    ).then(function(){\n",
       "                            \n",
       "var gd = document.getElementById('099fddd3-63fd-4dfd-8023-21391aae16ff');\n",
       "var x = new MutationObserver(function (mutations, observer) {{\n",
       "        var display = window.getComputedStyle(gd).display;\n",
       "        if (!display || display === 'none') {{\n",
       "            console.log([gd, 'removed!']);\n",
       "            Plotly.purge(gd);\n",
       "            observer.disconnect();\n",
       "        }}\n",
       "}});\n",
       "\n",
       "// Listen for the removal of the full notebook cells\n",
       "var notebookContainer = gd.closest('#notebook-container');\n",
       "if (notebookContainer) {{\n",
       "    x.observe(notebookContainer, {childList: true});\n",
       "}}\n",
       "\n",
       "// Listen for the clearing of the current output cell\n",
       "var outputEl = gd.closest('.output');\n",
       "if (outputEl) {{\n",
       "    x.observe(outputEl, {childList: true});\n",
       "}}\n",
       "\n",
       "                        })                };                });            </script>        </div>"
      ]
     },
     "metadata": {},
     "output_type": "display_data"
    }
   ],
   "source": [
    "art_index_std_bar = px.bar(art_index_std, title=\"Art Price STD 1998-2020\")\n",
    "art_index_std_bar\n"
   ]
  },
  {
   "cell_type": "code",
   "execution_count": 131,
   "metadata": {},
   "outputs": [
    {
     "data": {
      "application/vnd.plotly.v1+json": {
       "config": {
        "plotlyServerURL": "https://plot.ly"
       },
       "data": [
        {
         "alignmentgroup": "True",
         "hovertemplate": "variable=%{x}<br>value=%{y}<extra></extra>",
         "legendgroup": "",
         "marker": {
          "color": "#636efa"
         },
         "name": "",
         "notched": false,
         "offsetgroup": "",
         "orientation": "v",
         "showlegend": false,
         "type": "box",
         "x": [
          "Global Index (USD)",
          "Global Index (USD)",
          "Global Index (USD)",
          "Global Index (USD)",
          "Global Index (USD)",
          "Global Index (USD)",
          "Global Index (USD)",
          "Global Index (USD)",
          "Global Index (USD)",
          "Global Index (USD)",
          "Global Index (USD)",
          "Global Index (USD)",
          "Global Index (USD)",
          "Global Index (USD)",
          "Global Index (USD)",
          "Global Index (USD)",
          "Global Index (USD)",
          "Global Index (USD)",
          "Global Index (USD)",
          "Global Index (USD)",
          "Global Index (USD)",
          "Global Index (USD)",
          "Global Index (USD)",
          "Global Index (USD)",
          "Global Index (USD)",
          "Global Index (USD)",
          "Global Index (USD)",
          "Global Index (USD)",
          "Global Index (USD)",
          "Global Index (USD)",
          "Global Index (USD)",
          "Global Index (USD)",
          "Global Index (USD)",
          "Global Index (USD)",
          "Global Index (USD)",
          "Global Index (USD)",
          "Global Index (USD)",
          "Global Index (USD)",
          "Global Index (USD)",
          "Global Index (USD)",
          "Global Index (USD)",
          "Global Index (USD)",
          "Global Index (USD)",
          "Global Index (USD)",
          "Global Index (USD)",
          "Global Index (USD)",
          "Global Index (USD)",
          "Global Index (USD)",
          "Global Index (USD)",
          "Global Index (USD)",
          "Global Index (USD)",
          "Global Index (USD)",
          "Global Index (USD)",
          "Global Index (USD)",
          "Global Index (USD)",
          "Global Index (USD)",
          "Global Index (USD)",
          "Global Index (USD)",
          "Global Index (USD)",
          "Global Index (USD)",
          "Global Index (USD)",
          "Global Index (USD)",
          "Global Index (USD)",
          "Global Index (USD)",
          "Global Index (USD)",
          "Global Index (USD)",
          "Global Index (USD)",
          "Global Index (USD)",
          "Global Index (USD)",
          "Global Index (USD)",
          "Global Index (USD)",
          "Global Index (USD)",
          "Global Index (USD)",
          "Global Index (USD)",
          "Global Index (USD)",
          "Global Index (USD)",
          "Global Index (USD)",
          "Global Index (USD)",
          "Global Index (USD)",
          "Global Index (USD)",
          "Global Index (USD)",
          "Global Index (USD)",
          "Global Index (USD)",
          "Global Index (USD)",
          "Global Index (USD)",
          "Global Index (USD)",
          "Global Index (USD)",
          "Global Index (USD)",
          "Global Index (USD)",
          "Global Index (USD)",
          "Global Index (EUR)",
          "Global Index (EUR)",
          "Global Index (EUR)",
          "Global Index (EUR)",
          "Global Index (EUR)",
          "Global Index (EUR)",
          "Global Index (EUR)",
          "Global Index (EUR)",
          "Global Index (EUR)",
          "Global Index (EUR)",
          "Global Index (EUR)",
          "Global Index (EUR)",
          "Global Index (EUR)",
          "Global Index (EUR)",
          "Global Index (EUR)",
          "Global Index (EUR)",
          "Global Index (EUR)",
          "Global Index (EUR)",
          "Global Index (EUR)",
          "Global Index (EUR)",
          "Global Index (EUR)",
          "Global Index (EUR)",
          "Global Index (EUR)",
          "Global Index (EUR)",
          "Global Index (EUR)",
          "Global Index (EUR)",
          "Global Index (EUR)",
          "Global Index (EUR)",
          "Global Index (EUR)",
          "Global Index (EUR)",
          "Global Index (EUR)",
          "Global Index (EUR)",
          "Global Index (EUR)",
          "Global Index (EUR)",
          "Global Index (EUR)",
          "Global Index (EUR)",
          "Global Index (EUR)",
          "Global Index (EUR)",
          "Global Index (EUR)",
          "Global Index (EUR)",
          "Global Index (EUR)",
          "Global Index (EUR)",
          "Global Index (EUR)",
          "Global Index (EUR)",
          "Global Index (EUR)",
          "Global Index (EUR)",
          "Global Index (EUR)",
          "Global Index (EUR)",
          "Global Index (EUR)",
          "Global Index (EUR)",
          "Global Index (EUR)",
          "Global Index (EUR)",
          "Global Index (EUR)",
          "Global Index (EUR)",
          "Global Index (EUR)",
          "Global Index (EUR)",
          "Global Index (EUR)",
          "Global Index (EUR)",
          "Global Index (EUR)",
          "Global Index (EUR)",
          "Global Index (EUR)",
          "Global Index (EUR)",
          "Global Index (EUR)",
          "Global Index (EUR)",
          "Global Index (EUR)",
          "Global Index (EUR)",
          "Global Index (EUR)",
          "Global Index (EUR)",
          "Global Index (EUR)",
          "Global Index (EUR)",
          "Global Index (EUR)",
          "Global Index (EUR)",
          "Global Index (EUR)",
          "Global Index (EUR)",
          "Global Index (EUR)",
          "Global Index (EUR)",
          "Global Index (EUR)",
          "Global Index (EUR)",
          "Global Index (EUR)",
          "Global Index (EUR)",
          "Global Index (EUR)",
          "Global Index (EUR)",
          "Global Index (EUR)",
          "Global Index (EUR)",
          "Global Index (EUR)",
          "Global Index (EUR)",
          "Global Index (EUR)",
          "Global Index (EUR)",
          "Global Index (EUR)",
          "Global Index (EUR)",
          "Painting",
          "Painting",
          "Painting",
          "Painting",
          "Painting",
          "Painting",
          "Painting",
          "Painting",
          "Painting",
          "Painting",
          "Painting",
          "Painting",
          "Painting",
          "Painting",
          "Painting",
          "Painting",
          "Painting",
          "Painting",
          "Painting",
          "Painting",
          "Painting",
          "Painting",
          "Painting",
          "Painting",
          "Painting",
          "Painting",
          "Painting",
          "Painting",
          "Painting",
          "Painting",
          "Painting",
          "Painting",
          "Painting",
          "Painting",
          "Painting",
          "Painting",
          "Painting",
          "Painting",
          "Painting",
          "Painting",
          "Painting",
          "Painting",
          "Painting",
          "Painting",
          "Painting",
          "Painting",
          "Painting",
          "Painting",
          "Painting",
          "Painting",
          "Painting",
          "Painting",
          "Painting",
          "Painting",
          "Painting",
          "Painting",
          "Painting",
          "Painting",
          "Painting",
          "Painting",
          "Painting",
          "Painting",
          "Painting",
          "Painting",
          "Painting",
          "Painting",
          "Painting",
          "Painting",
          "Painting",
          "Painting",
          "Painting",
          "Painting",
          "Painting",
          "Painting",
          "Painting",
          "Painting",
          "Painting",
          "Painting",
          "Painting",
          "Painting",
          "Painting",
          "Painting",
          "Painting",
          "Painting",
          "Painting",
          "Painting",
          "Painting",
          "Painting",
          "Painting",
          "Painting",
          "Sculpture",
          "Sculpture",
          "Sculpture",
          "Sculpture",
          "Sculpture",
          "Sculpture",
          "Sculpture",
          "Sculpture",
          "Sculpture",
          "Sculpture",
          "Sculpture",
          "Sculpture",
          "Sculpture",
          "Sculpture",
          "Sculpture",
          "Sculpture",
          "Sculpture",
          "Sculpture",
          "Sculpture",
          "Sculpture",
          "Sculpture",
          "Sculpture",
          "Sculpture",
          "Sculpture",
          "Sculpture",
          "Sculpture",
          "Sculpture",
          "Sculpture",
          "Sculpture",
          "Sculpture",
          "Sculpture",
          "Sculpture",
          "Sculpture",
          "Sculpture",
          "Sculpture",
          "Sculpture",
          "Sculpture",
          "Sculpture",
          "Sculpture",
          "Sculpture",
          "Sculpture",
          "Sculpture",
          "Sculpture",
          "Sculpture",
          "Sculpture",
          "Sculpture",
          "Sculpture",
          "Sculpture",
          "Sculpture",
          "Sculpture",
          "Sculpture",
          "Sculpture",
          "Sculpture",
          "Sculpture",
          "Sculpture",
          "Sculpture",
          "Sculpture",
          "Sculpture",
          "Sculpture",
          "Sculpture",
          "Sculpture",
          "Sculpture",
          "Sculpture",
          "Sculpture",
          "Sculpture",
          "Sculpture",
          "Sculpture",
          "Sculpture",
          "Sculpture",
          "Sculpture",
          "Sculpture",
          "Sculpture",
          "Sculpture",
          "Sculpture",
          "Sculpture",
          "Sculpture",
          "Sculpture",
          "Sculpture",
          "Sculpture",
          "Sculpture",
          "Sculpture",
          "Sculpture",
          "Sculpture",
          "Sculpture",
          "Sculpture",
          "Sculpture",
          "Sculpture",
          "Sculpture",
          "Sculpture",
          "Sculpture",
          "Photography",
          "Photography",
          "Photography",
          "Photography",
          "Photography",
          "Photography",
          "Photography",
          "Photography",
          "Photography",
          "Photography",
          "Photography",
          "Photography",
          "Photography",
          "Photography",
          "Photography",
          "Photography",
          "Photography",
          "Photography",
          "Photography",
          "Photography",
          "Photography",
          "Photography",
          "Photography",
          "Photography",
          "Photography",
          "Photography",
          "Photography",
          "Photography",
          "Photography",
          "Photography",
          "Photography",
          "Photography",
          "Photography",
          "Photography",
          "Photography",
          "Photography",
          "Photography",
          "Photography",
          "Photography",
          "Photography",
          "Photography",
          "Photography",
          "Photography",
          "Photography",
          "Photography",
          "Photography",
          "Photography",
          "Photography",
          "Photography",
          "Photography",
          "Photography",
          "Photography",
          "Photography",
          "Photography",
          "Photography",
          "Photography",
          "Photography",
          "Photography",
          "Photography",
          "Photography",
          "Photography",
          "Photography",
          "Photography",
          "Photography",
          "Photography",
          "Photography",
          "Photography",
          "Photography",
          "Photography",
          "Photography",
          "Photography",
          "Photography",
          "Photography",
          "Photography",
          "Photography",
          "Photography",
          "Photography",
          "Photography",
          "Photography",
          "Photography",
          "Photography",
          "Photography",
          "Photography",
          "Photography",
          "Photography",
          "Photography",
          "Photography",
          "Photography",
          "Photography",
          "Photography",
          "Drawing",
          "Drawing",
          "Drawing",
          "Drawing",
          "Drawing",
          "Drawing",
          "Drawing",
          "Drawing",
          "Drawing",
          "Drawing",
          "Drawing",
          "Drawing",
          "Drawing",
          "Drawing",
          "Drawing",
          "Drawing",
          "Drawing",
          "Drawing",
          "Drawing",
          "Drawing",
          "Drawing",
          "Drawing",
          "Drawing",
          "Drawing",
          "Drawing",
          "Drawing",
          "Drawing",
          "Drawing",
          "Drawing",
          "Drawing",
          "Drawing",
          "Drawing",
          "Drawing",
          "Drawing",
          "Drawing",
          "Drawing",
          "Drawing",
          "Drawing",
          "Drawing",
          "Drawing",
          "Drawing",
          "Drawing",
          "Drawing",
          "Drawing",
          "Drawing",
          "Drawing",
          "Drawing",
          "Drawing",
          "Drawing",
          "Drawing",
          "Drawing",
          "Drawing",
          "Drawing",
          "Drawing",
          "Drawing",
          "Drawing",
          "Drawing",
          "Drawing",
          "Drawing",
          "Drawing",
          "Drawing",
          "Drawing",
          "Drawing",
          "Drawing",
          "Drawing",
          "Drawing",
          "Drawing",
          "Drawing",
          "Drawing",
          "Drawing",
          "Drawing",
          "Drawing",
          "Drawing",
          "Drawing",
          "Drawing",
          "Drawing",
          "Drawing",
          "Drawing",
          "Drawing",
          "Drawing",
          "Drawing",
          "Drawing",
          "Drawing",
          "Drawing",
          "Drawing",
          "Drawing",
          "Drawing",
          "Drawing",
          "Drawing",
          "Drawing",
          "Print",
          "Print",
          "Print",
          "Print",
          "Print",
          "Print",
          "Print",
          "Print",
          "Print",
          "Print",
          "Print",
          "Print",
          "Print",
          "Print",
          "Print",
          "Print",
          "Print",
          "Print",
          "Print",
          "Print",
          "Print",
          "Print",
          "Print",
          "Print",
          "Print",
          "Print",
          "Print",
          "Print",
          "Print",
          "Print",
          "Print",
          "Print",
          "Print",
          "Print",
          "Print",
          "Print",
          "Print",
          "Print",
          "Print",
          "Print",
          "Print",
          "Print",
          "Print",
          "Print",
          "Print",
          "Print",
          "Print",
          "Print",
          "Print",
          "Print",
          "Print",
          "Print",
          "Print",
          "Print",
          "Print",
          "Print",
          "Print",
          "Print",
          "Print",
          "Print",
          "Print",
          "Print",
          "Print",
          "Print",
          "Print",
          "Print",
          "Print",
          "Print",
          "Print",
          "Print",
          "Print",
          "Print",
          "Print",
          "Print",
          "Print",
          "Print",
          "Print",
          "Print",
          "Print",
          "Print",
          "Print",
          "Print",
          "Print",
          "Print",
          "Print",
          "Print",
          "Print",
          "Print",
          "Print",
          "Print",
          "19th Century",
          "19th Century",
          "19th Century",
          "19th Century",
          "19th Century",
          "19th Century",
          "19th Century",
          "19th Century",
          "19th Century",
          "19th Century",
          "19th Century",
          "19th Century",
          "19th Century",
          "19th Century",
          "19th Century",
          "19th Century",
          "19th Century",
          "19th Century",
          "19th Century",
          "19th Century",
          "19th Century",
          "19th Century",
          "19th Century",
          "19th Century",
          "19th Century",
          "19th Century",
          "19th Century",
          "19th Century",
          "19th Century",
          "19th Century",
          "19th Century",
          "19th Century",
          "19th Century",
          "19th Century",
          "19th Century",
          "19th Century",
          "19th Century",
          "19th Century",
          "19th Century",
          "19th Century",
          "19th Century",
          "19th Century",
          "19th Century",
          "19th Century",
          "19th Century",
          "19th Century",
          "19th Century",
          "19th Century",
          "19th Century",
          "19th Century",
          "19th Century",
          "19th Century",
          "19th Century",
          "19th Century",
          "19th Century",
          "19th Century",
          "19th Century",
          "19th Century",
          "19th Century",
          "19th Century",
          "19th Century",
          "19th Century",
          "19th Century",
          "19th Century",
          "19th Century",
          "19th Century",
          "19th Century",
          "19th Century",
          "19th Century",
          "19th Century",
          "19th Century",
          "19th Century",
          "19th Century",
          "19th Century",
          "19th Century",
          "19th Century",
          "19th Century",
          "19th Century",
          "19th Century",
          "19th Century",
          "19th Century",
          "19th Century",
          "19th Century",
          "19th Century",
          "19th Century",
          "19th Century",
          "19th Century",
          "19th Century",
          "19th Century",
          "19th Century",
          "Modern Art",
          "Modern Art",
          "Modern Art",
          "Modern Art",
          "Modern Art",
          "Modern Art",
          "Modern Art",
          "Modern Art",
          "Modern Art",
          "Modern Art",
          "Modern Art",
          "Modern Art",
          "Modern Art",
          "Modern Art",
          "Modern Art",
          "Modern Art",
          "Modern Art",
          "Modern Art",
          "Modern Art",
          "Modern Art",
          "Modern Art",
          "Modern Art",
          "Modern Art",
          "Modern Art",
          "Modern Art",
          "Modern Art",
          "Modern Art",
          "Modern Art",
          "Modern Art",
          "Modern Art",
          "Modern Art",
          "Modern Art",
          "Modern Art",
          "Modern Art",
          "Modern Art",
          "Modern Art",
          "Modern Art",
          "Modern Art",
          "Modern Art",
          "Modern Art",
          "Modern Art",
          "Modern Art",
          "Modern Art",
          "Modern Art",
          "Modern Art",
          "Modern Art",
          "Modern Art",
          "Modern Art",
          "Modern Art",
          "Modern Art",
          "Modern Art",
          "Modern Art",
          "Modern Art",
          "Modern Art",
          "Modern Art",
          "Modern Art",
          "Modern Art",
          "Modern Art",
          "Modern Art",
          "Modern Art",
          "Modern Art",
          "Modern Art",
          "Modern Art",
          "Modern Art",
          "Modern Art",
          "Modern Art",
          "Modern Art",
          "Modern Art",
          "Modern Art",
          "Modern Art",
          "Modern Art",
          "Modern Art",
          "Modern Art",
          "Modern Art",
          "Modern Art",
          "Modern Art",
          "Modern Art",
          "Modern Art",
          "Modern Art",
          "Modern Art",
          "Modern Art",
          "Modern Art",
          "Modern Art",
          "Modern Art",
          "Modern Art",
          "Modern Art",
          "Modern Art",
          "Modern Art",
          "Modern Art",
          "Modern Art",
          "Post-War",
          "Post-War",
          "Post-War",
          "Post-War",
          "Post-War",
          "Post-War",
          "Post-War",
          "Post-War",
          "Post-War",
          "Post-War",
          "Post-War",
          "Post-War",
          "Post-War",
          "Post-War",
          "Post-War",
          "Post-War",
          "Post-War",
          "Post-War",
          "Post-War",
          "Post-War",
          "Post-War",
          "Post-War",
          "Post-War",
          "Post-War",
          "Post-War",
          "Post-War",
          "Post-War",
          "Post-War",
          "Post-War",
          "Post-War",
          "Post-War",
          "Post-War",
          "Post-War",
          "Post-War",
          "Post-War",
          "Post-War",
          "Post-War",
          "Post-War",
          "Post-War",
          "Post-War",
          "Post-War",
          "Post-War",
          "Post-War",
          "Post-War",
          "Post-War",
          "Post-War",
          "Post-War",
          "Post-War",
          "Post-War",
          "Post-War",
          "Post-War",
          "Post-War",
          "Post-War",
          "Post-War",
          "Post-War",
          "Post-War",
          "Post-War",
          "Post-War",
          "Post-War",
          "Post-War",
          "Post-War",
          "Post-War",
          "Post-War",
          "Post-War",
          "Post-War",
          "Post-War",
          "Post-War",
          "Post-War",
          "Post-War",
          "Post-War",
          "Post-War",
          "Post-War",
          "Post-War",
          "Post-War",
          "Post-War",
          "Post-War",
          "Post-War",
          "Post-War",
          "Post-War",
          "Post-War",
          "Post-War",
          "Post-War",
          "Post-War",
          "Post-War",
          "Post-War",
          "Post-War",
          "Post-War",
          "Post-War",
          "Post-War",
          "Post-War",
          "Contemporary",
          "Contemporary",
          "Contemporary",
          "Contemporary",
          "Contemporary",
          "Contemporary",
          "Contemporary",
          "Contemporary",
          "Contemporary",
          "Contemporary",
          "Contemporary",
          "Contemporary",
          "Contemporary",
          "Contemporary",
          "Contemporary",
          "Contemporary",
          "Contemporary",
          "Contemporary",
          "Contemporary",
          "Contemporary",
          "Contemporary",
          "Contemporary",
          "Contemporary",
          "Contemporary",
          "Contemporary",
          "Contemporary",
          "Contemporary",
          "Contemporary",
          "Contemporary",
          "Contemporary",
          "Contemporary",
          "Contemporary",
          "Contemporary",
          "Contemporary",
          "Contemporary",
          "Contemporary",
          "Contemporary",
          "Contemporary",
          "Contemporary",
          "Contemporary",
          "Contemporary",
          "Contemporary",
          "Contemporary",
          "Contemporary",
          "Contemporary",
          "Contemporary",
          "Contemporary",
          "Contemporary",
          "Contemporary",
          "Contemporary",
          "Contemporary",
          "Contemporary",
          "Contemporary",
          "Contemporary",
          "Contemporary",
          "Contemporary",
          "Contemporary",
          "Contemporary",
          "Contemporary",
          "Contemporary",
          "Contemporary",
          "Contemporary",
          "Contemporary",
          "Contemporary",
          "Contemporary",
          "Contemporary",
          "Contemporary",
          "Contemporary",
          "Contemporary",
          "Contemporary",
          "Contemporary",
          "Contemporary",
          "Contemporary",
          "Contemporary",
          "Contemporary",
          "Contemporary",
          "Contemporary",
          "Contemporary",
          "Contemporary",
          "Contemporary",
          "Contemporary",
          "Contemporary",
          "Contemporary",
          "Contemporary",
          "Contemporary",
          "Contemporary",
          "Contemporary",
          "Contemporary",
          "Contemporary",
          "Contemporary",
          "USA (USD)",
          "USA (USD)",
          "USA (USD)",
          "USA (USD)",
          "USA (USD)",
          "USA (USD)",
          "USA (USD)",
          "USA (USD)",
          "USA (USD)",
          "USA (USD)",
          "USA (USD)",
          "USA (USD)",
          "USA (USD)",
          "USA (USD)",
          "USA (USD)",
          "USA (USD)",
          "USA (USD)",
          "USA (USD)",
          "USA (USD)",
          "USA (USD)",
          "USA (USD)",
          "USA (USD)",
          "USA (USD)",
          "USA (USD)",
          "USA (USD)",
          "USA (USD)",
          "USA (USD)",
          "USA (USD)",
          "USA (USD)",
          "USA (USD)",
          "USA (USD)",
          "USA (USD)",
          "USA (USD)",
          "USA (USD)",
          "USA (USD)",
          "USA (USD)",
          "USA (USD)",
          "USA (USD)",
          "USA (USD)",
          "USA (USD)",
          "USA (USD)",
          "USA (USD)",
          "USA (USD)",
          "USA (USD)",
          "USA (USD)",
          "USA (USD)",
          "USA (USD)",
          "USA (USD)",
          "USA (USD)",
          "USA (USD)",
          "USA (USD)",
          "USA (USD)",
          "USA (USD)",
          "USA (USD)",
          "USA (USD)",
          "USA (USD)",
          "USA (USD)",
          "USA (USD)",
          "USA (USD)",
          "USA (USD)",
          "USA (USD)",
          "USA (USD)",
          "USA (USD)",
          "USA (USD)",
          "USA (USD)",
          "USA (USD)",
          "USA (USD)",
          "USA (USD)",
          "USA (USD)",
          "USA (USD)",
          "USA (USD)",
          "USA (USD)",
          "USA (USD)",
          "USA (USD)",
          "USA (USD)",
          "USA (USD)",
          "USA (USD)",
          "USA (USD)",
          "USA (USD)",
          "USA (USD)",
          "USA (USD)",
          "USA (USD)",
          "USA (USD)",
          "USA (USD)",
          "USA (USD)",
          "USA (USD)",
          "USA (USD)",
          "USA (USD)",
          "USA (USD)",
          "USA (USD)",
          "UK (GBP)",
          "UK (GBP)",
          "UK (GBP)",
          "UK (GBP)",
          "UK (GBP)",
          "UK (GBP)",
          "UK (GBP)",
          "UK (GBP)",
          "UK (GBP)",
          "UK (GBP)",
          "UK (GBP)",
          "UK (GBP)",
          "UK (GBP)",
          "UK (GBP)",
          "UK (GBP)",
          "UK (GBP)",
          "UK (GBP)",
          "UK (GBP)",
          "UK (GBP)",
          "UK (GBP)",
          "UK (GBP)",
          "UK (GBP)",
          "UK (GBP)",
          "UK (GBP)",
          "UK (GBP)",
          "UK (GBP)",
          "UK (GBP)",
          "UK (GBP)",
          "UK (GBP)",
          "UK (GBP)",
          "UK (GBP)",
          "UK (GBP)",
          "UK (GBP)",
          "UK (GBP)",
          "UK (GBP)",
          "UK (GBP)",
          "UK (GBP)",
          "UK (GBP)",
          "UK (GBP)",
          "UK (GBP)",
          "UK (GBP)",
          "UK (GBP)",
          "UK (GBP)",
          "UK (GBP)",
          "UK (GBP)",
          "UK (GBP)",
          "UK (GBP)",
          "UK (GBP)",
          "UK (GBP)",
          "UK (GBP)",
          "UK (GBP)",
          "UK (GBP)",
          "UK (GBP)",
          "UK (GBP)",
          "UK (GBP)",
          "UK (GBP)",
          "UK (GBP)",
          "UK (GBP)",
          "UK (GBP)",
          "UK (GBP)",
          "UK (GBP)",
          "UK (GBP)",
          "UK (GBP)",
          "UK (GBP)",
          "UK (GBP)",
          "UK (GBP)",
          "UK (GBP)",
          "UK (GBP)",
          "UK (GBP)",
          "UK (GBP)",
          "UK (GBP)",
          "UK (GBP)",
          "UK (GBP)",
          "UK (GBP)",
          "UK (GBP)",
          "UK (GBP)",
          "UK (GBP)",
          "UK (GBP)",
          "UK (GBP)",
          "UK (GBP)",
          "UK (GBP)",
          "UK (GBP)",
          "UK (GBP)",
          "UK (GBP)",
          "UK (GBP)",
          "UK (GBP)",
          "UK (GBP)",
          "UK (GBP)",
          "UK (GBP)",
          "UK (GBP)",
          "France (EUR)",
          "France (EUR)",
          "France (EUR)",
          "France (EUR)",
          "France (EUR)",
          "France (EUR)",
          "France (EUR)",
          "France (EUR)",
          "France (EUR)",
          "France (EUR)",
          "France (EUR)",
          "France (EUR)",
          "France (EUR)",
          "France (EUR)",
          "France (EUR)",
          "France (EUR)",
          "France (EUR)",
          "France (EUR)",
          "France (EUR)",
          "France (EUR)",
          "France (EUR)",
          "France (EUR)",
          "France (EUR)",
          "France (EUR)",
          "France (EUR)",
          "France (EUR)",
          "France (EUR)",
          "France (EUR)",
          "France (EUR)",
          "France (EUR)",
          "France (EUR)",
          "France (EUR)",
          "France (EUR)",
          "France (EUR)",
          "France (EUR)",
          "France (EUR)",
          "France (EUR)",
          "France (EUR)",
          "France (EUR)",
          "France (EUR)",
          "France (EUR)",
          "France (EUR)",
          "France (EUR)",
          "France (EUR)",
          "France (EUR)",
          "France (EUR)",
          "France (EUR)",
          "France (EUR)",
          "France (EUR)",
          "France (EUR)",
          "France (EUR)",
          "France (EUR)",
          "France (EUR)",
          "France (EUR)",
          "France (EUR)",
          "France (EUR)",
          "France (EUR)",
          "France (EUR)",
          "France (EUR)",
          "France (EUR)",
          "France (EUR)",
          "France (EUR)",
          "France (EUR)",
          "France (EUR)",
          "France (EUR)",
          "France (EUR)",
          "France (EUR)",
          "France (EUR)",
          "France (EUR)",
          "France (EUR)",
          "France (EUR)",
          "France (EUR)",
          "France (EUR)",
          "France (EUR)",
          "France (EUR)",
          "France (EUR)",
          "France (EUR)",
          "France (EUR)",
          "France (EUR)",
          "France (EUR)",
          "France (EUR)",
          "France (EUR)",
          "France (EUR)",
          "France (EUR)",
          "France (EUR)",
          "France (EUR)",
          "France (EUR)",
          "France (EUR)",
          "France (EUR)",
          "France (EUR)"
         ],
         "x0": " ",
         "xaxis": "x",
         "y": [
          0.07000000000000006,
          -0.009345794392523366,
          -0.09433962264150941,
          0.08333333333333326,
          -0.009615384615384581,
          0.009708737864077666,
          0,
          0.08653846153846145,
          0.026548672566371723,
          -0.03448275862068961,
          0.02678571428571419,
          -0.09565217391304348,
          0.17307692307692313,
          -0.12295081967213117,
          0,
          0,
          0.028037383177569986,
          0,
          0.018181818181818077,
          0.1339285714285714,
          0.10236220472440949,
          0,
          -0.12857142857142856,
          0.16393442622950816,
          0.09154929577464799,
          -0.006451612903225823,
          0.006493506493506551,
          0.05161290322580636,
          0.14723926380368102,
          -0.05882352941176472,
          -0.09090909090909094,
          0.1312500000000001,
          -0.016574585635359074,
          0.0898876404494382,
          -0.1391752577319587,
          0.17365269461077837,
          0.15816326530612246,
          0.026431718061673992,
          -0.14592274678111583,
          0.20603015075376874,
          -0.054166666666666696,
          0.05726872246696035,
          -0.18333333333333335,
          -0.1071428571428571,
          -0.17142857142857137,
          0.2068965517241379,
          -0.17142857142857137,
          0.31034482758620685,
          -0.05789473684210522,
          -0.03351955307262566,
          -0.12716763005780352,
          0.3708609271523178,
          -0.09661835748792269,
          0.2994652406417113,
          -0.12757201646090532,
          -0.037735849056603765,
          -0.3578431372549019,
          0.45038167938931295,
          -0.18947368421052635,
          0.2987012987012987,
          -0.06000000000000005,
          0.06914893617021267,
          -0.05472636815920395,
          0.021052631578947434,
          -0.09278350515463918,
          0.17613636363636354,
          0.06763285024154597,
          0.05429864253393668,
          -0.223175965665236,
          -0.06077348066298338,
          -0.10588235294117643,
          0.07236842105263164,
          -0.08588957055214719,
          0.020134228187919545,
          -0.11842105263157898,
          0.26865671641791056,
          -0.21764705882352942,
          0.16541353383458657,
          -0.1225806451612903,
          0.2058823529411764,
          -0.1707317073170732,
          0.11764705882352944,
          -0.19736842105263153,
          0.16393442622950816,
          -0.12676056338028174,
          0.10483870967741926,
          -0.17518248175182483,
          0.21238938053097356,
          -0.13868613138686137,
          0.05084745762711873,
          0.10000000000000009,
          -0.036363636363636376,
          -0.09433962264150941,
          0.04166666666666674,
          0.040000000000000036,
          0.07692307692307687,
          0.008928571428571397,
          0.08849557522123885,
          0.08130081300813008,
          0.015037593984962516,
          0.04444444444444451,
          -0.028368794326241176,
          0.07299270072992692,
          -0.0680272108843537,
          -0.014598540145985384,
          -0.014814814814814836,
          0.06015037593984962,
          -0.06382978723404253,
          -0.037878787878787845,
          0.11811023622047245,
          0.028169014084507005,
          -0.06164383561643838,
          -0.10948905109489049,
          0.10655737704918034,
          0.03703703703703698,
          0.014285714285714235,
          0,
          -0.014084507042253502,
          0.13571428571428568,
          -0.018867924528301883,
          -0.0641025641025641,
          0.17123287671232879,
          -0.03508771929824561,
          0.042424242424242475,
          -0.14534883720930236,
          0.14965986394557818,
          0.14792899408284033,
          0,
          -0.1649484536082474,
          0.14197530864197527,
          -0.08648648648648649,
          0.01775147928994092,
          -0.15697674418604646,
          0.02758620689655178,
          -0.16778523489932884,
          0.14516129032258074,
          -0.204225352112676,
          0.2743362831858407,
          0.01388888888888884,
          0.0547945205479452,
          -0.14935064935064934,
          0.3129770992366412,
          -0.11046511627906974,
          0.24183006535947715,
          -0.1105263157894737,
          0,
          -0.33136094674556216,
          0.47787610619469034,
          -0.18562874251497008,
          0.2720588235294117,
          -0.07514450867052025,
          0.08125000000000004,
          -0.07514450867052025,
          -0.006249999999999978,
          -0.09433962264150941,
          0.17361111111111116,
          0.10650887573964507,
          0.12299465240641716,
          -0.14761904761904765,
          -0.03910614525139666,
          -0.11046511627906974,
          0.0980392156862746,
          -0.10119047619047616,
          0,
          -0.11920529801324509,
          0.3308270676691729,
          -0.20903954802259883,
          0.11428571428571432,
          -0.17307692307692313,
          0.20930232558139528,
          -0.21153846153846156,
          0.1707317073170731,
          -0.1875,
          0.19658119658119655,
          -0.12142857142857144,
          0.11382113821138207,
          -0.16788321167883213,
          0.21052631578947367,
          -0.1376811594202898,
          0.05882352941176472,
          0.09000000000000008,
          -0.01834862385321101,
          -0.03738317757009346,
          0.03883495145631066,
          0.06542056074766345,
          0.00877192982456143,
          0,
          0.017391304347825987,
          0.008547008547008517,
          0.008474576271186418,
          -0.01680672268907568,
          -0.05128205128205132,
          0,
          0.009009009009008917,
          -0.008928571428571397,
          0.027027027027026973,
          0.026315789473684292,
          0.02564102564102555,
          0.02499999999999991,
          0.07317073170731714,
          0.06818181818181812,
          -0.028368794326241176,
          0.007299270072992803,
          0.11594202898550732,
          0.09090909090909083,
          0.011904761904761862,
          0.0117647058823529,
          0.058139534883721034,
          0.0494505494505495,
          -0.020942408376963373,
          -0.03208556149732622,
          0.011049723756906049,
          0.05464480874316946,
          0.020725388601036343,
          0.010152284263959421,
          0.09547738693467345,
          0.10550458715596323,
          0.03319502074688807,
          0,
          0.032128514056224855,
          0.035019455252918386,
          -0.03759398496240607,
          -0.1015625,
          -0.09999999999999998,
          -0.03864734299516903,
          -0.015075376884422065,
          -0.015306122448979553,
          0.051813471502590636,
          0.029556650246305383,
          -0.062200956937799035,
          -0.04081632653061229,
          0.06914893617021267,
          0.05970149253731338,
          -0.023474178403755874,
          -0.04807692307692313,
          -0.04040404040404044,
          -0.03157894736842104,
          -0.04347826086956519,
          -0.03409090909090906,
          0,
          0.01764705882352935,
          0.005780346820809301,
          -0.005747126436781658,
          0.011560693641618602,
          0.017142857142857126,
          0,
          -0.016853932584269704,
          -0.040000000000000036,
          -0.0535714285714286,
          -0.02515723270440251,
          -0.012903225806451646,
          -0.02614379084967322,
          -0.020134228187919434,
          -0.03424657534246578,
          -0.049645390070921946,
          0,
          0.014925373134328401,
          -0.014705882352941124,
          -0.014925373134328401,
          0.007575757575757569,
          0.022556390977443552,
          -0.022058823529411797,
          -0.052631578947368474,
          0,
          0,
          -0.03968253968253965,
          -0.04132231404958675,
          0,
          0.008620689655172376,
          0.02564102564102555,
          0.3899999999999999,
          -0.043165467625899234,
          -0.03759398496240607,
          0.03125,
          0.015151515151515138,
          0,
          0.04477611940298498,
          0,
          -0.021428571428571463,
          -0.007299270072992692,
          -0.014705882352941124,
          0.04477611940298498,
          0.050000000000000044,
          -0.07482993197278909,
          -0.07352941176470584,
          0.015873015873015817,
          0.03125,
          0.007575757575757569,
          0.022556390977443552,
          0.05147058823529416,
          0.07692307692307687,
          0.05844155844155852,
          0.024539877300613577,
          0.0239520958083832,
          0.011695906432748648,
          -0.005780346820809301,
          0,
          0.05232558139534893,
          0.05524861878453047,
          -0.04712041884816753,
          -0.0494505494505495,
          0.01734104046242768,
          0.03409090909090917,
          0.04395604395604402,
          0.010526315789473717,
          0.08333333333333326,
          0.13942307692307687,
          0.05485232067510548,
          0.0040000000000000036,
          0.03585657370517925,
          0.03076923076923066,
          -0.02985074626865669,
          -0.09999999999999998,
          -0.16666666666666663,
          -0.06666666666666665,
          0.03846153846153855,
          0.015873015873015817,
          0.03645833333333326,
          -0.01005025125628145,
          -0.060913705583756306,
          0.0108108108108107,
          0.09625668449197855,
          0.07804878048780495,
          0,
          -0.009049773755656076,
          -0.0182648401826484,
          -0.037209302325581395,
          -0.03864734299516903,
          -0.04020100502512558,
          0.005235602094240788,
          0.02604166666666674,
          -0.055837563451776595,
          -0.06451612903225812,
          0.06896551724137923,
          0.06451612903225801,
          -0.015151515151515138,
          -0.05641025641025643,
          -0.05434782608695654,
          -0.017241379310344862,
          -0.01754385964912286,
          -0.04166666666666663,
          -0.04347826086956519,
          -0.012987012987012991,
          0,
          -0.006578947368421018,
          -0.026490066225165587,
          -0.006802721088435382,
          0.03424657534246567,
          0.026490066225165476,
          0,
          -0.012903225806451646,
          -0.0326797385620915,
          -0.03378378378378377,
          -0.020979020979020935,
          0.021428571428571352,
          0.006993006993007089,
          -0.00694444444444442,
          0,
          0.006993006993007089,
          0.05555555555555558,
          -0.040000000000000036,
          -0.02083333333333337,
          -0.0957446808510638,
          -0.0117647058823529,
          0.011904761904761862,
          0,
          0.08235294117647052,
          0.36956521739130443,
          0.23809523809523814,
          -0.10256410256410253,
          -0.15714285714285714,
          0.09322033898305082,
          0.1472868217054264,
          -0.08783783783783783,
          -0.11851851851851847,
          0.01680672268907557,
          0.024793388429751984,
          0.048387096774193505,
          0.05384615384615388,
          0.10948905109489049,
          0.07894736842105265,
          -0.054878048780487854,
          -0.07741935483870965,
          0,
          0.15384615384615374,
          0.1454545454545455,
          0.010582010582010692,
          0.010471204188481575,
          0.015544041450777257,
          -0.05102040816326525,
          0.005376344086021501,
          0.11764705882352944,
          0.05263157894736836,
          -0.05909090909090908,
          -0.048309178743961345,
          0.09644670050761417,
          0.1435185185185186,
          0.00809716599190291,
          -0.02008032128514059,
          0.020491803278688492,
          0.012048192771084265,
          -0.023809523809523836,
          -0.14634146341463417,
          -0.09523809523809523,
          0.021052631578947434,
          -0.05154639175257736,
          -0.03804347826086951,
          0.11864406779661008,
          0.08080808080808088,
          -0.12616822429906538,
          -0.10160427807486627,
          0.17261904761904767,
          0.17258883248730972,
          -0.008658008658008698,
          -0.08296943231441045,
          -0.06190476190476191,
          -0.050761421319796995,
          -0.04278074866310155,
          0.022346368715083775,
          0.05464480874316946,
          0,
          0,
          0.010362694300518172,
          0,
          0.02564102564102555,
          0.040000000000000036,
          0.009615384615384581,
          -0.01904761904761909,
          0,
          -0.05339805825242716,
          -0.05128205128205132,
          0.027027027027026973,
          -0.0052631578947368585,
          -0.010582010582010581,
          -0.016042780748663055,
          -0.09782608695652173,
          -0.01807228915662651,
          0.11042944785276076,
          0.07734806629834257,
          0.03076923076923066,
          -0.03980099502487566,
          -0.13989637305699487,
          -0.11445783132530118,
          0.054421768707483054,
          0.04516129032258065,
          -0.01851851851851849,
          0.0062893081761006275,
          0.018750000000000044,
          -0.012269938650306789,
          0.024844720496894457,
          0.040000000000000036,
          0.019230769230769162,
          0.028301886792452935,
          -0.00917431192660545,
          -0.04629629629629628,
          -0.009708737864077666,
          0.009803921568627416,
          0.058252427184465994,
          0.04587155963302747,
          0,
          -0.00877192982456143,
          0.008849557522123908,
          -0.00877192982456143,
          -0.026548672566371723,
          0,
          0,
          -0.009090909090909038,
          -0.03669724770642202,
          0.07619047619047614,
          0.18584070796460184,
          0.11194029850746268,
          -0.046979865771812124,
          -0.1338028169014085,
          0.05691056910569103,
          0.17692307692307696,
          0.05228758169934644,
          0.03105590062111796,
          0.04819277108433728,
          0.028735632183908066,
          -0.027932960893854775,
          -0.02298850574712641,
          0.09411764705882364,
          0.08602150537634401,
          -0.01980198019801982,
          -0.06060606060606055,
          0.021505376344086002,
          0.06842105263157894,
          -0.08866995073891626,
          -0.0972972972972973,
          0.08383233532934131,
          0.06629834254143652,
          -0.03626943005181349,
          -0.10752688172043012,
          -0.18674698795180722,
          -0.15555555555555556,
          -0.01754385964912286,
          0.1160714285714286,
          0.21599999999999997,
          0.125,
          -0.011695906432748537,
          0.08284023668639051,
          0.14754098360655732,
          0.13809523809523805,
          0.17154811715481166,
          -0.0071428571428571175,
          -0.20503597122302153,
          -0.19004524886877827,
          0.03910614525139655,
          0.10752688172043001,
          0.09708737864077666,
          0.05752212389380529,
          0.004184100418409997,
          0,
          -0.050000000000000044,
          -0.013157894736842146,
          0.10666666666666669,
          0.12851405622489964,
          0.05693950177935947,
          -0.07070707070707072,
          -0.1630434782608695,
          -0.10389610389610393,
          -0.004830917874396157,
          -0.043689320388349495,
          -0.09137055837563457,
          0.06145251396648055,
          0.1210526315789473,
          -0.06572769953051638,
          -0.07537688442211055,
          0.048913043478260976,
          0.031088082901554515,
          -0.0653266331658291,
          -0.053763440860215006,
          -0.02840909090909094,
          -0.040935672514619936,
          -0.04268292682926833,
          -0.04458598726114649,
          -0.020000000000000018,
          0.020408163265306145,
          -0.07999999999999996,
          -0.02898550724637683,
          0.1399999999999999,
          0.11403508771929816,
          -0.03149606299212604,
          -0.11382113821138207,
          0,
          0.12844036697247696,
          0.05691056910569103,
          -0.05384615384615388,
          0,
          0.08943089430894302,
          0.03731343283582089,
          -0.021582733812949617,
          0.03676470588235303,
          -0.049645390070921946,
          -0.10447761194029848,
          0.05833333333333335,
          0.11023622047244097,
          -0.014184397163120588,
          -0.06474820143884896,
          0.03076923076923066,
          0.11940298507462677,
          0.09333333333333327,
          -0.030487804878048808,
          -0.02515723270440251,
          0.08387096774193559,
          0.011904761904761862,
          0,
          0.1352941176470588,
          0.11917098445595853,
          0.0092592592592593,
          -0.050458715596330306,
          -0.009661835748792313,
          0.019512195121951237,
          -0.019138755980861233,
          0.019512195121951237,
          0.1004784688995215,
          0.12608695652173907,
          0.1660231660231659,
          0.14238410596026485,
          0.04057971014492745,
          -0.06406685236768805,
          -0.1339285714285714,
          -0.15807560137457044,
          -0.10204081632653061,
          -0.09090909090909094,
          -0.04500000000000004,
          0.08376963350785349,
          0.06280193236714982,
          0,
          -0.027272727272727226,
          -0.032710280373831724,
          0.04347826086956519,
          0.08333333333333326,
          -0.008547008547008517,
          -0.06034482758620685,
          -0.041284403669724745,
          -0.009569377990430672,
          0.033816425120772875,
          0.028037383177569986,
          0.013636363636363669,
          -0.013452914798206317,
          -0.009090909090909038,
          -0.00917431192660545,
          0.06481481481481488,
          0.09565217391304337,
          0.01984126984126977,
          0,
          -0.035019455252918275,
          -0.08467741935483875,
          -0.048458149779735726,
          -0.02314814814814814,
          0.014218009478673022,
          0.01869158878504673,
          0,
          0,
          -0.00917431192660545,
          0,
          0,
          -0.0092592592592593,
          0.028037383177569986,
          0.045454545454545414,
          0.008695652173912993,
          -0.008620689655172376,
          -0.04347826086956519,
          -0.027272727272727226,
          0,
          0.009345794392523255,
          0.0092592592592593,
          -0.00917431192660545,
          0.04166666666666674,
          0.10000000000000009,
          0.07272727272727275,
          0.03389830508474567,
          -0.024590163934426257,
          -0.050420168067226934,
          -0.008849557522123908,
          -0.008928571428571397,
          -0.018018018018018056,
          -0.02752293577981646,
          0.018867924528301883,
          0.02777777777777768,
          -0.009009009009009028,
          0.05454545454545445,
          0.034482758620689724,
          -0.08333333333333337,
          -0.0636363636363636,
          0,
          0.029126213592232997,
          0.028301886792452935,
          0.0183486238532109,
          0.10810810810810811,
          0.05691056910569103,
          -0.0461538461538461,
          -0.040322580645161255,
          0.008403361344537785,
          0.15833333333333344,
          0.1151079136690647,
          -0.05161290322580647,
          -0.061224489795918324,
          -0.07971014492753625,
          -0.047244094488189003,
          0.06611570247933884,
          0.07751937984496116,
          0.05755395683453246,
          0.027210884353741527,
          0.10596026490066235,
          0.14970059880239517,
          -0.03645833333333337,
          -0.048648648648648596,
          -0.03977272727272729,
          -0.10059171597633132,
          0.006578947368421018,
          -0.02614379084967322,
          -0.11409395973154357,
          -0.022727272727272707,
          0.03100775193798455,
          -0.022556390977443663,
          -0.06153846153846154,
          -0.024590163934426257,
          0.12605042016806722,
          0.09701492537313428,
          -0.07482993197278909,
          -0.044117647058823484,
          0.07692307692307687,
          0.04285714285714293,
          -0.1095890410958904,
          -0.16153846153846152,
          0.0183486238532109,
          0.072072072072072,
          -0.050420168067226934,
          -0.026548672566371723,
          0.045454545454545414,
          0.0608695652173914,
          0.016393442622950838,
          -0.040322580645161255,
          -0.09243697478991597,
          -0.08333333333333337,
          0.030303030303030276,
          -0.039215686274509776,
          -0.1428571428571429,
          -0.0714285714285714,
          0.05128205128205132,
          0.060975609756097615,
          0.011494252873563315,
          -0.07954545454545459,
          -0.07407407407407407,
          0.01333333333333342,
          0.013157894736842035,
          0.01298701298701288,
          -0.02564102564102566,
          -0.10526315789473684,
          -0.05882352941176472,
          -0.0625,
          0,
          0.050000000000000044,
          -0.015873015873015928,
          0.06451612903225801,
          0.06060606060606055,
          -0.02857142857142858,
          -0.05882352941176472,
          -0.020000000000000018,
          -0.010204081632653073,
          -0.030927835051546393,
          -0.07446808510638303,
          -0.06896551724137934,
          0,
          0.07407407407407418,
          0.13793103448275867,
          0.101010101010101,
          0.03669724770642202,
          0.008849557522123908,
          -0.04385964912280704,
          -0.02752293577981646,
          -0.009433962264150941,
          0.00952380952380949,
          0,
          -0.047169811320754707,
          -0.03960396039603964,
          0.061855670103092786,
          0.15533980582524265,
          0.10924369747899165,
          -0.045454545454545414,
          -0.0714285714285714,
          0.03418803418803429,
          0.07438016528925617,
          -0.007692307692307665,
          -0.023255813953488413,
          0.1507936507936507,
          0.15172413793103456,
          -0.005988023952095856,
          -0.030120481927710885,
          0.05590062111801242,
          0.06470588235294117,
          -0.05524861878453036,
          -0.07602339181286555,
          0.120253164556962,
          0.15254237288135597,
          0.004901960784313708,
          -0.004878048780487809,
          0.03431372549019618,
          0.004739336492890933,
          -0.06603773584905659,
          -0.15656565656565657,
          -0.12574850299401197,
          -0.0273972602739726,
          -0.014084507042253502,
          -0.0071428571428571175,
          0.1007194244604317,
          0.065359477124183,
          -0.030674846625766916,
          0.018987341772152,
          0.07453416149068315,
          0.10982658959537561,
          0.16145833333333326,
          0.03139013452914807,
          -0.15217391304347827,
          -0.18461538461538463,
          -0.08805031446540879,
          0,
          0.096551724137931,
          0.1132075471698113,
          0.04519774011299438,
          -0.027027027027026973,
          -0.033333333333333326,
          0.06896551724137923,
          0.09677419354838701,
          0.03431372549019618,
          -0.028436018957345932,
          -0.1121951219512195,
          -0.14835164835164838,
          -0.07096774193548383,
          0.03472222222222232,
          -0.006711409395973145,
          -0.09459459459459463,
          0,
          0.08955223880597019,
          0.006849315068493178,
          -0.03401360544217691,
          0.021126760563380254,
          0,
          -0.11724137931034484,
          -0.109375,
          0,
          0.03508771929824572,
          0,
          -0.05932203389830504,
          -0.04504504504504503,
          0.0660377358490567,
          0.017699115044247815,
          0.026086956521739202,
          0.1399999999999999,
          -0.01754385964912286,
          -0.0892857142857143,
          0.05882352941176472,
          0.12962962962962954,
          0.06557377049180335,
          0.03846153846153855,
          0.03703703703703698,
          0.0071428571428571175,
          0,
          0.007092198581560183,
          0,
          0.028169014084507005,
          0,
          -0.03424657534246578,
          0,
          0.07092198581560294,
          0.026490066225165476,
          0.006451612903225712,
          0.14743589743589736,
          0.0893854748603351,
          -0.06666666666666665,
          -0.038461538461538436,
          0.0971428571428572,
          0.09895833333333326,
          0.014218009478673022,
          0.01869158878504673,
          0.07339449541284404,
          0.05128205128205132,
          0.008130081300812941,
          0.040322580645161255,
          0.003875968992248069,
          0.007722007722007707,
          0.09195402298850586,
          0.09122807017543866,
          0.07395498392282951,
          0.08083832335329344,
          0.08310249307479234,
          0.01790281329923271,
          0.03266331658291466,
          0.06082725060827254,
          -0.041284403669724745,
          -0.1411483253588517,
          -0.1392757660167131,
          -0.035598705501618144,
          -0.016778523489932917,
          -0.04095563139931746,
          0.07117437722419928,
          0.06976744186046502,
          -0.06832298136645965,
          -0.030000000000000027,
          0.15463917525773185,
          0.1160714285714286,
          -0.040000000000000036,
          -0.061111111111111116,
          -0.017751479289940808,
          0,
          -0.01807228915662651,
          0.009202453987730008,
          0.0607902735562309,
          -0.014326647564469885,
          -0.09011627906976749,
          -0.06389776357827481,
          0.058020477815699634,
          0.12903225806451624,
          0.03142857142857136,
          -0.027700831024930705,
          0.002849002849002913,
          0.011363636363636465,
          -0.005617977528089901,
          -0.01412429378531077,
          -0.011461318051575908,
          -0.02608695652173909,
          -0.038690476190476164,
          -0.02786377708978327,
          -0.04458598726114649,
          -0.040000000000000036,
          0.01041666666666674,
          0.037800687285223455,
          0.01655629139072845,
          0,
          -0.039087947882736174,
          -0.04067796610169494,
          0.010600706713780994,
          0.02447552447552437,
          -0.03754266211604096,
          -0.05673758865248224,
          0.015037593984962516,
          0.025925925925925908,
          0,
          0.010000000000000009,
          0.07920792079207928,
          0.04587155963302747,
          -0.01754385964912286,
          -0.0535714285714286,
          -0.047169811320754707,
          0.07920792079207928,
          0.21100917431192667,
          0.0984848484848484,
          0.048275862068965614,
          0.046052631578947345,
          -0.08176100628930816,
          -0.136986301369863,
          -0.0714285714285714,
          -0.07692307692307687,
          0.04629629629629628,
          0.18584070796460184,
          0.09701492537313428,
          0.03401360544217691,
          0,
          0.07236842105263164,
          0.036809815950920255,
          -0.09467455621301779,
          0.11764705882352944,
          0.1871345029239766,
          0.08866995073891615,
          0.0678733031674208,
          -0.016949152542372836,
          -0.008620689655172376,
          -0.008695652173912993,
          -0.00877192982456143,
          0.1327433628318584,
          0.125,
          -0.05902777777777779,
          -0.08118081180811809,
          0.10040160642570273,
          0.12408759124087587,
          -0.012987012987012991,
          -0.06578947368421051,
          0.021126760563380254,
          0.01724137931034475,
          -0.016949152542372836,
          -0.07241379310344831,
          -0.1189591078066915,
          -0.03797468354430378,
          0.03508771929824572,
          0.05084745762711873,
          0.08467741935483875,
          0.055762081784386686,
          -0.11971830985915488,
          -0.14400000000000002,
          0.11214953271028039,
          0.1386554621848739,
          0.0627306273062731,
          0.02777777777777768,
          -0.010135135135135087,
          -0.0068259385665528916,
          -0.02405498281786944,
          -0.05633802816901412,
          -0.03731343283582089,
          0,
          -0.027131782945736482,
          -0.003984063745019917,
          0.03200000000000003,
          -0.007751937984496138,
          0.02734375,
          0.015209125475285079,
          -0.1123595505617978,
          -0.1561181434599156,
          -0.07999999999999996,
          -0.03804347826086951,
          0.016949152542372836,
          0.11111111111111116,
          0.125,
          0.040000000000000036,
          -0.004273504273504258,
          0.025751072961373467,
          -0.008368200836820106,
          -0.03797468354430378,
          0.07894736842105265,
          0.10569105691056913,
          0,
          -0.047794117647058876,
          -0.0424710424710425,
          -0.040322580645161255,
          -0.012605042016806678,
          -0.008510638297872353,
          0.01716738197424883,
          0.016877637130801704,
          0.10788381742738595,
          -0.00952380952380949,
          -0.038461538461538436,
          0.020000000000000018,
          0.019607843137254832,
          0,
          0.028846153846153744,
          0.04672897196261672,
          0.02678571428571419,
          -0.008695652173912993,
          -0.01754385964912286,
          0,
          0.017857142857142794,
          -0.02631578947368418,
          -0.036036036036036,
          0.009345794392523255,
          0.0185185185185186,
          0.009090909090909038,
          0.03603603603603611,
          0.09565217391304337,
          0.08730158730158721,
          -0.007299270072992692,
          -0.02941176470588236,
          0.06060606060606055,
          0.07857142857142851,
          0.019867549668874274,
          0.01948051948051943,
          0.06369426751592355,
          0.06586826347305386,
          -0.016853932584269704,
          -0.03428571428571425,
          0.035502958579881616,
          0.040000000000000036,
          0.005494505494505475,
          -0.010928961748633892,
          0.08287292817679548,
          0.12755102040816335,
          0.009049773755656076,
          -0.022421524663677084,
          0.03669724770642202,
          0.03539823008849563,
          -0.03418803418803418,
          -0.11061946902654862,
          -0.14427860696517414,
          -0.06976744186046513,
          0,
          0.018750000000000044,
          0.07975460122699385,
          0.022727272727272707,
          -0.061111111111111116,
          0.01183431952662728,
          0.09941520467836251,
          0.0957446808510638,
          0.07281553398058249,
          -0.013574660633484115,
          -0.13761467889908252,
          -0.12765957446808507,
          0.012195121951219523,
          0.04819277108433728,
          0.06321839080459779,
          0.048648648648648596,
          0.005154639175257714,
          -0.00512820512820511,
          -0.030927835051546393,
          0,
          0.07978723404255317,
          0.08866995073891615,
          -0.018099547511312264,
          -0.11981566820276501,
          -0.12041884816753923,
          -0.0535714285714286,
          -0.012578616352201255,
          -0.02547770700636942,
          -0.039215686274509776,
          0.006802721088435382,
          0.027027027027026973,
          -0.02631578947368418,
          -0.020270270270270285,
          0.020689655172413834,
          0.013513513513513598,
          -0.020000000000000018,
          -0.04081632653061229,
          -0.04255319148936165,
          -0.022222222222222254,
          0,
          -0.030303030303030276,
          -0.0234375,
          0.008000000000000007,
          -0.015873015873015928,
          0.016129032258064502,
          -0.04761904761904767,
          -0.020000000000000018,
          -0.030612244897959218,
          0.021052631578947434,
          0.030927835051546282,
          0.010000000000000009,
          0.02970297029702973,
          0.04807692307692313,
          0.03669724770642202,
          0.03539823008849563,
          0.017094017094017033,
          0.025210084033613356,
          0.016393442622950838,
          -0.024193548387096753,
          -0.024793388429752095,
          0.008474576271186418,
          0.01680672268907557,
          -0.016528925619834656,
          0,
          0.07563025210084029,
          0.0625,
          -0.022058823529411797,
          -0.045112781954887216,
          0.023622047244094446,
          0.03076923076923066,
          0.014925373134328401,
          0.007352941176470562,
          0.04379562043795615,
          0.05594405594405605,
          0,
          -0.0066225165562914245,
          0.05333333333333323,
          0.03164556962025311,
          -0.018404907975460127,
          -0.043749999999999956,
          0.065359477124183,
          0.09815950920245409,
          0,
          -0.04469273743016755,
          0.040935672514619936,
          0.04494382022471921,
          -0.016129032258064502,
          -0.049180327868852514,
          -0.028735632183908066,
          0,
          -0.029585798816568087,
          -0.024390243902439046,
          0.08125000000000004,
          0.06936416184971095,
          -0.037837837837837784,
          -0.011235955056179803,
          0.07954545454545459,
          0.07894736842105265,
          0.06341463414634152,
          -0.004587155963302725,
          -0.12442396313364057,
          -0.12631578947368416,
          0.006024096385542244,
          0.041916167664670656,
          0.06896551724137923,
          0.06451612903225801,
          0.010101010101010166,
          -0.020000000000000018,
          -0.056122448979591844,
          -0.021621621621621623,
          0.06629834254143652,
          0.10362694300518127,
          0.018779342723004744,
          -0.09216589861751157,
          -0.11675126903553301,
          -0.05747126436781613,
          0.012195121951219523,
          0.012048192771084265,
          -0.005952380952380931,
          0.05988023952095811,
          0.07909604519774005,
          -0.020942408376963373,
          -0.04278074866310155,
          0,
          -0.011173184357541888,
          -0.03389830508474578,
          -0.03508771929824561,
          -0.012121212121212088,
          0,
          -0.006134969325153339,
          -0.01851851851851849,
          -0.012578616352201255,
          0,
          -0.01273885350318471,
          0.032258064516129004,
          -0.09375,
          0.07000000000000006,
          -0.01869158878504673,
          -0.04761904761904767,
          0,
          0.050000000000000044,
          0.04761904761904767,
          0.045454545454545414,
          0.06956521739130439,
          0.06504065040650397,
          0.03816793893129766,
          0.014705882352941124,
          0.021739130434782705,
          0.007092198581560183,
          -0.021126760563380254,
          -0.02877697841726623,
          0.007407407407407307,
          0.007352941176470562,
          -0.029197080291970767,
          -0.007518796992481258,
          0.05303030303030298,
          0.02877697841726623,
          -0.04895104895104896,
          -0.05147058823529416,
          0.03100775193798455,
          0.04511278195488733,
          0.021582733812949728,
          0,
          0.021126760563380254,
          0.06206896551724128,
          0,
          0.006493506493506551,
          0.05161290322580636,
          0.030674846625766916,
          -0.023809523809523836,
          -0.030487804878048808,
          0.0691823899371069,
          0.10588235294117654,
          -0.010638297872340385,
          -0.05913978494623651,
          0,
          -0.005714285714285672,
          -0.05747126436781613,
          -0.06707317073170727,
          -0.07189542483660127,
          -0.04929577464788737,
          -0.03703703703703709,
          -0.01538461538461533,
          0.0703125,
          0.07299270072992692,
          -0.006802721088435382,
          0.006849315068493178,
          0.06802721088435382,
          0.06369426751592355,
          0.0479041916167664,
          -0.005714285714285672,
          -0.10919540229885061,
          -0.09677419354838712,
          0.04285714285714293,
          0.047945205479452024,
          0.05228758169934644,
          0.037267080745341685,
          0,
          -0.0239520958083832,
          -0.049079754601227044,
          -0.006451612903225823,
          0.0844155844155845,
          0.12574850299401197,
          0.0478723404255319,
          -0.060913705583756306,
          -0.08648648648648649,
          -0.047337278106508895,
          -0.006211180124223614,
          -0.03125,
          -0.05161290322580647,
          0.013605442176870763,
          0.05369127516778516,
          -0.02547770700636942,
          -0.04575163398692805,
          -0.020547945205479423,
          -0.013986013986013957,
          -0.028368794326241176,
          -0.03649635036496346,
          -0.022727272727272707,
          0.007751937984496138,
          0.007692307692307665,
          -0.022900763358778664,
          -0.015625,
          0.015873015873015817,
          -0.015625,
          0
         ],
         "y0": " ",
         "yaxis": "y"
        }
       ],
       "layout": {
        "autosize": true,
        "boxmode": "group",
        "legend": {
         "tracegroupgap": 0
        },
        "template": {
         "data": {
          "bar": [
           {
            "error_x": {
             "color": "#2a3f5f"
            },
            "error_y": {
             "color": "#2a3f5f"
            },
            "marker": {
             "line": {
              "color": "#E5ECF6",
              "width": 0.5
             }
            },
            "type": "bar"
           }
          ],
          "barpolar": [
           {
            "marker": {
             "line": {
              "color": "#E5ECF6",
              "width": 0.5
             }
            },
            "type": "barpolar"
           }
          ],
          "carpet": [
           {
            "aaxis": {
             "endlinecolor": "#2a3f5f",
             "gridcolor": "white",
             "linecolor": "white",
             "minorgridcolor": "white",
             "startlinecolor": "#2a3f5f"
            },
            "baxis": {
             "endlinecolor": "#2a3f5f",
             "gridcolor": "white",
             "linecolor": "white",
             "minorgridcolor": "white",
             "startlinecolor": "#2a3f5f"
            },
            "type": "carpet"
           }
          ],
          "choropleth": [
           {
            "colorbar": {
             "outlinewidth": 0,
             "ticks": ""
            },
            "type": "choropleth"
           }
          ],
          "contour": [
           {
            "colorbar": {
             "outlinewidth": 0,
             "ticks": ""
            },
            "colorscale": [
             [
              0,
              "#0d0887"
             ],
             [
              0.1111111111111111,
              "#46039f"
             ],
             [
              0.2222222222222222,
              "#7201a8"
             ],
             [
              0.3333333333333333,
              "#9c179e"
             ],
             [
              0.4444444444444444,
              "#bd3786"
             ],
             [
              0.5555555555555556,
              "#d8576b"
             ],
             [
              0.6666666666666666,
              "#ed7953"
             ],
             [
              0.7777777777777778,
              "#fb9f3a"
             ],
             [
              0.8888888888888888,
              "#fdca26"
             ],
             [
              1,
              "#f0f921"
             ]
            ],
            "type": "contour"
           }
          ],
          "contourcarpet": [
           {
            "colorbar": {
             "outlinewidth": 0,
             "ticks": ""
            },
            "type": "contourcarpet"
           }
          ],
          "heatmap": [
           {
            "colorbar": {
             "outlinewidth": 0,
             "ticks": ""
            },
            "colorscale": [
             [
              0,
              "#0d0887"
             ],
             [
              0.1111111111111111,
              "#46039f"
             ],
             [
              0.2222222222222222,
              "#7201a8"
             ],
             [
              0.3333333333333333,
              "#9c179e"
             ],
             [
              0.4444444444444444,
              "#bd3786"
             ],
             [
              0.5555555555555556,
              "#d8576b"
             ],
             [
              0.6666666666666666,
              "#ed7953"
             ],
             [
              0.7777777777777778,
              "#fb9f3a"
             ],
             [
              0.8888888888888888,
              "#fdca26"
             ],
             [
              1,
              "#f0f921"
             ]
            ],
            "type": "heatmap"
           }
          ],
          "heatmapgl": [
           {
            "colorbar": {
             "outlinewidth": 0,
             "ticks": ""
            },
            "colorscale": [
             [
              0,
              "#0d0887"
             ],
             [
              0.1111111111111111,
              "#46039f"
             ],
             [
              0.2222222222222222,
              "#7201a8"
             ],
             [
              0.3333333333333333,
              "#9c179e"
             ],
             [
              0.4444444444444444,
              "#bd3786"
             ],
             [
              0.5555555555555556,
              "#d8576b"
             ],
             [
              0.6666666666666666,
              "#ed7953"
             ],
             [
              0.7777777777777778,
              "#fb9f3a"
             ],
             [
              0.8888888888888888,
              "#fdca26"
             ],
             [
              1,
              "#f0f921"
             ]
            ],
            "type": "heatmapgl"
           }
          ],
          "histogram": [
           {
            "marker": {
             "colorbar": {
              "outlinewidth": 0,
              "ticks": ""
             }
            },
            "type": "histogram"
           }
          ],
          "histogram2d": [
           {
            "colorbar": {
             "outlinewidth": 0,
             "ticks": ""
            },
            "colorscale": [
             [
              0,
              "#0d0887"
             ],
             [
              0.1111111111111111,
              "#46039f"
             ],
             [
              0.2222222222222222,
              "#7201a8"
             ],
             [
              0.3333333333333333,
              "#9c179e"
             ],
             [
              0.4444444444444444,
              "#bd3786"
             ],
             [
              0.5555555555555556,
              "#d8576b"
             ],
             [
              0.6666666666666666,
              "#ed7953"
             ],
             [
              0.7777777777777778,
              "#fb9f3a"
             ],
             [
              0.8888888888888888,
              "#fdca26"
             ],
             [
              1,
              "#f0f921"
             ]
            ],
            "type": "histogram2d"
           }
          ],
          "histogram2dcontour": [
           {
            "colorbar": {
             "outlinewidth": 0,
             "ticks": ""
            },
            "colorscale": [
             [
              0,
              "#0d0887"
             ],
             [
              0.1111111111111111,
              "#46039f"
             ],
             [
              0.2222222222222222,
              "#7201a8"
             ],
             [
              0.3333333333333333,
              "#9c179e"
             ],
             [
              0.4444444444444444,
              "#bd3786"
             ],
             [
              0.5555555555555556,
              "#d8576b"
             ],
             [
              0.6666666666666666,
              "#ed7953"
             ],
             [
              0.7777777777777778,
              "#fb9f3a"
             ],
             [
              0.8888888888888888,
              "#fdca26"
             ],
             [
              1,
              "#f0f921"
             ]
            ],
            "type": "histogram2dcontour"
           }
          ],
          "mesh3d": [
           {
            "colorbar": {
             "outlinewidth": 0,
             "ticks": ""
            },
            "type": "mesh3d"
           }
          ],
          "parcoords": [
           {
            "line": {
             "colorbar": {
              "outlinewidth": 0,
              "ticks": ""
             }
            },
            "type": "parcoords"
           }
          ],
          "pie": [
           {
            "automargin": true,
            "type": "pie"
           }
          ],
          "scatter": [
           {
            "marker": {
             "colorbar": {
              "outlinewidth": 0,
              "ticks": ""
             }
            },
            "type": "scatter"
           }
          ],
          "scatter3d": [
           {
            "line": {
             "colorbar": {
              "outlinewidth": 0,
              "ticks": ""
             }
            },
            "marker": {
             "colorbar": {
              "outlinewidth": 0,
              "ticks": ""
             }
            },
            "type": "scatter3d"
           }
          ],
          "scattercarpet": [
           {
            "marker": {
             "colorbar": {
              "outlinewidth": 0,
              "ticks": ""
             }
            },
            "type": "scattercarpet"
           }
          ],
          "scattergeo": [
           {
            "marker": {
             "colorbar": {
              "outlinewidth": 0,
              "ticks": ""
             }
            },
            "type": "scattergeo"
           }
          ],
          "scattergl": [
           {
            "marker": {
             "colorbar": {
              "outlinewidth": 0,
              "ticks": ""
             }
            },
            "type": "scattergl"
           }
          ],
          "scattermapbox": [
           {
            "marker": {
             "colorbar": {
              "outlinewidth": 0,
              "ticks": ""
             }
            },
            "type": "scattermapbox"
           }
          ],
          "scatterpolar": [
           {
            "marker": {
             "colorbar": {
              "outlinewidth": 0,
              "ticks": ""
             }
            },
            "type": "scatterpolar"
           }
          ],
          "scatterpolargl": [
           {
            "marker": {
             "colorbar": {
              "outlinewidth": 0,
              "ticks": ""
             }
            },
            "type": "scatterpolargl"
           }
          ],
          "scatterternary": [
           {
            "marker": {
             "colorbar": {
              "outlinewidth": 0,
              "ticks": ""
             }
            },
            "type": "scatterternary"
           }
          ],
          "surface": [
           {
            "colorbar": {
             "outlinewidth": 0,
             "ticks": ""
            },
            "colorscale": [
             [
              0,
              "#0d0887"
             ],
             [
              0.1111111111111111,
              "#46039f"
             ],
             [
              0.2222222222222222,
              "#7201a8"
             ],
             [
              0.3333333333333333,
              "#9c179e"
             ],
             [
              0.4444444444444444,
              "#bd3786"
             ],
             [
              0.5555555555555556,
              "#d8576b"
             ],
             [
              0.6666666666666666,
              "#ed7953"
             ],
             [
              0.7777777777777778,
              "#fb9f3a"
             ],
             [
              0.8888888888888888,
              "#fdca26"
             ],
             [
              1,
              "#f0f921"
             ]
            ],
            "type": "surface"
           }
          ],
          "table": [
           {
            "cells": {
             "fill": {
              "color": "#EBF0F8"
             },
             "line": {
              "color": "white"
             }
            },
            "header": {
             "fill": {
              "color": "#C8D4E3"
             },
             "line": {
              "color": "white"
             }
            },
            "type": "table"
           }
          ]
         },
         "layout": {
          "annotationdefaults": {
           "arrowcolor": "#2a3f5f",
           "arrowhead": 0,
           "arrowwidth": 1
          },
          "coloraxis": {
           "colorbar": {
            "outlinewidth": 0,
            "ticks": ""
           }
          },
          "colorscale": {
           "diverging": [
            [
             0,
             "#8e0152"
            ],
            [
             0.1,
             "#c51b7d"
            ],
            [
             0.2,
             "#de77ae"
            ],
            [
             0.3,
             "#f1b6da"
            ],
            [
             0.4,
             "#fde0ef"
            ],
            [
             0.5,
             "#f7f7f7"
            ],
            [
             0.6,
             "#e6f5d0"
            ],
            [
             0.7,
             "#b8e186"
            ],
            [
             0.8,
             "#7fbc41"
            ],
            [
             0.9,
             "#4d9221"
            ],
            [
             1,
             "#276419"
            ]
           ],
           "sequential": [
            [
             0,
             "#0d0887"
            ],
            [
             0.1111111111111111,
             "#46039f"
            ],
            [
             0.2222222222222222,
             "#7201a8"
            ],
            [
             0.3333333333333333,
             "#9c179e"
            ],
            [
             0.4444444444444444,
             "#bd3786"
            ],
            [
             0.5555555555555556,
             "#d8576b"
            ],
            [
             0.6666666666666666,
             "#ed7953"
            ],
            [
             0.7777777777777778,
             "#fb9f3a"
            ],
            [
             0.8888888888888888,
             "#fdca26"
            ],
            [
             1,
             "#f0f921"
            ]
           ],
           "sequentialminus": [
            [
             0,
             "#0d0887"
            ],
            [
             0.1111111111111111,
             "#46039f"
            ],
            [
             0.2222222222222222,
             "#7201a8"
            ],
            [
             0.3333333333333333,
             "#9c179e"
            ],
            [
             0.4444444444444444,
             "#bd3786"
            ],
            [
             0.5555555555555556,
             "#d8576b"
            ],
            [
             0.6666666666666666,
             "#ed7953"
            ],
            [
             0.7777777777777778,
             "#fb9f3a"
            ],
            [
             0.8888888888888888,
             "#fdca26"
            ],
            [
             1,
             "#f0f921"
            ]
           ]
          },
          "colorway": [
           "#636efa",
           "#EF553B",
           "#00cc96",
           "#ab63fa",
           "#FFA15A",
           "#19d3f3",
           "#FF6692",
           "#B6E880",
           "#FF97FF",
           "#FECB52"
          ],
          "font": {
           "color": "#2a3f5f"
          },
          "geo": {
           "bgcolor": "white",
           "lakecolor": "white",
           "landcolor": "#E5ECF6",
           "showlakes": true,
           "showland": true,
           "subunitcolor": "white"
          },
          "hoverlabel": {
           "align": "left"
          },
          "hovermode": "closest",
          "mapbox": {
           "style": "light"
          },
          "paper_bgcolor": "white",
          "plot_bgcolor": "#E5ECF6",
          "polar": {
           "angularaxis": {
            "gridcolor": "white",
            "linecolor": "white",
            "ticks": ""
           },
           "bgcolor": "#E5ECF6",
           "radialaxis": {
            "gridcolor": "white",
            "linecolor": "white",
            "ticks": ""
           }
          },
          "scene": {
           "xaxis": {
            "backgroundcolor": "#E5ECF6",
            "gridcolor": "white",
            "gridwidth": 2,
            "linecolor": "white",
            "showbackground": true,
            "ticks": "",
            "zerolinecolor": "white"
           },
           "yaxis": {
            "backgroundcolor": "#E5ECF6",
            "gridcolor": "white",
            "gridwidth": 2,
            "linecolor": "white",
            "showbackground": true,
            "ticks": "",
            "zerolinecolor": "white"
           },
           "zaxis": {
            "backgroundcolor": "#E5ECF6",
            "gridcolor": "white",
            "gridwidth": 2,
            "linecolor": "white",
            "showbackground": true,
            "ticks": "",
            "zerolinecolor": "white"
           }
          },
          "shapedefaults": {
           "line": {
            "color": "#2a3f5f"
           }
          },
          "ternary": {
           "aaxis": {
            "gridcolor": "white",
            "linecolor": "white",
            "ticks": ""
           },
           "baxis": {
            "gridcolor": "white",
            "linecolor": "white",
            "ticks": ""
           },
           "bgcolor": "#E5ECF6",
           "caxis": {
            "gridcolor": "white",
            "linecolor": "white",
            "ticks": ""
           }
          },
          "title": {
           "x": 0.05
          },
          "xaxis": {
           "automargin": true,
           "gridcolor": "white",
           "linecolor": "white",
           "ticks": "",
           "title": {
            "standoff": 15
           },
           "zerolinecolor": "white",
           "zerolinewidth": 2
          },
          "yaxis": {
           "automargin": true,
           "gridcolor": "white",
           "linecolor": "white",
           "ticks": "",
           "title": {
            "standoff": 15
           },
           "zerolinecolor": "white",
           "zerolinewidth": 2
          }
         }
        },
        "title": {
         "text": "Art Price STD 1998-2020"
        },
        "xaxis": {
         "anchor": "y",
         "autorange": true,
         "domain": [
          0,
          1
         ],
         "range": [
          -0.5,
          13.5
         ],
         "title": {
          "text": "variable"
         },
         "type": "category"
        },
        "yaxis": {
         "anchor": "x",
         "autorange": true,
         "domain": [
          0,
          1
         ],
         "range": [
          -0.4042719841132126,
          0.5243049530530011
         ],
         "title": {
          "text": "value"
         },
         "type": "linear"
        }
       }
      },
      "image/png": "[encoded data removed]",
      "text/html": [
       "<div>                            <div id=\"dd6ffec9-ba4f-469c-9d57-795b7b462bd0\" class=\"plotly-graph-div\" style=\"height:525px; width:100%;\"></div>            <script type=\"text/javascript\">                require([\"plotly\"], function(Plotly) {                    window.PLOTLYENV=window.PLOTLYENV || {};                                    if (document.getElementById(\"dd6ffec9-ba4f-469c-9d57-795b7b462bd0\")) {                    Plotly.newPlot(                        \"dd6ffec9-ba4f-469c-9d57-795b7b462bd0\",                        [{\"alignmentgroup\": \"True\", \"hovertemplate\": \"variable=%{x}<br>value=%{y}<extra></extra>\", \"legendgroup\": \"\", \"marker\": {\"color\": \"#636efa\"}, \"name\": \"\", \"notched\": false, \"offsetgroup\": \"\", \"orientation\": \"v\", \"showlegend\": false, \"type\": \"box\", \"x\": [\"Global Index (USD)\", \"Global Index (USD)\", \"Global Index (USD)\", \"Global Index (USD)\", \"Global Index (USD)\", \"Global Index (USD)\", \"Global Index (USD)\", \"Global Index (USD)\", \"Global Index (USD)\", \"Global Index (USD)\", \"Global Index (USD)\", \"Global Index (USD)\", \"Global Index (USD)\", \"Global Index (USD)\", \"Global Index (USD)\", \"Global Index (USD)\", \"Global Index (USD)\", \"Global Index (USD)\", \"Global Index (USD)\", \"Global Index (USD)\", \"Global Index (USD)\", \"Global Index (USD)\", \"Global Index (USD)\", \"Global Index (USD)\", \"Global Index (USD)\", \"Global Index (USD)\", \"Global Index (USD)\", \"Global Index (USD)\", \"Global Index (USD)\", \"Global Index (USD)\", \"Global Index (USD)\", \"Global Index (USD)\", \"Global Index (USD)\", \"Global Index (USD)\", \"Global Index (USD)\", \"Global Index (USD)\", \"Global Index (USD)\", \"Global Index (USD)\", \"Global Index (USD)\", \"Global Index (USD)\", \"Global Index (USD)\", \"Global Index (USD)\", \"Global Index (USD)\", \"Global Index (USD)\", \"Global Index (USD)\", \"Global Index (USD)\", \"Global Index (USD)\", \"Global Index (USD)\", \"Global Index (USD)\", \"Global Index (USD)\", \"Global Index (USD)\", \"Global Index (USD)\", \"Global Index (USD)\", \"Global Index (USD)\", \"Global Index (USD)\", \"Global Index (USD)\", \"Global Index (USD)\", \"Global Index (USD)\", \"Global Index (USD)\", \"Global Index (USD)\", \"Global Index (USD)\", \"Global Index (USD)\", \"Global Index (USD)\", \"Global Index (USD)\", \"Global Index (USD)\", \"Global Index (USD)\", \"Global Index (USD)\", \"Global Index (USD)\", \"Global Index (USD)\", \"Global Index (USD)\", \"Global Index (USD)\", \"Global Index (USD)\", \"Global Index (USD)\", \"Global Index (USD)\", \"Global Index (USD)\", \"Global Index (USD)\", \"Global Index (USD)\", \"Global Index (USD)\", \"Global Index (USD)\", \"Global Index (USD)\", \"Global Index (USD)\", \"Global Index (USD)\", \"Global Index (USD)\", \"Global Index (USD)\", \"Global Index (USD)\", \"Global Index (USD)\", \"Global Index (USD)\", \"Global Index (USD)\", \"Global Index (USD)\", \"Global Index (USD)\", \"Global Index (EUR)\", \"Global Index (EUR)\", \"Global Index (EUR)\", \"Global Index (EUR)\", \"Global Index (EUR)\", \"Global Index (EUR)\", \"Global Index (EUR)\", \"Global Index (EUR)\", \"Global Index (EUR)\", \"Global Index (EUR)\", \"Global Index (EUR)\", \"Global Index (EUR)\", \"Global Index (EUR)\", \"Global Index (EUR)\", \"Global Index (EUR)\", \"Global Index (EUR)\", \"Global Index (EUR)\", \"Global Index (EUR)\", \"Global Index (EUR)\", \"Global Index (EUR)\", \"Global Index (EUR)\", \"Global Index (EUR)\", \"Global Index (EUR)\", \"Global Index (EUR)\", \"Global Index (EUR)\", \"Global Index (EUR)\", \"Global Index (EUR)\", \"Global Index (EUR)\", \"Global Index (EUR)\", \"Global Index (EUR)\", \"Global Index (EUR)\", \"Global Index (EUR)\", \"Global Index (EUR)\", \"Global Index (EUR)\", \"Global Index (EUR)\", \"Global Index (EUR)\", \"Global Index (EUR)\", \"Global Index (EUR)\", \"Global Index (EUR)\", \"Global Index (EUR)\", \"Global Index (EUR)\", \"Global Index (EUR)\", \"Global Index (EUR)\", \"Global Index (EUR)\", \"Global Index (EUR)\", \"Global Index (EUR)\", \"Global Index (EUR)\", \"Global Index (EUR)\", \"Global Index (EUR)\", \"Global Index (EUR)\", \"Global Index (EUR)\", \"Global Index (EUR)\", \"Global Index (EUR)\", \"Global Index (EUR)\", \"Global Index (EUR)\", \"Global Index (EUR)\", \"Global Index (EUR)\", \"Global Index (EUR)\", \"Global Index (EUR)\", \"Global Index (EUR)\", \"Global Index (EUR)\", \"Global Index (EUR)\", \"Global Index (EUR)\", \"Global Index (EUR)\", \"Global Index (EUR)\", \"Global Index (EUR)\", \"Global Index (EUR)\", \"Global Index (EUR)\", \"Global Index (EUR)\", \"Global Index (EUR)\", \"Global Index (EUR)\", \"Global Index (EUR)\", \"Global Index (EUR)\", \"Global Index (EUR)\", \"Global Index (EUR)\", \"Global Index (EUR)\", \"Global Index (EUR)\", \"Global Index (EUR)\", \"Global Index (EUR)\", \"Global Index (EUR)\", \"Global Index (EUR)\", \"Global Index (EUR)\", \"Global Index (EUR)\", \"Global Index (EUR)\", \"Global Index (EUR)\", \"Global Index (EUR)\", \"Global Index (EUR)\", \"Global Index (EUR)\", \"Global Index (EUR)\", \"Global Index (EUR)\", \"Painting\", \"Painting\", \"Painting\", \"Painting\", \"Painting\", \"Painting\", \"Painting\", \"Painting\", \"Painting\", \"Painting\", \"Painting\", \"Painting\", \"Painting\", \"Painting\", \"Painting\", \"Painting\", \"Painting\", \"Painting\", \"Painting\", \"Painting\", \"Painting\", \"Painting\", \"Painting\", \"Painting\", \"Painting\", \"Painting\", \"Painting\", \"Painting\", \"Painting\", \"Painting\", \"Painting\", \"Painting\", \"Painting\", \"Painting\", \"Painting\", \"Painting\", \"Painting\", \"Painting\", \"Painting\", \"Painting\", \"Painting\", \"Painting\", \"Painting\", \"Painting\", \"Painting\", \"Painting\", \"Painting\", \"Painting\", \"Painting\", \"Painting\", \"Painting\", \"Painting\", \"Painting\", \"Painting\", \"Painting\", \"Painting\", \"Painting\", \"Painting\", \"Painting\", \"Painting\", \"Painting\", \"Painting\", \"Painting\", \"Painting\", \"Painting\", \"Painting\", \"Painting\", \"Painting\", \"Painting\", \"Painting\", \"Painting\", \"Painting\", \"Painting\", \"Painting\", \"Painting\", \"Painting\", \"Painting\", \"Painting\", \"Painting\", \"Painting\", \"Painting\", \"Painting\", \"Painting\", \"Painting\", \"Painting\", \"Painting\", \"Painting\", \"Painting\", \"Painting\", \"Painting\", \"Sculpture\", \"Sculpture\", \"Sculpture\", \"Sculpture\", \"Sculpture\", \"Sculpture\", \"Sculpture\", \"Sculpture\", \"Sculpture\", \"Sculpture\", \"Sculpture\", \"Sculpture\", \"Sculpture\", \"Sculpture\", \"Sculpture\", \"Sculpture\", \"Sculpture\", \"Sculpture\", \"Sculpture\", \"Sculpture\", \"Sculpture\", \"Sculpture\", \"Sculpture\", \"Sculpture\", \"Sculpture\", \"Sculpture\", \"Sculpture\", \"Sculpture\", \"Sculpture\", \"Sculpture\", \"Sculpture\", \"Sculpture\", \"Sculpture\", \"Sculpture\", \"Sculpture\", \"Sculpture\", \"Sculpture\", \"Sculpture\", \"Sculpture\", \"Sculpture\", \"Sculpture\", \"Sculpture\", \"Sculpture\", \"Sculpture\", \"Sculpture\", \"Sculpture\", \"Sculpture\", \"Sculpture\", \"Sculpture\", \"Sculpture\", \"Sculpture\", \"Sculpture\", \"Sculpture\", \"Sculpture\", \"Sculpture\", \"Sculpture\", \"Sculpture\", \"Sculpture\", \"Sculpture\", \"Sculpture\", \"Sculpture\", \"Sculpture\", \"Sculpture\", \"Sculpture\", \"Sculpture\", \"Sculpture\", \"Sculpture\", \"Sculpture\", \"Sculpture\", \"Sculpture\", \"Sculpture\", \"Sculpture\", \"Sculpture\", \"Sculpture\", \"Sculpture\", \"Sculpture\", \"Sculpture\", \"Sculpture\", \"Sculpture\", \"Sculpture\", \"Sculpture\", \"Sculpture\", \"Sculpture\", \"Sculpture\", \"Sculpture\", \"Sculpture\", \"Sculpture\", \"Sculpture\", \"Sculpture\", \"Sculpture\", \"Photography\", \"Photography\", \"Photography\", \"Photography\", \"Photography\", \"Photography\", \"Photography\", \"Photography\", \"Photography\", \"Photography\", \"Photography\", \"Photography\", \"Photography\", \"Photography\", \"Photography\", \"Photography\", \"Photography\", \"Photography\", \"Photography\", \"Photography\", \"Photography\", \"Photography\", \"Photography\", \"Photography\", \"Photography\", \"Photography\", \"Photography\", \"Photography\", \"Photography\", \"Photography\", \"Photography\", \"Photography\", \"Photography\", \"Photography\", \"Photography\", \"Photography\", \"Photography\", \"Photography\", \"Photography\", \"Photography\", \"Photography\", \"Photography\", \"Photography\", \"Photography\", \"Photography\", \"Photography\", \"Photography\", \"Photography\", \"Photography\", \"Photography\", \"Photography\", \"Photography\", \"Photography\", \"Photography\", \"Photography\", \"Photography\", \"Photography\", \"Photography\", \"Photography\", \"Photography\", \"Photography\", \"Photography\", \"Photography\", \"Photography\", \"Photography\", \"Photography\", \"Photography\", \"Photography\", \"Photography\", \"Photography\", \"Photography\", \"Photography\", \"Photography\", \"Photography\", \"Photography\", \"Photography\", \"Photography\", \"Photography\", \"Photography\", \"Photography\", \"Photography\", \"Photography\", \"Photography\", \"Photography\", \"Photography\", \"Photography\", \"Photography\", \"Photography\", \"Photography\", \"Photography\", \"Drawing\", \"Drawing\", \"Drawing\", \"Drawing\", \"Drawing\", \"Drawing\", \"Drawing\", \"Drawing\", \"Drawing\", \"Drawing\", \"Drawing\", \"Drawing\", \"Drawing\", \"Drawing\", \"Drawing\", \"Drawing\", \"Drawing\", \"Drawing\", \"Drawing\", \"Drawing\", \"Drawing\", \"Drawing\", \"Drawing\", \"Drawing\", \"Drawing\", \"Drawing\", \"Drawing\", \"Drawing\", \"Drawing\", \"Drawing\", \"Drawing\", \"Drawing\", \"Drawing\", \"Drawing\", \"Drawing\", \"Drawing\", \"Drawing\", \"Drawing\", \"Drawing\", \"Drawing\", \"Drawing\", \"Drawing\", \"Drawing\", \"Drawing\", \"Drawing\", \"Drawing\", \"Drawing\", \"Drawing\", \"Drawing\", \"Drawing\", \"Drawing\", \"Drawing\", \"Drawing\", \"Drawing\", \"Drawing\", \"Drawing\", \"Drawing\", \"Drawing\", \"Drawing\", \"Drawing\", \"Drawing\", \"Drawing\", \"Drawing\", \"Drawing\", \"Drawing\", \"Drawing\", \"Drawing\", \"Drawing\", \"Drawing\", \"Drawing\", \"Drawing\", \"Drawing\", \"Drawing\", \"Drawing\", \"Drawing\", \"Drawing\", \"Drawing\", \"Drawing\", \"Drawing\", \"Drawing\", \"Drawing\", \"Drawing\", \"Drawing\", \"Drawing\", \"Drawing\", \"Drawing\", \"Drawing\", \"Drawing\", \"Drawing\", \"Drawing\", \"Print\", \"Print\", \"Print\", \"Print\", \"Print\", \"Print\", \"Print\", \"Print\", \"Print\", \"Print\", \"Print\", \"Print\", \"Print\", \"Print\", \"Print\", \"Print\", \"Print\", \"Print\", \"Print\", \"Print\", \"Print\", \"Print\", \"Print\", \"Print\", \"Print\", \"Print\", \"Print\", \"Print\", \"Print\", \"Print\", \"Print\", \"Print\", \"Print\", \"Print\", \"Print\", \"Print\", \"Print\", \"Print\", \"Print\", \"Print\", \"Print\", \"Print\", \"Print\", \"Print\", \"Print\", \"Print\", \"Print\", \"Print\", \"Print\", \"Print\", \"Print\", \"Print\", \"Print\", \"Print\", \"Print\", \"Print\", \"Print\", \"Print\", \"Print\", \"Print\", \"Print\", \"Print\", \"Print\", \"Print\", \"Print\", \"Print\", \"Print\", \"Print\", \"Print\", \"Print\", \"Print\", \"Print\", \"Print\", \"Print\", \"Print\", \"Print\", \"Print\", \"Print\", \"Print\", \"Print\", \"Print\", \"Print\", \"Print\", \"Print\", \"Print\", \"Print\", \"Print\", \"Print\", \"Print\", \"Print\", \"19th Century\", \"19th Century\", \"19th Century\", \"19th Century\", \"19th Century\", \"19th Century\", \"19th Century\", \"19th Century\", \"19th Century\", \"19th Century\", \"19th Century\", \"19th Century\", \"19th Century\", \"19th Century\", \"19th Century\", \"19th Century\", \"19th Century\", \"19th Century\", \"19th Century\", \"19th Century\", \"19th Century\", \"19th Century\", \"19th Century\", \"19th Century\", \"19th Century\", \"19th Century\", \"19th Century\", \"19th Century\", \"19th Century\", \"19th Century\", \"19th Century\", \"19th Century\", \"19th Century\", \"19th Century\", \"19th Century\", \"19th Century\", \"19th Century\", \"19th Century\", \"19th Century\", \"19th Century\", \"19th Century\", \"19th Century\", \"19th Century\", \"19th Century\", \"19th Century\", \"19th Century\", \"19th Century\", \"19th Century\", \"19th Century\", \"19th Century\", \"19th Century\", \"19th Century\", \"19th Century\", \"19th Century\", \"19th Century\", \"19th Century\", \"19th Century\", \"19th Century\", \"19th Century\", \"19th Century\", \"19th Century\", \"19th Century\", \"19th Century\", \"19th Century\", \"19th Century\", \"19th Century\", \"19th Century\", \"19th Century\", \"19th Century\", \"19th Century\", \"19th Century\", \"19th Century\", \"19th Century\", \"19th Century\", \"19th Century\", \"19th Century\", \"19th Century\", \"19th Century\", \"19th Century\", \"19th Century\", \"19th Century\", \"19th Century\", \"19th Century\", \"19th Century\", \"19th Century\", \"19th Century\", \"19th Century\", \"19th Century\", \"19th Century\", \"19th Century\", \"Modern Art\", \"Modern Art\", \"Modern Art\", \"Modern Art\", \"Modern Art\", \"Modern Art\", \"Modern Art\", \"Modern Art\", \"Modern Art\", \"Modern Art\", \"Modern Art\", \"Modern Art\", \"Modern Art\", \"Modern Art\", \"Modern Art\", \"Modern Art\", \"Modern Art\", \"Modern Art\", \"Modern Art\", \"Modern Art\", \"Modern Art\", \"Modern Art\", \"Modern Art\", \"Modern Art\", \"Modern Art\", \"Modern Art\", \"Modern Art\", \"Modern Art\", \"Modern Art\", \"Modern Art\", \"Modern Art\", \"Modern Art\", \"Modern Art\", \"Modern Art\", \"Modern Art\", \"Modern Art\", \"Modern Art\", \"Modern Art\", \"Modern Art\", \"Modern Art\", \"Modern Art\", \"Modern Art\", \"Modern Art\", \"Modern Art\", \"Modern Art\", \"Modern Art\", \"Modern Art\", \"Modern Art\", \"Modern Art\", \"Modern Art\", \"Modern Art\", \"Modern Art\", \"Modern Art\", \"Modern Art\", \"Modern Art\", \"Modern Art\", \"Modern Art\", \"Modern Art\", \"Modern Art\", \"Modern Art\", \"Modern Art\", \"Modern Art\", \"Modern Art\", \"Modern Art\", \"Modern Art\", \"Modern Art\", \"Modern Art\", \"Modern Art\", \"Modern Art\", \"Modern Art\", \"Modern Art\", \"Modern Art\", \"Modern Art\", \"Modern Art\", \"Modern Art\", \"Modern Art\", \"Modern Art\", \"Modern Art\", \"Modern Art\", \"Modern Art\", \"Modern Art\", \"Modern Art\", \"Modern Art\", \"Modern Art\", \"Modern Art\", \"Modern Art\", \"Modern Art\", \"Modern Art\", \"Modern Art\", \"Modern Art\", \"Post-War\", \"Post-War\", \"Post-War\", \"Post-War\", \"Post-War\", \"Post-War\", \"Post-War\", \"Post-War\", \"Post-War\", \"Post-War\", \"Post-War\", \"Post-War\", \"Post-War\", \"Post-War\", \"Post-War\", \"Post-War\", \"Post-War\", \"Post-War\", \"Post-War\", \"Post-War\", \"Post-War\", \"Post-War\", \"Post-War\", \"Post-War\", \"Post-War\", \"Post-War\", \"Post-War\", \"Post-War\", \"Post-War\", \"Post-War\", \"Post-War\", \"Post-War\", \"Post-War\", \"Post-War\", \"Post-War\", \"Post-War\", \"Post-War\", \"Post-War\", \"Post-War\", \"Post-War\", \"Post-War\", \"Post-War\", \"Post-War\", \"Post-War\", \"Post-War\", \"Post-War\", \"Post-War\", \"Post-War\", \"Post-War\", \"Post-War\", \"Post-War\", \"Post-War\", \"Post-War\", \"Post-War\", \"Post-War\", \"Post-War\", \"Post-War\", \"Post-War\", \"Post-War\", \"Post-War\", \"Post-War\", \"Post-War\", \"Post-War\", \"Post-War\", \"Post-War\", \"Post-War\", \"Post-War\", \"Post-War\", \"Post-War\", \"Post-War\", \"Post-War\", \"Post-War\", \"Post-War\", \"Post-War\", \"Post-War\", \"Post-War\", \"Post-War\", \"Post-War\", \"Post-War\", \"Post-War\", \"Post-War\", \"Post-War\", \"Post-War\", \"Post-War\", \"Post-War\", \"Post-War\", \"Post-War\", \"Post-War\", \"Post-War\", \"Post-War\", \"Contemporary\", \"Contemporary\", \"Contemporary\", \"Contemporary\", \"Contemporary\", \"Contemporary\", \"Contemporary\", \"Contemporary\", \"Contemporary\", \"Contemporary\", \"Contemporary\", \"Contemporary\", \"Contemporary\", \"Contemporary\", \"Contemporary\", \"Contemporary\", \"Contemporary\", \"Contemporary\", \"Contemporary\", \"Contemporary\", \"Contemporary\", \"Contemporary\", \"Contemporary\", \"Contemporary\", \"Contemporary\", \"Contemporary\", \"Contemporary\", \"Contemporary\", \"Contemporary\", \"Contemporary\", \"Contemporary\", \"Contemporary\", \"Contemporary\", \"Contemporary\", \"Contemporary\", \"Contemporary\", \"Contemporary\", \"Contemporary\", \"Contemporary\", \"Contemporary\", \"Contemporary\", \"Contemporary\", \"Contemporary\", \"Contemporary\", \"Contemporary\", \"Contemporary\", \"Contemporary\", \"Contemporary\", \"Contemporary\", \"Contemporary\", \"Contemporary\", \"Contemporary\", \"Contemporary\", \"Contemporary\", \"Contemporary\", \"Contemporary\", \"Contemporary\", \"Contemporary\", \"Contemporary\", \"Contemporary\", \"Contemporary\", \"Contemporary\", \"Contemporary\", \"Contemporary\", \"Contemporary\", \"Contemporary\", \"Contemporary\", \"Contemporary\", \"Contemporary\", \"Contemporary\", \"Contemporary\", \"Contemporary\", \"Contemporary\", \"Contemporary\", \"Contemporary\", \"Contemporary\", \"Contemporary\", \"Contemporary\", \"Contemporary\", \"Contemporary\", \"Contemporary\", \"Contemporary\", \"Contemporary\", \"Contemporary\", \"Contemporary\", \"Contemporary\", \"Contemporary\", \"Contemporary\", \"Contemporary\", \"Contemporary\", \"USA (USD)\", \"USA (USD)\", \"USA (USD)\", \"USA (USD)\", \"USA (USD)\", \"USA (USD)\", \"USA (USD)\", \"USA (USD)\", \"USA (USD)\", \"USA (USD)\", \"USA (USD)\", \"USA (USD)\", \"USA (USD)\", \"USA (USD)\", \"USA (USD)\", \"USA (USD)\", \"USA (USD)\", \"USA (USD)\", \"USA (USD)\", \"USA (USD)\", \"USA (USD)\", \"USA (USD)\", \"USA (USD)\", \"USA (USD)\", \"USA (USD)\", \"USA (USD)\", \"USA (USD)\", \"USA (USD)\", \"USA (USD)\", \"USA (USD)\", \"USA (USD)\", \"USA (USD)\", \"USA (USD)\", \"USA (USD)\", \"USA (USD)\", \"USA (USD)\", \"USA (USD)\", \"USA (USD)\", \"USA (USD)\", \"USA (USD)\", \"USA (USD)\", \"USA (USD)\", \"USA (USD)\", \"USA (USD)\", \"USA (USD)\", \"USA (USD)\", \"USA (USD)\", \"USA (USD)\", \"USA (USD)\", \"USA (USD)\", \"USA (USD)\", \"USA (USD)\", \"USA (USD)\", \"USA (USD)\", \"USA (USD)\", \"USA (USD)\", \"USA (USD)\", \"USA (USD)\", \"USA (USD)\", \"USA (USD)\", \"USA (USD)\", \"USA (USD)\", \"USA (USD)\", \"USA (USD)\", \"USA (USD)\", \"USA (USD)\", \"USA (USD)\", \"USA (USD)\", \"USA (USD)\", \"USA (USD)\", \"USA (USD)\", \"USA (USD)\", \"USA (USD)\", \"USA (USD)\", \"USA (USD)\", \"USA (USD)\", \"USA (USD)\", \"USA (USD)\", \"USA (USD)\", \"USA (USD)\", \"USA (USD)\", \"USA (USD)\", \"USA (USD)\", \"USA (USD)\", \"USA (USD)\", \"USA (USD)\", \"USA (USD)\", \"USA (USD)\", \"USA (USD)\", \"USA (USD)\", \"UK (GBP)\", \"UK (GBP)\", \"UK (GBP)\", \"UK (GBP)\", \"UK (GBP)\", \"UK (GBP)\", \"UK (GBP)\", \"UK (GBP)\", \"UK (GBP)\", \"UK (GBP)\", \"UK (GBP)\", \"UK (GBP)\", \"UK (GBP)\", \"UK (GBP)\", \"UK (GBP)\", \"UK (GBP)\", \"UK (GBP)\", \"UK (GBP)\", \"UK (GBP)\", \"UK (GBP)\", \"UK (GBP)\", \"UK (GBP)\", \"UK (GBP)\", \"UK (GBP)\", \"UK (GBP)\", \"UK (GBP)\", \"UK (GBP)\", \"UK (GBP)\", \"UK (GBP)\", \"UK (GBP)\", \"UK (GBP)\", \"UK (GBP)\", \"UK (GBP)\", \"UK (GBP)\", \"UK (GBP)\", \"UK (GBP)\", \"UK (GBP)\", \"UK (GBP)\", \"UK (GBP)\", \"UK (GBP)\", \"UK (GBP)\", \"UK (GBP)\", \"UK (GBP)\", \"UK (GBP)\", \"UK (GBP)\", \"UK (GBP)\", \"UK (GBP)\", \"UK (GBP)\", \"UK (GBP)\", \"UK (GBP)\", \"UK (GBP)\", \"UK (GBP)\", \"UK (GBP)\", \"UK (GBP)\", \"UK (GBP)\", \"UK (GBP)\", \"UK (GBP)\", \"UK (GBP)\", \"UK (GBP)\", \"UK (GBP)\", \"UK (GBP)\", \"UK (GBP)\", \"UK (GBP)\", \"UK (GBP)\", \"UK (GBP)\", \"UK (GBP)\", \"UK (GBP)\", \"UK (GBP)\", \"UK (GBP)\", \"UK (GBP)\", \"UK (GBP)\", \"UK (GBP)\", \"UK (GBP)\", \"UK (GBP)\", \"UK (GBP)\", \"UK (GBP)\", \"UK (GBP)\", \"UK (GBP)\", \"UK (GBP)\", \"UK (GBP)\", \"UK (GBP)\", \"UK (GBP)\", \"UK (GBP)\", \"UK (GBP)\", \"UK (GBP)\", \"UK (GBP)\", \"UK (GBP)\", \"UK (GBP)\", \"UK (GBP)\", \"UK (GBP)\", \"France (EUR)\", \"France (EUR)\", \"France (EUR)\", \"France (EUR)\", \"France (EUR)\", \"France (EUR)\", \"France (EUR)\", \"France (EUR)\", \"France (EUR)\", \"France (EUR)\", \"France (EUR)\", \"France (EUR)\", \"France (EUR)\", \"France (EUR)\", \"France (EUR)\", \"France (EUR)\", \"France (EUR)\", \"France (EUR)\", \"France (EUR)\", \"France (EUR)\", \"France (EUR)\", \"France (EUR)\", \"France (EUR)\", \"France (EUR)\", \"France (EUR)\", \"France (EUR)\", \"France (EUR)\", \"France (EUR)\", \"France (EUR)\", \"France (EUR)\", \"France (EUR)\", \"France (EUR)\", \"France (EUR)\", \"France (EUR)\", \"France (EUR)\", \"France (EUR)\", \"France (EUR)\", \"France (EUR)\", \"France (EUR)\", \"France (EUR)\", \"France (EUR)\", \"France (EUR)\", \"France (EUR)\", \"France (EUR)\", \"France (EUR)\", \"France (EUR)\", \"France (EUR)\", \"France (EUR)\", \"France (EUR)\", \"France (EUR)\", \"France (EUR)\", \"France (EUR)\", \"France (EUR)\", \"France (EUR)\", \"France (EUR)\", \"France (EUR)\", \"France (EUR)\", \"France (EUR)\", \"France (EUR)\", \"France (EUR)\", \"France (EUR)\", \"France (EUR)\", \"France (EUR)\", \"France (EUR)\", \"France (EUR)\", \"France (EUR)\", \"France (EUR)\", \"France (EUR)\", \"France (EUR)\", \"France (EUR)\", \"France (EUR)\", \"France (EUR)\", \"France (EUR)\", \"France (EUR)\", \"France (EUR)\", \"France (EUR)\", \"France (EUR)\", \"France (EUR)\", \"France (EUR)\", \"France (EUR)\", \"France (EUR)\", \"France (EUR)\", \"France (EUR)\", \"France (EUR)\", \"France (EUR)\", \"France (EUR)\", \"France (EUR)\", \"France (EUR)\", \"France (EUR)\", \"France (EUR)\"], \"x0\": \" \", \"xaxis\": \"x\", \"y\": [0.07000000000000006, -0.009345794392523366, -0.09433962264150941, 0.08333333333333326, -0.009615384615384581, 0.009708737864077666, 0.0, 0.08653846153846145, 0.026548672566371723, -0.03448275862068961, 0.02678571428571419, -0.09565217391304348, 0.17307692307692313, -0.12295081967213117, 0.0, 0.0, 0.028037383177569986, 0.0, 0.018181818181818077, 0.1339285714285714, 0.10236220472440949, 0.0, -0.12857142857142856, 0.16393442622950816, 0.09154929577464799, -0.006451612903225823, 0.006493506493506551, 0.05161290322580636, 0.14723926380368102, -0.05882352941176472, -0.09090909090909094, 0.1312500000000001, -0.016574585635359074, 0.0898876404494382, -0.1391752577319587, 0.17365269461077837, 0.15816326530612246, 0.026431718061673992, -0.14592274678111583, 0.20603015075376874, -0.054166666666666696, 0.05726872246696035, -0.18333333333333335, -0.1071428571428571, -0.17142857142857137, 0.2068965517241379, -0.17142857142857137, 0.31034482758620685, -0.05789473684210522, -0.03351955307262566, -0.12716763005780352, 0.3708609271523178, -0.09661835748792269, 0.2994652406417113, -0.12757201646090532, -0.037735849056603765, -0.3578431372549019, 0.45038167938931295, -0.18947368421052635, 0.2987012987012987, -0.06000000000000005, 0.06914893617021267, -0.05472636815920395, 0.021052631578947434, -0.09278350515463918, 0.17613636363636354, 0.06763285024154597, 0.05429864253393668, -0.223175965665236, -0.06077348066298338, -0.10588235294117643, 0.07236842105263164, -0.08588957055214719, 0.020134228187919545, -0.11842105263157898, 0.26865671641791056, -0.21764705882352942, 0.16541353383458657, -0.1225806451612903, 0.2058823529411764, -0.1707317073170732, 0.11764705882352944, -0.19736842105263153, 0.16393442622950816, -0.12676056338028174, 0.10483870967741926, -0.17518248175182483, 0.21238938053097356, -0.13868613138686137, 0.05084745762711873, 0.10000000000000009, -0.036363636363636376, -0.09433962264150941, 0.04166666666666674, 0.040000000000000036, 0.07692307692307687, 0.008928571428571397, 0.08849557522123885, 0.08130081300813008, 0.015037593984962516, 0.04444444444444451, -0.028368794326241176, 0.07299270072992692, -0.0680272108843537, -0.014598540145985384, -0.014814814814814836, 0.06015037593984962, -0.06382978723404253, -0.037878787878787845, 0.11811023622047245, 0.028169014084507005, -0.06164383561643838, -0.10948905109489049, 0.10655737704918034, 0.03703703703703698, 0.014285714285714235, 0.0, -0.014084507042253502, 0.13571428571428568, -0.018867924528301883, -0.0641025641025641, 0.17123287671232879, -0.03508771929824561, 0.042424242424242475, -0.14534883720930236, 0.14965986394557818, 0.14792899408284033, 0.0, -0.1649484536082474, 0.14197530864197527, -0.08648648648648649, 0.01775147928994092, -0.15697674418604646, 0.02758620689655178, -0.16778523489932884, 0.14516129032258074, -0.204225352112676, 0.2743362831858407, 0.01388888888888884, 0.0547945205479452, -0.14935064935064934, 0.3129770992366412, -0.11046511627906974, 0.24183006535947715, -0.1105263157894737, 0.0, -0.33136094674556216, 0.47787610619469034, -0.18562874251497008, 0.2720588235294117, -0.07514450867052025, 0.08125000000000004, -0.07514450867052025, -0.006249999999999978, -0.09433962264150941, 0.17361111111111116, 0.10650887573964507, 0.12299465240641716, -0.14761904761904765, -0.03910614525139666, -0.11046511627906974, 0.0980392156862746, -0.10119047619047616, 0.0, -0.11920529801324509, 0.3308270676691729, -0.20903954802259883, 0.11428571428571432, -0.17307692307692313, 0.20930232558139528, -0.21153846153846156, 0.1707317073170731, -0.1875, 0.19658119658119655, -0.12142857142857144, 0.11382113821138207, -0.16788321167883213, 0.21052631578947367, -0.1376811594202898, 0.05882352941176472, 0.09000000000000008, -0.01834862385321101, -0.03738317757009346, 0.03883495145631066, 0.06542056074766345, 0.00877192982456143, 0.0, 0.017391304347825987, 0.008547008547008517, 0.008474576271186418, -0.01680672268907568, -0.05128205128205132, 0.0, 0.009009009009008917, -0.008928571428571397, 0.027027027027026973, 0.026315789473684292, 0.02564102564102555, 0.02499999999999991, 0.07317073170731714, 0.06818181818181812, -0.028368794326241176, 0.007299270072992803, 0.11594202898550732, 0.09090909090909083, 0.011904761904761862, 0.0117647058823529, 0.058139534883721034, 0.0494505494505495, -0.020942408376963373, -0.03208556149732622, 0.011049723756906049, 0.05464480874316946, 0.020725388601036343, 0.010152284263959421, 0.09547738693467345, 0.10550458715596323, 0.03319502074688807, 0.0, 0.032128514056224855, 0.035019455252918386, -0.03759398496240607, -0.1015625, -0.09999999999999998, -0.03864734299516903, -0.015075376884422065, -0.015306122448979553, 0.051813471502590636, 0.029556650246305383, -0.062200956937799035, -0.04081632653061229, 0.06914893617021267, 0.05970149253731338, -0.023474178403755874, -0.04807692307692313, -0.04040404040404044, -0.03157894736842104, -0.04347826086956519, -0.03409090909090906, 0.0, 0.01764705882352935, 0.005780346820809301, -0.005747126436781658, 0.011560693641618602, 0.017142857142857126, 0.0, -0.016853932584269704, -0.040000000000000036, -0.0535714285714286, -0.02515723270440251, -0.012903225806451646, -0.02614379084967322, -0.020134228187919434, -0.03424657534246578, -0.049645390070921946, 0.0, 0.014925373134328401, -0.014705882352941124, -0.014925373134328401, 0.007575757575757569, 0.022556390977443552, -0.022058823529411797, -0.052631578947368474, 0.0, 0.0, -0.03968253968253965, -0.04132231404958675, 0.0, 0.008620689655172376, 0.02564102564102555, 0.3899999999999999, -0.043165467625899234, -0.03759398496240607, 0.03125, 0.015151515151515138, 0.0, 0.04477611940298498, 0.0, -0.021428571428571463, -0.007299270072992692, -0.014705882352941124, 0.04477611940298498, 0.050000000000000044, -0.07482993197278909, -0.07352941176470584, 0.015873015873015817, 0.03125, 0.007575757575757569, 0.022556390977443552, 0.05147058823529416, 0.07692307692307687, 0.05844155844155852, 0.024539877300613577, 0.0239520958083832, 0.011695906432748648, -0.005780346820809301, 0.0, 0.05232558139534893, 0.05524861878453047, -0.04712041884816753, -0.0494505494505495, 0.01734104046242768, 0.03409090909090917, 0.04395604395604402, 0.010526315789473717, 0.08333333333333326, 0.13942307692307687, 0.05485232067510548, 0.0040000000000000036, 0.03585657370517925, 0.03076923076923066, -0.02985074626865669, -0.09999999999999998, -0.16666666666666663, -0.06666666666666665, 0.03846153846153855, 0.015873015873015817, 0.03645833333333326, -0.01005025125628145, -0.060913705583756306, 0.0108108108108107, 0.09625668449197855, 0.07804878048780495, 0.0, -0.009049773755656076, -0.0182648401826484, -0.037209302325581395, -0.03864734299516903, -0.04020100502512558, 0.005235602094240788, 0.02604166666666674, -0.055837563451776595, -0.06451612903225812, 0.06896551724137923, 0.06451612903225801, -0.015151515151515138, -0.05641025641025643, -0.05434782608695654, -0.017241379310344862, -0.01754385964912286, -0.04166666666666663, -0.04347826086956519, -0.012987012987012991, 0.0, -0.006578947368421018, -0.026490066225165587, -0.006802721088435382, 0.03424657534246567, 0.026490066225165476, 0.0, -0.012903225806451646, -0.0326797385620915, -0.03378378378378377, -0.020979020979020935, 0.021428571428571352, 0.006993006993007089, -0.00694444444444442, 0.0, 0.006993006993007089, 0.05555555555555558, -0.040000000000000036, -0.02083333333333337, -0.0957446808510638, -0.0117647058823529, 0.011904761904761862, 0.0, 0.08235294117647052, 0.36956521739130443, 0.23809523809523814, -0.10256410256410253, -0.15714285714285714, 0.09322033898305082, 0.1472868217054264, -0.08783783783783783, -0.11851851851851847, 0.01680672268907557, 0.024793388429751984, 0.048387096774193505, 0.05384615384615388, 0.10948905109489049, 0.07894736842105265, -0.054878048780487854, -0.07741935483870965, 0.0, 0.15384615384615374, 0.1454545454545455, 0.010582010582010692, 0.010471204188481575, 0.015544041450777257, -0.05102040816326525, 0.005376344086021501, 0.11764705882352944, 0.05263157894736836, -0.05909090909090908, -0.048309178743961345, 0.09644670050761417, 0.1435185185185186, 0.00809716599190291, -0.02008032128514059, 0.020491803278688492, 0.012048192771084265, -0.023809523809523836, -0.14634146341463417, -0.09523809523809523, 0.021052631578947434, -0.05154639175257736, -0.03804347826086951, 0.11864406779661008, 0.08080808080808088, -0.12616822429906538, -0.10160427807486627, 0.17261904761904767, 0.17258883248730972, -0.008658008658008698, -0.08296943231441045, -0.06190476190476191, -0.050761421319796995, -0.04278074866310155, 0.022346368715083775, 0.05464480874316946, 0.0, 0.0, 0.010362694300518172, 0.0, 0.02564102564102555, 0.040000000000000036, 0.009615384615384581, -0.01904761904761909, 0.0, -0.05339805825242716, -0.05128205128205132, 0.027027027027026973, -0.0052631578947368585, -0.010582010582010581, -0.016042780748663055, -0.09782608695652173, -0.01807228915662651, 0.11042944785276076, 0.07734806629834257, 0.03076923076923066, -0.03980099502487566, -0.13989637305699487, -0.11445783132530118, 0.054421768707483054, 0.04516129032258065, -0.01851851851851849, 0.0062893081761006275, 0.018750000000000044, -0.012269938650306789, 0.024844720496894457, 0.040000000000000036, 0.019230769230769162, 0.028301886792452935, -0.00917431192660545, -0.04629629629629628, -0.009708737864077666, 0.009803921568627416, 0.058252427184465994, 0.04587155963302747, 0.0, -0.00877192982456143, 0.008849557522123908, -0.00877192982456143, -0.026548672566371723, 0.0, 0.0, -0.009090909090909038, -0.03669724770642202, 0.07619047619047614, 0.18584070796460184, 0.11194029850746268, -0.046979865771812124, -0.1338028169014085, 0.05691056910569103, 0.17692307692307696, 0.05228758169934644, 0.03105590062111796, 0.04819277108433728, 0.028735632183908066, -0.027932960893854775, -0.02298850574712641, 0.09411764705882364, 0.08602150537634401, -0.01980198019801982, -0.06060606060606055, 0.021505376344086002, 0.06842105263157894, -0.08866995073891626, -0.0972972972972973, 0.08383233532934131, 0.06629834254143652, -0.03626943005181349, -0.10752688172043012, -0.18674698795180722, -0.15555555555555556, -0.01754385964912286, 0.1160714285714286, 0.21599999999999997, 0.125, -0.011695906432748537, 0.08284023668639051, 0.14754098360655732, 0.13809523809523805, 0.17154811715481166, -0.0071428571428571175, -0.20503597122302153, -0.19004524886877827, 0.03910614525139655, 0.10752688172043001, 0.09708737864077666, 0.05752212389380529, 0.004184100418409997, 0.0, -0.050000000000000044, -0.013157894736842146, 0.10666666666666669, 0.12851405622489964, 0.05693950177935947, -0.07070707070707072, -0.1630434782608695, -0.10389610389610393, -0.004830917874396157, -0.043689320388349495, -0.09137055837563457, 0.06145251396648055, 0.1210526315789473, -0.06572769953051638, -0.07537688442211055, 0.048913043478260976, 0.031088082901554515, -0.0653266331658291, -0.053763440860215006, -0.02840909090909094, -0.040935672514619936, -0.04268292682926833, -0.04458598726114649, -0.020000000000000018, 0.020408163265306145, -0.07999999999999996, -0.02898550724637683, 0.1399999999999999, 0.11403508771929816, -0.03149606299212604, -0.11382113821138207, 0.0, 0.12844036697247696, 0.05691056910569103, -0.05384615384615388, 0.0, 0.08943089430894302, 0.03731343283582089, -0.021582733812949617, 0.03676470588235303, -0.049645390070921946, -0.10447761194029848, 0.05833333333333335, 0.11023622047244097, -0.014184397163120588, -0.06474820143884896, 0.03076923076923066, 0.11940298507462677, 0.09333333333333327, -0.030487804878048808, -0.02515723270440251, 0.08387096774193559, 0.011904761904761862, 0.0, 0.1352941176470588, 0.11917098445595853, 0.0092592592592593, -0.050458715596330306, -0.009661835748792313, 0.019512195121951237, -0.019138755980861233, 0.019512195121951237, 0.1004784688995215, 0.12608695652173907, 0.1660231660231659, 0.14238410596026485, 0.04057971014492745, -0.06406685236768805, -0.1339285714285714, -0.15807560137457044, -0.10204081632653061, -0.09090909090909094, -0.04500000000000004, 0.08376963350785349, 0.06280193236714982, 0.0, -0.027272727272727226, -0.032710280373831724, 0.04347826086956519, 0.08333333333333326, -0.008547008547008517, -0.06034482758620685, -0.041284403669724745, -0.009569377990430672, 0.033816425120772875, 0.028037383177569986, 0.013636363636363669, -0.013452914798206317, -0.009090909090909038, -0.00917431192660545, 0.06481481481481488, 0.09565217391304337, 0.01984126984126977, 0.0, -0.035019455252918275, -0.08467741935483875, -0.048458149779735726, -0.02314814814814814, 0.014218009478673022, 0.01869158878504673, 0.0, 0.0, -0.00917431192660545, 0.0, 0.0, -0.0092592592592593, 0.028037383177569986, 0.045454545454545414, 0.008695652173912993, -0.008620689655172376, -0.04347826086956519, -0.027272727272727226, 0.0, 0.009345794392523255, 0.0092592592592593, -0.00917431192660545, 0.04166666666666674, 0.10000000000000009, 0.07272727272727275, 0.03389830508474567, -0.024590163934426257, -0.050420168067226934, -0.008849557522123908, -0.008928571428571397, -0.018018018018018056, -0.02752293577981646, 0.018867924528301883, 0.02777777777777768, -0.009009009009009028, 0.05454545454545445, 0.034482758620689724, -0.08333333333333337, -0.0636363636363636, 0.0, 0.029126213592232997, 0.028301886792452935, 0.0183486238532109, 0.10810810810810811, 0.05691056910569103, -0.0461538461538461, -0.040322580645161255, 0.008403361344537785, 0.15833333333333344, 0.1151079136690647, -0.05161290322580647, -0.061224489795918324, -0.07971014492753625, -0.047244094488189003, 0.06611570247933884, 0.07751937984496116, 0.05755395683453246, 0.027210884353741527, 0.10596026490066235, 0.14970059880239517, -0.03645833333333337, -0.048648648648648596, -0.03977272727272729, -0.10059171597633132, 0.006578947368421018, -0.02614379084967322, -0.11409395973154357, -0.022727272727272707, 0.03100775193798455, -0.022556390977443663, -0.06153846153846154, -0.024590163934426257, 0.12605042016806722, 0.09701492537313428, -0.07482993197278909, -0.044117647058823484, 0.07692307692307687, 0.04285714285714293, -0.1095890410958904, -0.16153846153846152, 0.0183486238532109, 0.072072072072072, -0.050420168067226934, -0.026548672566371723, 0.045454545454545414, 0.0608695652173914, 0.016393442622950838, -0.040322580645161255, -0.09243697478991597, -0.08333333333333337, 0.030303030303030276, -0.039215686274509776, -0.1428571428571429, -0.0714285714285714, 0.05128205128205132, 0.060975609756097615, 0.011494252873563315, -0.07954545454545459, -0.07407407407407407, 0.01333333333333342, 0.013157894736842035, 0.01298701298701288, -0.02564102564102566, -0.10526315789473684, -0.05882352941176472, -0.0625, 0.0, 0.050000000000000044, -0.015873015873015928, 0.06451612903225801, 0.06060606060606055, -0.02857142857142858, -0.05882352941176472, -0.020000000000000018, -0.010204081632653073, -0.030927835051546393, -0.07446808510638303, -0.06896551724137934, 0.0, 0.07407407407407418, 0.13793103448275867, 0.101010101010101, 0.03669724770642202, 0.008849557522123908, -0.04385964912280704, -0.02752293577981646, -0.009433962264150941, 0.00952380952380949, 0.0, -0.047169811320754707, -0.03960396039603964, 0.061855670103092786, 0.15533980582524265, 0.10924369747899165, -0.045454545454545414, -0.0714285714285714, 0.03418803418803429, 0.07438016528925617, -0.007692307692307665, -0.023255813953488413, 0.1507936507936507, 0.15172413793103456, -0.005988023952095856, -0.030120481927710885, 0.05590062111801242, 0.06470588235294117, -0.05524861878453036, -0.07602339181286555, 0.120253164556962, 0.15254237288135597, 0.004901960784313708, -0.004878048780487809, 0.03431372549019618, 0.004739336492890933, -0.06603773584905659, -0.15656565656565657, -0.12574850299401197, -0.0273972602739726, -0.014084507042253502, -0.0071428571428571175, 0.1007194244604317, 0.065359477124183, -0.030674846625766916, 0.018987341772152, 0.07453416149068315, 0.10982658959537561, 0.16145833333333326, 0.03139013452914807, -0.15217391304347827, -0.18461538461538463, -0.08805031446540879, 0.0, 0.096551724137931, 0.1132075471698113, 0.04519774011299438, -0.027027027027026973, -0.033333333333333326, 0.06896551724137923, 0.09677419354838701, 0.03431372549019618, -0.028436018957345932, -0.1121951219512195, -0.14835164835164838, -0.07096774193548383, 0.03472222222222232, -0.006711409395973145, -0.09459459459459463, 0.0, 0.08955223880597019, 0.006849315068493178, -0.03401360544217691, 0.021126760563380254, 0.0, -0.11724137931034484, -0.109375, 0.0, 0.03508771929824572, 0.0, -0.05932203389830504, -0.04504504504504503, 0.0660377358490567, 0.017699115044247815, 0.026086956521739202, 0.1399999999999999, -0.01754385964912286, -0.0892857142857143, 0.05882352941176472, 0.12962962962962954, 0.06557377049180335, 0.03846153846153855, 0.03703703703703698, 0.0071428571428571175, 0.0, 0.007092198581560183, 0.0, 0.028169014084507005, 0.0, -0.03424657534246578, 0.0, 0.07092198581560294, 0.026490066225165476, 0.006451612903225712, 0.14743589743589736, 0.0893854748603351, -0.06666666666666665, -0.038461538461538436, 0.0971428571428572, 0.09895833333333326, 0.014218009478673022, 0.01869158878504673, 0.07339449541284404, 0.05128205128205132, 0.008130081300812941, 0.040322580645161255, 0.003875968992248069, 0.007722007722007707, 0.09195402298850586, 0.09122807017543866, 0.07395498392282951, 0.08083832335329344, 0.08310249307479234, 0.01790281329923271, 0.03266331658291466, 0.06082725060827254, -0.041284403669724745, -0.1411483253588517, -0.1392757660167131, -0.035598705501618144, -0.016778523489932917, -0.04095563139931746, 0.07117437722419928, 0.06976744186046502, -0.06832298136645965, -0.030000000000000027, 0.15463917525773185, 0.1160714285714286, -0.040000000000000036, -0.061111111111111116, -0.017751479289940808, 0.0, -0.01807228915662651, 0.009202453987730008, 0.0607902735562309, -0.014326647564469885, -0.09011627906976749, -0.06389776357827481, 0.058020477815699634, 0.12903225806451624, 0.03142857142857136, -0.027700831024930705, 0.002849002849002913, 0.011363636363636465, -0.005617977528089901, -0.01412429378531077, -0.011461318051575908, -0.02608695652173909, -0.038690476190476164, -0.02786377708978327, -0.04458598726114649, -0.040000000000000036, 0.01041666666666674, 0.037800687285223455, 0.01655629139072845, 0.0, -0.039087947882736174, -0.04067796610169494, 0.010600706713780994, 0.02447552447552437, -0.03754266211604096, -0.05673758865248224, 0.015037593984962516, 0.025925925925925908, 0.0, 0.010000000000000009, 0.07920792079207928, 0.04587155963302747, -0.01754385964912286, -0.0535714285714286, -0.047169811320754707, 0.07920792079207928, 0.21100917431192667, 0.0984848484848484, 0.048275862068965614, 0.046052631578947345, -0.08176100628930816, -0.136986301369863, -0.0714285714285714, -0.07692307692307687, 0.04629629629629628, 0.18584070796460184, 0.09701492537313428, 0.03401360544217691, 0.0, 0.07236842105263164, 0.036809815950920255, -0.09467455621301779, 0.11764705882352944, 0.1871345029239766, 0.08866995073891615, 0.0678733031674208, -0.016949152542372836, -0.008620689655172376, -0.008695652173912993, -0.00877192982456143, 0.1327433628318584, 0.125, -0.05902777777777779, -0.08118081180811809, 0.10040160642570273, 0.12408759124087587, -0.012987012987012991, -0.06578947368421051, 0.021126760563380254, 0.01724137931034475, -0.016949152542372836, -0.07241379310344831, -0.1189591078066915, -0.03797468354430378, 0.03508771929824572, 0.05084745762711873, 0.08467741935483875, 0.055762081784386686, -0.11971830985915488, -0.14400000000000002, 0.11214953271028039, 0.1386554621848739, 0.0627306273062731, 0.02777777777777768, -0.010135135135135087, -0.0068259385665528916, -0.02405498281786944, -0.05633802816901412, -0.03731343283582089, 0.0, -0.027131782945736482, -0.003984063745019917, 0.03200000000000003, -0.007751937984496138, 0.02734375, 0.015209125475285079, -0.1123595505617978, -0.1561181434599156, -0.07999999999999996, -0.03804347826086951, 0.016949152542372836, 0.11111111111111116, 0.125, 0.040000000000000036, -0.004273504273504258, 0.025751072961373467, -0.008368200836820106, -0.03797468354430378, 0.07894736842105265, 0.10569105691056913, 0.0, -0.047794117647058876, -0.0424710424710425, -0.040322580645161255, -0.012605042016806678, -0.008510638297872353, 0.01716738197424883, 0.016877637130801704, 0.10788381742738595, -0.00952380952380949, -0.038461538461538436, 0.020000000000000018, 0.019607843137254832, 0.0, 0.028846153846153744, 0.04672897196261672, 0.02678571428571419, -0.008695652173912993, -0.01754385964912286, 0.0, 0.017857142857142794, -0.02631578947368418, -0.036036036036036, 0.009345794392523255, 0.0185185185185186, 0.009090909090909038, 0.03603603603603611, 0.09565217391304337, 0.08730158730158721, -0.007299270072992692, -0.02941176470588236, 0.06060606060606055, 0.07857142857142851, 0.019867549668874274, 0.01948051948051943, 0.06369426751592355, 0.06586826347305386, -0.016853932584269704, -0.03428571428571425, 0.035502958579881616, 0.040000000000000036, 0.005494505494505475, -0.010928961748633892, 0.08287292817679548, 0.12755102040816335, 0.009049773755656076, -0.022421524663677084, 0.03669724770642202, 0.03539823008849563, -0.03418803418803418, -0.11061946902654862, -0.14427860696517414, -0.06976744186046513, 0.0, 0.018750000000000044, 0.07975460122699385, 0.022727272727272707, -0.061111111111111116, 0.01183431952662728, 0.09941520467836251, 0.0957446808510638, 0.07281553398058249, -0.013574660633484115, -0.13761467889908252, -0.12765957446808507, 0.012195121951219523, 0.04819277108433728, 0.06321839080459779, 0.048648648648648596, 0.005154639175257714, -0.00512820512820511, -0.030927835051546393, 0.0, 0.07978723404255317, 0.08866995073891615, -0.018099547511312264, -0.11981566820276501, -0.12041884816753923, -0.0535714285714286, -0.012578616352201255, -0.02547770700636942, -0.039215686274509776, 0.006802721088435382, 0.027027027027026973, -0.02631578947368418, -0.020270270270270285, 0.020689655172413834, 0.013513513513513598, -0.020000000000000018, -0.04081632653061229, -0.04255319148936165, -0.022222222222222254, 0.0, -0.030303030303030276, -0.0234375, 0.008000000000000007, -0.015873015873015928, 0.016129032258064502, -0.04761904761904767, -0.020000000000000018, -0.030612244897959218, 0.021052631578947434, 0.030927835051546282, 0.010000000000000009, 0.02970297029702973, 0.04807692307692313, 0.03669724770642202, 0.03539823008849563, 0.017094017094017033, 0.025210084033613356, 0.016393442622950838, -0.024193548387096753, -0.024793388429752095, 0.008474576271186418, 0.01680672268907557, -0.016528925619834656, 0.0, 0.07563025210084029, 0.0625, -0.022058823529411797, -0.045112781954887216, 0.023622047244094446, 0.03076923076923066, 0.014925373134328401, 0.007352941176470562, 0.04379562043795615, 0.05594405594405605, 0.0, -0.0066225165562914245, 0.05333333333333323, 0.03164556962025311, -0.018404907975460127, -0.043749999999999956, 0.065359477124183, 0.09815950920245409, 0.0, -0.04469273743016755, 0.040935672514619936, 0.04494382022471921, -0.016129032258064502, -0.049180327868852514, -0.028735632183908066, 0.0, -0.029585798816568087, -0.024390243902439046, 0.08125000000000004, 0.06936416184971095, -0.037837837837837784, -0.011235955056179803, 0.07954545454545459, 0.07894736842105265, 0.06341463414634152, -0.004587155963302725, -0.12442396313364057, -0.12631578947368416, 0.006024096385542244, 0.041916167664670656, 0.06896551724137923, 0.06451612903225801, 0.010101010101010166, -0.020000000000000018, -0.056122448979591844, -0.021621621621621623, 0.06629834254143652, 0.10362694300518127, 0.018779342723004744, -0.09216589861751157, -0.11675126903553301, -0.05747126436781613, 0.012195121951219523, 0.012048192771084265, -0.005952380952380931, 0.05988023952095811, 0.07909604519774005, -0.020942408376963373, -0.04278074866310155, 0.0, -0.011173184357541888, -0.03389830508474578, -0.03508771929824561, -0.012121212121212088, 0.0, -0.006134969325153339, -0.01851851851851849, -0.012578616352201255, 0.0, -0.01273885350318471, 0.032258064516129004, -0.09375, 0.07000000000000006, -0.01869158878504673, -0.04761904761904767, 0.0, 0.050000000000000044, 0.04761904761904767, 0.045454545454545414, 0.06956521739130439, 0.06504065040650397, 0.03816793893129766, 0.014705882352941124, 0.021739130434782705, 0.007092198581560183, -0.021126760563380254, -0.02877697841726623, 0.007407407407407307, 0.007352941176470562, -0.029197080291970767, -0.007518796992481258, 0.05303030303030298, 0.02877697841726623, -0.04895104895104896, -0.05147058823529416, 0.03100775193798455, 0.04511278195488733, 0.021582733812949728, 0.0, 0.021126760563380254, 0.06206896551724128, 0.0, 0.006493506493506551, 0.05161290322580636, 0.030674846625766916, -0.023809523809523836, -0.030487804878048808, 0.0691823899371069, 0.10588235294117654, -0.010638297872340385, -0.05913978494623651, 0.0, -0.005714285714285672, -0.05747126436781613, -0.06707317073170727, -0.07189542483660127, -0.04929577464788737, -0.03703703703703709, -0.01538461538461533, 0.0703125, 0.07299270072992692, -0.006802721088435382, 0.006849315068493178, 0.06802721088435382, 0.06369426751592355, 0.0479041916167664, -0.005714285714285672, -0.10919540229885061, -0.09677419354838712, 0.04285714285714293, 0.047945205479452024, 0.05228758169934644, 0.037267080745341685, 0.0, -0.0239520958083832, -0.049079754601227044, -0.006451612903225823, 0.0844155844155845, 0.12574850299401197, 0.0478723404255319, -0.060913705583756306, -0.08648648648648649, -0.047337278106508895, -0.006211180124223614, -0.03125, -0.05161290322580647, 0.013605442176870763, 0.05369127516778516, -0.02547770700636942, -0.04575163398692805, -0.020547945205479423, -0.013986013986013957, -0.028368794326241176, -0.03649635036496346, -0.022727272727272707, 0.007751937984496138, 0.007692307692307665, -0.022900763358778664, -0.015625, 0.015873015873015817, -0.015625, 0.0], \"y0\": \" \", \"yaxis\": \"y\"}],                        {\"boxmode\": \"group\", \"legend\": {\"tracegroupgap\": 0}, \"template\": {\"data\": {\"bar\": [{\"error_x\": {\"color\": \"#2a3f5f\"}, \"error_y\": {\"color\": \"#2a3f5f\"}, \"marker\": {\"line\": {\"color\": \"#E5ECF6\", \"width\": 0.5}}, \"type\": \"bar\"}], \"barpolar\": [{\"marker\": {\"line\": {\"color\": \"#E5ECF6\", \"width\": 0.5}}, \"type\": \"barpolar\"}], \"carpet\": [{\"aaxis\": {\"endlinecolor\": \"#2a3f5f\", \"gridcolor\": \"white\", \"linecolor\": \"white\", \"minorgridcolor\": \"white\", \"startlinecolor\": \"#2a3f5f\"}, \"baxis\": {\"endlinecolor\": \"#2a3f5f\", \"gridcolor\": \"white\", \"linecolor\": \"white\", \"minorgridcolor\": \"white\", \"startlinecolor\": \"#2a3f5f\"}, \"type\": \"carpet\"}], \"choropleth\": [{\"colorbar\": {\"outlinewidth\": 0, \"ticks\": \"\"}, \"type\": \"choropleth\"}], \"contour\": [{\"colorbar\": {\"outlinewidth\": 0, \"ticks\": \"\"}, \"colorscale\": [[0.0, \"#0d0887\"], [0.1111111111111111, \"#46039f\"], [0.2222222222222222, \"#7201a8\"], [0.3333333333333333, \"#9c179e\"], [0.4444444444444444, \"#bd3786\"], [0.5555555555555556, \"#d8576b\"], [0.6666666666666666, \"#ed7953\"], [0.7777777777777778, \"#fb9f3a\"], [0.8888888888888888, \"#fdca26\"], [1.0, \"#f0f921\"]], \"type\": \"contour\"}], \"contourcarpet\": [{\"colorbar\": {\"outlinewidth\": 0, \"ticks\": \"\"}, \"type\": \"contourcarpet\"}], \"heatmap\": [{\"colorbar\": {\"outlinewidth\": 0, \"ticks\": \"\"}, \"colorscale\": [[0.0, \"#0d0887\"], [0.1111111111111111, \"#46039f\"], [0.2222222222222222, \"#7201a8\"], [0.3333333333333333, \"#9c179e\"], [0.4444444444444444, \"#bd3786\"], [0.5555555555555556, \"#d8576b\"], [0.6666666666666666, \"#ed7953\"], [0.7777777777777778, \"#fb9f3a\"], [0.8888888888888888, \"#fdca26\"], [1.0, \"#f0f921\"]], \"type\": \"heatmap\"}], \"heatmapgl\": [{\"colorbar\": {\"outlinewidth\": 0, \"ticks\": \"\"}, \"colorscale\": [[0.0, \"#0d0887\"], [0.1111111111111111, \"#46039f\"], [0.2222222222222222, \"#7201a8\"], [0.3333333333333333, \"#9c179e\"], [0.4444444444444444, \"#bd3786\"], [0.5555555555555556, \"#d8576b\"], [0.6666666666666666, \"#ed7953\"], [0.7777777777777778, \"#fb9f3a\"], [0.8888888888888888, \"#fdca26\"], [1.0, \"#f0f921\"]], \"type\": \"heatmapgl\"}], \"histogram\": [{\"marker\": {\"colorbar\": {\"outlinewidth\": 0, \"ticks\": \"\"}}, \"type\": \"histogram\"}], \"histogram2d\": [{\"colorbar\": {\"outlinewidth\": 0, \"ticks\": \"\"}, \"colorscale\": [[0.0, \"#0d0887\"], [0.1111111111111111, \"#46039f\"], [0.2222222222222222, \"#7201a8\"], [0.3333333333333333, \"#9c179e\"], [0.4444444444444444, \"#bd3786\"], [0.5555555555555556, \"#d8576b\"], [0.6666666666666666, \"#ed7953\"], [0.7777777777777778, \"#fb9f3a\"], [0.8888888888888888, \"#fdca26\"], [1.0, \"#f0f921\"]], \"type\": \"histogram2d\"}], \"histogram2dcontour\": [{\"colorbar\": {\"outlinewidth\": 0, \"ticks\": \"\"}, \"colorscale\": [[0.0, \"#0d0887\"], [0.1111111111111111, \"#46039f\"], [0.2222222222222222, \"#7201a8\"], [0.3333333333333333, \"#9c179e\"], [0.4444444444444444, \"#bd3786\"], [0.5555555555555556, \"#d8576b\"], [0.6666666666666666, \"#ed7953\"], [0.7777777777777778, \"#fb9f3a\"], [0.8888888888888888, \"#fdca26\"], [1.0, \"#f0f921\"]], \"type\": \"histogram2dcontour\"}], \"mesh3d\": [{\"colorbar\": {\"outlinewidth\": 0, \"ticks\": \"\"}, \"type\": \"mesh3d\"}], \"parcoords\": [{\"line\": {\"colorbar\": {\"outlinewidth\": 0, \"ticks\": \"\"}}, \"type\": \"parcoords\"}], \"pie\": [{\"automargin\": true, \"type\": \"pie\"}], \"scatter\": [{\"marker\": {\"colorbar\": {\"outlinewidth\": 0, \"ticks\": \"\"}}, \"type\": \"scatter\"}], \"scatter3d\": [{\"line\": {\"colorbar\": {\"outlinewidth\": 0, \"ticks\": \"\"}}, \"marker\": {\"colorbar\": {\"outlinewidth\": 0, \"ticks\": \"\"}}, \"type\": \"scatter3d\"}], \"scattercarpet\": [{\"marker\": {\"colorbar\": {\"outlinewidth\": 0, \"ticks\": \"\"}}, \"type\": \"scattercarpet\"}], \"scattergeo\": [{\"marker\": {\"colorbar\": {\"outlinewidth\": 0, \"ticks\": \"\"}}, \"type\": \"scattergeo\"}], \"scattergl\": [{\"marker\": {\"colorbar\": {\"outlinewidth\": 0, \"ticks\": \"\"}}, \"type\": \"scattergl\"}], \"scattermapbox\": [{\"marker\": {\"colorbar\": {\"outlinewidth\": 0, \"ticks\": \"\"}}, \"type\": \"scattermapbox\"}], \"scatterpolar\": [{\"marker\": {\"colorbar\": {\"outlinewidth\": 0, \"ticks\": \"\"}}, \"type\": \"scatterpolar\"}], \"scatterpolargl\": [{\"marker\": {\"colorbar\": {\"outlinewidth\": 0, \"ticks\": \"\"}}, \"type\": \"scatterpolargl\"}], \"scatterternary\": [{\"marker\": {\"colorbar\": {\"outlinewidth\": 0, \"ticks\": \"\"}}, \"type\": \"scatterternary\"}], \"surface\": [{\"colorbar\": {\"outlinewidth\": 0, \"ticks\": \"\"}, \"colorscale\": [[0.0, \"#0d0887\"], [0.1111111111111111, \"#46039f\"], [0.2222222222222222, \"#7201a8\"], [0.3333333333333333, \"#9c179e\"], [0.4444444444444444, \"#bd3786\"], [0.5555555555555556, \"#d8576b\"], [0.6666666666666666, \"#ed7953\"], [0.7777777777777778, \"#fb9f3a\"], [0.8888888888888888, \"#fdca26\"], [1.0, \"#f0f921\"]], \"type\": \"surface\"}], \"table\": [{\"cells\": {\"fill\": {\"color\": \"#EBF0F8\"}, \"line\": {\"color\": \"white\"}}, \"header\": {\"fill\": {\"color\": \"#C8D4E3\"}, \"line\": {\"color\": \"white\"}}, \"type\": \"table\"}]}, \"layout\": {\"annotationdefaults\": {\"arrowcolor\": \"#2a3f5f\", \"arrowhead\": 0, \"arrowwidth\": 1}, \"coloraxis\": {\"colorbar\": {\"outlinewidth\": 0, \"ticks\": \"\"}}, \"colorscale\": {\"diverging\": [[0, \"#8e0152\"], [0.1, \"#c51b7d\"], [0.2, \"#de77ae\"], [0.3, \"#f1b6da\"], [0.4, \"#fde0ef\"], [0.5, \"#f7f7f7\"], [0.6, \"#e6f5d0\"], [0.7, \"#b8e186\"], [0.8, \"#7fbc41\"], [0.9, \"#4d9221\"], [1, \"#276419\"]], \"sequential\": [[0.0, \"#0d0887\"], [0.1111111111111111, \"#46039f\"], [0.2222222222222222, \"#7201a8\"], [0.3333333333333333, \"#9c179e\"], [0.4444444444444444, \"#bd3786\"], [0.5555555555555556, \"#d8576b\"], [0.6666666666666666, \"#ed7953\"], [0.7777777777777778, \"#fb9f3a\"], [0.8888888888888888, \"#fdca26\"], [1.0, \"#f0f921\"]], \"sequentialminus\": [[0.0, \"#0d0887\"], [0.1111111111111111, \"#46039f\"], [0.2222222222222222, \"#7201a8\"], [0.3333333333333333, \"#9c179e\"], [0.4444444444444444, \"#bd3786\"], [0.5555555555555556, \"#d8576b\"], [0.6666666666666666, \"#ed7953\"], [0.7777777777777778, \"#fb9f3a\"], [0.8888888888888888, \"#fdca26\"], [1.0, \"#f0f921\"]]}, \"colorway\": [\"#636efa\", \"#EF553B\", \"#00cc96\", \"#ab63fa\", \"#FFA15A\", \"#19d3f3\", \"#FF6692\", \"#B6E880\", \"#FF97FF\", \"#FECB52\"], \"font\": {\"color\": \"#2a3f5f\"}, \"geo\": {\"bgcolor\": \"white\", \"lakecolor\": \"white\", \"landcolor\": \"#E5ECF6\", \"showlakes\": true, \"showland\": true, \"subunitcolor\": \"white\"}, \"hoverlabel\": {\"align\": \"left\"}, \"hovermode\": \"closest\", \"mapbox\": {\"style\": \"light\"}, \"paper_bgcolor\": \"white\", \"plot_bgcolor\": \"#E5ECF6\", \"polar\": {\"angularaxis\": {\"gridcolor\": \"white\", \"linecolor\": \"white\", \"ticks\": \"\"}, \"bgcolor\": \"#E5ECF6\", \"radialaxis\": {\"gridcolor\": \"white\", \"linecolor\": \"white\", \"ticks\": \"\"}}, \"scene\": {\"xaxis\": {\"backgroundcolor\": \"#E5ECF6\", \"gridcolor\": \"white\", \"gridwidth\": 2, \"linecolor\": \"white\", \"showbackground\": true, \"ticks\": \"\", \"zerolinecolor\": \"white\"}, \"yaxis\": {\"backgroundcolor\": \"#E5ECF6\", \"gridcolor\": \"white\", \"gridwidth\": 2, \"linecolor\": \"white\", \"showbackground\": true, \"ticks\": \"\", \"zerolinecolor\": \"white\"}, \"zaxis\": {\"backgroundcolor\": \"#E5ECF6\", \"gridcolor\": \"white\", \"gridwidth\": 2, \"linecolor\": \"white\", \"showbackground\": true, \"ticks\": \"\", \"zerolinecolor\": \"white\"}}, \"shapedefaults\": {\"line\": {\"color\": \"#2a3f5f\"}}, \"ternary\": {\"aaxis\": {\"gridcolor\": \"white\", \"linecolor\": \"white\", \"ticks\": \"\"}, \"baxis\": {\"gridcolor\": \"white\", \"linecolor\": \"white\", \"ticks\": \"\"}, \"bgcolor\": \"#E5ECF6\", \"caxis\": {\"gridcolor\": \"white\", \"linecolor\": \"white\", \"ticks\": \"\"}}, \"title\": {\"x\": 0.05}, \"xaxis\": {\"automargin\": true, \"gridcolor\": \"white\", \"linecolor\": \"white\", \"ticks\": \"\", \"title\": {\"standoff\": 15}, \"zerolinecolor\": \"white\", \"zerolinewidth\": 2}, \"yaxis\": {\"automargin\": true, \"gridcolor\": \"white\", \"linecolor\": \"white\", \"ticks\": \"\", \"title\": {\"standoff\": 15}, \"zerolinecolor\": \"white\", \"zerolinewidth\": 2}}}, \"title\": {\"text\": \"Art Price STD 1998-2020\"}, \"xaxis\": {\"anchor\": \"y\", \"domain\": [0.0, 1.0], \"title\": {\"text\": \"variable\"}}, \"yaxis\": {\"anchor\": \"x\", \"domain\": [0.0, 1.0], \"title\": {\"text\": \"value\"}}},                        {\"responsive\": true}                    ).then(function(){\n",
       "                            \n",
       "var gd = document.getElementById('dd6ffec9-ba4f-469c-9d57-795b7b462bd0');\n",
       "var x = new MutationObserver(function (mutations, observer) {{\n",
       "        var display = window.getComputedStyle(gd).display;\n",
       "        if (!display || display === 'none') {{\n",
       "            console.log([gd, 'removed!']);\n",
       "            Plotly.purge(gd);\n",
       "            observer.disconnect();\n",
       "        }}\n",
       "}});\n",
       "\n",
       "// Listen for the removal of the full notebook cells\n",
       "var notebookContainer = gd.closest('#notebook-container');\n",
       "if (notebookContainer) {{\n",
       "    x.observe(notebookContainer, {childList: true});\n",
       "}}\n",
       "\n",
       "// Listen for the clearing of the current output cell\n",
       "var outputEl = gd.closest('.output');\n",
       "if (outputEl) {{\n",
       "    x.observe(outputEl, {childList: true});\n",
       "}}\n",
       "\n",
       "                        })                };                });            </script>        </div>"
      ]
     },
     "metadata": {},
     "output_type": "display_data"
    }
   ],
   "source": [
    "art_index_std_box = px.box(art_index_quarterly_returns, title=\"Art Price STD 1998-2020\")\n",
    "art_index_std_box"
   ]
  },
  {
   "cell_type": "code",
   "execution_count": null,
   "metadata": {},
   "outputs": [],
   "source": []
  }
 ],
 "metadata": {
  "kernelspec": {
   "display_name": "Python 3",
   "language": "python",
   "name": "python3"
  },
  "language_info": {
   "codemirror_mode": {
    "name": "ipython",
    "version": 3
   },
   "file_extension": ".py",
   "mimetype": "text/x-python",
   "name": "python",
   "nbconvert_exporter": "python",
   "pygments_lexer": "ipython3",
   "version": "3.7.7"
  }
 },
 "nbformat": 4,
 "nbformat_minor": 4
}
