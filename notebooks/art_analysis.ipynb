{
 "cells": [
  {
   "cell_type": "code",
   "execution_count": 91,
   "metadata": {},
   "outputs": [],
   "source": [
    "import pandas as pd\n",
    "from pathlib import Path\n",
    "import matplotlib\n",
    "import hvplot.pandas\n",
    "import plotly.express as px\n",
    "\n",
    "%matplotlib inline"
   ]
  },
  {
   "cell_type": "code",
   "execution_count": 84,
   "metadata": {},
   "outputs": [],
   "source": [
    "# Data source & Art Prices:\n",
    "# Copyright © Artprice.com\n",
    "# Indexes are calculated based on all Fine Art auction results (paintings, sculptures, drawings, photographs, prints, watercolors, etc.) recorded by Artprice.com, apart from antiques and furniture. \n",
    "# Auction results are converted in USD, if no other specification.\n",
    "\n",
    "file_path = Path(\"../data_imports/Artprice_Indexes_Quarterly_data_Base100_January1998.csv\")"
   ]
  },
  {
   "cell_type": "code",
   "execution_count": 85,
   "metadata": {},
   "outputs": [
    {
     "data": {
      "text/html": [
       "<div>\n",
       "<style scoped>\n",
       "    .dataframe tbody tr th:only-of-type {\n",
       "        vertical-align: middle;\n",
       "    }\n",
       "\n",
       "    .dataframe tbody tr th {\n",
       "        vertical-align: top;\n",
       "    }\n",
       "\n",
       "    .dataframe thead th {\n",
       "        text-align: right;\n",
       "    }\n",
       "</style>\n",
       "<table border=\"1\" class=\"dataframe\">\n",
       "  <thead>\n",
       "    <tr style=\"text-align: right;\">\n",
       "      <th></th>\n",
       "      <th>Unnamed: 0</th>\n",
       "      <th>Global Index (USD)</th>\n",
       "      <th>Global Index (EUR)</th>\n",
       "      <th>Painting</th>\n",
       "      <th>Sculpture</th>\n",
       "      <th>Photography</th>\n",
       "      <th>Drawing</th>\n",
       "      <th>Print</th>\n",
       "      <th>19th Century</th>\n",
       "      <th>Modern Art</th>\n",
       "      <th>Post-War</th>\n",
       "      <th>Contemporary</th>\n",
       "      <th>USA (USD)</th>\n",
       "      <th>UK (GBP)</th>\n",
       "      <th>France (EUR)</th>\n",
       "    </tr>\n",
       "  </thead>\n",
       "  <tbody>\n",
       "    <tr>\n",
       "      <th>0</th>\n",
       "      <td>1/1/1998</td>\n",
       "      <td>100</td>\n",
       "      <td>100</td>\n",
       "      <td>100</td>\n",
       "      <td>100</td>\n",
       "      <td>100</td>\n",
       "      <td>100</td>\n",
       "      <td>100</td>\n",
       "      <td>100</td>\n",
       "      <td>100</td>\n",
       "      <td>100</td>\n",
       "      <td>100</td>\n",
       "      <td>105</td>\n",
       "      <td>100</td>\n",
       "      <td>100</td>\n",
       "    </tr>\n",
       "    <tr>\n",
       "      <th>1</th>\n",
       "      <td>4/1/1998</td>\n",
       "      <td>107</td>\n",
       "      <td>110</td>\n",
       "      <td>109</td>\n",
       "      <td>139</td>\n",
       "      <td>96</td>\n",
       "      <td>104</td>\n",
       "      <td>114</td>\n",
       "      <td>110</td>\n",
       "      <td>98</td>\n",
       "      <td>114</td>\n",
       "      <td>101</td>\n",
       "      <td>104</td>\n",
       "      <td>98</td>\n",
       "      <td>107</td>\n",
       "    </tr>\n",
       "    <tr>\n",
       "      <th>2</th>\n",
       "      <td>7/1/1998</td>\n",
       "      <td>106</td>\n",
       "      <td>106</td>\n",
       "      <td>107</td>\n",
       "      <td>133</td>\n",
       "      <td>94</td>\n",
       "      <td>106</td>\n",
       "      <td>127</td>\n",
       "      <td>118</td>\n",
       "      <td>97</td>\n",
       "      <td>112</td>\n",
       "      <td>109</td>\n",
       "      <td>100</td>\n",
       "      <td>95</td>\n",
       "      <td>105</td>\n",
       "    </tr>\n",
       "    <tr>\n",
       "      <th>3</th>\n",
       "      <td>10/1/1998</td>\n",
       "      <td>96</td>\n",
       "      <td>96</td>\n",
       "      <td>103</td>\n",
       "      <td>128</td>\n",
       "      <td>85</td>\n",
       "      <td>109</td>\n",
       "      <td>123</td>\n",
       "      <td>122</td>\n",
       "      <td>94</td>\n",
       "      <td>102</td>\n",
       "      <td>114</td>\n",
       "      <td>102</td>\n",
       "      <td>97</td>\n",
       "      <td>100</td>\n",
       "    </tr>\n",
       "    <tr>\n",
       "      <th>4</th>\n",
       "      <td>1/1/1999</td>\n",
       "      <td>104</td>\n",
       "      <td>100</td>\n",
       "      <td>107</td>\n",
       "      <td>132</td>\n",
       "      <td>84</td>\n",
       "      <td>108</td>\n",
       "      <td>109</td>\n",
       "      <td>119</td>\n",
       "      <td>87</td>\n",
       "      <td>108</td>\n",
       "      <td>112</td>\n",
       "      <td>104</td>\n",
       "      <td>100</td>\n",
       "      <td>100</td>\n",
       "    </tr>\n",
       "    <tr>\n",
       "      <th>5</th>\n",
       "      <td>4/1/1999</td>\n",
       "      <td>103</td>\n",
       "      <td>104</td>\n",
       "      <td>114</td>\n",
       "      <td>134</td>\n",
       "      <td>85</td>\n",
       "      <td>103</td>\n",
       "      <td>109</td>\n",
       "      <td>113</td>\n",
       "      <td>81</td>\n",
       "      <td>122</td>\n",
       "      <td>106</td>\n",
       "      <td>104</td>\n",
       "      <td>101</td>\n",
       "      <td>105</td>\n",
       "    </tr>\n",
       "    <tr>\n",
       "      <th>6</th>\n",
       "      <td>7/1/1999</td>\n",
       "      <td>104</td>\n",
       "      <td>112</td>\n",
       "      <td>115</td>\n",
       "      <td>134</td>\n",
       "      <td>85</td>\n",
       "      <td>102</td>\n",
       "      <td>123</td>\n",
       "      <td>112</td>\n",
       "      <td>81</td>\n",
       "      <td>130</td>\n",
       "      <td>101</td>\n",
       "      <td>107</td>\n",
       "      <td>104</td>\n",
       "      <td>110</td>\n",
       "    </tr>\n",
       "    <tr>\n",
       "      <th>7</th>\n",
       "      <td>10/1/1999</td>\n",
       "      <td>104</td>\n",
       "      <td>113</td>\n",
       "      <td>115</td>\n",
       "      <td>140</td>\n",
       "      <td>92</td>\n",
       "      <td>103</td>\n",
       "      <td>130</td>\n",
       "      <td>111</td>\n",
       "      <td>87</td>\n",
       "      <td>135</td>\n",
       "      <td>109</td>\n",
       "      <td>112</td>\n",
       "      <td>109</td>\n",
       "      <td>115</td>\n",
       "    </tr>\n",
       "    <tr>\n",
       "      <th>8</th>\n",
       "      <td>1/1/2000</td>\n",
       "      <td>113</td>\n",
       "      <td>123</td>\n",
       "      <td>117</td>\n",
       "      <td>140</td>\n",
       "      <td>126</td>\n",
       "      <td>109</td>\n",
       "      <td>123</td>\n",
       "      <td>109</td>\n",
       "      <td>99</td>\n",
       "      <td>140</td>\n",
       "      <td>132</td>\n",
       "      <td>115</td>\n",
       "      <td>113</td>\n",
       "      <td>123</td>\n",
       "    </tr>\n",
       "    <tr>\n",
       "      <th>9</th>\n",
       "      <td>4/1/2000</td>\n",
       "      <td>116</td>\n",
       "      <td>133</td>\n",
       "      <td>118</td>\n",
       "      <td>137</td>\n",
       "      <td>156</td>\n",
       "      <td>114</td>\n",
       "      <td>123</td>\n",
       "      <td>106</td>\n",
       "      <td>109</td>\n",
       "      <td>141</td>\n",
       "      <td>145</td>\n",
       "      <td>114</td>\n",
       "      <td>117</td>\n",
       "      <td>131</td>\n",
       "    </tr>\n",
       "  </tbody>\n",
       "</table>\n",
       "</div>"
      ],
      "text/plain": [
       "  Unnamed: 0  Global Index (USD)  Global Index (EUR)  Painting  Sculpture  \\\n",
       "0   1/1/1998                 100                 100       100        100   \n",
       "1   4/1/1998                 107                 110       109        139   \n",
       "2   7/1/1998                 106                 106       107        133   \n",
       "3  10/1/1998                  96                  96       103        128   \n",
       "4   1/1/1999                 104                 100       107        132   \n",
       "5   4/1/1999                 103                 104       114        134   \n",
       "6   7/1/1999                 104                 112       115        134   \n",
       "7  10/1/1999                 104                 113       115        140   \n",
       "8   1/1/2000                 113                 123       117        140   \n",
       "9   4/1/2000                 116                 133       118        137   \n",
       "\n",
       "   Photography  Drawing  Print  19th Century  Modern Art  Post-War  \\\n",
       "0          100      100    100           100         100       100   \n",
       "1           96      104    114           110          98       114   \n",
       "2           94      106    127           118          97       112   \n",
       "3           85      109    123           122          94       102   \n",
       "4           84      108    109           119          87       108   \n",
       "5           85      103    109           113          81       122   \n",
       "6           85      102    123           112          81       130   \n",
       "7           92      103    130           111          87       135   \n",
       "8          126      109    123           109          99       140   \n",
       "9          156      114    123           106         109       141   \n",
       "\n",
       "   Contemporary  USA (USD)  UK (GBP)  France (EUR)  \n",
       "0           100        105       100           100  \n",
       "1           101        104        98           107  \n",
       "2           109        100        95           105  \n",
       "3           114        102        97           100  \n",
       "4           112        104       100           100  \n",
       "5           106        104       101           105  \n",
       "6           101        107       104           110  \n",
       "7           109        112       109           115  \n",
       "8           132        115       113           123  \n",
       "9           145        114       117           131  "
      ]
     },
     "execution_count": 85,
     "metadata": {},
     "output_type": "execute_result"
    }
   ],
   "source": [
    "art_index = pd.read_csv(file_path, encoding='utf-8')\n",
    "\n",
    "art_index.head(10)"
   ]
  },
  {
   "cell_type": "code",
   "execution_count": 86,
   "metadata": {},
   "outputs": [
    {
     "data": {
      "text/html": [
       "<div>\n",
       "<style scoped>\n",
       "    .dataframe tbody tr th:only-of-type {\n",
       "        vertical-align: middle;\n",
       "    }\n",
       "\n",
       "    .dataframe tbody tr th {\n",
       "        vertical-align: top;\n",
       "    }\n",
       "\n",
       "    .dataframe thead th {\n",
       "        text-align: right;\n",
       "    }\n",
       "</style>\n",
       "<table border=\"1\" class=\"dataframe\">\n",
       "  <thead>\n",
       "    <tr style=\"text-align: right;\">\n",
       "      <th></th>\n",
       "      <th>Date</th>\n",
       "      <th>Global Index (USD)</th>\n",
       "      <th>Global Index (EUR)</th>\n",
       "      <th>Painting</th>\n",
       "      <th>Sculpture</th>\n",
       "      <th>Photography</th>\n",
       "      <th>Drawing</th>\n",
       "      <th>Print</th>\n",
       "      <th>19th Century</th>\n",
       "      <th>Modern Art</th>\n",
       "      <th>Post-War</th>\n",
       "      <th>Contemporary</th>\n",
       "      <th>USA (USD)</th>\n",
       "      <th>UK (GBP)</th>\n",
       "      <th>France (EUR)</th>\n",
       "    </tr>\n",
       "  </thead>\n",
       "  <tbody>\n",
       "    <tr>\n",
       "      <th>0</th>\n",
       "      <td>1/1/1998</td>\n",
       "      <td>100</td>\n",
       "      <td>100</td>\n",
       "      <td>100</td>\n",
       "      <td>100</td>\n",
       "      <td>100</td>\n",
       "      <td>100</td>\n",
       "      <td>100</td>\n",
       "      <td>100</td>\n",
       "      <td>100</td>\n",
       "      <td>100</td>\n",
       "      <td>100</td>\n",
       "      <td>105</td>\n",
       "      <td>100</td>\n",
       "      <td>100</td>\n",
       "    </tr>\n",
       "    <tr>\n",
       "      <th>1</th>\n",
       "      <td>4/1/1998</td>\n",
       "      <td>107</td>\n",
       "      <td>110</td>\n",
       "      <td>109</td>\n",
       "      <td>139</td>\n",
       "      <td>96</td>\n",
       "      <td>104</td>\n",
       "      <td>114</td>\n",
       "      <td>110</td>\n",
       "      <td>98</td>\n",
       "      <td>114</td>\n",
       "      <td>101</td>\n",
       "      <td>104</td>\n",
       "      <td>98</td>\n",
       "      <td>107</td>\n",
       "    </tr>\n",
       "    <tr>\n",
       "      <th>2</th>\n",
       "      <td>7/1/1998</td>\n",
       "      <td>106</td>\n",
       "      <td>106</td>\n",
       "      <td>107</td>\n",
       "      <td>133</td>\n",
       "      <td>94</td>\n",
       "      <td>106</td>\n",
       "      <td>127</td>\n",
       "      <td>118</td>\n",
       "      <td>97</td>\n",
       "      <td>112</td>\n",
       "      <td>109</td>\n",
       "      <td>100</td>\n",
       "      <td>95</td>\n",
       "      <td>105</td>\n",
       "    </tr>\n",
       "    <tr>\n",
       "      <th>3</th>\n",
       "      <td>10/1/1998</td>\n",
       "      <td>96</td>\n",
       "      <td>96</td>\n",
       "      <td>103</td>\n",
       "      <td>128</td>\n",
       "      <td>85</td>\n",
       "      <td>109</td>\n",
       "      <td>123</td>\n",
       "      <td>122</td>\n",
       "      <td>94</td>\n",
       "      <td>102</td>\n",
       "      <td>114</td>\n",
       "      <td>102</td>\n",
       "      <td>97</td>\n",
       "      <td>100</td>\n",
       "    </tr>\n",
       "    <tr>\n",
       "      <th>4</th>\n",
       "      <td>1/1/1999</td>\n",
       "      <td>104</td>\n",
       "      <td>100</td>\n",
       "      <td>107</td>\n",
       "      <td>132</td>\n",
       "      <td>84</td>\n",
       "      <td>108</td>\n",
       "      <td>109</td>\n",
       "      <td>119</td>\n",
       "      <td>87</td>\n",
       "      <td>108</td>\n",
       "      <td>112</td>\n",
       "      <td>104</td>\n",
       "      <td>100</td>\n",
       "      <td>100</td>\n",
       "    </tr>\n",
       "  </tbody>\n",
       "</table>\n",
       "</div>"
      ],
      "text/plain": [
       "        Date  Global Index (USD)  Global Index (EUR)  Painting  Sculpture  \\\n",
       "0   1/1/1998                 100                 100       100        100   \n",
       "1   4/1/1998                 107                 110       109        139   \n",
       "2   7/1/1998                 106                 106       107        133   \n",
       "3  10/1/1998                  96                  96       103        128   \n",
       "4   1/1/1999                 104                 100       107        132   \n",
       "\n",
       "   Photography  Drawing  Print  19th Century  Modern Art  Post-War  \\\n",
       "0          100      100    100           100         100       100   \n",
       "1           96      104    114           110          98       114   \n",
       "2           94      106    127           118          97       112   \n",
       "3           85      109    123           122          94       102   \n",
       "4           84      108    109           119          87       108   \n",
       "\n",
       "   Contemporary  USA (USD)  UK (GBP)  France (EUR)  \n",
       "0           100        105       100           100  \n",
       "1           101        104        98           107  \n",
       "2           109        100        95           105  \n",
       "3           114        102        97           100  \n",
       "4           112        104       100           100  "
      ]
     },
     "execution_count": 86,
     "metadata": {},
     "output_type": "execute_result"
    }
   ],
   "source": [
    "art_index.rename(columns=({\"Unnamed: 0\" : \"Date\"}), inplace=True)\n",
    "art_index.dropna()\n",
    "\n",
    "art_index.head()"
   ]
  },
  {
   "cell_type": "code",
   "execution_count": 87,
   "metadata": {},
   "outputs": [
    {
     "data": {
      "text/html": [
       "<div>\n",
       "<style scoped>\n",
       "    .dataframe tbody tr th:only-of-type {\n",
       "        vertical-align: middle;\n",
       "    }\n",
       "\n",
       "    .dataframe tbody tr th {\n",
       "        vertical-align: top;\n",
       "    }\n",
       "\n",
       "    .dataframe thead th {\n",
       "        text-align: right;\n",
       "    }\n",
       "</style>\n",
       "<table border=\"1\" class=\"dataframe\">\n",
       "  <thead>\n",
       "    <tr style=\"text-align: right;\">\n",
       "      <th></th>\n",
       "      <th>Global Index (USD)</th>\n",
       "      <th>Global Index (EUR)</th>\n",
       "      <th>Painting</th>\n",
       "      <th>Sculpture</th>\n",
       "      <th>Photography</th>\n",
       "      <th>Drawing</th>\n",
       "      <th>Print</th>\n",
       "      <th>19th Century</th>\n",
       "      <th>Modern Art</th>\n",
       "      <th>Post-War</th>\n",
       "      <th>Contemporary</th>\n",
       "      <th>USA (USD)</th>\n",
       "      <th>UK (GBP)</th>\n",
       "      <th>France (EUR)</th>\n",
       "    </tr>\n",
       "    <tr>\n",
       "      <th>Date</th>\n",
       "      <th></th>\n",
       "      <th></th>\n",
       "      <th></th>\n",
       "      <th></th>\n",
       "      <th></th>\n",
       "      <th></th>\n",
       "      <th></th>\n",
       "      <th></th>\n",
       "      <th></th>\n",
       "      <th></th>\n",
       "      <th></th>\n",
       "      <th></th>\n",
       "      <th></th>\n",
       "      <th></th>\n",
       "    </tr>\n",
       "  </thead>\n",
       "  <tbody>\n",
       "    <tr>\n",
       "      <th>1/1/1998</th>\n",
       "      <td>100</td>\n",
       "      <td>100</td>\n",
       "      <td>100</td>\n",
       "      <td>100</td>\n",
       "      <td>100</td>\n",
       "      <td>100</td>\n",
       "      <td>100</td>\n",
       "      <td>100</td>\n",
       "      <td>100</td>\n",
       "      <td>100</td>\n",
       "      <td>100</td>\n",
       "      <td>105</td>\n",
       "      <td>100</td>\n",
       "      <td>100</td>\n",
       "    </tr>\n",
       "    <tr>\n",
       "      <th>4/1/1998</th>\n",
       "      <td>107</td>\n",
       "      <td>110</td>\n",
       "      <td>109</td>\n",
       "      <td>139</td>\n",
       "      <td>96</td>\n",
       "      <td>104</td>\n",
       "      <td>114</td>\n",
       "      <td>110</td>\n",
       "      <td>98</td>\n",
       "      <td>114</td>\n",
       "      <td>101</td>\n",
       "      <td>104</td>\n",
       "      <td>98</td>\n",
       "      <td>107</td>\n",
       "    </tr>\n",
       "    <tr>\n",
       "      <th>7/1/1998</th>\n",
       "      <td>106</td>\n",
       "      <td>106</td>\n",
       "      <td>107</td>\n",
       "      <td>133</td>\n",
       "      <td>94</td>\n",
       "      <td>106</td>\n",
       "      <td>127</td>\n",
       "      <td>118</td>\n",
       "      <td>97</td>\n",
       "      <td>112</td>\n",
       "      <td>109</td>\n",
       "      <td>100</td>\n",
       "      <td>95</td>\n",
       "      <td>105</td>\n",
       "    </tr>\n",
       "    <tr>\n",
       "      <th>10/1/1998</th>\n",
       "      <td>96</td>\n",
       "      <td>96</td>\n",
       "      <td>103</td>\n",
       "      <td>128</td>\n",
       "      <td>85</td>\n",
       "      <td>109</td>\n",
       "      <td>123</td>\n",
       "      <td>122</td>\n",
       "      <td>94</td>\n",
       "      <td>102</td>\n",
       "      <td>114</td>\n",
       "      <td>102</td>\n",
       "      <td>97</td>\n",
       "      <td>100</td>\n",
       "    </tr>\n",
       "    <tr>\n",
       "      <th>1/1/1999</th>\n",
       "      <td>104</td>\n",
       "      <td>100</td>\n",
       "      <td>107</td>\n",
       "      <td>132</td>\n",
       "      <td>84</td>\n",
       "      <td>108</td>\n",
       "      <td>109</td>\n",
       "      <td>119</td>\n",
       "      <td>87</td>\n",
       "      <td>108</td>\n",
       "      <td>112</td>\n",
       "      <td>104</td>\n",
       "      <td>100</td>\n",
       "      <td>100</td>\n",
       "    </tr>\n",
       "  </tbody>\n",
       "</table>\n",
       "</div>"
      ],
      "text/plain": [
       "           Global Index (USD)  Global Index (EUR)  Painting  Sculpture  \\\n",
       "Date                                                                     \n",
       "1/1/1998                  100                 100       100        100   \n",
       "4/1/1998                  107                 110       109        139   \n",
       "7/1/1998                  106                 106       107        133   \n",
       "10/1/1998                  96                  96       103        128   \n",
       "1/1/1999                  104                 100       107        132   \n",
       "\n",
       "           Photography  Drawing  Print  19th Century  Modern Art  Post-War  \\\n",
       "Date                                                                         \n",
       "1/1/1998           100      100    100           100         100       100   \n",
       "4/1/1998            96      104    114           110          98       114   \n",
       "7/1/1998            94      106    127           118          97       112   \n",
       "10/1/1998           85      109    123           122          94       102   \n",
       "1/1/1999            84      108    109           119          87       108   \n",
       "\n",
       "           Contemporary  USA (USD)  UK (GBP)  France (EUR)  \n",
       "Date                                                        \n",
       "1/1/1998            100        105       100           100  \n",
       "4/1/1998            101        104        98           107  \n",
       "7/1/1998            109        100        95           105  \n",
       "10/1/1998           114        102        97           100  \n",
       "1/1/1999            112        104       100           100  "
      ]
     },
     "execution_count": 87,
     "metadata": {},
     "output_type": "execute_result"
    }
   ],
   "source": [
    "art_index.set_index(\"Date\", drop=True, inplace=True)\n",
    "art_index.head()\n"
   ]
  },
  {
   "cell_type": "code",
   "execution_count": 88,
   "metadata": {},
   "outputs": [
    {
     "data": {
      "application/vnd.holoviews_exec.v0+json": "",
      "text/html": [
       "<div id='15252'>\n",
       "\n",
       "\n",
       "\n",
       "\n",
       "\n",
       "  <div class=\"bk-root\" id=\"800be326-f14c-4641-aead-46c8b1e77000\" data-root-id=\"15252\"></div>\n",
       "</div>\n",
       "<script type=\"application/javascript\">(function(root) {\n",
       "  function embed_document(root) {\n",
       "  var docs_json = {\"bdcb3838-a8c7-4a3b-bab0-1bc88bd22c9a\":{\"roots\":{\"references\":[{\"attributes\":{\"label\":{\"value\":\"Sculpture\"},\"renderers\":[{\"id\":\"15367\"}]},\"id\":\"15383\",\"type\":\"LegendItem\"},{\"attributes\":{\"line_color\":\"#9367bc\",\"line_width\":2,\"x\":{\"field\":\"Date\"},\"y\":{\"field\":\"value\"}},\"id\":\"15387\",\"type\":\"Line\"},{\"attributes\":{\"source\":{\"id\":\"15529\"}},\"id\":\"15536\",\"type\":\"CDSView\"},{\"attributes\":{\"data_source\":{\"id\":\"15529\"},\"glyph\":{\"id\":\"15532\"},\"hover_glyph\":null,\"muted_glyph\":{\"id\":\"15534\"},\"nonselection_glyph\":{\"id\":\"15533\"},\"selection_glyph\":null,\"view\":{\"id\":\"15536\"}},\"id\":\"15535\",\"type\":\"GlyphRenderer\"},{\"attributes\":{},\"id\":\"15358\",\"type\":\"UnionRenderers\"},{\"attributes\":{\"margin\":[5,5,5,5],\"name\":\"HSpacer37939\",\"sizing_mode\":\"stretch_width\"},\"id\":\"15253\",\"type\":\"Spacer\"},{\"attributes\":{},\"id\":\"15602\",\"type\":\"Selection\"},{\"attributes\":{\"label\":{\"value\":\"Global Index (EUR)\"},\"renderers\":[{\"id\":\"15327\"}]},\"id\":\"15339\",\"type\":\"LegendItem\"},{\"attributes\":{},\"id\":\"15304\",\"type\":\"Selection\"},{\"attributes\":{},\"id\":\"15337\",\"type\":\"UnionRenderers\"},{\"attributes\":{\"line_color\":\"#0fffa8\",\"line_width\":2,\"x\":{\"field\":\"Date\"},\"y\":{\"field\":\"value\"}},\"id\":\"15643\",\"type\":\"Line\"},{\"attributes\":{\"data\":{\"Date\":[\"1/1/1998\",\"4/1/1998\",\"7/1/1998\",\"10/1/1998\",\"1/1/1999\",\"4/1/1999\",\"7/1/1999\",\"10/1/1999\",\"1/1/2000\",\"4/1/2000\",\"7/1/2000\",\"10/1/2000\",\"1/1/2001\",\"4/1/2001\",\"7/1/2001\",\"10/1/2001\",\"1/1/2002\",\"4/1/2002\",\"7/1/2002\",\"10/1/2002\",\"1/1/2003\",\"4/1/2003\",\"7/1/2003\",\"10/1/2003\",\"1/1/2004\",\"4/1/2004\",\"7/1/2004\",\"10/1/2004\",\"1/1/2005\",\"4/1/2005\",\"7/1/2005\",\"10/1/2005\",\"1/1/2006\",\"4/1/2006\",\"7/1/2006\",\"10/1/2006\",\"1/1/2007\",\"4/1/2007\",\"7/1/2007\",\"10/1/2007\",\"1/1/2008\",\"4/1/2008\",\"7/1/2008\",\"10/1/2008\",\"1/1/2009\",\"4/1/2009\",\"7/1/2009\",\"10/1/2009\",\"1/1/2010\",\"4/1/2010\",\"7/1/2010\",\"10/1/2010\",\"1/1/2011\",\"4/1/2011\",\"7/1/2011\",\"10/1/2011\",\"1/1/2012\",\"4/1/2012\",\"7/1/2012\",\"10/1/2012\",\"1/1/2013\",\"4/1/2013\",\"7/1/2013\",\"10/1/2013\",\"1/1/2014\",\"4/1/2014\",\"7/1/2014\",\"10/1/2014\",\"1/1/2015\",\"4/1/2015\",\"7/1/2015\",\"10/1/2015\",\"1/1/2016\",\"4/1/2016\",\"7/1/2016\",\"10/1/2016\",\"1/1/2017\",\"4/1/2017\",\"7/1/2017\",\"10/1/2017\",\"1/1/2018\",\"4/1/2018\",\"7/1/2018\",\"10/1/2018\",\"1/1/2019\",\"4/1/2019\",\"7/1/2019\",\"10/1/2019\",\"1/1/2020\",\"4/1/2020\",\"7/1/2020\"],\"Variable\":[\"Global Index (EUR)\",\"Global Index (EUR)\",\"Global Index (EUR)\",\"Global Index (EUR)\",\"Global Index (EUR)\",\"Global Index (EUR)\",\"Global Index (EUR)\",\"Global Index (EUR)\",\"Global Index (EUR)\",\"Global Index (EUR)\",\"Global Index (EUR)\",\"Global Index (EUR)\",\"Global Index (EUR)\",\"Global Index (EUR)\",\"Global Index (EUR)\",\"Global Index (EUR)\",\"Global Index (EUR)\",\"Global Index (EUR)\",\"Global Index (EUR)\",\"Global Index (EUR)\",\"Global Index (EUR)\",\"Global Index (EUR)\",\"Global Index (EUR)\",\"Global Index (EUR)\",\"Global Index (EUR)\",\"Global Index (EUR)\",\"Global Index (EUR)\",\"Global Index (EUR)\",\"Global Index (EUR)\",\"Global Index (EUR)\",\"Global Index (EUR)\",\"Global Index (EUR)\",\"Global Index (EUR)\",\"Global Index (EUR)\",\"Global Index (EUR)\",\"Global Index (EUR)\",\"Global Index (EUR)\",\"Global Index (EUR)\",\"Global Index (EUR)\",\"Global Index (EUR)\",\"Global Index (EUR)\",\"Global Index (EUR)\",\"Global Index (EUR)\",\"Global Index (EUR)\",\"Global Index (EUR)\",\"Global Index (EUR)\",\"Global Index (EUR)\",\"Global Index (EUR)\",\"Global Index (EUR)\",\"Global Index (EUR)\",\"Global Index (EUR)\",\"Global Index (EUR)\",\"Global Index (EUR)\",\"Global Index (EUR)\",\"Global Index (EUR)\",\"Global Index (EUR)\",\"Global Index (EUR)\",\"Global Index (EUR)\",\"Global Index (EUR)\",\"Global Index (EUR)\",\"Global Index (EUR)\",\"Global Index (EUR)\",\"Global Index (EUR)\",\"Global Index (EUR)\",\"Global Index (EUR)\",\"Global Index (EUR)\",\"Global Index (EUR)\",\"Global Index (EUR)\",\"Global Index (EUR)\",\"Global Index (EUR)\",\"Global Index (EUR)\",\"Global Index (EUR)\",\"Global Index (EUR)\",\"Global Index (EUR)\",\"Global Index (EUR)\",\"Global Index (EUR)\",\"Global Index (EUR)\",\"Global Index (EUR)\",\"Global Index (EUR)\",\"Global Index (EUR)\",\"Global Index (EUR)\",\"Global Index (EUR)\",\"Global Index (EUR)\",\"Global Index (EUR)\",\"Global Index (EUR)\",\"Global Index (EUR)\",\"Global Index (EUR)\",\"Global Index (EUR)\",\"Global Index (EUR)\",\"Global Index (EUR)\",\"Global Index (EUR)\"],\"value\":[100,110,106,96,100,104,112,113,123,133,135,141,137,147,137,135,133,141,132,127,142,146,137,122,135,140,142,142,140,159,156,146,171,165,172,147,169,194,194,162,185,169,172,145,149,124,142,113,144,146,154,131,172,153,190,169,169,113,167,136,173,160,173,160,159,144,169,187,210,179,172,153,168,151,151,133,177,140,156,129,156,123,144,117,140,123,137,114,138,119,126]},\"selected\":{\"id\":\"15322\"},\"selection_policy\":{\"id\":\"15337\"}},\"id\":\"15321\",\"type\":\"ColumnDataSource\"},{\"attributes\":{\"children\":[{\"id\":\"15253\"},{\"id\":\"15270\"},{\"id\":\"16030\"}],\"margin\":[0,0,0,0],\"name\":\"Row37935\",\"tags\":[\"embedded\"]},\"id\":\"15252\",\"type\":\"Row\"},{\"attributes\":{\"label\":{\"value\":\"Post-War\"},\"renderers\":[{\"id\":\"15535\"}]},\"id\":\"15563\",\"type\":\"LegendItem\"},{\"attributes\":{\"line_alpha\":0.1,\"line_color\":\"#8c564b\",\"line_width\":2,\"x\":{\"field\":\"Date\"},\"y\":{\"field\":\"value\"}},\"id\":\"15413\",\"type\":\"Line\"},{\"attributes\":{\"line_color\":\"#1f77b3\",\"line_width\":2,\"x\":{\"field\":\"Date\"},\"y\":{\"field\":\"value\"}},\"id\":\"15306\",\"type\":\"Line\"},{\"attributes\":{\"line_color\":\"#004201\",\"line_width\":2,\"x\":{\"field\":\"Date\"},\"y\":{\"field\":\"value\"}},\"id\":\"15604\",\"type\":\"Line\"},{\"attributes\":{\"source\":{\"id\":\"15384\"}},\"id\":\"15391\",\"type\":\"CDSView\"},{\"attributes\":{\"source\":{\"id\":\"15601\"}},\"id\":\"15608\",\"type\":\"CDSView\"},{\"attributes\":{\"data_source\":{\"id\":\"15640\"},\"glyph\":{\"id\":\"15643\"},\"hover_glyph\":null,\"muted_glyph\":{\"id\":\"15645\"},\"nonselection_glyph\":{\"id\":\"15644\"},\"selection_glyph\":null,\"view\":{\"id\":\"15647\"}},\"id\":\"15646\",\"type\":\"GlyphRenderer\"},{\"attributes\":{},\"id\":\"15721\",\"type\":\"UnionRenderers\"},{\"attributes\":{},\"id\":\"15275\",\"type\":\"CategoricalScale\"},{\"attributes\":{\"label\":{\"value\":\"Modern Art\"},\"renderers\":[{\"id\":\"15502\"}]},\"id\":\"15528\",\"type\":\"LegendItem\"},{\"attributes\":{\"source\":{\"id\":\"15303\"}},\"id\":\"15310\",\"type\":\"CDSView\"},{\"attributes\":{},\"id\":\"15385\",\"type\":\"Selection\"},{\"attributes\":{},\"id\":\"15641\",\"type\":\"Selection\"},{\"attributes\":{\"line_alpha\":0.2,\"line_color\":\"#9367bc\",\"line_width\":2,\"x\":{\"field\":\"Date\"},\"y\":{\"field\":\"value\"}},\"id\":\"15389\",\"type\":\"Line\"},{\"attributes\":{\"source\":{\"id\":\"15640\"}},\"id\":\"15647\",\"type\":\"CDSView\"},{\"attributes\":{\"label\":{\"value\":\"France (EUR)\"},\"renderers\":[{\"id\":\"15687\"}]},\"id\":\"15723\",\"type\":\"LegendItem\"},{\"attributes\":{},\"id\":\"15322\",\"type\":\"Selection\"},{\"attributes\":{\"source\":{\"id\":\"15681\"}},\"id\":\"15688\",\"type\":\"CDSView\"},{\"attributes\":{},\"id\":\"15678\",\"type\":\"UnionRenderers\"},{\"attributes\":{\"source\":{\"id\":\"15340\"}},\"id\":\"15347\",\"type\":\"CDSView\"},{\"attributes\":{\"data\":{\"Date\":[\"1/1/1998\",\"4/1/1998\",\"7/1/1998\",\"10/1/1998\",\"1/1/1999\",\"4/1/1999\",\"7/1/1999\",\"10/1/1999\",\"1/1/2000\",\"4/1/2000\",\"7/1/2000\",\"10/1/2000\",\"1/1/2001\",\"4/1/2001\",\"7/1/2001\",\"10/1/2001\",\"1/1/2002\",\"4/1/2002\",\"7/1/2002\",\"10/1/2002\",\"1/1/2003\",\"4/1/2003\",\"7/1/2003\",\"10/1/2003\",\"1/1/2004\",\"4/1/2004\",\"7/1/2004\",\"10/1/2004\",\"1/1/2005\",\"4/1/2005\",\"7/1/2005\",\"10/1/2005\",\"1/1/2006\",\"4/1/2006\",\"7/1/2006\",\"10/1/2006\",\"1/1/2007\",\"4/1/2007\",\"7/1/2007\",\"10/1/2007\",\"1/1/2008\",\"4/1/2008\",\"7/1/2008\",\"10/1/2008\",\"1/1/2009\",\"4/1/2009\",\"7/1/2009\",\"10/1/2009\",\"1/1/2010\",\"4/1/2010\",\"7/1/2010\",\"10/1/2010\",\"1/1/2011\",\"4/1/2011\",\"7/1/2011\",\"10/1/2011\",\"1/1/2012\",\"4/1/2012\",\"7/1/2012\",\"10/1/2012\",\"1/1/2013\",\"4/1/2013\",\"7/1/2013\",\"10/1/2013\",\"1/1/2014\",\"4/1/2014\",\"7/1/2014\",\"10/1/2014\",\"1/1/2015\",\"4/1/2015\",\"7/1/2015\",\"10/1/2015\",\"1/1/2016\",\"4/1/2016\",\"7/1/2016\",\"10/1/2016\",\"1/1/2017\",\"4/1/2017\",\"7/1/2017\",\"10/1/2017\",\"1/1/2018\",\"4/1/2018\",\"7/1/2018\",\"10/1/2018\",\"1/1/2019\",\"4/1/2019\",\"7/1/2019\",\"10/1/2019\",\"1/1/2020\",\"4/1/2020\",\"7/1/2020\"],\"Variable\":[\"Contemporary\",\"Contemporary\",\"Contemporary\",\"Contemporary\",\"Contemporary\",\"Contemporary\",\"Contemporary\",\"Contemporary\",\"Contemporary\",\"Contemporary\",\"Contemporary\",\"Contemporary\",\"Contemporary\",\"Contemporary\",\"Contemporary\",\"Contemporary\",\"Contemporary\",\"Contemporary\",\"Contemporary\",\"Contemporary\",\"Contemporary\",\"Contemporary\",\"Contemporary\",\"Contemporary\",\"Contemporary\",\"Contemporary\",\"Contemporary\",\"Contemporary\",\"Contemporary\",\"Contemporary\",\"Contemporary\",\"Contemporary\",\"Contemporary\",\"Contemporary\",\"Contemporary\",\"Contemporary\",\"Contemporary\",\"Contemporary\",\"Contemporary\",\"Contemporary\",\"Contemporary\",\"Contemporary\",\"Contemporary\",\"Contemporary\",\"Contemporary\",\"Contemporary\",\"Contemporary\",\"Contemporary\",\"Contemporary\",\"Contemporary\",\"Contemporary\",\"Contemporary\",\"Contemporary\",\"Contemporary\",\"Contemporary\",\"Contemporary\",\"Contemporary\",\"Contemporary\",\"Contemporary\",\"Contemporary\",\"Contemporary\",\"Contemporary\",\"Contemporary\",\"Contemporary\",\"Contemporary\",\"Contemporary\",\"Contemporary\",\"Contemporary\",\"Contemporary\",\"Contemporary\",\"Contemporary\",\"Contemporary\",\"Contemporary\",\"Contemporary\",\"Contemporary\",\"Contemporary\",\"Contemporary\",\"Contemporary\",\"Contemporary\",\"Contemporary\",\"Contemporary\",\"Contemporary\",\"Contemporary\",\"Contemporary\",\"Contemporary\",\"Contemporary\",\"Contemporary\",\"Contemporary\",\"Contemporary\",\"Contemporary\",\"Contemporary\"],\"value\":[100,101,109,114,112,106,101,109,132,145,152,159,146,126,117,108,113,134,147,152,152,163,169,153,171,203,221,236,232,230,228,226,256,288,271,249,274,308,304,284,290,295,290,269,237,228,236,248,269,284,250,214,238,271,288,296,293,291,284,268,258,258,251,250,258,256,263,267,237,200,184,177,180,200,225,234,233,239,237,228,246,272,272,259,248,238,235,233,237,241,267]},\"selected\":{\"id\":\"15565\"},\"selection_policy\":{\"id\":\"15598\"}},\"id\":\"15564\",\"type\":\"ColumnDataSource\"},{\"attributes\":{\"data_source\":{\"id\":\"15340\"},\"glyph\":{\"id\":\"15343\"},\"hover_glyph\":null,\"muted_glyph\":{\"id\":\"15345\"},\"nonselection_glyph\":{\"id\":\"15344\"},\"selection_glyph\":null,\"view\":{\"id\":\"15347\"}},\"id\":\"15346\",\"type\":\"GlyphRenderer\"},{\"attributes\":{\"data\":{\"Date\":[\"1/1/1998\",\"4/1/1998\",\"7/1/1998\",\"10/1/1998\",\"1/1/1999\",\"4/1/1999\",\"7/1/1999\",\"10/1/1999\",\"1/1/2000\",\"4/1/2000\",\"7/1/2000\",\"10/1/2000\",\"1/1/2001\",\"4/1/2001\",\"7/1/2001\",\"10/1/2001\",\"1/1/2002\",\"4/1/2002\",\"7/1/2002\",\"10/1/2002\",\"1/1/2003\",\"4/1/2003\",\"7/1/2003\",\"10/1/2003\",\"1/1/2004\",\"4/1/2004\",\"7/1/2004\",\"10/1/2004\",\"1/1/2005\",\"4/1/2005\",\"7/1/2005\",\"10/1/2005\",\"1/1/2006\",\"4/1/2006\",\"7/1/2006\",\"10/1/2006\",\"1/1/2007\",\"4/1/2007\",\"7/1/2007\",\"10/1/2007\",\"1/1/2008\",\"4/1/2008\",\"7/1/2008\",\"10/1/2008\",\"1/1/2009\",\"4/1/2009\",\"7/1/2009\",\"10/1/2009\",\"1/1/2010\",\"4/1/2010\",\"7/1/2010\",\"10/1/2010\",\"1/1/2011\",\"4/1/2011\",\"7/1/2011\",\"10/1/2011\",\"1/1/2012\",\"4/1/2012\",\"7/1/2012\",\"10/1/2012\",\"1/1/2013\",\"4/1/2013\",\"7/1/2013\",\"10/1/2013\",\"1/1/2014\",\"4/1/2014\",\"7/1/2014\",\"10/1/2014\",\"1/1/2015\",\"4/1/2015\",\"7/1/2015\",\"10/1/2015\",\"1/1/2016\",\"4/1/2016\",\"7/1/2016\",\"10/1/2016\",\"1/1/2017\",\"4/1/2017\",\"7/1/2017\",\"10/1/2017\",\"1/1/2018\",\"4/1/2018\",\"7/1/2018\",\"10/1/2018\",\"1/1/2019\",\"4/1/2019\",\"7/1/2019\",\"10/1/2019\",\"1/1/2020\",\"4/1/2020\",\"7/1/2020\"],\"Variable\":[\"UK (GBP)\",\"UK (GBP)\",\"UK (GBP)\",\"UK (GBP)\",\"UK (GBP)\",\"UK (GBP)\",\"UK (GBP)\",\"UK (GBP)\",\"UK (GBP)\",\"UK (GBP)\",\"UK (GBP)\",\"UK (GBP)\",\"UK (GBP)\",\"UK (GBP)\",\"UK (GBP)\",\"UK (GBP)\",\"UK (GBP)\",\"UK (GBP)\",\"UK (GBP)\",\"UK (GBP)\",\"UK (GBP)\",\"UK (GBP)\",\"UK (GBP)\",\"UK (GBP)\",\"UK (GBP)\",\"UK (GBP)\",\"UK (GBP)\",\"UK (GBP)\",\"UK (GBP)\",\"UK (GBP)\",\"UK (GBP)\",\"UK (GBP)\",\"UK (GBP)\",\"UK (GBP)\",\"UK (GBP)\",\"UK (GBP)\",\"UK (GBP)\",\"UK (GBP)\",\"UK (GBP)\",\"UK (GBP)\",\"UK (GBP)\",\"UK (GBP)\",\"UK (GBP)\",\"UK (GBP)\",\"UK (GBP)\",\"UK (GBP)\",\"UK (GBP)\",\"UK (GBP)\",\"UK (GBP)\",\"UK (GBP)\",\"UK (GBP)\",\"UK (GBP)\",\"UK (GBP)\",\"UK (GBP)\",\"UK (GBP)\",\"UK (GBP)\",\"UK (GBP)\",\"UK (GBP)\",\"UK (GBP)\",\"UK (GBP)\",\"UK (GBP)\",\"UK (GBP)\",\"UK (GBP)\",\"UK (GBP)\",\"UK (GBP)\",\"UK (GBP)\",\"UK (GBP)\",\"UK (GBP)\",\"UK (GBP)\",\"UK (GBP)\",\"UK (GBP)\",\"UK (GBP)\",\"UK (GBP)\",\"UK (GBP)\",\"UK (GBP)\",\"UK (GBP)\",\"UK (GBP)\",\"UK (GBP)\",\"UK (GBP)\",\"UK (GBP)\",\"UK (GBP)\",\"UK (GBP)\",\"UK (GBP)\",\"UK (GBP)\",\"UK (GBP)\",\"UK (GBP)\",\"UK (GBP)\",\"UK (GBP)\",\"UK (GBP)\",\"UK (GBP)\",\"UK (GBP)\"],\"value\":[100,98,95,97,100,101,104,109,113,117,119,122,124,121,118,119,121,119,119,128,136,133,127,130,134,136,137,143,151,151,150,158,163,160,153,163,179,179,171,178,186,183,174,169,169,164,160,173,185,178,176,190,205,218,217,190,166,167,174,186,198,200,196,185,181,193,213,217,197,174,164,166,168,167,177,191,187,179,179,177,171,165,163,163,162,159,157,157,155,160,145]},\"selected\":{\"id\":\"15641\"},\"selection_policy\":{\"id\":\"15678\"}},\"id\":\"15640\",\"type\":\"ColumnDataSource\"},{\"attributes\":{\"line_alpha\":0.1,\"line_color\":\"#3a0182\",\"line_width\":2,\"x\":{\"field\":\"Date\"},\"y\":{\"field\":\"value\"}},\"id\":\"15568\",\"type\":\"Line\"},{\"attributes\":{},\"id\":\"15381\",\"type\":\"UnionRenderers\"},{\"attributes\":{\"data\":{\"Date\":[\"1/1/1998\",\"4/1/1998\",\"7/1/1998\",\"10/1/1998\",\"1/1/1999\",\"4/1/1999\",\"7/1/1999\",\"10/1/1999\",\"1/1/2000\",\"4/1/2000\",\"7/1/2000\",\"10/1/2000\",\"1/1/2001\",\"4/1/2001\",\"7/1/2001\",\"10/1/2001\",\"1/1/2002\",\"4/1/2002\",\"7/1/2002\",\"10/1/2002\",\"1/1/2003\",\"4/1/2003\",\"7/1/2003\",\"10/1/2003\",\"1/1/2004\",\"4/1/2004\",\"7/1/2004\",\"10/1/2004\",\"1/1/2005\",\"4/1/2005\",\"7/1/2005\",\"10/1/2005\",\"1/1/2006\",\"4/1/2006\",\"7/1/2006\",\"10/1/2006\",\"1/1/2007\",\"4/1/2007\",\"7/1/2007\",\"10/1/2007\",\"1/1/2008\",\"4/1/2008\",\"7/1/2008\",\"10/1/2008\",\"1/1/2009\",\"4/1/2009\",\"7/1/2009\",\"10/1/2009\",\"1/1/2010\",\"4/1/2010\",\"7/1/2010\",\"10/1/2010\",\"1/1/2011\",\"4/1/2011\",\"7/1/2011\",\"10/1/2011\",\"1/1/2012\",\"4/1/2012\",\"7/1/2012\",\"10/1/2012\",\"1/1/2013\",\"4/1/2013\",\"7/1/2013\",\"10/1/2013\",\"1/1/2014\",\"4/1/2014\",\"7/1/2014\",\"10/1/2014\",\"1/1/2015\",\"4/1/2015\",\"7/1/2015\",\"10/1/2015\",\"1/1/2016\",\"4/1/2016\",\"7/1/2016\",\"10/1/2016\",\"1/1/2017\",\"4/1/2017\",\"7/1/2017\",\"10/1/2017\",\"1/1/2018\",\"4/1/2018\",\"7/1/2018\",\"10/1/2018\",\"1/1/2019\",\"4/1/2019\",\"7/1/2019\",\"10/1/2019\",\"1/1/2020\",\"4/1/2020\",\"7/1/2020\"],\"Variable\":[\"Photography\",\"Photography\",\"Photography\",\"Photography\",\"Photography\",\"Photography\",\"Photography\",\"Photography\",\"Photography\",\"Photography\",\"Photography\",\"Photography\",\"Photography\",\"Photography\",\"Photography\",\"Photography\",\"Photography\",\"Photography\",\"Photography\",\"Photography\",\"Photography\",\"Photography\",\"Photography\",\"Photography\",\"Photography\",\"Photography\",\"Photography\",\"Photography\",\"Photography\",\"Photography\",\"Photography\",\"Photography\",\"Photography\",\"Photography\",\"Photography\",\"Photography\",\"Photography\",\"Photography\",\"Photography\",\"Photography\",\"Photography\",\"Photography\",\"Photography\",\"Photography\",\"Photography\",\"Photography\",\"Photography\",\"Photography\",\"Photography\",\"Photography\",\"Photography\",\"Photography\",\"Photography\",\"Photography\",\"Photography\",\"Photography\",\"Photography\",\"Photography\",\"Photography\",\"Photography\",\"Photography\",\"Photography\",\"Photography\",\"Photography\",\"Photography\",\"Photography\",\"Photography\",\"Photography\",\"Photography\",\"Photography\",\"Photography\",\"Photography\",\"Photography\",\"Photography\",\"Photography\",\"Photography\",\"Photography\",\"Photography\",\"Photography\",\"Photography\",\"Photography\",\"Photography\",\"Photography\",\"Photography\",\"Photography\",\"Photography\",\"Photography\",\"Photography\",\"Photography\",\"Photography\",\"Photography\"],\"value\":[100,96,94,85,84,85,85,92,126,156,140,118,129,148,135,119,121,124,130,137,152,164,155,143,143,165,189,191,193,196,186,187,209,220,207,197,216,247,249,244,249,252,246,210,190,194,184,177,198,214,187,168,197,231,229,210,197,187,179,183,193,193,193,195,195,200,208,210,206,206,195,185,190,189,187,184,166,163,181,195,201,193,166,147,155,162,159,160,163,161,165]},\"selected\":{\"id\":\"15385\"},\"selection_policy\":{\"id\":\"15406\"}},\"id\":\"15384\",\"type\":\"ColumnDataSource\"},{\"attributes\":{\"line_alpha\":0.1,\"line_color\":\"#16bdcf\",\"line_width\":2,\"x\":{\"field\":\"Date\"},\"y\":{\"field\":\"value\"}},\"id\":\"15533\",\"type\":\"Line\"},{\"attributes\":{\"line_alpha\":0.1,\"line_color\":\"#004201\",\"line_width\":2,\"x\":{\"field\":\"Date\"},\"y\":{\"field\":\"value\"}},\"id\":\"15605\",\"type\":\"Line\"},{\"attributes\":{\"bottom_units\":\"screen\",\"fill_alpha\":0.5,\"fill_color\":\"lightgrey\",\"left_units\":\"screen\",\"level\":\"overlay\",\"line_alpha\":1.0,\"line_color\":\"black\",\"line_dash\":[4,4],\"line_width\":2,\"right_units\":\"screen\",\"top_units\":\"screen\"},\"id\":\"15291\",\"type\":\"BoxAnnotation\"},{\"attributes\":{},\"id\":\"15565\",\"type\":\"Selection\"},{\"attributes\":{\"line_alpha\":0.2,\"line_color\":\"#7e7e7e\",\"line_width\":2,\"x\":{\"field\":\"Date\"},\"y\":{\"field\":\"value\"}},\"id\":\"15470\",\"type\":\"Line\"},{\"attributes\":{\"data_source\":{\"id\":\"15465\"},\"glyph\":{\"id\":\"15468\"},\"hover_glyph\":null,\"muted_glyph\":{\"id\":\"15470\"},\"nonselection_glyph\":{\"id\":\"15469\"},\"selection_glyph\":null,\"view\":{\"id\":\"15472\"}},\"id\":\"15471\",\"type\":\"GlyphRenderer\"},{\"attributes\":{\"line_alpha\":0.2,\"line_color\":\"#2ba02b\",\"line_width\":2,\"x\":{\"field\":\"Date\"},\"y\":{\"field\":\"value\"}},\"id\":\"15345\",\"type\":\"Line\"},{\"attributes\":{\"click_policy\":\"mute\",\"items\":[{\"id\":\"15320\"},{\"id\":\"15339\"},{\"id\":\"15360\"},{\"id\":\"15383\"},{\"id\":\"15408\"},{\"id\":\"15435\"},{\"id\":\"15464\"},{\"id\":\"15495\"},{\"id\":\"15528\"},{\"id\":\"15563\"},{\"id\":\"15600\"},{\"id\":\"15639\"},{\"id\":\"15680\"},{\"id\":\"15723\"}],\"location\":[0,0],\"title\":\"Variable\"},\"id\":\"15319\",\"type\":\"Legend\"},{\"attributes\":{\"line_alpha\":0.1,\"line_color\":\"#0fffa8\",\"line_width\":2,\"x\":{\"field\":\"Date\"},\"y\":{\"field\":\"value\"}},\"id\":\"15644\",\"type\":\"Line\"},{\"attributes\":{\"line_alpha\":0.1,\"line_color\":\"#5d003f\",\"line_width\":2,\"x\":{\"field\":\"Date\"},\"y\":{\"field\":\"value\"}},\"id\":\"15685\",\"type\":\"Line\"},{\"attributes\":{},\"id\":\"15406\",\"type\":\"UnionRenderers\"},{\"attributes\":{\"line_color\":\"#3a0182\",\"line_width\":2,\"x\":{\"field\":\"Date\"},\"y\":{\"field\":\"value\"}},\"id\":\"15567\",\"type\":\"Line\"},{\"attributes\":{\"data\":{\"Date\":[\"1/1/1998\",\"4/1/1998\",\"7/1/1998\",\"10/1/1998\",\"1/1/1999\",\"4/1/1999\",\"7/1/1999\",\"10/1/1999\",\"1/1/2000\",\"4/1/2000\",\"7/1/2000\",\"10/1/2000\",\"1/1/2001\",\"4/1/2001\",\"7/1/2001\",\"10/1/2001\",\"1/1/2002\",\"4/1/2002\",\"7/1/2002\",\"10/1/2002\",\"1/1/2003\",\"4/1/2003\",\"7/1/2003\",\"10/1/2003\",\"1/1/2004\",\"4/1/2004\",\"7/1/2004\",\"10/1/2004\",\"1/1/2005\",\"4/1/2005\",\"7/1/2005\",\"10/1/2005\",\"1/1/2006\",\"4/1/2006\",\"7/1/2006\",\"10/1/2006\",\"1/1/2007\",\"4/1/2007\",\"7/1/2007\",\"10/1/2007\",\"1/1/2008\",\"4/1/2008\",\"7/1/2008\",\"10/1/2008\",\"1/1/2009\",\"4/1/2009\",\"7/1/2009\",\"10/1/2009\",\"1/1/2010\",\"4/1/2010\",\"7/1/2010\",\"10/1/2010\",\"1/1/2011\",\"4/1/2011\",\"7/1/2011\",\"10/1/2011\",\"1/1/2012\",\"4/1/2012\",\"7/1/2012\",\"10/1/2012\",\"1/1/2013\",\"4/1/2013\",\"7/1/2013\",\"10/1/2013\",\"1/1/2014\",\"4/1/2014\",\"7/1/2014\",\"10/1/2014\",\"1/1/2015\",\"4/1/2015\",\"7/1/2015\",\"10/1/2015\",\"1/1/2016\",\"4/1/2016\",\"7/1/2016\",\"10/1/2016\",\"1/1/2017\",\"4/1/2017\",\"7/1/2017\",\"10/1/2017\",\"1/1/2018\",\"4/1/2018\",\"7/1/2018\",\"10/1/2018\",\"1/1/2019\",\"4/1/2019\",\"7/1/2019\",\"10/1/2019\",\"1/1/2020\",\"4/1/2020\",\"7/1/2020\"],\"Variable\":[\"Global Index (USD)\",\"Global Index (USD)\",\"Global Index (USD)\",\"Global Index (USD)\",\"Global Index (USD)\",\"Global Index (USD)\",\"Global Index (USD)\",\"Global Index (USD)\",\"Global Index (USD)\",\"Global Index (USD)\",\"Global Index (USD)\",\"Global Index (USD)\",\"Global Index (USD)\",\"Global Index (USD)\",\"Global Index (USD)\",\"Global Index (USD)\",\"Global Index (USD)\",\"Global Index (USD)\",\"Global Index (USD)\",\"Global Index (USD)\",\"Global Index (USD)\",\"Global Index (USD)\",\"Global Index (USD)\",\"Global Index (USD)\",\"Global Index (USD)\",\"Global Index (USD)\",\"Global Index (USD)\",\"Global Index (USD)\",\"Global Index (USD)\",\"Global Index (USD)\",\"Global Index (USD)\",\"Global Index (USD)\",\"Global Index (USD)\",\"Global Index (USD)\",\"Global Index (USD)\",\"Global Index (USD)\",\"Global Index (USD)\",\"Global Index (USD)\",\"Global Index (USD)\",\"Global Index (USD)\",\"Global Index (USD)\",\"Global Index (USD)\",\"Global Index (USD)\",\"Global Index (USD)\",\"Global Index (USD)\",\"Global Index (USD)\",\"Global Index (USD)\",\"Global Index (USD)\",\"Global Index (USD)\",\"Global Index (USD)\",\"Global Index (USD)\",\"Global Index (USD)\",\"Global Index (USD)\",\"Global Index (USD)\",\"Global Index (USD)\",\"Global Index (USD)\",\"Global Index (USD)\",\"Global Index (USD)\",\"Global Index (USD)\",\"Global Index (USD)\",\"Global Index (USD)\",\"Global Index (USD)\",\"Global Index (USD)\",\"Global Index (USD)\",\"Global Index (USD)\",\"Global Index (USD)\",\"Global Index (USD)\",\"Global Index (USD)\",\"Global Index (USD)\",\"Global Index (USD)\",\"Global Index (USD)\",\"Global Index (USD)\",\"Global Index (USD)\",\"Global Index (USD)\",\"Global Index (USD)\",\"Global Index (USD)\",\"Global Index (USD)\",\"Global Index (USD)\",\"Global Index (USD)\",\"Global Index (USD)\",\"Global Index (USD)\",\"Global Index (USD)\",\"Global Index (USD)\",\"Global Index (USD)\",\"Global Index (USD)\",\"Global Index (USD)\",\"Global Index (USD)\",\"Global Index (USD)\",\"Global Index (USD)\",\"Global Index (USD)\",\"Global Index (USD)\"],\"value\":[100,107,106,96,104,103,104,104,113,116,112,115,104,122,107,107,107,110,110,112,127,140,140,122,142,155,154,155,163,187,176,160,181,178,194,167,196,227,233,199,240,227,240,196,175,145,175,145,190,179,173,151,207,187,243,212,204,131,190,154,200,188,201,190,194,176,207,221,233,181,170,152,163,149,152,134,170,133,155,136,164,136,152,122,142,124,137,113,137,118,124]},\"selected\":{\"id\":\"15304\"},\"selection_policy\":{\"id\":\"15317\"}},\"id\":\"15303\",\"type\":\"ColumnDataSource\"},{\"attributes\":{\"data\":{\"Date\":[\"1/1/1998\",\"4/1/1998\",\"7/1/1998\",\"10/1/1998\",\"1/1/1999\",\"4/1/1999\",\"7/1/1999\",\"10/1/1999\",\"1/1/2000\",\"4/1/2000\",\"7/1/2000\",\"10/1/2000\",\"1/1/2001\",\"4/1/2001\",\"7/1/2001\",\"10/1/2001\",\"1/1/2002\",\"4/1/2002\",\"7/1/2002\",\"10/1/2002\",\"1/1/2003\",\"4/1/2003\",\"7/1/2003\",\"10/1/2003\",\"1/1/2004\",\"4/1/2004\",\"7/1/2004\",\"10/1/2004\",\"1/1/2005\",\"4/1/2005\",\"7/1/2005\",\"10/1/2005\",\"1/1/2006\",\"4/1/2006\",\"7/1/2006\",\"10/1/2006\",\"1/1/2007\",\"4/1/2007\",\"7/1/2007\",\"10/1/2007\",\"1/1/2008\",\"4/1/2008\",\"7/1/2008\",\"10/1/2008\",\"1/1/2009\",\"4/1/2009\",\"7/1/2009\",\"10/1/2009\",\"1/1/2010\",\"4/1/2010\",\"7/1/2010\",\"10/1/2010\",\"1/1/2011\",\"4/1/2011\",\"7/1/2011\",\"10/1/2011\",\"1/1/2012\",\"4/1/2012\",\"7/1/2012\",\"10/1/2012\",\"1/1/2013\",\"4/1/2013\",\"7/1/2013\",\"10/1/2013\",\"1/1/2014\",\"4/1/2014\",\"7/1/2014\",\"10/1/2014\",\"1/1/2015\",\"4/1/2015\",\"7/1/2015\",\"10/1/2015\",\"1/1/2016\",\"4/1/2016\",\"7/1/2016\",\"10/1/2016\",\"1/1/2017\",\"4/1/2017\",\"7/1/2017\",\"10/1/2017\",\"1/1/2018\",\"4/1/2018\",\"7/1/2018\",\"10/1/2018\",\"1/1/2019\",\"4/1/2019\",\"7/1/2019\",\"10/1/2019\",\"1/1/2020\",\"4/1/2020\",\"7/1/2020\"],\"Variable\":[\"Post-War\",\"Post-War\",\"Post-War\",\"Post-War\",\"Post-War\",\"Post-War\",\"Post-War\",\"Post-War\",\"Post-War\",\"Post-War\",\"Post-War\",\"Post-War\",\"Post-War\",\"Post-War\",\"Post-War\",\"Post-War\",\"Post-War\",\"Post-War\",\"Post-War\",\"Post-War\",\"Post-War\",\"Post-War\",\"Post-War\",\"Post-War\",\"Post-War\",\"Post-War\",\"Post-War\",\"Post-War\",\"Post-War\",\"Post-War\",\"Post-War\",\"Post-War\",\"Post-War\",\"Post-War\",\"Post-War\",\"Post-War\",\"Post-War\",\"Post-War\",\"Post-War\",\"Post-War\",\"Post-War\",\"Post-War\",\"Post-War\",\"Post-War\",\"Post-War\",\"Post-War\",\"Post-War\",\"Post-War\",\"Post-War\",\"Post-War\",\"Post-War\",\"Post-War\",\"Post-War\",\"Post-War\",\"Post-War\",\"Post-War\",\"Post-War\",\"Post-War\",\"Post-War\",\"Post-War\",\"Post-War\",\"Post-War\",\"Post-War\",\"Post-War\",\"Post-War\",\"Post-War\",\"Post-War\",\"Post-War\",\"Post-War\",\"Post-War\",\"Post-War\",\"Post-War\",\"Post-War\",\"Post-War\",\"Post-War\",\"Post-War\",\"Post-War\",\"Post-War\",\"Post-War\",\"Post-War\",\"Post-War\",\"Post-War\",\"Post-War\",\"Post-War\",\"Post-War\",\"Post-War\",\"Post-War\",\"Post-War\",\"Post-War\",\"Post-War\",\"Post-War\"],\"value\":[100,114,112,102,108,122,130,135,140,141,141,142,142,146,146,141,141,151,155,156,179,195,182,175,192,211,214,218,234,246,248,258,259,261,285,311,334,361,391,398,411,436,418,359,309,298,293,281,301,322,300,291,336,375,360,338,332,332,326,329,349,344,313,293,310,350,361,351,352,356,354,349,345,336,323,314,300,288,291,302,307,307,295,283,286,293,282,266,270,277,277]},\"selected\":{\"id\":\"15530\"},\"selection_policy\":{\"id\":\"15561\"}},\"id\":\"15529\",\"type\":\"ColumnDataSource\"},{\"attributes\":{},\"id\":\"15288\",\"type\":\"WheelZoomTool\"},{\"attributes\":{\"line_alpha\":0.2,\"line_color\":\"#3a0182\",\"line_width\":2,\"x\":{\"field\":\"Date\"},\"y\":{\"field\":\"value\"}},\"id\":\"15569\",\"type\":\"Line\"},{\"attributes\":{\"data_source\":{\"id\":\"15384\"},\"glyph\":{\"id\":\"15387\"},\"hover_glyph\":null,\"muted_glyph\":{\"id\":\"15389\"},\"nonselection_glyph\":{\"id\":\"15388\"},\"selection_glyph\":null,\"view\":{\"id\":\"15391\"}},\"id\":\"15390\",\"type\":\"GlyphRenderer\"},{\"attributes\":{\"line_alpha\":0.2,\"line_color\":\"#5d003f\",\"line_width\":2,\"x\":{\"field\":\"Date\"},\"y\":{\"field\":\"value\"}},\"id\":\"15686\",\"type\":\"Line\"},{\"attributes\":{\"label\":{\"value\":\"Photography\"},\"renderers\":[{\"id\":\"15390\"}]},\"id\":\"15408\",\"type\":\"LegendItem\"},{\"attributes\":{\"line_alpha\":0.1,\"line_color\":\"#9367bc\",\"line_width\":2,\"x\":{\"field\":\"Date\"},\"y\":{\"field\":\"value\"}},\"id\":\"15388\",\"type\":\"Line\"},{\"attributes\":{\"data_source\":{\"id\":\"15681\"},\"glyph\":{\"id\":\"15684\"},\"hover_glyph\":null,\"muted_glyph\":{\"id\":\"15686\"},\"nonselection_glyph\":{\"id\":\"15685\"},\"selection_glyph\":null,\"view\":{\"id\":\"15688\"}},\"id\":\"15687\",\"type\":\"GlyphRenderer\"},{\"attributes\":{\"line_alpha\":0.2,\"line_color\":\"#0fffa8\",\"line_width\":2,\"x\":{\"field\":\"Date\"},\"y\":{\"field\":\"value\"}},\"id\":\"15645\",\"type\":\"Line\"},{\"attributes\":{\"line_alpha\":0.1,\"line_color\":\"#7e7e7e\",\"line_width\":2,\"x\":{\"field\":\"Date\"},\"y\":{\"field\":\"value\"}},\"id\":\"15469\",\"type\":\"Line\"},{\"attributes\":{\"data\":{\"Date\":[\"1/1/1998\",\"4/1/1998\",\"7/1/1998\",\"10/1/1998\",\"1/1/1999\",\"4/1/1999\",\"7/1/1999\",\"10/1/1999\",\"1/1/2000\",\"4/1/2000\",\"7/1/2000\",\"10/1/2000\",\"1/1/2001\",\"4/1/2001\",\"7/1/2001\",\"10/1/2001\",\"1/1/2002\",\"4/1/2002\",\"7/1/2002\",\"10/1/2002\",\"1/1/2003\",\"4/1/2003\",\"7/1/2003\",\"10/1/2003\",\"1/1/2004\",\"4/1/2004\",\"7/1/2004\",\"10/1/2004\",\"1/1/2005\",\"4/1/2005\",\"7/1/2005\",\"10/1/2005\",\"1/1/2006\",\"4/1/2006\",\"7/1/2006\",\"10/1/2006\",\"1/1/2007\",\"4/1/2007\",\"7/1/2007\",\"10/1/2007\",\"1/1/2008\",\"4/1/2008\",\"7/1/2008\",\"10/1/2008\",\"1/1/2009\",\"4/1/2009\",\"7/1/2009\",\"10/1/2009\",\"1/1/2010\",\"4/1/2010\",\"7/1/2010\",\"10/1/2010\",\"1/1/2011\",\"4/1/2011\",\"7/1/2011\",\"10/1/2011\",\"1/1/2012\",\"4/1/2012\",\"7/1/2012\",\"10/1/2012\",\"1/1/2013\",\"4/1/2013\",\"7/1/2013\",\"10/1/2013\",\"1/1/2014\",\"4/1/2014\",\"7/1/2014\",\"10/1/2014\",\"1/1/2015\",\"4/1/2015\",\"7/1/2015\",\"10/1/2015\",\"1/1/2016\",\"4/1/2016\",\"7/1/2016\",\"10/1/2016\",\"1/1/2017\",\"4/1/2017\",\"7/1/2017\",\"10/1/2017\",\"1/1/2018\",\"4/1/2018\",\"7/1/2018\",\"10/1/2018\",\"1/1/2019\",\"4/1/2019\",\"7/1/2019\",\"10/1/2019\",\"1/1/2020\",\"4/1/2020\",\"7/1/2020\"],\"Variable\":[\"USA (USD)\",\"USA (USD)\",\"USA (USD)\",\"USA (USD)\",\"USA (USD)\",\"USA (USD)\",\"USA (USD)\",\"USA (USD)\",\"USA (USD)\",\"USA (USD)\",\"USA (USD)\",\"USA (USD)\",\"USA (USD)\",\"USA (USD)\",\"USA (USD)\",\"USA (USD)\",\"USA (USD)\",\"USA (USD)\",\"USA (USD)\",\"USA (USD)\",\"USA (USD)\",\"USA (USD)\",\"USA (USD)\",\"USA (USD)\",\"USA (USD)\",\"USA (USD)\",\"USA (USD)\",\"USA (USD)\",\"USA (USD)\",\"USA (USD)\",\"USA (USD)\",\"USA (USD)\",\"USA (USD)\",\"USA (USD)\",\"USA (USD)\",\"USA (USD)\",\"USA (USD)\",\"USA (USD)\",\"USA (USD)\",\"USA (USD)\",\"USA (USD)\",\"USA (USD)\",\"USA (USD)\",\"USA (USD)\",\"USA (USD)\",\"USA (USD)\",\"USA (USD)\",\"USA (USD)\",\"USA (USD)\",\"USA (USD)\",\"USA (USD)\",\"USA (USD)\",\"USA (USD)\",\"USA (USD)\",\"USA (USD)\",\"USA (USD)\",\"USA (USD)\",\"USA (USD)\",\"USA (USD)\",\"USA (USD)\",\"USA (USD)\",\"USA (USD)\",\"USA (USD)\",\"USA (USD)\",\"USA (USD)\",\"USA (USD)\",\"USA (USD)\",\"USA (USD)\",\"USA (USD)\",\"USA (USD)\",\"USA (USD)\",\"USA (USD)\",\"USA (USD)\",\"USA (USD)\",\"USA (USD)\",\"USA (USD)\",\"USA (USD)\",\"USA (USD)\",\"USA (USD)\",\"USA (USD)\",\"USA (USD)\",\"USA (USD)\",\"USA (USD)\",\"USA (USD)\",\"USA (USD)\",\"USA (USD)\",\"USA (USD)\",\"USA (USD)\",\"USA (USD)\",\"USA (USD)\",\"USA (USD)\"],\"value\":[105,104,100,102,104,104,107,112,115,114,112,112,114,111,107,108,110,111,115,126,137,136,132,140,151,154,157,167,178,175,169,175,182,183,181,196,221,223,218,226,234,226,201,172,160,160,163,176,180,169,171,188,206,221,218,188,164,166,174,185,194,195,194,188,188,203,221,217,191,168,159,157,153,147,148,152,148,145,148,150,147,141,135,132,132,128,125,126,124,126,120]},\"selected\":{\"id\":\"15602\"},\"selection_policy\":{\"id\":\"15637\"}},\"id\":\"15601\",\"type\":\"ColumnDataSource\"},{\"attributes\":{\"data_source\":{\"id\":\"15564\"},\"glyph\":{\"id\":\"15567\"},\"hover_glyph\":null,\"muted_glyph\":{\"id\":\"15569\"},\"nonselection_glyph\":{\"id\":\"15568\"},\"selection_glyph\":null,\"view\":{\"id\":\"15571\"}},\"id\":\"15570\",\"type\":\"GlyphRenderer\"},{\"attributes\":{},\"id\":\"15526\",\"type\":\"UnionRenderers\"},{\"attributes\":{\"data_source\":{\"id\":\"15436\"},\"glyph\":{\"id\":\"15439\"},\"hover_glyph\":null,\"muted_glyph\":{\"id\":\"15441\"},\"nonselection_glyph\":{\"id\":\"15440\"},\"selection_glyph\":null,\"view\":{\"id\":\"15443\"}},\"id\":\"15442\",\"type\":\"GlyphRenderer\"},{\"attributes\":{},\"id\":\"15637\",\"type\":\"UnionRenderers\"},{\"attributes\":{\"axis_label\":\"Price - Base 100\",\"bounds\":\"auto\",\"formatter\":{\"id\":\"15301\"},\"major_label_orientation\":\"horizontal\",\"ticker\":{\"id\":\"15283\"}},\"id\":\"15282\",\"type\":\"LinearAxis\"},{\"attributes\":{\"margin\":[5,5,5,5],\"name\":\"HSpacer37940\",\"sizing_mode\":\"stretch_width\"},\"id\":\"16030\",\"type\":\"Spacer\"},{\"attributes\":{},\"id\":\"15287\",\"type\":\"PanTool\"},{\"attributes\":{},\"id\":\"15466\",\"type\":\"Selection\"},{\"attributes\":{\"callback\":null,\"renderers\":[{\"id\":\"15309\"},{\"id\":\"15327\"},{\"id\":\"15346\"},{\"id\":\"15367\"},{\"id\":\"15390\"},{\"id\":\"15415\"},{\"id\":\"15442\"},{\"id\":\"15471\"},{\"id\":\"15502\"},{\"id\":\"15535\"},{\"id\":\"15570\"},{\"id\":\"15607\"},{\"id\":\"15646\"},{\"id\":\"15687\"}],\"tags\":[\"hv_created\"],\"tooltips\":[[\"Variable\",\"@{Variable}\"],[\"Date\",\"@{Date}\"],[\"value\",\"@{value}\"]]},\"id\":\"15256\",\"type\":\"HoverTool\"},{\"attributes\":{},\"id\":\"15299\",\"type\":\"CategoricalTickFormatter\"},{\"attributes\":{\"line_color\":\"#ff7e0e\",\"line_width\":2,\"x\":{\"field\":\"Date\"},\"y\":{\"field\":\"value\"}},\"id\":\"15324\",\"type\":\"Line\"},{\"attributes\":{\"source\":{\"id\":\"15361\"}},\"id\":\"15368\",\"type\":\"CDSView\"},{\"attributes\":{\"overlay\":{\"id\":\"15291\"}},\"id\":\"15289\",\"type\":\"BoxZoomTool\"},{\"attributes\":{\"line_color\":\"#2ba02b\",\"line_width\":2,\"x\":{\"field\":\"Date\"},\"y\":{\"field\":\"value\"}},\"id\":\"15343\",\"type\":\"Line\"},{\"attributes\":{\"line_color\":\"#5d003f\",\"line_width\":2,\"x\":{\"field\":\"Date\"},\"y\":{\"field\":\"value\"}},\"id\":\"15684\",\"type\":\"Line\"},{\"attributes\":{},\"id\":\"15433\",\"type\":\"UnionRenderers\"},{\"attributes\":{\"factors\":[\"1/1/1998\",\"4/1/1998\",\"7/1/1998\",\"10/1/1998\",\"1/1/1999\",\"4/1/1999\",\"7/1/1999\",\"10/1/1999\",\"1/1/2000\",\"4/1/2000\",\"7/1/2000\",\"10/1/2000\",\"1/1/2001\",\"4/1/2001\",\"7/1/2001\",\"10/1/2001\",\"1/1/2002\",\"4/1/2002\",\"7/1/2002\",\"10/1/2002\",\"1/1/2003\",\"4/1/2003\",\"7/1/2003\",\"10/1/2003\",\"1/1/2004\",\"4/1/2004\",\"7/1/2004\",\"10/1/2004\",\"1/1/2005\",\"4/1/2005\",\"7/1/2005\",\"10/1/2005\",\"1/1/2006\",\"4/1/2006\",\"7/1/2006\",\"10/1/2006\",\"1/1/2007\",\"4/1/2007\",\"7/1/2007\",\"10/1/2007\",\"1/1/2008\",\"4/1/2008\",\"7/1/2008\",\"10/1/2008\",\"1/1/2009\",\"4/1/2009\",\"7/1/2009\",\"10/1/2009\",\"1/1/2010\",\"4/1/2010\",\"7/1/2010\",\"10/1/2010\",\"1/1/2011\",\"4/1/2011\",\"7/1/2011\",\"10/1/2011\",\"1/1/2012\",\"4/1/2012\",\"7/1/2012\",\"10/1/2012\",\"1/1/2013\",\"4/1/2013\",\"7/1/2013\",\"10/1/2013\",\"1/1/2014\",\"4/1/2014\",\"7/1/2014\",\"10/1/2014\",\"1/1/2015\",\"4/1/2015\",\"7/1/2015\",\"10/1/2015\",\"1/1/2016\",\"4/1/2016\",\"7/1/2016\",\"10/1/2016\",\"1/1/2017\",\"4/1/2017\",\"7/1/2017\",\"10/1/2017\",\"1/1/2018\",\"4/1/2018\",\"7/1/2018\",\"10/1/2018\",\"1/1/2019\",\"4/1/2019\",\"7/1/2019\",\"10/1/2019\",\"1/1/2020\",\"4/1/2020\",\"7/1/2020\"],\"tags\":[[[\"Date\",\"Date\",null]]]},\"id\":\"15254\",\"type\":\"FactorRange\"},{\"attributes\":{\"line_alpha\":0.2,\"line_color\":\"#ff7e0e\",\"line_width\":2,\"x\":{\"field\":\"Date\"},\"y\":{\"field\":\"value\"}},\"id\":\"15326\",\"type\":\"Line\"},{\"attributes\":{\"align\":null,\"below\":[{\"id\":\"15279\"}],\"center\":[{\"id\":\"15281\"},{\"id\":\"15285\"}],\"frame_height\":500,\"frame_width\":1500,\"left\":[{\"id\":\"15282\"}],\"margin\":null,\"min_border_bottom\":10,\"min_border_left\":10,\"min_border_right\":10,\"min_border_top\":10,\"plot_height\":null,\"plot_width\":null,\"renderers\":[{\"id\":\"15309\"},{\"id\":\"15327\"},{\"id\":\"15346\"},{\"id\":\"15367\"},{\"id\":\"15390\"},{\"id\":\"15415\"},{\"id\":\"15442\"},{\"id\":\"15471\"},{\"id\":\"15502\"},{\"id\":\"15535\"},{\"id\":\"15570\"},{\"id\":\"15607\"},{\"id\":\"15646\"},{\"id\":\"15687\"}],\"right\":[{\"id\":\"15319\"}],\"sizing_mode\":\"fixed\",\"title\":{\"id\":\"15271\"},\"toolbar\":{\"id\":\"15292\"},\"x_range\":{\"id\":\"15254\"},\"x_scale\":{\"id\":\"15275\"},\"y_range\":{\"id\":\"15255\"},\"y_scale\":{\"id\":\"15277\"}},\"id\":\"15270\",\"subtype\":\"Figure\",\"type\":\"Plot\"},{\"attributes\":{\"source\":{\"id\":\"15465\"}},\"id\":\"15472\",\"type\":\"CDSView\"},{\"attributes\":{\"line_color\":\"#8c564b\",\"line_width\":2,\"x\":{\"field\":\"Date\"},\"y\":{\"field\":\"value\"}},\"id\":\"15412\",\"type\":\"Line\"},{\"attributes\":{\"line_alpha\":0.1,\"line_color\":\"#2ba02b\",\"line_width\":2,\"x\":{\"field\":\"Date\"},\"y\":{\"field\":\"value\"}},\"id\":\"15344\",\"type\":\"Line\"},{\"attributes\":{\"label\":{\"value\":\"Drawing\"},\"renderers\":[{\"id\":\"15415\"}]},\"id\":\"15435\",\"type\":\"LegendItem\"},{\"attributes\":{},\"id\":\"15410\",\"type\":\"Selection\"},{\"attributes\":{\"data\":{\"Date\":[\"1/1/1998\",\"4/1/1998\",\"7/1/1998\",\"10/1/1998\",\"1/1/1999\",\"4/1/1999\",\"7/1/1999\",\"10/1/1999\",\"1/1/2000\",\"4/1/2000\",\"7/1/2000\",\"10/1/2000\",\"1/1/2001\",\"4/1/2001\",\"7/1/2001\",\"10/1/2001\",\"1/1/2002\",\"4/1/2002\",\"7/1/2002\",\"10/1/2002\",\"1/1/2003\",\"4/1/2003\",\"7/1/2003\",\"10/1/2003\",\"1/1/2004\",\"4/1/2004\",\"7/1/2004\",\"10/1/2004\",\"1/1/2005\",\"4/1/2005\",\"7/1/2005\",\"10/1/2005\",\"1/1/2006\",\"4/1/2006\",\"7/1/2006\",\"10/1/2006\",\"1/1/2007\",\"4/1/2007\",\"7/1/2007\",\"10/1/2007\",\"1/1/2008\",\"4/1/2008\",\"7/1/2008\",\"10/1/2008\",\"1/1/2009\",\"4/1/2009\",\"7/1/2009\",\"10/1/2009\",\"1/1/2010\",\"4/1/2010\",\"7/1/2010\",\"10/1/2010\",\"1/1/2011\",\"4/1/2011\",\"7/1/2011\",\"10/1/2011\",\"1/1/2012\",\"4/1/2012\",\"7/1/2012\",\"10/1/2012\",\"1/1/2013\",\"4/1/2013\",\"7/1/2013\",\"10/1/2013\",\"1/1/2014\",\"4/1/2014\",\"7/1/2014\",\"10/1/2014\",\"1/1/2015\",\"4/1/2015\",\"7/1/2015\",\"10/1/2015\",\"1/1/2016\",\"4/1/2016\",\"7/1/2016\",\"10/1/2016\",\"1/1/2017\",\"4/1/2017\",\"7/1/2017\",\"10/1/2017\",\"1/1/2018\",\"4/1/2018\",\"7/1/2018\",\"10/1/2018\",\"1/1/2019\",\"4/1/2019\",\"7/1/2019\",\"10/1/2019\",\"1/1/2020\",\"4/1/2020\",\"7/1/2020\"],\"Variable\":[\"Drawing\",\"Drawing\",\"Drawing\",\"Drawing\",\"Drawing\",\"Drawing\",\"Drawing\",\"Drawing\",\"Drawing\",\"Drawing\",\"Drawing\",\"Drawing\",\"Drawing\",\"Drawing\",\"Drawing\",\"Drawing\",\"Drawing\",\"Drawing\",\"Drawing\",\"Drawing\",\"Drawing\",\"Drawing\",\"Drawing\",\"Drawing\",\"Drawing\",\"Drawing\",\"Drawing\",\"Drawing\",\"Drawing\",\"Drawing\",\"Drawing\",\"Drawing\",\"Drawing\",\"Drawing\",\"Drawing\",\"Drawing\",\"Drawing\",\"Drawing\",\"Drawing\",\"Drawing\",\"Drawing\",\"Drawing\",\"Drawing\",\"Drawing\",\"Drawing\",\"Drawing\",\"Drawing\",\"Drawing\",\"Drawing\",\"Drawing\",\"Drawing\",\"Drawing\",\"Drawing\",\"Drawing\",\"Drawing\",\"Drawing\",\"Drawing\",\"Drawing\",\"Drawing\",\"Drawing\",\"Drawing\",\"Drawing\",\"Drawing\",\"Drawing\",\"Drawing\",\"Drawing\",\"Drawing\",\"Drawing\",\"Drawing\",\"Drawing\",\"Drawing\",\"Drawing\",\"Drawing\",\"Drawing\",\"Drawing\",\"Drawing\",\"Drawing\",\"Drawing\",\"Drawing\",\"Drawing\",\"Drawing\",\"Drawing\",\"Drawing\",\"Drawing\",\"Drawing\",\"Drawing\",\"Drawing\",\"Drawing\",\"Drawing\",\"Drawing\",\"Drawing\"],\"value\":[100,104,106,109,108,103,102,103,109,114,114,113,114,113,110,110,110,109,105,113,134,149,142,123,130,153,161,166,174,179,174,170,186,202,198,186,190,203,185,167,181,193,186,166,135,114,112,125,152,171,169,183,210,239,280,278,221,179,186,206,226,239,240,240,228,225,249,281,297,276,231,207,206,197,179,190,213,199,184,193,199,186,176,171,164,157,150,147,150,138,134]},\"selected\":{\"id\":\"15410\"},\"selection_policy\":{\"id\":\"15433\"}},\"id\":\"15409\",\"type\":\"ColumnDataSource\"},{\"attributes\":{\"line_alpha\":0.1,\"line_color\":\"#bcbc21\",\"line_width\":2,\"x\":{\"field\":\"Date\"},\"y\":{\"field\":\"value\"}},\"id\":\"15500\",\"type\":\"Line\"},{\"attributes\":{},\"id\":\"15530\",\"type\":\"Selection\"},{\"attributes\":{\"source\":{\"id\":\"15321\"}},\"id\":\"15328\",\"type\":\"CDSView\"},{\"attributes\":{\"line_color\":\"#d62628\",\"line_width\":2,\"x\":{\"field\":\"Date\"},\"y\":{\"field\":\"value\"}},\"id\":\"15364\",\"type\":\"Line\"},{\"attributes\":{\"data_source\":{\"id\":\"15321\"},\"glyph\":{\"id\":\"15324\"},\"hover_glyph\":null,\"muted_glyph\":{\"id\":\"15326\"},\"nonselection_glyph\":{\"id\":\"15325\"},\"selection_glyph\":null,\"view\":{\"id\":\"15328\"}},\"id\":\"15327\",\"type\":\"GlyphRenderer\"},{\"attributes\":{\"data\":{\"Date\":[\"1/1/1998\",\"4/1/1998\",\"7/1/1998\",\"10/1/1998\",\"1/1/1999\",\"4/1/1999\",\"7/1/1999\",\"10/1/1999\",\"1/1/2000\",\"4/1/2000\",\"7/1/2000\",\"10/1/2000\",\"1/1/2001\",\"4/1/2001\",\"7/1/2001\",\"10/1/2001\",\"1/1/2002\",\"4/1/2002\",\"7/1/2002\",\"10/1/2002\",\"1/1/2003\",\"4/1/2003\",\"7/1/2003\",\"10/1/2003\",\"1/1/2004\",\"4/1/2004\",\"7/1/2004\",\"10/1/2004\",\"1/1/2005\",\"4/1/2005\",\"7/1/2005\",\"10/1/2005\",\"1/1/2006\",\"4/1/2006\",\"7/1/2006\",\"10/1/2006\",\"1/1/2007\",\"4/1/2007\",\"7/1/2007\",\"10/1/2007\",\"1/1/2008\",\"4/1/2008\",\"7/1/2008\",\"10/1/2008\",\"1/1/2009\",\"4/1/2009\",\"7/1/2009\",\"10/1/2009\",\"1/1/2010\",\"4/1/2010\",\"7/1/2010\",\"10/1/2010\",\"1/1/2011\",\"4/1/2011\",\"7/1/2011\",\"10/1/2011\",\"1/1/2012\",\"4/1/2012\",\"7/1/2012\",\"10/1/2012\",\"1/1/2013\",\"4/1/2013\",\"7/1/2013\",\"10/1/2013\",\"1/1/2014\",\"4/1/2014\",\"7/1/2014\",\"10/1/2014\",\"1/1/2015\",\"4/1/2015\",\"7/1/2015\",\"10/1/2015\",\"1/1/2016\",\"4/1/2016\",\"7/1/2016\",\"10/1/2016\",\"1/1/2017\",\"4/1/2017\",\"7/1/2017\",\"10/1/2017\",\"1/1/2018\",\"4/1/2018\",\"7/1/2018\",\"10/1/2018\",\"1/1/2019\",\"4/1/2019\",\"7/1/2019\",\"10/1/2019\",\"1/1/2020\",\"4/1/2020\",\"7/1/2020\"],\"Variable\":[\"Painting\",\"Painting\",\"Painting\",\"Painting\",\"Painting\",\"Painting\",\"Painting\",\"Painting\",\"Painting\",\"Painting\",\"Painting\",\"Painting\",\"Painting\",\"Painting\",\"Painting\",\"Painting\",\"Painting\",\"Painting\",\"Painting\",\"Painting\",\"Painting\",\"Painting\",\"Painting\",\"Painting\",\"Painting\",\"Painting\",\"Painting\",\"Painting\",\"Painting\",\"Painting\",\"Painting\",\"Painting\",\"Painting\",\"Painting\",\"Painting\",\"Painting\",\"Painting\",\"Painting\",\"Painting\",\"Painting\",\"Painting\",\"Painting\",\"Painting\",\"Painting\",\"Painting\",\"Painting\",\"Painting\",\"Painting\",\"Painting\",\"Painting\",\"Painting\",\"Painting\",\"Painting\",\"Painting\",\"Painting\",\"Painting\",\"Painting\",\"Painting\",\"Painting\",\"Painting\",\"Painting\",\"Painting\",\"Painting\",\"Painting\",\"Painting\",\"Painting\",\"Painting\",\"Painting\",\"Painting\",\"Painting\",\"Painting\",\"Painting\",\"Painting\",\"Painting\",\"Painting\",\"Painting\",\"Painting\",\"Painting\",\"Painting\",\"Painting\",\"Painting\",\"Painting\",\"Painting\",\"Painting\",\"Painting\",\"Painting\",\"Painting\",\"Painting\",\"Painting\",\"Painting\",\"Painting\"],\"value\":[100,109,107,103,107,114,115,115,117,118,119,117,111,111,112,111,114,117,120,123,132,141,137,138,154,168,170,172,182,191,187,181,183,193,197,199,218,241,249,249,257,266,256,230,207,199,196,193,203,209,196,188,201,213,208,198,190,184,176,170,170,173,174,173,175,178,178,175,168,159,155,153,149,146,141,134,134,136,134,132,133,136,133,126,126,126,121,116,116,117,120]},\"selected\":{\"id\":\"15341\"},\"selection_policy\":{\"id\":\"15358\"}},\"id\":\"15340\",\"type\":\"ColumnDataSource\"},{\"attributes\":{\"line_alpha\":0.2,\"line_color\":\"#d62628\",\"line_width\":2,\"x\":{\"field\":\"Date\"},\"y\":{\"field\":\"value\"}},\"id\":\"15366\",\"type\":\"Line\"},{\"attributes\":{\"label\":{\"value\":\"UK (GBP)\"},\"renderers\":[{\"id\":\"15646\"}]},\"id\":\"15680\",\"type\":\"LegendItem\"},{\"attributes\":{\"data_source\":{\"id\":\"15361\"},\"glyph\":{\"id\":\"15364\"},\"hover_glyph\":null,\"muted_glyph\":{\"id\":\"15366\"},\"nonselection_glyph\":{\"id\":\"15365\"},\"selection_glyph\":null,\"view\":{\"id\":\"15368\"}},\"id\":\"15367\",\"type\":\"GlyphRenderer\"},{\"attributes\":{},\"id\":\"15301\",\"type\":\"BasicTickFormatter\"},{\"attributes\":{\"line_alpha\":0.1,\"line_color\":\"#1f77b3\",\"line_width\":2,\"x\":{\"field\":\"Date\"},\"y\":{\"field\":\"value\"}},\"id\":\"15307\",\"type\":\"Line\"},{\"attributes\":{\"data\":{\"Date\":[\"1/1/1998\",\"4/1/1998\",\"7/1/1998\",\"10/1/1998\",\"1/1/1999\",\"4/1/1999\",\"7/1/1999\",\"10/1/1999\",\"1/1/2000\",\"4/1/2000\",\"7/1/2000\",\"10/1/2000\",\"1/1/2001\",\"4/1/2001\",\"7/1/2001\",\"10/1/2001\",\"1/1/2002\",\"4/1/2002\",\"7/1/2002\",\"10/1/2002\",\"1/1/2003\",\"4/1/2003\",\"7/1/2003\",\"10/1/2003\",\"1/1/2004\",\"4/1/2004\",\"7/1/2004\",\"10/1/2004\",\"1/1/2005\",\"4/1/2005\",\"7/1/2005\",\"10/1/2005\",\"1/1/2006\",\"4/1/2006\",\"7/1/2006\",\"10/1/2006\",\"1/1/2007\",\"4/1/2007\",\"7/1/2007\",\"10/1/2007\",\"1/1/2008\",\"4/1/2008\",\"7/1/2008\",\"10/1/2008\",\"1/1/2009\",\"4/1/2009\",\"7/1/2009\",\"10/1/2009\",\"1/1/2010\",\"4/1/2010\",\"7/1/2010\",\"10/1/2010\",\"1/1/2011\",\"4/1/2011\",\"7/1/2011\",\"10/1/2011\",\"1/1/2012\",\"4/1/2012\",\"7/1/2012\",\"10/1/2012\",\"1/1/2013\",\"4/1/2013\",\"7/1/2013\",\"10/1/2013\",\"1/1/2014\",\"4/1/2014\",\"7/1/2014\",\"10/1/2014\",\"1/1/2015\",\"4/1/2015\",\"7/1/2015\",\"10/1/2015\",\"1/1/2016\",\"4/1/2016\",\"7/1/2016\",\"10/1/2016\",\"1/1/2017\",\"4/1/2017\",\"7/1/2017\",\"10/1/2017\",\"1/1/2018\",\"4/1/2018\",\"7/1/2018\",\"10/1/2018\",\"1/1/2019\",\"4/1/2019\",\"7/1/2019\",\"10/1/2019\",\"1/1/2020\",\"4/1/2020\",\"7/1/2020\"],\"Variable\":[\"Sculpture\",\"Sculpture\",\"Sculpture\",\"Sculpture\",\"Sculpture\",\"Sculpture\",\"Sculpture\",\"Sculpture\",\"Sculpture\",\"Sculpture\",\"Sculpture\",\"Sculpture\",\"Sculpture\",\"Sculpture\",\"Sculpture\",\"Sculpture\",\"Sculpture\",\"Sculpture\",\"Sculpture\",\"Sculpture\",\"Sculpture\",\"Sculpture\",\"Sculpture\",\"Sculpture\",\"Sculpture\",\"Sculpture\",\"Sculpture\",\"Sculpture\",\"Sculpture\",\"Sculpture\",\"Sculpture\",\"Sculpture\",\"Sculpture\",\"Sculpture\",\"Sculpture\",\"Sculpture\",\"Sculpture\",\"Sculpture\",\"Sculpture\",\"Sculpture\",\"Sculpture\",\"Sculpture\",\"Sculpture\",\"Sculpture\",\"Sculpture\",\"Sculpture\",\"Sculpture\",\"Sculpture\",\"Sculpture\",\"Sculpture\",\"Sculpture\",\"Sculpture\",\"Sculpture\",\"Sculpture\",\"Sculpture\",\"Sculpture\",\"Sculpture\",\"Sculpture\",\"Sculpture\",\"Sculpture\",\"Sculpture\",\"Sculpture\",\"Sculpture\",\"Sculpture\",\"Sculpture\",\"Sculpture\",\"Sculpture\",\"Sculpture\",\"Sculpture\",\"Sculpture\",\"Sculpture\",\"Sculpture\",\"Sculpture\",\"Sculpture\",\"Sculpture\",\"Sculpture\",\"Sculpture\",\"Sculpture\",\"Sculpture\",\"Sculpture\",\"Sculpture\",\"Sculpture\",\"Sculpture\",\"Sculpture\",\"Sculpture\",\"Sculpture\",\"Sculpture\",\"Sculpture\",\"Sculpture\",\"Sculpture\",\"Sculpture\"],\"value\":[100,139,133,128,132,134,134,140,140,137,136,134,140,147,136,126,128,132,133,136,143,154,163,167,171,173,172,172,181,191,182,173,176,182,190,192,208,237,250,251,260,268,260,234,195,182,189,192,199,197,185,187,205,221,221,219,215,207,199,191,192,197,186,174,186,198,195,184,174,171,168,161,154,152,152,151,147,146,151,155,155,153,148,143,140,143,144,143,143,144,152]},\"selected\":{\"id\":\"15362\"},\"selection_policy\":{\"id\":\"15381\"}},\"id\":\"15361\",\"type\":\"ColumnDataSource\"},{\"attributes\":{\"label\":{\"value\":\"USA (USD)\"},\"renderers\":[{\"id\":\"15607\"}]},\"id\":\"15639\",\"type\":\"LegendItem\"},{\"attributes\":{\"source\":{\"id\":\"15436\"}},\"id\":\"15443\",\"type\":\"CDSView\"},{\"attributes\":{\"label\":{\"value\":\"Painting\"},\"renderers\":[{\"id\":\"15346\"}]},\"id\":\"15360\",\"type\":\"LegendItem\"},{\"attributes\":{\"axis\":{\"id\":\"15279\"},\"grid_line_color\":null,\"ticker\":null},\"id\":\"15281\",\"type\":\"Grid\"},{\"attributes\":{\"line_alpha\":0.1,\"line_color\":\"#d62628\",\"line_width\":2,\"x\":{\"field\":\"Date\"},\"y\":{\"field\":\"value\"}},\"id\":\"15365\",\"type\":\"Line\"},{\"attributes\":{},\"id\":\"15362\",\"type\":\"Selection\"},{\"attributes\":{},\"id\":\"15283\",\"type\":\"BasicTicker\"},{\"attributes\":{},\"id\":\"15437\",\"type\":\"Selection\"},{\"attributes\":{\"source\":{\"id\":\"15564\"}},\"id\":\"15571\",\"type\":\"CDSView\"},{\"attributes\":{},\"id\":\"15280\",\"type\":\"CategoricalTicker\"},{\"attributes\":{\"line_alpha\":0.2,\"line_color\":\"#8c564b\",\"line_width\":2,\"x\":{\"field\":\"Date\"},\"y\":{\"field\":\"value\"}},\"id\":\"15414\",\"type\":\"Line\"},{\"attributes\":{\"label\":{\"value\":\"Contemporary\"},\"renderers\":[{\"id\":\"15570\"}]},\"id\":\"15600\",\"type\":\"LegendItem\"},{\"attributes\":{},\"id\":\"15493\",\"type\":\"UnionRenderers\"},{\"attributes\":{\"line_color\":\"#16bdcf\",\"line_width\":2,\"x\":{\"field\":\"Date\"},\"y\":{\"field\":\"value\"}},\"id\":\"15532\",\"type\":\"Line\"},{\"attributes\":{\"label\":{\"value\":\"19th Century\"},\"renderers\":[{\"id\":\"15471\"}]},\"id\":\"15495\",\"type\":\"LegendItem\"},{\"attributes\":{\"data_source\":{\"id\":\"15496\"},\"glyph\":{\"id\":\"15499\"},\"hover_glyph\":null,\"muted_glyph\":{\"id\":\"15501\"},\"nonselection_glyph\":{\"id\":\"15500\"},\"selection_glyph\":null,\"view\":{\"id\":\"15503\"}},\"id\":\"15502\",\"type\":\"GlyphRenderer\"},{\"attributes\":{\"line_alpha\":0.1,\"line_color\":\"#e277c1\",\"line_width\":2,\"x\":{\"field\":\"Date\"},\"y\":{\"field\":\"value\"}},\"id\":\"15440\",\"type\":\"Line\"},{\"attributes\":{\"text\":\"Art Price Index - Quarterly Price in Base 100\",\"text_color\":{\"value\":\"black\"},\"text_font_size\":{\"value\":\"12pt\"}},\"id\":\"15271\",\"type\":\"Title\"},{\"attributes\":{\"data_source\":{\"id\":\"15409\"},\"glyph\":{\"id\":\"15412\"},\"hover_glyph\":null,\"muted_glyph\":{\"id\":\"15414\"},\"nonselection_glyph\":{\"id\":\"15413\"},\"selection_glyph\":null,\"view\":{\"id\":\"15416\"}},\"id\":\"15415\",\"type\":\"GlyphRenderer\"},{\"attributes\":{},\"id\":\"15277\",\"type\":\"LinearScale\"},{\"attributes\":{\"axis\":{\"id\":\"15282\"},\"dimension\":1,\"grid_line_color\":null,\"ticker\":null},\"id\":\"15285\",\"type\":\"Grid\"},{\"attributes\":{\"line_alpha\":0.2,\"line_color\":\"#bcbc21\",\"line_width\":2,\"x\":{\"field\":\"Date\"},\"y\":{\"field\":\"value\"}},\"id\":\"15501\",\"type\":\"Line\"},{\"attributes\":{\"line_alpha\":0.2,\"line_color\":\"#004201\",\"line_width\":2,\"x\":{\"field\":\"Date\"},\"y\":{\"field\":\"value\"}},\"id\":\"15606\",\"type\":\"Line\"},{\"attributes\":{\"data\":{\"Date\":[\"1/1/1998\",\"4/1/1998\",\"7/1/1998\",\"10/1/1998\",\"1/1/1999\",\"4/1/1999\",\"7/1/1999\",\"10/1/1999\",\"1/1/2000\",\"4/1/2000\",\"7/1/2000\",\"10/1/2000\",\"1/1/2001\",\"4/1/2001\",\"7/1/2001\",\"10/1/2001\",\"1/1/2002\",\"4/1/2002\",\"7/1/2002\",\"10/1/2002\",\"1/1/2003\",\"4/1/2003\",\"7/1/2003\",\"10/1/2003\",\"1/1/2004\",\"4/1/2004\",\"7/1/2004\",\"10/1/2004\",\"1/1/2005\",\"4/1/2005\",\"7/1/2005\",\"10/1/2005\",\"1/1/2006\",\"4/1/2006\",\"7/1/2006\",\"10/1/2006\",\"1/1/2007\",\"4/1/2007\",\"7/1/2007\",\"10/1/2007\",\"1/1/2008\",\"4/1/2008\",\"7/1/2008\",\"10/1/2008\",\"1/1/2009\",\"4/1/2009\",\"7/1/2009\",\"10/1/2009\",\"1/1/2010\",\"4/1/2010\",\"7/1/2010\",\"10/1/2010\",\"1/1/2011\",\"4/1/2011\",\"7/1/2011\",\"10/1/2011\",\"1/1/2012\",\"4/1/2012\",\"7/1/2012\",\"10/1/2012\",\"1/1/2013\",\"4/1/2013\",\"7/1/2013\",\"10/1/2013\",\"1/1/2014\",\"4/1/2014\",\"7/1/2014\",\"10/1/2014\",\"1/1/2015\",\"4/1/2015\",\"7/1/2015\",\"10/1/2015\",\"1/1/2016\",\"4/1/2016\",\"7/1/2016\",\"10/1/2016\",\"1/1/2017\",\"4/1/2017\",\"7/1/2017\",\"10/1/2017\",\"1/1/2018\",\"4/1/2018\",\"7/1/2018\",\"10/1/2018\",\"1/1/2019\",\"4/1/2019\",\"7/1/2019\",\"10/1/2019\",\"1/1/2020\",\"4/1/2020\",\"7/1/2020\"],\"Variable\":[\"France (EUR)\",\"France (EUR)\",\"France (EUR)\",\"France (EUR)\",\"France (EUR)\",\"France (EUR)\",\"France (EUR)\",\"France (EUR)\",\"France (EUR)\",\"France (EUR)\",\"France (EUR)\",\"France (EUR)\",\"France (EUR)\",\"France (EUR)\",\"France (EUR)\",\"France (EUR)\",\"France (EUR)\",\"France (EUR)\",\"France (EUR)\",\"France (EUR)\",\"France (EUR)\",\"France (EUR)\",\"France (EUR)\",\"France (EUR)\",\"France (EUR)\",\"France (EUR)\",\"France (EUR)\",\"France (EUR)\",\"France (EUR)\",\"France (EUR)\",\"France (EUR)\",\"France (EUR)\",\"France (EUR)\",\"France (EUR)\",\"France (EUR)\",\"France (EUR)\",\"France (EUR)\",\"France (EUR)\",\"France (EUR)\",\"France (EUR)\",\"France (EUR)\",\"France (EUR)\",\"France (EUR)\",\"France (EUR)\",\"France (EUR)\",\"France (EUR)\",\"France (EUR)\",\"France (EUR)\",\"France (EUR)\",\"France (EUR)\",\"France (EUR)\",\"France (EUR)\",\"France (EUR)\",\"France (EUR)\",\"France (EUR)\",\"France (EUR)\",\"France (EUR)\",\"France (EUR)\",\"France (EUR)\",\"France (EUR)\",\"France (EUR)\",\"France (EUR)\",\"France (EUR)\",\"France (EUR)\",\"France (EUR)\",\"France (EUR)\",\"France (EUR)\",\"France (EUR)\",\"France (EUR)\",\"France (EUR)\",\"France (EUR)\",\"France (EUR)\",\"France (EUR)\",\"France (EUR)\",\"France (EUR)\",\"France (EUR)\",\"France (EUR)\",\"France (EUR)\",\"France (EUR)\",\"France (EUR)\",\"France (EUR)\",\"France (EUR)\",\"France (EUR)\",\"France (EUR)\",\"France (EUR)\",\"France (EUR)\",\"France (EUR)\",\"France (EUR)\",\"France (EUR)\",\"France (EUR)\",\"France (EUR)\"],\"value\":[100,107,105,100,100,105,110,115,123,131,136,138,141,142,139,135,136,137,133,132,139,143,136,129,133,139,142,142,145,154,154,155,163,168,164,159,170,188,186,175,175,174,164,153,142,135,130,128,137,147,146,147,157,167,175,174,155,140,146,153,161,167,167,163,155,154,167,188,197,185,169,161,160,155,147,149,157,153,146,143,141,137,132,129,130,131,128,126,128,126,126]},\"selected\":{\"id\":\"15682\"},\"selection_policy\":{\"id\":\"15721\"}},\"id\":\"15681\",\"type\":\"ColumnDataSource\"},{\"attributes\":{\"data\":{\"Date\":[\"1/1/1998\",\"4/1/1998\",\"7/1/1998\",\"10/1/1998\",\"1/1/1999\",\"4/1/1999\",\"7/1/1999\",\"10/1/1999\",\"1/1/2000\",\"4/1/2000\",\"7/1/2000\",\"10/1/2000\",\"1/1/2001\",\"4/1/2001\",\"7/1/2001\",\"10/1/2001\",\"1/1/2002\",\"4/1/2002\",\"7/1/2002\",\"10/1/2002\",\"1/1/2003\",\"4/1/2003\",\"7/1/2003\",\"10/1/2003\",\"1/1/2004\",\"4/1/2004\",\"7/1/2004\",\"10/1/2004\",\"1/1/2005\",\"4/1/2005\",\"7/1/2005\",\"10/1/2005\",\"1/1/2006\",\"4/1/2006\",\"7/1/2006\",\"10/1/2006\",\"1/1/2007\",\"4/1/2007\",\"7/1/2007\",\"10/1/2007\",\"1/1/2008\",\"4/1/2008\",\"7/1/2008\",\"10/1/2008\",\"1/1/2009\",\"4/1/2009\",\"7/1/2009\",\"10/1/2009\",\"1/1/2010\",\"4/1/2010\",\"7/1/2010\",\"10/1/2010\",\"1/1/2011\",\"4/1/2011\",\"7/1/2011\",\"10/1/2011\",\"1/1/2012\",\"4/1/2012\",\"7/1/2012\",\"10/1/2012\",\"1/1/2013\",\"4/1/2013\",\"7/1/2013\",\"10/1/2013\",\"1/1/2014\",\"4/1/2014\",\"7/1/2014\",\"10/1/2014\",\"1/1/2015\",\"4/1/2015\",\"7/1/2015\",\"10/1/2015\",\"1/1/2016\",\"4/1/2016\",\"7/1/2016\",\"10/1/2016\",\"1/1/2017\",\"4/1/2017\",\"7/1/2017\",\"10/1/2017\",\"1/1/2018\",\"4/1/2018\",\"7/1/2018\",\"10/1/2018\",\"1/1/2019\",\"4/1/2019\",\"7/1/2019\",\"10/1/2019\",\"1/1/2020\",\"4/1/2020\",\"7/1/2020\"],\"Variable\":[\"Print\",\"Print\",\"Print\",\"Print\",\"Print\",\"Print\",\"Print\",\"Print\",\"Print\",\"Print\",\"Print\",\"Print\",\"Print\",\"Print\",\"Print\",\"Print\",\"Print\",\"Print\",\"Print\",\"Print\",\"Print\",\"Print\",\"Print\",\"Print\",\"Print\",\"Print\",\"Print\",\"Print\",\"Print\",\"Print\",\"Print\",\"Print\",\"Print\",\"Print\",\"Print\",\"Print\",\"Print\",\"Print\",\"Print\",\"Print\",\"Print\",\"Print\",\"Print\",\"Print\",\"Print\",\"Print\",\"Print\",\"Print\",\"Print\",\"Print\",\"Print\",\"Print\",\"Print\",\"Print\",\"Print\",\"Print\",\"Print\",\"Print\",\"Print\",\"Print\",\"Print\",\"Print\",\"Print\",\"Print\",\"Print\",\"Print\",\"Print\",\"Print\",\"Print\",\"Print\",\"Print\",\"Print\",\"Print\",\"Print\",\"Print\",\"Print\",\"Print\",\"Print\",\"Print\",\"Print\",\"Print\",\"Print\",\"Print\",\"Print\",\"Print\",\"Print\",\"Print\",\"Print\",\"Print\",\"Print\",\"Print\"],\"value\":[100,114,127,123,109,109,123,130,123,123,134,139,136,141,134,120,127,141,139,130,134,150,164,159,155,168,170,170,193,216,218,207,205,209,205,209,230,259,302,345,359,336,291,245,220,200,191,207,220,220,214,207,216,234,232,218,209,207,214,220,223,220,218,216,230,252,257,257,248,227,216,211,214,218,218,218,216,216,216,214,220,230,232,230,220,214,214,216,218,216,225]},\"selected\":{\"id\":\"15437\"},\"selection_policy\":{\"id\":\"15462\"}},\"id\":\"15436\",\"type\":\"ColumnDataSource\"},{\"attributes\":{\"data\":{\"Date\":[\"1/1/1998\",\"4/1/1998\",\"7/1/1998\",\"10/1/1998\",\"1/1/1999\",\"4/1/1999\",\"7/1/1999\",\"10/1/1999\",\"1/1/2000\",\"4/1/2000\",\"7/1/2000\",\"10/1/2000\",\"1/1/2001\",\"4/1/2001\",\"7/1/2001\",\"10/1/2001\",\"1/1/2002\",\"4/1/2002\",\"7/1/2002\",\"10/1/2002\",\"1/1/2003\",\"4/1/2003\",\"7/1/2003\",\"10/1/2003\",\"1/1/2004\",\"4/1/2004\",\"7/1/2004\",\"10/1/2004\",\"1/1/2005\",\"4/1/2005\",\"7/1/2005\",\"10/1/2005\",\"1/1/2006\",\"4/1/2006\",\"7/1/2006\",\"10/1/2006\",\"1/1/2007\",\"4/1/2007\",\"7/1/2007\",\"10/1/2007\",\"1/1/2008\",\"4/1/2008\",\"7/1/2008\",\"10/1/2008\",\"1/1/2009\",\"4/1/2009\",\"7/1/2009\",\"10/1/2009\",\"1/1/2010\",\"4/1/2010\",\"7/1/2010\",\"10/1/2010\",\"1/1/2011\",\"4/1/2011\",\"7/1/2011\",\"10/1/2011\",\"1/1/2012\",\"4/1/2012\",\"7/1/2012\",\"10/1/2012\",\"1/1/2013\",\"4/1/2013\",\"7/1/2013\",\"10/1/2013\",\"1/1/2014\",\"4/1/2014\",\"7/1/2014\",\"10/1/2014\",\"1/1/2015\",\"4/1/2015\",\"7/1/2015\",\"10/1/2015\",\"1/1/2016\",\"4/1/2016\",\"7/1/2016\",\"10/1/2016\",\"1/1/2017\",\"4/1/2017\",\"7/1/2017\",\"10/1/2017\",\"1/1/2018\",\"4/1/2018\",\"7/1/2018\",\"10/1/2018\",\"1/1/2019\",\"4/1/2019\",\"7/1/2019\",\"10/1/2019\",\"1/1/2020\",\"4/1/2020\",\"7/1/2020\"],\"Variable\":[\"Modern Art\",\"Modern Art\",\"Modern Art\",\"Modern Art\",\"Modern Art\",\"Modern Art\",\"Modern Art\",\"Modern Art\",\"Modern Art\",\"Modern Art\",\"Modern Art\",\"Modern Art\",\"Modern Art\",\"Modern Art\",\"Modern Art\",\"Modern Art\",\"Modern Art\",\"Modern Art\",\"Modern Art\",\"Modern Art\",\"Modern Art\",\"Modern Art\",\"Modern Art\",\"Modern Art\",\"Modern Art\",\"Modern Art\",\"Modern Art\",\"Modern Art\",\"Modern Art\",\"Modern Art\",\"Modern Art\",\"Modern Art\",\"Modern Art\",\"Modern Art\",\"Modern Art\",\"Modern Art\",\"Modern Art\",\"Modern Art\",\"Modern Art\",\"Modern Art\",\"Modern Art\",\"Modern Art\",\"Modern Art\",\"Modern Art\",\"Modern Art\",\"Modern Art\",\"Modern Art\",\"Modern Art\",\"Modern Art\",\"Modern Art\",\"Modern Art\",\"Modern Art\",\"Modern Art\",\"Modern Art\",\"Modern Art\",\"Modern Art\",\"Modern Art\",\"Modern Art\",\"Modern Art\",\"Modern Art\",\"Modern Art\",\"Modern Art\",\"Modern Art\",\"Modern Art\",\"Modern Art\",\"Modern Art\",\"Modern Art\",\"Modern Art\",\"Modern Art\",\"Modern Art\",\"Modern Art\",\"Modern Art\",\"Modern Art\",\"Modern Art\",\"Modern Art\",\"Modern Art\",\"Modern Art\",\"Modern Art\",\"Modern Art\",\"Modern Art\",\"Modern Art\",\"Modern Art\",\"Modern Art\",\"Modern Art\",\"Modern Art\",\"Modern Art\",\"Modern Art\",\"Modern Art\",\"Modern Art\",\"Modern Art\",\"Modern Art\"],\"value\":[100,98,97,94,87,81,81,87,99,109,113,114,109,106,105,106,106,101,97,103,119,132,126,117,121,130,129,126,145,167,166,161,170,181,171,158,177,204,205,204,211,212,198,167,146,142,140,139,153,163,158,161,173,192,223,230,195,159,145,145,159,177,185,180,174,186,204,211,205,182,155,144,149,148,134,134,146,147,142,145,145,128,114,114,118,118,111,106,113,115,118]},\"selected\":{\"id\":\"15497\"},\"selection_policy\":{\"id\":\"15526\"}},\"id\":\"15496\",\"type\":\"ColumnDataSource\"},{\"attributes\":{},\"id\":\"15290\",\"type\":\"ResetTool\"},{\"attributes\":{\"line_color\":\"#e277c1\",\"line_width\":2,\"x\":{\"field\":\"Date\"},\"y\":{\"field\":\"value\"}},\"id\":\"15439\",\"type\":\"Line\"},{\"attributes\":{\"end\":473.6,\"reset_end\":473.6,\"reset_start\":22.4,\"start\":22.4,\"tags\":[[[\"value\",\"value\",null]]]},\"id\":\"15255\",\"type\":\"Range1d\"},{\"attributes\":{\"source\":{\"id\":\"15409\"}},\"id\":\"15416\",\"type\":\"CDSView\"},{\"attributes\":{\"line_alpha\":0.2,\"line_color\":\"#e277c1\",\"line_width\":2,\"x\":{\"field\":\"Date\"},\"y\":{\"field\":\"value\"}},\"id\":\"15441\",\"type\":\"Line\"},{\"attributes\":{\"data_source\":{\"id\":\"15601\"},\"glyph\":{\"id\":\"15604\"},\"hover_glyph\":null,\"muted_glyph\":{\"id\":\"15606\"},\"nonselection_glyph\":{\"id\":\"15605\"},\"selection_glyph\":null,\"view\":{\"id\":\"15608\"}},\"id\":\"15607\",\"type\":\"GlyphRenderer\"},{\"attributes\":{},\"id\":\"15462\",\"type\":\"UnionRenderers\"},{\"attributes\":{\"line_alpha\":0.2,\"line_color\":\"#16bdcf\",\"line_width\":2,\"x\":{\"field\":\"Date\"},\"y\":{\"field\":\"value\"}},\"id\":\"15534\",\"type\":\"Line\"},{\"attributes\":{\"active_drag\":\"auto\",\"active_inspect\":\"auto\",\"active_multi\":null,\"active_scroll\":\"auto\",\"active_tap\":\"auto\",\"tools\":[{\"id\":\"15256\"},{\"id\":\"15286\"},{\"id\":\"15287\"},{\"id\":\"15288\"},{\"id\":\"15289\"},{\"id\":\"15290\"}]},\"id\":\"15292\",\"type\":\"Toolbar\"},{\"attributes\":{\"line_color\":\"#bcbc21\",\"line_width\":2,\"x\":{\"field\":\"Date\"},\"y\":{\"field\":\"value\"}},\"id\":\"15499\",\"type\":\"Line\"},{\"attributes\":{\"line_color\":\"#7e7e7e\",\"line_width\":2,\"x\":{\"field\":\"Date\"},\"y\":{\"field\":\"value\"}},\"id\":\"15468\",\"type\":\"Line\"},{\"attributes\":{},\"id\":\"15561\",\"type\":\"UnionRenderers\"},{\"attributes\":{},\"id\":\"15341\",\"type\":\"Selection\"},{\"attributes\":{},\"id\":\"15598\",\"type\":\"UnionRenderers\"},{\"attributes\":{},\"id\":\"15286\",\"type\":\"SaveTool\"},{\"attributes\":{\"data\":{\"Date\":[\"1/1/1998\",\"4/1/1998\",\"7/1/1998\",\"10/1/1998\",\"1/1/1999\",\"4/1/1999\",\"7/1/1999\",\"10/1/1999\",\"1/1/2000\",\"4/1/2000\",\"7/1/2000\",\"10/1/2000\",\"1/1/2001\",\"4/1/2001\",\"7/1/2001\",\"10/1/2001\",\"1/1/2002\",\"4/1/2002\",\"7/1/2002\",\"10/1/2002\",\"1/1/2003\",\"4/1/2003\",\"7/1/2003\",\"10/1/2003\",\"1/1/2004\",\"4/1/2004\",\"7/1/2004\",\"10/1/2004\",\"1/1/2005\",\"4/1/2005\",\"7/1/2005\",\"10/1/2005\",\"1/1/2006\",\"4/1/2006\",\"7/1/2006\",\"10/1/2006\",\"1/1/2007\",\"4/1/2007\",\"7/1/2007\",\"10/1/2007\",\"1/1/2008\",\"4/1/2008\",\"7/1/2008\",\"10/1/2008\",\"1/1/2009\",\"4/1/2009\",\"7/1/2009\",\"10/1/2009\",\"1/1/2010\",\"4/1/2010\",\"7/1/2010\",\"10/1/2010\",\"1/1/2011\",\"4/1/2011\",\"7/1/2011\",\"10/1/2011\",\"1/1/2012\",\"4/1/2012\",\"7/1/2012\",\"10/1/2012\",\"1/1/2013\",\"4/1/2013\",\"7/1/2013\",\"10/1/2013\",\"1/1/2014\",\"4/1/2014\",\"7/1/2014\",\"10/1/2014\",\"1/1/2015\",\"4/1/2015\",\"7/1/2015\",\"10/1/2015\",\"1/1/2016\",\"4/1/2016\",\"7/1/2016\",\"10/1/2016\",\"1/1/2017\",\"4/1/2017\",\"7/1/2017\",\"10/1/2017\",\"1/1/2018\",\"4/1/2018\",\"7/1/2018\",\"10/1/2018\",\"1/1/2019\",\"4/1/2019\",\"7/1/2019\",\"10/1/2019\",\"1/1/2020\",\"4/1/2020\",\"7/1/2020\"],\"Variable\":[\"19th Century\",\"19th Century\",\"19th Century\",\"19th Century\",\"19th Century\",\"19th Century\",\"19th Century\",\"19th Century\",\"19th Century\",\"19th Century\",\"19th Century\",\"19th Century\",\"19th Century\",\"19th Century\",\"19th Century\",\"19th Century\",\"19th Century\",\"19th Century\",\"19th Century\",\"19th Century\",\"19th Century\",\"19th Century\",\"19th Century\",\"19th Century\",\"19th Century\",\"19th Century\",\"19th Century\",\"19th Century\",\"19th Century\",\"19th Century\",\"19th Century\",\"19th Century\",\"19th Century\",\"19th Century\",\"19th Century\",\"19th Century\",\"19th Century\",\"19th Century\",\"19th Century\",\"19th Century\",\"19th Century\",\"19th Century\",\"19th Century\",\"19th Century\",\"19th Century\",\"19th Century\",\"19th Century\",\"19th Century\",\"19th Century\",\"19th Century\",\"19th Century\",\"19th Century\",\"19th Century\",\"19th Century\",\"19th Century\",\"19th Century\",\"19th Century\",\"19th Century\",\"19th Century\",\"19th Century\",\"19th Century\",\"19th Century\",\"19th Century\",\"19th Century\",\"19th Century\",\"19th Century\",\"19th Century\",\"19th Century\",\"19th Century\",\"19th Century\",\"19th Century\",\"19th Century\",\"19th Century\",\"19th Century\",\"19th Century\",\"19th Century\",\"19th Century\",\"19th Century\",\"19th Century\",\"19th Century\",\"19th Century\",\"19th Century\",\"19th Century\",\"19th Century\",\"19th Century\",\"19th Century\",\"19th Century\",\"19th Century\",\"19th Century\",\"19th Century\",\"19th Century\"],\"value\":[100,110,118,122,119,113,112,111,109,106,108,111,110,116,120,110,103,103,106,109,111,123,130,124,119,120,139,155,147,138,127,121,129,139,147,151,167,192,185,176,169,152,153,149,132,129,133,130,122,119,134,147,136,130,140,146,130,109,111,119,113,110,115,122,124,119,108,99,102,98,84,78,82,87,88,81,75,76,77,78,76,68,64,60,60,63,62,66,70,68,64]},\"selected\":{\"id\":\"15466\"},\"selection_policy\":{\"id\":\"15493\"}},\"id\":\"15465\",\"type\":\"ColumnDataSource\"},{\"attributes\":{\"label\":{\"value\":\"Global Index (USD)\"},\"renderers\":[{\"id\":\"15309\"}]},\"id\":\"15320\",\"type\":\"LegendItem\"},{\"attributes\":{\"label\":{\"value\":\"Print\"},\"renderers\":[{\"id\":\"15442\"}]},\"id\":\"15464\",\"type\":\"LegendItem\"},{\"attributes\":{},\"id\":\"15682\",\"type\":\"Selection\"},{\"attributes\":{\"axis_label\":\"Date\",\"bounds\":\"auto\",\"formatter\":{\"id\":\"15299\"},\"major_label_orientation\":1.5707963267948966,\"ticker\":{\"id\":\"15280\"}},\"id\":\"15279\",\"type\":\"CategoricalAxis\"},{\"attributes\":{},\"id\":\"15317\",\"type\":\"UnionRenderers\"},{\"attributes\":{\"line_alpha\":0.2,\"line_color\":\"#1f77b3\",\"line_width\":2,\"x\":{\"field\":\"Date\"},\"y\":{\"field\":\"value\"}},\"id\":\"15308\",\"type\":\"Line\"},{\"attributes\":{\"line_alpha\":0.1,\"line_color\":\"#ff7e0e\",\"line_width\":2,\"x\":{\"field\":\"Date\"},\"y\":{\"field\":\"value\"}},\"id\":\"15325\",\"type\":\"Line\"},{\"attributes\":{\"source\":{\"id\":\"15496\"}},\"id\":\"15503\",\"type\":\"CDSView\"},{\"attributes\":{},\"id\":\"15497\",\"type\":\"Selection\"},{\"attributes\":{\"data_source\":{\"id\":\"15303\"},\"glyph\":{\"id\":\"15306\"},\"hover_glyph\":null,\"muted_glyph\":{\"id\":\"15308\"},\"nonselection_glyph\":{\"id\":\"15307\"},\"selection_glyph\":null,\"view\":{\"id\":\"15310\"}},\"id\":\"15309\",\"type\":\"GlyphRenderer\"}],\"root_ids\":[\"15252\"]},\"title\":\"Bokeh Application\",\"version\":\"2.1.1\"}};\n",
       "  var render_items = [{\"docid\":\"bdcb3838-a8c7-4a3b-bab0-1bc88bd22c9a\",\"root_ids\":[\"15252\"],\"roots\":{\"15252\":\"800be326-f14c-4641-aead-46c8b1e77000\"}}];\n",
       "  root.Bokeh.embed.embed_items_notebook(docs_json, render_items);\n",
       "  }\n",
       "if (root.Bokeh !== undefined) {\n",
       "    embed_document(root);\n",
       "  } else {\n",
       "    var attempts = 0;\n",
       "    var timer = setInterval(function(root) {\n",
       "      if (root.Bokeh !== undefined) {\n",
       "        clearInterval(timer);\n",
       "        embed_document(root);\n",
       "      } else if (document.readyState == \"complete\") {\n",
       "        attempts++;\n",
       "        if (attempts > 100) {\n",
       "          clearInterval(timer);\n",
       "          console.log(\"Bokeh: ERROR: Unable to run BokehJS code because BokehJS library is missing\");\n",
       "        }\n",
       "      }\n",
       "    }, 10, root)\n",
       "  }\n",
       "})(window);</script>"
      ],
      "text/plain": [
       ":NdOverlay   [Variable]\n",
       "   :Curve   [Date]   (value)"
      ]
     },
     "execution_count": 88,
     "metadata": {
      "application/vnd.holoviews_exec.v0+json": {
       "id": "15252"
      }
     },
     "output_type": "execute_result"
    }
   ],
   "source": [
    "art_index_plot = art_index.hvplot(title=\"Art Price Index - Quarterly Price in Base 100\", ylabel=\"Price - Base 100\", frame_width=1500, frame_height=500, rot=90)\n",
    "\n",
    "art_index_plot"
   ]
  },
  {
   "cell_type": "code",
   "execution_count": 99,
   "metadata": {},
   "outputs": [
    {
     "data": {
      "text/html": [
       "<div>\n",
       "<style scoped>\n",
       "    .dataframe tbody tr th:only-of-type {\n",
       "        vertical-align: middle;\n",
       "    }\n",
       "\n",
       "    .dataframe tbody tr th {\n",
       "        vertical-align: top;\n",
       "    }\n",
       "\n",
       "    .dataframe thead th {\n",
       "        text-align: right;\n",
       "    }\n",
       "</style>\n",
       "<table border=\"1\" class=\"dataframe\">\n",
       "  <thead>\n",
       "    <tr style=\"text-align: right;\">\n",
       "      <th></th>\n",
       "      <th>Global Index (USD)</th>\n",
       "      <th>Global Index (EUR)</th>\n",
       "      <th>Painting</th>\n",
       "      <th>Sculpture</th>\n",
       "      <th>Photography</th>\n",
       "      <th>Drawing</th>\n",
       "      <th>Print</th>\n",
       "      <th>19th Century</th>\n",
       "      <th>Modern Art</th>\n",
       "      <th>Post-War</th>\n",
       "      <th>Contemporary</th>\n",
       "      <th>USA (USD)</th>\n",
       "      <th>UK (GBP)</th>\n",
       "      <th>France (EUR)</th>\n",
       "    </tr>\n",
       "    <tr>\n",
       "      <th>Date</th>\n",
       "      <th></th>\n",
       "      <th></th>\n",
       "      <th></th>\n",
       "      <th></th>\n",
       "      <th></th>\n",
       "      <th></th>\n",
       "      <th></th>\n",
       "      <th></th>\n",
       "      <th></th>\n",
       "      <th></th>\n",
       "      <th></th>\n",
       "      <th></th>\n",
       "      <th></th>\n",
       "      <th></th>\n",
       "    </tr>\n",
       "  </thead>\n",
       "  <tbody>\n",
       "    <tr>\n",
       "      <th>4/1/1998</th>\n",
       "      <td>0.070000</td>\n",
       "      <td>0.100000</td>\n",
       "      <td>0.090000</td>\n",
       "      <td>0.390000</td>\n",
       "      <td>-0.040000</td>\n",
       "      <td>0.040000</td>\n",
       "      <td>0.140000</td>\n",
       "      <td>0.100000</td>\n",
       "      <td>-0.020000</td>\n",
       "      <td>0.140000</td>\n",
       "      <td>0.010000</td>\n",
       "      <td>-0.009524</td>\n",
       "      <td>-0.020000</td>\n",
       "      <td>0.070000</td>\n",
       "    </tr>\n",
       "    <tr>\n",
       "      <th>7/1/1998</th>\n",
       "      <td>-0.009346</td>\n",
       "      <td>-0.036364</td>\n",
       "      <td>-0.018349</td>\n",
       "      <td>-0.043165</td>\n",
       "      <td>-0.020833</td>\n",
       "      <td>0.019231</td>\n",
       "      <td>0.114035</td>\n",
       "      <td>0.072727</td>\n",
       "      <td>-0.010204</td>\n",
       "      <td>-0.017544</td>\n",
       "      <td>0.079208</td>\n",
       "      <td>-0.038462</td>\n",
       "      <td>-0.030612</td>\n",
       "      <td>-0.018692</td>\n",
       "    </tr>\n",
       "    <tr>\n",
       "      <th>10/1/1998</th>\n",
       "      <td>-0.094340</td>\n",
       "      <td>-0.094340</td>\n",
       "      <td>-0.037383</td>\n",
       "      <td>-0.037594</td>\n",
       "      <td>-0.095745</td>\n",
       "      <td>0.028302</td>\n",
       "      <td>-0.031496</td>\n",
       "      <td>0.033898</td>\n",
       "      <td>-0.030928</td>\n",
       "      <td>-0.089286</td>\n",
       "      <td>0.045872</td>\n",
       "      <td>0.020000</td>\n",
       "      <td>0.021053</td>\n",
       "      <td>-0.047619</td>\n",
       "    </tr>\n",
       "    <tr>\n",
       "      <th>1/1/1999</th>\n",
       "      <td>0.083333</td>\n",
       "      <td>0.041667</td>\n",
       "      <td>0.038835</td>\n",
       "      <td>0.031250</td>\n",
       "      <td>-0.011765</td>\n",
       "      <td>-0.009174</td>\n",
       "      <td>-0.113821</td>\n",
       "      <td>-0.024590</td>\n",
       "      <td>-0.074468</td>\n",
       "      <td>0.058824</td>\n",
       "      <td>-0.017544</td>\n",
       "      <td>0.019608</td>\n",
       "      <td>0.030928</td>\n",
       "      <td>0.000000</td>\n",
       "    </tr>\n",
       "    <tr>\n",
       "      <th>4/1/1999</th>\n",
       "      <td>-0.009615</td>\n",
       "      <td>0.040000</td>\n",
       "      <td>0.065421</td>\n",
       "      <td>0.015152</td>\n",
       "      <td>0.011905</td>\n",
       "      <td>-0.046296</td>\n",
       "      <td>0.000000</td>\n",
       "      <td>-0.050420</td>\n",
       "      <td>-0.068966</td>\n",
       "      <td>0.129630</td>\n",
       "      <td>-0.053571</td>\n",
       "      <td>0.000000</td>\n",
       "      <td>0.010000</td>\n",
       "      <td>0.050000</td>\n",
       "    </tr>\n",
       "  </tbody>\n",
       "</table>\n",
       "</div>"
      ],
      "text/plain": [
       "           Global Index (USD)  Global Index (EUR)  Painting  Sculpture  \\\n",
       "Date                                                                     \n",
       "4/1/1998             0.070000            0.100000  0.090000   0.390000   \n",
       "7/1/1998            -0.009346           -0.036364 -0.018349  -0.043165   \n",
       "10/1/1998           -0.094340           -0.094340 -0.037383  -0.037594   \n",
       "1/1/1999             0.083333            0.041667  0.038835   0.031250   \n",
       "4/1/1999            -0.009615            0.040000  0.065421   0.015152   \n",
       "\n",
       "           Photography   Drawing     Print  19th Century  Modern Art  \\\n",
       "Date                                                                   \n",
       "4/1/1998     -0.040000  0.040000  0.140000      0.100000   -0.020000   \n",
       "7/1/1998     -0.020833  0.019231  0.114035      0.072727   -0.010204   \n",
       "10/1/1998    -0.095745  0.028302 -0.031496      0.033898   -0.030928   \n",
       "1/1/1999     -0.011765 -0.009174 -0.113821     -0.024590   -0.074468   \n",
       "4/1/1999      0.011905 -0.046296  0.000000     -0.050420   -0.068966   \n",
       "\n",
       "           Post-War  Contemporary  USA (USD)  UK (GBP)  France (EUR)  \n",
       "Date                                                                  \n",
       "4/1/1998   0.140000      0.010000  -0.009524 -0.020000      0.070000  \n",
       "7/1/1998  -0.017544      0.079208  -0.038462 -0.030612     -0.018692  \n",
       "10/1/1998 -0.089286      0.045872   0.020000  0.021053     -0.047619  \n",
       "1/1/1999   0.058824     -0.017544   0.019608  0.030928      0.000000  \n",
       "4/1/1999   0.129630     -0.053571   0.000000  0.010000      0.050000  "
      ]
     },
     "execution_count": 99,
     "metadata": {},
     "output_type": "execute_result"
    }
   ],
   "source": [
    "art_index_quarterly_returns = art_index.pct_change().dropna()\n",
    "art_index_quarterly_returns.head()"
   ]
  },
  {
   "cell_type": "code",
   "execution_count": 101,
   "metadata": {},
   "outputs": [
    {
     "data": {
      "application/vnd.holoviews_exec.v0+json": "",
      "text/html": [
       "<div id='17152'>\n",
       "\n",
       "\n",
       "\n",
       "\n",
       "\n",
       "  <div class=\"bk-root\" id=\"1c07fea2-f957-410f-8c18-e9947dabe42d\" data-root-id=\"17152\"></div>\n",
       "</div>\n",
       "<script type=\"application/javascript\">(function(root) {\n",
       "  function embed_document(root) {\n",
       "  var docs_json = {\"0c6100aa-1e32-4fc7-8523-2b525e849b44\":{\"roots\":{\"references\":[{\"attributes\":{\"data_source\":{\"id\":\"17240\"},\"glyph\":{\"id\":\"17243\"},\"hover_glyph\":null,\"muted_glyph\":{\"id\":\"17245\"},\"nonselection_glyph\":{\"id\":\"17244\"},\"selection_glyph\":null,\"view\":{\"id\":\"17247\"}},\"id\":\"17246\",\"type\":\"GlyphRenderer\"},{\"attributes\":{},\"id\":\"17430\",\"type\":\"Selection\"},{\"attributes\":{\"data\":{\"Date\":[\"4/1/1998\",\"7/1/1998\",\"10/1/1998\",\"1/1/1999\",\"4/1/1999\",\"7/1/1999\",\"10/1/1999\",\"1/1/2000\",\"4/1/2000\",\"7/1/2000\",\"10/1/2000\",\"1/1/2001\",\"4/1/2001\",\"7/1/2001\",\"10/1/2001\",\"1/1/2002\",\"4/1/2002\",\"7/1/2002\",\"10/1/2002\",\"1/1/2003\",\"4/1/2003\",\"7/1/2003\",\"10/1/2003\",\"1/1/2004\",\"4/1/2004\",\"7/1/2004\",\"10/1/2004\",\"1/1/2005\",\"4/1/2005\",\"7/1/2005\",\"10/1/2005\",\"1/1/2006\",\"4/1/2006\",\"7/1/2006\",\"10/1/2006\",\"1/1/2007\",\"4/1/2007\",\"7/1/2007\",\"10/1/2007\",\"1/1/2008\",\"4/1/2008\",\"7/1/2008\",\"10/1/2008\",\"1/1/2009\",\"4/1/2009\",\"7/1/2009\",\"10/1/2009\",\"1/1/2010\",\"4/1/2010\",\"7/1/2010\",\"10/1/2010\",\"1/1/2011\",\"4/1/2011\",\"7/1/2011\",\"10/1/2011\",\"1/1/2012\",\"4/1/2012\",\"7/1/2012\",\"10/1/2012\",\"1/1/2013\",\"4/1/2013\",\"7/1/2013\",\"10/1/2013\",\"1/1/2014\",\"4/1/2014\",\"7/1/2014\",\"10/1/2014\",\"1/1/2015\",\"4/1/2015\",\"7/1/2015\",\"10/1/2015\",\"1/1/2016\",\"4/1/2016\",\"7/1/2016\",\"10/1/2016\",\"1/1/2017\",\"4/1/2017\",\"7/1/2017\",\"10/1/2017\",\"1/1/2018\",\"4/1/2018\",\"7/1/2018\",\"10/1/2018\",\"1/1/2019\",\"4/1/2019\",\"7/1/2019\",\"10/1/2019\",\"1/1/2020\",\"4/1/2020\",\"7/1/2020\"],\"Variable\":[\"USA (USD)\",\"USA (USD)\",\"USA (USD)\",\"USA (USD)\",\"USA (USD)\",\"USA (USD)\",\"USA (USD)\",\"USA (USD)\",\"USA (USD)\",\"USA (USD)\",\"USA (USD)\",\"USA (USD)\",\"USA (USD)\",\"USA (USD)\",\"USA (USD)\",\"USA (USD)\",\"USA (USD)\",\"USA (USD)\",\"USA (USD)\",\"USA (USD)\",\"USA (USD)\",\"USA (USD)\",\"USA (USD)\",\"USA (USD)\",\"USA (USD)\",\"USA (USD)\",\"USA (USD)\",\"USA (USD)\",\"USA (USD)\",\"USA (USD)\",\"USA (USD)\",\"USA (USD)\",\"USA (USD)\",\"USA (USD)\",\"USA (USD)\",\"USA (USD)\",\"USA (USD)\",\"USA (USD)\",\"USA (USD)\",\"USA (USD)\",\"USA (USD)\",\"USA (USD)\",\"USA (USD)\",\"USA (USD)\",\"USA (USD)\",\"USA (USD)\",\"USA (USD)\",\"USA (USD)\",\"USA (USD)\",\"USA (USD)\",\"USA (USD)\",\"USA (USD)\",\"USA (USD)\",\"USA (USD)\",\"USA (USD)\",\"USA (USD)\",\"USA (USD)\",\"USA (USD)\",\"USA (USD)\",\"USA (USD)\",\"USA (USD)\",\"USA (USD)\",\"USA (USD)\",\"USA (USD)\",\"USA (USD)\",\"USA (USD)\",\"USA (USD)\",\"USA (USD)\",\"USA (USD)\",\"USA (USD)\",\"USA (USD)\",\"USA (USD)\",\"USA (USD)\",\"USA (USD)\",\"USA (USD)\",\"USA (USD)\",\"USA (USD)\",\"USA (USD)\",\"USA (USD)\",\"USA (USD)\",\"USA (USD)\",\"USA (USD)\",\"USA (USD)\",\"USA (USD)\",\"USA (USD)\",\"USA (USD)\",\"USA (USD)\",\"USA (USD)\",\"USA (USD)\",\"USA (USD)\"],\"value\":{\"__ndarray__\":\"ADiBEziBg78QO7ETO7Gjv4AUrkfhepQ/ABQUFBQUlD8AAAAAAAAAAIDYiZ3YiZ0/4NS1HNzspz/Atm3btm2bPwCBoq0Gz4G/gB/BfQT3kb8AAAAAAAAAAIAkSZIkSZI/IK+hvIbymr8wJ4G4UHOiv4AQK0rjI4M/gC+hvYT2kj+AEuQpQZ6CP0AngbhQc6I/gHG/Lql8uD+QZVmWZVm2P4CG+OPW5X2/IB4eHh4enr8AH3zwwQevP9BBHdRBHbQ/wGBRsChYlD/Ayk+Is/KTP+Bu7HtETrA/MAl2Fb7csD8goQhFKEKRv0B/J6vljaG/IA8GnHEtoj+AFK5H4XqkPwBogRZogXY/ACNRauxhhr9gOz4EKTe1Pxi8nIKXU8A/ALCIErCIgj+gt6AMq/WWv6AsgU37yaI/gPshgbcfoj8QGIERGIGhv+gYxbmOUby/JMQ2rbh3wr94xB1xR9yxvwAAAAAAAAAAQDMzMzMzkz/At/krzGq0P0AXXXTRRZc/oPRJn/RJr78Av7J6lzyIPzCX0VxGc7k/YHIFMbmCuD9wXhbxCaSyPwAIzRsIzYu/1BmpmFudwb9ATK4gJlfAvwAZnI/B+Yg/oPNrD7msqD9Q8QKZFC+wP4CO4cV56Kg/APji6gcddT8AUAEVUAF1vyB0VOCLq5+/AAAAAAAAAABQ39mo72y0P3DDj+oSs7Y/ILCIErCIkr/4sHpYPay+vyCaswbF076/4LZt27Ztq78AoeRO0cKJvwBLevnTFpq/EBQUFBQUpL8AB5SJK917P8C6wRT5rJs/IK+hvIbymr8gTJHPusGUv8D6UkGrL5U/ALvBFPmsiz+AFK5H4XqUv0AFL6fg5aS/UBCTK4jJpb8gbMEWbMGWvwAAAAAAAAAAAB988MEHn78AAAAAAACYvwCq8dJNYoA/IARBEARBkL+AEEIIIYSQPyCGYRiGYai/\",\"dtype\":\"float64\",\"order\":\"little\",\"shape\":[90]}},\"selected\":{\"id\":\"17502\"},\"selection_policy\":{\"id\":\"17537\"}},\"id\":\"17501\",\"type\":\"ColumnDataSource\"},{\"attributes\":{\"data_source\":{\"id\":\"17396\"},\"glyph\":{\"id\":\"17399\"},\"hover_glyph\":null,\"muted_glyph\":{\"id\":\"17401\"},\"nonselection_glyph\":{\"id\":\"17400\"},\"selection_glyph\":null,\"view\":{\"id\":\"17403\"}},\"id\":\"17402\",\"type\":\"GlyphRenderer\"},{\"attributes\":{\"line_color\":\"#d62628\",\"line_width\":2,\"x\":{\"field\":\"Date\"},\"y\":{\"field\":\"value\"}},\"id\":\"17264\",\"type\":\"Line\"},{\"attributes\":{},\"id\":\"17465\",\"type\":\"Selection\"},{\"attributes\":{\"text\":\"Art Price Index - Quarterly Price in Base 100\",\"text_color\":{\"value\":\"black\"},\"text_font_size\":{\"value\":\"12pt\"}},\"id\":\"17171\",\"type\":\"Title\"},{\"attributes\":{\"source\":{\"id\":\"17464\"}},\"id\":\"17471\",\"type\":\"CDSView\"},{\"attributes\":{},\"id\":\"17537\",\"type\":\"UnionRenderers\"},{\"attributes\":{\"source\":{\"id\":\"17501\"}},\"id\":\"17508\",\"type\":\"CDSView\"},{\"attributes\":{},\"id\":\"17262\",\"type\":\"Selection\"},{\"attributes\":{},\"id\":\"17502\",\"type\":\"Selection\"},{\"attributes\":{\"line_alpha\":0.1,\"line_color\":\"#bcbc21\",\"line_width\":2,\"x\":{\"field\":\"Date\"},\"y\":{\"field\":\"value\"}},\"id\":\"17400\",\"type\":\"Line\"},{\"attributes\":{\"line_color\":\"#0fffa8\",\"line_width\":2,\"x\":{\"field\":\"Date\"},\"y\":{\"field\":\"value\"}},\"id\":\"17543\",\"type\":\"Line\"},{\"attributes\":{\"line_alpha\":0.2,\"line_color\":\"#5d003f\",\"line_width\":2,\"x\":{\"field\":\"Date\"},\"y\":{\"field\":\"value\"}},\"id\":\"17586\",\"type\":\"Line\"},{\"attributes\":{\"line_alpha\":0.2,\"line_color\":\"#8c564b\",\"line_width\":2,\"x\":{\"field\":\"Date\"},\"y\":{\"field\":\"value\"}},\"id\":\"17314\",\"type\":\"Line\"},{\"attributes\":{\"data\":{\"Date\":[\"4/1/1998\",\"7/1/1998\",\"10/1/1998\",\"1/1/1999\",\"4/1/1999\",\"7/1/1999\",\"10/1/1999\",\"1/1/2000\",\"4/1/2000\",\"7/1/2000\",\"10/1/2000\",\"1/1/2001\",\"4/1/2001\",\"7/1/2001\",\"10/1/2001\",\"1/1/2002\",\"4/1/2002\",\"7/1/2002\",\"10/1/2002\",\"1/1/2003\",\"4/1/2003\",\"7/1/2003\",\"10/1/2003\",\"1/1/2004\",\"4/1/2004\",\"7/1/2004\",\"10/1/2004\",\"1/1/2005\",\"4/1/2005\",\"7/1/2005\",\"10/1/2005\",\"1/1/2006\",\"4/1/2006\",\"7/1/2006\",\"10/1/2006\",\"1/1/2007\",\"4/1/2007\",\"7/1/2007\",\"10/1/2007\",\"1/1/2008\",\"4/1/2008\",\"7/1/2008\",\"10/1/2008\",\"1/1/2009\",\"4/1/2009\",\"7/1/2009\",\"10/1/2009\",\"1/1/2010\",\"4/1/2010\",\"7/1/2010\",\"10/1/2010\",\"1/1/2011\",\"4/1/2011\",\"7/1/2011\",\"10/1/2011\",\"1/1/2012\",\"4/1/2012\",\"7/1/2012\",\"10/1/2012\",\"1/1/2013\",\"4/1/2013\",\"7/1/2013\",\"10/1/2013\",\"1/1/2014\",\"4/1/2014\",\"7/1/2014\",\"10/1/2014\",\"1/1/2015\",\"4/1/2015\",\"7/1/2015\",\"10/1/2015\",\"1/1/2016\",\"4/1/2016\",\"7/1/2016\",\"10/1/2016\",\"1/1/2017\",\"4/1/2017\",\"7/1/2017\",\"10/1/2017\",\"1/1/2018\",\"4/1/2018\",\"7/1/2018\",\"10/1/2018\",\"1/1/2019\",\"4/1/2019\",\"7/1/2019\",\"10/1/2019\",\"1/1/2020\",\"4/1/2020\",\"7/1/2020\"],\"Variable\":[\"Post-War\",\"Post-War\",\"Post-War\",\"Post-War\",\"Post-War\",\"Post-War\",\"Post-War\",\"Post-War\",\"Post-War\",\"Post-War\",\"Post-War\",\"Post-War\",\"Post-War\",\"Post-War\",\"Post-War\",\"Post-War\",\"Post-War\",\"Post-War\",\"Post-War\",\"Post-War\",\"Post-War\",\"Post-War\",\"Post-War\",\"Post-War\",\"Post-War\",\"Post-War\",\"Post-War\",\"Post-War\",\"Post-War\",\"Post-War\",\"Post-War\",\"Post-War\",\"Post-War\",\"Post-War\",\"Post-War\",\"Post-War\",\"Post-War\",\"Post-War\",\"Post-War\",\"Post-War\",\"Post-War\",\"Post-War\",\"Post-War\",\"Post-War\",\"Post-War\",\"Post-War\",\"Post-War\",\"Post-War\",\"Post-War\",\"Post-War\",\"Post-War\",\"Post-War\",\"Post-War\",\"Post-War\",\"Post-War\",\"Post-War\",\"Post-War\",\"Post-War\",\"Post-War\",\"Post-War\",\"Post-War\",\"Post-War\",\"Post-War\",\"Post-War\",\"Post-War\",\"Post-War\",\"Post-War\",\"Post-War\",\"Post-War\",\"Post-War\",\"Post-War\",\"Post-War\",\"Post-War\",\"Post-War\",\"Post-War\",\"Post-War\",\"Post-War\",\"Post-War\",\"Post-War\",\"Post-War\",\"Post-War\",\"Post-War\",\"Post-War\",\"Post-War\",\"Post-War\",\"Post-War\",\"Post-War\",\"Post-War\",\"Post-War\",\"Post-War\"],\"value\":{\"__ndarray__\":\"6FG4HoXrwT+AH8F9BPeRv7ht27Zt27a/IB4eHh4erj94Ce0ltJfAP0DavE9xybA/IDuxEzuxoz9gL6G9hPaiPwDUQR3UQX0/AAAAAAAAAAAAwG6PtQx9PwAAAAAAAAAAAJsDiVbYnD8AAAAAAAAAAJAYMWLEiKG/AAAAAAAAAABQOKV58SeyP8CAbEA2IJs/ABrQpgFtej/wLd/yLd/CP8A3Q2v34bY/EBERERERsb8QO7ETO7Gjv1D0d7Ja3rg/UFVVVVVVuT8AC83tVB6NP8AQK0rjI5M/oCyBTfvJsj8gpEEapEGqP4AQaAqBpoA/oJRSSimlpD8ACPwBf8BvPwD6AaocoX8/0KR4gUyKtz+wdeEJuVq3P2AjU7227rI/wNwQA9KxtD+g6Ph5NEa1PwCjgXYdVZI/YEkBCT+5oD+A4SLYvySvPzBSMbc6I6W/cJWm+CURwr+MZBXOydPBv/Ca0Vf+OaK/QGCopmMukb8w6uTyIvikv/C4feZ7OLI/cMQdcUfcsT/QvohqnX2xv8AehetRuJ6/kMg0bDfLwz9w27Zt27a9P4AUrkfheqS/oPRJn/RJr78gDwaccS2SvwAAAAAAAAAAwPaQy4qBkr+AqVx3vNiCPwCFrRnnH68/gHcBFkpXjb/IHXFH3BG3v+gx25SaW7C/YPZuLdy0rT+IEEIIIYTAP6A05NxnF6A/wOBLTZtdnL8AdgHCylZnP4AXXXTRRYc/gIELXOACd7+AlhifMu2MvwDGmhEIeYe/oMFzBIq2mr/wPM/zPM+jv6DmX21SiJy/oAFLevnTpr+AFK5H4Xqkv4BVVVVVVYU/IA5Ql5xaoz+A0EPoIfSQPwAAAAAAAAAAAPGl41UDpL/gLiYMvtOkvwCQM8XStYU/QAWzpBwQmT9Qgfyzyjijv3DAbo+1DK2/AO0BswfMjj/AqOFvU4yaPwAAAAAAAAAA\",\"dtype\":\"float64\",\"order\":\"little\",\"shape\":[90]}},\"selected\":{\"id\":\"17430\"},\"selection_policy\":{\"id\":\"17461\"}},\"id\":\"17429\",\"type\":\"ColumnDataSource\"},{\"attributes\":{\"line_alpha\":0.1,\"line_color\":\"#3a0182\",\"line_width\":2,\"x\":{\"field\":\"Date\"},\"y\":{\"field\":\"value\"}},\"id\":\"17468\",\"type\":\"Line\"},{\"attributes\":{\"data\":{\"Date\":[\"4/1/1998\",\"7/1/1998\",\"10/1/1998\",\"1/1/1999\",\"4/1/1999\",\"7/1/1999\",\"10/1/1999\",\"1/1/2000\",\"4/1/2000\",\"7/1/2000\",\"10/1/2000\",\"1/1/2001\",\"4/1/2001\",\"7/1/2001\",\"10/1/2001\",\"1/1/2002\",\"4/1/2002\",\"7/1/2002\",\"10/1/2002\",\"1/1/2003\",\"4/1/2003\",\"7/1/2003\",\"10/1/2003\",\"1/1/2004\",\"4/1/2004\",\"7/1/2004\",\"10/1/2004\",\"1/1/2005\",\"4/1/2005\",\"7/1/2005\",\"10/1/2005\",\"1/1/2006\",\"4/1/2006\",\"7/1/2006\",\"10/1/2006\",\"1/1/2007\",\"4/1/2007\",\"7/1/2007\",\"10/1/2007\",\"1/1/2008\",\"4/1/2008\",\"7/1/2008\",\"10/1/2008\",\"1/1/2009\",\"4/1/2009\",\"7/1/2009\",\"10/1/2009\",\"1/1/2010\",\"4/1/2010\",\"7/1/2010\",\"10/1/2010\",\"1/1/2011\",\"4/1/2011\",\"7/1/2011\",\"10/1/2011\",\"1/1/2012\",\"4/1/2012\",\"7/1/2012\",\"10/1/2012\",\"1/1/2013\",\"4/1/2013\",\"7/1/2013\",\"10/1/2013\",\"1/1/2014\",\"4/1/2014\",\"7/1/2014\",\"10/1/2014\",\"1/1/2015\",\"4/1/2015\",\"7/1/2015\",\"10/1/2015\",\"1/1/2016\",\"4/1/2016\",\"7/1/2016\",\"10/1/2016\",\"1/1/2017\",\"4/1/2017\",\"7/1/2017\",\"10/1/2017\",\"1/1/2018\",\"4/1/2018\",\"7/1/2018\",\"10/1/2018\",\"1/1/2019\",\"4/1/2019\",\"7/1/2019\",\"10/1/2019\",\"1/1/2020\",\"4/1/2020\",\"7/1/2020\"],\"Variable\":[\"Global Index (EUR)\",\"Global Index (EUR)\",\"Global Index (EUR)\",\"Global Index (EUR)\",\"Global Index (EUR)\",\"Global Index (EUR)\",\"Global Index (EUR)\",\"Global Index (EUR)\",\"Global Index (EUR)\",\"Global Index (EUR)\",\"Global Index (EUR)\",\"Global Index (EUR)\",\"Global Index (EUR)\",\"Global Index (EUR)\",\"Global Index (EUR)\",\"Global Index (EUR)\",\"Global Index (EUR)\",\"Global Index (EUR)\",\"Global Index (EUR)\",\"Global Index (EUR)\",\"Global Index (EUR)\",\"Global Index (EUR)\",\"Global Index (EUR)\",\"Global Index (EUR)\",\"Global Index (EUR)\",\"Global Index (EUR)\",\"Global Index (EUR)\",\"Global Index (EUR)\",\"Global Index (EUR)\",\"Global Index (EUR)\",\"Global Index (EUR)\",\"Global Index (EUR)\",\"Global Index (EUR)\",\"Global Index (EUR)\",\"Global Index (EUR)\",\"Global Index (EUR)\",\"Global Index (EUR)\",\"Global Index (EUR)\",\"Global Index (EUR)\",\"Global Index (EUR)\",\"Global Index (EUR)\",\"Global Index (EUR)\",\"Global Index (EUR)\",\"Global Index (EUR)\",\"Global Index (EUR)\",\"Global Index (EUR)\",\"Global Index (EUR)\",\"Global Index (EUR)\",\"Global Index (EUR)\",\"Global Index (EUR)\",\"Global Index (EUR)\",\"Global Index (EUR)\",\"Global Index (EUR)\",\"Global Index (EUR)\",\"Global Index (EUR)\",\"Global Index (EUR)\",\"Global Index (EUR)\",\"Global Index (EUR)\",\"Global Index (EUR)\",\"Global Index (EUR)\",\"Global Index (EUR)\",\"Global Index (EUR)\",\"Global Index (EUR)\",\"Global Index (EUR)\",\"Global Index (EUR)\",\"Global Index (EUR)\",\"Global Index (EUR)\",\"Global Index (EUR)\",\"Global Index (EUR)\",\"Global Index (EUR)\",\"Global Index (EUR)\",\"Global Index (EUR)\",\"Global Index (EUR)\",\"Global Index (EUR)\",\"Global Index (EUR)\",\"Global Index (EUR)\",\"Global Index (EUR)\",\"Global Index (EUR)\",\"Global Index (EUR)\",\"Global Index (EUR)\",\"Global Index (EUR)\",\"Global Index (EUR)\",\"Global Index (EUR)\",\"Global Index (EUR)\",\"Global Index (EUR)\",\"Global Index (EUR)\",\"Global Index (EUR)\",\"Global Index (EUR)\",\"Global Index (EUR)\",\"Global Index (EUR)\"],\"value\":{\"__ndarray__\":\"oJmZmZmZuT+gEuQpQZ6iv/BW9jmkJri/YFVVVVVVpT+AFK5H4XqkPxA7sRM7sbM/gCRJkiRJgj9Qemphpae2P9AUAk0h0LQ/AO0BswfMjj8gbMEWbMGmP4DAbo+1DJ2/EFR7Tqavsj9YhPw1O2qxv4CG+OPW5Y2/gOUByTpXjr/A7AGzB8yuP0BMriAmV7C/YJNNNtlko7+Qx+PxeDy+PwCbA4lW2Jw/APnx48ePr78g/rh1eQe8v6DikiFYR7s/YC+hvYT2oj8A1EEd1EGNPwAAAAAAAAAAAJsDiVbYjL/wFV/xFV/BP8B4K/scUpO/kAZpkAZpsL+wXr169erFP3AfwX0E96G/wBWKW6G4pT+orClryprCv8jEle4NKMM/IKXbV1bvwj8AAAAAAAAAABT44uoHHcW/GHi6NT8swj9AYgF3+iO2v0APBpxxLZI/BH1BX9AXxL8A+cMBjz+cP0R4UpD8ecW/mFJKKaWUwj+ARCtsDiTKv5zrGMW5jtE/AMdxHMdxjD/gwIEDBw6sP7B3TA3sHcO/kJJnGdEH1D8Qd8QdcUe8v6BJ9J5J9M4/uMSp33NLvL8AAAAAAAAAAAJnXIsENdW/XFjpqYWV3j/IUibBrsLHv2hpaWlpadE/YMA2p6s8s7/QzMzMzMy0P2DANqerPLO/gJmZmZmZeb/wVvY5pCa4v5DjOI7jOMY/wBYJaipEuz+AH6vZk3y/P1Qu5VIu5cK/0NDafbgFpL8Qd8QdcUe8vyAZGRkZGbk/eJ7neZ7nub8AAAAAAAAAAPgQegg9hL6/xFIRS0Us1T+I8SnTzsHKvyDUQR3UQb0/eGIndmInxr+wpqwpa8rKPzyxEzuxE8u/2JWoXYnaxT8AAAAAAADIv5iSKZmSKck/YPEVX/EVv78gHTbSYSO9P7Sg2nMyfcW/KK+hvIbyyj8YJX5GiZ/BvyAeHh4eHq4/\",\"dtype\":\"float64\",\"order\":\"little\",\"shape\":[90]}},\"selected\":{\"id\":\"17222\"},\"selection_policy\":{\"id\":\"17237\"}},\"id\":\"17221\",\"type\":\"ColumnDataSource\"},{\"attributes\":{\"data\":{\"Date\":[\"4/1/1998\",\"7/1/1998\",\"10/1/1998\",\"1/1/1999\",\"4/1/1999\",\"7/1/1999\",\"10/1/1999\",\"1/1/2000\",\"4/1/2000\",\"7/1/2000\",\"10/1/2000\",\"1/1/2001\",\"4/1/2001\",\"7/1/2001\",\"10/1/2001\",\"1/1/2002\",\"4/1/2002\",\"7/1/2002\",\"10/1/2002\",\"1/1/2003\",\"4/1/2003\",\"7/1/2003\",\"10/1/2003\",\"1/1/2004\",\"4/1/2004\",\"7/1/2004\",\"10/1/2004\",\"1/1/2005\",\"4/1/2005\",\"7/1/2005\",\"10/1/2005\",\"1/1/2006\",\"4/1/2006\",\"7/1/2006\",\"10/1/2006\",\"1/1/2007\",\"4/1/2007\",\"7/1/2007\",\"10/1/2007\",\"1/1/2008\",\"4/1/2008\",\"7/1/2008\",\"10/1/2008\",\"1/1/2009\",\"4/1/2009\",\"7/1/2009\",\"10/1/2009\",\"1/1/2010\",\"4/1/2010\",\"7/1/2010\",\"10/1/2010\",\"1/1/2011\",\"4/1/2011\",\"7/1/2011\",\"10/1/2011\",\"1/1/2012\",\"4/1/2012\",\"7/1/2012\",\"10/1/2012\",\"1/1/2013\",\"4/1/2013\",\"7/1/2013\",\"10/1/2013\",\"1/1/2014\",\"4/1/2014\",\"7/1/2014\",\"10/1/2014\",\"1/1/2015\",\"4/1/2015\",\"7/1/2015\",\"10/1/2015\",\"1/1/2016\",\"4/1/2016\",\"7/1/2016\",\"10/1/2016\",\"1/1/2017\",\"4/1/2017\",\"7/1/2017\",\"10/1/2017\",\"1/1/2018\",\"4/1/2018\",\"7/1/2018\",\"10/1/2018\",\"1/1/2019\",\"4/1/2019\",\"7/1/2019\",\"10/1/2019\",\"1/1/2020\",\"4/1/2020\",\"7/1/2020\"],\"Variable\":[\"UK (GBP)\",\"UK (GBP)\",\"UK (GBP)\",\"UK (GBP)\",\"UK (GBP)\",\"UK (GBP)\",\"UK (GBP)\",\"UK (GBP)\",\"UK (GBP)\",\"UK (GBP)\",\"UK (GBP)\",\"UK (GBP)\",\"UK (GBP)\",\"UK (GBP)\",\"UK (GBP)\",\"UK (GBP)\",\"UK (GBP)\",\"UK (GBP)\",\"UK (GBP)\",\"UK (GBP)\",\"UK (GBP)\",\"UK (GBP)\",\"UK (GBP)\",\"UK (GBP)\",\"UK (GBP)\",\"UK (GBP)\",\"UK (GBP)\",\"UK (GBP)\",\"UK (GBP)\",\"UK (GBP)\",\"UK (GBP)\",\"UK (GBP)\",\"UK (GBP)\",\"UK (GBP)\",\"UK (GBP)\",\"UK (GBP)\",\"UK (GBP)\",\"UK (GBP)\",\"UK (GBP)\",\"UK (GBP)\",\"UK (GBP)\",\"UK (GBP)\",\"UK (GBP)\",\"UK (GBP)\",\"UK (GBP)\",\"UK (GBP)\",\"UK (GBP)\",\"UK (GBP)\",\"UK (GBP)\",\"UK (GBP)\",\"UK (GBP)\",\"UK (GBP)\",\"UK (GBP)\",\"UK (GBP)\",\"UK (GBP)\",\"UK (GBP)\",\"UK (GBP)\",\"UK (GBP)\",\"UK (GBP)\",\"UK (GBP)\",\"UK (GBP)\",\"UK (GBP)\",\"UK (GBP)\",\"UK (GBP)\",\"UK (GBP)\",\"UK (GBP)\",\"UK (GBP)\",\"UK (GBP)\",\"UK (GBP)\",\"UK (GBP)\",\"UK (GBP)\",\"UK (GBP)\",\"UK (GBP)\",\"UK (GBP)\",\"UK (GBP)\",\"UK (GBP)\",\"UK (GBP)\",\"UK (GBP)\",\"UK (GBP)\",\"UK (GBP)\",\"UK (GBP)\",\"UK (GBP)\",\"UK (GBP)\",\"UK (GBP)\",\"UK (GBP)\",\"UK (GBP)\",\"UK (GBP)\",\"UK (GBP)\",\"UK (GBP)\",\"UK (GBP)\"],\"value\":{\"__ndarray__\":\"gBSuR+F6lL/gh8b60FifvwBZgTDSjpU/AHRU4Iurnz+AFK5H4XqEPwBHFJh0ap4/4Imd2ImdqD+gLIFN+8miP4D7IYG3H6I/ABiBERiBkT8ArNAZrNCZP0DavE9xyZA/wBhjjDHGmL/g6tkhcGOZvwAndV8eW4E/AMg1Ecg1kT+AnOZr9eyQvwAAAAAAAAAAEIFcE4Fcsz8AAAAAAACwP6CWlpaWlpa/kHFBxgUZp78ABoPBYDCYPwD4gR/4gZ8/gLfwqzGRjj8AHh4eHh5+P+Bk+iphbKY/oOFeBbOkrD8AAAAAAAAAAACBbEA2IHu/QBvotIFOqz9gICod2TOgP6CpXHe82JK/YGZmZmZmpr8QZrsQZruwPzDi0En7ILk/AAAAAAAAAADAN0Nr9+Gmv2BPYT2F9aQ/gIELXOACpz+AEEIIIYSQv2BHm/cpLqm/AM7Wod9snb8AAAAAAAAAAKBuX1m9S56/ABmcj8H5mL/QzMzMzMy0P5CxqIbZwbE/8DUhKHtfo7+AgQtc4AKHv2B00UUXXbQ/YEN5DeU1tD9AEL8D8TuwP4AsgU37yXK/AGl/tD/av7+wAmGkHSvAvwD0aw+5rHg/QDqWMgl2pT+QexphuaexP4AQQgghhLA/gL9SoNavhD+AFK5H4XqUvzCn4OUUvKy/QGIBd/ojlr/wlf6c7fiwP+ATMZtLh7o/wLxXW+Q6kz/AYF4wL5i3vzAsRkJp472/AM7Wod9srb8AGZyPwfmIP4Dzaw+5rIg/AIZhGIZheL9gnNZsn6iuP+ACXm+jP7Q/QGtQPO1xlb/gFdC4W+elvwAAAAAAAAAAwDdDa/fhhr8QJ3VfHluhv3AfwX0E96G/wBgwjQHTiL8AAAAAAAAAAADi0En7IHm/YC+hvYT2kr8AoeRO0cKJvwAAAAAAAAAAAEt6+dMWir+AEEIIIYSgPwAAAAAAALi/\",\"dtype\":\"float64\",\"order\":\"little\",\"shape\":[90]}},\"selected\":{\"id\":\"17541\"},\"selection_policy\":{\"id\":\"17578\"}},\"id\":\"17540\",\"type\":\"ColumnDataSource\"},{\"attributes\":{},\"id\":\"17177\",\"type\":\"LinearScale\"},{\"attributes\":{},\"id\":\"17397\",\"type\":\"Selection\"},{\"attributes\":{\"line_alpha\":0.1,\"line_color\":\"#d62628\",\"line_width\":2,\"x\":{\"field\":\"Date\"},\"y\":{\"field\":\"value\"}},\"id\":\"17265\",\"type\":\"Line\"},{\"attributes\":{},\"id\":\"17258\",\"type\":\"UnionRenderers\"},{\"attributes\":{\"line_alpha\":0.1,\"line_color\":\"#16bdcf\",\"line_width\":2,\"x\":{\"field\":\"Date\"},\"y\":{\"field\":\"value\"}},\"id\":\"17433\",\"type\":\"Line\"},{\"attributes\":{\"source\":{\"id\":\"17396\"}},\"id\":\"17403\",\"type\":\"CDSView\"},{\"attributes\":{},\"id\":\"17281\",\"type\":\"UnionRenderers\"},{\"attributes\":{\"data_source\":{\"id\":\"17261\"},\"glyph\":{\"id\":\"17264\"},\"hover_glyph\":null,\"muted_glyph\":{\"id\":\"17266\"},\"nonselection_glyph\":{\"id\":\"17265\"},\"selection_glyph\":null,\"view\":{\"id\":\"17268\"}},\"id\":\"17267\",\"type\":\"GlyphRenderer\"},{\"attributes\":{\"line_alpha\":0.1,\"line_color\":\"#8c564b\",\"line_width\":2,\"x\":{\"field\":\"Date\"},\"y\":{\"field\":\"value\"}},\"id\":\"17313\",\"type\":\"Line\"},{\"attributes\":{},\"id\":\"17582\",\"type\":\"Selection\"},{\"attributes\":{\"line_color\":\"#2ba02b\",\"line_width\":2,\"x\":{\"field\":\"Date\"},\"y\":{\"field\":\"value\"}},\"id\":\"17243\",\"type\":\"Line\"},{\"attributes\":{\"label\":{\"value\":\"Sculpture\"},\"renderers\":[{\"id\":\"17267\"}]},\"id\":\"17283\",\"type\":\"LegendItem\"},{\"attributes\":{\"line_alpha\":0.2,\"line_color\":\"#2ba02b\",\"line_width\":2,\"x\":{\"field\":\"Date\"},\"y\":{\"field\":\"value\"}},\"id\":\"17245\",\"type\":\"Line\"},{\"attributes\":{\"line_color\":\"#5d003f\",\"line_width\":2,\"x\":{\"field\":\"Date\"},\"y\":{\"field\":\"value\"}},\"id\":\"17584\",\"type\":\"Line\"},{\"attributes\":{\"label\":{\"value\":\"USA (USD)\"},\"renderers\":[{\"id\":\"17507\"}]},\"id\":\"17539\",\"type\":\"LegendItem\"},{\"attributes\":{},\"id\":\"17183\",\"type\":\"BasicTicker\"},{\"attributes\":{\"line_alpha\":0.2,\"line_color\":\"#3a0182\",\"line_width\":2,\"x\":{\"field\":\"Date\"},\"y\":{\"field\":\"value\"}},\"id\":\"17469\",\"type\":\"Line\"},{\"attributes\":{\"data\":{\"Date\":[\"4/1/1998\",\"7/1/1998\",\"10/1/1998\",\"1/1/1999\",\"4/1/1999\",\"7/1/1999\",\"10/1/1999\",\"1/1/2000\",\"4/1/2000\",\"7/1/2000\",\"10/1/2000\",\"1/1/2001\",\"4/1/2001\",\"7/1/2001\",\"10/1/2001\",\"1/1/2002\",\"4/1/2002\",\"7/1/2002\",\"10/1/2002\",\"1/1/2003\",\"4/1/2003\",\"7/1/2003\",\"10/1/2003\",\"1/1/2004\",\"4/1/2004\",\"7/1/2004\",\"10/1/2004\",\"1/1/2005\",\"4/1/2005\",\"7/1/2005\",\"10/1/2005\",\"1/1/2006\",\"4/1/2006\",\"7/1/2006\",\"10/1/2006\",\"1/1/2007\",\"4/1/2007\",\"7/1/2007\",\"10/1/2007\",\"1/1/2008\",\"4/1/2008\",\"7/1/2008\",\"10/1/2008\",\"1/1/2009\",\"4/1/2009\",\"7/1/2009\",\"10/1/2009\",\"1/1/2010\",\"4/1/2010\",\"7/1/2010\",\"10/1/2010\",\"1/1/2011\",\"4/1/2011\",\"7/1/2011\",\"10/1/2011\",\"1/1/2012\",\"4/1/2012\",\"7/1/2012\",\"10/1/2012\",\"1/1/2013\",\"4/1/2013\",\"7/1/2013\",\"10/1/2013\",\"1/1/2014\",\"4/1/2014\",\"7/1/2014\",\"10/1/2014\",\"1/1/2015\",\"4/1/2015\",\"7/1/2015\",\"10/1/2015\",\"1/1/2016\",\"4/1/2016\",\"7/1/2016\",\"10/1/2016\",\"1/1/2017\",\"4/1/2017\",\"7/1/2017\",\"10/1/2017\",\"1/1/2018\",\"4/1/2018\",\"7/1/2018\",\"10/1/2018\",\"1/1/2019\",\"4/1/2019\",\"7/1/2019\",\"10/1/2019\",\"1/1/2020\",\"4/1/2020\",\"7/1/2020\"],\"Variable\":[\"19th Century\",\"19th Century\",\"19th Century\",\"19th Century\",\"19th Century\",\"19th Century\",\"19th Century\",\"19th Century\",\"19th Century\",\"19th Century\",\"19th Century\",\"19th Century\",\"19th Century\",\"19th Century\",\"19th Century\",\"19th Century\",\"19th Century\",\"19th Century\",\"19th Century\",\"19th Century\",\"19th Century\",\"19th Century\",\"19th Century\",\"19th Century\",\"19th Century\",\"19th Century\",\"19th Century\",\"19th Century\",\"19th Century\",\"19th Century\",\"19th Century\",\"19th Century\",\"19th Century\",\"19th Century\",\"19th Century\",\"19th Century\",\"19th Century\",\"19th Century\",\"19th Century\",\"19th Century\",\"19th Century\",\"19th Century\",\"19th Century\",\"19th Century\",\"19th Century\",\"19th Century\",\"19th Century\",\"19th Century\",\"19th Century\",\"19th Century\",\"19th Century\",\"19th Century\",\"19th Century\",\"19th Century\",\"19th Century\",\"19th Century\",\"19th Century\",\"19th Century\",\"19th Century\",\"19th Century\",\"19th Century\",\"19th Century\",\"19th Century\",\"19th Century\",\"19th Century\",\"19th Century\",\"19th Century\",\"19th Century\",\"19th Century\",\"19th Century\",\"19th Century\",\"19th Century\",\"19th Century\",\"19th Century\",\"19th Century\",\"19th Century\",\"19th Century\",\"19th Century\",\"19th Century\",\"19th Century\",\"19th Century\",\"19th Century\",\"19th Century\",\"19th Century\",\"19th Century\",\"19th Century\",\"19th Century\",\"19th Century\",\"19th Century\",\"19th Century\"],\"value\":{\"__ndarray__\":\"oJmZmZmZuT+gEuQpQZ6yPwAndV8eW6E/YEeb9ykumb8grNAZrNCpv4D7IYG3H4K/gCRJkiRJgr9AJ4G4UHOSv+DCQfT4Lpy/wHgr+xxSkz8Ax3Ecx3GcP0AngbhQc4K/4BvWvmHtqz+gexphuaehP1hVVVVVVbW/SJCnBHlKsL8AAAAAAAAAAID9VhtD050/QDXBeCv7nD+ALIFN+8mSP9C6wRT5rLs/IB020mEjrT8QeqEXeqGnv6CUUkoppaS/AMg1Ecg1gT9IRERERETEPzAsuFS2d70/cBrQpgFtqr/Qh8b60Fivv0iJn1HiZ7S/EAaDwWAwqL+QnOZr9eywP/CEPWFP2LM/QCy4VLZ3rT8AB5SJK92bP+CAbEA2ILs/uCEGpGMpwz+wqqqqqqqiv4CO4cV56Ki/YHTRRRddpL/I6l3yYMC5vwCvobyG8no/IHDFGnDFmr/A1rcBQzW9v0AXXXTRRZe/AAj8AX/Anz+gcUHGBRmXvyD4gR/4ga+/YEeb9ykumb+QayKQayLAPwCVs1v41bg/yMSV7g0os7+QlpaWlpamvxA7sRM7sbM/IF/xFV/xpT/gwIEDBw68v9RKrdRKrcS/gCyBTfvJkj8wJ4G4UHOyPyCs0Bms0Km/QPmyQZMvm79AF1100UWnPwBi3K9LKq8/QNq8T3HJkD+glFJKKaWkvxjzqRfzqbe/WFVVVVVVtb8AH3zwwQefPxAUFBQUFKS/lCRJkiRJwr+QJEmSJEmyvyCkQRqkQao/QB+D8zE4rz8ApXiBTIqHP2B00UUXXbS/aC+hvYT2sr+AG+i0gU6LPwCvobyG8oo/gGNqYO+Yij8gpEEapEGavyivobyG8rq/IB4eHh4err8AAAAAAACwvwAAAAAAAAAAoJmZmZmZqT8gBEEQBEGQv4AQQgghhLA/AB988MEHrz8g1EEd1EGdvyAeHh4eHq6/\",\"dtype\":\"float64\",\"order\":\"little\",\"shape\":[90]}},\"selected\":{\"id\":\"17366\"},\"selection_policy\":{\"id\":\"17393\"}},\"id\":\"17365\",\"type\":\"ColumnDataSource\"},{\"attributes\":{\"callback\":null,\"renderers\":[{\"id\":\"17209\"},{\"id\":\"17227\"},{\"id\":\"17246\"},{\"id\":\"17267\"},{\"id\":\"17290\"},{\"id\":\"17315\"},{\"id\":\"17342\"},{\"id\":\"17371\"},{\"id\":\"17402\"},{\"id\":\"17435\"},{\"id\":\"17470\"},{\"id\":\"17507\"},{\"id\":\"17546\"},{\"id\":\"17587\"}],\"tags\":[\"hv_created\"],\"tooltips\":[[\"Variable\",\"@{Variable}\"],[\"Date\",\"@{Date}\"],[\"value\",\"@{value}\"]]},\"id\":\"17156\",\"type\":\"HoverTool\"},{\"attributes\":{\"source\":{\"id\":\"17261\"}},\"id\":\"17268\",\"type\":\"CDSView\"},{\"attributes\":{},\"id\":\"17199\",\"type\":\"CategoricalTickFormatter\"},{\"attributes\":{\"data_source\":{\"id\":\"17581\"},\"glyph\":{\"id\":\"17584\"},\"hover_glyph\":null,\"muted_glyph\":{\"id\":\"17586\"},\"nonselection_glyph\":{\"id\":\"17585\"},\"selection_glyph\":null,\"view\":{\"id\":\"17588\"}},\"id\":\"17587\",\"type\":\"GlyphRenderer\"},{\"attributes\":{\"data\":{\"Date\":[\"4/1/1998\",\"7/1/1998\",\"10/1/1998\",\"1/1/1999\",\"4/1/1999\",\"7/1/1999\",\"10/1/1999\",\"1/1/2000\",\"4/1/2000\",\"7/1/2000\",\"10/1/2000\",\"1/1/2001\",\"4/1/2001\",\"7/1/2001\",\"10/1/2001\",\"1/1/2002\",\"4/1/2002\",\"7/1/2002\",\"10/1/2002\",\"1/1/2003\",\"4/1/2003\",\"7/1/2003\",\"10/1/2003\",\"1/1/2004\",\"4/1/2004\",\"7/1/2004\",\"10/1/2004\",\"1/1/2005\",\"4/1/2005\",\"7/1/2005\",\"10/1/2005\",\"1/1/2006\",\"4/1/2006\",\"7/1/2006\",\"10/1/2006\",\"1/1/2007\",\"4/1/2007\",\"7/1/2007\",\"10/1/2007\",\"1/1/2008\",\"4/1/2008\",\"7/1/2008\",\"10/1/2008\",\"1/1/2009\",\"4/1/2009\",\"7/1/2009\",\"10/1/2009\",\"1/1/2010\",\"4/1/2010\",\"7/1/2010\",\"10/1/2010\",\"1/1/2011\",\"4/1/2011\",\"7/1/2011\",\"10/1/2011\",\"1/1/2012\",\"4/1/2012\",\"7/1/2012\",\"10/1/2012\",\"1/1/2013\",\"4/1/2013\",\"7/1/2013\",\"10/1/2013\",\"1/1/2014\",\"4/1/2014\",\"7/1/2014\",\"10/1/2014\",\"1/1/2015\",\"4/1/2015\",\"7/1/2015\",\"10/1/2015\",\"1/1/2016\",\"4/1/2016\",\"7/1/2016\",\"10/1/2016\",\"1/1/2017\",\"4/1/2017\",\"7/1/2017\",\"10/1/2017\",\"1/1/2018\",\"4/1/2018\",\"7/1/2018\",\"10/1/2018\",\"1/1/2019\",\"4/1/2019\",\"7/1/2019\",\"10/1/2019\",\"1/1/2020\",\"4/1/2020\",\"7/1/2020\"],\"Variable\":[\"Contemporary\",\"Contemporary\",\"Contemporary\",\"Contemporary\",\"Contemporary\",\"Contemporary\",\"Contemporary\",\"Contemporary\",\"Contemporary\",\"Contemporary\",\"Contemporary\",\"Contemporary\",\"Contemporary\",\"Contemporary\",\"Contemporary\",\"Contemporary\",\"Contemporary\",\"Contemporary\",\"Contemporary\",\"Contemporary\",\"Contemporary\",\"Contemporary\",\"Contemporary\",\"Contemporary\",\"Contemporary\",\"Contemporary\",\"Contemporary\",\"Contemporary\",\"Contemporary\",\"Contemporary\",\"Contemporary\",\"Contemporary\",\"Contemporary\",\"Contemporary\",\"Contemporary\",\"Contemporary\",\"Contemporary\",\"Contemporary\",\"Contemporary\",\"Contemporary\",\"Contemporary\",\"Contemporary\",\"Contemporary\",\"Contemporary\",\"Contemporary\",\"Contemporary\",\"Contemporary\",\"Contemporary\",\"Contemporary\",\"Contemporary\",\"Contemporary\",\"Contemporary\",\"Contemporary\",\"Contemporary\",\"Contemporary\",\"Contemporary\",\"Contemporary\",\"Contemporary\",\"Contemporary\",\"Contemporary\",\"Contemporary\",\"Contemporary\",\"Contemporary\",\"Contemporary\",\"Contemporary\",\"Contemporary\",\"Contemporary\",\"Contemporary\",\"Contemporary\",\"Contemporary\",\"Contemporary\",\"Contemporary\",\"Contemporary\",\"Contemporary\",\"Contemporary\",\"Contemporary\",\"Contemporary\",\"Contemporary\",\"Contemporary\",\"Contemporary\",\"Contemporary\",\"Contemporary\",\"Contemporary\",\"Contemporary\",\"Contemporary\",\"Contemporary\",\"Contemporary\",\"Contemporary\",\"Contemporary\",\"Contemporary\"],\"value\":{\"__ndarray__\":\"gBSuR+F6hD8A2mJl+Ea0P8B34SB6fKc/gB/BfQT3kb/gtm3btm2rv/BW9jmkJqi/ANpiZfhGtD8osGk/WQLLPzDZZJNNNrk/4HmLIZ23qD9AeQ3lNZSnP9DCGRBK7rS/jBgxYsSIwb+QJEmSJEmyvxA7sRM7sbO/QHsJ7SW0pz8QmnzZoMnHPwCVs1v41bg/YIT8NTtqoT8AAAAAAAAAAHAor6G8hrI/oKlcd7zYoj/gvrJ6lzy4vyAeHh4eHr4/QH8B/QX0xz9ww4/qErO2PxAlYBElYLE/ACd1Xx5bkb+AexphuaeBvwCBoq0Gz4G/gB/BfQT3gb/A2w8JvP3APwAAAAAAAMA/kOM4juM4rr8wUscDRMi0vyBzEHDrs7k/8A44UjTEvz/AY2pg75iKv3gN5TWU17C/QLTC5kCilT+AexphuaeRPwAndV8eW5G/YJso2bWJsr/oUJelGnS+v+AmzO9qcaO/gB/BfQT3oT+gui+PrQiqP7C11lprrbU/4Ns9+9iMrD+41JPx26W+vzzfT42XbsK/IJlA79S1vD9Qdr9Rdr/BPxDuvEgdD7A/AMdxHMdxnD8ATJHPusGEv4CNhu6D9Xu/IMwIkt6hmL8QmwOJVtisv6Bydgu/GqO/AAAAAAAAAAAAh7whb8ibvwA01/eXUXC/AKrx0k1ioD8ACPwBf8B/vwAAAAAAAJw/gAojRPYljz/QYQ5zmMO8v0x9POit+8O/eBSuR+F6tL8wvelNb3qjvwAndV8eW5E/IMdxHMdxvD8AAAAAAADAP4AUrkfheqQ/ABiBERiBcb8A9NJAfV6aP0AwXedYI4G/4CbM72pxo79gQ3kN5TW0PxAb6bCRDrs/AAAAAAAAAACAeHh4eHiov/Bb4bTDvqW/oJRSSimlpL8ArNAZrNCJv4BzQokGboG/gKKMgFOUkT9AzQoOX0iRPyBGnhtGnrs/\",\"dtype\":\"float64\",\"order\":\"little\",\"shape\":[90]}},\"selected\":{\"id\":\"17465\"},\"selection_policy\":{\"id\":\"17498\"}},\"id\":\"17464\",\"type\":\"ColumnDataSource\"},{\"attributes\":{},\"id\":\"17541\",\"type\":\"Selection\"},{\"attributes\":{},\"id\":\"17180\",\"type\":\"CategoricalTicker\"},{\"attributes\":{\"label\":{\"value\":\"Post-War\"},\"renderers\":[{\"id\":\"17435\"}]},\"id\":\"17463\",\"type\":\"LegendItem\"},{\"attributes\":{\"axis\":{\"id\":\"17182\"},\"dimension\":1,\"grid_line_color\":null,\"ticker\":null},\"id\":\"17185\",\"type\":\"Grid\"},{\"attributes\":{\"axis_label\":\"Price - Base 100\",\"bounds\":\"auto\",\"formatter\":{\"id\":\"17201\"},\"major_label_orientation\":\"horizontal\",\"ticker\":{\"id\":\"17183\"}},\"id\":\"17182\",\"type\":\"LinearAxis\"},{\"attributes\":{\"line_alpha\":0.1,\"line_color\":\"#004201\",\"line_width\":2,\"x\":{\"field\":\"Date\"},\"y\":{\"field\":\"value\"}},\"id\":\"17505\",\"type\":\"Line\"},{\"attributes\":{},\"id\":\"17201\",\"type\":\"BasicTickFormatter\"},{\"attributes\":{},\"id\":\"17366\",\"type\":\"Selection\"},{\"attributes\":{},\"id\":\"17426\",\"type\":\"UnionRenderers\"},{\"attributes\":{\"label\":{\"value\":\"Drawing\"},\"renderers\":[{\"id\":\"17315\"}]},\"id\":\"17335\",\"type\":\"LegendItem\"},{\"attributes\":{\"data\":{\"Date\":[\"4/1/1998\",\"7/1/1998\",\"10/1/1998\",\"1/1/1999\",\"4/1/1999\",\"7/1/1999\",\"10/1/1999\",\"1/1/2000\",\"4/1/2000\",\"7/1/2000\",\"10/1/2000\",\"1/1/2001\",\"4/1/2001\",\"7/1/2001\",\"10/1/2001\",\"1/1/2002\",\"4/1/2002\",\"7/1/2002\",\"10/1/2002\",\"1/1/2003\",\"4/1/2003\",\"7/1/2003\",\"10/1/2003\",\"1/1/2004\",\"4/1/2004\",\"7/1/2004\",\"10/1/2004\",\"1/1/2005\",\"4/1/2005\",\"7/1/2005\",\"10/1/2005\",\"1/1/2006\",\"4/1/2006\",\"7/1/2006\",\"10/1/2006\",\"1/1/2007\",\"4/1/2007\",\"7/1/2007\",\"10/1/2007\",\"1/1/2008\",\"4/1/2008\",\"7/1/2008\",\"10/1/2008\",\"1/1/2009\",\"4/1/2009\",\"7/1/2009\",\"10/1/2009\",\"1/1/2010\",\"4/1/2010\",\"7/1/2010\",\"10/1/2010\",\"1/1/2011\",\"4/1/2011\",\"7/1/2011\",\"10/1/2011\",\"1/1/2012\",\"4/1/2012\",\"7/1/2012\",\"10/1/2012\",\"1/1/2013\",\"4/1/2013\",\"7/1/2013\",\"10/1/2013\",\"1/1/2014\",\"4/1/2014\",\"7/1/2014\",\"10/1/2014\",\"1/1/2015\",\"4/1/2015\",\"7/1/2015\",\"10/1/2015\",\"1/1/2016\",\"4/1/2016\",\"7/1/2016\",\"10/1/2016\",\"1/1/2017\",\"4/1/2017\",\"7/1/2017\",\"10/1/2017\",\"1/1/2018\",\"4/1/2018\",\"7/1/2018\",\"10/1/2018\",\"1/1/2019\",\"4/1/2019\",\"7/1/2019\",\"10/1/2019\",\"1/1/2020\",\"4/1/2020\",\"7/1/2020\"],\"Variable\":[\"Sculpture\",\"Sculpture\",\"Sculpture\",\"Sculpture\",\"Sculpture\",\"Sculpture\",\"Sculpture\",\"Sculpture\",\"Sculpture\",\"Sculpture\",\"Sculpture\",\"Sculpture\",\"Sculpture\",\"Sculpture\",\"Sculpture\",\"Sculpture\",\"Sculpture\",\"Sculpture\",\"Sculpture\",\"Sculpture\",\"Sculpture\",\"Sculpture\",\"Sculpture\",\"Sculpture\",\"Sculpture\",\"Sculpture\",\"Sculpture\",\"Sculpture\",\"Sculpture\",\"Sculpture\",\"Sculpture\",\"Sculpture\",\"Sculpture\",\"Sculpture\",\"Sculpture\",\"Sculpture\",\"Sculpture\",\"Sculpture\",\"Sculpture\",\"Sculpture\",\"Sculpture\",\"Sculpture\",\"Sculpture\",\"Sculpture\",\"Sculpture\",\"Sculpture\",\"Sculpture\",\"Sculpture\",\"Sculpture\",\"Sculpture\",\"Sculpture\",\"Sculpture\",\"Sculpture\",\"Sculpture\",\"Sculpture\",\"Sculpture\",\"Sculpture\",\"Sculpture\",\"Sculpture\",\"Sculpture\",\"Sculpture\",\"Sculpture\",\"Sculpture\",\"Sculpture\",\"Sculpture\",\"Sculpture\",\"Sculpture\",\"Sculpture\",\"Sculpture\",\"Sculpture\",\"Sculpture\",\"Sculpture\",\"Sculpture\",\"Sculpture\",\"Sculpture\",\"Sculpture\",\"Sculpture\",\"Sculpture\",\"Sculpture\",\"Sculpture\",\"Sculpture\",\"Sculpture\",\"Sculpture\",\"Sculpture\",\"Sculpture\",\"Sculpture\",\"Sculpture\",\"Sculpture\",\"Sculpture\",\"Sculpture\"],\"value\":{\"__ndarray__\":\"9Chcj8L12D8gIYq/yBmmvwA04c+EP6O/AAAAAAAAoD8AH3zwwQePPwAAAAAAAAAAgIn0QOXspj8AAAAAAAAAACBf8RVf8ZW/gIb449blfb8AHh4eHh6Ov4CJ9EDl7KY/oJmZmZmZqT/IxJXuDSizv9DS0tLS0rK/AARBEARBkD8AAAAAAACgPwAffPDBB38/gHFBxgUZlz9gWlpaWlqqPxA7sRM7sbM/QLB3TA3srT9A4tBJ+yCZP0Cwq/Dlhpg/gH8B/QX0hz8A7eAIIq13vwAAAAAAAAAAwKasKWvKqj9AT6gFjEmsP6B42uMqIKi/IJVRGZVRqb+AsaiG2cGRP4DRRRdddKE/IGiBFmiBpj8AWYEw0o6FP1BVVVVVVbU/iJ3YiZ3YwT+AjdF2mhWsPwCq8dJNYnA/gBrS9spboj8A+IEf+IGfP2C38KsxkZ6/mJmZmZmZub9UVVVVVVXFvxAREREREbG/IDuxEzuxoz8ABEEQBEGQP6CqqqqqqqI/gNCy4zmVhL8gh7jKFDCvvwBiAXf6I4Y/oBjqL0ekuD8AFLA/AfuzPwAAAAAAAAAAALCIErCIgr9AKwGtBLSSv5DRMAEZDaO/4Kt7pJXJo79g0LLjOZWkvwBrUDztcXU/wKqqqqqqmj8w0dO5vZasv4gQQgghhLC/kHsaYbmnsT+AEEIIIYSwPwAffPDBB4+/IM7hHM7hrL/A6U1vetOrv6B7GmG5p5G/gB/BfQT3kb9QVVVVVVWlv2AhC1nIQqa/wGNqYO+Yir8AAAAAAAAAAACvobyG8nq/4IBsQDYgm78AB5SJK917v4AYMWLEiKE/wIBsQDYgmz8AAAAAAAAAAIAa0KYBbYq/EGa7EGa7oL/AFPmsG0yhvyApB0SGe5W/AF/xFV/xlT8A4l4Fs6R8PwDHcRzHcXy/AAAAAAAAAAAA4l4Fs6R8PyDHcRzHcaw/\",\"dtype\":\"float64\",\"order\":\"little\",\"shape\":[90]}},\"selected\":{\"id\":\"17262\"},\"selection_policy\":{\"id\":\"17281\"}},\"id\":\"17261\",\"type\":\"ColumnDataSource\"},{\"attributes\":{\"line_alpha\":0.1,\"line_color\":\"#2ba02b\",\"line_width\":2,\"x\":{\"field\":\"Date\"},\"y\":{\"field\":\"value\"}},\"id\":\"17244\",\"type\":\"Line\"},{\"attributes\":{\"line_color\":\"#bcbc21\",\"line_width\":2,\"x\":{\"field\":\"Date\"},\"y\":{\"field\":\"value\"}},\"id\":\"17399\",\"type\":\"Line\"},{\"attributes\":{\"line_color\":\"#16bdcf\",\"line_width\":2,\"x\":{\"field\":\"Date\"},\"y\":{\"field\":\"value\"}},\"id\":\"17432\",\"type\":\"Line\"},{\"attributes\":{\"align\":null,\"below\":[{\"id\":\"17179\"}],\"center\":[{\"id\":\"17181\"},{\"id\":\"17185\"}],\"frame_height\":500,\"frame_width\":1500,\"left\":[{\"id\":\"17182\"}],\"margin\":null,\"min_border_bottom\":10,\"min_border_left\":10,\"min_border_right\":10,\"min_border_top\":10,\"plot_height\":null,\"plot_width\":null,\"renderers\":[{\"id\":\"17209\"},{\"id\":\"17227\"},{\"id\":\"17246\"},{\"id\":\"17267\"},{\"id\":\"17290\"},{\"id\":\"17315\"},{\"id\":\"17342\"},{\"id\":\"17371\"},{\"id\":\"17402\"},{\"id\":\"17435\"},{\"id\":\"17470\"},{\"id\":\"17507\"},{\"id\":\"17546\"},{\"id\":\"17587\"}],\"right\":[{\"id\":\"17219\"}],\"sizing_mode\":\"fixed\",\"title\":{\"id\":\"17171\"},\"toolbar\":{\"id\":\"17192\"},\"x_range\":{\"id\":\"17154\"},\"x_scale\":{\"id\":\"17175\"},\"y_range\":{\"id\":\"17155\"},\"y_scale\":{\"id\":\"17177\"}},\"id\":\"17170\",\"subtype\":\"Figure\",\"type\":\"Plot\"},{\"attributes\":{\"source\":{\"id\":\"17240\"}},\"id\":\"17247\",\"type\":\"CDSView\"},{\"attributes\":{\"line_alpha\":0.1,\"line_color\":\"#5d003f\",\"line_width\":2,\"x\":{\"field\":\"Date\"},\"y\":{\"field\":\"value\"}},\"id\":\"17585\",\"type\":\"Line\"},{\"attributes\":{\"data\":{\"Date\":[\"4/1/1998\",\"7/1/1998\",\"10/1/1998\",\"1/1/1999\",\"4/1/1999\",\"7/1/1999\",\"10/1/1999\",\"1/1/2000\",\"4/1/2000\",\"7/1/2000\",\"10/1/2000\",\"1/1/2001\",\"4/1/2001\",\"7/1/2001\",\"10/1/2001\",\"1/1/2002\",\"4/1/2002\",\"7/1/2002\",\"10/1/2002\",\"1/1/2003\",\"4/1/2003\",\"7/1/2003\",\"10/1/2003\",\"1/1/2004\",\"4/1/2004\",\"7/1/2004\",\"10/1/2004\",\"1/1/2005\",\"4/1/2005\",\"7/1/2005\",\"10/1/2005\",\"1/1/2006\",\"4/1/2006\",\"7/1/2006\",\"10/1/2006\",\"1/1/2007\",\"4/1/2007\",\"7/1/2007\",\"10/1/2007\",\"1/1/2008\",\"4/1/2008\",\"7/1/2008\",\"10/1/2008\",\"1/1/2009\",\"4/1/2009\",\"7/1/2009\",\"10/1/2009\",\"1/1/2010\",\"4/1/2010\",\"7/1/2010\",\"10/1/2010\",\"1/1/2011\",\"4/1/2011\",\"7/1/2011\",\"10/1/2011\",\"1/1/2012\",\"4/1/2012\",\"7/1/2012\",\"10/1/2012\",\"1/1/2013\",\"4/1/2013\",\"7/1/2013\",\"10/1/2013\",\"1/1/2014\",\"4/1/2014\",\"7/1/2014\",\"10/1/2014\",\"1/1/2015\",\"4/1/2015\",\"7/1/2015\",\"10/1/2015\",\"1/1/2016\",\"4/1/2016\",\"7/1/2016\",\"10/1/2016\",\"1/1/2017\",\"4/1/2017\",\"7/1/2017\",\"10/1/2017\",\"1/1/2018\",\"4/1/2018\",\"7/1/2018\",\"10/1/2018\",\"1/1/2019\",\"4/1/2019\",\"7/1/2019\",\"10/1/2019\",\"1/1/2020\",\"4/1/2020\",\"7/1/2020\"],\"Variable\":[\"Modern Art\",\"Modern Art\",\"Modern Art\",\"Modern Art\",\"Modern Art\",\"Modern Art\",\"Modern Art\",\"Modern Art\",\"Modern Art\",\"Modern Art\",\"Modern Art\",\"Modern Art\",\"Modern Art\",\"Modern Art\",\"Modern Art\",\"Modern Art\",\"Modern Art\",\"Modern Art\",\"Modern Art\",\"Modern Art\",\"Modern Art\",\"Modern Art\",\"Modern Art\",\"Modern Art\",\"Modern Art\",\"Modern Art\",\"Modern Art\",\"Modern Art\",\"Modern Art\",\"Modern Art\",\"Modern Art\",\"Modern Art\",\"Modern Art\",\"Modern Art\",\"Modern Art\",\"Modern Art\",\"Modern Art\",\"Modern Art\",\"Modern Art\",\"Modern Art\",\"Modern Art\",\"Modern Art\",\"Modern Art\",\"Modern Art\",\"Modern Art\",\"Modern Art\",\"Modern Art\",\"Modern Art\",\"Modern Art\",\"Modern Art\",\"Modern Art\",\"Modern Art\",\"Modern Art\",\"Modern Art\",\"Modern Art\",\"Modern Art\",\"Modern Art\",\"Modern Art\",\"Modern Art\",\"Modern Art\",\"Modern Art\",\"Modern Art\",\"Modern Art\",\"Modern Art\",\"Modern Art\",\"Modern Art\",\"Modern Art\",\"Modern Art\",\"Modern Art\",\"Modern Art\",\"Modern Art\",\"Modern Art\",\"Modern Art\",\"Modern Art\",\"Modern Art\",\"Modern Art\",\"Modern Art\",\"Modern Art\",\"Modern Art\",\"Modern Art\",\"Modern Art\",\"Modern Art\",\"Modern Art\",\"Modern Art\",\"Modern Art\",\"Modern Art\",\"Modern Art\",\"Modern Art\",\"Modern Art\",\"Modern Art\"],\"value\":{\"__ndarray__\":\"gBSuR+F6lL9ABS+n4OWEvyB0VOCLq5+/UK4gJlcQs7+YexphuaexvwAAAAAAAAAAcC+hvYT2sj+YexphuafBPzBvZ0jM27k/oCyBTfvJoj+A+yGBtx+CP1BnMZ3FdKa/4MJB9PgunL/AeCv7HFKDvwA4gRM4gYM/AAAAAAAAAADwVvY5pCaovwDaYmX4RqS/IHRU4Iurrz8AqeS8LOLDPyBl9xtl97s/QBdddNFFp7+QJEmSJEmyvyAYgREYgaE/IHBjGZQKsz8A+IEf+IF/vwAGfUFf0Je/0DRN0zRNwz8ouzZRsmvDP4Cwq/Dlhni/oPBGU+fXnr+ATw6XAZ+sP5CQkJCQkLA/ME+oBYxJrL9oN5HdRHazv5A9A1HpyL4/8MtjK4KGwz8AFBQUFBR0PwAUsD8B+3O/oJGRkZGRoT8AB97zjWlzP6gJxlvZ57C/YClQ61cKxL+wq/DlhhjAv+DAgQMHDpy/AJsDiVbYjL8A1EEd1EF9v7AmIYq/yLk/EGa7EGa7sD/AGkUcOmmfvwAnzO9qcZM/UIoJuqsUsz8gGYtqmB28P6iqqqqqqsQ/oIBwIl4SoD84velNb3rDvxh6oRd6oce/4AwIJXeKtr8AAAAAAAAAANB5iyGdt7g/IDXBeCv7vD/A3kZ/KCSnP8C6wRT5rJu/EBERERERob+QexphuaexP8AYY4wxxrg/oJGRkZGRoT/gCs3tVB6dv7gcjcvRuLy/1C/90i/9wr8oEq8i8Sqyv4Acx3Ecx6E/gDPaPWx9e794gynyWTe4vwAAAAAAAAAAkIn0QOXstj8AwYEDBw58P2CE/DU7aqG/QLTC5kCilT8AAAAAAAAAAIA44PGHA76/AAAAAAAAvL8AAAAAAAAAAIAfwX0E96E/AAAAAAAAAABQBA0ndV+uvwBxoeYkEKe/sAnGW9nnsD+A+yGBtx+SP8DBcwSKtpo/\",\"dtype\":\"float64\",\"order\":\"little\",\"shape\":[90]}},\"selected\":{\"id\":\"17397\"},\"selection_policy\":{\"id\":\"17426\"}},\"id\":\"17396\",\"type\":\"ColumnDataSource\"},{\"attributes\":{\"data_source\":{\"id\":\"17464\"},\"glyph\":{\"id\":\"17467\"},\"hover_glyph\":null,\"muted_glyph\":{\"id\":\"17469\"},\"nonselection_glyph\":{\"id\":\"17468\"},\"selection_glyph\":null,\"view\":{\"id\":\"17471\"}},\"id\":\"17470\",\"type\":\"GlyphRenderer\"},{\"attributes\":{\"line_alpha\":0.2,\"line_color\":\"#d62628\",\"line_width\":2,\"x\":{\"field\":\"Date\"},\"y\":{\"field\":\"value\"}},\"id\":\"17266\",\"type\":\"Line\"},{\"attributes\":{\"line_color\":\"#8c564b\",\"line_width\":2,\"x\":{\"field\":\"Date\"},\"y\":{\"field\":\"value\"}},\"id\":\"17312\",\"type\":\"Line\"},{\"attributes\":{\"line_color\":\"#004201\",\"line_width\":2,\"x\":{\"field\":\"Date\"},\"y\":{\"field\":\"value\"}},\"id\":\"17504\",\"type\":\"Line\"},{\"attributes\":{},\"id\":\"17333\",\"type\":\"UnionRenderers\"},{\"attributes\":{\"data_source\":{\"id\":\"17309\"},\"glyph\":{\"id\":\"17312\"},\"hover_glyph\":null,\"muted_glyph\":{\"id\":\"17314\"},\"nonselection_glyph\":{\"id\":\"17313\"},\"selection_glyph\":null,\"view\":{\"id\":\"17316\"}},\"id\":\"17315\",\"type\":\"GlyphRenderer\"},{\"attributes\":{\"source\":{\"id\":\"17309\"}},\"id\":\"17316\",\"type\":\"CDSView\"},{\"attributes\":{\"label\":{\"value\":\"Contemporary\"},\"renderers\":[{\"id\":\"17470\"}]},\"id\":\"17500\",\"type\":\"LegendItem\"},{\"attributes\":{},\"id\":\"17461\",\"type\":\"UnionRenderers\"},{\"attributes\":{},\"id\":\"17241\",\"type\":\"Selection\"},{\"attributes\":{\"data_source\":{\"id\":\"17429\"},\"glyph\":{\"id\":\"17432\"},\"hover_glyph\":null,\"muted_glyph\":{\"id\":\"17434\"},\"nonselection_glyph\":{\"id\":\"17433\"},\"selection_glyph\":null,\"view\":{\"id\":\"17436\"}},\"id\":\"17435\",\"type\":\"GlyphRenderer\"},{\"attributes\":{\"data_source\":{\"id\":\"17501\"},\"glyph\":{\"id\":\"17504\"},\"hover_glyph\":null,\"muted_glyph\":{\"id\":\"17506\"},\"nonselection_glyph\":{\"id\":\"17505\"},\"selection_glyph\":null,\"view\":{\"id\":\"17508\"}},\"id\":\"17507\",\"type\":\"GlyphRenderer\"},{\"attributes\":{\"label\":{\"value\":\"Modern Art\"},\"renderers\":[{\"id\":\"17402\"}]},\"id\":\"17428\",\"type\":\"LegendItem\"},{\"attributes\":{\"line_color\":\"#7e7e7e\",\"line_width\":2,\"x\":{\"field\":\"Date\"},\"y\":{\"field\":\"value\"}},\"id\":\"17368\",\"type\":\"Line\"},{\"attributes\":{\"children\":[{\"id\":\"17153\"},{\"id\":\"17170\"},{\"id\":\"17930\"}],\"margin\":[0,0,0,0],\"name\":\"Row42705\",\"tags\":[\"embedded\"]},\"id\":\"17152\",\"type\":\"Row\"},{\"attributes\":{\"line_alpha\":0.2,\"line_color\":\"#bcbc21\",\"line_width\":2,\"x\":{\"field\":\"Date\"},\"y\":{\"field\":\"value\"}},\"id\":\"17401\",\"type\":\"Line\"},{\"attributes\":{\"line_alpha\":0.2,\"line_color\":\"#16bdcf\",\"line_width\":2,\"x\":{\"field\":\"Date\"},\"y\":{\"field\":\"value\"}},\"id\":\"17434\",\"type\":\"Line\"},{\"attributes\":{},\"id\":\"17222\",\"type\":\"Selection\"},{\"attributes\":{\"margin\":[5,5,5,5],\"name\":\"HSpacer42709\",\"sizing_mode\":\"stretch_width\"},\"id\":\"17153\",\"type\":\"Spacer\"},{\"attributes\":{\"data\":{\"Date\":[\"4/1/1998\",\"7/1/1998\",\"10/1/1998\",\"1/1/1999\",\"4/1/1999\",\"7/1/1999\",\"10/1/1999\",\"1/1/2000\",\"4/1/2000\",\"7/1/2000\",\"10/1/2000\",\"1/1/2001\",\"4/1/2001\",\"7/1/2001\",\"10/1/2001\",\"1/1/2002\",\"4/1/2002\",\"7/1/2002\",\"10/1/2002\",\"1/1/2003\",\"4/1/2003\",\"7/1/2003\",\"10/1/2003\",\"1/1/2004\",\"4/1/2004\",\"7/1/2004\",\"10/1/2004\",\"1/1/2005\",\"4/1/2005\",\"7/1/2005\",\"10/1/2005\",\"1/1/2006\",\"4/1/2006\",\"7/1/2006\",\"10/1/2006\",\"1/1/2007\",\"4/1/2007\",\"7/1/2007\",\"10/1/2007\",\"1/1/2008\",\"4/1/2008\",\"7/1/2008\",\"10/1/2008\",\"1/1/2009\",\"4/1/2009\",\"7/1/2009\",\"10/1/2009\",\"1/1/2010\",\"4/1/2010\",\"7/1/2010\",\"10/1/2010\",\"1/1/2011\",\"4/1/2011\",\"7/1/2011\",\"10/1/2011\",\"1/1/2012\",\"4/1/2012\",\"7/1/2012\",\"10/1/2012\",\"1/1/2013\",\"4/1/2013\",\"7/1/2013\",\"10/1/2013\",\"1/1/2014\",\"4/1/2014\",\"7/1/2014\",\"10/1/2014\",\"1/1/2015\",\"4/1/2015\",\"7/1/2015\",\"10/1/2015\",\"1/1/2016\",\"4/1/2016\",\"7/1/2016\",\"10/1/2016\",\"1/1/2017\",\"4/1/2017\",\"7/1/2017\",\"10/1/2017\",\"1/1/2018\",\"4/1/2018\",\"7/1/2018\",\"10/1/2018\",\"1/1/2019\",\"4/1/2019\",\"7/1/2019\",\"10/1/2019\",\"1/1/2020\",\"4/1/2020\",\"7/1/2020\"],\"Variable\":[\"Painting\",\"Painting\",\"Painting\",\"Painting\",\"Painting\",\"Painting\",\"Painting\",\"Painting\",\"Painting\",\"Painting\",\"Painting\",\"Painting\",\"Painting\",\"Painting\",\"Painting\",\"Painting\",\"Painting\",\"Painting\",\"Painting\",\"Painting\",\"Painting\",\"Painting\",\"Painting\",\"Painting\",\"Painting\",\"Painting\",\"Painting\",\"Painting\",\"Painting\",\"Painting\",\"Painting\",\"Painting\",\"Painting\",\"Painting\",\"Painting\",\"Painting\",\"Painting\",\"Painting\",\"Painting\",\"Painting\",\"Painting\",\"Painting\",\"Painting\",\"Painting\",\"Painting\",\"Painting\",\"Painting\",\"Painting\",\"Painting\",\"Painting\",\"Painting\",\"Painting\",\"Painting\",\"Painting\",\"Painting\",\"Painting\",\"Painting\",\"Painting\",\"Painting\",\"Painting\",\"Painting\",\"Painting\",\"Painting\",\"Painting\",\"Painting\",\"Painting\",\"Painting\",\"Painting\",\"Painting\",\"Painting\",\"Painting\",\"Painting\",\"Painting\",\"Painting\",\"Painting\",\"Painting\",\"Painting\",\"Painting\",\"Painting\",\"Painting\",\"Painting\",\"Painting\",\"Painting\",\"Painting\",\"Painting\",\"Painting\",\"Painting\",\"Painting\",\"Painting\",\"Painting\"],\"value\":{\"__ndarray__\":\"ENejcD0Ktz+gLIFN+8mSv8AQK0rjI6O/AKnkvCzioz+gruXgZr+wP4AfwX0E94E/AAAAAAAAAAAAgaKtBs+RPwAYgREYgYE/ACd1Xx5bgT8gyDURyDWRvyCkQRqkQaq/AAAAAAAAAAAAJ4G4UHOCP4AkSZIkSYK/wLrBFPmsmz9Ar6G8hvKaPwCkQRqkQZo/gJmZmZmZmT/AErUrUbuyP3DRRRdddLE/gMBuj7UMnb8Ah/jj1uV9P+CBuXZgrr0/QBdddNFFtz8AhmEYhmGIPwAYGBgYGIg/gEfcEXfErT8glVEZlVGpP0BrUDztcZW/cBCcyoRtoL+AclPRPKGGP8Br5YRn+qs/ABD0SAk5lT+AryWHuMqEP4BXZL40cbg/ILBpP1kCuz8g8P4Q8P6gPwAAAAAAAAAAwPdHCiZzoD8g7hHuEe6hPwA04c+EP6O/AAAAAAAAur+YmZmZmZm5v+Cre6SVyaO/gDiM1dbfjr/Ah8b60FiPv+ATMZtLh6o/QK+/OBlEnj8Az6fHzdivv0AFL6fg5aS/QH1no76zsT9gt/CrMZGuP+CrLXKdCZi/4Imd2ImdqL9gv1Kg1q+kv7ACYaQdK6C/YCELWchCpr9w0UUXXXShvwAAAAAAAAAAABISEhISkj8A7eAIIq13PwCleIFMine/AO3gCCKthz9Afyer5Y2RPwAAAAAAAAAAIKEIRShCkb+AFK5H4Xqkv+C2bdu2bau/AKHkTtHCmb+AGtCmAW2KvyBwxRpwxZq/oKZjLhGelL+QGDFixIihv2DogN0ea6m/AAAAAAAAAACAt/CrMZGOPwAeHh4eHo6/gLfwqzGRjr8AH3zwwQd/P4BxQcYFGZc/oJaWlpaWlr8wr6G8hvKqvwAAAAAAAAAAAAAAAAAAAAAQRVEURVGkv7BD4MYyKKW/AAAAAAAAAACAexphuaeBPwCkQRqkQZo/\",\"dtype\":\"float64\",\"order\":\"little\",\"shape\":[90]}},\"selected\":{\"id\":\"17241\"},\"selection_policy\":{\"id\":\"17258\"}},\"id\":\"17240\",\"type\":\"ColumnDataSource\"},{\"attributes\":{\"source\":{\"id\":\"17429\"}},\"id\":\"17436\",\"type\":\"CDSView\"},{\"attributes\":{\"line_color\":\"#3a0182\",\"line_width\":2,\"x\":{\"field\":\"Date\"},\"y\":{\"field\":\"value\"}},\"id\":\"17467\",\"type\":\"Line\"},{\"attributes\":{\"line_alpha\":0.2,\"line_color\":\"#004201\",\"line_width\":2,\"x\":{\"field\":\"Date\"},\"y\":{\"field\":\"value\"}},\"id\":\"17506\",\"type\":\"Line\"},{\"attributes\":{\"data\":{\"Date\":[\"4/1/1998\",\"7/1/1998\",\"10/1/1998\",\"1/1/1999\",\"4/1/1999\",\"7/1/1999\",\"10/1/1999\",\"1/1/2000\",\"4/1/2000\",\"7/1/2000\",\"10/1/2000\",\"1/1/2001\",\"4/1/2001\",\"7/1/2001\",\"10/1/2001\",\"1/1/2002\",\"4/1/2002\",\"7/1/2002\",\"10/1/2002\",\"1/1/2003\",\"4/1/2003\",\"7/1/2003\",\"10/1/2003\",\"1/1/2004\",\"4/1/2004\",\"7/1/2004\",\"10/1/2004\",\"1/1/2005\",\"4/1/2005\",\"7/1/2005\",\"10/1/2005\",\"1/1/2006\",\"4/1/2006\",\"7/1/2006\",\"10/1/2006\",\"1/1/2007\",\"4/1/2007\",\"7/1/2007\",\"10/1/2007\",\"1/1/2008\",\"4/1/2008\",\"7/1/2008\",\"10/1/2008\",\"1/1/2009\",\"4/1/2009\",\"7/1/2009\",\"10/1/2009\",\"1/1/2010\",\"4/1/2010\",\"7/1/2010\",\"10/1/2010\",\"1/1/2011\",\"4/1/2011\",\"7/1/2011\",\"10/1/2011\",\"1/1/2012\",\"4/1/2012\",\"7/1/2012\",\"10/1/2012\",\"1/1/2013\",\"4/1/2013\",\"7/1/2013\",\"10/1/2013\",\"1/1/2014\",\"4/1/2014\",\"7/1/2014\",\"10/1/2014\",\"1/1/2015\",\"4/1/2015\",\"7/1/2015\",\"10/1/2015\",\"1/1/2016\",\"4/1/2016\",\"7/1/2016\",\"10/1/2016\",\"1/1/2017\",\"4/1/2017\",\"7/1/2017\",\"10/1/2017\",\"1/1/2018\",\"4/1/2018\",\"7/1/2018\",\"10/1/2018\",\"1/1/2019\",\"4/1/2019\",\"7/1/2019\",\"10/1/2019\",\"1/1/2020\",\"4/1/2020\",\"7/1/2020\"],\"Variable\":[\"France (EUR)\",\"France (EUR)\",\"France (EUR)\",\"France (EUR)\",\"France (EUR)\",\"France (EUR)\",\"France (EUR)\",\"France (EUR)\",\"France (EUR)\",\"France (EUR)\",\"France (EUR)\",\"France (EUR)\",\"France (EUR)\",\"France (EUR)\",\"France (EUR)\",\"France (EUR)\",\"France (EUR)\",\"France (EUR)\",\"France (EUR)\",\"France (EUR)\",\"France (EUR)\",\"France (EUR)\",\"France (EUR)\",\"France (EUR)\",\"France (EUR)\",\"France (EUR)\",\"France (EUR)\",\"France (EUR)\",\"France (EUR)\",\"France (EUR)\",\"France (EUR)\",\"France (EUR)\",\"France (EUR)\",\"France (EUR)\",\"France (EUR)\",\"France (EUR)\",\"France (EUR)\",\"France (EUR)\",\"France (EUR)\",\"France (EUR)\",\"France (EUR)\",\"France (EUR)\",\"France (EUR)\",\"France (EUR)\",\"France (EUR)\",\"France (EUR)\",\"France (EUR)\",\"France (EUR)\",\"France (EUR)\",\"France (EUR)\",\"France (EUR)\",\"France (EUR)\",\"France (EUR)\",\"France (EUR)\",\"France (EUR)\",\"France (EUR)\",\"France (EUR)\",\"France (EUR)\",\"France (EUR)\",\"France (EUR)\",\"France (EUR)\",\"France (EUR)\",\"France (EUR)\",\"France (EUR)\",\"France (EUR)\",\"France (EUR)\",\"France (EUR)\",\"France (EUR)\",\"France (EUR)\",\"France (EUR)\",\"France (EUR)\",\"France (EUR)\",\"France (EUR)\",\"France (EUR)\",\"France (EUR)\",\"France (EUR)\",\"France (EUR)\",\"France (EUR)\",\"France (EUR)\",\"France (EUR)\",\"France (EUR)\",\"France (EUR)\",\"France (EUR)\",\"France (EUR)\",\"France (EUR)\",\"France (EUR)\",\"France (EUR)\",\"France (EUR)\",\"France (EUR)\",\"France (EUR)\"],\"value\":{\"__ndarray__\":\"8FG4HoXrsT/AECtK4yOTvyCGYRiGYai/AAAAAAAAAACgmZmZmZmpPyCGYRiGYag/QBdddNFFpz8ggaKtBs+xP6AQaAqBprA/gGnugr+Koz8AHh4eHh6OP4AhC1nIQpY/AMBuj7UMfT9AtMLmQKKVv0AsuFS2d52/AOUByTpXfj8AHh4eHh5+P4CG+OPW5Z2/AO0BswfMfr8gm2yyySarP0AsuFS2d50/YAWzpBwQqb9gWlpaWlqqvwAI/AF/wJ8/oHFBxgUZpz9AIYq/yBmWPwAAAAAAAAAAQLTC5kCilT8AePzhgMevPwAAAAAAAAAAAGRqYO+Yej9gGtCmAW2qP8AaRRw6aZ8/IIZhGIZhmL9AH4PzMTifv7AuPebvtbE/IBsbGxsbuz9AEJMriMmFv0AeeeSRR66/AAAAAAAAAACAqTTk3Gd3vwDO1qHfbK2/KFG7ErUrsb8QvWcSvWeyv7An47dLPam/cC+hvYT2or8A+IEf+IGPvwAAAAAAALI/EFR7Tqavsj8AB5SJK917vwDBgQMHDnw/YIT8NTtqsT/gbux7RE6wP0Cwq/Dlhqg/gKk05Nxnd7+wQ7/ZOvS7v8gYY4wxxri/IF/xFV/xpT/AiBEjRoyoPyBwxRpwxao/YIoJuqsUoz8AAAAAAAAAAECwq/Dlhpi/MOLQSfsgqb+AGtCmAW16vxBxVn5CnLU/sKvw5YYYwD9gcgUxuYKoPyCHuMoUMK+/QGIBd/ojtr/gvrJ6lzyov4C4DPjkcHm/AAAAAAAAoL9wGtCmAW2qvwAHlIkr3Ys/gDPaPWx9qz8AS3r50xaavxDCbBfCbKe/oFChQoUKlb+A4V4Fs6SMv4DAbo+1DJ2/EFR7Tqavor9AF1100UWXvwAI/AF/wH8/APiBH/iBfz/gsbc2THOXvwAAAAAAAJC/AARBEARBkD8AAAAAAACQvwAAAAAAAAAA\",\"dtype\":\"float64\",\"order\":\"little\",\"shape\":[90]}},\"selected\":{\"id\":\"17582\"},\"selection_policy\":{\"id\":\"17621\"}},\"id\":\"17581\",\"type\":\"ColumnDataSource\"},{\"attributes\":{\"data\":{\"Date\":[\"4/1/1998\",\"7/1/1998\",\"10/1/1998\",\"1/1/1999\",\"4/1/1999\",\"7/1/1999\",\"10/1/1999\",\"1/1/2000\",\"4/1/2000\",\"7/1/2000\",\"10/1/2000\",\"1/1/2001\",\"4/1/2001\",\"7/1/2001\",\"10/1/2001\",\"1/1/2002\",\"4/1/2002\",\"7/1/2002\",\"10/1/2002\",\"1/1/2003\",\"4/1/2003\",\"7/1/2003\",\"10/1/2003\",\"1/1/2004\",\"4/1/2004\",\"7/1/2004\",\"10/1/2004\",\"1/1/2005\",\"4/1/2005\",\"7/1/2005\",\"10/1/2005\",\"1/1/2006\",\"4/1/2006\",\"7/1/2006\",\"10/1/2006\",\"1/1/2007\",\"4/1/2007\",\"7/1/2007\",\"10/1/2007\",\"1/1/2008\",\"4/1/2008\",\"7/1/2008\",\"10/1/2008\",\"1/1/2009\",\"4/1/2009\",\"7/1/2009\",\"10/1/2009\",\"1/1/2010\",\"4/1/2010\",\"7/1/2010\",\"10/1/2010\",\"1/1/2011\",\"4/1/2011\",\"7/1/2011\",\"10/1/2011\",\"1/1/2012\",\"4/1/2012\",\"7/1/2012\",\"10/1/2012\",\"1/1/2013\",\"4/1/2013\",\"7/1/2013\",\"10/1/2013\",\"1/1/2014\",\"4/1/2014\",\"7/1/2014\",\"10/1/2014\",\"1/1/2015\",\"4/1/2015\",\"7/1/2015\",\"10/1/2015\",\"1/1/2016\",\"4/1/2016\",\"7/1/2016\",\"10/1/2016\",\"1/1/2017\",\"4/1/2017\",\"7/1/2017\",\"10/1/2017\",\"1/1/2018\",\"4/1/2018\",\"7/1/2018\",\"10/1/2018\",\"1/1/2019\",\"4/1/2019\",\"7/1/2019\",\"10/1/2019\",\"1/1/2020\",\"4/1/2020\",\"7/1/2020\"],\"Variable\":[\"Photography\",\"Photography\",\"Photography\",\"Photography\",\"Photography\",\"Photography\",\"Photography\",\"Photography\",\"Photography\",\"Photography\",\"Photography\",\"Photography\",\"Photography\",\"Photography\",\"Photography\",\"Photography\",\"Photography\",\"Photography\",\"Photography\",\"Photography\",\"Photography\",\"Photography\",\"Photography\",\"Photography\",\"Photography\",\"Photography\",\"Photography\",\"Photography\",\"Photography\",\"Photography\",\"Photography\",\"Photography\",\"Photography\",\"Photography\",\"Photography\",\"Photography\",\"Photography\",\"Photography\",\"Photography\",\"Photography\",\"Photography\",\"Photography\",\"Photography\",\"Photography\",\"Photography\",\"Photography\",\"Photography\",\"Photography\",\"Photography\",\"Photography\",\"Photography\",\"Photography\",\"Photography\",\"Photography\",\"Photography\",\"Photography\",\"Photography\",\"Photography\",\"Photography\",\"Photography\",\"Photography\",\"Photography\",\"Photography\",\"Photography\",\"Photography\",\"Photography\",\"Photography\",\"Photography\",\"Photography\",\"Photography\",\"Photography\",\"Photography\",\"Photography\",\"Photography\",\"Photography\",\"Photography\",\"Photography\",\"Photography\",\"Photography\",\"Photography\",\"Photography\",\"Photography\",\"Photography\",\"Photography\",\"Photography\",\"Photography\",\"Photography\",\"Photography\",\"Photography\",\"Photography\"],\"value\":{\"__ndarray__\":\"gBSuR+F6pL9gVVVVVVWVv2ByBTG5gri/ABgYGBgYiL8AhmEYhmGIPwAAAAAAAAAAEBUVFRUVtT9805ve9KbXP6DneZ7nec4/GKRBGqRBur/UQR3UQR3Ev7AVQcNJ3bc/uKQtaUvawj/IZ91giny2v3DlAck6V76/AMg1Ecg1kT/A6tkhcGOZP8AYY4wxxqg/ILmRG7mRqz8g/rh1eQe8P2BDeQ3lNbQ/IJyPwfkYrL/QExw9wdGzvwAAAAAAAAAAEDuxEzuxwz+gEuQpQZ7CPwBbAWsFrIU/AGtQPO1xhT8AGG7tjdWPP4DG+tBYH6q/ABZYYIEFdj8gHh4eHh6+PyCvobyG8qo/QJ4S5ClBrr/glpoN+7uov1DAfCC7sLg/8CW0l9Bewj+ACQE5P5WAP8D12Yzvj5S/wBCso837lD+A82sPuayIPyCGYRiGYZi/vBK1K1G7wr8YhmEYhmG4vwBZgTDSjpU/ILab5Ulkqr8wvelNb3qjv1AEDSd1X74/YL9SoNavtD8gVpTGRybAvwAad+u8Arq/iGEYhmEYxj9oCpgPZBfGP0DtRkBKu4G/CKtbFnw9tb8g+7Ef+7Gvv1Ab76hm/am/4BXQuFvnpb/AN0Nr9+GWP8Br5YRn+qs/AAAAAAAAAAAAAAAAAAAAAAAQ9EgJOYU/AAAAAAAAAAAApEEapEGaP4AUrkfheqQ/ADuxEzuxgz8gOIETOIGTvwAAAAAAAAAAYGi6g/1Wq78gpEEapEGqv8C6wRT5rJs/AFmBMNKOdb/AWgFrBayFv2AQnMqEbZC/kIUsZCELub/A9pDLioGSv3D+CrMaRbw/QAQpNxXNsz8A+IEf+IGfP6DP9cfLYKS/cO2N1R/owb9YMVDCG029vwAHlIkr3as/IBf2cWEfpz9gL6G9hPaSvwCh5E7Rwnk/QDMzMzMzkz9A4tBJ+yCJv4C4DPjkcJk/\",\"dtype\":\"float64\",\"order\":\"little\",\"shape\":[90]}},\"selected\":{\"id\":\"17285\"},\"selection_policy\":{\"id\":\"17306\"}},\"id\":\"17284\",\"type\":\"ColumnDataSource\"},{\"attributes\":{},\"id\":\"17337\",\"type\":\"Selection\"},{\"attributes\":{\"data_source\":{\"id\":\"17284\"},\"glyph\":{\"id\":\"17287\"},\"hover_glyph\":null,\"muted_glyph\":{\"id\":\"17289\"},\"nonselection_glyph\":{\"id\":\"17288\"},\"selection_glyph\":null,\"view\":{\"id\":\"17291\"}},\"id\":\"17290\",\"type\":\"GlyphRenderer\"},{\"attributes\":{\"factors\":[\"4/1/1998\",\"7/1/1998\",\"10/1/1998\",\"1/1/1999\",\"4/1/1999\",\"7/1/1999\",\"10/1/1999\",\"1/1/2000\",\"4/1/2000\",\"7/1/2000\",\"10/1/2000\",\"1/1/2001\",\"4/1/2001\",\"7/1/2001\",\"10/1/2001\",\"1/1/2002\",\"4/1/2002\",\"7/1/2002\",\"10/1/2002\",\"1/1/2003\",\"4/1/2003\",\"7/1/2003\",\"10/1/2003\",\"1/1/2004\",\"4/1/2004\",\"7/1/2004\",\"10/1/2004\",\"1/1/2005\",\"4/1/2005\",\"7/1/2005\",\"10/1/2005\",\"1/1/2006\",\"4/1/2006\",\"7/1/2006\",\"10/1/2006\",\"1/1/2007\",\"4/1/2007\",\"7/1/2007\",\"10/1/2007\",\"1/1/2008\",\"4/1/2008\",\"7/1/2008\",\"10/1/2008\",\"1/1/2009\",\"4/1/2009\",\"7/1/2009\",\"10/1/2009\",\"1/1/2010\",\"4/1/2010\",\"7/1/2010\",\"10/1/2010\",\"1/1/2011\",\"4/1/2011\",\"7/1/2011\",\"10/1/2011\",\"1/1/2012\",\"4/1/2012\",\"7/1/2012\",\"10/1/2012\",\"1/1/2013\",\"4/1/2013\",\"7/1/2013\",\"10/1/2013\",\"1/1/2014\",\"4/1/2014\",\"7/1/2014\",\"10/1/2014\",\"1/1/2015\",\"4/1/2015\",\"7/1/2015\",\"10/1/2015\",\"1/1/2016\",\"4/1/2016\",\"7/1/2016\",\"10/1/2016\",\"1/1/2017\",\"4/1/2017\",\"7/1/2017\",\"10/1/2017\",\"1/1/2018\",\"4/1/2018\",\"7/1/2018\",\"10/1/2018\",\"1/1/2019\",\"4/1/2019\",\"7/1/2019\",\"10/1/2019\",\"1/1/2020\",\"4/1/2020\",\"7/1/2020\"],\"tags\":[[[\"Date\",\"Date\",null]]]},\"id\":\"17154\",\"type\":\"FactorRange\"},{\"attributes\":{\"label\":{\"value\":\"UK (GBP)\"},\"renderers\":[{\"id\":\"17546\"}]},\"id\":\"17580\",\"type\":\"LegendItem\"},{\"attributes\":{\"line_alpha\":0.1,\"line_color\":\"#ff7e0e\",\"line_width\":2,\"x\":{\"field\":\"Date\"},\"y\":{\"field\":\"value\"}},\"id\":\"17225\",\"type\":\"Line\"},{\"attributes\":{\"label\":{\"value\":\"France (EUR)\"},\"renderers\":[{\"id\":\"17587\"}]},\"id\":\"17623\",\"type\":\"LegendItem\"},{\"attributes\":{},\"id\":\"17175\",\"type\":\"CategoricalScale\"},{\"attributes\":{\"source\":{\"id\":\"17284\"}},\"id\":\"17291\",\"type\":\"CDSView\"},{\"attributes\":{\"axis_label\":\"Date\",\"bounds\":\"auto\",\"formatter\":{\"id\":\"17199\"},\"major_label_orientation\":1.5707963267948966,\"ticker\":{\"id\":\"17180\"}},\"id\":\"17179\",\"type\":\"CategoricalAxis\"},{\"attributes\":{\"source\":{\"id\":\"17581\"}},\"id\":\"17588\",\"type\":\"CDSView\"},{\"attributes\":{},\"id\":\"17237\",\"type\":\"UnionRenderers\"},{\"attributes\":{\"axis\":{\"id\":\"17179\"},\"grid_line_color\":null,\"ticker\":null},\"id\":\"17181\",\"type\":\"Grid\"},{\"attributes\":{},\"id\":\"17190\",\"type\":\"ResetTool\"},{\"attributes\":{\"source\":{\"id\":\"17221\"}},\"id\":\"17228\",\"type\":\"CDSView\"},{\"attributes\":{\"data\":{\"Date\":[\"4/1/1998\",\"7/1/1998\",\"10/1/1998\",\"1/1/1999\",\"4/1/1999\",\"7/1/1999\",\"10/1/1999\",\"1/1/2000\",\"4/1/2000\",\"7/1/2000\",\"10/1/2000\",\"1/1/2001\",\"4/1/2001\",\"7/1/2001\",\"10/1/2001\",\"1/1/2002\",\"4/1/2002\",\"7/1/2002\",\"10/1/2002\",\"1/1/2003\",\"4/1/2003\",\"7/1/2003\",\"10/1/2003\",\"1/1/2004\",\"4/1/2004\",\"7/1/2004\",\"10/1/2004\",\"1/1/2005\",\"4/1/2005\",\"7/1/2005\",\"10/1/2005\",\"1/1/2006\",\"4/1/2006\",\"7/1/2006\",\"10/1/2006\",\"1/1/2007\",\"4/1/2007\",\"7/1/2007\",\"10/1/2007\",\"1/1/2008\",\"4/1/2008\",\"7/1/2008\",\"10/1/2008\",\"1/1/2009\",\"4/1/2009\",\"7/1/2009\",\"10/1/2009\",\"1/1/2010\",\"4/1/2010\",\"7/1/2010\",\"10/1/2010\",\"1/1/2011\",\"4/1/2011\",\"7/1/2011\",\"10/1/2011\",\"1/1/2012\",\"4/1/2012\",\"7/1/2012\",\"10/1/2012\",\"1/1/2013\",\"4/1/2013\",\"7/1/2013\",\"10/1/2013\",\"1/1/2014\",\"4/1/2014\",\"7/1/2014\",\"10/1/2014\",\"1/1/2015\",\"4/1/2015\",\"7/1/2015\",\"10/1/2015\",\"1/1/2016\",\"4/1/2016\",\"7/1/2016\",\"10/1/2016\",\"1/1/2017\",\"4/1/2017\",\"7/1/2017\",\"10/1/2017\",\"1/1/2018\",\"4/1/2018\",\"7/1/2018\",\"10/1/2018\",\"1/1/2019\",\"4/1/2019\",\"7/1/2019\",\"10/1/2019\",\"1/1/2020\",\"4/1/2020\",\"7/1/2020\"],\"Variable\":[\"Drawing\",\"Drawing\",\"Drawing\",\"Drawing\",\"Drawing\",\"Drawing\",\"Drawing\",\"Drawing\",\"Drawing\",\"Drawing\",\"Drawing\",\"Drawing\",\"Drawing\",\"Drawing\",\"Drawing\",\"Drawing\",\"Drawing\",\"Drawing\",\"Drawing\",\"Drawing\",\"Drawing\",\"Drawing\",\"Drawing\",\"Drawing\",\"Drawing\",\"Drawing\",\"Drawing\",\"Drawing\",\"Drawing\",\"Drawing\",\"Drawing\",\"Drawing\",\"Drawing\",\"Drawing\",\"Drawing\",\"Drawing\",\"Drawing\",\"Drawing\",\"Drawing\",\"Drawing\",\"Drawing\",\"Drawing\",\"Drawing\",\"Drawing\",\"Drawing\",\"Drawing\",\"Drawing\",\"Drawing\",\"Drawing\",\"Drawing\",\"Drawing\",\"Drawing\",\"Drawing\",\"Drawing\",\"Drawing\",\"Drawing\",\"Drawing\",\"Drawing\",\"Drawing\",\"Drawing\",\"Drawing\",\"Drawing\",\"Drawing\",\"Drawing\",\"Drawing\",\"Drawing\",\"Drawing\",\"Drawing\",\"Drawing\",\"Drawing\",\"Drawing\",\"Drawing\",\"Drawing\",\"Drawing\",\"Drawing\",\"Drawing\",\"Drawing\",\"Drawing\",\"Drawing\",\"Drawing\",\"Drawing\",\"Drawing\",\"Drawing\",\"Drawing\",\"Drawing\",\"Drawing\",\"Drawing\",\"Drawing\",\"Drawing\",\"Drawing\"],\"value\":{\"__ndarray__\":\"gBSuR+F6pD8AO7ETO7GTP0A1wXgr+5w/gCyBTfvJgr9AewntJbSnvwCp5Lws4oO/ABQUFBQUhD+A/VYbQ9OtP8B34SB6fKc/AAAAAAAAAACAH8F9BPeBv4D7IYG3H4I/gB/BfQT3gb9A+bJBky+bvwAAAAAAAAAAAAAAAAAAAACAEuQpQZ6Cv6AsgU37yaK/EDiBEziBsz8QmnzZoMnHP/CrMZEeqLw/IO0etr4NqL8QJFphcyDBvyAdNtJhI60/WGqlVmqlxj8gcMUacMWqP4DmDzYezZ8/oPNrD7msqD8Aztah32ydP8AFFEZ1mpy/wKR4gUyKl78gGBgYGBi4PwAWWGCBBbY/ANpiZfhGlL8AH3zwwQevvwAWWGCBBZY/QBhpxwqEsT94w4/qErO2v4iO4cV56Li/QDqWMgl2tT/wlf6c7fiwP/CN1R/okaK/iBtuuOGGu78MlPBGU+fHv5Q+6ZM+6cO/gB/BfQT3kb9w27Zt27a9P9jO91Pjpcs/AAAAAAAAwD9AfwH9BfSHvwBnXIsENbU/gHW0eZ/iwj/QGq3RGq3BP8Blb+hJ9cU/ANRBHdRBfb9cB3Rjnj7KvxhnUxhnU8i/wNDafbgFpD+AG2644Ya7P0DTHey32rg/oDjXMYpzrT8AMF3nWCNxPwAAAAAAAAAAoJmZmZmZqb9Ar6G8hvKKv1Ab6LSBTrs/yPdHCiZzwD8gW/yjLCetP3BnSMzbGbK/TG9605vexL/AY2pg75i6vwCse6SVyXO/ID6BVHJepr9gZQqYD2S3v8BsfDO0dq8/0O+5JU79vj8YxezPh9Owv2Cjd0XmS7O/oIUsZCELqT8AGG7tjdWfP1BJAQk/ubC/gBtuuOGGq78gXXTRRRedv2BPYT2F9aS/4JWoXYnapb+gAUt6+dOmv4AUrkfhepS/QAUvp+DllD94FK5H4Xq0v+CBuXZgrp2/\",\"dtype\":\"float64\",\"order\":\"little\",\"shape\":[90]}},\"selected\":{\"id\":\"17310\"},\"selection_policy\":{\"id\":\"17333\"}},\"id\":\"17309\",\"type\":\"ColumnDataSource\"},{\"attributes\":{},\"id\":\"17362\",\"type\":\"UnionRenderers\"},{\"attributes\":{\"line_alpha\":0.1,\"line_color\":\"#9367bc\",\"line_width\":2,\"x\":{\"field\":\"Date\"},\"y\":{\"field\":\"value\"}},\"id\":\"17288\",\"type\":\"Line\"},{\"attributes\":{\"line_alpha\":0.2,\"line_color\":\"#e277c1\",\"line_width\":2,\"x\":{\"field\":\"Date\"},\"y\":{\"field\":\"value\"}},\"id\":\"17341\",\"type\":\"Line\"},{\"attributes\":{\"line_alpha\":0.2,\"line_color\":\"#ff7e0e\",\"line_width\":2,\"x\":{\"field\":\"Date\"},\"y\":{\"field\":\"value\"}},\"id\":\"17226\",\"type\":\"Line\"},{\"attributes\":{\"bottom_units\":\"screen\",\"fill_alpha\":0.5,\"fill_color\":\"lightgrey\",\"left_units\":\"screen\",\"level\":\"overlay\",\"line_alpha\":1.0,\"line_color\":\"black\",\"line_dash\":[4,4],\"line_width\":2,\"right_units\":\"screen\",\"top_units\":\"screen\"},\"id\":\"17191\",\"type\":\"BoxAnnotation\"},{\"attributes\":{\"data_source\":{\"id\":\"17221\"},\"glyph\":{\"id\":\"17224\"},\"hover_glyph\":null,\"muted_glyph\":{\"id\":\"17226\"},\"nonselection_glyph\":{\"id\":\"17225\"},\"selection_glyph\":null,\"view\":{\"id\":\"17228\"}},\"id\":\"17227\",\"type\":\"GlyphRenderer\"},{\"attributes\":{\"line_color\":\"#ff7e0e\",\"line_width\":2,\"x\":{\"field\":\"Date\"},\"y\":{\"field\":\"value\"}},\"id\":\"17224\",\"type\":\"Line\"},{\"attributes\":{},\"id\":\"17204\",\"type\":\"Selection\"},{\"attributes\":{},\"id\":\"17285\",\"type\":\"Selection\"},{\"attributes\":{\"source\":{\"id\":\"17336\"}},\"id\":\"17343\",\"type\":\"CDSView\"},{\"attributes\":{},\"id\":\"17621\",\"type\":\"UnionRenderers\"},{\"attributes\":{\"line_color\":\"#1f77b3\",\"line_width\":2,\"x\":{\"field\":\"Date\"},\"y\":{\"field\":\"value\"}},\"id\":\"17206\",\"type\":\"Line\"},{\"attributes\":{\"data\":{\"Date\":[\"4/1/1998\",\"7/1/1998\",\"10/1/1998\",\"1/1/1999\",\"4/1/1999\",\"7/1/1999\",\"10/1/1999\",\"1/1/2000\",\"4/1/2000\",\"7/1/2000\",\"10/1/2000\",\"1/1/2001\",\"4/1/2001\",\"7/1/2001\",\"10/1/2001\",\"1/1/2002\",\"4/1/2002\",\"7/1/2002\",\"10/1/2002\",\"1/1/2003\",\"4/1/2003\",\"7/1/2003\",\"10/1/2003\",\"1/1/2004\",\"4/1/2004\",\"7/1/2004\",\"10/1/2004\",\"1/1/2005\",\"4/1/2005\",\"7/1/2005\",\"10/1/2005\",\"1/1/2006\",\"4/1/2006\",\"7/1/2006\",\"10/1/2006\",\"1/1/2007\",\"4/1/2007\",\"7/1/2007\",\"10/1/2007\",\"1/1/2008\",\"4/1/2008\",\"7/1/2008\",\"10/1/2008\",\"1/1/2009\",\"4/1/2009\",\"7/1/2009\",\"10/1/2009\",\"1/1/2010\",\"4/1/2010\",\"7/1/2010\",\"10/1/2010\",\"1/1/2011\",\"4/1/2011\",\"7/1/2011\",\"10/1/2011\",\"1/1/2012\",\"4/1/2012\",\"7/1/2012\",\"10/1/2012\",\"1/1/2013\",\"4/1/2013\",\"7/1/2013\",\"10/1/2013\",\"1/1/2014\",\"4/1/2014\",\"7/1/2014\",\"10/1/2014\",\"1/1/2015\",\"4/1/2015\",\"7/1/2015\",\"10/1/2015\",\"1/1/2016\",\"4/1/2016\",\"7/1/2016\",\"10/1/2016\",\"1/1/2017\",\"4/1/2017\",\"7/1/2017\",\"10/1/2017\",\"1/1/2018\",\"4/1/2018\",\"7/1/2018\",\"10/1/2018\",\"1/1/2019\",\"4/1/2019\",\"7/1/2019\",\"10/1/2019\",\"1/1/2020\",\"4/1/2020\",\"7/1/2020\"],\"Variable\":[\"Global Index (USD)\",\"Global Index (USD)\",\"Global Index (USD)\",\"Global Index (USD)\",\"Global Index (USD)\",\"Global Index (USD)\",\"Global Index (USD)\",\"Global Index (USD)\",\"Global Index (USD)\",\"Global Index (USD)\",\"Global Index (USD)\",\"Global Index (USD)\",\"Global Index (USD)\",\"Global Index (USD)\",\"Global Index (USD)\",\"Global Index (USD)\",\"Global Index (USD)\",\"Global Index (USD)\",\"Global Index (USD)\",\"Global Index (USD)\",\"Global Index (USD)\",\"Global Index (USD)\",\"Global Index (USD)\",\"Global Index (USD)\",\"Global Index (USD)\",\"Global Index (USD)\",\"Global Index (USD)\",\"Global Index (USD)\",\"Global Index (USD)\",\"Global Index (USD)\",\"Global Index (USD)\",\"Global Index (USD)\",\"Global Index (USD)\",\"Global Index (USD)\",\"Global Index (USD)\",\"Global Index (USD)\",\"Global Index (USD)\",\"Global Index (USD)\",\"Global Index (USD)\",\"Global Index (USD)\",\"Global Index (USD)\",\"Global Index (USD)\",\"Global Index (USD)\",\"Global Index (USD)\",\"Global Index (USD)\",\"Global Index (USD)\",\"Global Index (USD)\",\"Global Index (USD)\",\"Global Index (USD)\",\"Global Index (USD)\",\"Global Index (USD)\",\"Global Index (USD)\",\"Global Index (USD)\",\"Global Index (USD)\",\"Global Index (USD)\",\"Global Index (USD)\",\"Global Index (USD)\",\"Global Index (USD)\",\"Global Index (USD)\",\"Global Index (USD)\",\"Global Index (USD)\",\"Global Index (USD)\",\"Global Index (USD)\",\"Global Index (USD)\",\"Global Index (USD)\",\"Global Index (USD)\",\"Global Index (USD)\",\"Global Index (USD)\",\"Global Index (USD)\",\"Global Index (USD)\",\"Global Index (USD)\",\"Global Index (USD)\",\"Global Index (USD)\",\"Global Index (USD)\",\"Global Index (USD)\",\"Global Index (USD)\",\"Global Index (USD)\",\"Global Index (USD)\",\"Global Index (USD)\",\"Global Index (USD)\",\"Global Index (USD)\",\"Global Index (USD)\",\"Global Index (USD)\",\"Global Index (USD)\",\"Global Index (USD)\",\"Global Index (USD)\",\"Global Index (USD)\",\"Global Index (USD)\",\"Global Index (USD)\",\"Global Index (USD)\"],\"value\":{\"__ndarray__\":\"8FG4HoXrsT/AECtK4yODv/BW9jmkJri/UFVVVVVVtT8AO7ETO7GDvwCp5Lws4oM/AAAAAAAAAABwYid2Yie2P0D5skGTL5s/kHsaYbmnob/Atm3btm2bP4hxvy6pfLi/eGIndmInxj8wGYJ1tHm/vwAAAAAAAAAAAAAAAAAAAAAAmUDv1LWcPwAAAAAAAAAAgBLkKUGekj9IkiRJkiTBP5BGo9FoNLo/AAAAAAAAAABQB3VQB3XAv8gQrKPN+8Q/AO5ST8Zvtz+AGtCmAW16vwBkamDvmHo/YBrQpgFtqj+gqVx3vNjCPyAeHh4eHq6/SBdddNFFt7/QzMzMzMzAP+CV/pzt+JC/cIELXOACtz9QgS+uftDBv8CXG2JAOsY/EI31obE+xD9AoZuS6hCbP8RslbiYrcK/ABu9KzJfyj/Au7u7u7urv2CZKHRTUq0/eHd3d3d3x7/Ytm3btm27vxRf8RVf8cW/YLmnEZZ7yj8UX/EVX/HFvwjLPY2w3NM/QNqxAmGkrb/QaXKQeSmhv8iiGmYHR8C/vPBeeC+81z/glpoN+7u4vywTtkFwKtM/YMxKo0dUwL/AeCv7HFKjv+bm5ubm5ta/QHXsrQ3T3D8MhJF2rEDIv7B3TA3sHdM/wB6F61G4rr9AfWejvrOxP3D98TIYBay/AFmBMNKOlT8YVz/oqMC3v4guuuiii8Y/cDbs72JQsT8gCM0bCM2rPzyI5LAHkcy/gL3Sn7Mdr78YGxsbGxu7v3Aor6G8hrI/4MWW4Nv8tb/ApmMuEZ6UPxDlNZTXUL6/LGe38Ksx0T/c29vb29vLv8hSEUtFLMU/YB8X9nFhv79YWlpaWlrKP9yVqF2J2sW/IB4eHh4evj80lNdQXkPJv8gQrKPN+8Q/OAcSrbA5wL/QWmuttda6P+hk+iphbMa/OPmyQZMvyz/kj1uXd8DBv6C6L4+tCKo/\",\"dtype\":\"float64\",\"order\":\"little\",\"shape\":[90]}},\"selected\":{\"id\":\"17204\"},\"selection_policy\":{\"id\":\"17217\"}},\"id\":\"17203\",\"type\":\"ColumnDataSource\"},{\"attributes\":{\"line_color\":\"#9367bc\",\"line_width\":2,\"x\":{\"field\":\"Date\"},\"y\":{\"field\":\"value\"}},\"id\":\"17287\",\"type\":\"Line\"},{\"attributes\":{\"overlay\":{\"id\":\"17191\"}},\"id\":\"17189\",\"type\":\"BoxZoomTool\"},{\"attributes\":{\"active_drag\":\"auto\",\"active_inspect\":\"auto\",\"active_multi\":null,\"active_scroll\":\"auto\",\"active_tap\":\"auto\",\"tools\":[{\"id\":\"17156\"},{\"id\":\"17186\"},{\"id\":\"17187\"},{\"id\":\"17188\"},{\"id\":\"17189\"},{\"id\":\"17190\"}]},\"id\":\"17192\",\"type\":\"Toolbar\"},{\"attributes\":{\"line_alpha\":0.1,\"line_color\":\"#0fffa8\",\"line_width\":2,\"x\":{\"field\":\"Date\"},\"y\":{\"field\":\"value\"}},\"id\":\"17544\",\"type\":\"Line\"},{\"attributes\":{\"line_alpha\":0.2,\"line_color\":\"#0fffa8\",\"line_width\":2,\"x\":{\"field\":\"Date\"},\"y\":{\"field\":\"value\"}},\"id\":\"17545\",\"type\":\"Line\"},{\"attributes\":{},\"id\":\"17188\",\"type\":\"WheelZoomTool\"},{\"attributes\":{\"source\":{\"id\":\"17203\"}},\"id\":\"17210\",\"type\":\"CDSView\"},{\"attributes\":{\"source\":{\"id\":\"17540\"}},\"id\":\"17547\",\"type\":\"CDSView\"},{\"attributes\":{\"data_source\":{\"id\":\"17336\"},\"glyph\":{\"id\":\"17339\"},\"hover_glyph\":null,\"muted_glyph\":{\"id\":\"17341\"},\"nonselection_glyph\":{\"id\":\"17340\"},\"selection_glyph\":null,\"view\":{\"id\":\"17343\"}},\"id\":\"17342\",\"type\":\"GlyphRenderer\"},{\"attributes\":{\"data_source\":{\"id\":\"17203\"},\"glyph\":{\"id\":\"17206\"},\"hover_glyph\":null,\"muted_glyph\":{\"id\":\"17208\"},\"nonselection_glyph\":{\"id\":\"17207\"},\"selection_glyph\":null,\"view\":{\"id\":\"17210\"}},\"id\":\"17209\",\"type\":\"GlyphRenderer\"},{\"attributes\":{},\"id\":\"17187\",\"type\":\"PanTool\"},{\"attributes\":{\"line_alpha\":0.1,\"line_color\":\"#1f77b3\",\"line_width\":2,\"x\":{\"field\":\"Date\"},\"y\":{\"field\":\"value\"}},\"id\":\"17207\",\"type\":\"Line\"},{\"attributes\":{\"label\":{\"value\":\"Global Index (USD)\"},\"renderers\":[{\"id\":\"17209\"}]},\"id\":\"17220\",\"type\":\"LegendItem\"},{\"attributes\":{\"line_alpha\":0.2,\"line_color\":\"#1f77b3\",\"line_width\":2,\"x\":{\"field\":\"Date\"},\"y\":{\"field\":\"value\"}},\"id\":\"17208\",\"type\":\"Line\"},{\"attributes\":{\"label\":{\"value\":\"19th Century\"},\"renderers\":[{\"id\":\"17371\"}]},\"id\":\"17395\",\"type\":\"LegendItem\"},{\"attributes\":{\"label\":{\"value\":\"Global Index (EUR)\"},\"renderers\":[{\"id\":\"17227\"}]},\"id\":\"17239\",\"type\":\"LegendItem\"},{\"attributes\":{},\"id\":\"17578\",\"type\":\"UnionRenderers\"},{\"attributes\":{\"label\":{\"value\":\"Print\"},\"renderers\":[{\"id\":\"17342\"}]},\"id\":\"17364\",\"type\":\"LegendItem\"},{\"attributes\":{},\"id\":\"17217\",\"type\":\"UnionRenderers\"},{\"attributes\":{\"end\":0.5614480305396495,\"reset_end\":0.5614480305396495,\"reset_start\":-0.44141506159986116,\"start\":-0.44141506159986116,\"tags\":[[[\"value\",\"value\",null]]]},\"id\":\"17155\",\"type\":\"Range1d\"},{\"attributes\":{\"click_policy\":\"mute\",\"items\":[{\"id\":\"17220\"},{\"id\":\"17239\"},{\"id\":\"17260\"},{\"id\":\"17283\"},{\"id\":\"17308\"},{\"id\":\"17335\"},{\"id\":\"17364\"},{\"id\":\"17395\"},{\"id\":\"17428\"},{\"id\":\"17463\"},{\"id\":\"17500\"},{\"id\":\"17539\"},{\"id\":\"17580\"},{\"id\":\"17623\"}],\"location\":[0,0],\"title\":\"Variable\"},\"id\":\"17219\",\"type\":\"Legend\"},{\"attributes\":{\"line_alpha\":0.1,\"line_color\":\"#e277c1\",\"line_width\":2,\"x\":{\"field\":\"Date\"},\"y\":{\"field\":\"value\"}},\"id\":\"17340\",\"type\":\"Line\"},{\"attributes\":{},\"id\":\"17310\",\"type\":\"Selection\"},{\"attributes\":{\"data\":{\"Date\":[\"4/1/1998\",\"7/1/1998\",\"10/1/1998\",\"1/1/1999\",\"4/1/1999\",\"7/1/1999\",\"10/1/1999\",\"1/1/2000\",\"4/1/2000\",\"7/1/2000\",\"10/1/2000\",\"1/1/2001\",\"4/1/2001\",\"7/1/2001\",\"10/1/2001\",\"1/1/2002\",\"4/1/2002\",\"7/1/2002\",\"10/1/2002\",\"1/1/2003\",\"4/1/2003\",\"7/1/2003\",\"10/1/2003\",\"1/1/2004\",\"4/1/2004\",\"7/1/2004\",\"10/1/2004\",\"1/1/2005\",\"4/1/2005\",\"7/1/2005\",\"10/1/2005\",\"1/1/2006\",\"4/1/2006\",\"7/1/2006\",\"10/1/2006\",\"1/1/2007\",\"4/1/2007\",\"7/1/2007\",\"10/1/2007\",\"1/1/2008\",\"4/1/2008\",\"7/1/2008\",\"10/1/2008\",\"1/1/2009\",\"4/1/2009\",\"7/1/2009\",\"10/1/2009\",\"1/1/2010\",\"4/1/2010\",\"7/1/2010\",\"10/1/2010\",\"1/1/2011\",\"4/1/2011\",\"7/1/2011\",\"10/1/2011\",\"1/1/2012\",\"4/1/2012\",\"7/1/2012\",\"10/1/2012\",\"1/1/2013\",\"4/1/2013\",\"7/1/2013\",\"10/1/2013\",\"1/1/2014\",\"4/1/2014\",\"7/1/2014\",\"10/1/2014\",\"1/1/2015\",\"4/1/2015\",\"7/1/2015\",\"10/1/2015\",\"1/1/2016\",\"4/1/2016\",\"7/1/2016\",\"10/1/2016\",\"1/1/2017\",\"4/1/2017\",\"7/1/2017\",\"10/1/2017\",\"1/1/2018\",\"4/1/2018\",\"7/1/2018\",\"10/1/2018\",\"1/1/2019\",\"4/1/2019\",\"7/1/2019\",\"10/1/2019\",\"1/1/2020\",\"4/1/2020\",\"7/1/2020\"],\"Variable\":[\"Print\",\"Print\",\"Print\",\"Print\",\"Print\",\"Print\",\"Print\",\"Print\",\"Print\",\"Print\",\"Print\",\"Print\",\"Print\",\"Print\",\"Print\",\"Print\",\"Print\",\"Print\",\"Print\",\"Print\",\"Print\",\"Print\",\"Print\",\"Print\",\"Print\",\"Print\",\"Print\",\"Print\",\"Print\",\"Print\",\"Print\",\"Print\",\"Print\",\"Print\",\"Print\",\"Print\",\"Print\",\"Print\",\"Print\",\"Print\",\"Print\",\"Print\",\"Print\",\"Print\",\"Print\",\"Print\",\"Print\",\"Print\",\"Print\",\"Print\",\"Print\",\"Print\",\"Print\",\"Print\",\"Print\",\"Print\",\"Print\",\"Print\",\"Print\",\"Print\",\"Print\",\"Print\",\"Print\",\"Print\",\"Print\",\"Print\",\"Print\",\"Print\",\"Print\",\"Print\",\"Print\",\"Print\",\"Print\",\"Print\",\"Print\",\"Print\",\"Print\",\"Print\",\"Print\",\"Print\",\"Print\",\"Print\",\"Print\",\"Print\",\"Print\",\"Print\",\"Print\",\"Print\",\"Print\",\"Print\"],\"value\":{\"__ndarray__\":\"6FG4HoXrwT8Q01lMZzG9PxAEAoFAIKC/IB020mEjvb8AAAAAAAAAAAgH0eO7cMA/IB020mEjrT8guZEbuZGrvwAAAAAAAAAA4BZPbvHktj+gcnYLvxqjPyAhir/IGZa/4NLS0tLSoj9g6IDdHmupv3igcnYLv7q/4N3d3d3drT8Qh8PhcDi8P4DAbo+1DI2/4Jinj1aTsL8A+IEf+IGfP2C38Ksxkb4/4BdLfrHktz9AH4PzMTifvwCh5E7Rwpm/gBWJV5F4tT8AhmEYhmGIPwAAAAAAAAAAUFFRUVFRwT/g1t5Y/YG+P4Avob2E9oI/YJ2RirnVqb8ArHuklcmDvwAUsD8B+5M/YH8YLByZk78AFLA/AfuTPzAn4Pn0uLk/AEVbDZ4jwD8AVDlCP0DFP5DmSHOkOcI/QEHoH93GpD8ISK1rr2awv0iSJEmSJMG/FIMZQdI7xL+IxvrQWB+6v0gXXXTRRbe/ENejcD0Kp79Aa1A87XG1P7B7pJXJE7A/AAAAAAAAAADgG9a+Ye2bv6Cu5eBmv6C/YCELWchCpj9QVVVVVVW1PwAYgREYgYG/QFjuaYTlrr8wUjG3OiOlv4B/GCwcmYO/YDbs72JQoT8AmUDv1LWcPwAc1r5h7Ys/gNzAqDONi7+AEuQpQZ6Cv4AsgU37yYK/gAntJbSXsD+Acb8uqXy4PwBFURRFUZQ/AAAAAAAAAAAQ7hHuEe6hv7C11lprrbW/MKkOsYHPqL9AewntJbSXvwALze1UHo0/wBArSuMjkz8AAAAAAAAAAAAAAAAAAAAAgCyBTfvJgr8AAAAAAAAAAAAAAAAAAAAAgC+hvYT2gr8AmUDv1LWcP0AXXXTRRac/AIGirQbPgT+AexphuaeBv2AhC1nIQqa/4BvWvmHtm78AAAAAAAAAAIAQK0rjI4M/gC+hvYT2gj+ALIFN+8mCv2BVVVVVVaU/\",\"dtype\":\"float64\",\"order\":\"little\",\"shape\":[90]}},\"selected\":{\"id\":\"17337\"},\"selection_policy\":{\"id\":\"17362\"}},\"id\":\"17336\",\"type\":\"ColumnDataSource\"},{\"attributes\":{},\"id\":\"17306\",\"type\":\"UnionRenderers\"},{\"attributes\":{},\"id\":\"17393\",\"type\":\"UnionRenderers\"},{\"attributes\":{\"line_color\":\"#e277c1\",\"line_width\":2,\"x\":{\"field\":\"Date\"},\"y\":{\"field\":\"value\"}},\"id\":\"17339\",\"type\":\"Line\"},{\"attributes\":{\"line_alpha\":0.1,\"line_color\":\"#7e7e7e\",\"line_width\":2,\"x\":{\"field\":\"Date\"},\"y\":{\"field\":\"value\"}},\"id\":\"17369\",\"type\":\"Line\"},{\"attributes\":{\"label\":{\"value\":\"Photography\"},\"renderers\":[{\"id\":\"17290\"}]},\"id\":\"17308\",\"type\":\"LegendItem\"},{\"attributes\":{\"line_alpha\":0.2,\"line_color\":\"#9367bc\",\"line_width\":2,\"x\":{\"field\":\"Date\"},\"y\":{\"field\":\"value\"}},\"id\":\"17289\",\"type\":\"Line\"},{\"attributes\":{\"data_source\":{\"id\":\"17365\"},\"glyph\":{\"id\":\"17368\"},\"hover_glyph\":null,\"muted_glyph\":{\"id\":\"17370\"},\"nonselection_glyph\":{\"id\":\"17369\"},\"selection_glyph\":null,\"view\":{\"id\":\"17372\"}},\"id\":\"17371\",\"type\":\"GlyphRenderer\"},{\"attributes\":{},\"id\":\"17186\",\"type\":\"SaveTool\"},{\"attributes\":{\"label\":{\"value\":\"Painting\"},\"renderers\":[{\"id\":\"17246\"}]},\"id\":\"17260\",\"type\":\"LegendItem\"},{\"attributes\":{\"source\":{\"id\":\"17365\"}},\"id\":\"17372\",\"type\":\"CDSView\"},{\"attributes\":{\"margin\":[5,5,5,5],\"name\":\"HSpacer42710\",\"sizing_mode\":\"stretch_width\"},\"id\":\"17930\",\"type\":\"Spacer\"},{\"attributes\":{\"line_alpha\":0.2,\"line_color\":\"#7e7e7e\",\"line_width\":2,\"x\":{\"field\":\"Date\"},\"y\":{\"field\":\"value\"}},\"id\":\"17370\",\"type\":\"Line\"},{\"attributes\":{\"data_source\":{\"id\":\"17540\"},\"glyph\":{\"id\":\"17543\"},\"hover_glyph\":null,\"muted_glyph\":{\"id\":\"17545\"},\"nonselection_glyph\":{\"id\":\"17544\"},\"selection_glyph\":null,\"view\":{\"id\":\"17547\"}},\"id\":\"17546\",\"type\":\"GlyphRenderer\"},{\"attributes\":{},\"id\":\"17498\",\"type\":\"UnionRenderers\"}],\"root_ids\":[\"17152\"]},\"title\":\"Bokeh Application\",\"version\":\"2.1.1\"}};\n",
       "  var render_items = [{\"docid\":\"0c6100aa-1e32-4fc7-8523-2b525e849b44\",\"root_ids\":[\"17152\"],\"roots\":{\"17152\":\"1c07fea2-f957-410f-8c18-e9947dabe42d\"}}];\n",
       "  root.Bokeh.embed.embed_items_notebook(docs_json, render_items);\n",
       "  }\n",
       "if (root.Bokeh !== undefined) {\n",
       "    embed_document(root);\n",
       "  } else {\n",
       "    var attempts = 0;\n",
       "    var timer = setInterval(function(root) {\n",
       "      if (root.Bokeh !== undefined) {\n",
       "        clearInterval(timer);\n",
       "        embed_document(root);\n",
       "      } else if (document.readyState == \"complete\") {\n",
       "        attempts++;\n",
       "        if (attempts > 100) {\n",
       "          clearInterval(timer);\n",
       "          console.log(\"Bokeh: ERROR: Unable to run BokehJS code because BokehJS library is missing\");\n",
       "        }\n",
       "      }\n",
       "    }, 10, root)\n",
       "  }\n",
       "})(window);</script>"
      ],
      "text/plain": [
       ":NdOverlay   [Variable]\n",
       "   :Curve   [Date]   (value)"
      ]
     },
     "execution_count": 101,
     "metadata": {
      "application/vnd.holoviews_exec.v0+json": {
       "id": "17152"
      }
     },
     "output_type": "execute_result"
    }
   ],
   "source": [
    "art_index_quarterly_returns_plot = art_index_quarterly_returns.hvplot(title=\"Art Price Index - Quarterly Returns\", ylabel=\"Price - Base 100\", frame_width=1500, frame_height=500, rot=90)\n",
    "\n",
    "art_index_quarterly_returns_plot"
   ]
  },
  {
   "cell_type": "code",
   "execution_count": 111,
   "metadata": {},
   "outputs": [
    {
     "data": {
      "text/plain": [
       "19th Century   -0.252225\n",
       "Painting        0.260582\n",
       "USA (USD)       0.264261\n",
       "France (EUR)    0.326898\n",
       "Modern Art      0.426065\n",
       "dtype: float64"
      ]
     },
     "execution_count": 111,
     "metadata": {},
     "output_type": "execute_result"
    }
   ],
   "source": [
    "art_index_cum_returns = art_index_quarterly_returns.sum().sort_values()\n",
    "art_index_cum_returns.head()"
   ]
  },
  {
   "cell_type": "code",
   "execution_count": 120,
   "metadata": {},
   "outputs": [
    {
     "data": {
      "application/vnd.holoviews_exec.v0+json": "",
      "text/html": [
       "<div id='19030'>\n",
       "\n",
       "\n",
       "\n",
       "\n",
       "\n",
       "  <div class=\"bk-root\" id=\"31c5a2eb-a73a-4226-9cd7-b69a9884c9e4\" data-root-id=\"19030\"></div>\n",
       "</div>\n",
       "<script type=\"application/javascript\">(function(root) {\n",
       "  function embed_document(root) {\n",
       "  var docs_json = {\"dcc98847-ad22-43ce-864f-46f0b89ab036\":{\"roots\":{\"references\":[{\"attributes\":{\"fill_color\":{\"value\":\"#1f77b3\"},\"top\":{\"field\":\"A_0\"},\"width\":{\"value\":0.8},\"x\":{\"field\":\"index\"}},\"id\":\"19067\",\"type\":\"VBar\"},{\"attributes\":{\"format\":\"%.0f%%\"},\"id\":\"19072\",\"type\":\"PrintfTickFormatter\"},{\"attributes\":{\"data_source\":{\"id\":\"19064\"},\"glyph\":{\"id\":\"19067\"},\"hover_glyph\":null,\"muted_glyph\":{\"id\":\"19069\"},\"nonselection_glyph\":{\"id\":\"19068\"},\"selection_glyph\":null,\"view\":{\"id\":\"19071\"}},\"id\":\"19070\",\"type\":\"GlyphRenderer\"},{\"attributes\":{\"source\":{\"id\":\"19064\"}},\"id\":\"19071\",\"type\":\"CDSView\"},{\"attributes\":{\"margin\":[5,5,5,5],\"name\":\"HSpacer46277\",\"sizing_mode\":\"stretch_width\"},\"id\":\"19031\",\"type\":\"Spacer\"},{\"attributes\":{\"fill_alpha\":{\"value\":0.1},\"fill_color\":{\"value\":\"#1f77b3\"},\"line_alpha\":{\"value\":0.1},\"top\":{\"field\":\"A_0\"},\"width\":{\"value\":0.8},\"x\":{\"field\":\"index\"}},\"id\":\"19068\",\"type\":\"VBar\"},{\"attributes\":{\"bottom_units\":\"screen\",\"fill_alpha\":0.5,\"fill_color\":\"lightgrey\",\"left_units\":\"screen\",\"level\":\"overlay\",\"line_alpha\":1.0,\"line_color\":\"black\",\"line_dash\":[4,4],\"line_width\":2,\"right_units\":\"screen\",\"top_units\":\"screen\"},\"id\":\"19056\",\"type\":\"BoxAnnotation\"},{\"attributes\":{\"fill_alpha\":{\"value\":0.2},\"fill_color\":{\"value\":\"#1f77b3\"},\"line_alpha\":{\"value\":0.2},\"top\":{\"field\":\"A_0\"},\"width\":{\"value\":0.8},\"x\":{\"field\":\"index\"}},\"id\":\"19069\",\"type\":\"VBar\"},{\"attributes\":{\"factors\":[\"19th Century\",\"Painting\",\"USA (USD)\",\"France (EUR)\",\"Modern Art\",\"UK (GBP)\",\"Sculpture\",\"Drawing\",\"Photography\",\"Print\",\"Global Index (EUR)\",\"Global Index (USD)\",\"Post-War\",\"Contemporary\"],\"tags\":[[[\"index\",\"index\",null]]]},\"id\":\"19032\",\"type\":\"FactorRange\"},{\"attributes\":{\"callback\":null,\"renderers\":[{\"id\":\"19070\"}],\"tags\":[\"hv_created\"],\"tooltips\":[[\"index\",\"@{index}\"],[\"0\",\"@{A_0}\"]]},\"id\":\"19034\",\"type\":\"HoverTool\"},{\"attributes\":{\"margin\":[5,5,5,5],\"name\":\"HSpacer46278\",\"sizing_mode\":\"stretch_width\"},\"id\":\"19093\",\"type\":\"Spacer\"},{\"attributes\":{},\"id\":\"19073\",\"type\":\"CategoricalTickFormatter\"},{\"attributes\":{\"end\":13.953014352192348,\"reset_end\":13.953014352192348,\"reset_start\":-4.020000136925686,\"start\":-4.020000136925686,\"tags\":[[[\"0\",\"0\",null]]]},\"id\":\"19033\",\"type\":\"Range1d\"},{\"attributes\":{\"text\":\"0\",\"text_color\":{\"value\":\"black\"},\"text_font_size\":{\"value\":\"12pt\"}},\"id\":\"19036\",\"type\":\"Title\"},{\"attributes\":{\"align\":null,\"below\":[{\"id\":\"19044\"}],\"center\":[{\"id\":\"19046\"},{\"id\":\"19050\"}],\"frame_height\":500,\"frame_width\":1500,\"left\":[{\"id\":\"19047\"}],\"margin\":null,\"min_border_bottom\":10,\"min_border_left\":10,\"min_border_right\":10,\"min_border_top\":10,\"plot_height\":null,\"plot_width\":null,\"renderers\":[{\"id\":\"19070\"}],\"sizing_mode\":\"fixed\",\"title\":{\"id\":\"19036\"},\"toolbar\":{\"id\":\"19057\"},\"x_range\":{\"id\":\"19032\"},\"x_scale\":{\"id\":\"19040\"},\"y_range\":{\"id\":\"19033\"},\"y_scale\":{\"id\":\"19042\"}},\"id\":\"19035\",\"subtype\":\"Figure\",\"type\":\"Plot\"},{\"attributes\":{\"active_drag\":\"auto\",\"active_inspect\":\"auto\",\"active_multi\":null,\"active_scroll\":\"auto\",\"active_tap\":\"auto\",\"tools\":[{\"id\":\"19034\"},{\"id\":\"19051\"},{\"id\":\"19052\"},{\"id\":\"19053\"},{\"id\":\"19054\"},{\"id\":\"19055\"}]},\"id\":\"19057\",\"type\":\"Toolbar\"},{\"attributes\":{},\"id\":\"19048\",\"type\":\"BasicTicker\"},{\"attributes\":{},\"id\":\"19040\",\"type\":\"CategoricalScale\"},{\"attributes\":{},\"id\":\"19053\",\"type\":\"WheelZoomTool\"},{\"attributes\":{\"overlay\":{\"id\":\"19056\"}},\"id\":\"19054\",\"type\":\"BoxZoomTool\"},{\"attributes\":{},\"id\":\"19065\",\"type\":\"Selection\"},{\"attributes\":{\"data\":{\"A_0\":{\"__ndarray__\":\"Xo/E2JAtBMCymiQRutgEQAh9Q1sOJAVAuI6bRN4mCkCJJ/r+6AoRQKDjWkaH9RJAqnKV2cQFF0DoTHqICsIYQKHhxBnhXyBARILvodcFJEDUQW7rnfIlQDnMglaHASdAOI1m/j6UJ0DUrztAGOkoQA==\",\"dtype\":\"float64\",\"order\":\"little\",\"shape\":[14]},\"index\":[\"19th Century\",\"Painting\",\"USA (USD)\",\"France (EUR)\",\"Modern Art\",\"UK (GBP)\",\"Sculpture\",\"Drawing\",\"Photography\",\"Print\",\"Global Index (EUR)\",\"Global Index (USD)\",\"Post-War\",\"Contemporary\"]},\"selected\":{\"id\":\"19065\"},\"selection_policy\":{\"id\":\"19084\"}},\"id\":\"19064\",\"type\":\"ColumnDataSource\"},{\"attributes\":{\"axis_label\":\"\",\"bounds\":\"auto\",\"formatter\":{\"id\":\"19072\"},\"major_label_orientation\":\"horizontal\",\"ticker\":{\"id\":\"19048\"}},\"id\":\"19047\",\"type\":\"LinearAxis\"},{\"attributes\":{\"children\":[{\"id\":\"19031\"},{\"id\":\"19035\"},{\"id\":\"19093\"}],\"margin\":[0,0,0,0],\"name\":\"Row46273\",\"tags\":[\"embedded\"]},\"id\":\"19030\",\"type\":\"Row\"},{\"attributes\":{},\"id\":\"19055\",\"type\":\"ResetTool\"},{\"attributes\":{\"axis_label\":\"\",\"bounds\":\"auto\",\"formatter\":{\"id\":\"19073\"},\"major_label_orientation\":0.7853981633974483,\"ticker\":{\"id\":\"19045\"}},\"id\":\"19044\",\"type\":\"CategoricalAxis\"},{\"attributes\":{},\"id\":\"19042\",\"type\":\"LinearScale\"},{\"attributes\":{},\"id\":\"19052\",\"type\":\"PanTool\"},{\"attributes\":{\"axis\":{\"id\":\"19047\"},\"dimension\":1,\"grid_line_color\":null,\"ticker\":null},\"id\":\"19050\",\"type\":\"Grid\"},{\"attributes\":{},\"id\":\"19051\",\"type\":\"SaveTool\"},{\"attributes\":{},\"id\":\"19045\",\"type\":\"CategoricalTicker\"},{\"attributes\":{},\"id\":\"19084\",\"type\":\"UnionRenderers\"},{\"attributes\":{\"axis\":{\"id\":\"19044\"},\"grid_line_color\":null,\"ticker\":null},\"id\":\"19046\",\"type\":\"Grid\"}],\"root_ids\":[\"19030\"]},\"title\":\"Bokeh Application\",\"version\":\"2.1.1\"}};\n",
       "  var render_items = [{\"docid\":\"dcc98847-ad22-43ce-864f-46f0b89ab036\",\"root_ids\":[\"19030\"],\"roots\":{\"19030\":\"31c5a2eb-a73a-4226-9cd7-b69a9884c9e4\"}}];\n",
       "  root.Bokeh.embed.embed_items_notebook(docs_json, render_items);\n",
       "  }\n",
       "if (root.Bokeh !== undefined) {\n",
       "    embed_document(root);\n",
       "  } else {\n",
       "    var attempts = 0;\n",
       "    var timer = setInterval(function(root) {\n",
       "      if (root.Bokeh !== undefined) {\n",
       "        clearInterval(timer);\n",
       "        embed_document(root);\n",
       "      } else if (document.readyState == \"complete\") {\n",
       "        attempts++;\n",
       "        if (attempts > 100) {\n",
       "          clearInterval(timer);\n",
       "          console.log(\"Bokeh: ERROR: Unable to run BokehJS code because BokehJS library is missing\");\n",
       "        }\n",
       "      }\n",
       "    }, 10, root)\n",
       "  }\n",
       "})(window);</script>"
      ],
      "text/plain": [
       ":Bars   [index]   (0)"
      ]
     },
     "execution_count": 120,
     "metadata": {
      "application/vnd.holoviews_exec.v0+json": {
       "id": "19030"
      }
     },
     "output_type": "execute_result"
    }
   ],
   "source": [
    "(art_index_cum_returns*10).hvplot(kind=\"bar\", frame_width=1500, frame_height=500, rot=45).opts(yformatter=\"%.0f%%\")"
   ]
  },
  {
   "cell_type": "code",
   "execution_count": 121,
   "metadata": {},
   "outputs": [
    {
     "data": {
      "text/plain": [
       "Painting              0.042109\n",
       "France (EUR)          0.046412\n",
       "UK (GBP)              0.047550\n",
       "USA (USD)             0.053729\n",
       "Post-War              0.059306\n",
       "Sculpture             0.061725\n",
       "Print                 0.065150\n",
       "19th Century          0.065815\n",
       "Modern Art            0.076383\n",
       "Contemporary          0.076740\n",
       "Drawing               0.085314\n",
       "Photography           0.086507\n",
       "Global Index (EUR)    0.141442\n",
       "Global Index (USD)    0.146929\n",
       "dtype: float64"
      ]
     },
     "execution_count": 121,
     "metadata": {},
     "output_type": "execute_result"
    }
   ],
   "source": [
    "art_index_std = art_index_quarterly_returns.std().sort_values()\n",
    "art_index_std"
   ]
  },
  {
   "cell_type": "code",
   "execution_count": 122,
   "metadata": {},
   "outputs": [
    {
     "data": {
      "application/vnd.plotly.v1+json": {
       "config": {
        "plotlyServerURL": "https://plot.ly"
       },
       "data": [
        {
         "alignmentgroup": "True",
         "hovertemplate": "variable=0<br>index=%{x}<br>value=%{y}<extra></extra>",
         "legendgroup": "0",
         "marker": {
          "color": "#636efa"
         },
         "name": "0",
         "offsetgroup": "0",
         "orientation": "v",
         "showlegend": true,
         "textposition": "auto",
         "type": "bar",
         "x": [
          "Painting",
          "France (EUR)",
          "UK (GBP)",
          "USA (USD)",
          "Post-War",
          "Sculpture",
          "Print",
          "19th Century",
          "Modern Art",
          "Contemporary",
          "Drawing",
          "Photography",
          "Global Index (EUR)",
          "Global Index (USD)"
         ],
         "xaxis": "x",
         "y": [
          0.04210893803507958,
          0.04641240745946848,
          0.04755036360804882,
          0.05372860510622909,
          0.059306024939345475,
          0.06172461277330152,
          0.0651503761957847,
          0.0658154185709653,
          0.07638349947502003,
          0.07673980607551599,
          0.08531422555160138,
          0.08650655651146948,
          0.14144164042458005,
          0.14692864680658102
         ],
         "yaxis": "y"
        }
       ],
       "layout": {
        "autosize": true,
        "barmode": "relative",
        "legend": {
         "title": {
          "text": "variable"
         },
         "tracegroupgap": 0
        },
        "margin": {
         "t": 60
        },
        "template": {
         "data": {
          "bar": [
           {
            "error_x": {
             "color": "#2a3f5f"
            },
            "error_y": {
             "color": "#2a3f5f"
            },
            "marker": {
             "line": {
              "color": "#E5ECF6",
              "width": 0.5
             }
            },
            "type": "bar"
           }
          ],
          "barpolar": [
           {
            "marker": {
             "line": {
              "color": "#E5ECF6",
              "width": 0.5
             }
            },
            "type": "barpolar"
           }
          ],
          "carpet": [
           {
            "aaxis": {
             "endlinecolor": "#2a3f5f",
             "gridcolor": "white",
             "linecolor": "white",
             "minorgridcolor": "white",
             "startlinecolor": "#2a3f5f"
            },
            "baxis": {
             "endlinecolor": "#2a3f5f",
             "gridcolor": "white",
             "linecolor": "white",
             "minorgridcolor": "white",
             "startlinecolor": "#2a3f5f"
            },
            "type": "carpet"
           }
          ],
          "choropleth": [
           {
            "colorbar": {
             "outlinewidth": 0,
             "ticks": ""
            },
            "type": "choropleth"
           }
          ],
          "contour": [
           {
            "colorbar": {
             "outlinewidth": 0,
             "ticks": ""
            },
            "colorscale": [
             [
              0,
              "#0d0887"
             ],
             [
              0.1111111111111111,
              "#46039f"
             ],
             [
              0.2222222222222222,
              "#7201a8"
             ],
             [
              0.3333333333333333,
              "#9c179e"
             ],
             [
              0.4444444444444444,
              "#bd3786"
             ],
             [
              0.5555555555555556,
              "#d8576b"
             ],
             [
              0.6666666666666666,
              "#ed7953"
             ],
             [
              0.7777777777777778,
              "#fb9f3a"
             ],
             [
              0.8888888888888888,
              "#fdca26"
             ],
             [
              1,
              "#f0f921"
             ]
            ],
            "type": "contour"
           }
          ],
          "contourcarpet": [
           {
            "colorbar": {
             "outlinewidth": 0,
             "ticks": ""
            },
            "type": "contourcarpet"
           }
          ],
          "heatmap": [
           {
            "colorbar": {
             "outlinewidth": 0,
             "ticks": ""
            },
            "colorscale": [
             [
              0,
              "#0d0887"
             ],
             [
              0.1111111111111111,
              "#46039f"
             ],
             [
              0.2222222222222222,
              "#7201a8"
             ],
             [
              0.3333333333333333,
              "#9c179e"
             ],
             [
              0.4444444444444444,
              "#bd3786"
             ],
             [
              0.5555555555555556,
              "#d8576b"
             ],
             [
              0.6666666666666666,
              "#ed7953"
             ],
             [
              0.7777777777777778,
              "#fb9f3a"
             ],
             [
              0.8888888888888888,
              "#fdca26"
             ],
             [
              1,
              "#f0f921"
             ]
            ],
            "type": "heatmap"
           }
          ],
          "heatmapgl": [
           {
            "colorbar": {
             "outlinewidth": 0,
             "ticks": ""
            },
            "colorscale": [
             [
              0,
              "#0d0887"
             ],
             [
              0.1111111111111111,
              "#46039f"
             ],
             [
              0.2222222222222222,
              "#7201a8"
             ],
             [
              0.3333333333333333,
              "#9c179e"
             ],
             [
              0.4444444444444444,
              "#bd3786"
             ],
             [
              0.5555555555555556,
              "#d8576b"
             ],
             [
              0.6666666666666666,
              "#ed7953"
             ],
             [
              0.7777777777777778,
              "#fb9f3a"
             ],
             [
              0.8888888888888888,
              "#fdca26"
             ],
             [
              1,
              "#f0f921"
             ]
            ],
            "type": "heatmapgl"
           }
          ],
          "histogram": [
           {
            "marker": {
             "colorbar": {
              "outlinewidth": 0,
              "ticks": ""
             }
            },
            "type": "histogram"
           }
          ],
          "histogram2d": [
           {
            "colorbar": {
             "outlinewidth": 0,
             "ticks": ""
            },
            "colorscale": [
             [
              0,
              "#0d0887"
             ],
             [
              0.1111111111111111,
              "#46039f"
             ],
             [
              0.2222222222222222,
              "#7201a8"
             ],
             [
              0.3333333333333333,
              "#9c179e"
             ],
             [
              0.4444444444444444,
              "#bd3786"
             ],
             [
              0.5555555555555556,
              "#d8576b"
             ],
             [
              0.6666666666666666,
              "#ed7953"
             ],
             [
              0.7777777777777778,
              "#fb9f3a"
             ],
             [
              0.8888888888888888,
              "#fdca26"
             ],
             [
              1,
              "#f0f921"
             ]
            ],
            "type": "histogram2d"
           }
          ],
          "histogram2dcontour": [
           {
            "colorbar": {
             "outlinewidth": 0,
             "ticks": ""
            },
            "colorscale": [
             [
              0,
              "#0d0887"
             ],
             [
              0.1111111111111111,
              "#46039f"
             ],
             [
              0.2222222222222222,
              "#7201a8"
             ],
             [
              0.3333333333333333,
              "#9c179e"
             ],
             [
              0.4444444444444444,
              "#bd3786"
             ],
             [
              0.5555555555555556,
              "#d8576b"
             ],
             [
              0.6666666666666666,
              "#ed7953"
             ],
             [
              0.7777777777777778,
              "#fb9f3a"
             ],
             [
              0.8888888888888888,
              "#fdca26"
             ],
             [
              1,
              "#f0f921"
             ]
            ],
            "type": "histogram2dcontour"
           }
          ],
          "mesh3d": [
           {
            "colorbar": {
             "outlinewidth": 0,
             "ticks": ""
            },
            "type": "mesh3d"
           }
          ],
          "parcoords": [
           {
            "line": {
             "colorbar": {
              "outlinewidth": 0,
              "ticks": ""
             }
            },
            "type": "parcoords"
           }
          ],
          "pie": [
           {
            "automargin": true,
            "type": "pie"
           }
          ],
          "scatter": [
           {
            "marker": {
             "colorbar": {
              "outlinewidth": 0,
              "ticks": ""
             }
            },
            "type": "scatter"
           }
          ],
          "scatter3d": [
           {
            "line": {
             "colorbar": {
              "outlinewidth": 0,
              "ticks": ""
             }
            },
            "marker": {
             "colorbar": {
              "outlinewidth": 0,
              "ticks": ""
             }
            },
            "type": "scatter3d"
           }
          ],
          "scattercarpet": [
           {
            "marker": {
             "colorbar": {
              "outlinewidth": 0,
              "ticks": ""
             }
            },
            "type": "scattercarpet"
           }
          ],
          "scattergeo": [
           {
            "marker": {
             "colorbar": {
              "outlinewidth": 0,
              "ticks": ""
             }
            },
            "type": "scattergeo"
           }
          ],
          "scattergl": [
           {
            "marker": {
             "colorbar": {
              "outlinewidth": 0,
              "ticks": ""
             }
            },
            "type": "scattergl"
           }
          ],
          "scattermapbox": [
           {
            "marker": {
             "colorbar": {
              "outlinewidth": 0,
              "ticks": ""
             }
            },
            "type": "scattermapbox"
           }
          ],
          "scatterpolar": [
           {
            "marker": {
             "colorbar": {
              "outlinewidth": 0,
              "ticks": ""
             }
            },
            "type": "scatterpolar"
           }
          ],
          "scatterpolargl": [
           {
            "marker": {
             "colorbar": {
              "outlinewidth": 0,
              "ticks": ""
             }
            },
            "type": "scatterpolargl"
           }
          ],
          "scatterternary": [
           {
            "marker": {
             "colorbar": {
              "outlinewidth": 0,
              "ticks": ""
             }
            },
            "type": "scatterternary"
           }
          ],
          "surface": [
           {
            "colorbar": {
             "outlinewidth": 0,
             "ticks": ""
            },
            "colorscale": [
             [
              0,
              "#0d0887"
             ],
             [
              0.1111111111111111,
              "#46039f"
             ],
             [
              0.2222222222222222,
              "#7201a8"
             ],
             [
              0.3333333333333333,
              "#9c179e"
             ],
             [
              0.4444444444444444,
              "#bd3786"
             ],
             [
              0.5555555555555556,
              "#d8576b"
             ],
             [
              0.6666666666666666,
              "#ed7953"
             ],
             [
              0.7777777777777778,
              "#fb9f3a"
             ],
             [
              0.8888888888888888,
              "#fdca26"
             ],
             [
              1,
              "#f0f921"
             ]
            ],
            "type": "surface"
           }
          ],
          "table": [
           {
            "cells": {
             "fill": {
              "color": "#EBF0F8"
             },
             "line": {
              "color": "white"
             }
            },
            "header": {
             "fill": {
              "color": "#C8D4E3"
             },
             "line": {
              "color": "white"
             }
            },
            "type": "table"
           }
          ]
         },
         "layout": {
          "annotationdefaults": {
           "arrowcolor": "#2a3f5f",
           "arrowhead": 0,
           "arrowwidth": 1
          },
          "coloraxis": {
           "colorbar": {
            "outlinewidth": 0,
            "ticks": ""
           }
          },
          "colorscale": {
           "diverging": [
            [
             0,
             "#8e0152"
            ],
            [
             0.1,
             "#c51b7d"
            ],
            [
             0.2,
             "#de77ae"
            ],
            [
             0.3,
             "#f1b6da"
            ],
            [
             0.4,
             "#fde0ef"
            ],
            [
             0.5,
             "#f7f7f7"
            ],
            [
             0.6,
             "#e6f5d0"
            ],
            [
             0.7,
             "#b8e186"
            ],
            [
             0.8,
             "#7fbc41"
            ],
            [
             0.9,
             "#4d9221"
            ],
            [
             1,
             "#276419"
            ]
           ],
           "sequential": [
            [
             0,
             "#0d0887"
            ],
            [
             0.1111111111111111,
             "#46039f"
            ],
            [
             0.2222222222222222,
             "#7201a8"
            ],
            [
             0.3333333333333333,
             "#9c179e"
            ],
            [
             0.4444444444444444,
             "#bd3786"
            ],
            [
             0.5555555555555556,
             "#d8576b"
            ],
            [
             0.6666666666666666,
             "#ed7953"
            ],
            [
             0.7777777777777778,
             "#fb9f3a"
            ],
            [
             0.8888888888888888,
             "#fdca26"
            ],
            [
             1,
             "#f0f921"
            ]
           ],
           "sequentialminus": [
            [
             0,
             "#0d0887"
            ],
            [
             0.1111111111111111,
             "#46039f"
            ],
            [
             0.2222222222222222,
             "#7201a8"
            ],
            [
             0.3333333333333333,
             "#9c179e"
            ],
            [
             0.4444444444444444,
             "#bd3786"
            ],
            [
             0.5555555555555556,
             "#d8576b"
            ],
            [
             0.6666666666666666,
             "#ed7953"
            ],
            [
             0.7777777777777778,
             "#fb9f3a"
            ],
            [
             0.8888888888888888,
             "#fdca26"
            ],
            [
             1,
             "#f0f921"
            ]
           ]
          },
          "colorway": [
           "#636efa",
           "#EF553B",
           "#00cc96",
           "#ab63fa",
           "#FFA15A",
           "#19d3f3",
           "#FF6692",
           "#B6E880",
           "#FF97FF",
           "#FECB52"
          ],
          "font": {
           "color": "#2a3f5f"
          },
          "geo": {
           "bgcolor": "white",
           "lakecolor": "white",
           "landcolor": "#E5ECF6",
           "showlakes": true,
           "showland": true,
           "subunitcolor": "white"
          },
          "hoverlabel": {
           "align": "left"
          },
          "hovermode": "closest",
          "mapbox": {
           "style": "light"
          },
          "paper_bgcolor": "white",
          "plot_bgcolor": "#E5ECF6",
          "polar": {
           "angularaxis": {
            "gridcolor": "white",
            "linecolor": "white",
            "ticks": ""
           },
           "bgcolor": "#E5ECF6",
           "radialaxis": {
            "gridcolor": "white",
            "linecolor": "white",
            "ticks": ""
           }
          },
          "scene": {
           "xaxis": {
            "backgroundcolor": "#E5ECF6",
            "gridcolor": "white",
            "gridwidth": 2,
            "linecolor": "white",
            "showbackground": true,
            "ticks": "",
            "zerolinecolor": "white"
           },
           "yaxis": {
            "backgroundcolor": "#E5ECF6",
            "gridcolor": "white",
            "gridwidth": 2,
            "linecolor": "white",
            "showbackground": true,
            "ticks": "",
            "zerolinecolor": "white"
           },
           "zaxis": {
            "backgroundcolor": "#E5ECF6",
            "gridcolor": "white",
            "gridwidth": 2,
            "linecolor": "white",
            "showbackground": true,
            "ticks": "",
            "zerolinecolor": "white"
           }
          },
          "shapedefaults": {
           "line": {
            "color": "#2a3f5f"
           }
          },
          "ternary": {
           "aaxis": {
            "gridcolor": "white",
            "linecolor": "white",
            "ticks": ""
           },
           "baxis": {
            "gridcolor": "white",
            "linecolor": "white",
            "ticks": ""
           },
           "bgcolor": "#E5ECF6",
           "caxis": {
            "gridcolor": "white",
            "linecolor": "white",
            "ticks": ""
           }
          },
          "title": {
           "x": 0.05
          },
          "xaxis": {
           "automargin": true,
           "gridcolor": "white",
           "linecolor": "white",
           "ticks": "",
           "title": {
            "standoff": 15
           },
           "zerolinecolor": "white",
           "zerolinewidth": 2
          },
          "yaxis": {
           "automargin": true,
           "gridcolor": "white",
           "linecolor": "white",
           "ticks": "",
           "title": {
            "standoff": 15
           },
           "zerolinecolor": "white",
           "zerolinewidth": 2
          }
         }
        },
        "xaxis": {
         "anchor": "y",
         "autorange": true,
         "domain": [
          0,
          1
         ],
         "range": [
          -0.5,
          13.5
         ],
         "title": {
          "text": "index"
         },
         "type": "category"
        },
        "yaxis": {
         "anchor": "x",
         "autorange": true,
         "domain": [
          0,
          1
         ],
         "range": [
          0,
          0.1546617334806116
         ],
         "title": {
          "text": "value"
         },
         "type": "linear"
        }
       }
      },
      "image/png": "[encoded data removed]",
      "text/html": [
       "<div>                            <div id=\"4fd69478-29f9-420c-998a-e20cd4a6fee2\" class=\"plotly-graph-div\" style=\"height:525px; width:100%;\"></div>            <script type=\"text/javascript\">                require([\"plotly\"], function(Plotly) {                    window.PLOTLYENV=window.PLOTLYENV || {};                                    if (document.getElementById(\"4fd69478-29f9-420c-998a-e20cd4a6fee2\")) {                    Plotly.newPlot(                        \"4fd69478-29f9-420c-998a-e20cd4a6fee2\",                        [{\"alignmentgroup\": \"True\", \"hovertemplate\": \"variable=0<br>index=%{x}<br>value=%{y}<extra></extra>\", \"legendgroup\": \"0\", \"marker\": {\"color\": \"#636efa\"}, \"name\": \"0\", \"offsetgroup\": \"0\", \"orientation\": \"v\", \"showlegend\": true, \"textposition\": \"auto\", \"type\": \"bar\", \"x\": [\"Painting\", \"France (EUR)\", \"UK (GBP)\", \"USA (USD)\", \"Post-War\", \"Sculpture\", \"Print\", \"19th Century\", \"Modern Art\", \"Contemporary\", \"Drawing\", \"Photography\", \"Global Index (EUR)\", \"Global Index (USD)\"], \"xaxis\": \"x\", \"y\": [0.04210893803507958, 0.04641240745946848, 0.04755036360804882, 0.05372860510622909, 0.059306024939345475, 0.06172461277330152, 0.0651503761957847, 0.0658154185709653, 0.07638349947502003, 0.07673980607551599, 0.08531422555160138, 0.08650655651146948, 0.14144164042458005, 0.14692864680658102], \"yaxis\": \"y\"}],                        {\"barmode\": \"relative\", \"legend\": {\"title\": {\"text\": \"variable\"}, \"tracegroupgap\": 0}, \"margin\": {\"t\": 60}, \"template\": {\"data\": {\"bar\": [{\"error_x\": {\"color\": \"#2a3f5f\"}, \"error_y\": {\"color\": \"#2a3f5f\"}, \"marker\": {\"line\": {\"color\": \"#E5ECF6\", \"width\": 0.5}}, \"type\": \"bar\"}], \"barpolar\": [{\"marker\": {\"line\": {\"color\": \"#E5ECF6\", \"width\": 0.5}}, \"type\": \"barpolar\"}], \"carpet\": [{\"aaxis\": {\"endlinecolor\": \"#2a3f5f\", \"gridcolor\": \"white\", \"linecolor\": \"white\", \"minorgridcolor\": \"white\", \"startlinecolor\": \"#2a3f5f\"}, \"baxis\": {\"endlinecolor\": \"#2a3f5f\", \"gridcolor\": \"white\", \"linecolor\": \"white\", \"minorgridcolor\": \"white\", \"startlinecolor\": \"#2a3f5f\"}, \"type\": \"carpet\"}], \"choropleth\": [{\"colorbar\": {\"outlinewidth\": 0, \"ticks\": \"\"}, \"type\": \"choropleth\"}], \"contour\": [{\"colorbar\": {\"outlinewidth\": 0, \"ticks\": \"\"}, \"colorscale\": [[0.0, \"#0d0887\"], [0.1111111111111111, \"#46039f\"], [0.2222222222222222, \"#7201a8\"], [0.3333333333333333, \"#9c179e\"], [0.4444444444444444, \"#bd3786\"], [0.5555555555555556, \"#d8576b\"], [0.6666666666666666, \"#ed7953\"], [0.7777777777777778, \"#fb9f3a\"], [0.8888888888888888, \"#fdca26\"], [1.0, \"#f0f921\"]], \"type\": \"contour\"}], \"contourcarpet\": [{\"colorbar\": {\"outlinewidth\": 0, \"ticks\": \"\"}, \"type\": \"contourcarpet\"}], \"heatmap\": [{\"colorbar\": {\"outlinewidth\": 0, \"ticks\": \"\"}, \"colorscale\": [[0.0, \"#0d0887\"], [0.1111111111111111, \"#46039f\"], [0.2222222222222222, \"#7201a8\"], [0.3333333333333333, \"#9c179e\"], [0.4444444444444444, \"#bd3786\"], [0.5555555555555556, \"#d8576b\"], [0.6666666666666666, \"#ed7953\"], [0.7777777777777778, \"#fb9f3a\"], [0.8888888888888888, \"#fdca26\"], [1.0, \"#f0f921\"]], \"type\": \"heatmap\"}], \"heatmapgl\": [{\"colorbar\": {\"outlinewidth\": 0, \"ticks\": \"\"}, \"colorscale\": [[0.0, \"#0d0887\"], [0.1111111111111111, \"#46039f\"], [0.2222222222222222, \"#7201a8\"], [0.3333333333333333, \"#9c179e\"], [0.4444444444444444, \"#bd3786\"], [0.5555555555555556, \"#d8576b\"], [0.6666666666666666, \"#ed7953\"], [0.7777777777777778, \"#fb9f3a\"], [0.8888888888888888, \"#fdca26\"], [1.0, \"#f0f921\"]], \"type\": \"heatmapgl\"}], \"histogram\": [{\"marker\": {\"colorbar\": {\"outlinewidth\": 0, \"ticks\": \"\"}}, \"type\": \"histogram\"}], \"histogram2d\": [{\"colorbar\": {\"outlinewidth\": 0, \"ticks\": \"\"}, \"colorscale\": [[0.0, \"#0d0887\"], [0.1111111111111111, \"#46039f\"], [0.2222222222222222, \"#7201a8\"], [0.3333333333333333, \"#9c179e\"], [0.4444444444444444, \"#bd3786\"], [0.5555555555555556, \"#d8576b\"], [0.6666666666666666, \"#ed7953\"], [0.7777777777777778, \"#fb9f3a\"], [0.8888888888888888, \"#fdca26\"], [1.0, \"#f0f921\"]], \"type\": \"histogram2d\"}], \"histogram2dcontour\": [{\"colorbar\": {\"outlinewidth\": 0, \"ticks\": \"\"}, \"colorscale\": [[0.0, \"#0d0887\"], [0.1111111111111111, \"#46039f\"], [0.2222222222222222, \"#7201a8\"], [0.3333333333333333, \"#9c179e\"], [0.4444444444444444, \"#bd3786\"], [0.5555555555555556, \"#d8576b\"], [0.6666666666666666, \"#ed7953\"], [0.7777777777777778, \"#fb9f3a\"], [0.8888888888888888, \"#fdca26\"], [1.0, \"#f0f921\"]], \"type\": \"histogram2dcontour\"}], \"mesh3d\": [{\"colorbar\": {\"outlinewidth\": 0, \"ticks\": \"\"}, \"type\": \"mesh3d\"}], \"parcoords\": [{\"line\": {\"colorbar\": {\"outlinewidth\": 0, \"ticks\": \"\"}}, \"type\": \"parcoords\"}], \"pie\": [{\"automargin\": true, \"type\": \"pie\"}], \"scatter\": [{\"marker\": {\"colorbar\": {\"outlinewidth\": 0, \"ticks\": \"\"}}, \"type\": \"scatter\"}], \"scatter3d\": [{\"line\": {\"colorbar\": {\"outlinewidth\": 0, \"ticks\": \"\"}}, \"marker\": {\"colorbar\": {\"outlinewidth\": 0, \"ticks\": \"\"}}, \"type\": \"scatter3d\"}], \"scattercarpet\": [{\"marker\": {\"colorbar\": {\"outlinewidth\": 0, \"ticks\": \"\"}}, \"type\": \"scattercarpet\"}], \"scattergeo\": [{\"marker\": {\"colorbar\": {\"outlinewidth\": 0, \"ticks\": \"\"}}, \"type\": \"scattergeo\"}], \"scattergl\": [{\"marker\": {\"colorbar\": {\"outlinewidth\": 0, \"ticks\": \"\"}}, \"type\": \"scattergl\"}], \"scattermapbox\": [{\"marker\": {\"colorbar\": {\"outlinewidth\": 0, \"ticks\": \"\"}}, \"type\": \"scattermapbox\"}], \"scatterpolar\": [{\"marker\": {\"colorbar\": {\"outlinewidth\": 0, \"ticks\": \"\"}}, \"type\": \"scatterpolar\"}], \"scatterpolargl\": [{\"marker\": {\"colorbar\": {\"outlinewidth\": 0, \"ticks\": \"\"}}, \"type\": \"scatterpolargl\"}], \"scatterternary\": [{\"marker\": {\"colorbar\": {\"outlinewidth\": 0, \"ticks\": \"\"}}, \"type\": \"scatterternary\"}], \"surface\": [{\"colorbar\": {\"outlinewidth\": 0, \"ticks\": \"\"}, \"colorscale\": [[0.0, \"#0d0887\"], [0.1111111111111111, \"#46039f\"], [0.2222222222222222, \"#7201a8\"], [0.3333333333333333, \"#9c179e\"], [0.4444444444444444, \"#bd3786\"], [0.5555555555555556, \"#d8576b\"], [0.6666666666666666, \"#ed7953\"], [0.7777777777777778, \"#fb9f3a\"], [0.8888888888888888, \"#fdca26\"], [1.0, \"#f0f921\"]], \"type\": \"surface\"}], \"table\": [{\"cells\": {\"fill\": {\"color\": \"#EBF0F8\"}, \"line\": {\"color\": \"white\"}}, \"header\": {\"fill\": {\"color\": \"#C8D4E3\"}, \"line\": {\"color\": \"white\"}}, \"type\": \"table\"}]}, \"layout\": {\"annotationdefaults\": {\"arrowcolor\": \"#2a3f5f\", \"arrowhead\": 0, \"arrowwidth\": 1}, \"coloraxis\": {\"colorbar\": {\"outlinewidth\": 0, \"ticks\": \"\"}}, \"colorscale\": {\"diverging\": [[0, \"#8e0152\"], [0.1, \"#c51b7d\"], [0.2, \"#de77ae\"], [0.3, \"#f1b6da\"], [0.4, \"#fde0ef\"], [0.5, \"#f7f7f7\"], [0.6, \"#e6f5d0\"], [0.7, \"#b8e186\"], [0.8, \"#7fbc41\"], [0.9, \"#4d9221\"], [1, \"#276419\"]], \"sequential\": [[0.0, \"#0d0887\"], [0.1111111111111111, \"#46039f\"], [0.2222222222222222, \"#7201a8\"], [0.3333333333333333, \"#9c179e\"], [0.4444444444444444, \"#bd3786\"], [0.5555555555555556, \"#d8576b\"], [0.6666666666666666, \"#ed7953\"], [0.7777777777777778, \"#fb9f3a\"], [0.8888888888888888, \"#fdca26\"], [1.0, \"#f0f921\"]], \"sequentialminus\": [[0.0, \"#0d0887\"], [0.1111111111111111, \"#46039f\"], [0.2222222222222222, \"#7201a8\"], [0.3333333333333333, \"#9c179e\"], [0.4444444444444444, \"#bd3786\"], [0.5555555555555556, \"#d8576b\"], [0.6666666666666666, \"#ed7953\"], [0.7777777777777778, \"#fb9f3a\"], [0.8888888888888888, \"#fdca26\"], [1.0, \"#f0f921\"]]}, \"colorway\": [\"#636efa\", \"#EF553B\", \"#00cc96\", \"#ab63fa\", \"#FFA15A\", \"#19d3f3\", \"#FF6692\", \"#B6E880\", \"#FF97FF\", \"#FECB52\"], \"font\": {\"color\": \"#2a3f5f\"}, \"geo\": {\"bgcolor\": \"white\", \"lakecolor\": \"white\", \"landcolor\": \"#E5ECF6\", \"showlakes\": true, \"showland\": true, \"subunitcolor\": \"white\"}, \"hoverlabel\": {\"align\": \"left\"}, \"hovermode\": \"closest\", \"mapbox\": {\"style\": \"light\"}, \"paper_bgcolor\": \"white\", \"plot_bgcolor\": \"#E5ECF6\", \"polar\": {\"angularaxis\": {\"gridcolor\": \"white\", \"linecolor\": \"white\", \"ticks\": \"\"}, \"bgcolor\": \"#E5ECF6\", \"radialaxis\": {\"gridcolor\": \"white\", \"linecolor\": \"white\", \"ticks\": \"\"}}, \"scene\": {\"xaxis\": {\"backgroundcolor\": \"#E5ECF6\", \"gridcolor\": \"white\", \"gridwidth\": 2, \"linecolor\": \"white\", \"showbackground\": true, \"ticks\": \"\", \"zerolinecolor\": \"white\"}, \"yaxis\": {\"backgroundcolor\": \"#E5ECF6\", \"gridcolor\": \"white\", \"gridwidth\": 2, \"linecolor\": \"white\", \"showbackground\": true, \"ticks\": \"\", \"zerolinecolor\": \"white\"}, \"zaxis\": {\"backgroundcolor\": \"#E5ECF6\", \"gridcolor\": \"white\", \"gridwidth\": 2, \"linecolor\": \"white\", \"showbackground\": true, \"ticks\": \"\", \"zerolinecolor\": \"white\"}}, \"shapedefaults\": {\"line\": {\"color\": \"#2a3f5f\"}}, \"ternary\": {\"aaxis\": {\"gridcolor\": \"white\", \"linecolor\": \"white\", \"ticks\": \"\"}, \"baxis\": {\"gridcolor\": \"white\", \"linecolor\": \"white\", \"ticks\": \"\"}, \"bgcolor\": \"#E5ECF6\", \"caxis\": {\"gridcolor\": \"white\", \"linecolor\": \"white\", \"ticks\": \"\"}}, \"title\": {\"x\": 0.05}, \"xaxis\": {\"automargin\": true, \"gridcolor\": \"white\", \"linecolor\": \"white\", \"ticks\": \"\", \"title\": {\"standoff\": 15}, \"zerolinecolor\": \"white\", \"zerolinewidth\": 2}, \"yaxis\": {\"automargin\": true, \"gridcolor\": \"white\", \"linecolor\": \"white\", \"ticks\": \"\", \"title\": {\"standoff\": 15}, \"zerolinecolor\": \"white\", \"zerolinewidth\": 2}}}, \"xaxis\": {\"anchor\": \"y\", \"domain\": [0.0, 1.0], \"title\": {\"text\": \"index\"}}, \"yaxis\": {\"anchor\": \"x\", \"domain\": [0.0, 1.0], \"title\": {\"text\": \"value\"}}},                        {\"responsive\": true}                    ).then(function(){\n",
       "                            \n",
       "var gd = document.getElementById('4fd69478-29f9-420c-998a-e20cd4a6fee2');\n",
       "var x = new MutationObserver(function (mutations, observer) {{\n",
       "        var display = window.getComputedStyle(gd).display;\n",
       "        if (!display || display === 'none') {{\n",
       "            console.log([gd, 'removed!']);\n",
       "            Plotly.purge(gd);\n",
       "            observer.disconnect();\n",
       "        }}\n",
       "}});\n",
       "\n",
       "// Listen for the removal of the full notebook cells\n",
       "var notebookContainer = gd.closest('#notebook-container');\n",
       "if (notebookContainer) {{\n",
       "    x.observe(notebookContainer, {childList: true});\n",
       "}}\n",
       "\n",
       "// Listen for the clearing of the current output cell\n",
       "var outputEl = gd.closest('.output');\n",
       "if (outputEl) {{\n",
       "    x.observe(outputEl, {childList: true});\n",
       "}}\n",
       "\n",
       "                        })                };                });            </script>        </div>"
      ]
     },
     "metadata": {},
     "output_type": "display_data"
    }
   ],
   "source": [
    "art_index_std_box = px.bar(art_index_std)\n",
    "art_index_std_box"
   ]
  },
  {
   "cell_type": "code",
   "execution_count": null,
   "metadata": {},
   "outputs": [],
   "source": []
  }
 ],
 "metadata": {
  "kernelspec": {
   "display_name": "Python 3",
   "language": "python",
   "name": "python3"
  },
  "language_info": {
   "codemirror_mode": {
    "name": "ipython",
    "version": 3
   },
   "file_extension": ".py",
   "mimetype": "text/x-python",
   "name": "python",
   "nbconvert_exporter": "python",
   "pygments_lexer": "ipython3",
   "version": "3.7.7"
  }
 },
 "nbformat": 4,
 "nbformat_minor": 4
}
