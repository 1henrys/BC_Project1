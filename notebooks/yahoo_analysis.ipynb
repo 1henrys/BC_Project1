{
 "cells": [
  {
   "cell_type": "code",
   "execution_count": 1,
   "metadata": {},
   "outputs": [],
   "source": [
    "import yfinance as yf"
   ]
  },
  {
   "cell_type": "code",
   "execution_count": 2,
   "metadata": {},
   "outputs": [
    {
     "name": "stdout",
     "output_type": "stream",
     "text": [
      "yfinance.Ticker object <XAUUSD=X>\n"
     ]
    }
   ],
   "source": [
    "test_ticker = yf.Ticker(\"XAUUSD=X\")\n",
    "print(test_ticker)"
   ]
  },
  {
   "cell_type": "code",
   "execution_count": 3,
   "metadata": {},
   "outputs": [
    {
     "data": {
      "text/plain": [
       "{'previousClose': 1293.2997,\n",
       " 'regularMarketOpen': 1295.8,\n",
       " 'twoHundredDayAverage': None,\n",
       " 'trailingAnnualDividendYield': None,\n",
       " 'payoutRatio': None,\n",
       " 'volume24Hr': None,\n",
       " 'regularMarketDayHigh': 1299.0995,\n",
       " 'navPrice': None,\n",
       " 'averageDailyVolume10Day': None,\n",
       " 'totalAssets': None,\n",
       " 'regularMarketPreviousClose': 1293.2997,\n",
       " 'fiftyDayAverage': None,\n",
       " 'trailingAnnualDividendRate': None,\n",
       " 'open': 1295.8,\n",
       " 'toCurrency': None,\n",
       " 'averageVolume10days': None,\n",
       " 'expireDate': None,\n",
       " 'yield': None,\n",
       " 'algorithm': None,\n",
       " 'dividendRate': None,\n",
       " 'exDividendDate': None,\n",
       " 'beta': None,\n",
       " 'circulatingSupply': None,\n",
       " 'startDate': None,\n",
       " 'regularMarketDayLow': 1293.1992,\n",
       " 'priceHint': 4,\n",
       " 'currency': 'USD',\n",
       " 'regularMarketVolume': 0,\n",
       " 'lastMarket': None,\n",
       " 'maxSupply': None,\n",
       " 'openInterest': None,\n",
       " 'marketCap': None,\n",
       " 'volumeAllCurrencies': None,\n",
       " 'strikePrice': None,\n",
       " 'averageVolume': None,\n",
       " 'priceToSalesTrailing12Months': None,\n",
       " 'dayLow': 1293.1992,\n",
       " 'ask': 0,\n",
       " 'ytdReturn': None,\n",
       " 'askSize': 0,\n",
       " 'volume': 0,\n",
       " 'fiftyTwoWeekHigh': 1299.0995,\n",
       " 'forwardPE': None,\n",
       " 'maxAge': 1,\n",
       " 'fromCurrency': None,\n",
       " 'fiveYearAvgDividendYield': None,\n",
       " 'fiftyTwoWeekLow': 1293.1992,\n",
       " 'bid': 0,\n",
       " 'tradeable': False,\n",
       " 'dividendYield': None,\n",
       " 'bidSize': 0,\n",
       " 'dayHigh': 1299.0995,\n",
       " 'exchange': 'CCY',\n",
       " 'shortName': 'GOLD 1 OZ',\n",
       " 'exchangeTimezoneName': 'Europe/London',\n",
       " 'exchangeTimezoneShortName': 'GMT',\n",
       " 'isEsgPopulated': False,\n",
       " 'gmtOffSetMilliseconds': '0',\n",
       " 'quoteType': 'CURRENCY',\n",
       " 'symbol': 'XAUUSD=X',\n",
       " 'messageBoardId': 'finmb_XAU_X',\n",
       " 'market': 'ccy_market',\n",
       " 'regularMarketPrice': 1295.8,\n",
       " 'logo_url': ''}"
      ]
     },
     "execution_count": 3,
     "metadata": {},
     "output_type": "execute_result"
    }
   ],
   "source": [
    "test_ticker.info"
   ]
  },
  {
   "cell_type": "code",
   "execution_count": null,
   "metadata": {},
   "outputs": [],
   "source": []
  }
 ],
 "metadata": {
  "kernelspec": {
   "display_name": "Python 3",
   "language": "python",
   "name": "python3"
  },
  "language_info": {
   "codemirror_mode": {
    "name": "ipython",
    "version": 3
   },
   "file_extension": ".py",
   "mimetype": "text/x-python",
   "name": "python",
   "nbconvert_exporter": "python",
   "pygments_lexer": "ipython3",
   "version": "3.8.3"
  }
 },
 "nbformat": 4,
 "nbformat_minor": 4
}
