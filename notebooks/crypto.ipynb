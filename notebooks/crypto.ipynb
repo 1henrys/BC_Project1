{
 "cells": [
  {
   "cell_type": "code",
   "execution_count": 63,
   "metadata": {},
   "outputs": [],
   "source": [
    "import pandas as pd\n",
    "import requests\n",
    "import dotenv\n",
    "import os\n",
    "import json\n",
    "from pathlib import Path\n",
    "import numpy\n",
    "import datetime\n",
    "from datetime import datetime\n",
    "import dateutil.parser\n",
    "import urllib.request"
   ]
  },
  {
   "cell_type": "code",
   "execution_count": 64,
   "metadata": {},
   "outputs": [],
   "source": [
    "start_date = '2012-01-01'\n",
    "end_date = '2020-11-10'\n",
    "date_range = {'start': start_date, 'end': end_date}\n",
    "\n",
    "#request_url = https://api.nomics.com/v1/currencies/ticker?key=demo-26240835858194712a4f8cc0dc635c7a&ids=BTC,ETH,XRP&interval=1d,30d&convert=EUR&per-page=100&page=1\n",
    "request_url = \"https://api.coindesk.com/v1/bpi/historical/close.json\""
   ]
  },
  {
   "cell_type": "code",
   "execution_count": 65,
   "metadata": {},
   "outputs": [],
   "source": [
    "# Execute get request\n",
    "response_data = requests.get(request_url, date_range)\n",
    "data = response_data.json()\n",
    "bpi_list = data[\"bpi\"]"
   ]
  },
  {
   "cell_type": "code",
   "execution_count": 67,
   "metadata": {},
   "outputs": [
    {
     "name": "stdout",
     "output_type": "stream",
     "text": [
      "date           datetime64[ns]\n",
      "bpi_closing           float64\n",
      "asset                  object\n",
      "dtype: object\n",
      "            bpi_closing         asset\n",
      "date                                 \n",
      "2012-01-01       5.2677  Crypto Index\n",
      "2012-01-02       5.2168  Crypto Index\n",
      "2012-01-03       4.8808  Crypto Index\n",
      "2012-01-04       5.5738  Crypto Index\n",
      "2012-01-05       6.9476  Crypto Index\n",
      "...                 ...           ...\n",
      "2020-10-31   13797.1033  Crypto Index\n",
      "2020-11-01   13762.9700  Crypto Index\n",
      "2020-11-02   13567.2233  Crypto Index\n",
      "2020-11-03   14030.7900  Crypto Index\n",
      "2020-11-04   14158.8100  Crypto Index\n",
      "\n",
      "[3231 rows x 2 columns]\n"
     ]
    }
   ],
   "source": [
    "bpi_df = pd.DataFrame.from_dict(bpi_list, orient='index', columns=['bpi_closing'])\n",
    "bpi_df.index.name = 'date'\n",
    "\n",
    "bpi_df = bpi_df.reset_index()\n",
    "bpi_df['date'] = pd.to_datetime(bpi_df['date'], format='%Y-%m-%d')\n",
    "bpi_df['asset'] = \"Crypto Index\"\n",
    "print(bpi_df.dtypes)\n",
    "\n",
    "bpi_df = bpi_df.set_index(['date'])\n",
    "\n",
    "print(bpi_df)"
   ]
  },
  {
   "cell_type": "code",
   "execution_count": null,
   "metadata": {},
   "outputs": [],
   "source": []
  }
 ],
 "metadata": {
  "kernelspec": {
   "display_name": "Python 3",
   "language": "python",
   "name": "python3"
  },
  "language_info": {
   "codemirror_mode": {
    "name": "ipython",
    "version": 3
   },
   "file_extension": ".py",
   "mimetype": "text/x-python",
   "name": "python",
   "nbconvert_exporter": "python",
   "pygments_lexer": "ipython3",
   "version": "3.8.3"
  }
 },
 "nbformat": 4,
 "nbformat_minor": 4
}
