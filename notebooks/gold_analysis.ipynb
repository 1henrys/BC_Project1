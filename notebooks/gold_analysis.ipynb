{
 "cells": [
  {
   "cell_type": "code",
   "execution_count": 53,
   "metadata": {},
   "outputs": [
    {
     "data": {
      "text/plain": [
       "True"
      ]
     },
     "execution_count": 53,
     "metadata": {},
     "output_type": "execute_result"
    }
   ],
   "source": [
    "# setup imports, plotting, load environment variables\n",
    "import os\n",
    "import json\n",
    "import pandas as pd\n",
    "from dotenv import load_dotenv\n",
    "# specified by goldapi.io\n",
    "import http.client\n",
    "import mimetypes\n",
    "\n",
    "%matplotlib inline\n",
    "load_dotenv()"
   ]
  },
  {
   "cell_type": "code",
   "execution_count": 54,
   "metadata": {},
   "outputs": [
    {
     "name": "stdout",
     "output_type": "stream",
     "text": [
      "GoldAPI_io Key type: <class 'str'>\n"
     ]
    }
   ],
   "source": [
    "# setup & verify goldapi.io API key\n",
    "goldapi_io_key = os.getenv(\"GOLDIO_API_KEY\")\n",
    "print(f\"GoldAPI_io Key type: {type(goldapi_io_key)}\")"
   ]
  },
  {
   "cell_type": "code",
   "execution_count": 55,
   "metadata": {},
   "outputs": [],
   "source": [
    "# define api secure access url with API access token\n",
    "conn = http.client.HTTPSConnection(\"www.goldapi.io\")\n",
    "payload = ''\n",
    "headers = {\n",
    "  'x-access-token': goldapi_io_key,\n",
    "  'Content-Type': 'application/json'\n",
    "}"
   ]
  },
  {
   "cell_type": "code",
   "execution_count": 56,
   "metadata": {},
   "outputs": [
    {
     "name": "stdout",
     "output_type": "stream",
     "text": [
      "<http.client.HTTPResponse object at 0x000002133BF51700>\n"
     ]
    }
   ],
   "source": [
    "# construct request and get response\n",
    "conn.request(\"GET\", \"/api/XAU/USD\", payload, headers)\n",
    "res = conn.getresponse()\n",
    "response_data = res.read()\n",
    "print(res)\n",
    "#print(response_data)"
   ]
  },
  {
   "cell_type": "code",
   "execution_count": 52,
   "metadata": {},
   "outputs": [
    {
     "name": "stdout",
     "output_type": "stream",
     "text": [
      "<class 'str'>\n",
      "{\n",
      "    \"timestamp\": 1604454534,\n",
      "    \"metal\": \"XAU\",\n",
      "    \"currency\": \"USD\",\n",
      "    \"exchange\": \"FOREXCOM\",\n",
      "    \"symbol\": \"FOREXCOM:XAUUSD\",\n",
      "    \"prev_close_price\": 1909.19,\n",
      "    \"open_price\": 1909.19,\n",
      "    \"low_price\": 1881.78,\n",
      "    \"high_price\": 1916.46,\n",
      "    \"open_time\": 1604440800,\n",
      "    \"price\": 1901.38,\n",
      "    \"ch\": -7.81,\n",
      "    \"chp\": -0.41,\n",
      "    \"ask\": 1901.91,\n",
      "    \"bid\": 1900.83\n",
      "}\n"
     ]
    }
   ],
   "source": [
    "jdata = response_data.decode(\"utf-8\")\n",
    "print(type(jdata))\n",
    "jdata2 = json.loads(jdata)\n",
    "print(json.dumps(jdata2,indent=4))\n"
   ]
  },
  {
   "cell_type": "code",
   "execution_count": null,
   "metadata": {},
   "outputs": [],
   "source": []
  },
  {
   "cell_type": "code",
   "execution_count": null,
   "metadata": {},
   "outputs": [],
   "source": []
  }
 ],
 "metadata": {
  "kernelspec": {
   "display_name": "Python 3",
   "language": "python",
   "name": "python3"
  },
  "language_info": {
   "codemirror_mode": {
    "name": "ipython",
    "version": 3
   },
   "file_extension": ".py",
   "mimetype": "text/x-python",
   "name": "python",
   "nbconvert_exporter": "python",
   "pygments_lexer": "ipython3",
   "version": "3.8.3"
  }
 },
 "nbformat": 4,
 "nbformat_minor": 4
}
