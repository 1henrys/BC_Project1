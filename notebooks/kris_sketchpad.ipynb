{
 "cells": [
  {
   "cell_type": "markdown",
   "metadata": {},
   "source": [
    "# Main analysis on api collected data to follow"
   ]
  },
  {
   "cell_type": "code",
   "execution_count": 31,
   "metadata": {},
   "outputs": [],
   "source": [
    "# import libraries\n",
    "\n",
    "import os\n",
    "import requests\n",
    "import pandas as pd\n",
    "# import matplotlib.pyplot as plt\n",
    "# import plotly.express as px\n",
    "import hvplot.pandas\n",
    "import json\n",
    "from pathlib import Path\n",
    "import numpy as np\n",
    "import datetime\n",
    "import dateutil.parser\n",
    "import urllib.request\n",
    "from dotenv import load_dotenv\n",
    "\n",
    "# import for interactive panels\n",
    "\n",
    "import matplotlib.pyplot as plt\n",
    "import hvplot.pandas\n",
    "import plotly.express as px\n",
    "from bokeh.io import output_file, show\n",
    "from bokeh.plotting import figure, show\n",
    "from bokeh.models import ColumnDataSource\n",
    "import altair as alt\n",
    "\n",
    "\n",
    "\n",
    "# import altair as alt\n",
    "\n",
    "%matplotlib inline\n"
   ]
  },
  {
   "cell_type": "code",
   "execution_count": 17,
   "metadata": {},
   "outputs": [],
   "source": [
    "#pn.extension('plotly')"
   ]
  },
  {
   "cell_type": "code",
   "execution_count": 18,
   "metadata": {},
   "outputs": [],
   "source": [
    "import hvplot.pandas"
   ]
  },
  {
   "cell_type": "code",
   "execution_count": 19,
   "metadata": {},
   "outputs": [
    {
     "data": {
      "text/plain": [
       "True"
      ]
     },
     "execution_count": 19,
     "metadata": {},
     "output_type": "execute_result"
    }
   ],
   "source": [
    "# Read the API keys\n",
    "load_dotenv()"
   ]
  },
  {
   "cell_type": "code",
   "execution_count": 20,
   "metadata": {},
   "outputs": [],
   "source": [
    "# Define Algorithms, Assets to evaluate\n",
    "# this is hard coded for first MVP\n",
    "eval_pos_list = ['FAANG','Resi_RE','GlobalArtIndex']\n",
    "benchmk_pos_list = ['SP500','BondAgg','BTCUSD','XAUUSD']\n",
    "calc_list = ['returns','cum_returns','std','sharpe']\n",
    "plot_list = ['price','returns','cum_returns','std','sharpe']\n"
   ]
  },
  {
   "cell_type": "code",
   "execution_count": 21,
   "metadata": {},
   "outputs": [
    {
     "data": {
      "text/html": [
       "<div>\n",
       "<style scoped>\n",
       "    .dataframe tbody tr th:only-of-type {\n",
       "        vertical-align: middle;\n",
       "    }\n",
       "\n",
       "    .dataframe tbody tr th {\n",
       "        vertical-align: top;\n",
       "    }\n",
       "\n",
       "    .dataframe thead th {\n",
       "        text-align: right;\n",
       "    }\n",
       "</style>\n",
       "<table border=\"1\" class=\"dataframe\">\n",
       "  <thead>\n",
       "    <tr style=\"text-align: right;\">\n",
       "      <th></th>\n",
       "      <th>Global Index (USD)</th>\n",
       "      <th>Global Index (EUR)</th>\n",
       "      <th>Painting</th>\n",
       "      <th>Sculpture</th>\n",
       "      <th>Photography</th>\n",
       "      <th>Drawing</th>\n",
       "      <th>Print</th>\n",
       "      <th>19th Century</th>\n",
       "      <th>Modern Art</th>\n",
       "      <th>Post-War</th>\n",
       "      <th>Contemporary</th>\n",
       "      <th>USA (USD)</th>\n",
       "      <th>UK (GBP)</th>\n",
       "      <th>France (EUR)</th>\n",
       "      <th>asset_type</th>\n",
       "    </tr>\n",
       "    <tr>\n",
       "      <th>Date</th>\n",
       "      <th></th>\n",
       "      <th></th>\n",
       "      <th></th>\n",
       "      <th></th>\n",
       "      <th></th>\n",
       "      <th></th>\n",
       "      <th></th>\n",
       "      <th></th>\n",
       "      <th></th>\n",
       "      <th></th>\n",
       "      <th></th>\n",
       "      <th></th>\n",
       "      <th></th>\n",
       "      <th></th>\n",
       "      <th></th>\n",
       "    </tr>\n",
       "  </thead>\n",
       "  <tbody>\n",
       "    <tr>\n",
       "      <th>1998-01-01</th>\n",
       "      <td>100</td>\n",
       "      <td>100</td>\n",
       "      <td>100</td>\n",
       "      <td>100</td>\n",
       "      <td>100</td>\n",
       "      <td>100</td>\n",
       "      <td>100</td>\n",
       "      <td>100</td>\n",
       "      <td>100</td>\n",
       "      <td>100</td>\n",
       "      <td>100</td>\n",
       "      <td>105</td>\n",
       "      <td>100</td>\n",
       "      <td>100</td>\n",
       "      <td>Art</td>\n",
       "    </tr>\n",
       "    <tr>\n",
       "      <th>1998-04-01</th>\n",
       "      <td>107</td>\n",
       "      <td>110</td>\n",
       "      <td>109</td>\n",
       "      <td>139</td>\n",
       "      <td>96</td>\n",
       "      <td>104</td>\n",
       "      <td>114</td>\n",
       "      <td>110</td>\n",
       "      <td>98</td>\n",
       "      <td>114</td>\n",
       "      <td>101</td>\n",
       "      <td>104</td>\n",
       "      <td>98</td>\n",
       "      <td>107</td>\n",
       "      <td>Art</td>\n",
       "    </tr>\n",
       "    <tr>\n",
       "      <th>1998-07-01</th>\n",
       "      <td>106</td>\n",
       "      <td>106</td>\n",
       "      <td>107</td>\n",
       "      <td>133</td>\n",
       "      <td>94</td>\n",
       "      <td>106</td>\n",
       "      <td>127</td>\n",
       "      <td>118</td>\n",
       "      <td>97</td>\n",
       "      <td>112</td>\n",
       "      <td>109</td>\n",
       "      <td>100</td>\n",
       "      <td>95</td>\n",
       "      <td>105</td>\n",
       "      <td>Art</td>\n",
       "    </tr>\n",
       "    <tr>\n",
       "      <th>1998-10-01</th>\n",
       "      <td>96</td>\n",
       "      <td>96</td>\n",
       "      <td>103</td>\n",
       "      <td>128</td>\n",
       "      <td>85</td>\n",
       "      <td>109</td>\n",
       "      <td>123</td>\n",
       "      <td>122</td>\n",
       "      <td>94</td>\n",
       "      <td>102</td>\n",
       "      <td>114</td>\n",
       "      <td>102</td>\n",
       "      <td>97</td>\n",
       "      <td>100</td>\n",
       "      <td>Art</td>\n",
       "    </tr>\n",
       "    <tr>\n",
       "      <th>1999-01-01</th>\n",
       "      <td>104</td>\n",
       "      <td>100</td>\n",
       "      <td>107</td>\n",
       "      <td>132</td>\n",
       "      <td>84</td>\n",
       "      <td>108</td>\n",
       "      <td>109</td>\n",
       "      <td>119</td>\n",
       "      <td>87</td>\n",
       "      <td>108</td>\n",
       "      <td>112</td>\n",
       "      <td>104</td>\n",
       "      <td>100</td>\n",
       "      <td>100</td>\n",
       "      <td>Art</td>\n",
       "    </tr>\n",
       "  </tbody>\n",
       "</table>\n",
       "</div>"
      ],
      "text/plain": [
       "            Global Index (USD)  Global Index (EUR)  Painting  Sculpture  \\\n",
       "Date                                                                      \n",
       "1998-01-01                 100                 100       100        100   \n",
       "1998-04-01                 107                 110       109        139   \n",
       "1998-07-01                 106                 106       107        133   \n",
       "1998-10-01                  96                  96       103        128   \n",
       "1999-01-01                 104                 100       107        132   \n",
       "\n",
       "            Photography  Drawing  Print  19th Century  Modern Art  Post-War  \\\n",
       "Date                                                                          \n",
       "1998-01-01          100      100    100           100         100       100   \n",
       "1998-04-01           96      104    114           110          98       114   \n",
       "1998-07-01           94      106    127           118          97       112   \n",
       "1998-10-01           85      109    123           122          94       102   \n",
       "1999-01-01           84      108    109           119          87       108   \n",
       "\n",
       "            Contemporary  USA (USD)  UK (GBP)  France (EUR) asset_type  \n",
       "Date                                                                    \n",
       "1998-01-01           100        105       100           100        Art  \n",
       "1998-04-01           101        104        98           107        Art  \n",
       "1998-07-01           109        100        95           105        Art  \n",
       "1998-10-01           114        102        97           100        Art  \n",
       "1999-01-01           112        104       100           100        Art  "
      ]
     },
     "execution_count": 21,
     "metadata": {},
     "output_type": "execute_result"
    }
   ],
   "source": [
    "# Create latest up to date dataset for each position reviewed:\n",
    "# A historical dataset is created by a separate script that pulls, massages the data and creates a csv.\n",
    "# This data is then pulled into a df and then updated with latest market information using appropriate API\n",
    "# get request. This way historical data doesnt need to be retrieved with repetitive API gets, but the data \n",
    "# can be kept up to date with latest info.\n",
    "\n",
    "# #each should return, cleaned properly and format\n",
    "#def BondAgg_latest_data\n",
    "#\n",
    "#date adj close price\n",
    "#\n",
    "#def BTCUSD_latest_data\n",
    "#\n",
    "#def XAUUSD_latest_data\n",
    "\n",
    "## Fetch ART Data ##\n",
    "art_file_path = Path(\"../data_imports/Artprice_Indexes_Quarterly_data_Base100_January1998.csv\")\n",
    "art_index = pd.read_csv(art_file_path, encoding='utf-8', parse_dates=True, infer_datetime_format=True)\n",
    "art_index.rename(columns=({\"Unnamed: 0\" : \"Date\"}), inplace=True)\n",
    "art_index.dropna()\n",
    "art_index.set_index(\"Date\", drop=True, inplace=True)\n",
    "\n",
    "for dict in bpi_df:\n",
    "    art_index[\"asset_type\"] = \"Art\"\n",
    "\n",
    "art_index.head()"
   ]
  },
  {
   "cell_type": "code",
   "execution_count": 32,
   "metadata": {},
   "outputs": [
    {
     "data": {
      "text/html": [
       "\n",
       "\n",
       "\n",
       "\n",
       "\n",
       "\n",
       "  <div class=\"bk-root\" id=\"4b0ee8e0-f06c-4db8-881c-fd220441720e\" data-root-id=\"1732\"></div>\n"
      ]
     },
     "metadata": {},
     "output_type": "display_data"
    },
    {
     "data": {
      "application/javascript": [
       "(function(root) {\n",
       "  function embed_document(root) {\n",
       "    \n",
       "  var docs_json = {\"59544efe-b986-428b-b6e0-e3180a7b62e1\":{\"roots\":{\"references\":[{\"attributes\":{\"below\":[{\"id\":\"1741\"}],\"center\":[{\"id\":\"1744\"},{\"id\":\"1748\"}],\"left\":[{\"id\":\"1745\"}],\"plot_height\":400,\"plot_width\":700,\"renderers\":[{\"id\":\"1780\"},{\"id\":\"1785\"},{\"id\":\"1790\"},{\"id\":\"1795\"},{\"id\":\"1800\"},{\"id\":\"1805\"},{\"id\":\"1810\"},{\"id\":\"1815\"},{\"id\":\"1820\"},{\"id\":\"1825\"},{\"id\":\"1830\"},{\"id\":\"1835\"},{\"id\":\"1840\"},{\"id\":\"1845\"}],\"title\":{\"id\":\"1884\"},\"toolbar\":{\"id\":\"1756\"},\"x_range\":{\"id\":\"1733\"},\"x_scale\":{\"id\":\"1737\"},\"y_range\":{\"id\":\"1735\"},\"y_scale\":{\"id\":\"1739\"}},\"id\":\"1732\",\"subtype\":\"Figure\",\"type\":\"Plot\"},{\"attributes\":{\"overlay\":{\"id\":\"1755\"}},\"id\":\"1751\",\"type\":\"BoxZoomTool\"},{\"attributes\":{\"data_source\":{\"id\":\"1731\"},\"glyph\":{\"id\":\"1798\"},\"hover_glyph\":null,\"muted_glyph\":null,\"name\":\"Photography\",\"nonselection_glyph\":{\"id\":\"1799\"},\"selection_glyph\":null,\"view\":{\"id\":\"1801\"}},\"id\":\"1800\",\"type\":\"GlyphRenderer\"},{\"attributes\":{\"data_source\":{\"id\":\"1731\"},\"glyph\":{\"id\":\"1803\"},\"hover_glyph\":null,\"muted_glyph\":null,\"name\":\"Drawing\",\"nonselection_glyph\":{\"id\":\"1804\"},\"selection_glyph\":null,\"view\":{\"id\":\"1806\"}},\"id\":\"1805\",\"type\":\"GlyphRenderer\"},{\"attributes\":{\"data\":{\"19th Century\":[100,110,118,122,119,113,112,111,109,106,108,111,110,116,120,110,103,103,106,109,111,123,130,124,119,120,139,155,147,138,127,121,129,139,147,151,167,192,185,176,169,152,153,149,132,129,133,130,122,119,134,147,136,130,140,146,130,109,111,119,113,110,115,122,124,119,108,99,102,98,84,78,82,87,88,81,75,76,77,78,76,68,64,60,60,63,62,66,70,68,64],\"Contemporary\":[100,101,109,114,112,106,101,109,132,145,152,159,146,126,117,108,113,134,147,152,152,163,169,153,171,203,221,236,232,230,228,226,256,288,271,249,274,308,304,284,290,295,290,269,237,228,236,248,269,284,250,214,238,271,288,296,293,291,284,268,258,258,251,250,258,256,263,267,237,200,184,177,180,200,225,234,233,239,237,228,246,272,272,259,248,238,235,233,237,241,267],\"Date\":[\"1998-01-01\",\"1998-04-01\",\"1998-07-01\",\"1998-10-01\",\"1999-01-01\",\"1999-04-01\",\"1999-07-01\",\"1999-10-01\",\"2000-01-01\",\"2000-04-01\",\"2000-07-01\",\"2000-10-01\",\"2001-01-01\",\"2001-04-01\",\"2001-07-01\",\"2001-10-01\",\"2002-01-01\",\"2002-04-01\",\"2002-07-01\",\"2002-10-01\",\"2003-01-01\",\"2003-04-01\",\"2003-07-01\",\"2003-10-01\",\"2004-01-01\",\"2004-04-01\",\"2004-07-01\",\"2004-10-01\",\"2005-01-01\",\"2005-04-01\",\"2005-07-01\",\"2005-10-01\",\"2006-01-01\",\"2006-04-01\",\"2006-07-01\",\"2006-10-01\",\"2007-01-01\",\"2007-04-01\",\"2007-07-01\",\"2007-10-01\",\"2008-01-01\",\"2008-04-01\",\"2008-07-01\",\"2008-10-01\",\"2009-01-01\",\"2009-04-01\",\"2009-07-01\",\"2009-10-01\",\"2010-01-01\",\"2010-04-01\",\"2010-07-01\",\"2010-10-01\",\"2011-01-01\",\"2011-04-01\",\"2011-07-01\",\"2011-10-01\",\"2012-01-01\",\"2012-04-01\",\"2012-07-01\",\"2012-10-01\",\"2013-01-01\",\"2013-04-01\",\"2013-07-01\",\"2013-10-01\",\"2014-01-01\",\"2014-04-01\",\"2014-07-01\",\"2014-10-01\",\"2015-01-01\",\"2015-04-01\",\"2015-07-01\",\"2015-10-01\",\"2016-01-01\",\"2016-04-01\",\"2016-07-01\",\"2016-10-01\",\"2017-01-01\",\"2017-04-01\",\"2017-07-01\",\"2017-10-01\",\"2018-01-01\",\"2018-04-01\",\"2018-07-01\",\"2018-10-01\",\"2019-01-01\",\"2019-04-01\",\"2019-07-01\",\"2019-10-01\",\"2020-01-01\",\"2020-04-01\",\"2020-07-01\"],\"Drawing\":[100,104,106,109,108,103,102,103,109,114,114,113,114,113,110,110,110,109,105,113,134,149,142,123,130,153,161,166,174,179,174,170,186,202,198,186,190,203,185,167,181,193,186,166,135,114,112,125,152,171,169,183,210,239,280,278,221,179,186,206,226,239,240,240,228,225,249,281,297,276,231,207,206,197,179,190,213,199,184,193,199,186,176,171,164,157,150,147,150,138,134],\"France (EUR)\":[100,107,105,100,100,105,110,115,123,131,136,138,141,142,139,135,136,137,133,132,139,143,136,129,133,139,142,142,145,154,154,155,163,168,164,159,170,188,186,175,175,174,164,153,142,135,130,128,137,147,146,147,157,167,175,174,155,140,146,153,161,167,167,163,155,154,167,188,197,185,169,161,160,155,147,149,157,153,146,143,141,137,132,129,130,131,128,126,128,126,126],\"Global Index (EUR)\":[100,110,106,96,100,104,112,113,123,133,135,141,137,147,137,135,133,141,132,127,142,146,137,122,135,140,142,142,140,159,156,146,171,165,172,147,169,194,194,162,185,169,172,145,149,124,142,113,144,146,154,131,172,153,190,169,169,113,167,136,173,160,173,160,159,144,169,187,210,179,172,153,168,151,151,133,177,140,156,129,156,123,144,117,140,123,137,114,138,119,126],\"Global Index (USD)\":[100,107,106,96,104,103,104,104,113,116,112,115,104,122,107,107,107,110,110,112,127,140,140,122,142,155,154,155,163,187,176,160,181,178,194,167,196,227,233,199,240,227,240,196,175,145,175,145,190,179,173,151,207,187,243,212,204,131,190,154,200,188,201,190,194,176,207,221,233,181,170,152,163,149,152,134,170,133,155,136,164,136,152,122,142,124,137,113,137,118,124],\"Modern Art\":[100,98,97,94,87,81,81,87,99,109,113,114,109,106,105,106,106,101,97,103,119,132,126,117,121,130,129,126,145,167,166,161,170,181,171,158,177,204,205,204,211,212,198,167,146,142,140,139,153,163,158,161,173,192,223,230,195,159,145,145,159,177,185,180,174,186,204,211,205,182,155,144,149,148,134,134,146,147,142,145,145,128,114,114,118,118,111,106,113,115,118],\"Painting\":[100,109,107,103,107,114,115,115,117,118,119,117,111,111,112,111,114,117,120,123,132,141,137,138,154,168,170,172,182,191,187,181,183,193,197,199,218,241,249,249,257,266,256,230,207,199,196,193,203,209,196,188,201,213,208,198,190,184,176,170,170,173,174,173,175,178,178,175,168,159,155,153,149,146,141,134,134,136,134,132,133,136,133,126,126,126,121,116,116,117,120],\"Photography\":[100,96,94,85,84,85,85,92,126,156,140,118,129,148,135,119,121,124,130,137,152,164,155,143,143,165,189,191,193,196,186,187,209,220,207,197,216,247,249,244,249,252,246,210,190,194,184,177,198,214,187,168,197,231,229,210,197,187,179,183,193,193,193,195,195,200,208,210,206,206,195,185,190,189,187,184,166,163,181,195,201,193,166,147,155,162,159,160,163,161,165],\"Post-War\":[100,114,112,102,108,122,130,135,140,141,141,142,142,146,146,141,141,151,155,156,179,195,182,175,192,211,214,218,234,246,248,258,259,261,285,311,334,361,391,398,411,436,418,359,309,298,293,281,301,322,300,291,336,375,360,338,332,332,326,329,349,344,313,293,310,350,361,351,352,356,354,349,345,336,323,314,300,288,291,302,307,307,295,283,286,293,282,266,270,277,277],\"Print\":[100,114,127,123,109,109,123,130,123,123,134,139,136,141,134,120,127,141,139,130,134,150,164,159,155,168,170,170,193,216,218,207,205,209,205,209,230,259,302,345,359,336,291,245,220,200,191,207,220,220,214,207,216,234,232,218,209,207,214,220,223,220,218,216,230,252,257,257,248,227,216,211,214,218,218,218,216,216,216,214,220,230,232,230,220,214,214,216,218,216,225],\"Sculpture\":[100,139,133,128,132,134,134,140,140,137,136,134,140,147,136,126,128,132,133,136,143,154,163,167,171,173,172,172,181,191,182,173,176,182,190,192,208,237,250,251,260,268,260,234,195,182,189,192,199,197,185,187,205,221,221,219,215,207,199,191,192,197,186,174,186,198,195,184,174,171,168,161,154,152,152,151,147,146,151,155,155,153,148,143,140,143,144,143,143,144,152],\"UK (GBP)\":[100,98,95,97,100,101,104,109,113,117,119,122,124,121,118,119,121,119,119,128,136,133,127,130,134,136,137,143,151,151,150,158,163,160,153,163,179,179,171,178,186,183,174,169,169,164,160,173,185,178,176,190,205,218,217,190,166,167,174,186,198,200,196,185,181,193,213,217,197,174,164,166,168,167,177,191,187,179,179,177,171,165,163,163,162,159,157,157,155,160,145],\"USA (USD)\":[105,104,100,102,104,104,107,112,115,114,112,112,114,111,107,108,110,111,115,126,137,136,132,140,151,154,157,167,178,175,169,175,182,183,181,196,221,223,218,226,234,226,201,172,160,160,163,176,180,169,171,188,206,221,218,188,164,166,174,185,194,195,194,188,188,203,221,217,191,168,159,157,153,147,148,152,148,145,148,150,147,141,135,132,132,128,125,126,124,126,120],\"asset_type\":[\"Art\",\"Art\",\"Art\",\"Art\",\"Art\",\"Art\",\"Art\",\"Art\",\"Art\",\"Art\",\"Art\",\"Art\",\"Art\",\"Art\",\"Art\",\"Art\",\"Art\",\"Art\",\"Art\",\"Art\",\"Art\",\"Art\",\"Art\",\"Art\",\"Art\",\"Art\",\"Art\",\"Art\",\"Art\",\"Art\",\"Art\",\"Art\",\"Art\",\"Art\",\"Art\",\"Art\",\"Art\",\"Art\",\"Art\",\"Art\",\"Art\",\"Art\",\"Art\",\"Art\",\"Art\",\"Art\",\"Art\",\"Art\",\"Art\",\"Art\",\"Art\",\"Art\",\"Art\",\"Art\",\"Art\",\"Art\",\"Art\",\"Art\",\"Art\",\"Art\",\"Art\",\"Art\",\"Art\",\"Art\",\"Art\",\"Art\",\"Art\",\"Art\",\"Art\",\"Art\",\"Art\",\"Art\",\"Art\",\"Art\",\"Art\",\"Art\",\"Art\",\"Art\",\"Art\",\"Art\",\"Art\",\"Art\",\"Art\",\"Art\",\"Art\",\"Art\",\"Art\",\"Art\",\"Art\",\"Art\",\"Art\"]},\"selected\":{\"id\":\"1890\"},\"selection_policy\":{\"id\":\"1889\"}},\"id\":\"1731\",\"type\":\"ColumnDataSource\"},{\"attributes\":{},\"id\":\"1752\",\"type\":\"SaveTool\"},{\"attributes\":{\"formatter\":{\"id\":\"1888\"},\"ticker\":{\"id\":\"1742\"}},\"id\":\"1741\",\"type\":\"LinearAxis\"},{\"attributes\":{\"source\":{\"id\":\"1731\"}},\"id\":\"1831\",\"type\":\"CDSView\"},{\"attributes\":{\"data_source\":{\"id\":\"1731\"},\"glyph\":{\"id\":\"1828\"},\"hover_glyph\":null,\"muted_glyph\":null,\"name\":\"Contemporary\",\"nonselection_glyph\":{\"id\":\"1829\"},\"selection_glyph\":null,\"view\":{\"id\":\"1831\"}},\"id\":\"1830\",\"type\":\"GlyphRenderer\"},{\"attributes\":{\"formatter\":{\"id\":\"1886\"},\"ticker\":{\"id\":\"1746\"}},\"id\":\"1745\",\"type\":\"LinearAxis\"},{\"attributes\":{},\"id\":\"1737\",\"type\":\"LinearScale\"},{\"attributes\":{\"line_alpha\":0.1,\"line_color\":\"#1f77b4\",\"x\":{\"field\":\"Date\"},\"y\":{\"expr\":{\"id\":\"1773\"}}},\"id\":\"1829\",\"type\":\"Line\"},{\"attributes\":{},\"id\":\"1735\",\"type\":\"DataRange1d\"},{\"attributes\":{},\"id\":\"1746\",\"type\":\"BasicTicker\"},{\"attributes\":{},\"id\":\"1742\",\"type\":\"BasicTicker\"},{\"attributes\":{},\"id\":\"1739\",\"type\":\"LinearScale\"},{\"attributes\":{\"line_color\":\"#1f77b4\",\"x\":{\"field\":\"Date\"},\"y\":{\"expr\":{\"id\":\"1774\"}}},\"id\":\"1833\",\"type\":\"Line\"},{\"attributes\":{\"data_source\":{\"id\":\"1731\"},\"glyph\":{\"id\":\"1843\"},\"hover_glyph\":null,\"muted_glyph\":null,\"name\":\"France (EUR)\",\"nonselection_glyph\":{\"id\":\"1844\"},\"selection_glyph\":null,\"view\":{\"id\":\"1846\"}},\"id\":\"1845\",\"type\":\"GlyphRenderer\"},{\"attributes\":{\"fields\":[\"Global Index (USD)\"]},\"id\":\"1763\",\"type\":\"Stack\"},{\"attributes\":{\"line_alpha\":0.1,\"line_color\":\"#1f77b4\",\"x\":{\"field\":\"Date\"},\"y\":{\"expr\":{\"id\":\"1767\"}}},\"id\":\"1799\",\"type\":\"Line\"},{\"attributes\":{\"axis\":{\"id\":\"1741\"},\"ticker\":null},\"id\":\"1744\",\"type\":\"Grid\"},{\"attributes\":{},\"id\":\"1733\",\"type\":\"DataRange1d\"},{\"attributes\":{},\"id\":\"1753\",\"type\":\"ResetTool\"},{\"attributes\":{},\"id\":\"1886\",\"type\":\"BasicTickFormatter\"},{\"attributes\":{\"fields\":[\"Global Index (USD)\",\"Global Index (EUR)\",\"Painting\",\"Sculpture\",\"Photography\"]},\"id\":\"1767\",\"type\":\"Stack\"},{\"attributes\":{\"line_color\":\"#1f77b4\",\"x\":{\"field\":\"Date\"},\"y\":{\"expr\":{\"id\":\"1765\"}}},\"id\":\"1788\",\"type\":\"Line\"},{\"attributes\":{},\"id\":\"1754\",\"type\":\"HelpTool\"},{\"attributes\":{\"data_source\":{\"id\":\"1731\"},\"glyph\":{\"id\":\"1808\"},\"hover_glyph\":null,\"muted_glyph\":null,\"name\":\"Print\",\"nonselection_glyph\":{\"id\":\"1809\"},\"selection_glyph\":null,\"view\":{\"id\":\"1811\"}},\"id\":\"1810\",\"type\":\"GlyphRenderer\"},{\"attributes\":{\"fields\":[\"Global Index (USD)\",\"Global Index (EUR)\"]},\"id\":\"1764\",\"type\":\"Stack\"},{\"attributes\":{\"line_alpha\":0.1,\"line_color\":\"#1f77b4\",\"x\":{\"field\":\"Date\"},\"y\":{\"expr\":{\"id\":\"1776\"}}},\"id\":\"1844\",\"type\":\"Line\"},{\"attributes\":{\"line_color\":\"#1f77b4\",\"x\":{\"field\":\"Date\"},\"y\":{\"expr\":{\"id\":\"1767\"}}},\"id\":\"1798\",\"type\":\"Line\"},{\"attributes\":{\"source\":{\"id\":\"1731\"}},\"id\":\"1811\",\"type\":\"CDSView\"},{\"attributes\":{\"line_color\":\"#1f77b4\",\"x\":{\"field\":\"Date\"},\"y\":{\"expr\":{\"id\":\"1766\"}}},\"id\":\"1793\",\"type\":\"Line\"},{\"attributes\":{\"data_source\":{\"id\":\"1731\"},\"glyph\":{\"id\":\"1793\"},\"hover_glyph\":null,\"muted_glyph\":null,\"name\":\"Sculpture\",\"nonselection_glyph\":{\"id\":\"1794\"},\"selection_glyph\":null,\"view\":{\"id\":\"1796\"}},\"id\":\"1795\",\"type\":\"GlyphRenderer\"},{\"attributes\":{\"line_color\":\"#1f77b4\",\"x\":{\"field\":\"Date\"},\"y\":{\"expr\":{\"id\":\"1770\"}}},\"id\":\"1813\",\"type\":\"Line\"},{\"attributes\":{\"line_alpha\":0.1,\"line_color\":\"#1f77b4\",\"x\":{\"field\":\"Date\"},\"y\":{\"expr\":{\"id\":\"1766\"}}},\"id\":\"1794\",\"type\":\"Line\"},{\"attributes\":{\"line_alpha\":0.1,\"line_color\":\"#1f77b4\",\"x\":{\"field\":\"Date\"},\"y\":{\"expr\":{\"id\":\"1769\"}}},\"id\":\"1809\",\"type\":\"Line\"},{\"attributes\":{\"source\":{\"id\":\"1731\"}},\"id\":\"1846\",\"type\":\"CDSView\"},{\"attributes\":{\"text\":\"\"},\"id\":\"1884\",\"type\":\"Title\"},{\"attributes\":{\"source\":{\"id\":\"1731\"}},\"id\":\"1796\",\"type\":\"CDSView\"},{\"attributes\":{\"source\":{\"id\":\"1731\"}},\"id\":\"1816\",\"type\":\"CDSView\"},{\"attributes\":{},\"id\":\"1889\",\"type\":\"UnionRenderers\"},{\"attributes\":{\"line_alpha\":0.1,\"line_color\":\"#1f77b4\",\"x\":{\"field\":\"Date\"},\"y\":{\"expr\":{\"id\":\"1770\"}}},\"id\":\"1814\",\"type\":\"Line\"},{\"attributes\":{\"line_color\":\"#1f77b4\",\"x\":{\"field\":\"Date\"},\"y\":{\"expr\":{\"id\":\"1771\"}}},\"id\":\"1818\",\"type\":\"Line\"},{\"attributes\":{},\"id\":\"1888\",\"type\":\"BasicTickFormatter\"},{\"attributes\":{\"bottom_units\":\"screen\",\"fill_alpha\":0.5,\"fill_color\":\"lightgrey\",\"left_units\":\"screen\",\"level\":\"overlay\",\"line_alpha\":1.0,\"line_color\":\"black\",\"line_dash\":[4,4],\"line_width\":2,\"right_units\":\"screen\",\"top_units\":\"screen\"},\"id\":\"1755\",\"type\":\"BoxAnnotation\"},{\"attributes\":{},\"id\":\"1890\",\"type\":\"Selection\"},{\"attributes\":{\"data_source\":{\"id\":\"1731\"},\"glyph\":{\"id\":\"1813\"},\"hover_glyph\":null,\"muted_glyph\":null,\"name\":\"19th Century\",\"nonselection_glyph\":{\"id\":\"1814\"},\"selection_glyph\":null,\"view\":{\"id\":\"1816\"}},\"id\":\"1815\",\"type\":\"GlyphRenderer\"},{\"attributes\":{\"active_drag\":\"auto\",\"active_inspect\":\"auto\",\"active_multi\":null,\"active_scroll\":\"auto\",\"active_tap\":\"auto\",\"tools\":[{\"id\":\"1749\"},{\"id\":\"1750\"},{\"id\":\"1751\"},{\"id\":\"1752\"},{\"id\":\"1753\"},{\"id\":\"1754\"}]},\"id\":\"1756\",\"type\":\"Toolbar\"},{\"attributes\":{\"line_color\":\"#1f77b4\",\"x\":{\"field\":\"Date\"},\"y\":{\"expr\":{\"id\":\"1769\"}}},\"id\":\"1808\",\"type\":\"Line\"},{\"attributes\":{\"source\":{\"id\":\"1731\"}},\"id\":\"1821\",\"type\":\"CDSView\"},{\"attributes\":{\"line_color\":\"#1f77b4\",\"x\":{\"field\":\"Date\"},\"y\":{\"expr\":{\"id\":\"1772\"}}},\"id\":\"1823\",\"type\":\"Line\"},{\"attributes\":{\"line_alpha\":0.1,\"line_color\":\"#1f77b4\",\"x\":{\"field\":\"Date\"},\"y\":{\"expr\":{\"id\":\"1771\"}}},\"id\":\"1819\",\"type\":\"Line\"},{\"attributes\":{\"fields\":[\"Global Index (USD)\",\"Global Index (EUR)\",\"Painting\",\"Sculpture\",\"Photography\",\"Drawing\",\"Print\",\"19th Century\",\"Modern Art\",\"Post-War\"]},\"id\":\"1772\",\"type\":\"Stack\"},{\"attributes\":{\"source\":{\"id\":\"1731\"}},\"id\":\"1801\",\"type\":\"CDSView\"},{\"attributes\":{\"fields\":[\"Global Index (USD)\",\"Global Index (EUR)\",\"Painting\"]},\"id\":\"1765\",\"type\":\"Stack\"},{\"attributes\":{\"fields\":[\"Global Index (USD)\",\"Global Index (EUR)\",\"Painting\",\"Sculpture\",\"Photography\",\"Drawing\"]},\"id\":\"1768\",\"type\":\"Stack\"},{\"attributes\":{\"fields\":[\"Global Index (USD)\",\"Global Index (EUR)\",\"Painting\",\"Sculpture\",\"Photography\",\"Drawing\",\"Print\"]},\"id\":\"1769\",\"type\":\"Stack\"},{\"attributes\":{\"data_source\":{\"id\":\"1731\"},\"glyph\":{\"id\":\"1818\"},\"hover_glyph\":null,\"muted_glyph\":null,\"name\":\"Modern Art\",\"nonselection_glyph\":{\"id\":\"1819\"},\"selection_glyph\":null,\"view\":{\"id\":\"1821\"}},\"id\":\"1820\",\"type\":\"GlyphRenderer\"},{\"attributes\":{\"line_color\":\"#1f77b4\",\"x\":{\"field\":\"Date\"},\"y\":{\"expr\":{\"id\":\"1768\"}}},\"id\":\"1803\",\"type\":\"Line\"},{\"attributes\":{\"source\":{\"id\":\"1731\"}},\"id\":\"1826\",\"type\":\"CDSView\"},{\"attributes\":{\"fields\":[\"Global Index (USD)\",\"Global Index (EUR)\",\"Painting\",\"Sculpture\"]},\"id\":\"1766\",\"type\":\"Stack\"},{\"attributes\":{\"axis\":{\"id\":\"1745\"},\"dimension\":1,\"ticker\":null},\"id\":\"1748\",\"type\":\"Grid\"},{\"attributes\":{\"line_alpha\":0.1,\"line_color\":\"#1f77b4\",\"x\":{\"field\":\"Date\"},\"y\":{\"expr\":{\"id\":\"1768\"}}},\"id\":\"1804\",\"type\":\"Line\"},{\"attributes\":{\"line_alpha\":0.1,\"line_color\":\"#1f77b4\",\"x\":{\"field\":\"Date\"},\"y\":{\"expr\":{\"id\":\"1772\"}}},\"id\":\"1824\",\"type\":\"Line\"},{\"attributes\":{\"fields\":[\"Global Index (USD)\",\"Global Index (EUR)\",\"Painting\",\"Sculpture\",\"Photography\",\"Drawing\",\"Print\",\"19th Century\"]},\"id\":\"1770\",\"type\":\"Stack\"},{\"attributes\":{\"line_color\":\"#1f77b4\",\"x\":{\"field\":\"Date\"},\"y\":{\"expr\":{\"id\":\"1773\"}}},\"id\":\"1828\",\"type\":\"Line\"},{\"attributes\":{\"fields\":[\"Global Index (USD)\",\"Global Index (EUR)\",\"Painting\",\"Sculpture\",\"Photography\",\"Drawing\",\"Print\",\"19th Century\",\"Modern Art\",\"Post-War\",\"Contemporary\"]},\"id\":\"1773\",\"type\":\"Stack\"},{\"attributes\":{\"data_source\":{\"id\":\"1731\"},\"glyph\":{\"id\":\"1823\"},\"hover_glyph\":null,\"muted_glyph\":null,\"name\":\"Post-War\",\"nonselection_glyph\":{\"id\":\"1824\"},\"selection_glyph\":null,\"view\":{\"id\":\"1826\"}},\"id\":\"1825\",\"type\":\"GlyphRenderer\"},{\"attributes\":{\"fields\":[\"Global Index (USD)\",\"Global Index (EUR)\",\"Painting\",\"Sculpture\",\"Photography\",\"Drawing\",\"Print\",\"19th Century\",\"Modern Art\",\"Post-War\",\"Contemporary\",\"USA (USD)\"]},\"id\":\"1774\",\"type\":\"Stack\"},{\"attributes\":{\"line_alpha\":0.1,\"line_color\":\"#1f77b4\",\"x\":{\"field\":\"Date\"},\"y\":{\"expr\":{\"id\":\"1765\"}}},\"id\":\"1789\",\"type\":\"Line\"},{\"attributes\":{\"line_color\":\"#1f77b4\",\"x\":{\"field\":\"Date\"},\"y\":{\"expr\":{\"id\":\"1775\"}}},\"id\":\"1838\",\"type\":\"Line\"},{\"attributes\":{},\"id\":\"1750\",\"type\":\"WheelZoomTool\"},{\"attributes\":{\"fields\":[\"Global Index (USD)\",\"Global Index (EUR)\",\"Painting\",\"Sculpture\",\"Photography\",\"Drawing\",\"Print\",\"19th Century\",\"Modern Art\",\"Post-War\",\"Contemporary\",\"USA (USD)\",\"UK (GBP)\"]},\"id\":\"1775\",\"type\":\"Stack\"},{\"attributes\":{\"source\":{\"id\":\"1731\"}},\"id\":\"1791\",\"type\":\"CDSView\"},{\"attributes\":{\"data_source\":{\"id\":\"1731\"},\"glyph\":{\"id\":\"1783\"},\"hover_glyph\":null,\"muted_glyph\":null,\"name\":\"Global Index (EUR)\",\"nonselection_glyph\":{\"id\":\"1784\"},\"selection_glyph\":null,\"view\":{\"id\":\"1786\"}},\"id\":\"1785\",\"type\":\"GlyphRenderer\"},{\"attributes\":{\"source\":{\"id\":\"1731\"}},\"id\":\"1836\",\"type\":\"CDSView\"},{\"attributes\":{\"fields\":[\"Global Index (USD)\",\"Global Index (EUR)\",\"Painting\",\"Sculpture\",\"Photography\",\"Drawing\",\"Print\",\"19th Century\",\"Modern Art\",\"Post-War\",\"Contemporary\",\"USA (USD)\",\"UK (GBP)\",\"France (EUR)\"]},\"id\":\"1776\",\"type\":\"Stack\"},{\"attributes\":{\"source\":{\"id\":\"1731\"}},\"id\":\"1781\",\"type\":\"CDSView\"},{\"attributes\":{\"line_color\":\"#1f77b4\",\"x\":{\"field\":\"Date\"},\"y\":{\"expr\":{\"id\":\"1763\"}}},\"id\":\"1778\",\"type\":\"Line\"},{\"attributes\":{\"data_source\":{\"id\":\"1731\"},\"glyph\":{\"id\":\"1788\"},\"hover_glyph\":null,\"muted_glyph\":null,\"name\":\"Painting\",\"nonselection_glyph\":{\"id\":\"1789\"},\"selection_glyph\":null,\"view\":{\"id\":\"1791\"}},\"id\":\"1790\",\"type\":\"GlyphRenderer\"},{\"attributes\":{\"line_alpha\":0.1,\"line_color\":\"#1f77b4\",\"x\":{\"field\":\"Date\"},\"y\":{\"expr\":{\"id\":\"1764\"}}},\"id\":\"1784\",\"type\":\"Line\"},{\"attributes\":{\"line_alpha\":0.1,\"line_color\":\"#1f77b4\",\"x\":{\"field\":\"Date\"},\"y\":{\"expr\":{\"id\":\"1774\"}}},\"id\":\"1834\",\"type\":\"Line\"},{\"attributes\":{},\"id\":\"1749\",\"type\":\"PanTool\"},{\"attributes\":{\"line_alpha\":0.1,\"line_color\":\"#1f77b4\",\"x\":{\"field\":\"Date\"},\"y\":{\"expr\":{\"id\":\"1763\"}}},\"id\":\"1779\",\"type\":\"Line\"},{\"attributes\":{\"data_source\":{\"id\":\"1731\"},\"glyph\":{\"id\":\"1833\"},\"hover_glyph\":null,\"muted_glyph\":null,\"name\":\"USA (USD)\",\"nonselection_glyph\":{\"id\":\"1834\"},\"selection_glyph\":null,\"view\":{\"id\":\"1836\"}},\"id\":\"1835\",\"type\":\"GlyphRenderer\"},{\"attributes\":{\"line_color\":\"#1f77b4\",\"x\":{\"field\":\"Date\"},\"y\":{\"expr\":{\"id\":\"1764\"}}},\"id\":\"1783\",\"type\":\"Line\"},{\"attributes\":{\"source\":{\"id\":\"1731\"}},\"id\":\"1786\",\"type\":\"CDSView\"},{\"attributes\":{\"data_source\":{\"id\":\"1731\"},\"glyph\":{\"id\":\"1778\"},\"hover_glyph\":null,\"muted_glyph\":null,\"name\":\"Global Index (USD)\",\"nonselection_glyph\":{\"id\":\"1779\"},\"selection_glyph\":null,\"view\":{\"id\":\"1781\"}},\"id\":\"1780\",\"type\":\"GlyphRenderer\"},{\"attributes\":{\"source\":{\"id\":\"1731\"}},\"id\":\"1806\",\"type\":\"CDSView\"},{\"attributes\":{\"source\":{\"id\":\"1731\"}},\"id\":\"1841\",\"type\":\"CDSView\"},{\"attributes\":{\"fields\":[\"Global Index (USD)\",\"Global Index (EUR)\",\"Painting\",\"Sculpture\",\"Photography\",\"Drawing\",\"Print\",\"19th Century\",\"Modern Art\"]},\"id\":\"1771\",\"type\":\"Stack\"},{\"attributes\":{\"data_source\":{\"id\":\"1731\"},\"glyph\":{\"id\":\"1838\"},\"hover_glyph\":null,\"muted_glyph\":null,\"name\":\"UK (GBP)\",\"nonselection_glyph\":{\"id\":\"1839\"},\"selection_glyph\":null,\"view\":{\"id\":\"1841\"}},\"id\":\"1840\",\"type\":\"GlyphRenderer\"},{\"attributes\":{\"line_alpha\":0.1,\"line_color\":\"#1f77b4\",\"x\":{\"field\":\"Date\"},\"y\":{\"expr\":{\"id\":\"1775\"}}},\"id\":\"1839\",\"type\":\"Line\"},{\"attributes\":{\"line_color\":\"#1f77b4\",\"x\":{\"field\":\"Date\"},\"y\":{\"expr\":{\"id\":\"1776\"}}},\"id\":\"1843\",\"type\":\"Line\"}],\"root_ids\":[\"1732\"]},\"title\":\"Bokeh Application\",\"version\":\"2.1.1\"}};\n",
       "  var render_items = [{\"docid\":\"59544efe-b986-428b-b6e0-e3180a7b62e1\",\"root_ids\":[\"1732\"],\"roots\":{\"1732\":\"4b0ee8e0-f06c-4db8-881c-fd220441720e\"}}];\n",
       "  root.Bokeh.embed.embed_items_notebook(docs_json, render_items);\n",
       "\n",
       "  }\n",
       "  if (root.Bokeh !== undefined) {\n",
       "    embed_document(root);\n",
       "  } else {\n",
       "    var attempts = 0;\n",
       "    var timer = setInterval(function(root) {\n",
       "      if (root.Bokeh !== undefined) {\n",
       "        clearInterval(timer);\n",
       "        embed_document(root);\n",
       "      } else {\n",
       "        attempts++;\n",
       "        if (attempts > 100) {\n",
       "          clearInterval(timer);\n",
       "          console.log(\"Bokeh: ERROR: Unable to run BokehJS code because BokehJS library is missing\");\n",
       "        }\n",
       "      }\n",
       "    }, 10, root)\n",
       "  }\n",
       "})(window);"
      ],
      "application/vnd.bokehjs_exec.v0+json": ""
     },
     "metadata": {
      "application/vnd.bokehjs_exec.v0+json": {
       "id": "1732"
      }
     },
     "output_type": "display_data"
    }
   ],
   "source": [
    "source = ColumnDataSource(data=art_index)\n",
    "\n",
    "plot = figure(plot_width=700, plot_height=400)\n",
    "\n",
    "plot.vline_stack([\"Global Index (USD)\", \"Global Index (EUR)\", \"Painting\", \"Sculpture\", \"Photography\", \"Drawing\", \"Print\", \"19th Century\", \"Modern Art\", \"Post-War\", \"Contemporary\", \"USA (USD)\", \"UK (GBP)\", \"France (EUR)\"], x=\"Date\", source=source)\n",
    "\n",
    "show(plot)"
   ]
  },
  {
   "cell_type": "code",
   "execution_count": 22,
   "metadata": {},
   "outputs": [
    {
     "name": "stdout",
     "output_type": "stream",
     "text": [
      "<class 'str'>\n"
     ]
    },
    {
     "data": {
      "text/html": [
       "<div>\n",
       "<style scoped>\n",
       "    .dataframe tbody tr th:only-of-type {\n",
       "        vertical-align: middle;\n",
       "    }\n",
       "\n",
       "    .dataframe tbody tr th {\n",
       "        vertical-align: top;\n",
       "    }\n",
       "\n",
       "    .dataframe thead th {\n",
       "        text-align: right;\n",
       "    }\n",
       "</style>\n",
       "<table border=\"1\" class=\"dataframe\">\n",
       "  <thead>\n",
       "    <tr style=\"text-align: right;\">\n",
       "      <th></th>\n",
       "      <th>sp500_benchmark</th>\n",
       "      <th>asset_type</th>\n",
       "    </tr>\n",
       "    <tr>\n",
       "      <th>date</th>\n",
       "      <th></th>\n",
       "      <th></th>\n",
       "    </tr>\n",
       "  </thead>\n",
       "  <tbody>\n",
       "    <tr>\n",
       "      <th>2020-11-04</th>\n",
       "      <td>3443.4399</td>\n",
       "      <td>S&amp;P 500</td>\n",
       "    </tr>\n",
       "    <tr>\n",
       "      <th>2020-11-03</th>\n",
       "      <td>3369.1599</td>\n",
       "      <td>S&amp;P 500</td>\n",
       "    </tr>\n",
       "    <tr>\n",
       "      <th>2020-11-02</th>\n",
       "      <td>3310.2400</td>\n",
       "      <td>S&amp;P 500</td>\n",
       "    </tr>\n",
       "    <tr>\n",
       "      <th>2020-10-30</th>\n",
       "      <td>3269.9600</td>\n",
       "      <td>S&amp;P 500</td>\n",
       "    </tr>\n",
       "    <tr>\n",
       "      <th>2020-10-29</th>\n",
       "      <td>3310.1101</td>\n",
       "      <td>S&amp;P 500</td>\n",
       "    </tr>\n",
       "  </tbody>\n",
       "</table>\n",
       "</div>"
      ],
      "text/plain": [
       "            sp500_benchmark asset_type\n",
       "date                                  \n",
       "2020-11-04        3443.4399    S&P 500\n",
       "2020-11-03        3369.1599    S&P 500\n",
       "2020-11-02        3310.2400    S&P 500\n",
       "2020-10-30        3269.9600    S&P 500\n",
       "2020-10-29        3310.1101    S&P 500"
      ]
     },
     "execution_count": 22,
     "metadata": {},
     "output_type": "execute_result"
    }
   ],
   "source": [
    "## Fetch SP500 Data ##\n",
    "ms_api_key = os.getenv(\"MARKETSTACK_API_KEY\")\n",
    "ms_api_key_string = \"&access_key=\" + ms_api_key \n",
    "print(type(ms_api_key))\n",
    "ms_request_url = \"https://api.marketstack.com/v1/eod?symbols=GSPC.INDX\"\n",
    "ms_request_url = ms_request_url + ms_api_key_string + \"&limit=3000\" \n",
    "# Execute get request with API key\n",
    "ms_response_data = requests.get(ms_request_url)\n",
    "ms_data = ms_response_data.json()\n",
    "#print(json.dumps(data, indent=4))\n",
    "sp_list = ms_data[\"data\"]\n",
    "# Pull json outout into dataframe and update the adjusted closing prices into columns\n",
    "column_list = ['date', 'sp500_adj_closing']\n",
    "sp500_df = pd.DataFrame(columns=column_list)\n",
    "for dict in sp_list: \n",
    "    for list in dict: \n",
    "        if list == \"date\":\n",
    "            temp_date = str(dateutil.parser.parse(dict[list]).date())\n",
    "            #print(temp_date)\n",
    "        elif list == \"adj_close\":\n",
    "            temp_close = dict[list] \n",
    "            \n",
    "    new_row = {'date':temp_date, 'sp500_adj_closing':temp_close}\n",
    "    sp500_df = sp500_df.append(new_row, ignore_index=True)                 \n",
    "    \n",
    "sp500_df[\"date\"] = pd.to_datetime(sp500_df[\"date\"])\n",
    "sp500_df.set_index(\"date\", drop=True, inplace=True)\n",
    "sp500_df.rename(columns = {\"sp500_adj_closing\" : \"sp500_benchmark\"}, inplace=True)\n",
    "\n",
    "for dict in bpi_df:\n",
    "    sp500_df[\"asset_type\"] = \"S&P 500\"\n",
    "    \n",
    "sp500_df.head()"
   ]
  },
  {
   "cell_type": "code",
   "execution_count": null,
   "metadata": {},
   "outputs": [],
   "source": []
  },
  {
   "cell_type": "code",
   "execution_count": 23,
   "metadata": {},
   "outputs": [
    {
     "name": "stdout",
     "output_type": "stream",
     "text": [
      "<class 'str'>\n"
     ]
    },
    {
     "data": {
      "text/html": [
       "<div>\n",
       "<style scoped>\n",
       "    .dataframe tbody tr th:only-of-type {\n",
       "        vertical-align: middle;\n",
       "    }\n",
       "\n",
       "    .dataframe tbody tr th {\n",
       "        vertical-align: top;\n",
       "    }\n",
       "\n",
       "    .dataframe thead th {\n",
       "        text-align: right;\n",
       "    }\n",
       "</style>\n",
       "<table border=\"1\" class=\"dataframe\">\n",
       "  <thead>\n",
       "    <tr style=\"text-align: right;\">\n",
       "      <th></th>\n",
       "      <th>bpi_benchmark</th>\n",
       "      <th>asset_type</th>\n",
       "    </tr>\n",
       "  </thead>\n",
       "  <tbody>\n",
       "    <tr>\n",
       "      <th>2012-01-01</th>\n",
       "      <td>5.2677</td>\n",
       "      <td>Cryptocurrency</td>\n",
       "    </tr>\n",
       "    <tr>\n",
       "      <th>2012-01-02</th>\n",
       "      <td>5.2168</td>\n",
       "      <td>Cryptocurrency</td>\n",
       "    </tr>\n",
       "    <tr>\n",
       "      <th>2012-01-03</th>\n",
       "      <td>4.8808</td>\n",
       "      <td>Cryptocurrency</td>\n",
       "    </tr>\n",
       "    <tr>\n",
       "      <th>2012-01-04</th>\n",
       "      <td>5.5738</td>\n",
       "      <td>Cryptocurrency</td>\n",
       "    </tr>\n",
       "    <tr>\n",
       "      <th>2012-01-05</th>\n",
       "      <td>6.9476</td>\n",
       "      <td>Cryptocurrency</td>\n",
       "    </tr>\n",
       "  </tbody>\n",
       "</table>\n",
       "</div>"
      ],
      "text/plain": [
       "            bpi_benchmark      asset_type\n",
       "2012-01-01         5.2677  Cryptocurrency\n",
       "2012-01-02         5.2168  Cryptocurrency\n",
       "2012-01-03         4.8808  Cryptocurrency\n",
       "2012-01-04         5.5738  Cryptocurrency\n",
       "2012-01-05         6.9476  Cryptocurrency"
      ]
     },
     "execution_count": 23,
     "metadata": {},
     "output_type": "execute_result"
    }
   ],
   "source": [
    "## Fetch crypto Data ##\n",
    "api_key = os.getenv(\"NOMICS_API_KEY\")\n",
    "print(type(api_key))\n",
    "api_key_string = \"key=\" + api_key\n",
    "request_url = \"https://api.coindesk.com/v1/bpi/historical/close.json?start=2012-01-01&end=2020-10-05\"\n",
    "# Execute get request\n",
    "response_data = requests.get(request_url)\n",
    "data = response_data.json()\n",
    "#print(json.dumps(data, indent=4))\n",
    "bpi_list = data[\"bpi\"]\n",
    "#print(json.dumps(bpi_list, indent=4))\n",
    "bpi_df = pd.DataFrame.from_dict(bpi_list, orient='index',\n",
    "                       columns=['bpi_closing'])\n",
    "#bpi_df.columns = ['bpi_closing']\n",
    "#bpi_df.set_index(bpi_df['date'],inplace=True)\n",
    "\n",
    "for dict in bpi_df:\n",
    "   bpi_df[\"asset_type\"] = \"Cryptocurrency\"\n",
    "    \n",
    "#bpi_df[\"date\"] = pd.to_datetime(bpi_df[\"date\"])\n",
    "#bpi_df.set_index(\"date\", drop=True, inplace=True)\n",
    "bpi_df.rename(columns = {\"bpi_closing\" : \"bpi_benchmark\"}, inplace=True)\n",
    "    \n",
    "bpi_df.head()\n"
   ]
  },
  {
   "cell_type": "code",
   "execution_count": 24,
   "metadata": {},
   "outputs": [
    {
     "ename": "NameError",
     "evalue": "name 'gblart_index_df' is not defined",
     "output_type": "error",
     "traceback": [
      "\u001b[0;31m---------------------------------------------------------------------------\u001b[0m",
      "\u001b[0;31mNameError\u001b[0m                                 Traceback (most recent call last)",
      "\u001b[0;32m<ipython-input-24-a450779c6dd1>\u001b[0m in \u001b[0;36m<module>\u001b[0;34m\u001b[0m\n\u001b[1;32m      2\u001b[0m \u001b[0;34m\u001b[0m\u001b[0m\n\u001b[1;32m      3\u001b[0m \u001b[0;31m# first select art index of choice and scale up price by 100\u001b[0m\u001b[0;34m\u001b[0m\u001b[0;34m\u001b[0m\u001b[0;34m\u001b[0m\u001b[0m\n\u001b[0;32m----> 4\u001b[0;31m \u001b[0mgblart_index_df\u001b[0m\u001b[0;34m\u001b[0m\u001b[0;34m\u001b[0m\u001b[0m\n\u001b[0m\u001b[1;32m      5\u001b[0m \u001b[0mgblart_index_df\u001b[0m\u001b[0;34m[\u001b[0m\u001b[0;34m'GlobalArtIndex'\u001b[0m\u001b[0;34m]\u001b[0m \u001b[0;34m=\u001b[0m \u001b[0;34m(\u001b[0m\u001b[0mart_index\u001b[0m\u001b[0;34m.\u001b[0m\u001b[0mloc\u001b[0m\u001b[0;34m[\u001b[0m\u001b[0;34m:\u001b[0m\u001b[0;34m,\u001b[0m\u001b[0;34m'Global Index (USD)'\u001b[0m\u001b[0;34m]\u001b[0m\u001b[0;34m)\u001b[0m\u001b[0;34m*\u001b[0m\u001b[0;36m100\u001b[0m\u001b[0;34m\u001b[0m\u001b[0;34m\u001b[0m\u001b[0m\n\u001b[1;32m      6\u001b[0m \u001b[0;34m\u001b[0m\u001b[0m\n",
      "\u001b[0;31mNameError\u001b[0m: name 'gblart_index_df' is not defined"
     ]
    }
   ],
   "source": [
    "# Combine datasets into one daily adjusted closing USD price dataframe\n",
    "\n",
    "# first select art index of choice and scale up price by 100\n",
    "gblart_index_df\n",
    "gblart_index_df['GlobalArtIndex'] = (art_index.loc[:,'Global Index (USD)'])*100\n",
    "\n",
    "\n",
    "#benchmk_pos_list = ['SP500', 'bpi_benchmark', 'GlobalArtIndex']\n",
    "\n",
    "#test_price_df = pd.DataFrame(columns=benchmk_pos_list)\n",
    "\n",
    "\n",
    "frames = [sp500_df, bpi_df]\n",
    "\n",
    "test_price_df = pd.concat(frames, axis=1, join=\"outer\")\n",
    "\n",
    "test_price_df.rename(index={\"\":\"date\"}, inplace=True)\n",
    "test_price_df\n",
    "\n",
    "# test_price_df.set_index([\"date\", \"asset_type\"], inplace=True)\n",
    "\n",
    "#test_returns_df = test_price_df.pct_change() #\n",
    "#test_std_df = test_price_df.std()\n",
    "#test_std_df\n",
    "\n",
    "\n",
    "\n",
    "#sp500_daily_returns = sp500_df.pct_change().dropna()\n",
    "#sp500_daily_returns.head()"
   ]
  },
  {
   "cell_type": "code",
   "execution_count": null,
   "metadata": {},
   "outputs": [],
   "source": [
    "\n",
    "\n",
    "#gblart_returns_df = pd.DataFrame(columns=['GlobalArtIndex'])\n",
    "#gblart_returns_df['GlobalArtIndex'] = art_index.loc[:,'Global Index (USD)'].pct_change().dropna()\n",
    "#test_combo_plot = gblart_returns_df.hvplot.line(title=\"test combo Returns\", ylabel=\"Daily Returns\", frame_width=900, frame_height=450, rot=90)\n",
    "#test_combo_plot\n",
    "#gblart_index_df = pd.DataFrame(columns=['GlobalArtIndex'])\n",
    "\n"
   ]
  },
  {
   "cell_type": "code",
   "execution_count": 11,
   "metadata": {},
   "outputs": [],
   "source": [
    "#returns_benchmk_10yr_df = pd.DataFrame(columns=benchmk_pos_list)\n",
    "#cum_returns_benchmk_10yr_df = pd.DataFrame(columns=benchmk_pos_list)\n",
    "#std_benchmk_10yr_df = pd.DataFrame(columns=benchmk_pos_list)\n",
    "#sharpe_benchmk_10yr_df = pd.DataFrame(columns=benchmk_pos_list)\n",
    "\n",
    "#returns_eval_10yr_df = pd.DataFrame(columns=eval_pos_list)\n",
    "#cum_returns_eval_10yr_df = pd.DataFrame(columns=eval_pos_list)\n",
    "#std_eval_10yr_df = pd.DataFrame(columns=eval_pos_list)\n",
    "#sharpe_eval_10yr_df = pd.DataFrame(columns=eval_pos_list)\n",
    "\n",
    "#returns_eval_10yr_df['GlobalArtIndex'] = art_index.loc[:,'Global Index (USD)'].pct_change().dropna()\n",
    "#returns_eval_10yr_df.head()\n",
    "\n",
    "# test merge trying zero fill NaN locations to help with line plot below -- spoiler alert -- doesnt work\n",
    "#test_combo_df = sp500_daily_returns.merge(gblart_returns_df,how='left',left_index=True,right_index=True).fillna(0)\n",
    "# long head here to verify that its joining where there's valid art data\n",
    "#test_combo_df.head(100)\n"
   ]
  },
  {
   "cell_type": "code",
   "execution_count": 12,
   "metadata": {},
   "outputs": [],
   "source": [
    "#test_combo_plot = test_combo_df.hvplot.line(title=\"test combo \", ylabel=\"Returns\", frame_width=900, frame_height=450, rot=90)\n",
    "#test_combo_plot"
   ]
  },
  {
   "cell_type": "code",
   "execution_count": 13,
   "metadata": {},
   "outputs": [],
   "source": [
    "# Define Panel Visualization Functions\n",
    "# Number of plot functions right now = 5 calcs/position * 2timeframes * 6 positions = 60!!!!\n",
    "\n",
    "\n",
    "#def \n",
    "#art_index_std_bar = px.bar(art_index_std, title=\"Art Price STD 1998-2020\")\n",
    "#art_index_std_bar"
   ]
  },
  {
   "cell_type": "code",
   "execution_count": 14,
   "metadata": {},
   "outputs": [],
   "source": [
    "# Create Panel Dashboard\n",
    "art\n"
   ]
  },
  {
   "cell_type": "code",
   "execution_count": 15,
   "metadata": {},
   "outputs": [
    {
     "ename": "ValueError",
     "evalue": "date encoding field is specified without a type; the type cannot be inferred because it does not match any column in the data.",
     "output_type": "error",
     "traceback": [
      "\u001b[0;31m---------------------------------------------------------------------------\u001b[0m",
      "\u001b[0;31mValueError\u001b[0m                                Traceback (most recent call last)",
      "\u001b[0;32m/opt/anaconda3/envs/pyvizenv/lib/python3.7/site-packages/altair/vegalite/v4/api.py\u001b[0m in \u001b[0;36mto_dict\u001b[0;34m(self, *args, **kwargs)\u001b[0m\n\u001b[1;32m    371\u001b[0m \u001b[0;34m\u001b[0m\u001b[0m\n\u001b[1;32m    372\u001b[0m         \u001b[0;32mtry\u001b[0m\u001b[0;34m:\u001b[0m\u001b[0;34m\u001b[0m\u001b[0;34m\u001b[0m\u001b[0m\n\u001b[0;32m--> 373\u001b[0;31m             \u001b[0mdct\u001b[0m \u001b[0;34m=\u001b[0m \u001b[0msuper\u001b[0m\u001b[0;34m(\u001b[0m\u001b[0mTopLevelMixin\u001b[0m\u001b[0;34m,\u001b[0m \u001b[0mcopy\u001b[0m\u001b[0;34m)\u001b[0m\u001b[0;34m.\u001b[0m\u001b[0mto_dict\u001b[0m\u001b[0;34m(\u001b[0m\u001b[0;34m*\u001b[0m\u001b[0margs\u001b[0m\u001b[0;34m,\u001b[0m \u001b[0;34m**\u001b[0m\u001b[0mkwargs\u001b[0m\u001b[0;34m)\u001b[0m\u001b[0;34m\u001b[0m\u001b[0;34m\u001b[0m\u001b[0m\n\u001b[0m\u001b[1;32m    374\u001b[0m         \u001b[0;32mexcept\u001b[0m \u001b[0mjsonschema\u001b[0m\u001b[0;34m.\u001b[0m\u001b[0mValidationError\u001b[0m\u001b[0;34m:\u001b[0m\u001b[0;34m\u001b[0m\u001b[0;34m\u001b[0m\u001b[0m\n\u001b[1;32m    375\u001b[0m             \u001b[0mdct\u001b[0m \u001b[0;34m=\u001b[0m \u001b[0;32mNone\u001b[0m\u001b[0;34m\u001b[0m\u001b[0;34m\u001b[0m\u001b[0m\n",
      "\u001b[0;32m/opt/anaconda3/envs/pyvizenv/lib/python3.7/site-packages/altair/utils/schemapi.py\u001b[0m in \u001b[0;36mto_dict\u001b[0;34m(self, validate, ignore, context)\u001b[0m\n\u001b[1;32m    326\u001b[0m                 \u001b[0;34m{\u001b[0m\u001b[0mk\u001b[0m\u001b[0;34m:\u001b[0m \u001b[0mv\u001b[0m \u001b[0;32mfor\u001b[0m \u001b[0mk\u001b[0m\u001b[0;34m,\u001b[0m \u001b[0mv\u001b[0m \u001b[0;32min\u001b[0m \u001b[0mself\u001b[0m\u001b[0;34m.\u001b[0m\u001b[0m_kwds\u001b[0m\u001b[0;34m.\u001b[0m\u001b[0mitems\u001b[0m\u001b[0;34m(\u001b[0m\u001b[0;34m)\u001b[0m \u001b[0;32mif\u001b[0m \u001b[0mk\u001b[0m \u001b[0;32mnot\u001b[0m \u001b[0;32min\u001b[0m \u001b[0mignore\u001b[0m\u001b[0;34m}\u001b[0m\u001b[0;34m,\u001b[0m\u001b[0;34m\u001b[0m\u001b[0;34m\u001b[0m\u001b[0m\n\u001b[1;32m    327\u001b[0m                 \u001b[0mvalidate\u001b[0m\u001b[0;34m=\u001b[0m\u001b[0msub_validate\u001b[0m\u001b[0;34m,\u001b[0m\u001b[0;34m\u001b[0m\u001b[0;34m\u001b[0m\u001b[0m\n\u001b[0;32m--> 328\u001b[0;31m                 \u001b[0mcontext\u001b[0m\u001b[0;34m=\u001b[0m\u001b[0mcontext\u001b[0m\u001b[0;34m,\u001b[0m\u001b[0;34m\u001b[0m\u001b[0;34m\u001b[0m\u001b[0m\n\u001b[0m\u001b[1;32m    329\u001b[0m             )\n\u001b[1;32m    330\u001b[0m         \u001b[0;32melse\u001b[0m\u001b[0;34m:\u001b[0m\u001b[0;34m\u001b[0m\u001b[0;34m\u001b[0m\u001b[0m\n",
      "\u001b[0;32m/opt/anaconda3/envs/pyvizenv/lib/python3.7/site-packages/altair/utils/schemapi.py\u001b[0m in \u001b[0;36m_todict\u001b[0;34m(obj, validate, context)\u001b[0m\n\u001b[1;32m     60\u001b[0m         return {\n\u001b[1;32m     61\u001b[0m             \u001b[0mk\u001b[0m\u001b[0;34m:\u001b[0m \u001b[0m_todict\u001b[0m\u001b[0;34m(\u001b[0m\u001b[0mv\u001b[0m\u001b[0;34m,\u001b[0m \u001b[0mvalidate\u001b[0m\u001b[0;34m,\u001b[0m \u001b[0mcontext\u001b[0m\u001b[0;34m)\u001b[0m\u001b[0;34m\u001b[0m\u001b[0;34m\u001b[0m\u001b[0m\n\u001b[0;32m---> 62\u001b[0;31m             \u001b[0;32mfor\u001b[0m \u001b[0mk\u001b[0m\u001b[0;34m,\u001b[0m \u001b[0mv\u001b[0m \u001b[0;32min\u001b[0m \u001b[0mobj\u001b[0m\u001b[0;34m.\u001b[0m\u001b[0mitems\u001b[0m\u001b[0;34m(\u001b[0m\u001b[0;34m)\u001b[0m\u001b[0;34m\u001b[0m\u001b[0;34m\u001b[0m\u001b[0m\n\u001b[0m\u001b[1;32m     63\u001b[0m             \u001b[0;32mif\u001b[0m \u001b[0mv\u001b[0m \u001b[0;32mis\u001b[0m \u001b[0;32mnot\u001b[0m \u001b[0mUndefined\u001b[0m\u001b[0;34m\u001b[0m\u001b[0;34m\u001b[0m\u001b[0m\n\u001b[1;32m     64\u001b[0m         }\n",
      "\u001b[0;32m/opt/anaconda3/envs/pyvizenv/lib/python3.7/site-packages/altair/utils/schemapi.py\u001b[0m in \u001b[0;36m<dictcomp>\u001b[0;34m(.0)\u001b[0m\n\u001b[1;32m     61\u001b[0m             \u001b[0mk\u001b[0m\u001b[0;34m:\u001b[0m \u001b[0m_todict\u001b[0m\u001b[0;34m(\u001b[0m\u001b[0mv\u001b[0m\u001b[0;34m,\u001b[0m \u001b[0mvalidate\u001b[0m\u001b[0;34m,\u001b[0m \u001b[0mcontext\u001b[0m\u001b[0;34m)\u001b[0m\u001b[0;34m\u001b[0m\u001b[0;34m\u001b[0m\u001b[0m\n\u001b[1;32m     62\u001b[0m             \u001b[0;32mfor\u001b[0m \u001b[0mk\u001b[0m\u001b[0;34m,\u001b[0m \u001b[0mv\u001b[0m \u001b[0;32min\u001b[0m \u001b[0mobj\u001b[0m\u001b[0;34m.\u001b[0m\u001b[0mitems\u001b[0m\u001b[0;34m(\u001b[0m\u001b[0;34m)\u001b[0m\u001b[0;34m\u001b[0m\u001b[0;34m\u001b[0m\u001b[0m\n\u001b[0;32m---> 63\u001b[0;31m             \u001b[0;32mif\u001b[0m \u001b[0mv\u001b[0m \u001b[0;32mis\u001b[0m \u001b[0;32mnot\u001b[0m \u001b[0mUndefined\u001b[0m\u001b[0;34m\u001b[0m\u001b[0;34m\u001b[0m\u001b[0m\n\u001b[0m\u001b[1;32m     64\u001b[0m         }\n\u001b[1;32m     65\u001b[0m     \u001b[0;32melif\u001b[0m \u001b[0mhasattr\u001b[0m\u001b[0;34m(\u001b[0m\u001b[0mobj\u001b[0m\u001b[0;34m,\u001b[0m \u001b[0;34m\"to_dict\"\u001b[0m\u001b[0;34m)\u001b[0m\u001b[0;34m:\u001b[0m\u001b[0;34m\u001b[0m\u001b[0;34m\u001b[0m\u001b[0m\n",
      "\u001b[0;32m/opt/anaconda3/envs/pyvizenv/lib/python3.7/site-packages/altair/utils/schemapi.py\u001b[0m in \u001b[0;36m_todict\u001b[0;34m(obj, validate, context)\u001b[0m\n\u001b[1;32m     54\u001b[0m     \u001b[0;34m\"\"\"Convert an object to a dict representation.\"\"\"\u001b[0m\u001b[0;34m\u001b[0m\u001b[0;34m\u001b[0m\u001b[0m\n\u001b[1;32m     55\u001b[0m     \u001b[0;32mif\u001b[0m \u001b[0misinstance\u001b[0m\u001b[0;34m(\u001b[0m\u001b[0mobj\u001b[0m\u001b[0;34m,\u001b[0m \u001b[0mSchemaBase\u001b[0m\u001b[0;34m)\u001b[0m\u001b[0;34m:\u001b[0m\u001b[0;34m\u001b[0m\u001b[0;34m\u001b[0m\u001b[0m\n\u001b[0;32m---> 56\u001b[0;31m         \u001b[0;32mreturn\u001b[0m \u001b[0mobj\u001b[0m\u001b[0;34m.\u001b[0m\u001b[0mto_dict\u001b[0m\u001b[0;34m(\u001b[0m\u001b[0mvalidate\u001b[0m\u001b[0;34m=\u001b[0m\u001b[0mvalidate\u001b[0m\u001b[0;34m,\u001b[0m \u001b[0mcontext\u001b[0m\u001b[0;34m=\u001b[0m\u001b[0mcontext\u001b[0m\u001b[0;34m)\u001b[0m\u001b[0;34m\u001b[0m\u001b[0;34m\u001b[0m\u001b[0m\n\u001b[0m\u001b[1;32m     57\u001b[0m     \u001b[0;32melif\u001b[0m \u001b[0misinstance\u001b[0m\u001b[0;34m(\u001b[0m\u001b[0mobj\u001b[0m\u001b[0;34m,\u001b[0m \u001b[0;34m(\u001b[0m\u001b[0mlist\u001b[0m\u001b[0;34m,\u001b[0m \u001b[0mtuple\u001b[0m\u001b[0;34m,\u001b[0m \u001b[0mnp\u001b[0m\u001b[0;34m.\u001b[0m\u001b[0mndarray\u001b[0m\u001b[0;34m)\u001b[0m\u001b[0;34m)\u001b[0m\u001b[0;34m:\u001b[0m\u001b[0;34m\u001b[0m\u001b[0;34m\u001b[0m\u001b[0m\n\u001b[1;32m     58\u001b[0m         \u001b[0;32mreturn\u001b[0m \u001b[0;34m[\u001b[0m\u001b[0m_todict\u001b[0m\u001b[0;34m(\u001b[0m\u001b[0mv\u001b[0m\u001b[0;34m,\u001b[0m \u001b[0mvalidate\u001b[0m\u001b[0;34m,\u001b[0m \u001b[0mcontext\u001b[0m\u001b[0;34m)\u001b[0m \u001b[0;32mfor\u001b[0m \u001b[0mv\u001b[0m \u001b[0;32min\u001b[0m \u001b[0mobj\u001b[0m\u001b[0;34m]\u001b[0m\u001b[0;34m\u001b[0m\u001b[0;34m\u001b[0m\u001b[0m\n",
      "\u001b[0;32m/opt/anaconda3/envs/pyvizenv/lib/python3.7/site-packages/altair/utils/schemapi.py\u001b[0m in \u001b[0;36mto_dict\u001b[0;34m(self, validate, ignore, context)\u001b[0m\n\u001b[1;32m    326\u001b[0m                 \u001b[0;34m{\u001b[0m\u001b[0mk\u001b[0m\u001b[0;34m:\u001b[0m \u001b[0mv\u001b[0m \u001b[0;32mfor\u001b[0m \u001b[0mk\u001b[0m\u001b[0;34m,\u001b[0m \u001b[0mv\u001b[0m \u001b[0;32min\u001b[0m \u001b[0mself\u001b[0m\u001b[0;34m.\u001b[0m\u001b[0m_kwds\u001b[0m\u001b[0;34m.\u001b[0m\u001b[0mitems\u001b[0m\u001b[0;34m(\u001b[0m\u001b[0;34m)\u001b[0m \u001b[0;32mif\u001b[0m \u001b[0mk\u001b[0m \u001b[0;32mnot\u001b[0m \u001b[0;32min\u001b[0m \u001b[0mignore\u001b[0m\u001b[0;34m}\u001b[0m\u001b[0;34m,\u001b[0m\u001b[0;34m\u001b[0m\u001b[0;34m\u001b[0m\u001b[0m\n\u001b[1;32m    327\u001b[0m                 \u001b[0mvalidate\u001b[0m\u001b[0;34m=\u001b[0m\u001b[0msub_validate\u001b[0m\u001b[0;34m,\u001b[0m\u001b[0;34m\u001b[0m\u001b[0;34m\u001b[0m\u001b[0m\n\u001b[0;32m--> 328\u001b[0;31m                 \u001b[0mcontext\u001b[0m\u001b[0;34m=\u001b[0m\u001b[0mcontext\u001b[0m\u001b[0;34m,\u001b[0m\u001b[0;34m\u001b[0m\u001b[0;34m\u001b[0m\u001b[0m\n\u001b[0m\u001b[1;32m    329\u001b[0m             )\n\u001b[1;32m    330\u001b[0m         \u001b[0;32melse\u001b[0m\u001b[0;34m:\u001b[0m\u001b[0;34m\u001b[0m\u001b[0;34m\u001b[0m\u001b[0m\n",
      "\u001b[0;32m/opt/anaconda3/envs/pyvizenv/lib/python3.7/site-packages/altair/utils/schemapi.py\u001b[0m in \u001b[0;36m_todict\u001b[0;34m(obj, validate, context)\u001b[0m\n\u001b[1;32m     60\u001b[0m         return {\n\u001b[1;32m     61\u001b[0m             \u001b[0mk\u001b[0m\u001b[0;34m:\u001b[0m \u001b[0m_todict\u001b[0m\u001b[0;34m(\u001b[0m\u001b[0mv\u001b[0m\u001b[0;34m,\u001b[0m \u001b[0mvalidate\u001b[0m\u001b[0;34m,\u001b[0m \u001b[0mcontext\u001b[0m\u001b[0;34m)\u001b[0m\u001b[0;34m\u001b[0m\u001b[0;34m\u001b[0m\u001b[0m\n\u001b[0;32m---> 62\u001b[0;31m             \u001b[0;32mfor\u001b[0m \u001b[0mk\u001b[0m\u001b[0;34m,\u001b[0m \u001b[0mv\u001b[0m \u001b[0;32min\u001b[0m \u001b[0mobj\u001b[0m\u001b[0;34m.\u001b[0m\u001b[0mitems\u001b[0m\u001b[0;34m(\u001b[0m\u001b[0;34m)\u001b[0m\u001b[0;34m\u001b[0m\u001b[0;34m\u001b[0m\u001b[0m\n\u001b[0m\u001b[1;32m     63\u001b[0m             \u001b[0;32mif\u001b[0m \u001b[0mv\u001b[0m \u001b[0;32mis\u001b[0m \u001b[0;32mnot\u001b[0m \u001b[0mUndefined\u001b[0m\u001b[0;34m\u001b[0m\u001b[0;34m\u001b[0m\u001b[0m\n\u001b[1;32m     64\u001b[0m         }\n",
      "\u001b[0;32m/opt/anaconda3/envs/pyvizenv/lib/python3.7/site-packages/altair/utils/schemapi.py\u001b[0m in \u001b[0;36m<dictcomp>\u001b[0;34m(.0)\u001b[0m\n\u001b[1;32m     61\u001b[0m             \u001b[0mk\u001b[0m\u001b[0;34m:\u001b[0m \u001b[0m_todict\u001b[0m\u001b[0;34m(\u001b[0m\u001b[0mv\u001b[0m\u001b[0;34m,\u001b[0m \u001b[0mvalidate\u001b[0m\u001b[0;34m,\u001b[0m \u001b[0mcontext\u001b[0m\u001b[0;34m)\u001b[0m\u001b[0;34m\u001b[0m\u001b[0;34m\u001b[0m\u001b[0m\n\u001b[1;32m     62\u001b[0m             \u001b[0;32mfor\u001b[0m \u001b[0mk\u001b[0m\u001b[0;34m,\u001b[0m \u001b[0mv\u001b[0m \u001b[0;32min\u001b[0m \u001b[0mobj\u001b[0m\u001b[0;34m.\u001b[0m\u001b[0mitems\u001b[0m\u001b[0;34m(\u001b[0m\u001b[0;34m)\u001b[0m\u001b[0;34m\u001b[0m\u001b[0;34m\u001b[0m\u001b[0m\n\u001b[0;32m---> 63\u001b[0;31m             \u001b[0;32mif\u001b[0m \u001b[0mv\u001b[0m \u001b[0;32mis\u001b[0m \u001b[0;32mnot\u001b[0m \u001b[0mUndefined\u001b[0m\u001b[0;34m\u001b[0m\u001b[0;34m\u001b[0m\u001b[0m\n\u001b[0m\u001b[1;32m     64\u001b[0m         }\n\u001b[1;32m     65\u001b[0m     \u001b[0;32melif\u001b[0m \u001b[0mhasattr\u001b[0m\u001b[0;34m(\u001b[0m\u001b[0mobj\u001b[0m\u001b[0;34m,\u001b[0m \u001b[0;34m\"to_dict\"\u001b[0m\u001b[0;34m)\u001b[0m\u001b[0;34m:\u001b[0m\u001b[0;34m\u001b[0m\u001b[0;34m\u001b[0m\u001b[0m\n",
      "\u001b[0;32m/opt/anaconda3/envs/pyvizenv/lib/python3.7/site-packages/altair/utils/schemapi.py\u001b[0m in \u001b[0;36m_todict\u001b[0;34m(obj, validate, context)\u001b[0m\n\u001b[1;32m     54\u001b[0m     \u001b[0;34m\"\"\"Convert an object to a dict representation.\"\"\"\u001b[0m\u001b[0;34m\u001b[0m\u001b[0;34m\u001b[0m\u001b[0m\n\u001b[1;32m     55\u001b[0m     \u001b[0;32mif\u001b[0m \u001b[0misinstance\u001b[0m\u001b[0;34m(\u001b[0m\u001b[0mobj\u001b[0m\u001b[0;34m,\u001b[0m \u001b[0mSchemaBase\u001b[0m\u001b[0;34m)\u001b[0m\u001b[0;34m:\u001b[0m\u001b[0;34m\u001b[0m\u001b[0;34m\u001b[0m\u001b[0m\n\u001b[0;32m---> 56\u001b[0;31m         \u001b[0;32mreturn\u001b[0m \u001b[0mobj\u001b[0m\u001b[0;34m.\u001b[0m\u001b[0mto_dict\u001b[0m\u001b[0;34m(\u001b[0m\u001b[0mvalidate\u001b[0m\u001b[0;34m=\u001b[0m\u001b[0mvalidate\u001b[0m\u001b[0;34m,\u001b[0m \u001b[0mcontext\u001b[0m\u001b[0;34m=\u001b[0m\u001b[0mcontext\u001b[0m\u001b[0;34m)\u001b[0m\u001b[0;34m\u001b[0m\u001b[0;34m\u001b[0m\u001b[0m\n\u001b[0m\u001b[1;32m     57\u001b[0m     \u001b[0;32melif\u001b[0m \u001b[0misinstance\u001b[0m\u001b[0;34m(\u001b[0m\u001b[0mobj\u001b[0m\u001b[0;34m,\u001b[0m \u001b[0;34m(\u001b[0m\u001b[0mlist\u001b[0m\u001b[0;34m,\u001b[0m \u001b[0mtuple\u001b[0m\u001b[0;34m,\u001b[0m \u001b[0mnp\u001b[0m\u001b[0;34m.\u001b[0m\u001b[0mndarray\u001b[0m\u001b[0;34m)\u001b[0m\u001b[0;34m)\u001b[0m\u001b[0;34m:\u001b[0m\u001b[0;34m\u001b[0m\u001b[0;34m\u001b[0m\u001b[0m\n\u001b[1;32m     58\u001b[0m         \u001b[0;32mreturn\u001b[0m \u001b[0;34m[\u001b[0m\u001b[0m_todict\u001b[0m\u001b[0;34m(\u001b[0m\u001b[0mv\u001b[0m\u001b[0;34m,\u001b[0m \u001b[0mvalidate\u001b[0m\u001b[0;34m,\u001b[0m \u001b[0mcontext\u001b[0m\u001b[0;34m)\u001b[0m \u001b[0;32mfor\u001b[0m \u001b[0mv\u001b[0m \u001b[0;32min\u001b[0m \u001b[0mobj\u001b[0m\u001b[0;34m]\u001b[0m\u001b[0;34m\u001b[0m\u001b[0;34m\u001b[0m\u001b[0m\n",
      "\u001b[0;32m/opt/anaconda3/envs/pyvizenv/lib/python3.7/site-packages/altair/vegalite/v4/schema/channels.py\u001b[0m in \u001b[0;36mto_dict\u001b[0;34m(self, validate, ignore, context)\u001b[0m\n\u001b[1;32m     40\u001b[0m                     raise ValueError(\"{} encoding field is specified without a type; \"\n\u001b[1;32m     41\u001b[0m                                      \u001b[0;34m\"the type cannot be inferred because it does not \"\u001b[0m\u001b[0;34m\u001b[0m\u001b[0;34m\u001b[0m\u001b[0m\n\u001b[0;32m---> 42\u001b[0;31m                                      \"match any column in the data.\".format(shorthand))\n\u001b[0m\u001b[1;32m     43\u001b[0m                 \u001b[0;32melse\u001b[0m\u001b[0;34m:\u001b[0m\u001b[0;34m\u001b[0m\u001b[0;34m\u001b[0m\u001b[0m\n\u001b[1;32m     44\u001b[0m                     raise ValueError(\"{} encoding field is specified without a type; \"\n",
      "\u001b[0;31mValueError\u001b[0m: date encoding field is specified without a type; the type cannot be inferred because it does not match any column in the data."
     ]
    },
    {
     "data": {
      "text/plain": [
       "alt.Chart(...)"
      ]
     },
     "execution_count": 15,
     "metadata": {},
     "output_type": "execute_result"
    }
   ],
   "source": [
    "alt.Chart(art_index).mark_line().encode(\n",
    "    x='date',\n",
    "    y='price',\n",
    ")"
   ]
  },
  {
   "cell_type": "code",
   "execution_count": null,
   "metadata": {},
   "outputs": [],
   "source": []
  }
 ],
 "metadata": {
  "kernelspec": {
   "display_name": "Python [conda env:pyvizenv] *",
   "language": "python",
   "name": "conda-env-pyvizenv-py"
  },
  "language_info": {
   "codemirror_mode": {
    "name": "ipython",
    "version": 3
   },
   "file_extension": ".py",
   "mimetype": "text/x-python",
   "name": "python",
   "nbconvert_exporter": "python",
   "pygments_lexer": "ipython3",
   "version": "3.7.7"
  }
 },
 "nbformat": 4,
 "nbformat_minor": 4
}
