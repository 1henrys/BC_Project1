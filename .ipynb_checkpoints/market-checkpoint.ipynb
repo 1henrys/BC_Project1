{
 "cells": [
  {
   "cell_type": "markdown",
   "metadata": {},
   "source": [
    "# Under Lock and Key"
   ]
  },
  {
   "cell_type": "markdown",
   "metadata": {},
   "source": [
    "You and Harold have developed a Python application that will extract historical stock data from **Quandl** for a given ticker and calculate the Sharpe ratio for that stock. So far, only you two have been using the program, but your manager now wants you to open the application up to the entire team. You know that Quandl allows API calls to be submitted without an API key, but the limit is 50 calls a day. Quandl is diligent in their rate-limiting and keeps services under lock and key.\n",
    "\n",
    "## Instructions\n",
    "\n",
    "### Import the Python `requests`, `os`, and `dotenv` libraries"
   ]
  },
  {
   "cell_type": "code",
   "execution_count": 7,
   "metadata": {},
   "outputs": [],
   "source": [
    "import pandas as pd\n",
    "import requests\n",
    "import dotenv\n",
    "import os\n",
    "import json\n",
    "from pathlib import Path\n",
    "import numpy\n",
    "%matplotlib inline\n",
    "from datetime import datetime\n",
    "import dateutil.parser"
   ]
  },
  {
   "cell_type": "markdown",
   "metadata": {},
   "source": [
    "### Use the `load_dotenv()` method from the `dotenv` package to load and export the environment variables"
   ]
  },
  {
   "cell_type": "code",
   "execution_count": 8,
   "metadata": {},
   "outputs": [
    {
     "data": {
      "text/plain": [
       "True"
      ]
     },
     "execution_count": 8,
     "metadata": {},
     "output_type": "execute_result"
    }
   ],
   "source": [
    "dotenv.load_dotenv()"
   ]
  },
  {
   "cell_type": "markdown",
   "metadata": {},
   "source": [
    "### Use the `os.getenv` function to retrieve the environment variable named `QUANDL_API_KEY`. Store as a Python variable named `api_key`"
   ]
  },
  {
   "cell_type": "code",
   "execution_count": 9,
   "metadata": {},
   "outputs": [
    {
     "data": {
      "text/plain": [
       "'&access_key=aeb304d9bd929d7fe58b03e6e6852412'"
      ]
     },
     "execution_count": 9,
     "metadata": {},
     "output_type": "execute_result"
    }
   ],
   "source": [
    "api_key = os.getenv(\"MARKETSTACK_API_KEY\")\n",
    "api_key_string = \"&access_key=\" + api_key \n",
    "api_key_string"
   ]
  },
  {
   "cell_type": "markdown",
   "metadata": {},
   "source": [
    "### Concatenate `request_url` with the `api_key` variable"
   ]
  },
  {
   "cell_type": "code",
   "execution_count": 4,
   "metadata": {},
   "outputs": [
    {
     "data": {
      "text/plain": [
       "True"
      ]
     },
     "execution_count": 4,
     "metadata": {},
     "output_type": "execute_result"
    }
   ],
   "source": [
    "dotenv.load_dotenv(dotenv.find_dotenv())"
   ]
  },
  {
   "cell_type": "code",
   "execution_count": 10,
   "metadata": {},
   "outputs": [
    {
     "data": {
      "text/plain": [
       "'https://api.marketstack.com/v1/eod?symbols=GSPC.INDX&access_key=aeb304d9bd929d7fe58b03e6e6852412&limit=3000'"
      ]
     },
     "execution_count": 10,
     "metadata": {},
     "output_type": "execute_result"
    }
   ],
   "source": [
    "#request_url = \"https://api.marketstack.com/v1/exchanges/INDX/tickers?\"\n",
    "request_url = \"https://api.marketstack.com/v1/eod?symbols=GSPC.INDX\"\n",
    "request_url = request_url + api_key_string + \"&limit=3000\" #&sort=DESC&date_from=YYYY-MM-DD&date_to=YYYY-MM-DD&offset=0\n",
    "request_url"
   ]
  },
  {
   "cell_type": "markdown",
   "metadata": {},
   "source": [
    "### Execute GET request with API key"
   ]
  },
  {
   "cell_type": "code",
   "execution_count": 11,
   "metadata": {},
   "outputs": [],
   "source": [
    "# Execute get request\n",
    "response_data = requests.get(request_url)"
   ]
  },
  {
   "cell_type": "markdown",
   "metadata": {},
   "source": [
    "### Display content to screen using the content attribute"
   ]
  },
  {
   "cell_type": "code",
   "execution_count": 12,
   "metadata": {},
   "outputs": [],
   "source": [
    "# Output data\n",
    "data = response_data.json()\n",
    "#print(json.dumps(data, indent=4))\n",
    "sp_list = data[\"data\"]"
   ]
  },
  {
   "cell_type": "code",
   "execution_count": 14,
   "metadata": {},
   "outputs": [
    {
     "name": "stdout",
     "output_type": "stream",
     "text": [
      "            date  sp500_adj_closing\n",
      "0     2020-11-02          3310.2400\n",
      "1     2020-10-30          3269.9600\n",
      "2     2020-10-29          3310.1101\n",
      "3     2020-10-28          3271.0300\n",
      "4     2020-10-27          3390.6799\n",
      "...          ...                ...\n",
      "2511  2010-11-09          1213.4000\n",
      "2512  2010-11-08          1223.2500\n",
      "2513  2010-11-05          1225.8500\n",
      "2514  2010-11-04          1221.0601\n",
      "2515  2010-11-03          1197.9600\n",
      "\n",
      "[2516 rows x 2 columns]\n"
     ]
    }
   ],
   "source": [
    "column_list = ['date', 'sp500_adj_closing']\n",
    "sp500_df = pd.DataFrame(columns=column_list)\n",
    "\n",
    "for dict in sp_list: \n",
    "    for list in dict: \n",
    "        if list == \"date\":\n",
    "            temp_date = str(dateutil.parser.parse(dict[list]).date())\n",
    "            #print(temp_date)\n",
    "        elif list == \"adj_close\":\n",
    "            temp_close = dict[list] \n",
    "            \n",
    "    new_row = {'date':temp_date, 'sp500_adj_closing':temp_close}\n",
    "    sp500_df = sp500_df.append(new_row, ignore_index=True)                 \n",
    "    \n",
    "    \n",
    "print(sp500_df)"
   ]
  },
  {
   "cell_type": "code",
   "execution_count": null,
   "metadata": {},
   "outputs": [],
   "source": []
  }
 ],
 "metadata": {
  "kernelspec": {
   "display_name": "Python 3",
   "language": "python",
   "name": "python3"
  },
  "language_info": {
   "codemirror_mode": {
    "name": "ipython",
    "version": 3
   },
   "file_extension": ".py",
   "mimetype": "text/x-python",
   "name": "python",
   "nbconvert_exporter": "python",
   "pygments_lexer": "ipython3",
   "version": "3.8.3"
  }
 },
 "nbformat": 4,
 "nbformat_minor": 4
}
